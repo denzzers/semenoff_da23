{
  "cells": [
    {
      "cell_type": "markdown",
      "source": [
        "# Анализ перспективного тарифа оператора сотовой связи"
      ],
      "metadata": {
        "id": "s4dW-wJ-SvYO"
      }
    },
    {
      "cell_type": "markdown",
      "source": [
        "## Описание проекта"
      ],
      "metadata": {
        "id": "4bn_JkUCT5xF"
      }
    },
    {
      "cell_type": "markdown",
      "source": [
        "***\n",
        "**Заказчик** - коммерческий департамент федерального оператора сотовой связи \"Мегалайн\".\n",
        "\n",
        "**Входные данные** - небольшая выборка клиентов (500 пользователей): кто они, откуда, каким тарифом пользуются, сколько звонков и сообщений каждый отправил за 2018 год.\n",
        "\n",
        "**Результаты исследования** - необходимо провести статический анализ данных поведения клиентов и сформировать вывод - какой из представленных тарифных планов `«Смарт»` и `«Ультра»`. По сформированному выводы коммерческий департамент выполнит корректировку рекламного бюджета.\n",
        "***\n",
        "**Описание тарифов**\n",
        "\n",
        "*Тариф «Смарт»*\n",
        "1. Ежемесячная плата: 550 рублей\n",
        "2. Включено 500 минут разговора, 50 сообщений и 15 Гб интернет-трафика\n",
        "3. Стоимость услуг сверх тарифного пакета:\n",
        "  - Минута разговора — 3 рубля. Количество использованных минут и мегабайтов «Мегалайн» всегда округляет вверх. Если пользователь проговорил всего 1 секунду, в тарифе засчитывается целая минута.\n",
        "  - Сообщение — 3 рубля.\n",
        "  - 1 Гб интернет-трафика — 200 рублей.\n",
        "\n",
        "*Тариф «Ультра»*\n",
        "1. Ежемесячная плата: 1950 рублей\n",
        "2. Включено 3000 минут разговора, 1000 сообщений и 30 Гб интернет-трафика\n",
        "3. Стоимость услуг сверх тарифного пакета:\n",
        "  - Минута разговора — 1 рубль;\n",
        "  - Сообщение — 1 рубль;\n",
        "  - 1 Гб интернет-трафика: 150 рублей.\n",
        "***\n",
        "**Последовательность действий**\n",
        "- Шаг 1. Изучение общей информации о данных из файла\n",
        "- Шаг 2. Подготовка данных:\n",
        "  - Привести столбцы датасетов к нужным типам.\n",
        "  - Исправить ошибки в данных.\n",
        "  - Добавить новые столбцы в датасет.\n",
        "  - Посчитать количество:\n",
        "    - сделанных звонков разговора для каждого пользователя по месяцам;\n",
        "    - израсходованных минут разговора для каждого пользователя по месяцам;\n",
        "    - отправленных сообщений по месяцам для каждого пользователя;\n",
        "    - потраченных мегабайт по месяцам для каждого пользователя.\n",
        "- Шаг 3. Анализ данных:\n",
        "  - Исследовательский анализ данных и подсчёт помесячной выручки уже есть в проекте.\n",
        "  \n",
        "    Помесячная выручка вычисляется так:\n",
        "    - отнимите бесплатный лимит от суммарного количества звонков, сообщений и интернет-трафика;\n",
        "    - остаток умножьте на значение из тарифного плана;\n",
        "    - к результату прибавьте абонентскую плату, соответствующую тарифному плану/\n",
        "    \n",
        "    Запустите ячейки этого шага, изучите код и результат. Какие выводы можно сделать из результатов этого этапа?\n",
        "- Шаг 4. Проверка гипотез:\n",
        "  - средняя выручка с пользователей тарифов `«Ультра»` и `«Смарт»` различается;\n",
        "  - средняя выручка с пользователей из Москвы отличается от выручки с пользователей других регионов/\n",
        "- Шаг 5. Общий вывод.\n",
        "***\n",
        "**Описание данных**\n",
        "  - Таблица `users` — информация о пользователях:\n",
        "    - `user_id` — уникальный идентификатор пользователя;\n",
        "    - `first_name` — имя пользователя;\n",
        "    - `last_name` — фамилия пользователя;\n",
        "    - `age` — возраст пользователя (годы);\n",
        "    - `reg_date` — дата подключения тарифа (день, месяц, год);\n",
        "    - `churn_date` — дата прекращения пользования тарифом (если значение пропущено, значит, тариф ещё действовал на момент выгрузки данных);\n",
        "    - `city` — город проживания пользователя;\n",
        "    - `tarif` — название тарифного плана.\n",
        "  - Таблица `calls` — информация о звонках:\n",
        "    - `id` — уникальный номер звонка;\n",
        "    - `call_date` — дата звонка;\n",
        "    - `duration` — длительность звонка в минутах;\n",
        "    - `user_id` — идентификатор пользователя, сделавшего звонок.\n",
        "  - Таблица `messages` — информация о сообщениях:\n",
        "    - `id` — уникальный номер звонка;\n",
        "    - `message_date` — дата сообщения;\n",
        "    - `user_id` — идентификатор пользователя, отправившего сообщение.\n",
        "  - Таблица `internet` — информация об интернет-сессиях:\n",
        "    - `id` — уникальный номер сессии;\n",
        "    - `mb_used` — объём потраченного за сессию интернет-трафика (в мегабайтах);\n",
        "    - `session_date` — дата интернет-сессии;\n",
        "    - `user_id` — идентификатор пользователя.\n",
        "  - Таблица `tariffs` — информация о тарифах:\n",
        "    - `tariff_name` — название тарифа;\n",
        "    - `rub_monthly_fee` — ежемесячная абонентская плата в рублях;\n",
        "    - `minutes_included` — количество минут разговора в месяц, включённых в абонентскую плату;\n",
        "    - `messages_included` — количество сообщений в месяц, включённых в абонентскую плату;\n",
        "    - `mb_per_month_included` — объём интернет-трафика, включённого в абонентскую плату (в мегабайтах);\n",
        "    - `rub_per_minute` — стоимость минуты разговора сверх тарифного пакета (например, если в тарифе 100 минут разговора в месяц, то со 101 минуты будет взиматься плата);\n",
        "    - `rub_per_message` — стоимость отправки сообщения сверх тарифного пакета;\n",
        "    - `rub_per_gb` — стоимость дополнительного гигабайта интернет-трафика сверх тарифного пакета (1 гигабайт = 1024 мегабайта)."
      ],
      "metadata": {
        "id": "5XsHb5b8UFbc"
      }
    },
    {
      "cell_type": "code",
      "execution_count": 1,
      "metadata": {
        "deletable": false,
        "id": "RrVHWePG_oCV",
        "colab": {
          "base_uri": "https://localhost:8080/"
        },
        "outputId": "ed22cf5c-f2f8-4465-f8fd-175b7c24e9dd"
      },
      "outputs": [
        {
          "output_type": "stream",
          "name": "stdout",
          "text": [
            "Drive already mounted at /content/drive; to attempt to forcibly remount, call drive.mount(\"/content/drive\", force_remount=True).\n"
          ]
        }
      ],
      "source": [
        "# импортируем необходимые библиотеки для работы\n",
        "import pandas as pd\n",
        "import numpy as np\n",
        "import seaborn as sns\n",
        "import matplotlib.pyplot as plt\n",
        "from scipy import stats as st\n",
        "\n",
        "pd.options.display.float_format ='{:.1f}'.format\n",
        "pd.set_option('display.max_columns', None)\n",
        "\n",
        "from google.colab import drive\n",
        "drive.mount('/content/drive')"
      ]
    },
    {
      "cell_type": "markdown",
      "metadata": {
        "deletable": false,
        "editable": false,
        "id": "NzOeQM6C_oCY"
      },
      "source": [
        "## Шаг 1. Изучение общей информации о данных из файла"
      ]
    },
    {
      "cell_type": "markdown",
      "source": [
        "Необходимо изучить данные полученные от Заказчика на корректность и полноту данных."
      ],
      "metadata": {
        "id": "pFepRwjvTvZP"
      }
    },
    {
      "cell_type": "code",
      "source": [
        "# сформируем список датасетов, предоставленных Заказчиком\n",
        "datasets_yap = [\n",
        "    '/datasets/calls.csv',\n",
        "    '/datasets/internet.csv',\n",
        "    '/datasets/messages.csv',\n",
        "    '/datasets/tariffs.csv',\n",
        "    '/datasets/users.csv'\n",
        "]"
      ],
      "metadata": {
        "id": "h2SQ8njn81Hk"
      },
      "execution_count": 2,
      "outputs": []
    },
    {
      "cell_type": "code",
      "source": [
        "# сформируем список датасетов, предоставленных Заказчиком\n",
        "datasets_local = [\n",
        "    '/content/drive/MyDrive/datasets_YaP/calls.csv',\n",
        "    '/content/drive/MyDrive/datasets_YaP/internet.csv',\n",
        "    '/content/drive/MyDrive/datasets_YaP/messages.csv',\n",
        "    '/content/drive/MyDrive/datasets_YaP/tariffs.csv',\n",
        "    '/content/drive/MyDrive/datasets_YaP/users.csv'\n",
        "]"
      ],
      "metadata": {
        "id": "I4BWxVDl95_J"
      },
      "execution_count": 3,
      "outputs": []
    },
    {
      "cell_type": "code",
      "source": [
        "# сформируем список наименования датасетов\n",
        "data_names = [\n",
        "    'calls',\n",
        "    'sessions',\n",
        "    'messages',\n",
        "    'tariffs',\n",
        "    'users'\n",
        "]"
      ],
      "metadata": {
        "id": "iMlhXtkL-oCE"
      },
      "execution_count": 4,
      "outputs": []
    },
    {
      "cell_type": "code",
      "source": [
        "# прочитаем полученные датасеты\n",
        "for i in range(len(data_names)):\n",
        "  try:\n",
        "    globals()[data_names[i]] = pd.read_csv(datasets_yap[i])\n",
        "  except:\n",
        "    globals()[data_names[i]] = pd.read_csv(datasets_local[i])"
      ],
      "metadata": {
        "id": "webSFwfS_FbT"
      },
      "execution_count": 5,
      "outputs": []
    },
    {
      "cell_type": "code",
      "source": [
        "# выведим первые пять строк датасетов и информацию о них\n",
        "data_dict = {'calls': calls, 'sessions': sessions, 'messages': messages, 'tariffs': tariffs, 'users': users}\n",
        "\n",
        "for ds_name, ds in data_dict.items():\n",
        "  print('\\n============', ds_name, '============\\n')\n",
        "  display(ds.head(5))\n",
        "  print('\\nInformation -', ds_name, '\\n')\n",
        "  print(ds.info())"
      ],
      "metadata": {
        "colab": {
          "base_uri": "https://localhost:8080/",
          "height": 1000
        },
        "id": "9eq-xZvQAkYJ",
        "outputId": "11034f43-2e24-4965-aaec-c9a3eac6f7b1"
      },
      "execution_count": 6,
      "outputs": [
        {
          "output_type": "stream",
          "name": "stdout",
          "text": [
            "\n",
            "============ calls ============\n",
            "\n"
          ]
        },
        {
          "output_type": "display_data",
          "data": {
            "text/plain": [
              "       id   call_date  duration  user_id\n",
              "0  1000_0  2018-07-25       0.0     1000\n",
              "1  1000_1  2018-08-17       0.0     1000\n",
              "2  1000_2  2018-06-11       2.9     1000\n",
              "3  1000_3  2018-09-21      13.8     1000\n",
              "4  1000_4  2018-12-15       5.2     1000"
            ],
            "text/html": [
              "\n",
              "  <div id=\"df-ca41f2e3-d559-4af5-a17c-14f4b01c23b7\" class=\"colab-df-container\">\n",
              "    <div>\n",
              "<style scoped>\n",
              "    .dataframe tbody tr th:only-of-type {\n",
              "        vertical-align: middle;\n",
              "    }\n",
              "\n",
              "    .dataframe tbody tr th {\n",
              "        vertical-align: top;\n",
              "    }\n",
              "\n",
              "    .dataframe thead th {\n",
              "        text-align: right;\n",
              "    }\n",
              "</style>\n",
              "<table border=\"1\" class=\"dataframe\">\n",
              "  <thead>\n",
              "    <tr style=\"text-align: right;\">\n",
              "      <th></th>\n",
              "      <th>id</th>\n",
              "      <th>call_date</th>\n",
              "      <th>duration</th>\n",
              "      <th>user_id</th>\n",
              "    </tr>\n",
              "  </thead>\n",
              "  <tbody>\n",
              "    <tr>\n",
              "      <th>0</th>\n",
              "      <td>1000_0</td>\n",
              "      <td>2018-07-25</td>\n",
              "      <td>0.0</td>\n",
              "      <td>1000</td>\n",
              "    </tr>\n",
              "    <tr>\n",
              "      <th>1</th>\n",
              "      <td>1000_1</td>\n",
              "      <td>2018-08-17</td>\n",
              "      <td>0.0</td>\n",
              "      <td>1000</td>\n",
              "    </tr>\n",
              "    <tr>\n",
              "      <th>2</th>\n",
              "      <td>1000_2</td>\n",
              "      <td>2018-06-11</td>\n",
              "      <td>2.9</td>\n",
              "      <td>1000</td>\n",
              "    </tr>\n",
              "    <tr>\n",
              "      <th>3</th>\n",
              "      <td>1000_3</td>\n",
              "      <td>2018-09-21</td>\n",
              "      <td>13.8</td>\n",
              "      <td>1000</td>\n",
              "    </tr>\n",
              "    <tr>\n",
              "      <th>4</th>\n",
              "      <td>1000_4</td>\n",
              "      <td>2018-12-15</td>\n",
              "      <td>5.2</td>\n",
              "      <td>1000</td>\n",
              "    </tr>\n",
              "  </tbody>\n",
              "</table>\n",
              "</div>\n",
              "    <div class=\"colab-df-buttons\">\n",
              "\n",
              "  <div class=\"colab-df-container\">\n",
              "    <button class=\"colab-df-convert\" onclick=\"convertToInteractive('df-ca41f2e3-d559-4af5-a17c-14f4b01c23b7')\"\n",
              "            title=\"Convert this dataframe to an interactive table.\"\n",
              "            style=\"display:none;\">\n",
              "\n",
              "  <svg xmlns=\"http://www.w3.org/2000/svg\" height=\"24px\" viewBox=\"0 -960 960 960\">\n",
              "    <path d=\"M120-120v-720h720v720H120Zm60-500h600v-160H180v160Zm220 220h160v-160H400v160Zm0 220h160v-160H400v160ZM180-400h160v-160H180v160Zm440 0h160v-160H620v160ZM180-180h160v-160H180v160Zm440 0h160v-160H620v160Z\"/>\n",
              "  </svg>\n",
              "    </button>\n",
              "\n",
              "  <style>\n",
              "    .colab-df-container {\n",
              "      display:flex;\n",
              "      gap: 12px;\n",
              "    }\n",
              "\n",
              "    .colab-df-convert {\n",
              "      background-color: #E8F0FE;\n",
              "      border: none;\n",
              "      border-radius: 50%;\n",
              "      cursor: pointer;\n",
              "      display: none;\n",
              "      fill: #1967D2;\n",
              "      height: 32px;\n",
              "      padding: 0 0 0 0;\n",
              "      width: 32px;\n",
              "    }\n",
              "\n",
              "    .colab-df-convert:hover {\n",
              "      background-color: #E2EBFA;\n",
              "      box-shadow: 0px 1px 2px rgba(60, 64, 67, 0.3), 0px 1px 3px 1px rgba(60, 64, 67, 0.15);\n",
              "      fill: #174EA6;\n",
              "    }\n",
              "\n",
              "    .colab-df-buttons div {\n",
              "      margin-bottom: 4px;\n",
              "    }\n",
              "\n",
              "    [theme=dark] .colab-df-convert {\n",
              "      background-color: #3B4455;\n",
              "      fill: #D2E3FC;\n",
              "    }\n",
              "\n",
              "    [theme=dark] .colab-df-convert:hover {\n",
              "      background-color: #434B5C;\n",
              "      box-shadow: 0px 1px 3px 1px rgba(0, 0, 0, 0.15);\n",
              "      filter: drop-shadow(0px 1px 2px rgba(0, 0, 0, 0.3));\n",
              "      fill: #FFFFFF;\n",
              "    }\n",
              "  </style>\n",
              "\n",
              "    <script>\n",
              "      const buttonEl =\n",
              "        document.querySelector('#df-ca41f2e3-d559-4af5-a17c-14f4b01c23b7 button.colab-df-convert');\n",
              "      buttonEl.style.display =\n",
              "        google.colab.kernel.accessAllowed ? 'block' : 'none';\n",
              "\n",
              "      async function convertToInteractive(key) {\n",
              "        const element = document.querySelector('#df-ca41f2e3-d559-4af5-a17c-14f4b01c23b7');\n",
              "        const dataTable =\n",
              "          await google.colab.kernel.invokeFunction('convertToInteractive',\n",
              "                                                    [key], {});\n",
              "        if (!dataTable) return;\n",
              "\n",
              "        const docLinkHtml = 'Like what you see? Visit the ' +\n",
              "          '<a target=\"_blank\" href=https://colab.research.google.com/notebooks/data_table.ipynb>data table notebook</a>'\n",
              "          + ' to learn more about interactive tables.';\n",
              "        element.innerHTML = '';\n",
              "        dataTable['output_type'] = 'display_data';\n",
              "        await google.colab.output.renderOutput(dataTable, element);\n",
              "        const docLink = document.createElement('div');\n",
              "        docLink.innerHTML = docLinkHtml;\n",
              "        element.appendChild(docLink);\n",
              "      }\n",
              "    </script>\n",
              "  </div>\n",
              "\n",
              "\n",
              "<div id=\"df-43f20d9f-a7ea-4737-adc0-f272bea9cc69\">\n",
              "  <button class=\"colab-df-quickchart\" onclick=\"quickchart('df-43f20d9f-a7ea-4737-adc0-f272bea9cc69')\"\n",
              "            title=\"Suggest charts.\"\n",
              "            style=\"display:none;\">\n",
              "\n",
              "<svg xmlns=\"http://www.w3.org/2000/svg\" height=\"24px\"viewBox=\"0 0 24 24\"\n",
              "     width=\"24px\">\n",
              "    <g>\n",
              "        <path d=\"M19 3H5c-1.1 0-2 .9-2 2v14c0 1.1.9 2 2 2h14c1.1 0 2-.9 2-2V5c0-1.1-.9-2-2-2zM9 17H7v-7h2v7zm4 0h-2V7h2v10zm4 0h-2v-4h2v4z\"/>\n",
              "    </g>\n",
              "</svg>\n",
              "  </button>\n",
              "\n",
              "<style>\n",
              "  .colab-df-quickchart {\n",
              "      --bg-color: #E8F0FE;\n",
              "      --fill-color: #1967D2;\n",
              "      --hover-bg-color: #E2EBFA;\n",
              "      --hover-fill-color: #174EA6;\n",
              "      --disabled-fill-color: #AAA;\n",
              "      --disabled-bg-color: #DDD;\n",
              "  }\n",
              "\n",
              "  [theme=dark] .colab-df-quickchart {\n",
              "      --bg-color: #3B4455;\n",
              "      --fill-color: #D2E3FC;\n",
              "      --hover-bg-color: #434B5C;\n",
              "      --hover-fill-color: #FFFFFF;\n",
              "      --disabled-bg-color: #3B4455;\n",
              "      --disabled-fill-color: #666;\n",
              "  }\n",
              "\n",
              "  .colab-df-quickchart {\n",
              "    background-color: var(--bg-color);\n",
              "    border: none;\n",
              "    border-radius: 50%;\n",
              "    cursor: pointer;\n",
              "    display: none;\n",
              "    fill: var(--fill-color);\n",
              "    height: 32px;\n",
              "    padding: 0;\n",
              "    width: 32px;\n",
              "  }\n",
              "\n",
              "  .colab-df-quickchart:hover {\n",
              "    background-color: var(--hover-bg-color);\n",
              "    box-shadow: 0 1px 2px rgba(60, 64, 67, 0.3), 0 1px 3px 1px rgba(60, 64, 67, 0.15);\n",
              "    fill: var(--button-hover-fill-color);\n",
              "  }\n",
              "\n",
              "  .colab-df-quickchart-complete:disabled,\n",
              "  .colab-df-quickchart-complete:disabled:hover {\n",
              "    background-color: var(--disabled-bg-color);\n",
              "    fill: var(--disabled-fill-color);\n",
              "    box-shadow: none;\n",
              "  }\n",
              "\n",
              "  .colab-df-spinner {\n",
              "    border: 2px solid var(--fill-color);\n",
              "    border-color: transparent;\n",
              "    border-bottom-color: var(--fill-color);\n",
              "    animation:\n",
              "      spin 1s steps(1) infinite;\n",
              "  }\n",
              "\n",
              "  @keyframes spin {\n",
              "    0% {\n",
              "      border-color: transparent;\n",
              "      border-bottom-color: var(--fill-color);\n",
              "      border-left-color: var(--fill-color);\n",
              "    }\n",
              "    20% {\n",
              "      border-color: transparent;\n",
              "      border-left-color: var(--fill-color);\n",
              "      border-top-color: var(--fill-color);\n",
              "    }\n",
              "    30% {\n",
              "      border-color: transparent;\n",
              "      border-left-color: var(--fill-color);\n",
              "      border-top-color: var(--fill-color);\n",
              "      border-right-color: var(--fill-color);\n",
              "    }\n",
              "    40% {\n",
              "      border-color: transparent;\n",
              "      border-right-color: var(--fill-color);\n",
              "      border-top-color: var(--fill-color);\n",
              "    }\n",
              "    60% {\n",
              "      border-color: transparent;\n",
              "      border-right-color: var(--fill-color);\n",
              "    }\n",
              "    80% {\n",
              "      border-color: transparent;\n",
              "      border-right-color: var(--fill-color);\n",
              "      border-bottom-color: var(--fill-color);\n",
              "    }\n",
              "    90% {\n",
              "      border-color: transparent;\n",
              "      border-bottom-color: var(--fill-color);\n",
              "    }\n",
              "  }\n",
              "</style>\n",
              "\n",
              "  <script>\n",
              "    async function quickchart(key) {\n",
              "      const quickchartButtonEl =\n",
              "        document.querySelector('#' + key + ' button');\n",
              "      quickchartButtonEl.disabled = true;  // To prevent multiple clicks.\n",
              "      quickchartButtonEl.classList.add('colab-df-spinner');\n",
              "      try {\n",
              "        const charts = await google.colab.kernel.invokeFunction(\n",
              "            'suggestCharts', [key], {});\n",
              "      } catch (error) {\n",
              "        console.error('Error during call to suggestCharts:', error);\n",
              "      }\n",
              "      quickchartButtonEl.classList.remove('colab-df-spinner');\n",
              "      quickchartButtonEl.classList.add('colab-df-quickchart-complete');\n",
              "    }\n",
              "    (() => {\n",
              "      let quickchartButtonEl =\n",
              "        document.querySelector('#df-43f20d9f-a7ea-4737-adc0-f272bea9cc69 button');\n",
              "      quickchartButtonEl.style.display =\n",
              "        google.colab.kernel.accessAllowed ? 'block' : 'none';\n",
              "    })();\n",
              "  </script>\n",
              "</div>\n",
              "    </div>\n",
              "  </div>\n"
            ]
          },
          "metadata": {}
        },
        {
          "output_type": "stream",
          "name": "stdout",
          "text": [
            "\n",
            "Information - calls \n",
            "\n",
            "<class 'pandas.core.frame.DataFrame'>\n",
            "RangeIndex: 202607 entries, 0 to 202606\n",
            "Data columns (total 4 columns):\n",
            " #   Column     Non-Null Count   Dtype  \n",
            "---  ------     --------------   -----  \n",
            " 0   id         202607 non-null  object \n",
            " 1   call_date  202607 non-null  object \n",
            " 2   duration   202607 non-null  float64\n",
            " 3   user_id    202607 non-null  int64  \n",
            "dtypes: float64(1), int64(1), object(2)\n",
            "memory usage: 6.2+ MB\n",
            "None\n",
            "\n",
            "============ sessions ============\n",
            "\n"
          ]
        },
        {
          "output_type": "display_data",
          "data": {
            "text/plain": [
              "   Unnamed: 0      id  mb_used session_date  user_id\n",
              "0           0  1000_0    113.0   2018-11-25     1000\n",
              "1           1  1000_1   1052.8   2018-09-07     1000\n",
              "2           2  1000_2   1197.3   2018-06-25     1000\n",
              "3           3  1000_3    550.3   2018-08-22     1000\n",
              "4           4  1000_4    302.6   2018-09-24     1000"
            ],
            "text/html": [
              "\n",
              "  <div id=\"df-e2d0d079-e672-4acd-a73b-33b8fd825878\" class=\"colab-df-container\">\n",
              "    <div>\n",
              "<style scoped>\n",
              "    .dataframe tbody tr th:only-of-type {\n",
              "        vertical-align: middle;\n",
              "    }\n",
              "\n",
              "    .dataframe tbody tr th {\n",
              "        vertical-align: top;\n",
              "    }\n",
              "\n",
              "    .dataframe thead th {\n",
              "        text-align: right;\n",
              "    }\n",
              "</style>\n",
              "<table border=\"1\" class=\"dataframe\">\n",
              "  <thead>\n",
              "    <tr style=\"text-align: right;\">\n",
              "      <th></th>\n",
              "      <th>Unnamed: 0</th>\n",
              "      <th>id</th>\n",
              "      <th>mb_used</th>\n",
              "      <th>session_date</th>\n",
              "      <th>user_id</th>\n",
              "    </tr>\n",
              "  </thead>\n",
              "  <tbody>\n",
              "    <tr>\n",
              "      <th>0</th>\n",
              "      <td>0</td>\n",
              "      <td>1000_0</td>\n",
              "      <td>113.0</td>\n",
              "      <td>2018-11-25</td>\n",
              "      <td>1000</td>\n",
              "    </tr>\n",
              "    <tr>\n",
              "      <th>1</th>\n",
              "      <td>1</td>\n",
              "      <td>1000_1</td>\n",
              "      <td>1052.8</td>\n",
              "      <td>2018-09-07</td>\n",
              "      <td>1000</td>\n",
              "    </tr>\n",
              "    <tr>\n",
              "      <th>2</th>\n",
              "      <td>2</td>\n",
              "      <td>1000_2</td>\n",
              "      <td>1197.3</td>\n",
              "      <td>2018-06-25</td>\n",
              "      <td>1000</td>\n",
              "    </tr>\n",
              "    <tr>\n",
              "      <th>3</th>\n",
              "      <td>3</td>\n",
              "      <td>1000_3</td>\n",
              "      <td>550.3</td>\n",
              "      <td>2018-08-22</td>\n",
              "      <td>1000</td>\n",
              "    </tr>\n",
              "    <tr>\n",
              "      <th>4</th>\n",
              "      <td>4</td>\n",
              "      <td>1000_4</td>\n",
              "      <td>302.6</td>\n",
              "      <td>2018-09-24</td>\n",
              "      <td>1000</td>\n",
              "    </tr>\n",
              "  </tbody>\n",
              "</table>\n",
              "</div>\n",
              "    <div class=\"colab-df-buttons\">\n",
              "\n",
              "  <div class=\"colab-df-container\">\n",
              "    <button class=\"colab-df-convert\" onclick=\"convertToInteractive('df-e2d0d079-e672-4acd-a73b-33b8fd825878')\"\n",
              "            title=\"Convert this dataframe to an interactive table.\"\n",
              "            style=\"display:none;\">\n",
              "\n",
              "  <svg xmlns=\"http://www.w3.org/2000/svg\" height=\"24px\" viewBox=\"0 -960 960 960\">\n",
              "    <path d=\"M120-120v-720h720v720H120Zm60-500h600v-160H180v160Zm220 220h160v-160H400v160Zm0 220h160v-160H400v160ZM180-400h160v-160H180v160Zm440 0h160v-160H620v160ZM180-180h160v-160H180v160Zm440 0h160v-160H620v160Z\"/>\n",
              "  </svg>\n",
              "    </button>\n",
              "\n",
              "  <style>\n",
              "    .colab-df-container {\n",
              "      display:flex;\n",
              "      gap: 12px;\n",
              "    }\n",
              "\n",
              "    .colab-df-convert {\n",
              "      background-color: #E8F0FE;\n",
              "      border: none;\n",
              "      border-radius: 50%;\n",
              "      cursor: pointer;\n",
              "      display: none;\n",
              "      fill: #1967D2;\n",
              "      height: 32px;\n",
              "      padding: 0 0 0 0;\n",
              "      width: 32px;\n",
              "    }\n",
              "\n",
              "    .colab-df-convert:hover {\n",
              "      background-color: #E2EBFA;\n",
              "      box-shadow: 0px 1px 2px rgba(60, 64, 67, 0.3), 0px 1px 3px 1px rgba(60, 64, 67, 0.15);\n",
              "      fill: #174EA6;\n",
              "    }\n",
              "\n",
              "    .colab-df-buttons div {\n",
              "      margin-bottom: 4px;\n",
              "    }\n",
              "\n",
              "    [theme=dark] .colab-df-convert {\n",
              "      background-color: #3B4455;\n",
              "      fill: #D2E3FC;\n",
              "    }\n",
              "\n",
              "    [theme=dark] .colab-df-convert:hover {\n",
              "      background-color: #434B5C;\n",
              "      box-shadow: 0px 1px 3px 1px rgba(0, 0, 0, 0.15);\n",
              "      filter: drop-shadow(0px 1px 2px rgba(0, 0, 0, 0.3));\n",
              "      fill: #FFFFFF;\n",
              "    }\n",
              "  </style>\n",
              "\n",
              "    <script>\n",
              "      const buttonEl =\n",
              "        document.querySelector('#df-e2d0d079-e672-4acd-a73b-33b8fd825878 button.colab-df-convert');\n",
              "      buttonEl.style.display =\n",
              "        google.colab.kernel.accessAllowed ? 'block' : 'none';\n",
              "\n",
              "      async function convertToInteractive(key) {\n",
              "        const element = document.querySelector('#df-e2d0d079-e672-4acd-a73b-33b8fd825878');\n",
              "        const dataTable =\n",
              "          await google.colab.kernel.invokeFunction('convertToInteractive',\n",
              "                                                    [key], {});\n",
              "        if (!dataTable) return;\n",
              "\n",
              "        const docLinkHtml = 'Like what you see? Visit the ' +\n",
              "          '<a target=\"_blank\" href=https://colab.research.google.com/notebooks/data_table.ipynb>data table notebook</a>'\n",
              "          + ' to learn more about interactive tables.';\n",
              "        element.innerHTML = '';\n",
              "        dataTable['output_type'] = 'display_data';\n",
              "        await google.colab.output.renderOutput(dataTable, element);\n",
              "        const docLink = document.createElement('div');\n",
              "        docLink.innerHTML = docLinkHtml;\n",
              "        element.appendChild(docLink);\n",
              "      }\n",
              "    </script>\n",
              "  </div>\n",
              "\n",
              "\n",
              "<div id=\"df-ae5b3212-e152-493d-8dfb-08e6475d7b07\">\n",
              "  <button class=\"colab-df-quickchart\" onclick=\"quickchart('df-ae5b3212-e152-493d-8dfb-08e6475d7b07')\"\n",
              "            title=\"Suggest charts.\"\n",
              "            style=\"display:none;\">\n",
              "\n",
              "<svg xmlns=\"http://www.w3.org/2000/svg\" height=\"24px\"viewBox=\"0 0 24 24\"\n",
              "     width=\"24px\">\n",
              "    <g>\n",
              "        <path d=\"M19 3H5c-1.1 0-2 .9-2 2v14c0 1.1.9 2 2 2h14c1.1 0 2-.9 2-2V5c0-1.1-.9-2-2-2zM9 17H7v-7h2v7zm4 0h-2V7h2v10zm4 0h-2v-4h2v4z\"/>\n",
              "    </g>\n",
              "</svg>\n",
              "  </button>\n",
              "\n",
              "<style>\n",
              "  .colab-df-quickchart {\n",
              "      --bg-color: #E8F0FE;\n",
              "      --fill-color: #1967D2;\n",
              "      --hover-bg-color: #E2EBFA;\n",
              "      --hover-fill-color: #174EA6;\n",
              "      --disabled-fill-color: #AAA;\n",
              "      --disabled-bg-color: #DDD;\n",
              "  }\n",
              "\n",
              "  [theme=dark] .colab-df-quickchart {\n",
              "      --bg-color: #3B4455;\n",
              "      --fill-color: #D2E3FC;\n",
              "      --hover-bg-color: #434B5C;\n",
              "      --hover-fill-color: #FFFFFF;\n",
              "      --disabled-bg-color: #3B4455;\n",
              "      --disabled-fill-color: #666;\n",
              "  }\n",
              "\n",
              "  .colab-df-quickchart {\n",
              "    background-color: var(--bg-color);\n",
              "    border: none;\n",
              "    border-radius: 50%;\n",
              "    cursor: pointer;\n",
              "    display: none;\n",
              "    fill: var(--fill-color);\n",
              "    height: 32px;\n",
              "    padding: 0;\n",
              "    width: 32px;\n",
              "  }\n",
              "\n",
              "  .colab-df-quickchart:hover {\n",
              "    background-color: var(--hover-bg-color);\n",
              "    box-shadow: 0 1px 2px rgba(60, 64, 67, 0.3), 0 1px 3px 1px rgba(60, 64, 67, 0.15);\n",
              "    fill: var(--button-hover-fill-color);\n",
              "  }\n",
              "\n",
              "  .colab-df-quickchart-complete:disabled,\n",
              "  .colab-df-quickchart-complete:disabled:hover {\n",
              "    background-color: var(--disabled-bg-color);\n",
              "    fill: var(--disabled-fill-color);\n",
              "    box-shadow: none;\n",
              "  }\n",
              "\n",
              "  .colab-df-spinner {\n",
              "    border: 2px solid var(--fill-color);\n",
              "    border-color: transparent;\n",
              "    border-bottom-color: var(--fill-color);\n",
              "    animation:\n",
              "      spin 1s steps(1) infinite;\n",
              "  }\n",
              "\n",
              "  @keyframes spin {\n",
              "    0% {\n",
              "      border-color: transparent;\n",
              "      border-bottom-color: var(--fill-color);\n",
              "      border-left-color: var(--fill-color);\n",
              "    }\n",
              "    20% {\n",
              "      border-color: transparent;\n",
              "      border-left-color: var(--fill-color);\n",
              "      border-top-color: var(--fill-color);\n",
              "    }\n",
              "    30% {\n",
              "      border-color: transparent;\n",
              "      border-left-color: var(--fill-color);\n",
              "      border-top-color: var(--fill-color);\n",
              "      border-right-color: var(--fill-color);\n",
              "    }\n",
              "    40% {\n",
              "      border-color: transparent;\n",
              "      border-right-color: var(--fill-color);\n",
              "      border-top-color: var(--fill-color);\n",
              "    }\n",
              "    60% {\n",
              "      border-color: transparent;\n",
              "      border-right-color: var(--fill-color);\n",
              "    }\n",
              "    80% {\n",
              "      border-color: transparent;\n",
              "      border-right-color: var(--fill-color);\n",
              "      border-bottom-color: var(--fill-color);\n",
              "    }\n",
              "    90% {\n",
              "      border-color: transparent;\n",
              "      border-bottom-color: var(--fill-color);\n",
              "    }\n",
              "  }\n",
              "</style>\n",
              "\n",
              "  <script>\n",
              "    async function quickchart(key) {\n",
              "      const quickchartButtonEl =\n",
              "        document.querySelector('#' + key + ' button');\n",
              "      quickchartButtonEl.disabled = true;  // To prevent multiple clicks.\n",
              "      quickchartButtonEl.classList.add('colab-df-spinner');\n",
              "      try {\n",
              "        const charts = await google.colab.kernel.invokeFunction(\n",
              "            'suggestCharts', [key], {});\n",
              "      } catch (error) {\n",
              "        console.error('Error during call to suggestCharts:', error);\n",
              "      }\n",
              "      quickchartButtonEl.classList.remove('colab-df-spinner');\n",
              "      quickchartButtonEl.classList.add('colab-df-quickchart-complete');\n",
              "    }\n",
              "    (() => {\n",
              "      let quickchartButtonEl =\n",
              "        document.querySelector('#df-ae5b3212-e152-493d-8dfb-08e6475d7b07 button');\n",
              "      quickchartButtonEl.style.display =\n",
              "        google.colab.kernel.accessAllowed ? 'block' : 'none';\n",
              "    })();\n",
              "  </script>\n",
              "</div>\n",
              "    </div>\n",
              "  </div>\n"
            ]
          },
          "metadata": {}
        },
        {
          "output_type": "stream",
          "name": "stdout",
          "text": [
            "\n",
            "Information - sessions \n",
            "\n",
            "<class 'pandas.core.frame.DataFrame'>\n",
            "RangeIndex: 149396 entries, 0 to 149395\n",
            "Data columns (total 5 columns):\n",
            " #   Column        Non-Null Count   Dtype  \n",
            "---  ------        --------------   -----  \n",
            " 0   Unnamed: 0    149396 non-null  int64  \n",
            " 1   id            149396 non-null  object \n",
            " 2   mb_used       149396 non-null  float64\n",
            " 3   session_date  149396 non-null  object \n",
            " 4   user_id       149396 non-null  int64  \n",
            "dtypes: float64(1), int64(2), object(2)\n",
            "memory usage: 5.7+ MB\n",
            "None\n",
            "\n",
            "============ messages ============\n",
            "\n"
          ]
        },
        {
          "output_type": "display_data",
          "data": {
            "text/plain": [
              "       id message_date  user_id\n",
              "0  1000_0   2018-06-27     1000\n",
              "1  1000_1   2018-10-08     1000\n",
              "2  1000_2   2018-08-04     1000\n",
              "3  1000_3   2018-06-16     1000\n",
              "4  1000_4   2018-12-05     1000"
            ],
            "text/html": [
              "\n",
              "  <div id=\"df-c82b9bc3-7594-4520-b626-657c846b8096\" class=\"colab-df-container\">\n",
              "    <div>\n",
              "<style scoped>\n",
              "    .dataframe tbody tr th:only-of-type {\n",
              "        vertical-align: middle;\n",
              "    }\n",
              "\n",
              "    .dataframe tbody tr th {\n",
              "        vertical-align: top;\n",
              "    }\n",
              "\n",
              "    .dataframe thead th {\n",
              "        text-align: right;\n",
              "    }\n",
              "</style>\n",
              "<table border=\"1\" class=\"dataframe\">\n",
              "  <thead>\n",
              "    <tr style=\"text-align: right;\">\n",
              "      <th></th>\n",
              "      <th>id</th>\n",
              "      <th>message_date</th>\n",
              "      <th>user_id</th>\n",
              "    </tr>\n",
              "  </thead>\n",
              "  <tbody>\n",
              "    <tr>\n",
              "      <th>0</th>\n",
              "      <td>1000_0</td>\n",
              "      <td>2018-06-27</td>\n",
              "      <td>1000</td>\n",
              "    </tr>\n",
              "    <tr>\n",
              "      <th>1</th>\n",
              "      <td>1000_1</td>\n",
              "      <td>2018-10-08</td>\n",
              "      <td>1000</td>\n",
              "    </tr>\n",
              "    <tr>\n",
              "      <th>2</th>\n",
              "      <td>1000_2</td>\n",
              "      <td>2018-08-04</td>\n",
              "      <td>1000</td>\n",
              "    </tr>\n",
              "    <tr>\n",
              "      <th>3</th>\n",
              "      <td>1000_3</td>\n",
              "      <td>2018-06-16</td>\n",
              "      <td>1000</td>\n",
              "    </tr>\n",
              "    <tr>\n",
              "      <th>4</th>\n",
              "      <td>1000_4</td>\n",
              "      <td>2018-12-05</td>\n",
              "      <td>1000</td>\n",
              "    </tr>\n",
              "  </tbody>\n",
              "</table>\n",
              "</div>\n",
              "    <div class=\"colab-df-buttons\">\n",
              "\n",
              "  <div class=\"colab-df-container\">\n",
              "    <button class=\"colab-df-convert\" onclick=\"convertToInteractive('df-c82b9bc3-7594-4520-b626-657c846b8096')\"\n",
              "            title=\"Convert this dataframe to an interactive table.\"\n",
              "            style=\"display:none;\">\n",
              "\n",
              "  <svg xmlns=\"http://www.w3.org/2000/svg\" height=\"24px\" viewBox=\"0 -960 960 960\">\n",
              "    <path d=\"M120-120v-720h720v720H120Zm60-500h600v-160H180v160Zm220 220h160v-160H400v160Zm0 220h160v-160H400v160ZM180-400h160v-160H180v160Zm440 0h160v-160H620v160ZM180-180h160v-160H180v160Zm440 0h160v-160H620v160Z\"/>\n",
              "  </svg>\n",
              "    </button>\n",
              "\n",
              "  <style>\n",
              "    .colab-df-container {\n",
              "      display:flex;\n",
              "      gap: 12px;\n",
              "    }\n",
              "\n",
              "    .colab-df-convert {\n",
              "      background-color: #E8F0FE;\n",
              "      border: none;\n",
              "      border-radius: 50%;\n",
              "      cursor: pointer;\n",
              "      display: none;\n",
              "      fill: #1967D2;\n",
              "      height: 32px;\n",
              "      padding: 0 0 0 0;\n",
              "      width: 32px;\n",
              "    }\n",
              "\n",
              "    .colab-df-convert:hover {\n",
              "      background-color: #E2EBFA;\n",
              "      box-shadow: 0px 1px 2px rgba(60, 64, 67, 0.3), 0px 1px 3px 1px rgba(60, 64, 67, 0.15);\n",
              "      fill: #174EA6;\n",
              "    }\n",
              "\n",
              "    .colab-df-buttons div {\n",
              "      margin-bottom: 4px;\n",
              "    }\n",
              "\n",
              "    [theme=dark] .colab-df-convert {\n",
              "      background-color: #3B4455;\n",
              "      fill: #D2E3FC;\n",
              "    }\n",
              "\n",
              "    [theme=dark] .colab-df-convert:hover {\n",
              "      background-color: #434B5C;\n",
              "      box-shadow: 0px 1px 3px 1px rgba(0, 0, 0, 0.15);\n",
              "      filter: drop-shadow(0px 1px 2px rgba(0, 0, 0, 0.3));\n",
              "      fill: #FFFFFF;\n",
              "    }\n",
              "  </style>\n",
              "\n",
              "    <script>\n",
              "      const buttonEl =\n",
              "        document.querySelector('#df-c82b9bc3-7594-4520-b626-657c846b8096 button.colab-df-convert');\n",
              "      buttonEl.style.display =\n",
              "        google.colab.kernel.accessAllowed ? 'block' : 'none';\n",
              "\n",
              "      async function convertToInteractive(key) {\n",
              "        const element = document.querySelector('#df-c82b9bc3-7594-4520-b626-657c846b8096');\n",
              "        const dataTable =\n",
              "          await google.colab.kernel.invokeFunction('convertToInteractive',\n",
              "                                                    [key], {});\n",
              "        if (!dataTable) return;\n",
              "\n",
              "        const docLinkHtml = 'Like what you see? Visit the ' +\n",
              "          '<a target=\"_blank\" href=https://colab.research.google.com/notebooks/data_table.ipynb>data table notebook</a>'\n",
              "          + ' to learn more about interactive tables.';\n",
              "        element.innerHTML = '';\n",
              "        dataTable['output_type'] = 'display_data';\n",
              "        await google.colab.output.renderOutput(dataTable, element);\n",
              "        const docLink = document.createElement('div');\n",
              "        docLink.innerHTML = docLinkHtml;\n",
              "        element.appendChild(docLink);\n",
              "      }\n",
              "    </script>\n",
              "  </div>\n",
              "\n",
              "\n",
              "<div id=\"df-cac87b5a-625a-45a2-965a-642f2bad9772\">\n",
              "  <button class=\"colab-df-quickchart\" onclick=\"quickchart('df-cac87b5a-625a-45a2-965a-642f2bad9772')\"\n",
              "            title=\"Suggest charts.\"\n",
              "            style=\"display:none;\">\n",
              "\n",
              "<svg xmlns=\"http://www.w3.org/2000/svg\" height=\"24px\"viewBox=\"0 0 24 24\"\n",
              "     width=\"24px\">\n",
              "    <g>\n",
              "        <path d=\"M19 3H5c-1.1 0-2 .9-2 2v14c0 1.1.9 2 2 2h14c1.1 0 2-.9 2-2V5c0-1.1-.9-2-2-2zM9 17H7v-7h2v7zm4 0h-2V7h2v10zm4 0h-2v-4h2v4z\"/>\n",
              "    </g>\n",
              "</svg>\n",
              "  </button>\n",
              "\n",
              "<style>\n",
              "  .colab-df-quickchart {\n",
              "      --bg-color: #E8F0FE;\n",
              "      --fill-color: #1967D2;\n",
              "      --hover-bg-color: #E2EBFA;\n",
              "      --hover-fill-color: #174EA6;\n",
              "      --disabled-fill-color: #AAA;\n",
              "      --disabled-bg-color: #DDD;\n",
              "  }\n",
              "\n",
              "  [theme=dark] .colab-df-quickchart {\n",
              "      --bg-color: #3B4455;\n",
              "      --fill-color: #D2E3FC;\n",
              "      --hover-bg-color: #434B5C;\n",
              "      --hover-fill-color: #FFFFFF;\n",
              "      --disabled-bg-color: #3B4455;\n",
              "      --disabled-fill-color: #666;\n",
              "  }\n",
              "\n",
              "  .colab-df-quickchart {\n",
              "    background-color: var(--bg-color);\n",
              "    border: none;\n",
              "    border-radius: 50%;\n",
              "    cursor: pointer;\n",
              "    display: none;\n",
              "    fill: var(--fill-color);\n",
              "    height: 32px;\n",
              "    padding: 0;\n",
              "    width: 32px;\n",
              "  }\n",
              "\n",
              "  .colab-df-quickchart:hover {\n",
              "    background-color: var(--hover-bg-color);\n",
              "    box-shadow: 0 1px 2px rgba(60, 64, 67, 0.3), 0 1px 3px 1px rgba(60, 64, 67, 0.15);\n",
              "    fill: var(--button-hover-fill-color);\n",
              "  }\n",
              "\n",
              "  .colab-df-quickchart-complete:disabled,\n",
              "  .colab-df-quickchart-complete:disabled:hover {\n",
              "    background-color: var(--disabled-bg-color);\n",
              "    fill: var(--disabled-fill-color);\n",
              "    box-shadow: none;\n",
              "  }\n",
              "\n",
              "  .colab-df-spinner {\n",
              "    border: 2px solid var(--fill-color);\n",
              "    border-color: transparent;\n",
              "    border-bottom-color: var(--fill-color);\n",
              "    animation:\n",
              "      spin 1s steps(1) infinite;\n",
              "  }\n",
              "\n",
              "  @keyframes spin {\n",
              "    0% {\n",
              "      border-color: transparent;\n",
              "      border-bottom-color: var(--fill-color);\n",
              "      border-left-color: var(--fill-color);\n",
              "    }\n",
              "    20% {\n",
              "      border-color: transparent;\n",
              "      border-left-color: var(--fill-color);\n",
              "      border-top-color: var(--fill-color);\n",
              "    }\n",
              "    30% {\n",
              "      border-color: transparent;\n",
              "      border-left-color: var(--fill-color);\n",
              "      border-top-color: var(--fill-color);\n",
              "      border-right-color: var(--fill-color);\n",
              "    }\n",
              "    40% {\n",
              "      border-color: transparent;\n",
              "      border-right-color: var(--fill-color);\n",
              "      border-top-color: var(--fill-color);\n",
              "    }\n",
              "    60% {\n",
              "      border-color: transparent;\n",
              "      border-right-color: var(--fill-color);\n",
              "    }\n",
              "    80% {\n",
              "      border-color: transparent;\n",
              "      border-right-color: var(--fill-color);\n",
              "      border-bottom-color: var(--fill-color);\n",
              "    }\n",
              "    90% {\n",
              "      border-color: transparent;\n",
              "      border-bottom-color: var(--fill-color);\n",
              "    }\n",
              "  }\n",
              "</style>\n",
              "\n",
              "  <script>\n",
              "    async function quickchart(key) {\n",
              "      const quickchartButtonEl =\n",
              "        document.querySelector('#' + key + ' button');\n",
              "      quickchartButtonEl.disabled = true;  // To prevent multiple clicks.\n",
              "      quickchartButtonEl.classList.add('colab-df-spinner');\n",
              "      try {\n",
              "        const charts = await google.colab.kernel.invokeFunction(\n",
              "            'suggestCharts', [key], {});\n",
              "      } catch (error) {\n",
              "        console.error('Error during call to suggestCharts:', error);\n",
              "      }\n",
              "      quickchartButtonEl.classList.remove('colab-df-spinner');\n",
              "      quickchartButtonEl.classList.add('colab-df-quickchart-complete');\n",
              "    }\n",
              "    (() => {\n",
              "      let quickchartButtonEl =\n",
              "        document.querySelector('#df-cac87b5a-625a-45a2-965a-642f2bad9772 button');\n",
              "      quickchartButtonEl.style.display =\n",
              "        google.colab.kernel.accessAllowed ? 'block' : 'none';\n",
              "    })();\n",
              "  </script>\n",
              "</div>\n",
              "    </div>\n",
              "  </div>\n"
            ]
          },
          "metadata": {}
        },
        {
          "output_type": "stream",
          "name": "stdout",
          "text": [
            "\n",
            "Information - messages \n",
            "\n",
            "<class 'pandas.core.frame.DataFrame'>\n",
            "RangeIndex: 123036 entries, 0 to 123035\n",
            "Data columns (total 3 columns):\n",
            " #   Column        Non-Null Count   Dtype \n",
            "---  ------        --------------   ----- \n",
            " 0   id            123036 non-null  object\n",
            " 1   message_date  123036 non-null  object\n",
            " 2   user_id       123036 non-null  int64 \n",
            "dtypes: int64(1), object(2)\n",
            "memory usage: 2.8+ MB\n",
            "None\n",
            "\n",
            "============ tariffs ============\n",
            "\n"
          ]
        },
        {
          "output_type": "display_data",
          "data": {
            "text/plain": [
              "   messages_included  mb_per_month_included  minutes_included  \\\n",
              "0                 50                  15360               500   \n",
              "1               1000                  30720              3000   \n",
              "\n",
              "   rub_monthly_fee  rub_per_gb  rub_per_message  rub_per_minute tariff_name  \n",
              "0              550         200                3               3       smart  \n",
              "1             1950         150                1               1       ultra  "
            ],
            "text/html": [
              "\n",
              "  <div id=\"df-a36dded0-b68f-449d-9de9-1ad7e7113191\" class=\"colab-df-container\">\n",
              "    <div>\n",
              "<style scoped>\n",
              "    .dataframe tbody tr th:only-of-type {\n",
              "        vertical-align: middle;\n",
              "    }\n",
              "\n",
              "    .dataframe tbody tr th {\n",
              "        vertical-align: top;\n",
              "    }\n",
              "\n",
              "    .dataframe thead th {\n",
              "        text-align: right;\n",
              "    }\n",
              "</style>\n",
              "<table border=\"1\" class=\"dataframe\">\n",
              "  <thead>\n",
              "    <tr style=\"text-align: right;\">\n",
              "      <th></th>\n",
              "      <th>messages_included</th>\n",
              "      <th>mb_per_month_included</th>\n",
              "      <th>minutes_included</th>\n",
              "      <th>rub_monthly_fee</th>\n",
              "      <th>rub_per_gb</th>\n",
              "      <th>rub_per_message</th>\n",
              "      <th>rub_per_minute</th>\n",
              "      <th>tariff_name</th>\n",
              "    </tr>\n",
              "  </thead>\n",
              "  <tbody>\n",
              "    <tr>\n",
              "      <th>0</th>\n",
              "      <td>50</td>\n",
              "      <td>15360</td>\n",
              "      <td>500</td>\n",
              "      <td>550</td>\n",
              "      <td>200</td>\n",
              "      <td>3</td>\n",
              "      <td>3</td>\n",
              "      <td>smart</td>\n",
              "    </tr>\n",
              "    <tr>\n",
              "      <th>1</th>\n",
              "      <td>1000</td>\n",
              "      <td>30720</td>\n",
              "      <td>3000</td>\n",
              "      <td>1950</td>\n",
              "      <td>150</td>\n",
              "      <td>1</td>\n",
              "      <td>1</td>\n",
              "      <td>ultra</td>\n",
              "    </tr>\n",
              "  </tbody>\n",
              "</table>\n",
              "</div>\n",
              "    <div class=\"colab-df-buttons\">\n",
              "\n",
              "  <div class=\"colab-df-container\">\n",
              "    <button class=\"colab-df-convert\" onclick=\"convertToInteractive('df-a36dded0-b68f-449d-9de9-1ad7e7113191')\"\n",
              "            title=\"Convert this dataframe to an interactive table.\"\n",
              "            style=\"display:none;\">\n",
              "\n",
              "  <svg xmlns=\"http://www.w3.org/2000/svg\" height=\"24px\" viewBox=\"0 -960 960 960\">\n",
              "    <path d=\"M120-120v-720h720v720H120Zm60-500h600v-160H180v160Zm220 220h160v-160H400v160Zm0 220h160v-160H400v160ZM180-400h160v-160H180v160Zm440 0h160v-160H620v160ZM180-180h160v-160H180v160Zm440 0h160v-160H620v160Z\"/>\n",
              "  </svg>\n",
              "    </button>\n",
              "\n",
              "  <style>\n",
              "    .colab-df-container {\n",
              "      display:flex;\n",
              "      gap: 12px;\n",
              "    }\n",
              "\n",
              "    .colab-df-convert {\n",
              "      background-color: #E8F0FE;\n",
              "      border: none;\n",
              "      border-radius: 50%;\n",
              "      cursor: pointer;\n",
              "      display: none;\n",
              "      fill: #1967D2;\n",
              "      height: 32px;\n",
              "      padding: 0 0 0 0;\n",
              "      width: 32px;\n",
              "    }\n",
              "\n",
              "    .colab-df-convert:hover {\n",
              "      background-color: #E2EBFA;\n",
              "      box-shadow: 0px 1px 2px rgba(60, 64, 67, 0.3), 0px 1px 3px 1px rgba(60, 64, 67, 0.15);\n",
              "      fill: #174EA6;\n",
              "    }\n",
              "\n",
              "    .colab-df-buttons div {\n",
              "      margin-bottom: 4px;\n",
              "    }\n",
              "\n",
              "    [theme=dark] .colab-df-convert {\n",
              "      background-color: #3B4455;\n",
              "      fill: #D2E3FC;\n",
              "    }\n",
              "\n",
              "    [theme=dark] .colab-df-convert:hover {\n",
              "      background-color: #434B5C;\n",
              "      box-shadow: 0px 1px 3px 1px rgba(0, 0, 0, 0.15);\n",
              "      filter: drop-shadow(0px 1px 2px rgba(0, 0, 0, 0.3));\n",
              "      fill: #FFFFFF;\n",
              "    }\n",
              "  </style>\n",
              "\n",
              "    <script>\n",
              "      const buttonEl =\n",
              "        document.querySelector('#df-a36dded0-b68f-449d-9de9-1ad7e7113191 button.colab-df-convert');\n",
              "      buttonEl.style.display =\n",
              "        google.colab.kernel.accessAllowed ? 'block' : 'none';\n",
              "\n",
              "      async function convertToInteractive(key) {\n",
              "        const element = document.querySelector('#df-a36dded0-b68f-449d-9de9-1ad7e7113191');\n",
              "        const dataTable =\n",
              "          await google.colab.kernel.invokeFunction('convertToInteractive',\n",
              "                                                    [key], {});\n",
              "        if (!dataTable) return;\n",
              "\n",
              "        const docLinkHtml = 'Like what you see? Visit the ' +\n",
              "          '<a target=\"_blank\" href=https://colab.research.google.com/notebooks/data_table.ipynb>data table notebook</a>'\n",
              "          + ' to learn more about interactive tables.';\n",
              "        element.innerHTML = '';\n",
              "        dataTable['output_type'] = 'display_data';\n",
              "        await google.colab.output.renderOutput(dataTable, element);\n",
              "        const docLink = document.createElement('div');\n",
              "        docLink.innerHTML = docLinkHtml;\n",
              "        element.appendChild(docLink);\n",
              "      }\n",
              "    </script>\n",
              "  </div>\n",
              "\n",
              "\n",
              "<div id=\"df-58e14edf-7054-4ac0-b367-3a5205ab7960\">\n",
              "  <button class=\"colab-df-quickchart\" onclick=\"quickchart('df-58e14edf-7054-4ac0-b367-3a5205ab7960')\"\n",
              "            title=\"Suggest charts.\"\n",
              "            style=\"display:none;\">\n",
              "\n",
              "<svg xmlns=\"http://www.w3.org/2000/svg\" height=\"24px\"viewBox=\"0 0 24 24\"\n",
              "     width=\"24px\">\n",
              "    <g>\n",
              "        <path d=\"M19 3H5c-1.1 0-2 .9-2 2v14c0 1.1.9 2 2 2h14c1.1 0 2-.9 2-2V5c0-1.1-.9-2-2-2zM9 17H7v-7h2v7zm4 0h-2V7h2v10zm4 0h-2v-4h2v4z\"/>\n",
              "    </g>\n",
              "</svg>\n",
              "  </button>\n",
              "\n",
              "<style>\n",
              "  .colab-df-quickchart {\n",
              "      --bg-color: #E8F0FE;\n",
              "      --fill-color: #1967D2;\n",
              "      --hover-bg-color: #E2EBFA;\n",
              "      --hover-fill-color: #174EA6;\n",
              "      --disabled-fill-color: #AAA;\n",
              "      --disabled-bg-color: #DDD;\n",
              "  }\n",
              "\n",
              "  [theme=dark] .colab-df-quickchart {\n",
              "      --bg-color: #3B4455;\n",
              "      --fill-color: #D2E3FC;\n",
              "      --hover-bg-color: #434B5C;\n",
              "      --hover-fill-color: #FFFFFF;\n",
              "      --disabled-bg-color: #3B4455;\n",
              "      --disabled-fill-color: #666;\n",
              "  }\n",
              "\n",
              "  .colab-df-quickchart {\n",
              "    background-color: var(--bg-color);\n",
              "    border: none;\n",
              "    border-radius: 50%;\n",
              "    cursor: pointer;\n",
              "    display: none;\n",
              "    fill: var(--fill-color);\n",
              "    height: 32px;\n",
              "    padding: 0;\n",
              "    width: 32px;\n",
              "  }\n",
              "\n",
              "  .colab-df-quickchart:hover {\n",
              "    background-color: var(--hover-bg-color);\n",
              "    box-shadow: 0 1px 2px rgba(60, 64, 67, 0.3), 0 1px 3px 1px rgba(60, 64, 67, 0.15);\n",
              "    fill: var(--button-hover-fill-color);\n",
              "  }\n",
              "\n",
              "  .colab-df-quickchart-complete:disabled,\n",
              "  .colab-df-quickchart-complete:disabled:hover {\n",
              "    background-color: var(--disabled-bg-color);\n",
              "    fill: var(--disabled-fill-color);\n",
              "    box-shadow: none;\n",
              "  }\n",
              "\n",
              "  .colab-df-spinner {\n",
              "    border: 2px solid var(--fill-color);\n",
              "    border-color: transparent;\n",
              "    border-bottom-color: var(--fill-color);\n",
              "    animation:\n",
              "      spin 1s steps(1) infinite;\n",
              "  }\n",
              "\n",
              "  @keyframes spin {\n",
              "    0% {\n",
              "      border-color: transparent;\n",
              "      border-bottom-color: var(--fill-color);\n",
              "      border-left-color: var(--fill-color);\n",
              "    }\n",
              "    20% {\n",
              "      border-color: transparent;\n",
              "      border-left-color: var(--fill-color);\n",
              "      border-top-color: var(--fill-color);\n",
              "    }\n",
              "    30% {\n",
              "      border-color: transparent;\n",
              "      border-left-color: var(--fill-color);\n",
              "      border-top-color: var(--fill-color);\n",
              "      border-right-color: var(--fill-color);\n",
              "    }\n",
              "    40% {\n",
              "      border-color: transparent;\n",
              "      border-right-color: var(--fill-color);\n",
              "      border-top-color: var(--fill-color);\n",
              "    }\n",
              "    60% {\n",
              "      border-color: transparent;\n",
              "      border-right-color: var(--fill-color);\n",
              "    }\n",
              "    80% {\n",
              "      border-color: transparent;\n",
              "      border-right-color: var(--fill-color);\n",
              "      border-bottom-color: var(--fill-color);\n",
              "    }\n",
              "    90% {\n",
              "      border-color: transparent;\n",
              "      border-bottom-color: var(--fill-color);\n",
              "    }\n",
              "  }\n",
              "</style>\n",
              "\n",
              "  <script>\n",
              "    async function quickchart(key) {\n",
              "      const quickchartButtonEl =\n",
              "        document.querySelector('#' + key + ' button');\n",
              "      quickchartButtonEl.disabled = true;  // To prevent multiple clicks.\n",
              "      quickchartButtonEl.classList.add('colab-df-spinner');\n",
              "      try {\n",
              "        const charts = await google.colab.kernel.invokeFunction(\n",
              "            'suggestCharts', [key], {});\n",
              "      } catch (error) {\n",
              "        console.error('Error during call to suggestCharts:', error);\n",
              "      }\n",
              "      quickchartButtonEl.classList.remove('colab-df-spinner');\n",
              "      quickchartButtonEl.classList.add('colab-df-quickchart-complete');\n",
              "    }\n",
              "    (() => {\n",
              "      let quickchartButtonEl =\n",
              "        document.querySelector('#df-58e14edf-7054-4ac0-b367-3a5205ab7960 button');\n",
              "      quickchartButtonEl.style.display =\n",
              "        google.colab.kernel.accessAllowed ? 'block' : 'none';\n",
              "    })();\n",
              "  </script>\n",
              "</div>\n",
              "    </div>\n",
              "  </div>\n"
            ]
          },
          "metadata": {}
        },
        {
          "output_type": "stream",
          "name": "stdout",
          "text": [
            "\n",
            "Information - tariffs \n",
            "\n",
            "<class 'pandas.core.frame.DataFrame'>\n",
            "RangeIndex: 2 entries, 0 to 1\n",
            "Data columns (total 8 columns):\n",
            " #   Column                 Non-Null Count  Dtype \n",
            "---  ------                 --------------  ----- \n",
            " 0   messages_included      2 non-null      int64 \n",
            " 1   mb_per_month_included  2 non-null      int64 \n",
            " 2   minutes_included       2 non-null      int64 \n",
            " 3   rub_monthly_fee        2 non-null      int64 \n",
            " 4   rub_per_gb             2 non-null      int64 \n",
            " 5   rub_per_message        2 non-null      int64 \n",
            " 6   rub_per_minute         2 non-null      int64 \n",
            " 7   tariff_name            2 non-null      object\n",
            "dtypes: int64(7), object(1)\n",
            "memory usage: 256.0+ bytes\n",
            "None\n",
            "\n",
            "============ users ============\n",
            "\n"
          ]
        },
        {
          "output_type": "display_data",
          "data": {
            "text/plain": [
              "   user_id  age churn_date         city first_name  last_name    reg_date  \\\n",
              "0     1000   52        NaN    Краснодар     Рафаил  Верещагин  2018-05-25   \n",
              "1     1001   41        NaN       Москва       Иван       Ежов  2018-11-01   \n",
              "2     1002   59        NaN  Стерлитамак    Евгений  Абрамович  2018-06-17   \n",
              "3     1003   23        NaN       Москва      Белла   Белякова  2018-08-17   \n",
              "4     1004   68        NaN  Новокузнецк    Татьяна   Авдеенко  2018-05-14   \n",
              "\n",
              "  tariff  \n",
              "0  ultra  \n",
              "1  smart  \n",
              "2  smart  \n",
              "3  ultra  \n",
              "4  ultra  "
            ],
            "text/html": [
              "\n",
              "  <div id=\"df-e765b472-191e-460a-a053-bf7957f6d033\" class=\"colab-df-container\">\n",
              "    <div>\n",
              "<style scoped>\n",
              "    .dataframe tbody tr th:only-of-type {\n",
              "        vertical-align: middle;\n",
              "    }\n",
              "\n",
              "    .dataframe tbody tr th {\n",
              "        vertical-align: top;\n",
              "    }\n",
              "\n",
              "    .dataframe thead th {\n",
              "        text-align: right;\n",
              "    }\n",
              "</style>\n",
              "<table border=\"1\" class=\"dataframe\">\n",
              "  <thead>\n",
              "    <tr style=\"text-align: right;\">\n",
              "      <th></th>\n",
              "      <th>user_id</th>\n",
              "      <th>age</th>\n",
              "      <th>churn_date</th>\n",
              "      <th>city</th>\n",
              "      <th>first_name</th>\n",
              "      <th>last_name</th>\n",
              "      <th>reg_date</th>\n",
              "      <th>tariff</th>\n",
              "    </tr>\n",
              "  </thead>\n",
              "  <tbody>\n",
              "    <tr>\n",
              "      <th>0</th>\n",
              "      <td>1000</td>\n",
              "      <td>52</td>\n",
              "      <td>NaN</td>\n",
              "      <td>Краснодар</td>\n",
              "      <td>Рафаил</td>\n",
              "      <td>Верещагин</td>\n",
              "      <td>2018-05-25</td>\n",
              "      <td>ultra</td>\n",
              "    </tr>\n",
              "    <tr>\n",
              "      <th>1</th>\n",
              "      <td>1001</td>\n",
              "      <td>41</td>\n",
              "      <td>NaN</td>\n",
              "      <td>Москва</td>\n",
              "      <td>Иван</td>\n",
              "      <td>Ежов</td>\n",
              "      <td>2018-11-01</td>\n",
              "      <td>smart</td>\n",
              "    </tr>\n",
              "    <tr>\n",
              "      <th>2</th>\n",
              "      <td>1002</td>\n",
              "      <td>59</td>\n",
              "      <td>NaN</td>\n",
              "      <td>Стерлитамак</td>\n",
              "      <td>Евгений</td>\n",
              "      <td>Абрамович</td>\n",
              "      <td>2018-06-17</td>\n",
              "      <td>smart</td>\n",
              "    </tr>\n",
              "    <tr>\n",
              "      <th>3</th>\n",
              "      <td>1003</td>\n",
              "      <td>23</td>\n",
              "      <td>NaN</td>\n",
              "      <td>Москва</td>\n",
              "      <td>Белла</td>\n",
              "      <td>Белякова</td>\n",
              "      <td>2018-08-17</td>\n",
              "      <td>ultra</td>\n",
              "    </tr>\n",
              "    <tr>\n",
              "      <th>4</th>\n",
              "      <td>1004</td>\n",
              "      <td>68</td>\n",
              "      <td>NaN</td>\n",
              "      <td>Новокузнецк</td>\n",
              "      <td>Татьяна</td>\n",
              "      <td>Авдеенко</td>\n",
              "      <td>2018-05-14</td>\n",
              "      <td>ultra</td>\n",
              "    </tr>\n",
              "  </tbody>\n",
              "</table>\n",
              "</div>\n",
              "    <div class=\"colab-df-buttons\">\n",
              "\n",
              "  <div class=\"colab-df-container\">\n",
              "    <button class=\"colab-df-convert\" onclick=\"convertToInteractive('df-e765b472-191e-460a-a053-bf7957f6d033')\"\n",
              "            title=\"Convert this dataframe to an interactive table.\"\n",
              "            style=\"display:none;\">\n",
              "\n",
              "  <svg xmlns=\"http://www.w3.org/2000/svg\" height=\"24px\" viewBox=\"0 -960 960 960\">\n",
              "    <path d=\"M120-120v-720h720v720H120Zm60-500h600v-160H180v160Zm220 220h160v-160H400v160Zm0 220h160v-160H400v160ZM180-400h160v-160H180v160Zm440 0h160v-160H620v160ZM180-180h160v-160H180v160Zm440 0h160v-160H620v160Z\"/>\n",
              "  </svg>\n",
              "    </button>\n",
              "\n",
              "  <style>\n",
              "    .colab-df-container {\n",
              "      display:flex;\n",
              "      gap: 12px;\n",
              "    }\n",
              "\n",
              "    .colab-df-convert {\n",
              "      background-color: #E8F0FE;\n",
              "      border: none;\n",
              "      border-radius: 50%;\n",
              "      cursor: pointer;\n",
              "      display: none;\n",
              "      fill: #1967D2;\n",
              "      height: 32px;\n",
              "      padding: 0 0 0 0;\n",
              "      width: 32px;\n",
              "    }\n",
              "\n",
              "    .colab-df-convert:hover {\n",
              "      background-color: #E2EBFA;\n",
              "      box-shadow: 0px 1px 2px rgba(60, 64, 67, 0.3), 0px 1px 3px 1px rgba(60, 64, 67, 0.15);\n",
              "      fill: #174EA6;\n",
              "    }\n",
              "\n",
              "    .colab-df-buttons div {\n",
              "      margin-bottom: 4px;\n",
              "    }\n",
              "\n",
              "    [theme=dark] .colab-df-convert {\n",
              "      background-color: #3B4455;\n",
              "      fill: #D2E3FC;\n",
              "    }\n",
              "\n",
              "    [theme=dark] .colab-df-convert:hover {\n",
              "      background-color: #434B5C;\n",
              "      box-shadow: 0px 1px 3px 1px rgba(0, 0, 0, 0.15);\n",
              "      filter: drop-shadow(0px 1px 2px rgba(0, 0, 0, 0.3));\n",
              "      fill: #FFFFFF;\n",
              "    }\n",
              "  </style>\n",
              "\n",
              "    <script>\n",
              "      const buttonEl =\n",
              "        document.querySelector('#df-e765b472-191e-460a-a053-bf7957f6d033 button.colab-df-convert');\n",
              "      buttonEl.style.display =\n",
              "        google.colab.kernel.accessAllowed ? 'block' : 'none';\n",
              "\n",
              "      async function convertToInteractive(key) {\n",
              "        const element = document.querySelector('#df-e765b472-191e-460a-a053-bf7957f6d033');\n",
              "        const dataTable =\n",
              "          await google.colab.kernel.invokeFunction('convertToInteractive',\n",
              "                                                    [key], {});\n",
              "        if (!dataTable) return;\n",
              "\n",
              "        const docLinkHtml = 'Like what you see? Visit the ' +\n",
              "          '<a target=\"_blank\" href=https://colab.research.google.com/notebooks/data_table.ipynb>data table notebook</a>'\n",
              "          + ' to learn more about interactive tables.';\n",
              "        element.innerHTML = '';\n",
              "        dataTable['output_type'] = 'display_data';\n",
              "        await google.colab.output.renderOutput(dataTable, element);\n",
              "        const docLink = document.createElement('div');\n",
              "        docLink.innerHTML = docLinkHtml;\n",
              "        element.appendChild(docLink);\n",
              "      }\n",
              "    </script>\n",
              "  </div>\n",
              "\n",
              "\n",
              "<div id=\"df-121e3192-28eb-4409-81ac-fd1a11ee6088\">\n",
              "  <button class=\"colab-df-quickchart\" onclick=\"quickchart('df-121e3192-28eb-4409-81ac-fd1a11ee6088')\"\n",
              "            title=\"Suggest charts.\"\n",
              "            style=\"display:none;\">\n",
              "\n",
              "<svg xmlns=\"http://www.w3.org/2000/svg\" height=\"24px\"viewBox=\"0 0 24 24\"\n",
              "     width=\"24px\">\n",
              "    <g>\n",
              "        <path d=\"M19 3H5c-1.1 0-2 .9-2 2v14c0 1.1.9 2 2 2h14c1.1 0 2-.9 2-2V5c0-1.1-.9-2-2-2zM9 17H7v-7h2v7zm4 0h-2V7h2v10zm4 0h-2v-4h2v4z\"/>\n",
              "    </g>\n",
              "</svg>\n",
              "  </button>\n",
              "\n",
              "<style>\n",
              "  .colab-df-quickchart {\n",
              "      --bg-color: #E8F0FE;\n",
              "      --fill-color: #1967D2;\n",
              "      --hover-bg-color: #E2EBFA;\n",
              "      --hover-fill-color: #174EA6;\n",
              "      --disabled-fill-color: #AAA;\n",
              "      --disabled-bg-color: #DDD;\n",
              "  }\n",
              "\n",
              "  [theme=dark] .colab-df-quickchart {\n",
              "      --bg-color: #3B4455;\n",
              "      --fill-color: #D2E3FC;\n",
              "      --hover-bg-color: #434B5C;\n",
              "      --hover-fill-color: #FFFFFF;\n",
              "      --disabled-bg-color: #3B4455;\n",
              "      --disabled-fill-color: #666;\n",
              "  }\n",
              "\n",
              "  .colab-df-quickchart {\n",
              "    background-color: var(--bg-color);\n",
              "    border: none;\n",
              "    border-radius: 50%;\n",
              "    cursor: pointer;\n",
              "    display: none;\n",
              "    fill: var(--fill-color);\n",
              "    height: 32px;\n",
              "    padding: 0;\n",
              "    width: 32px;\n",
              "  }\n",
              "\n",
              "  .colab-df-quickchart:hover {\n",
              "    background-color: var(--hover-bg-color);\n",
              "    box-shadow: 0 1px 2px rgba(60, 64, 67, 0.3), 0 1px 3px 1px rgba(60, 64, 67, 0.15);\n",
              "    fill: var(--button-hover-fill-color);\n",
              "  }\n",
              "\n",
              "  .colab-df-quickchart-complete:disabled,\n",
              "  .colab-df-quickchart-complete:disabled:hover {\n",
              "    background-color: var(--disabled-bg-color);\n",
              "    fill: var(--disabled-fill-color);\n",
              "    box-shadow: none;\n",
              "  }\n",
              "\n",
              "  .colab-df-spinner {\n",
              "    border: 2px solid var(--fill-color);\n",
              "    border-color: transparent;\n",
              "    border-bottom-color: var(--fill-color);\n",
              "    animation:\n",
              "      spin 1s steps(1) infinite;\n",
              "  }\n",
              "\n",
              "  @keyframes spin {\n",
              "    0% {\n",
              "      border-color: transparent;\n",
              "      border-bottom-color: var(--fill-color);\n",
              "      border-left-color: var(--fill-color);\n",
              "    }\n",
              "    20% {\n",
              "      border-color: transparent;\n",
              "      border-left-color: var(--fill-color);\n",
              "      border-top-color: var(--fill-color);\n",
              "    }\n",
              "    30% {\n",
              "      border-color: transparent;\n",
              "      border-left-color: var(--fill-color);\n",
              "      border-top-color: var(--fill-color);\n",
              "      border-right-color: var(--fill-color);\n",
              "    }\n",
              "    40% {\n",
              "      border-color: transparent;\n",
              "      border-right-color: var(--fill-color);\n",
              "      border-top-color: var(--fill-color);\n",
              "    }\n",
              "    60% {\n",
              "      border-color: transparent;\n",
              "      border-right-color: var(--fill-color);\n",
              "    }\n",
              "    80% {\n",
              "      border-color: transparent;\n",
              "      border-right-color: var(--fill-color);\n",
              "      border-bottom-color: var(--fill-color);\n",
              "    }\n",
              "    90% {\n",
              "      border-color: transparent;\n",
              "      border-bottom-color: var(--fill-color);\n",
              "    }\n",
              "  }\n",
              "</style>\n",
              "\n",
              "  <script>\n",
              "    async function quickchart(key) {\n",
              "      const quickchartButtonEl =\n",
              "        document.querySelector('#' + key + ' button');\n",
              "      quickchartButtonEl.disabled = true;  // To prevent multiple clicks.\n",
              "      quickchartButtonEl.classList.add('colab-df-spinner');\n",
              "      try {\n",
              "        const charts = await google.colab.kernel.invokeFunction(\n",
              "            'suggestCharts', [key], {});\n",
              "      } catch (error) {\n",
              "        console.error('Error during call to suggestCharts:', error);\n",
              "      }\n",
              "      quickchartButtonEl.classList.remove('colab-df-spinner');\n",
              "      quickchartButtonEl.classList.add('colab-df-quickchart-complete');\n",
              "    }\n",
              "    (() => {\n",
              "      let quickchartButtonEl =\n",
              "        document.querySelector('#df-121e3192-28eb-4409-81ac-fd1a11ee6088 button');\n",
              "      quickchartButtonEl.style.display =\n",
              "        google.colab.kernel.accessAllowed ? 'block' : 'none';\n",
              "    })();\n",
              "  </script>\n",
              "</div>\n",
              "    </div>\n",
              "  </div>\n"
            ]
          },
          "metadata": {}
        },
        {
          "output_type": "stream",
          "name": "stdout",
          "text": [
            "\n",
            "Information - users \n",
            "\n",
            "<class 'pandas.core.frame.DataFrame'>\n",
            "RangeIndex: 500 entries, 0 to 499\n",
            "Data columns (total 8 columns):\n",
            " #   Column      Non-Null Count  Dtype \n",
            "---  ------      --------------  ----- \n",
            " 0   user_id     500 non-null    int64 \n",
            " 1   age         500 non-null    int64 \n",
            " 2   churn_date  38 non-null     object\n",
            " 3   city        500 non-null    object\n",
            " 4   first_name  500 non-null    object\n",
            " 5   last_name   500 non-null    object\n",
            " 6   reg_date    500 non-null    object\n",
            " 7   tariff      500 non-null    object\n",
            "dtypes: int64(2), object(6)\n",
            "memory usage: 31.4+ KB\n",
            "None\n"
          ]
        }
      ]
    },
    {
      "cell_type": "markdown",
      "metadata": {
        "deletable": false,
        "editable": false,
        "id": "IVqIQLOq_oCa",
        "tags": [
          "start_task"
        ]
      },
      "source": [
        "С помощью метода `hist()` выведим гистограмму для столбца с продолжительностью звонков из датасете `calls`. Посмотрим как распределены данные."
      ]
    },
    {
      "cell_type": "code",
      "execution_count": 7,
      "metadata": {
        "deletable": false,
        "id": "sKOklkAe_oCa",
        "scrolled": true,
        "outputId": "5e6f0ca5-febc-4397-dea2-b2641e0f3ee6",
        "colab": {
          "base_uri": "https://localhost:8080/",
          "height": 453
        }
      },
      "outputs": [
        {
          "output_type": "execute_result",
          "data": {
            "text/plain": [
              "<Axes: >"
            ]
          },
          "metadata": {},
          "execution_count": 7
        },
        {
          "output_type": "display_data",
          "data": {
            "text/plain": [
              "<Figure size 640x480 with 1 Axes>"
            ],
            "image/png": "[encoded data removed]"
          },
          "metadata": {}
        }
      ],
      "source": [
        "calls['duration'].hist()"
      ]
    },
    {
      "cell_type": "markdown",
      "metadata": {
        "id": "TYUyp1JfSE4V"
      },
      "source": [
        "Пик данных наблюдается от 0 до 4. Гистограмма спадает вправо, значит диапазон 0-4 является минимальным и меньше него значений быть не может.\n",
        "\n",
        "С помощью метода `hist()` выведите гистограмму для столбца с количеством потраченных мегабайт из датасета `sessions`."
      ]
    },
    {
      "cell_type": "code",
      "execution_count": 8,
      "metadata": {
        "deletable": false,
        "id": "_uke6m2-_oCb",
        "outputId": "d578ea06-7cc5-4536-f0c9-b69b6680a0a5",
        "colab": {
          "base_uri": "https://localhost:8080/",
          "height": 448
        }
      },
      "outputs": [
        {
          "output_type": "execute_result",
          "data": {
            "text/plain": [
              "<Axes: >"
            ]
          },
          "metadata": {},
          "execution_count": 8
        },
        {
          "output_type": "display_data",
          "data": {
            "text/plain": [
              "<Figure size 640x480 with 1 Axes>"
            ],
            "image/png": "[encoded data removed]"
          },
          "metadata": {}
        }
      ],
      "source": [
        "sessions['mb_used'].hist()"
      ]
    },
    {
      "cell_type": "markdown",
      "source": [
        "**Итог:**\n",
        "\n",
        "Нами были изучены полученные данные от Заказчика. По полученным данным мы наблюдаем, что все значения в датасетах заполнены, однако, в таблице `users` имеется колонка `churn_date` (дата прекращения пользования тарифом), в которой очень мало значений.\n",
        "\n",
        "Данная колонка может быть пустой, если тариф ещё действовал на момент выгрузки данных, следовательно можно сделать вывод, что это не является ошибкой и данные пропуски обрабатывать не требуется.\n",
        "\n",
        "Также можно заметить, что во всех датасетах имеются колонки с датами, которые на данный момент представленны в неправильном типе. Данные колонки требуется привести к правильному типу datetime."
      ],
      "metadata": {
        "id": "9qSkSjTDR58_"
      }
    },
    {
      "cell_type": "markdown",
      "metadata": {
        "deletable": false,
        "editable": false,
        "id": "Y0kllEng_oCf"
      },
      "source": [
        "## Шаг 2. Подготовка данных"
      ]
    },
    {
      "cell_type": "markdown",
      "source": [
        "### Исправление типов данных в колонках"
      ],
      "metadata": {
        "id": "vjIHOGsMVEt0"
      }
    },
    {
      "cell_type": "markdown",
      "metadata": {
        "deletable": false,
        "editable": false,
        "id": "EyLIy5lh_oCf",
        "tags": [
          "start_task"
        ]
      },
      "source": [
        "При изучении датасетов было обнаружено, что в данных имеются колонки с датами, которые представлены в неверном типе. По этому предлагаю следующие колонки к типу `datetime` посредством метода `to_datetime()`:\n",
        "\n",
        "- `reg_date` из таблицы `users`\n",
        "- `churn_date` из таблицы `users`\n",
        "- `call_date` из таблицы `calls`\n",
        "- `message_date` из таблицы `messages`\n",
        "- `session_date` из таблицы `sessions`\n",
        "\n",
        "Также в датасете `calls` есть данные о звонках с нулевой продолжительностью. Данные нулевые значения не является ошибкой, таким образом обозначены пропущенные звонки, следовательно, удалять не требуется. Но в данном датасете в колонке `duration` наблюдаются дробные значения, следовательно, необходимо для корректного анализа необходимо значения округлить с помощью метода `numpy.ceil()` и приведем к целочисленному типу."
      ]
    },
    {
      "cell_type": "code",
      "execution_count": 9,
      "metadata": {
        "deletable": false,
        "id": "Ig2hAtil_oCh"
      },
      "outputs": [],
      "source": [
        "# приведем значения колонок с датами к типу 'datetime'\n",
        "users['reg_date'] = pd.to_datetime(users['reg_date'])# обработка столбца reg_date\n",
        "users['churn_date'] = pd.to_datetime(users['churn_date'])# обработка столбца churn_date\n",
        "\n",
        "calls['call_date'] = pd.to_datetime(calls['call_date'])# обработка столбца call_date\n",
        "\n",
        "messages['message_date'] = pd.to_datetime(messages['message_date'])# обработка столбца message_date\n",
        "sessions['session_date'] = pd.to_datetime(sessions['session_date'])# обработка столбца session_date"
      ]
    },
    {
      "cell_type": "code",
      "execution_count": 10,
      "metadata": {
        "deletable": false,
        "id": "7Msb3UqS_oCj"
      },
      "outputs": [],
      "source": [
        "# округляем значения столбца duration с помощью np.ceil() и приводим тип к 'int'\n",
        "calls['duration'] = np.ceil(calls['duration']).astype(int)"
      ]
    },
    {
      "cell_type": "markdown",
      "source": [
        "### Исправление ошибок в данных"
      ],
      "metadata": {
        "id": "fWQzBc04ZAQq"
      }
    },
    {
      "cell_type": "markdown",
      "metadata": {
        "deletable": false,
        "editable": false,
        "id": "u-6V42lj_oCj",
        "tags": [
          "start_task"
        ]
      },
      "source": [
        "В датасете `sessions` имеется колонка `Unnamed: 0`. Данная колонка возникает, когда данные сохраняются с указанием индекса (`df.to_csv(..., index=column)`). На данный момент нам не требуется данная колонка, по этому предлагаю удалить ее из датасета."
      ]
    },
    {
      "cell_type": "code",
      "execution_count": 11,
      "metadata": {
        "deletable": false,
        "id": "0qBUTIJK_oCj"
      },
      "outputs": [],
      "source": [
        "sessions = sessions.drop(['Unnamed: 0'], axis=1)"
      ]
    },
    {
      "cell_type": "markdown",
      "source": [
        "### Добавление новых столбцов в датасеты"
      ],
      "metadata": {
        "id": "x-gSioWmZx3j"
      }
    },
    {
      "cell_type": "markdown",
      "source": [
        "Для последующей подготовки данных и корректного анализа данных нам необходимо добавить новые колонки с наименованием `month` в ряд датасетов:\n",
        " - в датасете `сalls` с номером месяца из колонки `call_date`;\n",
        " - в датасете `messages` с номером месяца из колонки `message_date`;\n",
        " - в датасете `sessions` с номером месяца из колонки `session_date`."
      ],
      "metadata": {
        "id": "QG1bAacRbRJ0"
      }
    },
    {
      "cell_type": "code",
      "execution_count": 12,
      "metadata": {
        "deletable": false,
        "id": "qepFbMhq_oCj"
      },
      "outputs": [],
      "source": [
        "# добавим колонку 'month' в датасете 'calls'\n",
        "calls['month'] = calls['call_date'].dt.month"
      ]
    },
    {
      "cell_type": "code",
      "source": [
        "# проверим выполненное добавление колонки\n",
        "calls.head(5)"
      ],
      "metadata": {
        "colab": {
          "base_uri": "https://localhost:8080/",
          "height": 206
        },
        "id": "o5Ff3kmVcjP3",
        "outputId": "a0bf247e-fdbf-415b-b833-de1d72ba43be"
      },
      "execution_count": 13,
      "outputs": [
        {
          "output_type": "execute_result",
          "data": {
            "text/plain": [
              "       id  call_date  duration  user_id  month\n",
              "0  1000_0 2018-07-25         0     1000      7\n",
              "1  1000_1 2018-08-17         0     1000      8\n",
              "2  1000_2 2018-06-11         3     1000      6\n",
              "3  1000_3 2018-09-21        14     1000      9\n",
              "4  1000_4 2018-12-15         6     1000     12"
            ],
            "text/html": [
              "\n",
              "  <div id=\"df-cbc2d133-486a-40aa-99df-0fd109be3f46\" class=\"colab-df-container\">\n",
              "    <div>\n",
              "<style scoped>\n",
              "    .dataframe tbody tr th:only-of-type {\n",
              "        vertical-align: middle;\n",
              "    }\n",
              "\n",
              "    .dataframe tbody tr th {\n",
              "        vertical-align: top;\n",
              "    }\n",
              "\n",
              "    .dataframe thead th {\n",
              "        text-align: right;\n",
              "    }\n",
              "</style>\n",
              "<table border=\"1\" class=\"dataframe\">\n",
              "  <thead>\n",
              "    <tr style=\"text-align: right;\">\n",
              "      <th></th>\n",
              "      <th>id</th>\n",
              "      <th>call_date</th>\n",
              "      <th>duration</th>\n",
              "      <th>user_id</th>\n",
              "      <th>month</th>\n",
              "    </tr>\n",
              "  </thead>\n",
              "  <tbody>\n",
              "    <tr>\n",
              "      <th>0</th>\n",
              "      <td>1000_0</td>\n",
              "      <td>2018-07-25</td>\n",
              "      <td>0</td>\n",
              "      <td>1000</td>\n",
              "      <td>7</td>\n",
              "    </tr>\n",
              "    <tr>\n",
              "      <th>1</th>\n",
              "      <td>1000_1</td>\n",
              "      <td>2018-08-17</td>\n",
              "      <td>0</td>\n",
              "      <td>1000</td>\n",
              "      <td>8</td>\n",
              "    </tr>\n",
              "    <tr>\n",
              "      <th>2</th>\n",
              "      <td>1000_2</td>\n",
              "      <td>2018-06-11</td>\n",
              "      <td>3</td>\n",
              "      <td>1000</td>\n",
              "      <td>6</td>\n",
              "    </tr>\n",
              "    <tr>\n",
              "      <th>3</th>\n",
              "      <td>1000_3</td>\n",
              "      <td>2018-09-21</td>\n",
              "      <td>14</td>\n",
              "      <td>1000</td>\n",
              "      <td>9</td>\n",
              "    </tr>\n",
              "    <tr>\n",
              "      <th>4</th>\n",
              "      <td>1000_4</td>\n",
              "      <td>2018-12-15</td>\n",
              "      <td>6</td>\n",
              "      <td>1000</td>\n",
              "      <td>12</td>\n",
              "    </tr>\n",
              "  </tbody>\n",
              "</table>\n",
              "</div>\n",
              "    <div class=\"colab-df-buttons\">\n",
              "\n",
              "  <div class=\"colab-df-container\">\n",
              "    <button class=\"colab-df-convert\" onclick=\"convertToInteractive('df-cbc2d133-486a-40aa-99df-0fd109be3f46')\"\n",
              "            title=\"Convert this dataframe to an interactive table.\"\n",
              "            style=\"display:none;\">\n",
              "\n",
              "  <svg xmlns=\"http://www.w3.org/2000/svg\" height=\"24px\" viewBox=\"0 -960 960 960\">\n",
              "    <path d=\"M120-120v-720h720v720H120Zm60-500h600v-160H180v160Zm220 220h160v-160H400v160Zm0 220h160v-160H400v160ZM180-400h160v-160H180v160Zm440 0h160v-160H620v160ZM180-180h160v-160H180v160Zm440 0h160v-160H620v160Z\"/>\n",
              "  </svg>\n",
              "    </button>\n",
              "\n",
              "  <style>\n",
              "    .colab-df-container {\n",
              "      display:flex;\n",
              "      gap: 12px;\n",
              "    }\n",
              "\n",
              "    .colab-df-convert {\n",
              "      background-color: #E8F0FE;\n",
              "      border: none;\n",
              "      border-radius: 50%;\n",
              "      cursor: pointer;\n",
              "      display: none;\n",
              "      fill: #1967D2;\n",
              "      height: 32px;\n",
              "      padding: 0 0 0 0;\n",
              "      width: 32px;\n",
              "    }\n",
              "\n",
              "    .colab-df-convert:hover {\n",
              "      background-color: #E2EBFA;\n",
              "      box-shadow: 0px 1px 2px rgba(60, 64, 67, 0.3), 0px 1px 3px 1px rgba(60, 64, 67, 0.15);\n",
              "      fill: #174EA6;\n",
              "    }\n",
              "\n",
              "    .colab-df-buttons div {\n",
              "      margin-bottom: 4px;\n",
              "    }\n",
              "\n",
              "    [theme=dark] .colab-df-convert {\n",
              "      background-color: #3B4455;\n",
              "      fill: #D2E3FC;\n",
              "    }\n",
              "\n",
              "    [theme=dark] .colab-df-convert:hover {\n",
              "      background-color: #434B5C;\n",
              "      box-shadow: 0px 1px 3px 1px rgba(0, 0, 0, 0.15);\n",
              "      filter: drop-shadow(0px 1px 2px rgba(0, 0, 0, 0.3));\n",
              "      fill: #FFFFFF;\n",
              "    }\n",
              "  </style>\n",
              "\n",
              "    <script>\n",
              "      const buttonEl =\n",
              "        document.querySelector('#df-cbc2d133-486a-40aa-99df-0fd109be3f46 button.colab-df-convert');\n",
              "      buttonEl.style.display =\n",
              "        google.colab.kernel.accessAllowed ? 'block' : 'none';\n",
              "\n",
              "      async function convertToInteractive(key) {\n",
              "        const element = document.querySelector('#df-cbc2d133-486a-40aa-99df-0fd109be3f46');\n",
              "        const dataTable =\n",
              "          await google.colab.kernel.invokeFunction('convertToInteractive',\n",
              "                                                    [key], {});\n",
              "        if (!dataTable) return;\n",
              "\n",
              "        const docLinkHtml = 'Like what you see? Visit the ' +\n",
              "          '<a target=\"_blank\" href=https://colab.research.google.com/notebooks/data_table.ipynb>data table notebook</a>'\n",
              "          + ' to learn more about interactive tables.';\n",
              "        element.innerHTML = '';\n",
              "        dataTable['output_type'] = 'display_data';\n",
              "        await google.colab.output.renderOutput(dataTable, element);\n",
              "        const docLink = document.createElement('div');\n",
              "        docLink.innerHTML = docLinkHtml;\n",
              "        element.appendChild(docLink);\n",
              "      }\n",
              "    </script>\n",
              "  </div>\n",
              "\n",
              "\n",
              "<div id=\"df-8ac367ff-7e2e-4270-a0bd-5d830343c564\">\n",
              "  <button class=\"colab-df-quickchart\" onclick=\"quickchart('df-8ac367ff-7e2e-4270-a0bd-5d830343c564')\"\n",
              "            title=\"Suggest charts.\"\n",
              "            style=\"display:none;\">\n",
              "\n",
              "<svg xmlns=\"http://www.w3.org/2000/svg\" height=\"24px\"viewBox=\"0 0 24 24\"\n",
              "     width=\"24px\">\n",
              "    <g>\n",
              "        <path d=\"M19 3H5c-1.1 0-2 .9-2 2v14c0 1.1.9 2 2 2h14c1.1 0 2-.9 2-2V5c0-1.1-.9-2-2-2zM9 17H7v-7h2v7zm4 0h-2V7h2v10zm4 0h-2v-4h2v4z\"/>\n",
              "    </g>\n",
              "</svg>\n",
              "  </button>\n",
              "\n",
              "<style>\n",
              "  .colab-df-quickchart {\n",
              "      --bg-color: #E8F0FE;\n",
              "      --fill-color: #1967D2;\n",
              "      --hover-bg-color: #E2EBFA;\n",
              "      --hover-fill-color: #174EA6;\n",
              "      --disabled-fill-color: #AAA;\n",
              "      --disabled-bg-color: #DDD;\n",
              "  }\n",
              "\n",
              "  [theme=dark] .colab-df-quickchart {\n",
              "      --bg-color: #3B4455;\n",
              "      --fill-color: #D2E3FC;\n",
              "      --hover-bg-color: #434B5C;\n",
              "      --hover-fill-color: #FFFFFF;\n",
              "      --disabled-bg-color: #3B4455;\n",
              "      --disabled-fill-color: #666;\n",
              "  }\n",
              "\n",
              "  .colab-df-quickchart {\n",
              "    background-color: var(--bg-color);\n",
              "    border: none;\n",
              "    border-radius: 50%;\n",
              "    cursor: pointer;\n",
              "    display: none;\n",
              "    fill: var(--fill-color);\n",
              "    height: 32px;\n",
              "    padding: 0;\n",
              "    width: 32px;\n",
              "  }\n",
              "\n",
              "  .colab-df-quickchart:hover {\n",
              "    background-color: var(--hover-bg-color);\n",
              "    box-shadow: 0 1px 2px rgba(60, 64, 67, 0.3), 0 1px 3px 1px rgba(60, 64, 67, 0.15);\n",
              "    fill: var(--button-hover-fill-color);\n",
              "  }\n",
              "\n",
              "  .colab-df-quickchart-complete:disabled,\n",
              "  .colab-df-quickchart-complete:disabled:hover {\n",
              "    background-color: var(--disabled-bg-color);\n",
              "    fill: var(--disabled-fill-color);\n",
              "    box-shadow: none;\n",
              "  }\n",
              "\n",
              "  .colab-df-spinner {\n",
              "    border: 2px solid var(--fill-color);\n",
              "    border-color: transparent;\n",
              "    border-bottom-color: var(--fill-color);\n",
              "    animation:\n",
              "      spin 1s steps(1) infinite;\n",
              "  }\n",
              "\n",
              "  @keyframes spin {\n",
              "    0% {\n",
              "      border-color: transparent;\n",
              "      border-bottom-color: var(--fill-color);\n",
              "      border-left-color: var(--fill-color);\n",
              "    }\n",
              "    20% {\n",
              "      border-color: transparent;\n",
              "      border-left-color: var(--fill-color);\n",
              "      border-top-color: var(--fill-color);\n",
              "    }\n",
              "    30% {\n",
              "      border-color: transparent;\n",
              "      border-left-color: var(--fill-color);\n",
              "      border-top-color: var(--fill-color);\n",
              "      border-right-color: var(--fill-color);\n",
              "    }\n",
              "    40% {\n",
              "      border-color: transparent;\n",
              "      border-right-color: var(--fill-color);\n",
              "      border-top-color: var(--fill-color);\n",
              "    }\n",
              "    60% {\n",
              "      border-color: transparent;\n",
              "      border-right-color: var(--fill-color);\n",
              "    }\n",
              "    80% {\n",
              "      border-color: transparent;\n",
              "      border-right-color: var(--fill-color);\n",
              "      border-bottom-color: var(--fill-color);\n",
              "    }\n",
              "    90% {\n",
              "      border-color: transparent;\n",
              "      border-bottom-color: var(--fill-color);\n",
              "    }\n",
              "  }\n",
              "</style>\n",
              "\n",
              "  <script>\n",
              "    async function quickchart(key) {\n",
              "      const quickchartButtonEl =\n",
              "        document.querySelector('#' + key + ' button');\n",
              "      quickchartButtonEl.disabled = true;  // To prevent multiple clicks.\n",
              "      quickchartButtonEl.classList.add('colab-df-spinner');\n",
              "      try {\n",
              "        const charts = await google.colab.kernel.invokeFunction(\n",
              "            'suggestCharts', [key], {});\n",
              "      } catch (error) {\n",
              "        console.error('Error during call to suggestCharts:', error);\n",
              "      }\n",
              "      quickchartButtonEl.classList.remove('colab-df-spinner');\n",
              "      quickchartButtonEl.classList.add('colab-df-quickchart-complete');\n",
              "    }\n",
              "    (() => {\n",
              "      let quickchartButtonEl =\n",
              "        document.querySelector('#df-8ac367ff-7e2e-4270-a0bd-5d830343c564 button');\n",
              "      quickchartButtonEl.style.display =\n",
              "        google.colab.kernel.accessAllowed ? 'block' : 'none';\n",
              "    })();\n",
              "  </script>\n",
              "</div>\n",
              "    </div>\n",
              "  </div>\n"
            ]
          },
          "metadata": {},
          "execution_count": 13
        }
      ]
    },
    {
      "cell_type": "code",
      "execution_count": 14,
      "metadata": {
        "deletable": false,
        "id": "2evOzw_K_oCk"
      },
      "outputs": [],
      "source": [
        "# добавим колонку 'month' в датасете 'messages'\n",
        "messages['month'] = messages['message_date'].dt.month"
      ]
    },
    {
      "cell_type": "code",
      "source": [
        "# проверим выполненное добавление колонки\n",
        "messages.head(5)"
      ],
      "metadata": {
        "colab": {
          "base_uri": "https://localhost:8080/",
          "height": 206
        },
        "id": "xEx7r4Y5cqS0",
        "outputId": "697b302d-1e8c-4626-9f99-5c6c54eeee62"
      },
      "execution_count": 15,
      "outputs": [
        {
          "output_type": "execute_result",
          "data": {
            "text/plain": [
              "       id message_date  user_id  month\n",
              "0  1000_0   2018-06-27     1000      6\n",
              "1  1000_1   2018-10-08     1000     10\n",
              "2  1000_2   2018-08-04     1000      8\n",
              "3  1000_3   2018-06-16     1000      6\n",
              "4  1000_4   2018-12-05     1000     12"
            ],
            "text/html": [
              "\n",
              "  <div id=\"df-009da6ea-9ab1-45ab-9692-55eed560d9ab\" class=\"colab-df-container\">\n",
              "    <div>\n",
              "<style scoped>\n",
              "    .dataframe tbody tr th:only-of-type {\n",
              "        vertical-align: middle;\n",
              "    }\n",
              "\n",
              "    .dataframe tbody tr th {\n",
              "        vertical-align: top;\n",
              "    }\n",
              "\n",
              "    .dataframe thead th {\n",
              "        text-align: right;\n",
              "    }\n",
              "</style>\n",
              "<table border=\"1\" class=\"dataframe\">\n",
              "  <thead>\n",
              "    <tr style=\"text-align: right;\">\n",
              "      <th></th>\n",
              "      <th>id</th>\n",
              "      <th>message_date</th>\n",
              "      <th>user_id</th>\n",
              "      <th>month</th>\n",
              "    </tr>\n",
              "  </thead>\n",
              "  <tbody>\n",
              "    <tr>\n",
              "      <th>0</th>\n",
              "      <td>1000_0</td>\n",
              "      <td>2018-06-27</td>\n",
              "      <td>1000</td>\n",
              "      <td>6</td>\n",
              "    </tr>\n",
              "    <tr>\n",
              "      <th>1</th>\n",
              "      <td>1000_1</td>\n",
              "      <td>2018-10-08</td>\n",
              "      <td>1000</td>\n",
              "      <td>10</td>\n",
              "    </tr>\n",
              "    <tr>\n",
              "      <th>2</th>\n",
              "      <td>1000_2</td>\n",
              "      <td>2018-08-04</td>\n",
              "      <td>1000</td>\n",
              "      <td>8</td>\n",
              "    </tr>\n",
              "    <tr>\n",
              "      <th>3</th>\n",
              "      <td>1000_3</td>\n",
              "      <td>2018-06-16</td>\n",
              "      <td>1000</td>\n",
              "      <td>6</td>\n",
              "    </tr>\n",
              "    <tr>\n",
              "      <th>4</th>\n",
              "      <td>1000_4</td>\n",
              "      <td>2018-12-05</td>\n",
              "      <td>1000</td>\n",
              "      <td>12</td>\n",
              "    </tr>\n",
              "  </tbody>\n",
              "</table>\n",
              "</div>\n",
              "    <div class=\"colab-df-buttons\">\n",
              "\n",
              "  <div class=\"colab-df-container\">\n",
              "    <button class=\"colab-df-convert\" onclick=\"convertToInteractive('df-009da6ea-9ab1-45ab-9692-55eed560d9ab')\"\n",
              "            title=\"Convert this dataframe to an interactive table.\"\n",
              "            style=\"display:none;\">\n",
              "\n",
              "  <svg xmlns=\"http://www.w3.org/2000/svg\" height=\"24px\" viewBox=\"0 -960 960 960\">\n",
              "    <path d=\"M120-120v-720h720v720H120Zm60-500h600v-160H180v160Zm220 220h160v-160H400v160Zm0 220h160v-160H400v160ZM180-400h160v-160H180v160Zm440 0h160v-160H620v160ZM180-180h160v-160H180v160Zm440 0h160v-160H620v160Z\"/>\n",
              "  </svg>\n",
              "    </button>\n",
              "\n",
              "  <style>\n",
              "    .colab-df-container {\n",
              "      display:flex;\n",
              "      gap: 12px;\n",
              "    }\n",
              "\n",
              "    .colab-df-convert {\n",
              "      background-color: #E8F0FE;\n",
              "      border: none;\n",
              "      border-radius: 50%;\n",
              "      cursor: pointer;\n",
              "      display: none;\n",
              "      fill: #1967D2;\n",
              "      height: 32px;\n",
              "      padding: 0 0 0 0;\n",
              "      width: 32px;\n",
              "    }\n",
              "\n",
              "    .colab-df-convert:hover {\n",
              "      background-color: #E2EBFA;\n",
              "      box-shadow: 0px 1px 2px rgba(60, 64, 67, 0.3), 0px 1px 3px 1px rgba(60, 64, 67, 0.15);\n",
              "      fill: #174EA6;\n",
              "    }\n",
              "\n",
              "    .colab-df-buttons div {\n",
              "      margin-bottom: 4px;\n",
              "    }\n",
              "\n",
              "    [theme=dark] .colab-df-convert {\n",
              "      background-color: #3B4455;\n",
              "      fill: #D2E3FC;\n",
              "    }\n",
              "\n",
              "    [theme=dark] .colab-df-convert:hover {\n",
              "      background-color: #434B5C;\n",
              "      box-shadow: 0px 1px 3px 1px rgba(0, 0, 0, 0.15);\n",
              "      filter: drop-shadow(0px 1px 2px rgba(0, 0, 0, 0.3));\n",
              "      fill: #FFFFFF;\n",
              "    }\n",
              "  </style>\n",
              "\n",
              "    <script>\n",
              "      const buttonEl =\n",
              "        document.querySelector('#df-009da6ea-9ab1-45ab-9692-55eed560d9ab button.colab-df-convert');\n",
              "      buttonEl.style.display =\n",
              "        google.colab.kernel.accessAllowed ? 'block' : 'none';\n",
              "\n",
              "      async function convertToInteractive(key) {\n",
              "        const element = document.querySelector('#df-009da6ea-9ab1-45ab-9692-55eed560d9ab');\n",
              "        const dataTable =\n",
              "          await google.colab.kernel.invokeFunction('convertToInteractive',\n",
              "                                                    [key], {});\n",
              "        if (!dataTable) return;\n",
              "\n",
              "        const docLinkHtml = 'Like what you see? Visit the ' +\n",
              "          '<a target=\"_blank\" href=https://colab.research.google.com/notebooks/data_table.ipynb>data table notebook</a>'\n",
              "          + ' to learn more about interactive tables.';\n",
              "        element.innerHTML = '';\n",
              "        dataTable['output_type'] = 'display_data';\n",
              "        await google.colab.output.renderOutput(dataTable, element);\n",
              "        const docLink = document.createElement('div');\n",
              "        docLink.innerHTML = docLinkHtml;\n",
              "        element.appendChild(docLink);\n",
              "      }\n",
              "    </script>\n",
              "  </div>\n",
              "\n",
              "\n",
              "<div id=\"df-2e08a355-0125-41a6-8163-d55c2cfc6033\">\n",
              "  <button class=\"colab-df-quickchart\" onclick=\"quickchart('df-2e08a355-0125-41a6-8163-d55c2cfc6033')\"\n",
              "            title=\"Suggest charts.\"\n",
              "            style=\"display:none;\">\n",
              "\n",
              "<svg xmlns=\"http://www.w3.org/2000/svg\" height=\"24px\"viewBox=\"0 0 24 24\"\n",
              "     width=\"24px\">\n",
              "    <g>\n",
              "        <path d=\"M19 3H5c-1.1 0-2 .9-2 2v14c0 1.1.9 2 2 2h14c1.1 0 2-.9 2-2V5c0-1.1-.9-2-2-2zM9 17H7v-7h2v7zm4 0h-2V7h2v10zm4 0h-2v-4h2v4z\"/>\n",
              "    </g>\n",
              "</svg>\n",
              "  </button>\n",
              "\n",
              "<style>\n",
              "  .colab-df-quickchart {\n",
              "      --bg-color: #E8F0FE;\n",
              "      --fill-color: #1967D2;\n",
              "      --hover-bg-color: #E2EBFA;\n",
              "      --hover-fill-color: #174EA6;\n",
              "      --disabled-fill-color: #AAA;\n",
              "      --disabled-bg-color: #DDD;\n",
              "  }\n",
              "\n",
              "  [theme=dark] .colab-df-quickchart {\n",
              "      --bg-color: #3B4455;\n",
              "      --fill-color: #D2E3FC;\n",
              "      --hover-bg-color: #434B5C;\n",
              "      --hover-fill-color: #FFFFFF;\n",
              "      --disabled-bg-color: #3B4455;\n",
              "      --disabled-fill-color: #666;\n",
              "  }\n",
              "\n",
              "  .colab-df-quickchart {\n",
              "    background-color: var(--bg-color);\n",
              "    border: none;\n",
              "    border-radius: 50%;\n",
              "    cursor: pointer;\n",
              "    display: none;\n",
              "    fill: var(--fill-color);\n",
              "    height: 32px;\n",
              "    padding: 0;\n",
              "    width: 32px;\n",
              "  }\n",
              "\n",
              "  .colab-df-quickchart:hover {\n",
              "    background-color: var(--hover-bg-color);\n",
              "    box-shadow: 0 1px 2px rgba(60, 64, 67, 0.3), 0 1px 3px 1px rgba(60, 64, 67, 0.15);\n",
              "    fill: var(--button-hover-fill-color);\n",
              "  }\n",
              "\n",
              "  .colab-df-quickchart-complete:disabled,\n",
              "  .colab-df-quickchart-complete:disabled:hover {\n",
              "    background-color: var(--disabled-bg-color);\n",
              "    fill: var(--disabled-fill-color);\n",
              "    box-shadow: none;\n",
              "  }\n",
              "\n",
              "  .colab-df-spinner {\n",
              "    border: 2px solid var(--fill-color);\n",
              "    border-color: transparent;\n",
              "    border-bottom-color: var(--fill-color);\n",
              "    animation:\n",
              "      spin 1s steps(1) infinite;\n",
              "  }\n",
              "\n",
              "  @keyframes spin {\n",
              "    0% {\n",
              "      border-color: transparent;\n",
              "      border-bottom-color: var(--fill-color);\n",
              "      border-left-color: var(--fill-color);\n",
              "    }\n",
              "    20% {\n",
              "      border-color: transparent;\n",
              "      border-left-color: var(--fill-color);\n",
              "      border-top-color: var(--fill-color);\n",
              "    }\n",
              "    30% {\n",
              "      border-color: transparent;\n",
              "      border-left-color: var(--fill-color);\n",
              "      border-top-color: var(--fill-color);\n",
              "      border-right-color: var(--fill-color);\n",
              "    }\n",
              "    40% {\n",
              "      border-color: transparent;\n",
              "      border-right-color: var(--fill-color);\n",
              "      border-top-color: var(--fill-color);\n",
              "    }\n",
              "    60% {\n",
              "      border-color: transparent;\n",
              "      border-right-color: var(--fill-color);\n",
              "    }\n",
              "    80% {\n",
              "      border-color: transparent;\n",
              "      border-right-color: var(--fill-color);\n",
              "      border-bottom-color: var(--fill-color);\n",
              "    }\n",
              "    90% {\n",
              "      border-color: transparent;\n",
              "      border-bottom-color: var(--fill-color);\n",
              "    }\n",
              "  }\n",
              "</style>\n",
              "\n",
              "  <script>\n",
              "    async function quickchart(key) {\n",
              "      const quickchartButtonEl =\n",
              "        document.querySelector('#' + key + ' button');\n",
              "      quickchartButtonEl.disabled = true;  // To prevent multiple clicks.\n",
              "      quickchartButtonEl.classList.add('colab-df-spinner');\n",
              "      try {\n",
              "        const charts = await google.colab.kernel.invokeFunction(\n",
              "            'suggestCharts', [key], {});\n",
              "      } catch (error) {\n",
              "        console.error('Error during call to suggestCharts:', error);\n",
              "      }\n",
              "      quickchartButtonEl.classList.remove('colab-df-spinner');\n",
              "      quickchartButtonEl.classList.add('colab-df-quickchart-complete');\n",
              "    }\n",
              "    (() => {\n",
              "      let quickchartButtonEl =\n",
              "        document.querySelector('#df-2e08a355-0125-41a6-8163-d55c2cfc6033 button');\n",
              "      quickchartButtonEl.style.display =\n",
              "        google.colab.kernel.accessAllowed ? 'block' : 'none';\n",
              "    })();\n",
              "  </script>\n",
              "</div>\n",
              "    </div>\n",
              "  </div>\n"
            ]
          },
          "metadata": {},
          "execution_count": 15
        }
      ]
    },
    {
      "cell_type": "code",
      "execution_count": 16,
      "metadata": {
        "deletable": false,
        "id": "dKZPB_eo_oCk"
      },
      "outputs": [],
      "source": [
        "# добавим колонку 'month' в датасете 'sessions'\n",
        "sessions['month'] = sessions['session_date'].dt.month"
      ]
    },
    {
      "cell_type": "code",
      "source": [
        "# проверим выполненное добавление колонки\n",
        "sessions.head(5)"
      ],
      "metadata": {
        "colab": {
          "base_uri": "https://localhost:8080/",
          "height": 206
        },
        "id": "RFSDirxdcrLf",
        "outputId": "720769e9-5b74-4475-a561-1ac063c815b7"
      },
      "execution_count": 17,
      "outputs": [
        {
          "output_type": "execute_result",
          "data": {
            "text/plain": [
              "       id  mb_used session_date  user_id  month\n",
              "0  1000_0    113.0   2018-11-25     1000     11\n",
              "1  1000_1   1052.8   2018-09-07     1000      9\n",
              "2  1000_2   1197.3   2018-06-25     1000      6\n",
              "3  1000_3    550.3   2018-08-22     1000      8\n",
              "4  1000_4    302.6   2018-09-24     1000      9"
            ],
            "text/html": [
              "\n",
              "  <div id=\"df-32d2d4d1-8099-465e-8ef8-a78af2d24004\" class=\"colab-df-container\">\n",
              "    <div>\n",
              "<style scoped>\n",
              "    .dataframe tbody tr th:only-of-type {\n",
              "        vertical-align: middle;\n",
              "    }\n",
              "\n",
              "    .dataframe tbody tr th {\n",
              "        vertical-align: top;\n",
              "    }\n",
              "\n",
              "    .dataframe thead th {\n",
              "        text-align: right;\n",
              "    }\n",
              "</style>\n",
              "<table border=\"1\" class=\"dataframe\">\n",
              "  <thead>\n",
              "    <tr style=\"text-align: right;\">\n",
              "      <th></th>\n",
              "      <th>id</th>\n",
              "      <th>mb_used</th>\n",
              "      <th>session_date</th>\n",
              "      <th>user_id</th>\n",
              "      <th>month</th>\n",
              "    </tr>\n",
              "  </thead>\n",
              "  <tbody>\n",
              "    <tr>\n",
              "      <th>0</th>\n",
              "      <td>1000_0</td>\n",
              "      <td>113.0</td>\n",
              "      <td>2018-11-25</td>\n",
              "      <td>1000</td>\n",
              "      <td>11</td>\n",
              "    </tr>\n",
              "    <tr>\n",
              "      <th>1</th>\n",
              "      <td>1000_1</td>\n",
              "      <td>1052.8</td>\n",
              "      <td>2018-09-07</td>\n",
              "      <td>1000</td>\n",
              "      <td>9</td>\n",
              "    </tr>\n",
              "    <tr>\n",
              "      <th>2</th>\n",
              "      <td>1000_2</td>\n",
              "      <td>1197.3</td>\n",
              "      <td>2018-06-25</td>\n",
              "      <td>1000</td>\n",
              "      <td>6</td>\n",
              "    </tr>\n",
              "    <tr>\n",
              "      <th>3</th>\n",
              "      <td>1000_3</td>\n",
              "      <td>550.3</td>\n",
              "      <td>2018-08-22</td>\n",
              "      <td>1000</td>\n",
              "      <td>8</td>\n",
              "    </tr>\n",
              "    <tr>\n",
              "      <th>4</th>\n",
              "      <td>1000_4</td>\n",
              "      <td>302.6</td>\n",
              "      <td>2018-09-24</td>\n",
              "      <td>1000</td>\n",
              "      <td>9</td>\n",
              "    </tr>\n",
              "  </tbody>\n",
              "</table>\n",
              "</div>\n",
              "    <div class=\"colab-df-buttons\">\n",
              "\n",
              "  <div class=\"colab-df-container\">\n",
              "    <button class=\"colab-df-convert\" onclick=\"convertToInteractive('df-32d2d4d1-8099-465e-8ef8-a78af2d24004')\"\n",
              "            title=\"Convert this dataframe to an interactive table.\"\n",
              "            style=\"display:none;\">\n",
              "\n",
              "  <svg xmlns=\"http://www.w3.org/2000/svg\" height=\"24px\" viewBox=\"0 -960 960 960\">\n",
              "    <path d=\"M120-120v-720h720v720H120Zm60-500h600v-160H180v160Zm220 220h160v-160H400v160Zm0 220h160v-160H400v160ZM180-400h160v-160H180v160Zm440 0h160v-160H620v160ZM180-180h160v-160H180v160Zm440 0h160v-160H620v160Z\"/>\n",
              "  </svg>\n",
              "    </button>\n",
              "\n",
              "  <style>\n",
              "    .colab-df-container {\n",
              "      display:flex;\n",
              "      gap: 12px;\n",
              "    }\n",
              "\n",
              "    .colab-df-convert {\n",
              "      background-color: #E8F0FE;\n",
              "      border: none;\n",
              "      border-radius: 50%;\n",
              "      cursor: pointer;\n",
              "      display: none;\n",
              "      fill: #1967D2;\n",
              "      height: 32px;\n",
              "      padding: 0 0 0 0;\n",
              "      width: 32px;\n",
              "    }\n",
              "\n",
              "    .colab-df-convert:hover {\n",
              "      background-color: #E2EBFA;\n",
              "      box-shadow: 0px 1px 2px rgba(60, 64, 67, 0.3), 0px 1px 3px 1px rgba(60, 64, 67, 0.15);\n",
              "      fill: #174EA6;\n",
              "    }\n",
              "\n",
              "    .colab-df-buttons div {\n",
              "      margin-bottom: 4px;\n",
              "    }\n",
              "\n",
              "    [theme=dark] .colab-df-convert {\n",
              "      background-color: #3B4455;\n",
              "      fill: #D2E3FC;\n",
              "    }\n",
              "\n",
              "    [theme=dark] .colab-df-convert:hover {\n",
              "      background-color: #434B5C;\n",
              "      box-shadow: 0px 1px 3px 1px rgba(0, 0, 0, 0.15);\n",
              "      filter: drop-shadow(0px 1px 2px rgba(0, 0, 0, 0.3));\n",
              "      fill: #FFFFFF;\n",
              "    }\n",
              "  </style>\n",
              "\n",
              "    <script>\n",
              "      const buttonEl =\n",
              "        document.querySelector('#df-32d2d4d1-8099-465e-8ef8-a78af2d24004 button.colab-df-convert');\n",
              "      buttonEl.style.display =\n",
              "        google.colab.kernel.accessAllowed ? 'block' : 'none';\n",
              "\n",
              "      async function convertToInteractive(key) {\n",
              "        const element = document.querySelector('#df-32d2d4d1-8099-465e-8ef8-a78af2d24004');\n",
              "        const dataTable =\n",
              "          await google.colab.kernel.invokeFunction('convertToInteractive',\n",
              "                                                    [key], {});\n",
              "        if (!dataTable) return;\n",
              "\n",
              "        const docLinkHtml = 'Like what you see? Visit the ' +\n",
              "          '<a target=\"_blank\" href=https://colab.research.google.com/notebooks/data_table.ipynb>data table notebook</a>'\n",
              "          + ' to learn more about interactive tables.';\n",
              "        element.innerHTML = '';\n",
              "        dataTable['output_type'] = 'display_data';\n",
              "        await google.colab.output.renderOutput(dataTable, element);\n",
              "        const docLink = document.createElement('div');\n",
              "        docLink.innerHTML = docLinkHtml;\n",
              "        element.appendChild(docLink);\n",
              "      }\n",
              "    </script>\n",
              "  </div>\n",
              "\n",
              "\n",
              "<div id=\"df-10e79cb5-6ad4-45d5-b392-8589df60195f\">\n",
              "  <button class=\"colab-df-quickchart\" onclick=\"quickchart('df-10e79cb5-6ad4-45d5-b392-8589df60195f')\"\n",
              "            title=\"Suggest charts.\"\n",
              "            style=\"display:none;\">\n",
              "\n",
              "<svg xmlns=\"http://www.w3.org/2000/svg\" height=\"24px\"viewBox=\"0 0 24 24\"\n",
              "     width=\"24px\">\n",
              "    <g>\n",
              "        <path d=\"M19 3H5c-1.1 0-2 .9-2 2v14c0 1.1.9 2 2 2h14c1.1 0 2-.9 2-2V5c0-1.1-.9-2-2-2zM9 17H7v-7h2v7zm4 0h-2V7h2v10zm4 0h-2v-4h2v4z\"/>\n",
              "    </g>\n",
              "</svg>\n",
              "  </button>\n",
              "\n",
              "<style>\n",
              "  .colab-df-quickchart {\n",
              "      --bg-color: #E8F0FE;\n",
              "      --fill-color: #1967D2;\n",
              "      --hover-bg-color: #E2EBFA;\n",
              "      --hover-fill-color: #174EA6;\n",
              "      --disabled-fill-color: #AAA;\n",
              "      --disabled-bg-color: #DDD;\n",
              "  }\n",
              "\n",
              "  [theme=dark] .colab-df-quickchart {\n",
              "      --bg-color: #3B4455;\n",
              "      --fill-color: #D2E3FC;\n",
              "      --hover-bg-color: #434B5C;\n",
              "      --hover-fill-color: #FFFFFF;\n",
              "      --disabled-bg-color: #3B4455;\n",
              "      --disabled-fill-color: #666;\n",
              "  }\n",
              "\n",
              "  .colab-df-quickchart {\n",
              "    background-color: var(--bg-color);\n",
              "    border: none;\n",
              "    border-radius: 50%;\n",
              "    cursor: pointer;\n",
              "    display: none;\n",
              "    fill: var(--fill-color);\n",
              "    height: 32px;\n",
              "    padding: 0;\n",
              "    width: 32px;\n",
              "  }\n",
              "\n",
              "  .colab-df-quickchart:hover {\n",
              "    background-color: var(--hover-bg-color);\n",
              "    box-shadow: 0 1px 2px rgba(60, 64, 67, 0.3), 0 1px 3px 1px rgba(60, 64, 67, 0.15);\n",
              "    fill: var(--button-hover-fill-color);\n",
              "  }\n",
              "\n",
              "  .colab-df-quickchart-complete:disabled,\n",
              "  .colab-df-quickchart-complete:disabled:hover {\n",
              "    background-color: var(--disabled-bg-color);\n",
              "    fill: var(--disabled-fill-color);\n",
              "    box-shadow: none;\n",
              "  }\n",
              "\n",
              "  .colab-df-spinner {\n",
              "    border: 2px solid var(--fill-color);\n",
              "    border-color: transparent;\n",
              "    border-bottom-color: var(--fill-color);\n",
              "    animation:\n",
              "      spin 1s steps(1) infinite;\n",
              "  }\n",
              "\n",
              "  @keyframes spin {\n",
              "    0% {\n",
              "      border-color: transparent;\n",
              "      border-bottom-color: var(--fill-color);\n",
              "      border-left-color: var(--fill-color);\n",
              "    }\n",
              "    20% {\n",
              "      border-color: transparent;\n",
              "      border-left-color: var(--fill-color);\n",
              "      border-top-color: var(--fill-color);\n",
              "    }\n",
              "    30% {\n",
              "      border-color: transparent;\n",
              "      border-left-color: var(--fill-color);\n",
              "      border-top-color: var(--fill-color);\n",
              "      border-right-color: var(--fill-color);\n",
              "    }\n",
              "    40% {\n",
              "      border-color: transparent;\n",
              "      border-right-color: var(--fill-color);\n",
              "      border-top-color: var(--fill-color);\n",
              "    }\n",
              "    60% {\n",
              "      border-color: transparent;\n",
              "      border-right-color: var(--fill-color);\n",
              "    }\n",
              "    80% {\n",
              "      border-color: transparent;\n",
              "      border-right-color: var(--fill-color);\n",
              "      border-bottom-color: var(--fill-color);\n",
              "    }\n",
              "    90% {\n",
              "      border-color: transparent;\n",
              "      border-bottom-color: var(--fill-color);\n",
              "    }\n",
              "  }\n",
              "</style>\n",
              "\n",
              "  <script>\n",
              "    async function quickchart(key) {\n",
              "      const quickchartButtonEl =\n",
              "        document.querySelector('#' + key + ' button');\n",
              "      quickchartButtonEl.disabled = true;  // To prevent multiple clicks.\n",
              "      quickchartButtonEl.classList.add('colab-df-spinner');\n",
              "      try {\n",
              "        const charts = await google.colab.kernel.invokeFunction(\n",
              "            'suggestCharts', [key], {});\n",
              "      } catch (error) {\n",
              "        console.error('Error during call to suggestCharts:', error);\n",
              "      }\n",
              "      quickchartButtonEl.classList.remove('colab-df-spinner');\n",
              "      quickchartButtonEl.classList.add('colab-df-quickchart-complete');\n",
              "    }\n",
              "    (() => {\n",
              "      let quickchartButtonEl =\n",
              "        document.querySelector('#df-10e79cb5-6ad4-45d5-b392-8589df60195f button');\n",
              "      quickchartButtonEl.style.display =\n",
              "        google.colab.kernel.accessAllowed ? 'block' : 'none';\n",
              "    })();\n",
              "  </script>\n",
              "</div>\n",
              "    </div>\n",
              "  </div>\n"
            ]
          },
          "metadata": {},
          "execution_count": 17
        }
      ]
    },
    {
      "cell_type": "markdown",
      "source": [
        "### Формирование дополнительных данных"
      ],
      "metadata": {
        "id": "v3gHhg5xc-yp"
      }
    },
    {
      "cell_type": "markdown",
      "metadata": {
        "deletable": false,
        "editable": false,
        "id": "VLMTL8f0_oCk",
        "tags": [
          "start_task"
        ]
      },
      "source": [
        "Для последующего корректного анализа тарифов оператора сотовой связи \"Мегалайн\" нам необходимо посчитать количество:\n",
        "  - сделанных звонков разговора для каждого пользователя по месяцам;\n",
        "  - израсходованных минут разговора для каждого пользователя по месяцам;\n",
        "  - отправленных сообщений по месяцам для каждого пользователя;\n",
        "  - потраченных мегабайт по месяцам для каждого пользователя."
      ]
    },
    {
      "cell_type": "markdown",
      "source": [
        "Посчитаем количество сделанных звонков разговора для каждого пользователя по месяцам и сохраните в переменную `calls_per_month`."
      ],
      "metadata": {
        "id": "1ijEGOttkdFT"
      }
    },
    {
      "cell_type": "code",
      "execution_count": 18,
      "metadata": {
        "deletable": false,
        "id": "tMAmcPhC_oCl"
      },
      "outputs": [],
      "source": [
        "# подсчёт количества звонков для каждого пользователя по месяцам\n",
        "calls_per_month = calls.groupby(['user_id','month'])\\\n",
        ".agg(calls=('duration', 'count'))"
      ]
    },
    {
      "cell_type": "code",
      "execution_count": 19,
      "metadata": {
        "deletable": false,
        "id": "r8pvxWhj_oCl",
        "outputId": "e5f909a4-765c-457b-9b8c-28d0fabd121a",
        "colab": {
          "base_uri": "https://localhost:8080/",
          "height": 1000
        }
      },
      "outputs": [
        {
          "output_type": "execute_result",
          "data": {
            "text/plain": [
              "               calls\n",
              "user_id month       \n",
              "1000    5         22\n",
              "        6         43\n",
              "        7         47\n",
              "        8         52\n",
              "        9         58\n",
              "        10        57\n",
              "        11        43\n",
              "        12        46\n",
              "1001    11        59\n",
              "        12        63\n",
              "1002    6         15\n",
              "        7         26\n",
              "        8         42\n",
              "        9         36\n",
              "        10        33\n",
              "        11        32\n",
              "        12        33\n",
              "1003    8         55\n",
              "        9        134\n",
              "        10       108\n",
              "        11       115\n",
              "        12       108\n",
              "1004    5          9\n",
              "        6         31\n",
              "        7         22\n",
              "        8         19\n",
              "        9         26\n",
              "        10        29\n",
              "        11        19\n",
              "        12        21"
            ],
            "text/html": [
              "\n",
              "  <div id=\"df-59b11e2f-d20e-4eb3-8fab-18f4730f6b02\" class=\"colab-df-container\">\n",
              "    <div>\n",
              "<style scoped>\n",
              "    .dataframe tbody tr th:only-of-type {\n",
              "        vertical-align: middle;\n",
              "    }\n",
              "\n",
              "    .dataframe tbody tr th {\n",
              "        vertical-align: top;\n",
              "    }\n",
              "\n",
              "    .dataframe thead th {\n",
              "        text-align: right;\n",
              "    }\n",
              "</style>\n",
              "<table border=\"1\" class=\"dataframe\">\n",
              "  <thead>\n",
              "    <tr style=\"text-align: right;\">\n",
              "      <th></th>\n",
              "      <th></th>\n",
              "      <th>calls</th>\n",
              "    </tr>\n",
              "    <tr>\n",
              "      <th>user_id</th>\n",
              "      <th>month</th>\n",
              "      <th></th>\n",
              "    </tr>\n",
              "  </thead>\n",
              "  <tbody>\n",
              "    <tr>\n",
              "      <th rowspan=\"8\" valign=\"top\">1000</th>\n",
              "      <th>5</th>\n",
              "      <td>22</td>\n",
              "    </tr>\n",
              "    <tr>\n",
              "      <th>6</th>\n",
              "      <td>43</td>\n",
              "    </tr>\n",
              "    <tr>\n",
              "      <th>7</th>\n",
              "      <td>47</td>\n",
              "    </tr>\n",
              "    <tr>\n",
              "      <th>8</th>\n",
              "      <td>52</td>\n",
              "    </tr>\n",
              "    <tr>\n",
              "      <th>9</th>\n",
              "      <td>58</td>\n",
              "    </tr>\n",
              "    <tr>\n",
              "      <th>10</th>\n",
              "      <td>57</td>\n",
              "    </tr>\n",
              "    <tr>\n",
              "      <th>11</th>\n",
              "      <td>43</td>\n",
              "    </tr>\n",
              "    <tr>\n",
              "      <th>12</th>\n",
              "      <td>46</td>\n",
              "    </tr>\n",
              "    <tr>\n",
              "      <th rowspan=\"2\" valign=\"top\">1001</th>\n",
              "      <th>11</th>\n",
              "      <td>59</td>\n",
              "    </tr>\n",
              "    <tr>\n",
              "      <th>12</th>\n",
              "      <td>63</td>\n",
              "    </tr>\n",
              "    <tr>\n",
              "      <th rowspan=\"7\" valign=\"top\">1002</th>\n",
              "      <th>6</th>\n",
              "      <td>15</td>\n",
              "    </tr>\n",
              "    <tr>\n",
              "      <th>7</th>\n",
              "      <td>26</td>\n",
              "    </tr>\n",
              "    <tr>\n",
              "      <th>8</th>\n",
              "      <td>42</td>\n",
              "    </tr>\n",
              "    <tr>\n",
              "      <th>9</th>\n",
              "      <td>36</td>\n",
              "    </tr>\n",
              "    <tr>\n",
              "      <th>10</th>\n",
              "      <td>33</td>\n",
              "    </tr>\n",
              "    <tr>\n",
              "      <th>11</th>\n",
              "      <td>32</td>\n",
              "    </tr>\n",
              "    <tr>\n",
              "      <th>12</th>\n",
              "      <td>33</td>\n",
              "    </tr>\n",
              "    <tr>\n",
              "      <th rowspan=\"5\" valign=\"top\">1003</th>\n",
              "      <th>8</th>\n",
              "      <td>55</td>\n",
              "    </tr>\n",
              "    <tr>\n",
              "      <th>9</th>\n",
              "      <td>134</td>\n",
              "    </tr>\n",
              "    <tr>\n",
              "      <th>10</th>\n",
              "      <td>108</td>\n",
              "    </tr>\n",
              "    <tr>\n",
              "      <th>11</th>\n",
              "      <td>115</td>\n",
              "    </tr>\n",
              "    <tr>\n",
              "      <th>12</th>\n",
              "      <td>108</td>\n",
              "    </tr>\n",
              "    <tr>\n",
              "      <th rowspan=\"8\" valign=\"top\">1004</th>\n",
              "      <th>5</th>\n",
              "      <td>9</td>\n",
              "    </tr>\n",
              "    <tr>\n",
              "      <th>6</th>\n",
              "      <td>31</td>\n",
              "    </tr>\n",
              "    <tr>\n",
              "      <th>7</th>\n",
              "      <td>22</td>\n",
              "    </tr>\n",
              "    <tr>\n",
              "      <th>8</th>\n",
              "      <td>19</td>\n",
              "    </tr>\n",
              "    <tr>\n",
              "      <th>9</th>\n",
              "      <td>26</td>\n",
              "    </tr>\n",
              "    <tr>\n",
              "      <th>10</th>\n",
              "      <td>29</td>\n",
              "    </tr>\n",
              "    <tr>\n",
              "      <th>11</th>\n",
              "      <td>19</td>\n",
              "    </tr>\n",
              "    <tr>\n",
              "      <th>12</th>\n",
              "      <td>21</td>\n",
              "    </tr>\n",
              "  </tbody>\n",
              "</table>\n",
              "</div>\n",
              "    <div class=\"colab-df-buttons\">\n",
              "\n",
              "  <div class=\"colab-df-container\">\n",
              "    <button class=\"colab-df-convert\" onclick=\"convertToInteractive('df-59b11e2f-d20e-4eb3-8fab-18f4730f6b02')\"\n",
              "            title=\"Convert this dataframe to an interactive table.\"\n",
              "            style=\"display:none;\">\n",
              "\n",
              "  <svg xmlns=\"http://www.w3.org/2000/svg\" height=\"24px\" viewBox=\"0 -960 960 960\">\n",
              "    <path d=\"M120-120v-720h720v720H120Zm60-500h600v-160H180v160Zm220 220h160v-160H400v160Zm0 220h160v-160H400v160ZM180-400h160v-160H180v160Zm440 0h160v-160H620v160ZM180-180h160v-160H180v160Zm440 0h160v-160H620v160Z\"/>\n",
              "  </svg>\n",
              "    </button>\n",
              "\n",
              "  <style>\n",
              "    .colab-df-container {\n",
              "      display:flex;\n",
              "      gap: 12px;\n",
              "    }\n",
              "\n",
              "    .colab-df-convert {\n",
              "      background-color: #E8F0FE;\n",
              "      border: none;\n",
              "      border-radius: 50%;\n",
              "      cursor: pointer;\n",
              "      display: none;\n",
              "      fill: #1967D2;\n",
              "      height: 32px;\n",
              "      padding: 0 0 0 0;\n",
              "      width: 32px;\n",
              "    }\n",
              "\n",
              "    .colab-df-convert:hover {\n",
              "      background-color: #E2EBFA;\n",
              "      box-shadow: 0px 1px 2px rgba(60, 64, 67, 0.3), 0px 1px 3px 1px rgba(60, 64, 67, 0.15);\n",
              "      fill: #174EA6;\n",
              "    }\n",
              "\n",
              "    .colab-df-buttons div {\n",
              "      margin-bottom: 4px;\n",
              "    }\n",
              "\n",
              "    [theme=dark] .colab-df-convert {\n",
              "      background-color: #3B4455;\n",
              "      fill: #D2E3FC;\n",
              "    }\n",
              "\n",
              "    [theme=dark] .colab-df-convert:hover {\n",
              "      background-color: #434B5C;\n",
              "      box-shadow: 0px 1px 3px 1px rgba(0, 0, 0, 0.15);\n",
              "      filter: drop-shadow(0px 1px 2px rgba(0, 0, 0, 0.3));\n",
              "      fill: #FFFFFF;\n",
              "    }\n",
              "  </style>\n",
              "\n",
              "    <script>\n",
              "      const buttonEl =\n",
              "        document.querySelector('#df-59b11e2f-d20e-4eb3-8fab-18f4730f6b02 button.colab-df-convert');\n",
              "      buttonEl.style.display =\n",
              "        google.colab.kernel.accessAllowed ? 'block' : 'none';\n",
              "\n",
              "      async function convertToInteractive(key) {\n",
              "        const element = document.querySelector('#df-59b11e2f-d20e-4eb3-8fab-18f4730f6b02');\n",
              "        const dataTable =\n",
              "          await google.colab.kernel.invokeFunction('convertToInteractive',\n",
              "                                                    [key], {});\n",
              "        if (!dataTable) return;\n",
              "\n",
              "        const docLinkHtml = 'Like what you see? Visit the ' +\n",
              "          '<a target=\"_blank\" href=https://colab.research.google.com/notebooks/data_table.ipynb>data table notebook</a>'\n",
              "          + ' to learn more about interactive tables.';\n",
              "        element.innerHTML = '';\n",
              "        dataTable['output_type'] = 'display_data';\n",
              "        await google.colab.output.renderOutput(dataTable, element);\n",
              "        const docLink = document.createElement('div');\n",
              "        docLink.innerHTML = docLinkHtml;\n",
              "        element.appendChild(docLink);\n",
              "      }\n",
              "    </script>\n",
              "  </div>\n",
              "\n",
              "\n",
              "<div id=\"df-ad529c84-61f5-4c9e-a3fb-c8593643d5c7\">\n",
              "  <button class=\"colab-df-quickchart\" onclick=\"quickchart('df-ad529c84-61f5-4c9e-a3fb-c8593643d5c7')\"\n",
              "            title=\"Suggest charts.\"\n",
              "            style=\"display:none;\">\n",
              "\n",
              "<svg xmlns=\"http://www.w3.org/2000/svg\" height=\"24px\"viewBox=\"0 0 24 24\"\n",
              "     width=\"24px\">\n",
              "    <g>\n",
              "        <path d=\"M19 3H5c-1.1 0-2 .9-2 2v14c0 1.1.9 2 2 2h14c1.1 0 2-.9 2-2V5c0-1.1-.9-2-2-2zM9 17H7v-7h2v7zm4 0h-2V7h2v10zm4 0h-2v-4h2v4z\"/>\n",
              "    </g>\n",
              "</svg>\n",
              "  </button>\n",
              "\n",
              "<style>\n",
              "  .colab-df-quickchart {\n",
              "      --bg-color: #E8F0FE;\n",
              "      --fill-color: #1967D2;\n",
              "      --hover-bg-color: #E2EBFA;\n",
              "      --hover-fill-color: #174EA6;\n",
              "      --disabled-fill-color: #AAA;\n",
              "      --disabled-bg-color: #DDD;\n",
              "  }\n",
              "\n",
              "  [theme=dark] .colab-df-quickchart {\n",
              "      --bg-color: #3B4455;\n",
              "      --fill-color: #D2E3FC;\n",
              "      --hover-bg-color: #434B5C;\n",
              "      --hover-fill-color: #FFFFFF;\n",
              "      --disabled-bg-color: #3B4455;\n",
              "      --disabled-fill-color: #666;\n",
              "  }\n",
              "\n",
              "  .colab-df-quickchart {\n",
              "    background-color: var(--bg-color);\n",
              "    border: none;\n",
              "    border-radius: 50%;\n",
              "    cursor: pointer;\n",
              "    display: none;\n",
              "    fill: var(--fill-color);\n",
              "    height: 32px;\n",
              "    padding: 0;\n",
              "    width: 32px;\n",
              "  }\n",
              "\n",
              "  .colab-df-quickchart:hover {\n",
              "    background-color: var(--hover-bg-color);\n",
              "    box-shadow: 0 1px 2px rgba(60, 64, 67, 0.3), 0 1px 3px 1px rgba(60, 64, 67, 0.15);\n",
              "    fill: var(--button-hover-fill-color);\n",
              "  }\n",
              "\n",
              "  .colab-df-quickchart-complete:disabled,\n",
              "  .colab-df-quickchart-complete:disabled:hover {\n",
              "    background-color: var(--disabled-bg-color);\n",
              "    fill: var(--disabled-fill-color);\n",
              "    box-shadow: none;\n",
              "  }\n",
              "\n",
              "  .colab-df-spinner {\n",
              "    border: 2px solid var(--fill-color);\n",
              "    border-color: transparent;\n",
              "    border-bottom-color: var(--fill-color);\n",
              "    animation:\n",
              "      spin 1s steps(1) infinite;\n",
              "  }\n",
              "\n",
              "  @keyframes spin {\n",
              "    0% {\n",
              "      border-color: transparent;\n",
              "      border-bottom-color: var(--fill-color);\n",
              "      border-left-color: var(--fill-color);\n",
              "    }\n",
              "    20% {\n",
              "      border-color: transparent;\n",
              "      border-left-color: var(--fill-color);\n",
              "      border-top-color: var(--fill-color);\n",
              "    }\n",
              "    30% {\n",
              "      border-color: transparent;\n",
              "      border-left-color: var(--fill-color);\n",
              "      border-top-color: var(--fill-color);\n",
              "      border-right-color: var(--fill-color);\n",
              "    }\n",
              "    40% {\n",
              "      border-color: transparent;\n",
              "      border-right-color: var(--fill-color);\n",
              "      border-top-color: var(--fill-color);\n",
              "    }\n",
              "    60% {\n",
              "      border-color: transparent;\n",
              "      border-right-color: var(--fill-color);\n",
              "    }\n",
              "    80% {\n",
              "      border-color: transparent;\n",
              "      border-right-color: var(--fill-color);\n",
              "      border-bottom-color: var(--fill-color);\n",
              "    }\n",
              "    90% {\n",
              "      border-color: transparent;\n",
              "      border-bottom-color: var(--fill-color);\n",
              "    }\n",
              "  }\n",
              "</style>\n",
              "\n",
              "  <script>\n",
              "    async function quickchart(key) {\n",
              "      const quickchartButtonEl =\n",
              "        document.querySelector('#' + key + ' button');\n",
              "      quickchartButtonEl.disabled = true;  // To prevent multiple clicks.\n",
              "      quickchartButtonEl.classList.add('colab-df-spinner');\n",
              "      try {\n",
              "        const charts = await google.colab.kernel.invokeFunction(\n",
              "            'suggestCharts', [key], {});\n",
              "      } catch (error) {\n",
              "        console.error('Error during call to suggestCharts:', error);\n",
              "      }\n",
              "      quickchartButtonEl.classList.remove('colab-df-spinner');\n",
              "      quickchartButtonEl.classList.add('colab-df-quickchart-complete');\n",
              "    }\n",
              "    (() => {\n",
              "      let quickchartButtonEl =\n",
              "        document.querySelector('#df-ad529c84-61f5-4c9e-a3fb-c8593643d5c7 button');\n",
              "      quickchartButtonEl.style.display =\n",
              "        google.colab.kernel.accessAllowed ? 'block' : 'none';\n",
              "    })();\n",
              "  </script>\n",
              "</div>\n",
              "    </div>\n",
              "  </div>\n"
            ]
          },
          "metadata": {},
          "execution_count": 19
        }
      ],
      "source": [
        "# выведим 30 первых строк на экран\n",
        "calls_per_month.head(30)"
      ]
    },
    {
      "cell_type": "markdown",
      "metadata": {
        "deletable": false,
        "editable": false,
        "id": "2DUx3WnM_oCl",
        "tags": [
          "start_task"
        ]
      },
      "source": [
        "Посчитаем количество израсходованных минут разговора для каждого пользователя по месяцам и сохраните в переменную `minutes_per_month`."
      ]
    },
    {
      "cell_type": "code",
      "execution_count": 20,
      "metadata": {
        "deletable": false,
        "id": "ehr5Lhq-_oCl"
      },
      "outputs": [],
      "source": [
        "# подсчёт израсходованных минут для каждого пользователя по месяцам\n",
        "minutes_per_month = calls.groupby(['user_id','month'])\\\n",
        ".agg(minutes=('duration', 'sum'))"
      ]
    },
    {
      "cell_type": "code",
      "execution_count": 21,
      "metadata": {
        "deletable": false,
        "id": "-vbsnfVq_oCl",
        "outputId": "c61795ad-9f38-4c89-b949-5366a0db7ff4",
        "colab": {
          "base_uri": "https://localhost:8080/",
          "height": 1000
        }
      },
      "outputs": [
        {
          "output_type": "execute_result",
          "data": {
            "text/plain": [
              "               minutes\n",
              "user_id month         \n",
              "1000    5          159\n",
              "        6          172\n",
              "        7          340\n",
              "        8          408\n",
              "        9          466\n",
              "        10         350\n",
              "        11         338\n",
              "        12         333\n",
              "1001    11         430\n",
              "        12         414\n",
              "1002    6          117\n",
              "        7          214\n",
              "        8          289\n",
              "        9          206\n",
              "        10         212\n",
              "        11         243\n",
              "        12         236\n",
              "1003    8          380\n",
              "        9          961\n",
              "        10         855\n",
              "        11         824\n",
              "        12         802\n",
              "1004    5           35\n",
              "        6          171\n",
              "        7          135\n",
              "        8          137\n",
              "        9          117\n",
              "        10         145\n",
              "        11         117\n",
              "        12         130"
            ],
            "text/html": [
              "\n",
              "  <div id=\"df-5650320d-22cf-43bd-bbff-d44381408df1\" class=\"colab-df-container\">\n",
              "    <div>\n",
              "<style scoped>\n",
              "    .dataframe tbody tr th:only-of-type {\n",
              "        vertical-align: middle;\n",
              "    }\n",
              "\n",
              "    .dataframe tbody tr th {\n",
              "        vertical-align: top;\n",
              "    }\n",
              "\n",
              "    .dataframe thead th {\n",
              "        text-align: right;\n",
              "    }\n",
              "</style>\n",
              "<table border=\"1\" class=\"dataframe\">\n",
              "  <thead>\n",
              "    <tr style=\"text-align: right;\">\n",
              "      <th></th>\n",
              "      <th></th>\n",
              "      <th>minutes</th>\n",
              "    </tr>\n",
              "    <tr>\n",
              "      <th>user_id</th>\n",
              "      <th>month</th>\n",
              "      <th></th>\n",
              "    </tr>\n",
              "  </thead>\n",
              "  <tbody>\n",
              "    <tr>\n",
              "      <th rowspan=\"8\" valign=\"top\">1000</th>\n",
              "      <th>5</th>\n",
              "      <td>159</td>\n",
              "    </tr>\n",
              "    <tr>\n",
              "      <th>6</th>\n",
              "      <td>172</td>\n",
              "    </tr>\n",
              "    <tr>\n",
              "      <th>7</th>\n",
              "      <td>340</td>\n",
              "    </tr>\n",
              "    <tr>\n",
              "      <th>8</th>\n",
              "      <td>408</td>\n",
              "    </tr>\n",
              "    <tr>\n",
              "      <th>9</th>\n",
              "      <td>466</td>\n",
              "    </tr>\n",
              "    <tr>\n",
              "      <th>10</th>\n",
              "      <td>350</td>\n",
              "    </tr>\n",
              "    <tr>\n",
              "      <th>11</th>\n",
              "      <td>338</td>\n",
              "    </tr>\n",
              "    <tr>\n",
              "      <th>12</th>\n",
              "      <td>333</td>\n",
              "    </tr>\n",
              "    <tr>\n",
              "      <th rowspan=\"2\" valign=\"top\">1001</th>\n",
              "      <th>11</th>\n",
              "      <td>430</td>\n",
              "    </tr>\n",
              "    <tr>\n",
              "      <th>12</th>\n",
              "      <td>414</td>\n",
              "    </tr>\n",
              "    <tr>\n",
              "      <th rowspan=\"7\" valign=\"top\">1002</th>\n",
              "      <th>6</th>\n",
              "      <td>117</td>\n",
              "    </tr>\n",
              "    <tr>\n",
              "      <th>7</th>\n",
              "      <td>214</td>\n",
              "    </tr>\n",
              "    <tr>\n",
              "      <th>8</th>\n",
              "      <td>289</td>\n",
              "    </tr>\n",
              "    <tr>\n",
              "      <th>9</th>\n",
              "      <td>206</td>\n",
              "    </tr>\n",
              "    <tr>\n",
              "      <th>10</th>\n",
              "      <td>212</td>\n",
              "    </tr>\n",
              "    <tr>\n",
              "      <th>11</th>\n",
              "      <td>243</td>\n",
              "    </tr>\n",
              "    <tr>\n",
              "      <th>12</th>\n",
              "      <td>236</td>\n",
              "    </tr>\n",
              "    <tr>\n",
              "      <th rowspan=\"5\" valign=\"top\">1003</th>\n",
              "      <th>8</th>\n",
              "      <td>380</td>\n",
              "    </tr>\n",
              "    <tr>\n",
              "      <th>9</th>\n",
              "      <td>961</td>\n",
              "    </tr>\n",
              "    <tr>\n",
              "      <th>10</th>\n",
              "      <td>855</td>\n",
              "    </tr>\n",
              "    <tr>\n",
              "      <th>11</th>\n",
              "      <td>824</td>\n",
              "    </tr>\n",
              "    <tr>\n",
              "      <th>12</th>\n",
              "      <td>802</td>\n",
              "    </tr>\n",
              "    <tr>\n",
              "      <th rowspan=\"8\" valign=\"top\">1004</th>\n",
              "      <th>5</th>\n",
              "      <td>35</td>\n",
              "    </tr>\n",
              "    <tr>\n",
              "      <th>6</th>\n",
              "      <td>171</td>\n",
              "    </tr>\n",
              "    <tr>\n",
              "      <th>7</th>\n",
              "      <td>135</td>\n",
              "    </tr>\n",
              "    <tr>\n",
              "      <th>8</th>\n",
              "      <td>137</td>\n",
              "    </tr>\n",
              "    <tr>\n",
              "      <th>9</th>\n",
              "      <td>117</td>\n",
              "    </tr>\n",
              "    <tr>\n",
              "      <th>10</th>\n",
              "      <td>145</td>\n",
              "    </tr>\n",
              "    <tr>\n",
              "      <th>11</th>\n",
              "      <td>117</td>\n",
              "    </tr>\n",
              "    <tr>\n",
              "      <th>12</th>\n",
              "      <td>130</td>\n",
              "    </tr>\n",
              "  </tbody>\n",
              "</table>\n",
              "</div>\n",
              "    <div class=\"colab-df-buttons\">\n",
              "\n",
              "  <div class=\"colab-df-container\">\n",
              "    <button class=\"colab-df-convert\" onclick=\"convertToInteractive('df-5650320d-22cf-43bd-bbff-d44381408df1')\"\n",
              "            title=\"Convert this dataframe to an interactive table.\"\n",
              "            style=\"display:none;\">\n",
              "\n",
              "  <svg xmlns=\"http://www.w3.org/2000/svg\" height=\"24px\" viewBox=\"0 -960 960 960\">\n",
              "    <path d=\"M120-120v-720h720v720H120Zm60-500h600v-160H180v160Zm220 220h160v-160H400v160Zm0 220h160v-160H400v160ZM180-400h160v-160H180v160Zm440 0h160v-160H620v160ZM180-180h160v-160H180v160Zm440 0h160v-160H620v160Z\"/>\n",
              "  </svg>\n",
              "    </button>\n",
              "\n",
              "  <style>\n",
              "    .colab-df-container {\n",
              "      display:flex;\n",
              "      gap: 12px;\n",
              "    }\n",
              "\n",
              "    .colab-df-convert {\n",
              "      background-color: #E8F0FE;\n",
              "      border: none;\n",
              "      border-radius: 50%;\n",
              "      cursor: pointer;\n",
              "      display: none;\n",
              "      fill: #1967D2;\n",
              "      height: 32px;\n",
              "      padding: 0 0 0 0;\n",
              "      width: 32px;\n",
              "    }\n",
              "\n",
              "    .colab-df-convert:hover {\n",
              "      background-color: #E2EBFA;\n",
              "      box-shadow: 0px 1px 2px rgba(60, 64, 67, 0.3), 0px 1px 3px 1px rgba(60, 64, 67, 0.15);\n",
              "      fill: #174EA6;\n",
              "    }\n",
              "\n",
              "    .colab-df-buttons div {\n",
              "      margin-bottom: 4px;\n",
              "    }\n",
              "\n",
              "    [theme=dark] .colab-df-convert {\n",
              "      background-color: #3B4455;\n",
              "      fill: #D2E3FC;\n",
              "    }\n",
              "\n",
              "    [theme=dark] .colab-df-convert:hover {\n",
              "      background-color: #434B5C;\n",
              "      box-shadow: 0px 1px 3px 1px rgba(0, 0, 0, 0.15);\n",
              "      filter: drop-shadow(0px 1px 2px rgba(0, 0, 0, 0.3));\n",
              "      fill: #FFFFFF;\n",
              "    }\n",
              "  </style>\n",
              "\n",
              "    <script>\n",
              "      const buttonEl =\n",
              "        document.querySelector('#df-5650320d-22cf-43bd-bbff-d44381408df1 button.colab-df-convert');\n",
              "      buttonEl.style.display =\n",
              "        google.colab.kernel.accessAllowed ? 'block' : 'none';\n",
              "\n",
              "      async function convertToInteractive(key) {\n",
              "        const element = document.querySelector('#df-5650320d-22cf-43bd-bbff-d44381408df1');\n",
              "        const dataTable =\n",
              "          await google.colab.kernel.invokeFunction('convertToInteractive',\n",
              "                                                    [key], {});\n",
              "        if (!dataTable) return;\n",
              "\n",
              "        const docLinkHtml = 'Like what you see? Visit the ' +\n",
              "          '<a target=\"_blank\" href=https://colab.research.google.com/notebooks/data_table.ipynb>data table notebook</a>'\n",
              "          + ' to learn more about interactive tables.';\n",
              "        element.innerHTML = '';\n",
              "        dataTable['output_type'] = 'display_data';\n",
              "        await google.colab.output.renderOutput(dataTable, element);\n",
              "        const docLink = document.createElement('div');\n",
              "        docLink.innerHTML = docLinkHtml;\n",
              "        element.appendChild(docLink);\n",
              "      }\n",
              "    </script>\n",
              "  </div>\n",
              "\n",
              "\n",
              "<div id=\"df-92b1f720-f995-4e23-a891-da0099874655\">\n",
              "  <button class=\"colab-df-quickchart\" onclick=\"quickchart('df-92b1f720-f995-4e23-a891-da0099874655')\"\n",
              "            title=\"Suggest charts.\"\n",
              "            style=\"display:none;\">\n",
              "\n",
              "<svg xmlns=\"http://www.w3.org/2000/svg\" height=\"24px\"viewBox=\"0 0 24 24\"\n",
              "     width=\"24px\">\n",
              "    <g>\n",
              "        <path d=\"M19 3H5c-1.1 0-2 .9-2 2v14c0 1.1.9 2 2 2h14c1.1 0 2-.9 2-2V5c0-1.1-.9-2-2-2zM9 17H7v-7h2v7zm4 0h-2V7h2v10zm4 0h-2v-4h2v4z\"/>\n",
              "    </g>\n",
              "</svg>\n",
              "  </button>\n",
              "\n",
              "<style>\n",
              "  .colab-df-quickchart {\n",
              "      --bg-color: #E8F0FE;\n",
              "      --fill-color: #1967D2;\n",
              "      --hover-bg-color: #E2EBFA;\n",
              "      --hover-fill-color: #174EA6;\n",
              "      --disabled-fill-color: #AAA;\n",
              "      --disabled-bg-color: #DDD;\n",
              "  }\n",
              "\n",
              "  [theme=dark] .colab-df-quickchart {\n",
              "      --bg-color: #3B4455;\n",
              "      --fill-color: #D2E3FC;\n",
              "      --hover-bg-color: #434B5C;\n",
              "      --hover-fill-color: #FFFFFF;\n",
              "      --disabled-bg-color: #3B4455;\n",
              "      --disabled-fill-color: #666;\n",
              "  }\n",
              "\n",
              "  .colab-df-quickchart {\n",
              "    background-color: var(--bg-color);\n",
              "    border: none;\n",
              "    border-radius: 50%;\n",
              "    cursor: pointer;\n",
              "    display: none;\n",
              "    fill: var(--fill-color);\n",
              "    height: 32px;\n",
              "    padding: 0;\n",
              "    width: 32px;\n",
              "  }\n",
              "\n",
              "  .colab-df-quickchart:hover {\n",
              "    background-color: var(--hover-bg-color);\n",
              "    box-shadow: 0 1px 2px rgba(60, 64, 67, 0.3), 0 1px 3px 1px rgba(60, 64, 67, 0.15);\n",
              "    fill: var(--button-hover-fill-color);\n",
              "  }\n",
              "\n",
              "  .colab-df-quickchart-complete:disabled,\n",
              "  .colab-df-quickchart-complete:disabled:hover {\n",
              "    background-color: var(--disabled-bg-color);\n",
              "    fill: var(--disabled-fill-color);\n",
              "    box-shadow: none;\n",
              "  }\n",
              "\n",
              "  .colab-df-spinner {\n",
              "    border: 2px solid var(--fill-color);\n",
              "    border-color: transparent;\n",
              "    border-bottom-color: var(--fill-color);\n",
              "    animation:\n",
              "      spin 1s steps(1) infinite;\n",
              "  }\n",
              "\n",
              "  @keyframes spin {\n",
              "    0% {\n",
              "      border-color: transparent;\n",
              "      border-bottom-color: var(--fill-color);\n",
              "      border-left-color: var(--fill-color);\n",
              "    }\n",
              "    20% {\n",
              "      border-color: transparent;\n",
              "      border-left-color: var(--fill-color);\n",
              "      border-top-color: var(--fill-color);\n",
              "    }\n",
              "    30% {\n",
              "      border-color: transparent;\n",
              "      border-left-color: var(--fill-color);\n",
              "      border-top-color: var(--fill-color);\n",
              "      border-right-color: var(--fill-color);\n",
              "    }\n",
              "    40% {\n",
              "      border-color: transparent;\n",
              "      border-right-color: var(--fill-color);\n",
              "      border-top-color: var(--fill-color);\n",
              "    }\n",
              "    60% {\n",
              "      border-color: transparent;\n",
              "      border-right-color: var(--fill-color);\n",
              "    }\n",
              "    80% {\n",
              "      border-color: transparent;\n",
              "      border-right-color: var(--fill-color);\n",
              "      border-bottom-color: var(--fill-color);\n",
              "    }\n",
              "    90% {\n",
              "      border-color: transparent;\n",
              "      border-bottom-color: var(--fill-color);\n",
              "    }\n",
              "  }\n",
              "</style>\n",
              "\n",
              "  <script>\n",
              "    async function quickchart(key) {\n",
              "      const quickchartButtonEl =\n",
              "        document.querySelector('#' + key + ' button');\n",
              "      quickchartButtonEl.disabled = true;  // To prevent multiple clicks.\n",
              "      quickchartButtonEl.classList.add('colab-df-spinner');\n",
              "      try {\n",
              "        const charts = await google.colab.kernel.invokeFunction(\n",
              "            'suggestCharts', [key], {});\n",
              "      } catch (error) {\n",
              "        console.error('Error during call to suggestCharts:', error);\n",
              "      }\n",
              "      quickchartButtonEl.classList.remove('colab-df-spinner');\n",
              "      quickchartButtonEl.classList.add('colab-df-quickchart-complete');\n",
              "    }\n",
              "    (() => {\n",
              "      let quickchartButtonEl =\n",
              "        document.querySelector('#df-92b1f720-f995-4e23-a891-da0099874655 button');\n",
              "      quickchartButtonEl.style.display =\n",
              "        google.colab.kernel.accessAllowed ? 'block' : 'none';\n",
              "    })();\n",
              "  </script>\n",
              "</div>\n",
              "    </div>\n",
              "  </div>\n"
            ]
          },
          "metadata": {},
          "execution_count": 21
        }
      ],
      "source": [
        "# выведим первые 30 строк на экран\n",
        "minutes_per_month.head(30)"
      ]
    },
    {
      "cell_type": "markdown",
      "metadata": {
        "deletable": false,
        "editable": false,
        "id": "bjTWE47D_oCl",
        "tags": [
          "start_task"
        ]
      },
      "source": [
        "Посчитаем количество отправленных сообщений по месяцам для каждого пользователя и сохраните в переменную `messages_per_month`."
      ]
    },
    {
      "cell_type": "code",
      "execution_count": 22,
      "metadata": {
        "deletable": false,
        "id": "YiS9waG7_oCl"
      },
      "outputs": [],
      "source": [
        "# подсчёт количества отправленных сообщений для каждого пользователя по месяцам\n",
        "messages_per_month = messages.groupby(['user_id','month'])\\\n",
        ".agg(messages=('message_date', 'count'))"
      ]
    },
    {
      "cell_type": "code",
      "execution_count": 23,
      "metadata": {
        "deletable": false,
        "id": "aaDNanZ0_oCm",
        "outputId": "77069ce5-eb34-4877-b964-65120ae7291c",
        "colab": {
          "base_uri": "https://localhost:8080/",
          "height": 1000
        }
      },
      "outputs": [
        {
          "output_type": "execute_result",
          "data": {
            "text/plain": [
              "               messages\n",
              "user_id month          \n",
              "1000    5            22\n",
              "        6            60\n",
              "        7            75\n",
              "        8            81\n",
              "        9            57\n",
              "        10           73\n",
              "        11           58\n",
              "        12           70\n",
              "1002    6             4\n",
              "        7            11\n",
              "        8            13\n",
              "        9             4\n",
              "        10           10\n",
              "        11           16\n",
              "        12           12\n",
              "1003    8            37\n",
              "        9            91\n",
              "        10           83\n",
              "        11           94\n",
              "        12           75\n",
              "1004    5            95\n",
              "        6           134\n",
              "        7           181\n",
              "        8           151\n",
              "        9           146\n",
              "        10          165\n",
              "        11          158\n",
              "        12          162\n",
              "1005    1             7\n",
              "        2            38"
            ],
            "text/html": [
              "\n",
              "  <div id=\"df-89f8eeea-7405-4572-9640-e593f58d39da\" class=\"colab-df-container\">\n",
              "    <div>\n",
              "<style scoped>\n",
              "    .dataframe tbody tr th:only-of-type {\n",
              "        vertical-align: middle;\n",
              "    }\n",
              "\n",
              "    .dataframe tbody tr th {\n",
              "        vertical-align: top;\n",
              "    }\n",
              "\n",
              "    .dataframe thead th {\n",
              "        text-align: right;\n",
              "    }\n",
              "</style>\n",
              "<table border=\"1\" class=\"dataframe\">\n",
              "  <thead>\n",
              "    <tr style=\"text-align: right;\">\n",
              "      <th></th>\n",
              "      <th></th>\n",
              "      <th>messages</th>\n",
              "    </tr>\n",
              "    <tr>\n",
              "      <th>user_id</th>\n",
              "      <th>month</th>\n",
              "      <th></th>\n",
              "    </tr>\n",
              "  </thead>\n",
              "  <tbody>\n",
              "    <tr>\n",
              "      <th rowspan=\"8\" valign=\"top\">1000</th>\n",
              "      <th>5</th>\n",
              "      <td>22</td>\n",
              "    </tr>\n",
              "    <tr>\n",
              "      <th>6</th>\n",
              "      <td>60</td>\n",
              "    </tr>\n",
              "    <tr>\n",
              "      <th>7</th>\n",
              "      <td>75</td>\n",
              "    </tr>\n",
              "    <tr>\n",
              "      <th>8</th>\n",
              "      <td>81</td>\n",
              "    </tr>\n",
              "    <tr>\n",
              "      <th>9</th>\n",
              "      <td>57</td>\n",
              "    </tr>\n",
              "    <tr>\n",
              "      <th>10</th>\n",
              "      <td>73</td>\n",
              "    </tr>\n",
              "    <tr>\n",
              "      <th>11</th>\n",
              "      <td>58</td>\n",
              "    </tr>\n",
              "    <tr>\n",
              "      <th>12</th>\n",
              "      <td>70</td>\n",
              "    </tr>\n",
              "    <tr>\n",
              "      <th rowspan=\"7\" valign=\"top\">1002</th>\n",
              "      <th>6</th>\n",
              "      <td>4</td>\n",
              "    </tr>\n",
              "    <tr>\n",
              "      <th>7</th>\n",
              "      <td>11</td>\n",
              "    </tr>\n",
              "    <tr>\n",
              "      <th>8</th>\n",
              "      <td>13</td>\n",
              "    </tr>\n",
              "    <tr>\n",
              "      <th>9</th>\n",
              "      <td>4</td>\n",
              "    </tr>\n",
              "    <tr>\n",
              "      <th>10</th>\n",
              "      <td>10</td>\n",
              "    </tr>\n",
              "    <tr>\n",
              "      <th>11</th>\n",
              "      <td>16</td>\n",
              "    </tr>\n",
              "    <tr>\n",
              "      <th>12</th>\n",
              "      <td>12</td>\n",
              "    </tr>\n",
              "    <tr>\n",
              "      <th rowspan=\"5\" valign=\"top\">1003</th>\n",
              "      <th>8</th>\n",
              "      <td>37</td>\n",
              "    </tr>\n",
              "    <tr>\n",
              "      <th>9</th>\n",
              "      <td>91</td>\n",
              "    </tr>\n",
              "    <tr>\n",
              "      <th>10</th>\n",
              "      <td>83</td>\n",
              "    </tr>\n",
              "    <tr>\n",
              "      <th>11</th>\n",
              "      <td>94</td>\n",
              "    </tr>\n",
              "    <tr>\n",
              "      <th>12</th>\n",
              "      <td>75</td>\n",
              "    </tr>\n",
              "    <tr>\n",
              "      <th rowspan=\"8\" valign=\"top\">1004</th>\n",
              "      <th>5</th>\n",
              "      <td>95</td>\n",
              "    </tr>\n",
              "    <tr>\n",
              "      <th>6</th>\n",
              "      <td>134</td>\n",
              "    </tr>\n",
              "    <tr>\n",
              "      <th>7</th>\n",
              "      <td>181</td>\n",
              "    </tr>\n",
              "    <tr>\n",
              "      <th>8</th>\n",
              "      <td>151</td>\n",
              "    </tr>\n",
              "    <tr>\n",
              "      <th>9</th>\n",
              "      <td>146</td>\n",
              "    </tr>\n",
              "    <tr>\n",
              "      <th>10</th>\n",
              "      <td>165</td>\n",
              "    </tr>\n",
              "    <tr>\n",
              "      <th>11</th>\n",
              "      <td>158</td>\n",
              "    </tr>\n",
              "    <tr>\n",
              "      <th>12</th>\n",
              "      <td>162</td>\n",
              "    </tr>\n",
              "    <tr>\n",
              "      <th rowspan=\"2\" valign=\"top\">1005</th>\n",
              "      <th>1</th>\n",
              "      <td>7</td>\n",
              "    </tr>\n",
              "    <tr>\n",
              "      <th>2</th>\n",
              "      <td>38</td>\n",
              "    </tr>\n",
              "  </tbody>\n",
              "</table>\n",
              "</div>\n",
              "    <div class=\"colab-df-buttons\">\n",
              "\n",
              "  <div class=\"colab-df-container\">\n",
              "    <button class=\"colab-df-convert\" onclick=\"convertToInteractive('df-89f8eeea-7405-4572-9640-e593f58d39da')\"\n",
              "            title=\"Convert this dataframe to an interactive table.\"\n",
              "            style=\"display:none;\">\n",
              "\n",
              "  <svg xmlns=\"http://www.w3.org/2000/svg\" height=\"24px\" viewBox=\"0 -960 960 960\">\n",
              "    <path d=\"M120-120v-720h720v720H120Zm60-500h600v-160H180v160Zm220 220h160v-160H400v160Zm0 220h160v-160H400v160ZM180-400h160v-160H180v160Zm440 0h160v-160H620v160ZM180-180h160v-160H180v160Zm440 0h160v-160H620v160Z\"/>\n",
              "  </svg>\n",
              "    </button>\n",
              "\n",
              "  <style>\n",
              "    .colab-df-container {\n",
              "      display:flex;\n",
              "      gap: 12px;\n",
              "    }\n",
              "\n",
              "    .colab-df-convert {\n",
              "      background-color: #E8F0FE;\n",
              "      border: none;\n",
              "      border-radius: 50%;\n",
              "      cursor: pointer;\n",
              "      display: none;\n",
              "      fill: #1967D2;\n",
              "      height: 32px;\n",
              "      padding: 0 0 0 0;\n",
              "      width: 32px;\n",
              "    }\n",
              "\n",
              "    .colab-df-convert:hover {\n",
              "      background-color: #E2EBFA;\n",
              "      box-shadow: 0px 1px 2px rgba(60, 64, 67, 0.3), 0px 1px 3px 1px rgba(60, 64, 67, 0.15);\n",
              "      fill: #174EA6;\n",
              "    }\n",
              "\n",
              "    .colab-df-buttons div {\n",
              "      margin-bottom: 4px;\n",
              "    }\n",
              "\n",
              "    [theme=dark] .colab-df-convert {\n",
              "      background-color: #3B4455;\n",
              "      fill: #D2E3FC;\n",
              "    }\n",
              "\n",
              "    [theme=dark] .colab-df-convert:hover {\n",
              "      background-color: #434B5C;\n",
              "      box-shadow: 0px 1px 3px 1px rgba(0, 0, 0, 0.15);\n",
              "      filter: drop-shadow(0px 1px 2px rgba(0, 0, 0, 0.3));\n",
              "      fill: #FFFFFF;\n",
              "    }\n",
              "  </style>\n",
              "\n",
              "    <script>\n",
              "      const buttonEl =\n",
              "        document.querySelector('#df-89f8eeea-7405-4572-9640-e593f58d39da button.colab-df-convert');\n",
              "      buttonEl.style.display =\n",
              "        google.colab.kernel.accessAllowed ? 'block' : 'none';\n",
              "\n",
              "      async function convertToInteractive(key) {\n",
              "        const element = document.querySelector('#df-89f8eeea-7405-4572-9640-e593f58d39da');\n",
              "        const dataTable =\n",
              "          await google.colab.kernel.invokeFunction('convertToInteractive',\n",
              "                                                    [key], {});\n",
              "        if (!dataTable) return;\n",
              "\n",
              "        const docLinkHtml = 'Like what you see? Visit the ' +\n",
              "          '<a target=\"_blank\" href=https://colab.research.google.com/notebooks/data_table.ipynb>data table notebook</a>'\n",
              "          + ' to learn more about interactive tables.';\n",
              "        element.innerHTML = '';\n",
              "        dataTable['output_type'] = 'display_data';\n",
              "        await google.colab.output.renderOutput(dataTable, element);\n",
              "        const docLink = document.createElement('div');\n",
              "        docLink.innerHTML = docLinkHtml;\n",
              "        element.appendChild(docLink);\n",
              "      }\n",
              "    </script>\n",
              "  </div>\n",
              "\n",
              "\n",
              "<div id=\"df-281b34e1-4023-4adc-b03b-b7d30fc366d9\">\n",
              "  <button class=\"colab-df-quickchart\" onclick=\"quickchart('df-281b34e1-4023-4adc-b03b-b7d30fc366d9')\"\n",
              "            title=\"Suggest charts.\"\n",
              "            style=\"display:none;\">\n",
              "\n",
              "<svg xmlns=\"http://www.w3.org/2000/svg\" height=\"24px\"viewBox=\"0 0 24 24\"\n",
              "     width=\"24px\">\n",
              "    <g>\n",
              "        <path d=\"M19 3H5c-1.1 0-2 .9-2 2v14c0 1.1.9 2 2 2h14c1.1 0 2-.9 2-2V5c0-1.1-.9-2-2-2zM9 17H7v-7h2v7zm4 0h-2V7h2v10zm4 0h-2v-4h2v4z\"/>\n",
              "    </g>\n",
              "</svg>\n",
              "  </button>\n",
              "\n",
              "<style>\n",
              "  .colab-df-quickchart {\n",
              "      --bg-color: #E8F0FE;\n",
              "      --fill-color: #1967D2;\n",
              "      --hover-bg-color: #E2EBFA;\n",
              "      --hover-fill-color: #174EA6;\n",
              "      --disabled-fill-color: #AAA;\n",
              "      --disabled-bg-color: #DDD;\n",
              "  }\n",
              "\n",
              "  [theme=dark] .colab-df-quickchart {\n",
              "      --bg-color: #3B4455;\n",
              "      --fill-color: #D2E3FC;\n",
              "      --hover-bg-color: #434B5C;\n",
              "      --hover-fill-color: #FFFFFF;\n",
              "      --disabled-bg-color: #3B4455;\n",
              "      --disabled-fill-color: #666;\n",
              "  }\n",
              "\n",
              "  .colab-df-quickchart {\n",
              "    background-color: var(--bg-color);\n",
              "    border: none;\n",
              "    border-radius: 50%;\n",
              "    cursor: pointer;\n",
              "    display: none;\n",
              "    fill: var(--fill-color);\n",
              "    height: 32px;\n",
              "    padding: 0;\n",
              "    width: 32px;\n",
              "  }\n",
              "\n",
              "  .colab-df-quickchart:hover {\n",
              "    background-color: var(--hover-bg-color);\n",
              "    box-shadow: 0 1px 2px rgba(60, 64, 67, 0.3), 0 1px 3px 1px rgba(60, 64, 67, 0.15);\n",
              "    fill: var(--button-hover-fill-color);\n",
              "  }\n",
              "\n",
              "  .colab-df-quickchart-complete:disabled,\n",
              "  .colab-df-quickchart-complete:disabled:hover {\n",
              "    background-color: var(--disabled-bg-color);\n",
              "    fill: var(--disabled-fill-color);\n",
              "    box-shadow: none;\n",
              "  }\n",
              "\n",
              "  .colab-df-spinner {\n",
              "    border: 2px solid var(--fill-color);\n",
              "    border-color: transparent;\n",
              "    border-bottom-color: var(--fill-color);\n",
              "    animation:\n",
              "      spin 1s steps(1) infinite;\n",
              "  }\n",
              "\n",
              "  @keyframes spin {\n",
              "    0% {\n",
              "      border-color: transparent;\n",
              "      border-bottom-color: var(--fill-color);\n",
              "      border-left-color: var(--fill-color);\n",
              "    }\n",
              "    20% {\n",
              "      border-color: transparent;\n",
              "      border-left-color: var(--fill-color);\n",
              "      border-top-color: var(--fill-color);\n",
              "    }\n",
              "    30% {\n",
              "      border-color: transparent;\n",
              "      border-left-color: var(--fill-color);\n",
              "      border-top-color: var(--fill-color);\n",
              "      border-right-color: var(--fill-color);\n",
              "    }\n",
              "    40% {\n",
              "      border-color: transparent;\n",
              "      border-right-color: var(--fill-color);\n",
              "      border-top-color: var(--fill-color);\n",
              "    }\n",
              "    60% {\n",
              "      border-color: transparent;\n",
              "      border-right-color: var(--fill-color);\n",
              "    }\n",
              "    80% {\n",
              "      border-color: transparent;\n",
              "      border-right-color: var(--fill-color);\n",
              "      border-bottom-color: var(--fill-color);\n",
              "    }\n",
              "    90% {\n",
              "      border-color: transparent;\n",
              "      border-bottom-color: var(--fill-color);\n",
              "    }\n",
              "  }\n",
              "</style>\n",
              "\n",
              "  <script>\n",
              "    async function quickchart(key) {\n",
              "      const quickchartButtonEl =\n",
              "        document.querySelector('#' + key + ' button');\n",
              "      quickchartButtonEl.disabled = true;  // To prevent multiple clicks.\n",
              "      quickchartButtonEl.classList.add('colab-df-spinner');\n",
              "      try {\n",
              "        const charts = await google.colab.kernel.invokeFunction(\n",
              "            'suggestCharts', [key], {});\n",
              "      } catch (error) {\n",
              "        console.error('Error during call to suggestCharts:', error);\n",
              "      }\n",
              "      quickchartButtonEl.classList.remove('colab-df-spinner');\n",
              "      quickchartButtonEl.classList.add('colab-df-quickchart-complete');\n",
              "    }\n",
              "    (() => {\n",
              "      let quickchartButtonEl =\n",
              "        document.querySelector('#df-281b34e1-4023-4adc-b03b-b7d30fc366d9 button');\n",
              "      quickchartButtonEl.style.display =\n",
              "        google.colab.kernel.accessAllowed ? 'block' : 'none';\n",
              "    })();\n",
              "  </script>\n",
              "</div>\n",
              "    </div>\n",
              "  </div>\n"
            ]
          },
          "metadata": {},
          "execution_count": 23
        }
      ],
      "source": [
        "# выведим первые 30 строк на экран\n",
        "messages_per_month.head(30)"
      ]
    },
    {
      "cell_type": "markdown",
      "metadata": {
        "deletable": false,
        "editable": false,
        "id": "9PZFHjUU_oCm",
        "tags": [
          "start_task"
        ]
      },
      "source": [
        "Посчитаем количество потраченных мегабайт по месяцам для каждого пользователя и сохраните в переменную `sessions_per_month`."
      ]
    },
    {
      "cell_type": "code",
      "execution_count": 24,
      "metadata": {
        "deletable": false,
        "id": "-ITlvcsU_oCm"
      },
      "outputs": [],
      "source": [
        "# подсчёт потраченных мегабайт для каждого пользователя по месяцам\n",
        "sessions_per_month = sessions.groupby(['user_id','month'])\\\n",
        ".agg({'mb_used':'sum'})"
      ]
    },
    {
      "cell_type": "code",
      "execution_count": 25,
      "metadata": {
        "deletable": false,
        "id": "YF7FQfXf_oCm",
        "outputId": "050ada88-4976-48bd-db15-8bf86c8a5634",
        "colab": {
          "base_uri": "https://localhost:8080/",
          "height": 1000
        }
      },
      "outputs": [
        {
          "output_type": "execute_result",
          "data": {
            "text/plain": [
              "               mb_used\n",
              "user_id month         \n",
              "1000    5       2253.5\n",
              "        6      23233.8\n",
              "        7      14003.6\n",
              "        8      14055.9\n",
              "        9      14568.9\n",
              "        10     14702.5\n",
              "        11     14756.5\n",
              "        12      9817.6\n",
              "1001    11     18429.3\n",
              "        12     14036.7\n",
              "1002    6      10856.8\n",
              "        7      17580.1\n",
              "        8      20319.3\n",
              "        9      16691.1\n",
              "        10     13888.2\n",
              "        11     18587.3\n",
              "        12     18113.7\n",
              "1003    8       8565.2\n",
              "        9      12468.9\n",
              "        10     14768.1\n",
              "        11     11356.9\n",
              "        12     10121.5\n",
              "1004    5      13404.0\n",
              "        6      17600.0\n",
              "        7      22229.6\n",
              "        8      28584.4\n",
              "        9      15109.0\n",
              "        10     18475.4\n",
              "        11     15616.0\n",
              "        12     18021.0"
            ],
            "text/html": [
              "\n",
              "  <div id=\"df-bfec6698-deb6-4cf3-a9b0-3eeb01e13df1\" class=\"colab-df-container\">\n",
              "    <div>\n",
              "<style scoped>\n",
              "    .dataframe tbody tr th:only-of-type {\n",
              "        vertical-align: middle;\n",
              "    }\n",
              "\n",
              "    .dataframe tbody tr th {\n",
              "        vertical-align: top;\n",
              "    }\n",
              "\n",
              "    .dataframe thead th {\n",
              "        text-align: right;\n",
              "    }\n",
              "</style>\n",
              "<table border=\"1\" class=\"dataframe\">\n",
              "  <thead>\n",
              "    <tr style=\"text-align: right;\">\n",
              "      <th></th>\n",
              "      <th></th>\n",
              "      <th>mb_used</th>\n",
              "    </tr>\n",
              "    <tr>\n",
              "      <th>user_id</th>\n",
              "      <th>month</th>\n",
              "      <th></th>\n",
              "    </tr>\n",
              "  </thead>\n",
              "  <tbody>\n",
              "    <tr>\n",
              "      <th rowspan=\"8\" valign=\"top\">1000</th>\n",
              "      <th>5</th>\n",
              "      <td>2253.5</td>\n",
              "    </tr>\n",
              "    <tr>\n",
              "      <th>6</th>\n",
              "      <td>23233.8</td>\n",
              "    </tr>\n",
              "    <tr>\n",
              "      <th>7</th>\n",
              "      <td>14003.6</td>\n",
              "    </tr>\n",
              "    <tr>\n",
              "      <th>8</th>\n",
              "      <td>14055.9</td>\n",
              "    </tr>\n",
              "    <tr>\n",
              "      <th>9</th>\n",
              "      <td>14568.9</td>\n",
              "    </tr>\n",
              "    <tr>\n",
              "      <th>10</th>\n",
              "      <td>14702.5</td>\n",
              "    </tr>\n",
              "    <tr>\n",
              "      <th>11</th>\n",
              "      <td>14756.5</td>\n",
              "    </tr>\n",
              "    <tr>\n",
              "      <th>12</th>\n",
              "      <td>9817.6</td>\n",
              "    </tr>\n",
              "    <tr>\n",
              "      <th rowspan=\"2\" valign=\"top\">1001</th>\n",
              "      <th>11</th>\n",
              "      <td>18429.3</td>\n",
              "    </tr>\n",
              "    <tr>\n",
              "      <th>12</th>\n",
              "      <td>14036.7</td>\n",
              "    </tr>\n",
              "    <tr>\n",
              "      <th rowspan=\"7\" valign=\"top\">1002</th>\n",
              "      <th>6</th>\n",
              "      <td>10856.8</td>\n",
              "    </tr>\n",
              "    <tr>\n",
              "      <th>7</th>\n",
              "      <td>17580.1</td>\n",
              "    </tr>\n",
              "    <tr>\n",
              "      <th>8</th>\n",
              "      <td>20319.3</td>\n",
              "    </tr>\n",
              "    <tr>\n",
              "      <th>9</th>\n",
              "      <td>16691.1</td>\n",
              "    </tr>\n",
              "    <tr>\n",
              "      <th>10</th>\n",
              "      <td>13888.2</td>\n",
              "    </tr>\n",
              "    <tr>\n",
              "      <th>11</th>\n",
              "      <td>18587.3</td>\n",
              "    </tr>\n",
              "    <tr>\n",
              "      <th>12</th>\n",
              "      <td>18113.7</td>\n",
              "    </tr>\n",
              "    <tr>\n",
              "      <th rowspan=\"5\" valign=\"top\">1003</th>\n",
              "      <th>8</th>\n",
              "      <td>8565.2</td>\n",
              "    </tr>\n",
              "    <tr>\n",
              "      <th>9</th>\n",
              "      <td>12468.9</td>\n",
              "    </tr>\n",
              "    <tr>\n",
              "      <th>10</th>\n",
              "      <td>14768.1</td>\n",
              "    </tr>\n",
              "    <tr>\n",
              "      <th>11</th>\n",
              "      <td>11356.9</td>\n",
              "    </tr>\n",
              "    <tr>\n",
              "      <th>12</th>\n",
              "      <td>10121.5</td>\n",
              "    </tr>\n",
              "    <tr>\n",
              "      <th rowspan=\"8\" valign=\"top\">1004</th>\n",
              "      <th>5</th>\n",
              "      <td>13404.0</td>\n",
              "    </tr>\n",
              "    <tr>\n",
              "      <th>6</th>\n",
              "      <td>17600.0</td>\n",
              "    </tr>\n",
              "    <tr>\n",
              "      <th>7</th>\n",
              "      <td>22229.6</td>\n",
              "    </tr>\n",
              "    <tr>\n",
              "      <th>8</th>\n",
              "      <td>28584.4</td>\n",
              "    </tr>\n",
              "    <tr>\n",
              "      <th>9</th>\n",
              "      <td>15109.0</td>\n",
              "    </tr>\n",
              "    <tr>\n",
              "      <th>10</th>\n",
              "      <td>18475.4</td>\n",
              "    </tr>\n",
              "    <tr>\n",
              "      <th>11</th>\n",
              "      <td>15616.0</td>\n",
              "    </tr>\n",
              "    <tr>\n",
              "      <th>12</th>\n",
              "      <td>18021.0</td>\n",
              "    </tr>\n",
              "  </tbody>\n",
              "</table>\n",
              "</div>\n",
              "    <div class=\"colab-df-buttons\">\n",
              "\n",
              "  <div class=\"colab-df-container\">\n",
              "    <button class=\"colab-df-convert\" onclick=\"convertToInteractive('df-bfec6698-deb6-4cf3-a9b0-3eeb01e13df1')\"\n",
              "            title=\"Convert this dataframe to an interactive table.\"\n",
              "            style=\"display:none;\">\n",
              "\n",
              "  <svg xmlns=\"http://www.w3.org/2000/svg\" height=\"24px\" viewBox=\"0 -960 960 960\">\n",
              "    <path d=\"M120-120v-720h720v720H120Zm60-500h600v-160H180v160Zm220 220h160v-160H400v160Zm0 220h160v-160H400v160ZM180-400h160v-160H180v160Zm440 0h160v-160H620v160ZM180-180h160v-160H180v160Zm440 0h160v-160H620v160Z\"/>\n",
              "  </svg>\n",
              "    </button>\n",
              "\n",
              "  <style>\n",
              "    .colab-df-container {\n",
              "      display:flex;\n",
              "      gap: 12px;\n",
              "    }\n",
              "\n",
              "    .colab-df-convert {\n",
              "      background-color: #E8F0FE;\n",
              "      border: none;\n",
              "      border-radius: 50%;\n",
              "      cursor: pointer;\n",
              "      display: none;\n",
              "      fill: #1967D2;\n",
              "      height: 32px;\n",
              "      padding: 0 0 0 0;\n",
              "      width: 32px;\n",
              "    }\n",
              "\n",
              "    .colab-df-convert:hover {\n",
              "      background-color: #E2EBFA;\n",
              "      box-shadow: 0px 1px 2px rgba(60, 64, 67, 0.3), 0px 1px 3px 1px rgba(60, 64, 67, 0.15);\n",
              "      fill: #174EA6;\n",
              "    }\n",
              "\n",
              "    .colab-df-buttons div {\n",
              "      margin-bottom: 4px;\n",
              "    }\n",
              "\n",
              "    [theme=dark] .colab-df-convert {\n",
              "      background-color: #3B4455;\n",
              "      fill: #D2E3FC;\n",
              "    }\n",
              "\n",
              "    [theme=dark] .colab-df-convert:hover {\n",
              "      background-color: #434B5C;\n",
              "      box-shadow: 0px 1px 3px 1px rgba(0, 0, 0, 0.15);\n",
              "      filter: drop-shadow(0px 1px 2px rgba(0, 0, 0, 0.3));\n",
              "      fill: #FFFFFF;\n",
              "    }\n",
              "  </style>\n",
              "\n",
              "    <script>\n",
              "      const buttonEl =\n",
              "        document.querySelector('#df-bfec6698-deb6-4cf3-a9b0-3eeb01e13df1 button.colab-df-convert');\n",
              "      buttonEl.style.display =\n",
              "        google.colab.kernel.accessAllowed ? 'block' : 'none';\n",
              "\n",
              "      async function convertToInteractive(key) {\n",
              "        const element = document.querySelector('#df-bfec6698-deb6-4cf3-a9b0-3eeb01e13df1');\n",
              "        const dataTable =\n",
              "          await google.colab.kernel.invokeFunction('convertToInteractive',\n",
              "                                                    [key], {});\n",
              "        if (!dataTable) return;\n",
              "\n",
              "        const docLinkHtml = 'Like what you see? Visit the ' +\n",
              "          '<a target=\"_blank\" href=https://colab.research.google.com/notebooks/data_table.ipynb>data table notebook</a>'\n",
              "          + ' to learn more about interactive tables.';\n",
              "        element.innerHTML = '';\n",
              "        dataTable['output_type'] = 'display_data';\n",
              "        await google.colab.output.renderOutput(dataTable, element);\n",
              "        const docLink = document.createElement('div');\n",
              "        docLink.innerHTML = docLinkHtml;\n",
              "        element.appendChild(docLink);\n",
              "      }\n",
              "    </script>\n",
              "  </div>\n",
              "\n",
              "\n",
              "<div id=\"df-54dd2b7e-7fbb-4a5d-8919-0a0a0967f21a\">\n",
              "  <button class=\"colab-df-quickchart\" onclick=\"quickchart('df-54dd2b7e-7fbb-4a5d-8919-0a0a0967f21a')\"\n",
              "            title=\"Suggest charts.\"\n",
              "            style=\"display:none;\">\n",
              "\n",
              "<svg xmlns=\"http://www.w3.org/2000/svg\" height=\"24px\"viewBox=\"0 0 24 24\"\n",
              "     width=\"24px\">\n",
              "    <g>\n",
              "        <path d=\"M19 3H5c-1.1 0-2 .9-2 2v14c0 1.1.9 2 2 2h14c1.1 0 2-.9 2-2V5c0-1.1-.9-2-2-2zM9 17H7v-7h2v7zm4 0h-2V7h2v10zm4 0h-2v-4h2v4z\"/>\n",
              "    </g>\n",
              "</svg>\n",
              "  </button>\n",
              "\n",
              "<style>\n",
              "  .colab-df-quickchart {\n",
              "      --bg-color: #E8F0FE;\n",
              "      --fill-color: #1967D2;\n",
              "      --hover-bg-color: #E2EBFA;\n",
              "      --hover-fill-color: #174EA6;\n",
              "      --disabled-fill-color: #AAA;\n",
              "      --disabled-bg-color: #DDD;\n",
              "  }\n",
              "\n",
              "  [theme=dark] .colab-df-quickchart {\n",
              "      --bg-color: #3B4455;\n",
              "      --fill-color: #D2E3FC;\n",
              "      --hover-bg-color: #434B5C;\n",
              "      --hover-fill-color: #FFFFFF;\n",
              "      --disabled-bg-color: #3B4455;\n",
              "      --disabled-fill-color: #666;\n",
              "  }\n",
              "\n",
              "  .colab-df-quickchart {\n",
              "    background-color: var(--bg-color);\n",
              "    border: none;\n",
              "    border-radius: 50%;\n",
              "    cursor: pointer;\n",
              "    display: none;\n",
              "    fill: var(--fill-color);\n",
              "    height: 32px;\n",
              "    padding: 0;\n",
              "    width: 32px;\n",
              "  }\n",
              "\n",
              "  .colab-df-quickchart:hover {\n",
              "    background-color: var(--hover-bg-color);\n",
              "    box-shadow: 0 1px 2px rgba(60, 64, 67, 0.3), 0 1px 3px 1px rgba(60, 64, 67, 0.15);\n",
              "    fill: var(--button-hover-fill-color);\n",
              "  }\n",
              "\n",
              "  .colab-df-quickchart-complete:disabled,\n",
              "  .colab-df-quickchart-complete:disabled:hover {\n",
              "    background-color: var(--disabled-bg-color);\n",
              "    fill: var(--disabled-fill-color);\n",
              "    box-shadow: none;\n",
              "  }\n",
              "\n",
              "  .colab-df-spinner {\n",
              "    border: 2px solid var(--fill-color);\n",
              "    border-color: transparent;\n",
              "    border-bottom-color: var(--fill-color);\n",
              "    animation:\n",
              "      spin 1s steps(1) infinite;\n",
              "  }\n",
              "\n",
              "  @keyframes spin {\n",
              "    0% {\n",
              "      border-color: transparent;\n",
              "      border-bottom-color: var(--fill-color);\n",
              "      border-left-color: var(--fill-color);\n",
              "    }\n",
              "    20% {\n",
              "      border-color: transparent;\n",
              "      border-left-color: var(--fill-color);\n",
              "      border-top-color: var(--fill-color);\n",
              "    }\n",
              "    30% {\n",
              "      border-color: transparent;\n",
              "      border-left-color: var(--fill-color);\n",
              "      border-top-color: var(--fill-color);\n",
              "      border-right-color: var(--fill-color);\n",
              "    }\n",
              "    40% {\n",
              "      border-color: transparent;\n",
              "      border-right-color: var(--fill-color);\n",
              "      border-top-color: var(--fill-color);\n",
              "    }\n",
              "    60% {\n",
              "      border-color: transparent;\n",
              "      border-right-color: var(--fill-color);\n",
              "    }\n",
              "    80% {\n",
              "      border-color: transparent;\n",
              "      border-right-color: var(--fill-color);\n",
              "      border-bottom-color: var(--fill-color);\n",
              "    }\n",
              "    90% {\n",
              "      border-color: transparent;\n",
              "      border-bottom-color: var(--fill-color);\n",
              "    }\n",
              "  }\n",
              "</style>\n",
              "\n",
              "  <script>\n",
              "    async function quickchart(key) {\n",
              "      const quickchartButtonEl =\n",
              "        document.querySelector('#' + key + ' button');\n",
              "      quickchartButtonEl.disabled = true;  // To prevent multiple clicks.\n",
              "      quickchartButtonEl.classList.add('colab-df-spinner');\n",
              "      try {\n",
              "        const charts = await google.colab.kernel.invokeFunction(\n",
              "            'suggestCharts', [key], {});\n",
              "      } catch (error) {\n",
              "        console.error('Error during call to suggestCharts:', error);\n",
              "      }\n",
              "      quickchartButtonEl.classList.remove('colab-df-spinner');\n",
              "      quickchartButtonEl.classList.add('colab-df-quickchart-complete');\n",
              "    }\n",
              "    (() => {\n",
              "      let quickchartButtonEl =\n",
              "        document.querySelector('#df-54dd2b7e-7fbb-4a5d-8919-0a0a0967f21a button');\n",
              "      quickchartButtonEl.style.display =\n",
              "        google.colab.kernel.accessAllowed ? 'block' : 'none';\n",
              "    })();\n",
              "  </script>\n",
              "</div>\n",
              "    </div>\n",
              "  </div>\n"
            ]
          },
          "metadata": {},
          "execution_count": 25
        }
      ],
      "source": [
        "# выведим первые 30 строк на экран\n",
        "sessions_per_month.head(30)"
      ]
    },
    {
      "cell_type": "markdown",
      "source": [
        "**Итог:**\n",
        "\n",
        "На данном шаге мы подготовили данные для последующего анализа:\n",
        "- В датасетах `users`, `calls`, `messages`, `sessions` привели данные к правильным типам;\n",
        "- В датасете `sessions` удалили колонку `Unnamed: 0`;\n",
        "- В датасетах `calls`, `messages`, `sessions` добавили колонку `month` с номером месяца;\n",
        "- Подготовители дополнительные данные, а именно посчитали количество:\n",
        "  - сделанных звонков разговора для каждого пользователя по месяцам - датасет `calls_per_month`;\n",
        "  - израсходованных минут разговора для каждого пользователя по месяцам - датасет `minutes_per_month`;\n",
        "  - отправленных сообщений по месяцам для каждого пользователя - `messages_per_month`;\n",
        "  - потраченных мегабайт по месяцам для каждого пользователя - `sessions_per_month`."
      ],
      "metadata": {
        "id": "LemEHSPKr5CX"
      }
    },
    {
      "cell_type": "markdown",
      "metadata": {
        "deletable": false,
        "editable": false,
        "id": "GF37Inq-_oCn"
      },
      "source": [
        "## Шаг 3. Анализ данных"
      ]
    },
    {
      "cell_type": "markdown",
      "source": [
        "Исследовательский анализ данных и подсчёт помесячной выручки вычислим по следующим шагам:\n",
        "- отнимем бесплатный лимит от суммарного количества звонков, сообщений и интернет-трафика;\n",
        "- остаток умножим на значение из тарифного плана;\n",
        "- к результату прибавим абонентскую плату, соответствующую тарифному плану.\n",
        "\n",
        "Для начала рассмотрим сколько клиентов, предаставленных в датасете `users`, рассторгли договор с оператором сотовой связи."
      ],
      "metadata": {
        "id": "mDbYlzsuIOV6"
      }
    },
    {
      "cell_type": "code",
      "execution_count": 26,
      "metadata": {
        "deletable": false,
        "id": "SDchqQI5_oCn",
        "outputId": "42ddd9a6-f718-4c5d-e3b1-3357e0f52ee2",
        "colab": {
          "base_uri": "https://localhost:8080/"
        }
      },
      "outputs": [
        {
          "output_type": "stream",
          "name": "stdout",
          "text": [
            "Кол-во клиентов, рассторгнувших договорв равно 7.6 %\n"
          ]
        }
      ],
      "source": [
        "print('Кол-во клиентов, рассторгнувших договорв равно',\n",
        "      users['churn_date'].count() / users['churn_date'].shape[0] * 100, '%')"
      ]
    },
    {
      "cell_type": "markdown",
      "metadata": {
        "deletable": false,
        "editable": false,
        "id": "7U9eZ81t_oCn"
      },
      "source": [
        "Объединяем все посчитанные значения на `Шаге 2. Подготовка данных` в один датасет `user_behavior`.\n",
        "\n",
        "Для каждой пары «пользователь — месяц» нам будут доступны информация о тарифе, количестве звонков, сообщений и потраченных мегабайтах."
      ]
    },
    {
      "cell_type": "code",
      "execution_count": 27,
      "metadata": {
        "deletable": false,
        "id": "QJuiD1cd_oCo"
      },
      "outputs": [],
      "source": [
        "# соединим датасеты 'messages_per_month', 'sessions_per_month', 'minutes_per_month'\n",
        "# 'users' методом merge\n",
        "user_behavior = calls_per_month\\\n",
        "    .merge(messages_per_month, left_index=True, right_index=True, how='outer')\\\n",
        "    .merge(sessions_per_month, left_index=True, right_index=True, how='outer')\\\n",
        "    .merge(minutes_per_month, left_index=True, right_index=True, how='outer')\\\n",
        "    .reset_index()\\\n",
        "    .merge(users, how='left', left_on='user_id', right_on='user_id')"
      ]
    },
    {
      "cell_type": "code",
      "source": [
        "# выведим первые пять строк вновь созданного датасета\n",
        "user_behavior.head()"
      ],
      "metadata": {
        "colab": {
          "base_uri": "https://localhost:8080/",
          "height": 313
        },
        "id": "Ho9R74fvMfTW",
        "outputId": "e91648f5-4a9c-4df2-ac79-ad8b9508da94"
      },
      "execution_count": 28,
      "outputs": [
        {
          "output_type": "execute_result",
          "data": {
            "text/plain": [
              "   user_id  month  calls  messages  mb_used  minutes  age churn_date  \\\n",
              "0     1000      5   22.0      22.0   2253.5    159.0   52        NaT   \n",
              "1     1000      6   43.0      60.0  23233.8    172.0   52        NaT   \n",
              "2     1000      7   47.0      75.0  14003.6    340.0   52        NaT   \n",
              "3     1000      8   52.0      81.0  14055.9    408.0   52        NaT   \n",
              "4     1000      9   58.0      57.0  14568.9    466.0   52        NaT   \n",
              "\n",
              "        city first_name  last_name   reg_date tariff  \n",
              "0  Краснодар     Рафаил  Верещагин 2018-05-25  ultra  \n",
              "1  Краснодар     Рафаил  Верещагин 2018-05-25  ultra  \n",
              "2  Краснодар     Рафаил  Верещагин 2018-05-25  ultra  \n",
              "3  Краснодар     Рафаил  Верещагин 2018-05-25  ultra  \n",
              "4  Краснодар     Рафаил  Верещагин 2018-05-25  ultra  "
            ],
            "text/html": [
              "\n",
              "  <div id=\"df-dc3bb7a4-8f25-4961-9457-33883ce60cab\" class=\"colab-df-container\">\n",
              "    <div>\n",
              "<style scoped>\n",
              "    .dataframe tbody tr th:only-of-type {\n",
              "        vertical-align: middle;\n",
              "    }\n",
              "\n",
              "    .dataframe tbody tr th {\n",
              "        vertical-align: top;\n",
              "    }\n",
              "\n",
              "    .dataframe thead th {\n",
              "        text-align: right;\n",
              "    }\n",
              "</style>\n",
              "<table border=\"1\" class=\"dataframe\">\n",
              "  <thead>\n",
              "    <tr style=\"text-align: right;\">\n",
              "      <th></th>\n",
              "      <th>user_id</th>\n",
              "      <th>month</th>\n",
              "      <th>calls</th>\n",
              "      <th>messages</th>\n",
              "      <th>mb_used</th>\n",
              "      <th>minutes</th>\n",
              "      <th>age</th>\n",
              "      <th>churn_date</th>\n",
              "      <th>city</th>\n",
              "      <th>first_name</th>\n",
              "      <th>last_name</th>\n",
              "      <th>reg_date</th>\n",
              "      <th>tariff</th>\n",
              "    </tr>\n",
              "  </thead>\n",
              "  <tbody>\n",
              "    <tr>\n",
              "      <th>0</th>\n",
              "      <td>1000</td>\n",
              "      <td>5</td>\n",
              "      <td>22.0</td>\n",
              "      <td>22.0</td>\n",
              "      <td>2253.5</td>\n",
              "      <td>159.0</td>\n",
              "      <td>52</td>\n",
              "      <td>NaT</td>\n",
              "      <td>Краснодар</td>\n",
              "      <td>Рафаил</td>\n",
              "      <td>Верещагин</td>\n",
              "      <td>2018-05-25</td>\n",
              "      <td>ultra</td>\n",
              "    </tr>\n",
              "    <tr>\n",
              "      <th>1</th>\n",
              "      <td>1000</td>\n",
              "      <td>6</td>\n",
              "      <td>43.0</td>\n",
              "      <td>60.0</td>\n",
              "      <td>23233.8</td>\n",
              "      <td>172.0</td>\n",
              "      <td>52</td>\n",
              "      <td>NaT</td>\n",
              "      <td>Краснодар</td>\n",
              "      <td>Рафаил</td>\n",
              "      <td>Верещагин</td>\n",
              "      <td>2018-05-25</td>\n",
              "      <td>ultra</td>\n",
              "    </tr>\n",
              "    <tr>\n",
              "      <th>2</th>\n",
              "      <td>1000</td>\n",
              "      <td>7</td>\n",
              "      <td>47.0</td>\n",
              "      <td>75.0</td>\n",
              "      <td>14003.6</td>\n",
              "      <td>340.0</td>\n",
              "      <td>52</td>\n",
              "      <td>NaT</td>\n",
              "      <td>Краснодар</td>\n",
              "      <td>Рафаил</td>\n",
              "      <td>Верещагин</td>\n",
              "      <td>2018-05-25</td>\n",
              "      <td>ultra</td>\n",
              "    </tr>\n",
              "    <tr>\n",
              "      <th>3</th>\n",
              "      <td>1000</td>\n",
              "      <td>8</td>\n",
              "      <td>52.0</td>\n",
              "      <td>81.0</td>\n",
              "      <td>14055.9</td>\n",
              "      <td>408.0</td>\n",
              "      <td>52</td>\n",
              "      <td>NaT</td>\n",
              "      <td>Краснодар</td>\n",
              "      <td>Рафаил</td>\n",
              "      <td>Верещагин</td>\n",
              "      <td>2018-05-25</td>\n",
              "      <td>ultra</td>\n",
              "    </tr>\n",
              "    <tr>\n",
              "      <th>4</th>\n",
              "      <td>1000</td>\n",
              "      <td>9</td>\n",
              "      <td>58.0</td>\n",
              "      <td>57.0</td>\n",
              "      <td>14568.9</td>\n",
              "      <td>466.0</td>\n",
              "      <td>52</td>\n",
              "      <td>NaT</td>\n",
              "      <td>Краснодар</td>\n",
              "      <td>Рафаил</td>\n",
              "      <td>Верещагин</td>\n",
              "      <td>2018-05-25</td>\n",
              "      <td>ultra</td>\n",
              "    </tr>\n",
              "  </tbody>\n",
              "</table>\n",
              "</div>\n",
              "    <div class=\"colab-df-buttons\">\n",
              "\n",
              "  <div class=\"colab-df-container\">\n",
              "    <button class=\"colab-df-convert\" onclick=\"convertToInteractive('df-dc3bb7a4-8f25-4961-9457-33883ce60cab')\"\n",
              "            title=\"Convert this dataframe to an interactive table.\"\n",
              "            style=\"display:none;\">\n",
              "\n",
              "  <svg xmlns=\"http://www.w3.org/2000/svg\" height=\"24px\" viewBox=\"0 -960 960 960\">\n",
              "    <path d=\"M120-120v-720h720v720H120Zm60-500h600v-160H180v160Zm220 220h160v-160H400v160Zm0 220h160v-160H400v160ZM180-400h160v-160H180v160Zm440 0h160v-160H620v160ZM180-180h160v-160H180v160Zm440 0h160v-160H620v160Z\"/>\n",
              "  </svg>\n",
              "    </button>\n",
              "\n",
              "  <style>\n",
              "    .colab-df-container {\n",
              "      display:flex;\n",
              "      gap: 12px;\n",
              "    }\n",
              "\n",
              "    .colab-df-convert {\n",
              "      background-color: #E8F0FE;\n",
              "      border: none;\n",
              "      border-radius: 50%;\n",
              "      cursor: pointer;\n",
              "      display: none;\n",
              "      fill: #1967D2;\n",
              "      height: 32px;\n",
              "      padding: 0 0 0 0;\n",
              "      width: 32px;\n",
              "    }\n",
              "\n",
              "    .colab-df-convert:hover {\n",
              "      background-color: #E2EBFA;\n",
              "      box-shadow: 0px 1px 2px rgba(60, 64, 67, 0.3), 0px 1px 3px 1px rgba(60, 64, 67, 0.15);\n",
              "      fill: #174EA6;\n",
              "    }\n",
              "\n",
              "    .colab-df-buttons div {\n",
              "      margin-bottom: 4px;\n",
              "    }\n",
              "\n",
              "    [theme=dark] .colab-df-convert {\n",
              "      background-color: #3B4455;\n",
              "      fill: #D2E3FC;\n",
              "    }\n",
              "\n",
              "    [theme=dark] .colab-df-convert:hover {\n",
              "      background-color: #434B5C;\n",
              "      box-shadow: 0px 1px 3px 1px rgba(0, 0, 0, 0.15);\n",
              "      filter: drop-shadow(0px 1px 2px rgba(0, 0, 0, 0.3));\n",
              "      fill: #FFFFFF;\n",
              "    }\n",
              "  </style>\n",
              "\n",
              "    <script>\n",
              "      const buttonEl =\n",
              "        document.querySelector('#df-dc3bb7a4-8f25-4961-9457-33883ce60cab button.colab-df-convert');\n",
              "      buttonEl.style.display =\n",
              "        google.colab.kernel.accessAllowed ? 'block' : 'none';\n",
              "\n",
              "      async function convertToInteractive(key) {\n",
              "        const element = document.querySelector('#df-dc3bb7a4-8f25-4961-9457-33883ce60cab');\n",
              "        const dataTable =\n",
              "          await google.colab.kernel.invokeFunction('convertToInteractive',\n",
              "                                                    [key], {});\n",
              "        if (!dataTable) return;\n",
              "\n",
              "        const docLinkHtml = 'Like what you see? Visit the ' +\n",
              "          '<a target=\"_blank\" href=https://colab.research.google.com/notebooks/data_table.ipynb>data table notebook</a>'\n",
              "          + ' to learn more about interactive tables.';\n",
              "        element.innerHTML = '';\n",
              "        dataTable['output_type'] = 'display_data';\n",
              "        await google.colab.output.renderOutput(dataTable, element);\n",
              "        const docLink = document.createElement('div');\n",
              "        docLink.innerHTML = docLinkHtml;\n",
              "        element.appendChild(docLink);\n",
              "      }\n",
              "    </script>\n",
              "  </div>\n",
              "\n",
              "\n",
              "<div id=\"df-ec9903c5-327a-419e-8701-56e15f2fcdde\">\n",
              "  <button class=\"colab-df-quickchart\" onclick=\"quickchart('df-ec9903c5-327a-419e-8701-56e15f2fcdde')\"\n",
              "            title=\"Suggest charts.\"\n",
              "            style=\"display:none;\">\n",
              "\n",
              "<svg xmlns=\"http://www.w3.org/2000/svg\" height=\"24px\"viewBox=\"0 0 24 24\"\n",
              "     width=\"24px\">\n",
              "    <g>\n",
              "        <path d=\"M19 3H5c-1.1 0-2 .9-2 2v14c0 1.1.9 2 2 2h14c1.1 0 2-.9 2-2V5c0-1.1-.9-2-2-2zM9 17H7v-7h2v7zm4 0h-2V7h2v10zm4 0h-2v-4h2v4z\"/>\n",
              "    </g>\n",
              "</svg>\n",
              "  </button>\n",
              "\n",
              "<style>\n",
              "  .colab-df-quickchart {\n",
              "      --bg-color: #E8F0FE;\n",
              "      --fill-color: #1967D2;\n",
              "      --hover-bg-color: #E2EBFA;\n",
              "      --hover-fill-color: #174EA6;\n",
              "      --disabled-fill-color: #AAA;\n",
              "      --disabled-bg-color: #DDD;\n",
              "  }\n",
              "\n",
              "  [theme=dark] .colab-df-quickchart {\n",
              "      --bg-color: #3B4455;\n",
              "      --fill-color: #D2E3FC;\n",
              "      --hover-bg-color: #434B5C;\n",
              "      --hover-fill-color: #FFFFFF;\n",
              "      --disabled-bg-color: #3B4455;\n",
              "      --disabled-fill-color: #666;\n",
              "  }\n",
              "\n",
              "  .colab-df-quickchart {\n",
              "    background-color: var(--bg-color);\n",
              "    border: none;\n",
              "    border-radius: 50%;\n",
              "    cursor: pointer;\n",
              "    display: none;\n",
              "    fill: var(--fill-color);\n",
              "    height: 32px;\n",
              "    padding: 0;\n",
              "    width: 32px;\n",
              "  }\n",
              "\n",
              "  .colab-df-quickchart:hover {\n",
              "    background-color: var(--hover-bg-color);\n",
              "    box-shadow: 0 1px 2px rgba(60, 64, 67, 0.3), 0 1px 3px 1px rgba(60, 64, 67, 0.15);\n",
              "    fill: var(--button-hover-fill-color);\n",
              "  }\n",
              "\n",
              "  .colab-df-quickchart-complete:disabled,\n",
              "  .colab-df-quickchart-complete:disabled:hover {\n",
              "    background-color: var(--disabled-bg-color);\n",
              "    fill: var(--disabled-fill-color);\n",
              "    box-shadow: none;\n",
              "  }\n",
              "\n",
              "  .colab-df-spinner {\n",
              "    border: 2px solid var(--fill-color);\n",
              "    border-color: transparent;\n",
              "    border-bottom-color: var(--fill-color);\n",
              "    animation:\n",
              "      spin 1s steps(1) infinite;\n",
              "  }\n",
              "\n",
              "  @keyframes spin {\n",
              "    0% {\n",
              "      border-color: transparent;\n",
              "      border-bottom-color: var(--fill-color);\n",
              "      border-left-color: var(--fill-color);\n",
              "    }\n",
              "    20% {\n",
              "      border-color: transparent;\n",
              "      border-left-color: var(--fill-color);\n",
              "      border-top-color: var(--fill-color);\n",
              "    }\n",
              "    30% {\n",
              "      border-color: transparent;\n",
              "      border-left-color: var(--fill-color);\n",
              "      border-top-color: var(--fill-color);\n",
              "      border-right-color: var(--fill-color);\n",
              "    }\n",
              "    40% {\n",
              "      border-color: transparent;\n",
              "      border-right-color: var(--fill-color);\n",
              "      border-top-color: var(--fill-color);\n",
              "    }\n",
              "    60% {\n",
              "      border-color: transparent;\n",
              "      border-right-color: var(--fill-color);\n",
              "    }\n",
              "    80% {\n",
              "      border-color: transparent;\n",
              "      border-right-color: var(--fill-color);\n",
              "      border-bottom-color: var(--fill-color);\n",
              "    }\n",
              "    90% {\n",
              "      border-color: transparent;\n",
              "      border-bottom-color: var(--fill-color);\n",
              "    }\n",
              "  }\n",
              "</style>\n",
              "\n",
              "  <script>\n",
              "    async function quickchart(key) {\n",
              "      const quickchartButtonEl =\n",
              "        document.querySelector('#' + key + ' button');\n",
              "      quickchartButtonEl.disabled = true;  // To prevent multiple clicks.\n",
              "      quickchartButtonEl.classList.add('colab-df-spinner');\n",
              "      try {\n",
              "        const charts = await google.colab.kernel.invokeFunction(\n",
              "            'suggestCharts', [key], {});\n",
              "      } catch (error) {\n",
              "        console.error('Error during call to suggestCharts:', error);\n",
              "      }\n",
              "      quickchartButtonEl.classList.remove('colab-df-spinner');\n",
              "      quickchartButtonEl.classList.add('colab-df-quickchart-complete');\n",
              "    }\n",
              "    (() => {\n",
              "      let quickchartButtonEl =\n",
              "        document.querySelector('#df-ec9903c5-327a-419e-8701-56e15f2fcdde button');\n",
              "      quickchartButtonEl.style.display =\n",
              "        google.colab.kernel.accessAllowed ? 'block' : 'none';\n",
              "    })();\n",
              "  </script>\n",
              "</div>\n",
              "    </div>\n",
              "  </div>\n"
            ]
          },
          "metadata": {},
          "execution_count": 28
        }
      ]
    },
    {
      "cell_type": "markdown",
      "metadata": {
        "deletable": false,
        "editable": false,
        "id": "9Kif7-vi_oCo"
      },
      "source": [
        "Проверим пропуски в таблице `user_behavior` после объединения."
      ]
    },
    {
      "cell_type": "code",
      "execution_count": 29,
      "metadata": {
        "deletable": false,
        "id": "MExwRr6x_oCo",
        "outputId": "018b5901-866d-4604-c2a5-0a51924e4ce4",
        "colab": {
          "base_uri": "https://localhost:8080/"
        }
      },
      "outputs": [
        {
          "output_type": "execute_result",
          "data": {
            "text/plain": [
              "user_id          0\n",
              "month            0\n",
              "calls           40\n",
              "messages       497\n",
              "mb_used         11\n",
              "minutes         40\n",
              "age              0\n",
              "churn_date    3027\n",
              "city             0\n",
              "first_name       0\n",
              "last_name        0\n",
              "reg_date         0\n",
              "tariff           0\n",
              "dtype: int64"
            ]
          },
          "metadata": {},
          "execution_count": 29
        }
      ],
      "source": [
        "# посчитаем кол-во пропусков в датасете 'user_behavior'\n",
        "user_behavior.isna().sum()"
      ]
    },
    {
      "cell_type": "markdown",
      "metadata": {
        "deletable": false,
        "editable": false,
        "id": "eNUHBFPI_oCo"
      },
      "source": [
        "В датасете `user_behavior` наблюдаем пропуски в пяти колонках:\n",
        "- `churn_date` - 3027;\n",
        "- `messages` - 497;\n",
        "- `minutes` - 40;\n",
        "- `calls` - 40;\n",
        "- `mb_used` - 11.\n",
        "\n",
        "Колонка `churn_date` хранит в себе дату о рассторжении договора клиента с оператором, по этому данные пропуски имеют место быть и заполнять их необязательно. Остальные колонки обработаем, заполнив образовавшиеся пропуски в данных:"
      ]
    },
    {
      "cell_type": "code",
      "execution_count": 30,
      "metadata": {
        "deletable": false,
        "id": "2aCyfvNX_oCo"
      },
      "outputs": [],
      "source": [
        "# заполним пропуски в колонках, кроме колонки 'churn_date'\n",
        "user_behavior['calls'] = user_behavior['calls'].fillna(0)\n",
        "user_behavior['minutes'] = user_behavior['minutes'].fillna(0)\n",
        "user_behavior['messages'] = user_behavior['messages'].fillna(0)\n",
        "user_behavior['mb_used'] = user_behavior['mb_used'].fillna(0)"
      ]
    },
    {
      "cell_type": "markdown",
      "metadata": {
        "deletable": false,
        "editable": false,
        "id": "JTszP_Iy_oCo"
      },
      "source": [
        "Присоединяем информацию о тарифах"
      ]
    },
    {
      "cell_type": "code",
      "execution_count": 31,
      "metadata": {
        "deletable": false,
        "id": "zmnnqTIq_oCo"
      },
      "outputs": [],
      "source": [
        "# переименуем столбец tariff_name на более простое tariff\n",
        "\n",
        "tariffs = tariffs.rename(\n",
        "    columns={\n",
        "        'tariff_name': 'tariff'\n",
        "    }\n",
        ")"
      ]
    },
    {
      "cell_type": "code",
      "execution_count": 32,
      "metadata": {
        "deletable": false,
        "id": "hop7kFhB_oCp"
      },
      "outputs": [],
      "source": [
        "# присоединим информацию о тарифах к датасету 'user_behavior'\n",
        "user_behavior = user_behavior.merge(tariffs, on='tariff')"
      ]
    },
    {
      "cell_type": "markdown",
      "metadata": {
        "deletable": false,
        "editable": false,
        "id": "aJZeqJwL_oCp"
      },
      "source": [
        "Посчитаем количество минут разговора, сообщений и мегабайт, превышающих включённые в тариф и сохраним в новые колонки датасета:\n",
        "- `paid_minutes` - кол-во минут;\n",
        "- `paid_messages` - кол-во сообщений;\n",
        "- `paid_mb` - кол-во мегабайт.\n"
      ]
    },
    {
      "cell_type": "code",
      "execution_count": 33,
      "metadata": {
        "deletable": false,
        "id": "1Tcf3IxI_oCp"
      },
      "outputs": [],
      "source": [
        "# посчитаем необходимые кол-ва и сохраним в новые колонки датасета\n",
        "user_behavior['paid_minutes'] = user_behavior['minutes'] - user_behavior['minutes_included']\n",
        "user_behavior['paid_messages'] = user_behavior['messages'] - user_behavior['messages_included']\n",
        "user_behavior['paid_mb'] = user_behavior['mb_used'] - user_behavior['mb_per_month_included']"
      ]
    },
    {
      "cell_type": "code",
      "source": [
        "# для отрицательных значений в новых колонках сделаем замену на '0'\n",
        "for col in ['paid_messages', 'paid_minutes', 'paid_mb']:\n",
        "    user_behavior.loc[user_behavior[col] < 0, col] = 0"
      ],
      "metadata": {
        "id": "OZBiED1pUeP5"
      },
      "execution_count": 34,
      "outputs": []
    },
    {
      "cell_type": "markdown",
      "metadata": {
        "deletable": false,
        "editable": false,
        "id": "9mf7Pko9_oCp"
      },
      "source": [
        "Далее переведем превышающие тариф мегабайты в гигабайты и сохраняем в столбец `paid_gb`"
      ]
    },
    {
      "cell_type": "code",
      "execution_count": 35,
      "metadata": {
        "deletable": false,
        "id": "cct5ZB60_oCp"
      },
      "outputs": [],
      "source": [
        "# сделаем преобразование и создадим колонку 'paid_mb'\n",
        "user_behavior['paid_gb'] = np.ceil(user_behavior['paid_mb'] / 1024).astype(int)"
      ]
    },
    {
      "cell_type": "markdown",
      "metadata": {
        "deletable": false,
        "editable": false,
        "id": "KEZ1rO-r_oCp"
      },
      "source": [
        "Посчитаем выручку за минуты разговора, сообщения и интернет, далее сохраним данные в новые колонки:\n",
        "- `cost_minutes` - выручка за минуты разговора;\n",
        "- `cost_messages` - выручка за сообщения;\n",
        "- `cost_gb` - выручка за интернет (Гб)."
      ]
    },
    {
      "cell_type": "code",
      "execution_count": 36,
      "metadata": {
        "deletable": false,
        "id": "U302RLm6_oCp"
      },
      "outputs": [],
      "source": [
        "# посчитаем выручку и сохраним в новые колонки датасета\n",
        "user_behavior['cost_minutes'] = user_behavior['paid_minutes'] * user_behavior['rub_per_minute']\n",
        "user_behavior['cost_messages'] = user_behavior['paid_messages'] * user_behavior['rub_per_message']\n",
        "user_behavior['cost_gb'] = user_behavior['paid_gb'] * user_behavior['rub_per_gb']"
      ]
    },
    {
      "cell_type": "markdown",
      "metadata": {
        "deletable": false,
        "editable": false,
        "id": "18ruYfTJ_oCp"
      },
      "source": [
        "Посчитаем помесячную выручку с каждого пользователя, она будет храниться в новой колонке `total_cost`"
      ]
    },
    {
      "cell_type": "code",
      "execution_count": 37,
      "metadata": {
        "deletable": false,
        "id": "Uf2YyazE_oCp"
      },
      "outputs": [],
      "source": [
        "# считаем помесячную выручку и сохраняем в колонку 'total_cost'\n",
        "user_behavior['total_cost'] = \\\n",
        "      user_behavior['rub_monthly_fee']\\\n",
        "    + user_behavior['cost_minutes']\\\n",
        "    + user_behavior['cost_messages']\\\n",
        "    + user_behavior['cost_gb']"
      ]
    },
    {
      "cell_type": "markdown",
      "metadata": {
        "deletable": false,
        "editable": false,
        "id": "49WKdXmA_oCp"
      },
      "source": [
        "Создадим датасет `stats_df` для каждой пары «месяц — тариф», в которой будем хранить основные характеристики."
      ]
    },
    {
      "cell_type": "code",
      "execution_count": 38,
      "metadata": {
        "deletable": false,
        "id": "4V-Kl67S_oCp"
      },
      "outputs": [],
      "source": [
        "# сохранение статистических метрик для каждой пары месяц-тариф посредством сводной таблицы\n",
        "stats_df = user_behavior.pivot_table(\n",
        "            index=['month', 'tariff'],\\\n",
        "            values=['calls', 'minutes', 'messages', 'mb_used'],\\\n",
        "            aggfunc=['mean', 'std', 'median']\\\n",
        ").round(2).reset_index()"
      ]
    },
    {
      "cell_type": "code",
      "source": [
        "# переименуем колонки во вновь созданном датасете stats_df\n",
        "stats_df.columns=['month', 'tariff', 'calls_mean', 'sessions_mean', 'messages_mean', 'minutes_mean',\n",
        "                                     'calls_std',  'sessions_std', 'messages_std', 'minutes_std',\n",
        "                                     'calls_median', 'sessions_median', 'messages_median',  'minutes_median']"
      ],
      "metadata": {
        "id": "PkqTOr8fK8gA"
      },
      "execution_count": 39,
      "outputs": []
    },
    {
      "cell_type": "code",
      "source": [
        "# выведим первые 10 строк stats_df\n",
        "stats_df.head(10)"
      ],
      "metadata": {
        "id": "uj-yz9xVLPvB",
        "outputId": "8716eac0-9669-4118-cabb-33cd3acc29aa",
        "colab": {
          "base_uri": "https://localhost:8080/",
          "height": 383
        }
      },
      "execution_count": 40,
      "outputs": [
        {
          "output_type": "execute_result",
          "data": {
            "text/plain": [
              "   month tariff  calls_mean  sessions_mean  messages_mean  minutes_mean  \\\n",
              "0      1  smart        27.7         8513.7           18.2         203.8   \n",
              "1      1  ultra        59.4        13140.7           33.8         428.1   \n",
              "2      2  smart        40.2        11597.0           24.1         298.7   \n",
              "3      2  ultra        41.5        11775.9           22.0         297.1   \n",
              "4      3  smart        54.3        15104.2           31.9         390.1   \n",
              "5      3  ultra        67.7        17535.5           32.3         489.6   \n",
              "6      4  smart        51.3        13462.2           30.7         367.1   \n",
              "7      4  ultra        64.1        16828.1           31.6         458.0   \n",
              "8      5  smart        55.2        15805.2           33.8         387.4   \n",
              "9      5  ultra        72.5        19363.2           37.9         510.3   \n",
              "\n",
              "   calls_std  sessions_std  messages_std  minutes_std  calls_median  \\\n",
              "0       20.8        6444.7          16.2        154.2          20.5   \n",
              "1       41.6        6865.4          30.7        269.8          51.0   \n",
              "2       25.4        6247.4          21.8        190.8          38.5   \n",
              "3       41.0       10644.6          26.8        296.5          25.0   \n",
              "4       25.5        5828.2          26.8        191.9          59.0   \n",
              "5       44.8       10951.8          41.6        333.7          57.0   \n",
              "6       25.7        5698.2          24.5        186.5          52.0   \n",
              "7       36.3        9718.6          37.5        267.7          61.0   \n",
              "8       25.4        5978.2          27.0        186.6          59.0   \n",
              "9       41.1       10046.1          40.3        289.6          75.0   \n",
              "\n",
              "   sessions_median  messages_median  minutes_median  \n",
              "0           7096.2             15.0           162.5  \n",
              "1          14791.4             32.0           382.0  \n",
              "2          12553.7             20.0           258.0  \n",
              "3           7327.1              5.5           168.0  \n",
              "4          15670.2             23.0           409.0  \n",
              "5          17495.2             20.0           403.0  \n",
              "6          14087.6             28.0           368.5  \n",
              "7          16645.8             17.0           453.0  \n",
              "8          16323.9             30.0           433.0  \n",
              "9          18696.4             25.0           519.0  "
            ],
            "text/html": [
              "\n",
              "  <div id=\"df-5b58fe90-5291-422a-8910-982a944ea4fd\" class=\"colab-df-container\">\n",
              "    <div>\n",
              "<style scoped>\n",
              "    .dataframe tbody tr th:only-of-type {\n",
              "        vertical-align: middle;\n",
              "    }\n",
              "\n",
              "    .dataframe tbody tr th {\n",
              "        vertical-align: top;\n",
              "    }\n",
              "\n",
              "    .dataframe thead th {\n",
              "        text-align: right;\n",
              "    }\n",
              "</style>\n",
              "<table border=\"1\" class=\"dataframe\">\n",
              "  <thead>\n",
              "    <tr style=\"text-align: right;\">\n",
              "      <th></th>\n",
              "      <th>month</th>\n",
              "      <th>tariff</th>\n",
              "      <th>calls_mean</th>\n",
              "      <th>sessions_mean</th>\n",
              "      <th>messages_mean</th>\n",
              "      <th>minutes_mean</th>\n",
              "      <th>calls_std</th>\n",
              "      <th>sessions_std</th>\n",
              "      <th>messages_std</th>\n",
              "      <th>minutes_std</th>\n",
              "      <th>calls_median</th>\n",
              "      <th>sessions_median</th>\n",
              "      <th>messages_median</th>\n",
              "      <th>minutes_median</th>\n",
              "    </tr>\n",
              "  </thead>\n",
              "  <tbody>\n",
              "    <tr>\n",
              "      <th>0</th>\n",
              "      <td>1</td>\n",
              "      <td>smart</td>\n",
              "      <td>27.7</td>\n",
              "      <td>8513.7</td>\n",
              "      <td>18.2</td>\n",
              "      <td>203.8</td>\n",
              "      <td>20.8</td>\n",
              "      <td>6444.7</td>\n",
              "      <td>16.2</td>\n",
              "      <td>154.2</td>\n",
              "      <td>20.5</td>\n",
              "      <td>7096.2</td>\n",
              "      <td>15.0</td>\n",
              "      <td>162.5</td>\n",
              "    </tr>\n",
              "    <tr>\n",
              "      <th>1</th>\n",
              "      <td>1</td>\n",
              "      <td>ultra</td>\n",
              "      <td>59.4</td>\n",
              "      <td>13140.7</td>\n",
              "      <td>33.8</td>\n",
              "      <td>428.1</td>\n",
              "      <td>41.6</td>\n",
              "      <td>6865.4</td>\n",
              "      <td>30.7</td>\n",
              "      <td>269.8</td>\n",
              "      <td>51.0</td>\n",
              "      <td>14791.4</td>\n",
              "      <td>32.0</td>\n",
              "      <td>382.0</td>\n",
              "    </tr>\n",
              "    <tr>\n",
              "      <th>2</th>\n",
              "      <td>2</td>\n",
              "      <td>smart</td>\n",
              "      <td>40.2</td>\n",
              "      <td>11597.0</td>\n",
              "      <td>24.1</td>\n",
              "      <td>298.7</td>\n",
              "      <td>25.4</td>\n",
              "      <td>6247.4</td>\n",
              "      <td>21.8</td>\n",
              "      <td>190.8</td>\n",
              "      <td>38.5</td>\n",
              "      <td>12553.7</td>\n",
              "      <td>20.0</td>\n",
              "      <td>258.0</td>\n",
              "    </tr>\n",
              "    <tr>\n",
              "      <th>3</th>\n",
              "      <td>2</td>\n",
              "      <td>ultra</td>\n",
              "      <td>41.5</td>\n",
              "      <td>11775.9</td>\n",
              "      <td>22.0</td>\n",
              "      <td>297.1</td>\n",
              "      <td>41.0</td>\n",
              "      <td>10644.6</td>\n",
              "      <td>26.8</td>\n",
              "      <td>296.5</td>\n",
              "      <td>25.0</td>\n",
              "      <td>7327.1</td>\n",
              "      <td>5.5</td>\n",
              "      <td>168.0</td>\n",
              "    </tr>\n",
              "    <tr>\n",
              "      <th>4</th>\n",
              "      <td>3</td>\n",
              "      <td>smart</td>\n",
              "      <td>54.3</td>\n",
              "      <td>15104.2</td>\n",
              "      <td>31.9</td>\n",
              "      <td>390.1</td>\n",
              "      <td>25.5</td>\n",
              "      <td>5828.2</td>\n",
              "      <td>26.8</td>\n",
              "      <td>191.9</td>\n",
              "      <td>59.0</td>\n",
              "      <td>15670.2</td>\n",
              "      <td>23.0</td>\n",
              "      <td>409.0</td>\n",
              "    </tr>\n",
              "    <tr>\n",
              "      <th>5</th>\n",
              "      <td>3</td>\n",
              "      <td>ultra</td>\n",
              "      <td>67.7</td>\n",
              "      <td>17535.5</td>\n",
              "      <td>32.3</td>\n",
              "      <td>489.6</td>\n",
              "      <td>44.8</td>\n",
              "      <td>10951.8</td>\n",
              "      <td>41.6</td>\n",
              "      <td>333.7</td>\n",
              "      <td>57.0</td>\n",
              "      <td>17495.2</td>\n",
              "      <td>20.0</td>\n",
              "      <td>403.0</td>\n",
              "    </tr>\n",
              "    <tr>\n",
              "      <th>6</th>\n",
              "      <td>4</td>\n",
              "      <td>smart</td>\n",
              "      <td>51.3</td>\n",
              "      <td>13462.2</td>\n",
              "      <td>30.7</td>\n",
              "      <td>367.1</td>\n",
              "      <td>25.7</td>\n",
              "      <td>5698.2</td>\n",
              "      <td>24.5</td>\n",
              "      <td>186.5</td>\n",
              "      <td>52.0</td>\n",
              "      <td>14087.6</td>\n",
              "      <td>28.0</td>\n",
              "      <td>368.5</td>\n",
              "    </tr>\n",
              "    <tr>\n",
              "      <th>7</th>\n",
              "      <td>4</td>\n",
              "      <td>ultra</td>\n",
              "      <td>64.1</td>\n",
              "      <td>16828.1</td>\n",
              "      <td>31.6</td>\n",
              "      <td>458.0</td>\n",
              "      <td>36.3</td>\n",
              "      <td>9718.6</td>\n",
              "      <td>37.5</td>\n",
              "      <td>267.7</td>\n",
              "      <td>61.0</td>\n",
              "      <td>16645.8</td>\n",
              "      <td>17.0</td>\n",
              "      <td>453.0</td>\n",
              "    </tr>\n",
              "    <tr>\n",
              "      <th>8</th>\n",
              "      <td>5</td>\n",
              "      <td>smart</td>\n",
              "      <td>55.2</td>\n",
              "      <td>15805.2</td>\n",
              "      <td>33.8</td>\n",
              "      <td>387.4</td>\n",
              "      <td>25.4</td>\n",
              "      <td>5978.2</td>\n",
              "      <td>27.0</td>\n",
              "      <td>186.6</td>\n",
              "      <td>59.0</td>\n",
              "      <td>16323.9</td>\n",
              "      <td>30.0</td>\n",
              "      <td>433.0</td>\n",
              "    </tr>\n",
              "    <tr>\n",
              "      <th>9</th>\n",
              "      <td>5</td>\n",
              "      <td>ultra</td>\n",
              "      <td>72.5</td>\n",
              "      <td>19363.2</td>\n",
              "      <td>37.9</td>\n",
              "      <td>510.3</td>\n",
              "      <td>41.1</td>\n",
              "      <td>10046.1</td>\n",
              "      <td>40.3</td>\n",
              "      <td>289.6</td>\n",
              "      <td>75.0</td>\n",
              "      <td>18696.4</td>\n",
              "      <td>25.0</td>\n",
              "      <td>519.0</td>\n",
              "    </tr>\n",
              "  </tbody>\n",
              "</table>\n",
              "</div>\n",
              "    <div class=\"colab-df-buttons\">\n",
              "\n",
              "  <div class=\"colab-df-container\">\n",
              "    <button class=\"colab-df-convert\" onclick=\"convertToInteractive('df-5b58fe90-5291-422a-8910-982a944ea4fd')\"\n",
              "            title=\"Convert this dataframe to an interactive table.\"\n",
              "            style=\"display:none;\">\n",
              "\n",
              "  <svg xmlns=\"http://www.w3.org/2000/svg\" height=\"24px\" viewBox=\"0 -960 960 960\">\n",
              "    <path d=\"M120-120v-720h720v720H120Zm60-500h600v-160H180v160Zm220 220h160v-160H400v160Zm0 220h160v-160H400v160ZM180-400h160v-160H180v160Zm440 0h160v-160H620v160ZM180-180h160v-160H180v160Zm440 0h160v-160H620v160Z\"/>\n",
              "  </svg>\n",
              "    </button>\n",
              "\n",
              "  <style>\n",
              "    .colab-df-container {\n",
              "      display:flex;\n",
              "      gap: 12px;\n",
              "    }\n",
              "\n",
              "    .colab-df-convert {\n",
              "      background-color: #E8F0FE;\n",
              "      border: none;\n",
              "      border-radius: 50%;\n",
              "      cursor: pointer;\n",
              "      display: none;\n",
              "      fill: #1967D2;\n",
              "      height: 32px;\n",
              "      padding: 0 0 0 0;\n",
              "      width: 32px;\n",
              "    }\n",
              "\n",
              "    .colab-df-convert:hover {\n",
              "      background-color: #E2EBFA;\n",
              "      box-shadow: 0px 1px 2px rgba(60, 64, 67, 0.3), 0px 1px 3px 1px rgba(60, 64, 67, 0.15);\n",
              "      fill: #174EA6;\n",
              "    }\n",
              "\n",
              "    .colab-df-buttons div {\n",
              "      margin-bottom: 4px;\n",
              "    }\n",
              "\n",
              "    [theme=dark] .colab-df-convert {\n",
              "      background-color: #3B4455;\n",
              "      fill: #D2E3FC;\n",
              "    }\n",
              "\n",
              "    [theme=dark] .colab-df-convert:hover {\n",
              "      background-color: #434B5C;\n",
              "      box-shadow: 0px 1px 3px 1px rgba(0, 0, 0, 0.15);\n",
              "      filter: drop-shadow(0px 1px 2px rgba(0, 0, 0, 0.3));\n",
              "      fill: #FFFFFF;\n",
              "    }\n",
              "  </style>\n",
              "\n",
              "    <script>\n",
              "      const buttonEl =\n",
              "        document.querySelector('#df-5b58fe90-5291-422a-8910-982a944ea4fd button.colab-df-convert');\n",
              "      buttonEl.style.display =\n",
              "        google.colab.kernel.accessAllowed ? 'block' : 'none';\n",
              "\n",
              "      async function convertToInteractive(key) {\n",
              "        const element = document.querySelector('#df-5b58fe90-5291-422a-8910-982a944ea4fd');\n",
              "        const dataTable =\n",
              "          await google.colab.kernel.invokeFunction('convertToInteractive',\n",
              "                                                    [key], {});\n",
              "        if (!dataTable) return;\n",
              "\n",
              "        const docLinkHtml = 'Like what you see? Visit the ' +\n",
              "          '<a target=\"_blank\" href=https://colab.research.google.com/notebooks/data_table.ipynb>data table notebook</a>'\n",
              "          + ' to learn more about interactive tables.';\n",
              "        element.innerHTML = '';\n",
              "        dataTable['output_type'] = 'display_data';\n",
              "        await google.colab.output.renderOutput(dataTable, element);\n",
              "        const docLink = document.createElement('div');\n",
              "        docLink.innerHTML = docLinkHtml;\n",
              "        element.appendChild(docLink);\n",
              "      }\n",
              "    </script>\n",
              "  </div>\n",
              "\n",
              "\n",
              "<div id=\"df-f92408d9-ad95-4254-b8bc-3f4192a0bc87\">\n",
              "  <button class=\"colab-df-quickchart\" onclick=\"quickchart('df-f92408d9-ad95-4254-b8bc-3f4192a0bc87')\"\n",
              "            title=\"Suggest charts.\"\n",
              "            style=\"display:none;\">\n",
              "\n",
              "<svg xmlns=\"http://www.w3.org/2000/svg\" height=\"24px\"viewBox=\"0 0 24 24\"\n",
              "     width=\"24px\">\n",
              "    <g>\n",
              "        <path d=\"M19 3H5c-1.1 0-2 .9-2 2v14c0 1.1.9 2 2 2h14c1.1 0 2-.9 2-2V5c0-1.1-.9-2-2-2zM9 17H7v-7h2v7zm4 0h-2V7h2v10zm4 0h-2v-4h2v4z\"/>\n",
              "    </g>\n",
              "</svg>\n",
              "  </button>\n",
              "\n",
              "<style>\n",
              "  .colab-df-quickchart {\n",
              "      --bg-color: #E8F0FE;\n",
              "      --fill-color: #1967D2;\n",
              "      --hover-bg-color: #E2EBFA;\n",
              "      --hover-fill-color: #174EA6;\n",
              "      --disabled-fill-color: #AAA;\n",
              "      --disabled-bg-color: #DDD;\n",
              "  }\n",
              "\n",
              "  [theme=dark] .colab-df-quickchart {\n",
              "      --bg-color: #3B4455;\n",
              "      --fill-color: #D2E3FC;\n",
              "      --hover-bg-color: #434B5C;\n",
              "      --hover-fill-color: #FFFFFF;\n",
              "      --disabled-bg-color: #3B4455;\n",
              "      --disabled-fill-color: #666;\n",
              "  }\n",
              "\n",
              "  .colab-df-quickchart {\n",
              "    background-color: var(--bg-color);\n",
              "    border: none;\n",
              "    border-radius: 50%;\n",
              "    cursor: pointer;\n",
              "    display: none;\n",
              "    fill: var(--fill-color);\n",
              "    height: 32px;\n",
              "    padding: 0;\n",
              "    width: 32px;\n",
              "  }\n",
              "\n",
              "  .colab-df-quickchart:hover {\n",
              "    background-color: var(--hover-bg-color);\n",
              "    box-shadow: 0 1px 2px rgba(60, 64, 67, 0.3), 0 1px 3px 1px rgba(60, 64, 67, 0.15);\n",
              "    fill: var(--button-hover-fill-color);\n",
              "  }\n",
              "\n",
              "  .colab-df-quickchart-complete:disabled,\n",
              "  .colab-df-quickchart-complete:disabled:hover {\n",
              "    background-color: var(--disabled-bg-color);\n",
              "    fill: var(--disabled-fill-color);\n",
              "    box-shadow: none;\n",
              "  }\n",
              "\n",
              "  .colab-df-spinner {\n",
              "    border: 2px solid var(--fill-color);\n",
              "    border-color: transparent;\n",
              "    border-bottom-color: var(--fill-color);\n",
              "    animation:\n",
              "      spin 1s steps(1) infinite;\n",
              "  }\n",
              "\n",
              "  @keyframes spin {\n",
              "    0% {\n",
              "      border-color: transparent;\n",
              "      border-bottom-color: var(--fill-color);\n",
              "      border-left-color: var(--fill-color);\n",
              "    }\n",
              "    20% {\n",
              "      border-color: transparent;\n",
              "      border-left-color: var(--fill-color);\n",
              "      border-top-color: var(--fill-color);\n",
              "    }\n",
              "    30% {\n",
              "      border-color: transparent;\n",
              "      border-left-color: var(--fill-color);\n",
              "      border-top-color: var(--fill-color);\n",
              "      border-right-color: var(--fill-color);\n",
              "    }\n",
              "    40% {\n",
              "      border-color: transparent;\n",
              "      border-right-color: var(--fill-color);\n",
              "      border-top-color: var(--fill-color);\n",
              "    }\n",
              "    60% {\n",
              "      border-color: transparent;\n",
              "      border-right-color: var(--fill-color);\n",
              "    }\n",
              "    80% {\n",
              "      border-color: transparent;\n",
              "      border-right-color: var(--fill-color);\n",
              "      border-bottom-color: var(--fill-color);\n",
              "    }\n",
              "    90% {\n",
              "      border-color: transparent;\n",
              "      border-bottom-color: var(--fill-color);\n",
              "    }\n",
              "  }\n",
              "</style>\n",
              "\n",
              "  <script>\n",
              "    async function quickchart(key) {\n",
              "      const quickchartButtonEl =\n",
              "        document.querySelector('#' + key + ' button');\n",
              "      quickchartButtonEl.disabled = true;  // To prevent multiple clicks.\n",
              "      quickchartButtonEl.classList.add('colab-df-spinner');\n",
              "      try {\n",
              "        const charts = await google.colab.kernel.invokeFunction(\n",
              "            'suggestCharts', [key], {});\n",
              "      } catch (error) {\n",
              "        console.error('Error during call to suggestCharts:', error);\n",
              "      }\n",
              "      quickchartButtonEl.classList.remove('colab-df-spinner');\n",
              "      quickchartButtonEl.classList.add('colab-df-quickchart-complete');\n",
              "    }\n",
              "    (() => {\n",
              "      let quickchartButtonEl =\n",
              "        document.querySelector('#df-f92408d9-ad95-4254-b8bc-3f4192a0bc87 button');\n",
              "      quickchartButtonEl.style.display =\n",
              "        google.colab.kernel.accessAllowed ? 'block' : 'none';\n",
              "    })();\n",
              "  </script>\n",
              "</div>\n",
              "    </div>\n",
              "  </div>\n"
            ]
          },
          "metadata": {},
          "execution_count": 40
        }
      ]
    },
    {
      "cell_type": "markdown",
      "metadata": {
        "deletable": false,
        "editable": false,
        "id": "HBjTHsiq_oCq"
      },
      "source": [
        "Построим график распределения среднего количества звонков (`ось Y`) по видам тарифов и месяцам(`ось Х`)."
      ]
    },
    {
      "cell_type": "code",
      "execution_count": 41,
      "metadata": {
        "deletable": false,
        "id": "HKlQp7la_oCq",
        "outputId": "0e5aabf9-2135-430f-e26f-3b075ab30ca9",
        "colab": {
          "base_uri": "https://localhost:8080/",
          "height": 472
        }
      },
      "outputs": [
        {
          "output_type": "display_data",
          "data": {
            "text/plain": [
              "<Figure size 640x480 with 1 Axes>"
            ],
            "image/png": "[encoded data removed]"
          },
          "metadata": {}
        }
      ],
      "source": [
        "# строим график\n",
        "ax = sns.barplot(x='month',\n",
        "            y='calls_mean',\n",
        "            hue=\"tariff\",\n",
        "            data=stats_df,\n",
        "            palette=['lightblue', 'blue'])\n",
        "\n",
        "ax.set_title('Распределение количества звонков по видам тарифов и месяцам')\n",
        "ax.set(xlabel='Номер месяца', ylabel='Среднее количество звонков');"
      ]
    },
    {
      "cell_type": "markdown",
      "source": [
        "Наибольшее количество звонков наблюдается в декабре, это может быть обусловлено предстоящим праздником Новый Год - оформление заказов на подарки, поздравления, заказ праздничных банкетов и так далее.\n",
        "\n",
        "Также наблюдается, что тарифом `ultra` пользуются больше чем `smart`.\n",
        "\n",
        "Посмотрим на соотношение количество звонков и количество клиентов."
      ],
      "metadata": {
        "id": "hy4tVzaKN9lX"
      }
    },
    {
      "cell_type": "code",
      "execution_count": 42,
      "metadata": {
        "deletable": false,
        "id": "LBzNZDS1_oCq",
        "outputId": "eb1930ac-227b-498d-a9ac-93b0ffa5260b",
        "colab": {
          "base_uri": "https://localhost:8080/",
          "height": 449
        }
      },
      "outputs": [
        {
          "output_type": "display_data",
          "data": {
            "text/plain": [
              "<Figure size 640x480 with 1 Axes>"
            ],
            "image/png": "[encoded data removed]"
          },
          "metadata": {}
        }
      ],
      "source": [
        "# построим график отношения количества клиентов и количество звонок\n",
        "user_behavior.groupby('tariff')['calls'].plot(kind='hist', bins=35, alpha=0.5)\n",
        "plt.legend(['Smart', 'Ultra'])\n",
        "plt.xlabel('Количество звонков')\n",
        "plt.ylabel('Количество клиентов')\n",
        "plt.show()"
      ]
    },
    {
      "cell_type": "markdown",
      "metadata": {
        "deletable": false,
        "editable": false,
        "id": "6ApNiP3G_oCq"
      },
      "source": [
        "Изучим распределение средней продолжительности звонков по видам тарифов и месяцам"
      ]
    },
    {
      "cell_type": "code",
      "execution_count": 43,
      "metadata": {
        "deletable": false,
        "id": "NB9xuopA_oCq",
        "outputId": "1a69e53a-4dda-4732-9610-c330323dd0de",
        "colab": {
          "base_uri": "https://localhost:8080/",
          "height": 472
        }
      },
      "outputs": [
        {
          "output_type": "display_data",
          "data": {
            "text/plain": [
              "<Figure size 640x480 with 1 Axes>"
            ],
            "image/png": "[encoded data removed]"
          },
          "metadata": {}
        }
      ],
      "source": [
        "# строим график\n",
        "ax = sns.barplot(x='month',\n",
        "            y='minutes_mean',\n",
        "            hue=\"tariff\",\n",
        "            data=stats_df,\n",
        "            palette=['lightblue', 'blue'])\n",
        "\n",
        "ax.set_title('Распределение продолжительности звонков по видам тарифов и месяцам')\n",
        "ax.set(xlabel='Номер месяца', ylabel='Средняя продолжительность звонков');"
      ]
    },
    {
      "cell_type": "code",
      "source": [
        "# строим график\n",
        "plt.figure(figsize=(8,4))\n",
        "\n",
        "plt.hist(user_behavior[user_behavior['tariff'] =='smart']['minutes'],\n",
        "         bins=35, alpha=0.5, color='green', label='smart')\n",
        "\n",
        "plt.hist(user_behavior[user_behavior['tariff'] =='ultra']['minutes'],\n",
        "         bins=35, alpha=0.5, color='blue', label='ultra')\n",
        "\n",
        "plt.legend(loc='upper right')\n",
        "plt.show()"
      ],
      "metadata": {
        "id": "I3_zzkaKQjnd",
        "outputId": "be2b2398-2d7a-47d2-a440-4eab0d9a97e6",
        "colab": {
          "base_uri": "https://localhost:8080/",
          "height": 368
        }
      },
      "execution_count": 44,
      "outputs": [
        {
          "output_type": "display_data",
          "data": {
            "text/plain": [
              "<Figure size 800x400 with 1 Axes>"
            ],
            "image/png": "[encoded data removed]"
          },
          "metadata": {}
        }
      ]
    },
    {
      "cell_type": "markdown",
      "metadata": {
        "deletable": false,
        "editable": false,
        "id": "G3NDyWZy_oCq"
      },
      "source": [
        "Средняя длительность разговоров у абонентов тарифа `ultra` больше, чем у абонентов тарифа `smart`. В течение года пользователи обоих тарифов увеличивают среднюю продолжительность своих разговоров. Рост средней длительности разговоров у абонентов тарифа `smart` равномерный в течение года. Пользователи тарифа `ultra` не проявляют подобной линейной стабильности. Стоит отметить, что в феврале у абонентов обоих тарифных планов наблюдались самые низкие показатели."
      ]
    },
    {
      "cell_type": "markdown",
      "metadata": {
        "deletable": false,
        "editable": false,
        "id": "ils1vnE7_oCq"
      },
      "source": [
        "Посмотрим распределение среднего количества сообщений по видам тарифов и месяцам."
      ]
    },
    {
      "cell_type": "code",
      "execution_count": 45,
      "metadata": {
        "deletable": false,
        "id": "zkSEsDH__oCq",
        "outputId": "4c9578bd-fab1-4152-ed8d-5a56be0b7693",
        "colab": {
          "base_uri": "https://localhost:8080/",
          "height": 472
        }
      },
      "outputs": [
        {
          "output_type": "display_data",
          "data": {
            "text/plain": [
              "<Figure size 640x480 with 1 Axes>"
            ],
            "image/png": "[encoded data removed]"
          },
          "metadata": {}
        }
      ],
      "source": [
        "# строим график\n",
        "ax = sns.barplot(x='month',\n",
        "            y='messages_mean',\n",
        "            hue=\"tariff\",\n",
        "            data=stats_df,\n",
        "            palette=['lightblue', 'blue']\n",
        ")\n",
        "\n",
        "ax.set_title('Распределение количества сообщений по видам тарифов и месяцам')\n",
        "ax.set(xlabel='Номер месяца', ylabel='Среднее количество сообщений');"
      ]
    },
    {
      "cell_type": "code",
      "execution_count": 46,
      "metadata": {
        "deletable": false,
        "id": "I97vMndq_oCq",
        "outputId": "b2f48bb6-3a01-4633-cf06-f7ee9e3e9bc1",
        "colab": {
          "base_uri": "https://localhost:8080/",
          "height": 368
        }
      },
      "outputs": [
        {
          "output_type": "display_data",
          "data": {
            "text/plain": [
              "<Figure size 800x400 with 1 Axes>"
            ],
            "image/png": "[encoded data removed]"
          },
          "metadata": {}
        }
      ],
      "source": [
        "# строим график\n",
        "plt.figure(figsize=(8,4))\n",
        "\n",
        "plt.hist(user_behavior[user_behavior['tariff'] =='smart']['messages'],\n",
        "         bins=35, alpha=0.5, color='green', label='smart')\n",
        "\n",
        "plt.hist(user_behavior[user_behavior['tariff'] =='ultra']['messages'],\n",
        "         bins=35, alpha=0.5, color='blue', label='ultra')\n",
        "\n",
        "plt.legend(loc='upper right')\n",
        "plt.show()"
      ]
    },
    {
      "cell_type": "markdown",
      "metadata": {
        "id": "IKu7ZqEy_oCq"
      },
      "source": [
        "В среднем пользователи тарифа `ultra` отправляют больше сообщений — почти на 20 сообщений больше, чем пользователи тарифа `smart`. Количество сообщений в течение года на обоих тарифах растёт. Динамика по отправке сообщений схожа с тенденциями по длительности разговоров: в феврале отмечено наименьшее количество сообщений за год и пользователи тарифа `ultra` также проявляют нелинейную положительную динамику."
      ]
    },
    {
      "cell_type": "markdown",
      "source": [
        "Построим распределение количества потраченного трафика в Мб по видам тарифов и месяцам."
      ],
      "metadata": {
        "id": "BrCNjz0qS_Xg"
      }
    },
    {
      "cell_type": "code",
      "execution_count": 47,
      "metadata": {
        "deletable": false,
        "id": "q866NzDW_oCr",
        "outputId": "64e06328-ad21-49fe-8918-62ba0e148a9e",
        "colab": {
          "base_uri": "https://localhost:8080/",
          "height": 472
        }
      },
      "outputs": [
        {
          "output_type": "display_data",
          "data": {
            "text/plain": [
              "<Figure size 640x480 with 1 Axes>"
            ],
            "image/png": "[encoded data removed]"
          },
          "metadata": {}
        }
      ],
      "source": [
        "# строим график\n",
        "ax = sns.barplot(x='month',\n",
        "            y='sessions_mean',\n",
        "            hue='tariff',\n",
        "            data=stats_df,\n",
        "            palette=['lightblue', 'blue']\n",
        ")\n",
        "\n",
        "ax.set_title('Распределение количества потраченного трафика (Мб) по видам тарифов и месяцам')\n",
        "ax.set(xlabel='Номер месяца', ylabel='Среднее количество мегабайт');"
      ]
    },
    {
      "cell_type": "markdown",
      "metadata": {
        "deletable": false,
        "editable": false,
        "id": "an1c3noO_oCr"
      },
      "source": [
        "Сравнение потраченных мегабайт среди пользователей тарифов Smart и Ultra"
      ]
    },
    {
      "cell_type": "code",
      "execution_count": 48,
      "metadata": {
        "deletable": false,
        "id": "Czm2mIhd_oCr",
        "outputId": "c28669c5-6ea3-4778-9d46-c28898ceff39",
        "colab": {
          "base_uri": "https://localhost:8080/",
          "height": 368
        }
      },
      "outputs": [
        {
          "output_type": "display_data",
          "data": {
            "text/plain": [
              "<Figure size 800x400 with 1 Axes>"
            ],
            "image/png": "[encoded data removed]"
          },
          "metadata": {}
        }
      ],
      "source": [
        "# строим график\n",
        "plt.figure(figsize=(8,4))\n",
        "\n",
        "plt.hist(user_behavior[user_behavior['tariff'] =='smart']['mb_used'],\n",
        "         bins=35, alpha=0.5, color='green', label='smart')\n",
        "\n",
        "plt.hist(user_behavior[user_behavior['tariff'] =='ultra']['mb_used'],\n",
        "         bins=35, alpha=0.5, color='blue', label='ultra')\n",
        "\n",
        "plt.legend(loc='upper right')\n",
        "plt.show()"
      ]
    },
    {
      "cell_type": "markdown",
      "metadata": {
        "deletable": false,
        "editable": false,
        "id": "DQp_KGw1_oCr"
      },
      "source": [
        "Меньше всего пользователи использовали интернет в январе, феврале и апреле. Чаще всего абоненты тарифа `smart` тратят 15–17 Гб, а абоненты тарифного плана `ultra` — 19–21 ГБ."
      ]
    },
    {
      "cell_type": "markdown",
      "metadata": {
        "deletable": false,
        "editable": false,
        "id": "aKJz6DhN_oCr"
      },
      "source": [
        "## Шаг 4. Проверка гипотез"
      ]
    },
    {
      "cell_type": "markdown",
      "metadata": {
        "deletable": false,
        "editable": false,
        "id": "FW2jChme_oCr",
        "tags": [
          "start_task"
        ]
      },
      "source": [
        "Теперь выполним проверку гипотезы: средняя выручка пользователей тарифов «Ультра» и «Смарт» различается.\n",
        "\n",
        "\n",
        "- H_0: Выручка (total_cost) пользователей \"Ультра\" = выручка (total_cost) пользователей \"Смарт\"`\n",
        "- H_a: Выручка (total_cost) пользователей \"Ультра\" ≠ выручка (total_cost) пользователей \"Смарт\"`\n",
        "\n",
        "alpha = 0.05\n"
      ]
    },
    {
      "cell_type": "code",
      "execution_count": 49,
      "metadata": {
        "deletable": false,
        "id": "OxsrhJXE_oCr",
        "outputId": "2d14d474-c7b8-45f3-cac8-55ff6ebe8718",
        "colab": {
          "base_uri": "https://localhost:8080/"
        }
      },
      "outputs": [
        {
          "output_type": "stream",
          "name": "stdout",
          "text": [
            "4.2606313931076085e-250\n",
            "Отвергаем нулевую гипотезу\n"
          ]
        }
      ],
      "source": [
        "ultra = dataultra = user_behavior.query(\"tariff == 'ultra'\")\n",
        "smart = user_behavior.query(\"tariff == 'smart'\")\n",
        "\n",
        "# results = вызов метода для проверки гипотезы\n",
        "results = st.ttest_ind(ultra['total_cost'], smart['total_cost'], equal_var=False)\n",
        "\n",
        "# alpha = зададим значение уровня значимости\n",
        "alpha = .05\n",
        "\n",
        "# вывод значения p-value на экран\n",
        "print(results.pvalue)\n",
        "if results.pvalue < alpha:\n",
        "    print(\"Отвергаем нулевую гипотезу\")\n",
        "else:\n",
        "    print(\"Не получилось отвергнуть нулевую гипотезу\")# условный оператор с выводом строки с ответом"
      ]
    },
    {
      "cell_type": "markdown",
      "metadata": {
        "deletable": false,
        "editable": false,
        "id": "-ENs-XhC_oCr",
        "tags": [
          "start_task"
        ]
      },
      "source": [
        "Далее выполним проверку гипотезы: средняя выручка с пользователей из Москвы отличается от выручки c пользователей других регионов;\n",
        "\n",
        "- H_0: Выручка (total_cost) пользователей из Москвы = выручка (total_cost) пользователей не из Москвы`\n",
        "- H_1: Выручка (total_cost) пользователей из Москвы ≠ выручка (total_cost) пользователей не из Москвы`\n",
        "\n",
        "alpha = 0.05"
      ]
    },
    {
      "cell_type": "code",
      "execution_count": 50,
      "metadata": {
        "deletable": false,
        "id": "RznkRUuu_oCr",
        "outputId": "ad7738ac-0f90-4356-d22b-8ef8adadf71d",
        "colab": {
          "base_uri": "https://localhost:8080/"
        }
      },
      "outputs": [
        {
          "output_type": "stream",
          "name": "stdout",
          "text": [
            "0.5257376663729298\n",
            "Не получилось отвергнуть нулевую гипотезу\n"
          ]
        }
      ],
      "source": [
        "city_moscow = dataultra = user_behavior.query(\"city == 'Москва'\")\n",
        "city_other = user_behavior.query(\"city != 'Москва'\")\n",
        "\n",
        "# results = вызов метода для проверки гипотезы\n",
        "results = st.ttest_ind(city_moscow['total_cost'], city_other['total_cost'], equal_var=False)\n",
        "\n",
        "# alpha = зададим значение уровня значимости\n",
        "alpha = .05\n",
        "\n",
        "# вывод значения p-value на экран\n",
        "print(results.pvalue)\n",
        "if results.pvalue < alpha:\n",
        "    print(\"Отвергаем нулевую гипотезу\")\n",
        "else:\n",
        "    print(\"Не получилось отвергнуть нулевую гипотезу\")# условный оператор с выводом строки с ответом"
      ]
    },
    {
      "cell_type": "markdown",
      "source": [
        "## Шаг 5. Общий вывод"
      ],
      "metadata": {
        "id": "_y5WBVoLXEjG"
      }
    },
    {
      "cell_type": "markdown",
      "source": [
        "В данном проекте мы выясняли какой тариф оператора сотовой связи лучше и перспективнее.\n",
        "\n",
        "В первую очередь мы изучили данные предоставленных датасетов. По полученным данным мы наблюдали, что все значения в датасетах заполнены, однако, в таблице `users` имеется колонка `churn_date` (дата прекращения пользования тарифом), в которой очень мало значений - это нам говорит о том, что еще большое количество клиентов не завершили договор с оператором сотовой связи. Также мы наблюдали, что имеются неправильные типы, которые мы привели к корректному, что позволило далее провести корректный анализ данных.\n",
        "\n",
        "После мы подготовили данные для последующего анализа:\n",
        "- В датасетах `users`, `calls`, `messages`, `sessions` привели данные к правильным типам;\n",
        "- В датасете `sessions` удалили колонку `Unnamed: 0`;\n",
        "- В датасетах `calls`, `messages`, `sessions` добавили колонку `month` с номером месяца;\n",
        "- Подготовители дополнительные данные, а именно посчитали количество:\n",
        "  - сделанных звонков разговора для каждого пользователя по месяцам - датасет `calls_per_month`;\n",
        "  - израсходованных минут разговора для каждого пользователя по месяцам - датасет `minutes_per_month`;\n",
        "  - отправленных сообщений по месяцам для каждого пользователя - `messages_per_month`;\n",
        "  - потраченных мегабайт по месяцам для каждого пользователя - `sessions_per_month`.\n",
        "\n",
        "При выполнении анализа данных мы выяснили:\n",
        "- Наибольшее количество звонков наблюдается в декабре, это может быть обусловлено предстоящим праздником Новый Год - оформление заказов на подарки, поздравления, заказ праздничных банкетов и так далее.\n",
        "- Наблюдается, что тарифом `ultra` пользуются больше чем `smart`.\n",
        "- Средняя длительность разговоров у абонентов тарифа `ultra` больше, чем у абонентов тарифа `smart`. В течение года пользователи обоих тарифов увеличивают среднюю продолжительность своих разговоров. Рост средней длительности разговоров у абонентов тарифа `smart` равномерный в течение года. Пользователи тарифа `ultra` не проявляют подобной линейной стабильности. Стоит отметить, что в феврале у абонентов обоих тарифных планов наблюдались самые низкие показатели.\n",
        "- В среднем пользователи тарифа `ultra` отправляют больше сообщений — почти на 20 сообщений больше, чем пользователи тарифа `smart`. Количество сообщений в течение года на обоих тарифах растёт. Динамика по отправке сообщений схожа с тенденциями по длительности разговоров: в феврале отмечено наименьшее количество сообщений за год и пользователи тарифа `ultra` также проявляют нелинейную положительную динамику.\n",
        "- Меньше всего пользователи использовали интернет в январе, феврале и апреле. Чаще всего абоненты тарифа `smart` тратят 15–17 Гб, а абоненты тарифного плана `ultra` — 19–21 ГБ.\n",
        "\n",
        "Далее мы проверили гипотезы, в результате данной проверки мы можем смело сказать, что выручка пользователей тарифа `ultra` не равна выручке полльзователей тарифа `smart`, а также что выручки пользователей Москвы и других городов равны.\n",
        "\n",
        "\n",
        "***\n",
        "По итогу мы можем сделать основной вывод, что пользователи тарифа `smart` наиболее предпочитетельнее оператору связи, так как у них чаще всего наблюдается перерасход по тарифу, в результате чего выполняется доплата за тариф, а также по тарифу `smart` более привлекательные условия по оплате, чем у тарифа `ultra`.\n",
        "***"
      ],
      "metadata": {
        "id": "PM1o8VKTXJnz"
      }
    }
  ],
  "metadata": {
    "ExecuteTimeLog": [
      {
        "duration": 52,
        "start_time": "2023-01-12T11:27:41.733Z"
      },
      {
        "duration": 424,
        "start_time": "2023-01-12T11:27:52.103Z"
      },
      {
        "duration": 300,
        "start_time": "2023-01-12T11:27:54.932Z"
      },
      {
        "duration": 24,
        "start_time": "2023-01-12T11:28:12.006Z"
      },
      {
        "duration": 27,
        "start_time": "2023-01-12T11:28:48.571Z"
      },
      {
        "duration": 661,
        "start_time": "2023-01-12T11:29:46.147Z"
      },
      {
        "duration": 806,
        "start_time": "2023-01-12T11:32:18.691Z"
      },
      {
        "duration": 13,
        "start_time": "2023-01-12T11:32:42.954Z"
      },
      {
        "duration": 22,
        "start_time": "2023-01-12T11:33:12.820Z"
      },
      {
        "duration": 392,
        "start_time": "2023-01-12T12:01:07.465Z"
      },
      {
        "duration": 165,
        "start_time": "2023-01-12T12:01:24.440Z"
      },
      {
        "duration": 214,
        "start_time": "2023-01-12T12:02:07.372Z"
      },
      {
        "duration": 18,
        "start_time": "2023-01-12T12:33:41.712Z"
      },
      {
        "duration": 32,
        "start_time": "2023-01-12T12:34:06.610Z"
      },
      {
        "duration": 65,
        "start_time": "2023-01-12T12:35:33.118Z"
      },
      {
        "duration": 8,
        "start_time": "2023-01-12T12:36:10.090Z"
      },
      {
        "duration": 47,
        "start_time": "2023-01-12T12:38:50.295Z"
      },
      {
        "duration": 11,
        "start_time": "2023-01-12T12:39:02.431Z"
      },
      {
        "duration": 122,
        "start_time": "2023-01-12T12:42:36.750Z"
      },
      {
        "duration": 9,
        "start_time": "2023-01-12T12:42:53.373Z"
      },
      {
        "duration": 10,
        "start_time": "2023-01-12T12:43:20.364Z"
      },
      {
        "duration": 746,
        "start_time": "2023-01-12T12:49:22.225Z"
      },
      {
        "duration": 96,
        "start_time": "2023-01-12T12:55:59.442Z"
      },
      {
        "duration": 8,
        "start_time": "2023-01-12T13:00:42.067Z"
      },
      {
        "duration": 9,
        "start_time": "2023-01-12T13:01:27.934Z"
      },
      {
        "duration": 7,
        "start_time": "2023-01-12T13:01:32.488Z"
      },
      {
        "duration": 9,
        "start_time": "2023-01-12T13:05:21.840Z"
      },
      {
        "duration": 9,
        "start_time": "2023-01-12T13:27:38.471Z"
      },
      {
        "duration": 23,
        "start_time": "2023-01-12T13:27:44.280Z"
      },
      {
        "duration": 25,
        "start_time": "2023-01-12T13:28:11.292Z"
      },
      {
        "duration": 19,
        "start_time": "2023-01-12T13:28:29.723Z"
      },
      {
        "duration": 410,
        "start_time": "2023-01-12T19:19:51.180Z"
      },
      {
        "duration": 941,
        "start_time": "2023-01-12T19:19:51.592Z"
      },
      {
        "duration": 18,
        "start_time": "2023-01-12T19:19:52.535Z"
      },
      {
        "duration": 28,
        "start_time": "2023-01-12T19:19:52.556Z"
      },
      {
        "duration": 610,
        "start_time": "2023-01-12T19:19:52.586Z"
      },
      {
        "duration": 700,
        "start_time": "2023-01-12T19:19:53.199Z"
      },
      {
        "duration": 11,
        "start_time": "2023-01-12T19:19:53.900Z"
      },
      {
        "duration": 33,
        "start_time": "2023-01-12T19:19:53.913Z"
      },
      {
        "duration": 176,
        "start_time": "2023-01-12T19:19:53.948Z"
      },
      {
        "duration": 194,
        "start_time": "2023-01-12T19:19:54.127Z"
      },
      {
        "duration": 8,
        "start_time": "2023-01-12T19:19:54.323Z"
      },
      {
        "duration": 42,
        "start_time": "2023-01-12T19:19:54.332Z"
      },
      {
        "duration": 70,
        "start_time": "2023-01-12T19:19:54.376Z"
      },
      {
        "duration": 9,
        "start_time": "2023-01-12T19:19:54.448Z"
      },
      {
        "duration": 18,
        "start_time": "2023-01-12T19:19:54.459Z"
      },
      {
        "duration": 77,
        "start_time": "2023-01-12T19:19:54.479Z"
      },
      {
        "duration": 11,
        "start_time": "2023-01-12T19:19:54.558Z"
      },
      {
        "duration": 15,
        "start_time": "2023-01-12T19:19:54.571Z"
      },
      {
        "duration": 124,
        "start_time": "2023-01-12T19:19:54.589Z"
      },
      {
        "duration": 7,
        "start_time": "2023-01-12T19:19:54.715Z"
      },
      {
        "duration": 25,
        "start_time": "2023-01-12T19:19:54.723Z"
      },
      {
        "duration": 39,
        "start_time": "2023-01-12T19:19:54.749Z"
      },
      {
        "duration": 17,
        "start_time": "2023-01-12T19:19:54.789Z"
      },
      {
        "duration": 20,
        "start_time": "2023-01-12T19:19:54.807Z"
      },
      {
        "duration": 2,
        "start_time": "2023-01-12T19:19:54.829Z"
      },
      {
        "duration": 27,
        "start_time": "2023-01-12T19:19:54.832Z"
      },
      {
        "duration": 16,
        "start_time": "2023-01-12T19:19:54.861Z"
      },
      {
        "duration": 14,
        "start_time": "2023-01-12T19:19:54.881Z"
      },
      {
        "duration": 13,
        "start_time": "2023-01-12T19:19:54.897Z"
      },
      {
        "duration": 10,
        "start_time": "2023-01-12T19:19:54.912Z"
      },
      {
        "duration": 10,
        "start_time": "2023-01-12T19:19:54.924Z"
      },
      {
        "duration": 9,
        "start_time": "2023-01-12T19:19:54.936Z"
      },
      {
        "duration": 14,
        "start_time": "2023-01-12T19:19:54.947Z"
      },
      {
        "duration": 86,
        "start_time": "2023-01-12T19:19:54.962Z"
      },
      {
        "duration": 0,
        "start_time": "2023-01-12T19:19:55.050Z"
      },
      {
        "duration": 0,
        "start_time": "2023-01-12T19:19:55.051Z"
      },
      {
        "duration": 0,
        "start_time": "2023-01-12T19:19:55.053Z"
      },
      {
        "duration": 0,
        "start_time": "2023-01-12T19:19:55.054Z"
      },
      {
        "duration": 0,
        "start_time": "2023-01-12T19:19:55.055Z"
      },
      {
        "duration": 0,
        "start_time": "2023-01-12T19:19:55.056Z"
      },
      {
        "duration": 0,
        "start_time": "2023-01-12T19:19:55.057Z"
      },
      {
        "duration": 0,
        "start_time": "2023-01-12T19:19:55.059Z"
      },
      {
        "duration": 0,
        "start_time": "2023-01-12T19:19:55.060Z"
      },
      {
        "duration": 0,
        "start_time": "2023-01-12T19:19:55.061Z"
      },
      {
        "duration": 0,
        "start_time": "2023-01-12T19:19:55.063Z"
      },
      {
        "duration": 0,
        "start_time": "2023-01-12T19:19:55.064Z"
      },
      {
        "duration": 0,
        "start_time": "2023-01-12T19:19:55.065Z"
      },
      {
        "duration": 0,
        "start_time": "2023-01-12T19:19:55.066Z"
      },
      {
        "duration": 1,
        "start_time": "2023-01-12T19:19:55.067Z"
      },
      {
        "duration": 0,
        "start_time": "2023-01-12T19:19:55.069Z"
      },
      {
        "duration": 0,
        "start_time": "2023-01-12T19:19:55.070Z"
      },
      {
        "duration": 0,
        "start_time": "2023-01-12T19:19:55.071Z"
      },
      {
        "duration": 0,
        "start_time": "2023-01-12T19:19:55.072Z"
      },
      {
        "duration": 0,
        "start_time": "2023-01-12T19:19:55.073Z"
      },
      {
        "duration": 27,
        "start_time": "2023-01-12T19:25:25.120Z"
      },
      {
        "duration": 9,
        "start_time": "2023-01-12T19:25:36.532Z"
      },
      {
        "duration": 8,
        "start_time": "2023-01-12T19:36:48.540Z"
      },
      {
        "duration": 9,
        "start_time": "2023-01-12T19:36:50.261Z"
      },
      {
        "duration": 9,
        "start_time": "2023-01-12T19:37:00.495Z"
      },
      {
        "duration": 9,
        "start_time": "2023-01-12T19:37:05.908Z"
      },
      {
        "duration": 94,
        "start_time": "2023-01-12T19:37:10.324Z"
      },
      {
        "duration": 430,
        "start_time": "2023-01-12T19:37:21.190Z"
      },
      {
        "duration": 71,
        "start_time": "2023-01-12T19:38:25.151Z"
      },
      {
        "duration": 17,
        "start_time": "2023-01-12T19:38:32.082Z"
      },
      {
        "duration": 15,
        "start_time": "2023-01-12T19:39:01.303Z"
      },
      {
        "duration": 437,
        "start_time": "2023-01-12T19:39:37.255Z"
      },
      {
        "duration": 179,
        "start_time": "2023-01-12T19:39:37.694Z"
      },
      {
        "duration": 16,
        "start_time": "2023-01-12T19:39:37.875Z"
      },
      {
        "duration": 28,
        "start_time": "2023-01-12T19:39:37.893Z"
      },
      {
        "duration": 475,
        "start_time": "2023-01-12T19:39:37.923Z"
      },
      {
        "duration": 146,
        "start_time": "2023-01-12T19:39:38.400Z"
      },
      {
        "duration": 10,
        "start_time": "2023-01-12T19:39:38.548Z"
      },
      {
        "duration": 27,
        "start_time": "2023-01-12T19:39:38.560Z"
      },
      {
        "duration": 189,
        "start_time": "2023-01-12T19:39:38.589Z"
      },
      {
        "duration": 115,
        "start_time": "2023-01-12T19:39:38.780Z"
      },
      {
        "duration": 9,
        "start_time": "2023-01-12T19:39:38.897Z"
      },
      {
        "duration": 26,
        "start_time": "2023-01-12T19:39:38.908Z"
      },
      {
        "duration": 18,
        "start_time": "2023-01-12T19:39:38.936Z"
      },
      {
        "duration": 13,
        "start_time": "2023-01-12T19:39:38.957Z"
      },
      {
        "duration": 18,
        "start_time": "2023-01-12T19:39:38.972Z"
      },
      {
        "duration": 34,
        "start_time": "2023-01-12T19:39:38.992Z"
      },
      {
        "duration": 11,
        "start_time": "2023-01-12T19:39:39.029Z"
      },
      {
        "duration": 22,
        "start_time": "2023-01-12T19:39:39.041Z"
      },
      {
        "duration": 89,
        "start_time": "2023-01-12T19:39:39.065Z"
      },
      {
        "duration": 9,
        "start_time": "2023-01-12T19:39:39.156Z"
      },
      {
        "duration": 16,
        "start_time": "2023-01-12T19:39:39.167Z"
      },
      {
        "duration": 34,
        "start_time": "2023-01-12T19:39:39.185Z"
      },
      {
        "duration": 18,
        "start_time": "2023-01-12T19:39:39.221Z"
      },
      {
        "duration": 22,
        "start_time": "2023-01-12T19:39:39.251Z"
      },
      {
        "duration": 30,
        "start_time": "2023-01-12T19:39:39.274Z"
      },
      {
        "duration": 9,
        "start_time": "2023-01-12T19:39:39.306Z"
      },
      {
        "duration": 11,
        "start_time": "2023-01-12T19:39:39.317Z"
      },
      {
        "duration": 3,
        "start_time": "2023-01-12T19:39:39.351Z"
      },
      {
        "duration": 9,
        "start_time": "2023-01-12T19:39:39.357Z"
      },
      {
        "duration": 16,
        "start_time": "2023-01-12T19:39:39.368Z"
      },
      {
        "duration": 15,
        "start_time": "2023-01-12T19:39:39.386Z"
      },
      {
        "duration": 14,
        "start_time": "2023-01-12T19:39:39.403Z"
      },
      {
        "duration": 12,
        "start_time": "2023-01-12T19:39:39.419Z"
      },
      {
        "duration": 84,
        "start_time": "2023-01-12T19:39:39.433Z"
      },
      {
        "duration": 0,
        "start_time": "2023-01-12T19:39:39.520Z"
      },
      {
        "duration": 0,
        "start_time": "2023-01-12T19:39:39.521Z"
      },
      {
        "duration": 0,
        "start_time": "2023-01-12T19:39:39.523Z"
      },
      {
        "duration": 0,
        "start_time": "2023-01-12T19:39:39.525Z"
      },
      {
        "duration": 0,
        "start_time": "2023-01-12T19:39:39.526Z"
      },
      {
        "duration": 0,
        "start_time": "2023-01-12T19:39:39.528Z"
      },
      {
        "duration": 0,
        "start_time": "2023-01-12T19:39:39.529Z"
      },
      {
        "duration": 0,
        "start_time": "2023-01-12T19:39:39.531Z"
      },
      {
        "duration": 0,
        "start_time": "2023-01-12T19:39:39.551Z"
      },
      {
        "duration": 0,
        "start_time": "2023-01-12T19:39:39.553Z"
      },
      {
        "duration": 0,
        "start_time": "2023-01-12T19:39:39.555Z"
      },
      {
        "duration": 0,
        "start_time": "2023-01-12T19:39:39.557Z"
      },
      {
        "duration": 0,
        "start_time": "2023-01-12T19:39:39.558Z"
      },
      {
        "duration": 0,
        "start_time": "2023-01-12T19:39:39.560Z"
      },
      {
        "duration": 0,
        "start_time": "2023-01-12T19:39:39.561Z"
      },
      {
        "duration": 0,
        "start_time": "2023-01-12T19:39:39.562Z"
      },
      {
        "duration": 0,
        "start_time": "2023-01-12T19:39:39.563Z"
      },
      {
        "duration": 0,
        "start_time": "2023-01-12T19:39:39.564Z"
      },
      {
        "duration": 0,
        "start_time": "2023-01-12T19:39:39.565Z"
      },
      {
        "duration": 0,
        "start_time": "2023-01-12T19:39:39.566Z"
      },
      {
        "duration": 10,
        "start_time": "2023-01-12T19:42:41.815Z"
      },
      {
        "duration": 16,
        "start_time": "2023-01-12T19:43:46.056Z"
      },
      {
        "duration": 453,
        "start_time": "2023-01-12T19:44:10.880Z"
      },
      {
        "duration": 176,
        "start_time": "2023-01-12T19:44:11.335Z"
      },
      {
        "duration": 18,
        "start_time": "2023-01-12T19:44:11.513Z"
      },
      {
        "duration": 60,
        "start_time": "2023-01-12T19:44:11.534Z"
      },
      {
        "duration": 428,
        "start_time": "2023-01-12T19:44:11.596Z"
      },
      {
        "duration": 144,
        "start_time": "2023-01-12T19:44:12.025Z"
      },
      {
        "duration": 12,
        "start_time": "2023-01-12T19:44:12.171Z"
      },
      {
        "duration": 26,
        "start_time": "2023-01-12T19:44:12.185Z"
      },
      {
        "duration": 183,
        "start_time": "2023-01-12T19:44:12.213Z"
      },
      {
        "duration": 122,
        "start_time": "2023-01-12T19:44:12.399Z"
      },
      {
        "duration": 7,
        "start_time": "2023-01-12T19:44:12.523Z"
      },
      {
        "duration": 32,
        "start_time": "2023-01-12T19:44:12.532Z"
      },
      {
        "duration": 16,
        "start_time": "2023-01-12T19:44:12.566Z"
      },
      {
        "duration": 9,
        "start_time": "2023-01-12T19:44:12.584Z"
      },
      {
        "duration": 19,
        "start_time": "2023-01-12T19:44:12.595Z"
      },
      {
        "duration": 40,
        "start_time": "2023-01-12T19:44:12.615Z"
      },
      {
        "duration": 12,
        "start_time": "2023-01-12T19:44:12.656Z"
      },
      {
        "duration": 15,
        "start_time": "2023-01-12T19:44:12.670Z"
      },
      {
        "duration": 97,
        "start_time": "2023-01-12T19:44:12.688Z"
      },
      {
        "duration": 7,
        "start_time": "2023-01-12T19:44:12.787Z"
      },
      {
        "duration": 15,
        "start_time": "2023-01-12T19:44:12.796Z"
      },
      {
        "duration": 30,
        "start_time": "2023-01-12T19:44:12.813Z"
      },
      {
        "duration": 16,
        "start_time": "2023-01-12T19:44:12.851Z"
      },
      {
        "duration": 19,
        "start_time": "2023-01-12T19:44:12.869Z"
      },
      {
        "duration": 16,
        "start_time": "2023-01-12T19:44:12.889Z"
      },
      {
        "duration": 7,
        "start_time": "2023-01-12T19:44:12.907Z"
      },
      {
        "duration": 7,
        "start_time": "2023-01-12T19:44:12.915Z"
      },
      {
        "duration": 2,
        "start_time": "2023-01-12T19:44:12.955Z"
      },
      {
        "duration": 7,
        "start_time": "2023-01-12T19:44:12.960Z"
      },
      {
        "duration": 8,
        "start_time": "2023-01-12T19:44:12.968Z"
      },
      {
        "duration": 6,
        "start_time": "2023-01-12T19:44:12.978Z"
      },
      {
        "duration": 22,
        "start_time": "2023-01-12T19:44:12.985Z"
      },
      {
        "duration": 10,
        "start_time": "2023-01-12T19:44:13.008Z"
      },
      {
        "duration": 78,
        "start_time": "2023-01-12T19:44:13.019Z"
      },
      {
        "duration": 0,
        "start_time": "2023-01-12T19:44:13.099Z"
      },
      {
        "duration": 0,
        "start_time": "2023-01-12T19:44:13.100Z"
      },
      {
        "duration": 0,
        "start_time": "2023-01-12T19:44:13.101Z"
      },
      {
        "duration": 0,
        "start_time": "2023-01-12T19:44:13.102Z"
      },
      {
        "duration": 0,
        "start_time": "2023-01-12T19:44:13.104Z"
      },
      {
        "duration": 0,
        "start_time": "2023-01-12T19:44:13.105Z"
      },
      {
        "duration": 0,
        "start_time": "2023-01-12T19:44:13.106Z"
      },
      {
        "duration": 0,
        "start_time": "2023-01-12T19:44:13.107Z"
      },
      {
        "duration": 0,
        "start_time": "2023-01-12T19:44:13.108Z"
      },
      {
        "duration": 0,
        "start_time": "2023-01-12T19:44:13.109Z"
      },
      {
        "duration": 0,
        "start_time": "2023-01-12T19:44:13.110Z"
      },
      {
        "duration": 0,
        "start_time": "2023-01-12T19:44:13.111Z"
      },
      {
        "duration": 0,
        "start_time": "2023-01-12T19:44:13.112Z"
      },
      {
        "duration": 0,
        "start_time": "2023-01-12T19:44:13.114Z"
      },
      {
        "duration": 0,
        "start_time": "2023-01-12T19:44:13.115Z"
      },
      {
        "duration": 1,
        "start_time": "2023-01-12T19:44:13.116Z"
      },
      {
        "duration": 0,
        "start_time": "2023-01-12T19:44:13.118Z"
      },
      {
        "duration": 0,
        "start_time": "2023-01-12T19:44:13.119Z"
      },
      {
        "duration": 0,
        "start_time": "2023-01-12T19:44:13.151Z"
      },
      {
        "duration": 0,
        "start_time": "2023-01-12T19:44:13.153Z"
      },
      {
        "duration": 8,
        "start_time": "2023-01-12T19:45:22.208Z"
      },
      {
        "duration": 14,
        "start_time": "2023-01-12T19:48:08.999Z"
      },
      {
        "duration": 427,
        "start_time": "2023-01-12T19:48:26.590Z"
      },
      {
        "duration": 198,
        "start_time": "2023-01-12T19:48:27.019Z"
      },
      {
        "duration": 20,
        "start_time": "2023-01-12T19:48:27.219Z"
      },
      {
        "duration": 29,
        "start_time": "2023-01-12T19:48:27.252Z"
      },
      {
        "duration": 471,
        "start_time": "2023-01-12T19:48:27.283Z"
      },
      {
        "duration": 152,
        "start_time": "2023-01-12T19:48:27.756Z"
      },
      {
        "duration": 9,
        "start_time": "2023-01-12T19:48:27.910Z"
      },
      {
        "duration": 32,
        "start_time": "2023-01-12T19:48:27.921Z"
      },
      {
        "duration": 185,
        "start_time": "2023-01-12T19:48:27.955Z"
      },
      {
        "duration": 131,
        "start_time": "2023-01-12T19:48:28.150Z"
      },
      {
        "duration": 9,
        "start_time": "2023-01-12T19:48:28.284Z"
      },
      {
        "duration": 61,
        "start_time": "2023-01-12T19:48:28.295Z"
      },
      {
        "duration": 24,
        "start_time": "2023-01-12T19:48:28.359Z"
      },
      {
        "duration": 9,
        "start_time": "2023-01-12T19:48:28.385Z"
      },
      {
        "duration": 35,
        "start_time": "2023-01-12T19:48:28.397Z"
      },
      {
        "duration": 43,
        "start_time": "2023-01-12T19:48:28.434Z"
      },
      {
        "duration": 14,
        "start_time": "2023-01-12T19:48:28.480Z"
      },
      {
        "duration": 20,
        "start_time": "2023-01-12T19:48:28.498Z"
      },
      {
        "duration": 111,
        "start_time": "2023-01-12T19:48:28.520Z"
      },
      {
        "duration": 7,
        "start_time": "2023-01-12T19:48:28.634Z"
      },
      {
        "duration": 26,
        "start_time": "2023-01-12T19:48:28.643Z"
      },
      {
        "duration": 38,
        "start_time": "2023-01-12T19:48:28.671Z"
      },
      {
        "duration": 18,
        "start_time": "2023-01-12T19:48:28.711Z"
      },
      {
        "duration": 23,
        "start_time": "2023-01-12T19:48:28.731Z"
      },
      {
        "duration": 27,
        "start_time": "2023-01-12T19:48:28.756Z"
      },
      {
        "duration": 15,
        "start_time": "2023-01-12T19:48:28.785Z"
      },
      {
        "duration": 5,
        "start_time": "2023-01-12T19:48:28.803Z"
      },
      {
        "duration": 5,
        "start_time": "2023-01-12T19:48:28.813Z"
      },
      {
        "duration": 39,
        "start_time": "2023-01-12T19:48:28.819Z"
      },
      {
        "duration": 6,
        "start_time": "2023-01-12T19:48:28.861Z"
      },
      {
        "duration": 9,
        "start_time": "2023-01-12T19:48:28.869Z"
      },
      {
        "duration": 7,
        "start_time": "2023-01-12T19:48:28.881Z"
      },
      {
        "duration": 13,
        "start_time": "2023-01-12T19:48:28.889Z"
      },
      {
        "duration": 99,
        "start_time": "2023-01-12T19:48:28.904Z"
      },
      {
        "duration": 0,
        "start_time": "2023-01-12T19:48:29.005Z"
      },
      {
        "duration": 0,
        "start_time": "2023-01-12T19:48:29.007Z"
      },
      {
        "duration": 0,
        "start_time": "2023-01-12T19:48:29.008Z"
      },
      {
        "duration": 0,
        "start_time": "2023-01-12T19:48:29.010Z"
      },
      {
        "duration": 0,
        "start_time": "2023-01-12T19:48:29.011Z"
      },
      {
        "duration": 0,
        "start_time": "2023-01-12T19:48:29.013Z"
      },
      {
        "duration": 0,
        "start_time": "2023-01-12T19:48:29.014Z"
      },
      {
        "duration": 0,
        "start_time": "2023-01-12T19:48:29.015Z"
      },
      {
        "duration": 0,
        "start_time": "2023-01-12T19:48:29.017Z"
      },
      {
        "duration": 0,
        "start_time": "2023-01-12T19:48:29.018Z"
      },
      {
        "duration": 0,
        "start_time": "2023-01-12T19:48:29.019Z"
      },
      {
        "duration": 0,
        "start_time": "2023-01-12T19:48:29.020Z"
      },
      {
        "duration": 0,
        "start_time": "2023-01-12T19:48:29.021Z"
      },
      {
        "duration": 0,
        "start_time": "2023-01-12T19:48:29.023Z"
      },
      {
        "duration": 0,
        "start_time": "2023-01-12T19:48:29.051Z"
      },
      {
        "duration": 0,
        "start_time": "2023-01-12T19:48:29.053Z"
      },
      {
        "duration": 0,
        "start_time": "2023-01-12T19:48:29.054Z"
      },
      {
        "duration": 0,
        "start_time": "2023-01-12T19:48:29.056Z"
      },
      {
        "duration": 0,
        "start_time": "2023-01-12T19:48:29.057Z"
      },
      {
        "duration": 0,
        "start_time": "2023-01-12T19:48:29.059Z"
      },
      {
        "duration": 9,
        "start_time": "2023-01-12T19:48:58.139Z"
      },
      {
        "duration": 31,
        "start_time": "2023-01-12T19:49:22.937Z"
      },
      {
        "duration": 10,
        "start_time": "2023-01-12T19:49:26.684Z"
      },
      {
        "duration": 26,
        "start_time": "2023-01-12T19:50:04.967Z"
      },
      {
        "duration": 10,
        "start_time": "2023-01-12T19:50:04.996Z"
      },
      {
        "duration": 28,
        "start_time": "2023-01-12T19:57:22.891Z"
      },
      {
        "duration": 9,
        "start_time": "2023-01-12T19:57:35.378Z"
      },
      {
        "duration": 402,
        "start_time": "2023-01-12T19:58:11.302Z"
      },
      {
        "duration": 181,
        "start_time": "2023-01-12T19:58:11.706Z"
      },
      {
        "duration": 17,
        "start_time": "2023-01-12T19:58:11.889Z"
      },
      {
        "duration": 46,
        "start_time": "2023-01-12T19:58:11.907Z"
      },
      {
        "duration": 455,
        "start_time": "2023-01-12T19:58:11.956Z"
      },
      {
        "duration": 166,
        "start_time": "2023-01-12T19:58:12.413Z"
      },
      {
        "duration": 9,
        "start_time": "2023-01-12T19:58:12.581Z"
      },
      {
        "duration": 27,
        "start_time": "2023-01-12T19:58:12.592Z"
      },
      {
        "duration": 200,
        "start_time": "2023-01-12T19:58:12.621Z"
      },
      {
        "duration": 148,
        "start_time": "2023-01-12T19:58:12.824Z"
      },
      {
        "duration": 8,
        "start_time": "2023-01-12T19:58:12.974Z"
      },
      {
        "duration": 30,
        "start_time": "2023-01-12T19:58:12.985Z"
      },
      {
        "duration": 16,
        "start_time": "2023-01-12T19:58:13.017Z"
      },
      {
        "duration": 17,
        "start_time": "2023-01-12T19:58:13.037Z"
      },
      {
        "duration": 18,
        "start_time": "2023-01-12T19:58:13.056Z"
      },
      {
        "duration": 33,
        "start_time": "2023-01-12T19:58:13.076Z"
      },
      {
        "duration": 11,
        "start_time": "2023-01-12T19:58:13.111Z"
      },
      {
        "duration": 17,
        "start_time": "2023-01-12T19:58:13.124Z"
      },
      {
        "duration": 89,
        "start_time": "2023-01-12T19:58:13.144Z"
      },
      {
        "duration": 18,
        "start_time": "2023-01-12T19:58:13.235Z"
      },
      {
        "duration": 11,
        "start_time": "2023-01-12T19:58:13.255Z"
      },
      {
        "duration": 33,
        "start_time": "2023-01-12T19:58:13.269Z"
      },
      {
        "duration": 18,
        "start_time": "2023-01-12T19:58:13.304Z"
      },
      {
        "duration": 40,
        "start_time": "2023-01-12T19:58:13.325Z"
      },
      {
        "duration": 39,
        "start_time": "2023-01-12T19:58:13.367Z"
      },
      {
        "duration": 11,
        "start_time": "2023-01-12T19:58:13.408Z"
      },
      {
        "duration": 50,
        "start_time": "2023-01-12T19:58:13.421Z"
      },
      {
        "duration": 9,
        "start_time": "2023-01-12T19:58:13.473Z"
      },
      {
        "duration": 8,
        "start_time": "2023-01-12T19:58:13.484Z"
      },
      {
        "duration": 8,
        "start_time": "2023-01-12T19:58:13.494Z"
      },
      {
        "duration": 8,
        "start_time": "2023-01-12T19:58:13.504Z"
      },
      {
        "duration": 12,
        "start_time": "2023-01-12T19:58:13.514Z"
      },
      {
        "duration": 20,
        "start_time": "2023-01-12T19:58:13.529Z"
      },
      {
        "duration": 100,
        "start_time": "2023-01-12T19:58:13.551Z"
      },
      {
        "duration": 0,
        "start_time": "2023-01-12T19:58:13.654Z"
      },
      {
        "duration": 0,
        "start_time": "2023-01-12T19:58:13.655Z"
      },
      {
        "duration": 0,
        "start_time": "2023-01-12T19:58:13.657Z"
      },
      {
        "duration": 0,
        "start_time": "2023-01-12T19:58:13.658Z"
      },
      {
        "duration": 0,
        "start_time": "2023-01-12T19:58:13.660Z"
      },
      {
        "duration": 0,
        "start_time": "2023-01-12T19:58:13.661Z"
      },
      {
        "duration": 0,
        "start_time": "2023-01-12T19:58:13.663Z"
      },
      {
        "duration": 0,
        "start_time": "2023-01-12T19:58:13.664Z"
      },
      {
        "duration": 0,
        "start_time": "2023-01-12T19:58:13.666Z"
      },
      {
        "duration": 0,
        "start_time": "2023-01-12T19:58:13.668Z"
      },
      {
        "duration": 0,
        "start_time": "2023-01-12T19:58:13.669Z"
      },
      {
        "duration": 0,
        "start_time": "2023-01-12T19:58:13.671Z"
      },
      {
        "duration": 0,
        "start_time": "2023-01-12T19:58:13.672Z"
      },
      {
        "duration": 0,
        "start_time": "2023-01-12T19:58:13.674Z"
      },
      {
        "duration": 0,
        "start_time": "2023-01-12T19:58:13.675Z"
      },
      {
        "duration": 0,
        "start_time": "2023-01-12T19:58:13.677Z"
      },
      {
        "duration": 0,
        "start_time": "2023-01-12T19:58:13.678Z"
      },
      {
        "duration": 0,
        "start_time": "2023-01-12T19:58:13.680Z"
      },
      {
        "duration": 0,
        "start_time": "2023-01-12T19:58:13.682Z"
      },
      {
        "duration": 0,
        "start_time": "2023-01-12T19:58:13.683Z"
      },
      {
        "duration": 456,
        "start_time": "2023-01-12T19:59:01.132Z"
      },
      {
        "duration": 206,
        "start_time": "2023-01-12T19:59:01.590Z"
      },
      {
        "duration": 19,
        "start_time": "2023-01-12T19:59:01.798Z"
      },
      {
        "duration": 69,
        "start_time": "2023-01-12T19:59:01.819Z"
      },
      {
        "duration": 460,
        "start_time": "2023-01-12T19:59:01.891Z"
      },
      {
        "duration": 150,
        "start_time": "2023-01-12T19:59:02.352Z"
      },
      {
        "duration": 10,
        "start_time": "2023-01-12T19:59:02.504Z"
      },
      {
        "duration": 36,
        "start_time": "2023-01-12T19:59:02.516Z"
      },
      {
        "duration": 176,
        "start_time": "2023-01-12T19:59:02.555Z"
      },
      {
        "duration": 122,
        "start_time": "2023-01-12T19:59:02.733Z"
      },
      {
        "duration": 9,
        "start_time": "2023-01-12T19:59:02.857Z"
      },
      {
        "duration": 31,
        "start_time": "2023-01-12T19:59:02.868Z"
      },
      {
        "duration": 20,
        "start_time": "2023-01-12T19:59:02.901Z"
      },
      {
        "duration": 14,
        "start_time": "2023-01-12T19:59:02.925Z"
      },
      {
        "duration": 26,
        "start_time": "2023-01-12T19:59:02.941Z"
      },
      {
        "duration": 48,
        "start_time": "2023-01-12T19:59:02.969Z"
      },
      {
        "duration": 11,
        "start_time": "2023-01-12T19:59:03.021Z"
      },
      {
        "duration": 22,
        "start_time": "2023-01-12T19:59:03.034Z"
      },
      {
        "duration": 116,
        "start_time": "2023-01-12T19:59:03.058Z"
      },
      {
        "duration": 7,
        "start_time": "2023-01-12T19:59:03.176Z"
      },
      {
        "duration": 12,
        "start_time": "2023-01-12T19:59:03.185Z"
      },
      {
        "duration": 30,
        "start_time": "2023-01-12T19:59:03.199Z"
      },
      {
        "duration": 30,
        "start_time": "2023-01-12T19:59:03.231Z"
      },
      {
        "duration": 20,
        "start_time": "2023-01-12T19:59:03.263Z"
      },
      {
        "duration": 26,
        "start_time": "2023-01-12T19:59:03.285Z"
      },
      {
        "duration": 9,
        "start_time": "2023-01-12T19:59:03.313Z"
      },
      {
        "duration": 54,
        "start_time": "2023-01-12T19:59:03.323Z"
      },
      {
        "duration": 10,
        "start_time": "2023-01-12T19:59:03.378Z"
      },
      {
        "duration": 7,
        "start_time": "2023-01-12T19:59:03.390Z"
      },
      {
        "duration": 7,
        "start_time": "2023-01-12T19:59:03.399Z"
      },
      {
        "duration": 9,
        "start_time": "2023-01-12T19:59:03.408Z"
      },
      {
        "duration": 7,
        "start_time": "2023-01-12T19:59:03.419Z"
      },
      {
        "duration": 26,
        "start_time": "2023-01-12T19:59:03.429Z"
      },
      {
        "duration": 94,
        "start_time": "2023-01-12T19:59:03.457Z"
      },
      {
        "duration": 0,
        "start_time": "2023-01-12T19:59:03.553Z"
      },
      {
        "duration": 0,
        "start_time": "2023-01-12T19:59:03.554Z"
      },
      {
        "duration": 0,
        "start_time": "2023-01-12T19:59:03.556Z"
      },
      {
        "duration": 0,
        "start_time": "2023-01-12T19:59:03.557Z"
      },
      {
        "duration": 0,
        "start_time": "2023-01-12T19:59:03.558Z"
      },
      {
        "duration": 0,
        "start_time": "2023-01-12T19:59:03.559Z"
      },
      {
        "duration": 0,
        "start_time": "2023-01-12T19:59:03.560Z"
      },
      {
        "duration": 0,
        "start_time": "2023-01-12T19:59:03.562Z"
      },
      {
        "duration": 0,
        "start_time": "2023-01-12T19:59:03.563Z"
      },
      {
        "duration": 0,
        "start_time": "2023-01-12T19:59:03.564Z"
      },
      {
        "duration": 0,
        "start_time": "2023-01-12T19:59:03.565Z"
      },
      {
        "duration": 0,
        "start_time": "2023-01-12T19:59:03.566Z"
      },
      {
        "duration": 0,
        "start_time": "2023-01-12T19:59:03.567Z"
      },
      {
        "duration": 0,
        "start_time": "2023-01-12T19:59:03.568Z"
      },
      {
        "duration": 0,
        "start_time": "2023-01-12T19:59:03.570Z"
      },
      {
        "duration": 0,
        "start_time": "2023-01-12T19:59:03.571Z"
      },
      {
        "duration": 0,
        "start_time": "2023-01-12T19:59:03.572Z"
      },
      {
        "duration": 0,
        "start_time": "2023-01-12T19:59:03.573Z"
      },
      {
        "duration": 0,
        "start_time": "2023-01-12T19:59:03.574Z"
      },
      {
        "duration": 0,
        "start_time": "2023-01-12T19:59:03.575Z"
      },
      {
        "duration": 11,
        "start_time": "2023-01-12T20:03:30.753Z"
      },
      {
        "duration": 15,
        "start_time": "2023-01-12T20:03:39.225Z"
      },
      {
        "duration": 19,
        "start_time": "2023-01-12T20:03:59.346Z"
      },
      {
        "duration": 9,
        "start_time": "2023-01-12T20:04:00.820Z"
      },
      {
        "duration": 12,
        "start_time": "2023-01-12T20:05:49.238Z"
      },
      {
        "duration": 25,
        "start_time": "2023-01-12T20:06:17.284Z"
      },
      {
        "duration": 16,
        "start_time": "2023-01-12T20:06:37.972Z"
      },
      {
        "duration": 6,
        "start_time": "2023-01-12T20:07:37.721Z"
      },
      {
        "duration": 49,
        "start_time": "2023-01-12T20:07:40.280Z"
      },
      {
        "duration": 9,
        "start_time": "2023-01-12T20:08:04.293Z"
      },
      {
        "duration": 6,
        "start_time": "2023-01-12T20:08:27.841Z"
      },
      {
        "duration": 4,
        "start_time": "2023-01-12T20:08:36.072Z"
      },
      {
        "duration": 10,
        "start_time": "2023-01-12T20:08:40.762Z"
      },
      {
        "duration": 14,
        "start_time": "2023-01-12T20:09:20.407Z"
      },
      {
        "duration": 4,
        "start_time": "2023-01-12T20:09:27.928Z"
      },
      {
        "duration": 10,
        "start_time": "2023-01-12T20:09:52.428Z"
      },
      {
        "duration": 6,
        "start_time": "2023-01-12T20:10:07.790Z"
      },
      {
        "duration": 61,
        "start_time": "2023-01-12T20:10:38.320Z"
      },
      {
        "duration": 1005,
        "start_time": "2023-01-12T20:11:34.714Z"
      },
      {
        "duration": 282,
        "start_time": "2023-01-12T20:11:54.678Z"
      },
      {
        "duration": 321,
        "start_time": "2023-01-12T20:15:57.361Z"
      },
      {
        "duration": 307,
        "start_time": "2023-01-12T20:16:19.876Z"
      },
      {
        "duration": 274,
        "start_time": "2023-01-12T20:18:14.266Z"
      },
      {
        "duration": 211,
        "start_time": "2023-01-12T20:18:27.717Z"
      },
      {
        "duration": 480,
        "start_time": "2023-01-12T20:20:25.436Z"
      },
      {
        "duration": 331,
        "start_time": "2023-01-12T20:20:37.589Z"
      },
      {
        "duration": 51,
        "start_time": "2023-01-12T20:30:20.631Z"
      },
      {
        "duration": 3,
        "start_time": "2023-01-12T20:30:29.538Z"
      },
      {
        "duration": 14,
        "start_time": "2023-01-12T20:30:30.513Z"
      },
      {
        "duration": 12,
        "start_time": "2023-01-12T20:34:46.951Z"
      },
      {
        "duration": 2786,
        "start_time": "2023-01-12T20:35:05.560Z"
      },
      {
        "duration": 115,
        "start_time": "2023-01-12T20:46:41.932Z"
      },
      {
        "duration": 84,
        "start_time": "2023-01-12T20:46:51.704Z"
      },
      {
        "duration": 1189,
        "start_time": "2023-01-12T20:47:13.113Z"
      },
      {
        "duration": 12,
        "start_time": "2023-01-12T20:47:32.255Z"
      },
      {
        "duration": 458,
        "start_time": "2023-01-12T20:49:24.482Z"
      },
      {
        "duration": 195,
        "start_time": "2023-01-12T20:49:24.943Z"
      },
      {
        "duration": 21,
        "start_time": "2023-01-12T20:49:25.142Z"
      },
      {
        "duration": 43,
        "start_time": "2023-01-12T20:49:25.165Z"
      },
      {
        "duration": 471,
        "start_time": "2023-01-12T20:49:25.211Z"
      },
      {
        "duration": 151,
        "start_time": "2023-01-12T20:49:25.684Z"
      },
      {
        "duration": 15,
        "start_time": "2023-01-12T20:49:25.837Z"
      },
      {
        "duration": 26,
        "start_time": "2023-01-12T20:49:25.854Z"
      },
      {
        "duration": 195,
        "start_time": "2023-01-12T20:49:25.882Z"
      },
      {
        "duration": 126,
        "start_time": "2023-01-12T20:49:26.081Z"
      },
      {
        "duration": 9,
        "start_time": "2023-01-12T20:49:26.208Z"
      },
      {
        "duration": 48,
        "start_time": "2023-01-12T20:49:26.219Z"
      },
      {
        "duration": 18,
        "start_time": "2023-01-12T20:49:26.270Z"
      },
      {
        "duration": 12,
        "start_time": "2023-01-12T20:49:26.290Z"
      },
      {
        "duration": 17,
        "start_time": "2023-01-12T20:49:26.305Z"
      },
      {
        "duration": 35,
        "start_time": "2023-01-12T20:49:26.325Z"
      },
      {
        "duration": 13,
        "start_time": "2023-01-12T20:49:26.362Z"
      },
      {
        "duration": 19,
        "start_time": "2023-01-12T20:49:26.380Z"
      },
      {
        "duration": 126,
        "start_time": "2023-01-12T20:49:26.401Z"
      },
      {
        "duration": 7,
        "start_time": "2023-01-12T20:49:26.529Z"
      },
      {
        "duration": 24,
        "start_time": "2023-01-12T20:49:26.538Z"
      },
      {
        "duration": 35,
        "start_time": "2023-01-12T20:49:26.565Z"
      },
      {
        "duration": 20,
        "start_time": "2023-01-12T20:49:26.602Z"
      },
      {
        "duration": 44,
        "start_time": "2023-01-12T20:49:26.624Z"
      },
      {
        "duration": 36,
        "start_time": "2023-01-12T20:49:26.670Z"
      },
      {
        "duration": 12,
        "start_time": "2023-01-12T20:49:26.708Z"
      },
      {
        "duration": 56,
        "start_time": "2023-01-12T20:49:26.721Z"
      },
      {
        "duration": 11,
        "start_time": "2023-01-12T20:49:26.782Z"
      },
      {
        "duration": 26,
        "start_time": "2023-01-12T20:49:26.795Z"
      },
      {
        "duration": 32,
        "start_time": "2023-01-12T20:49:26.823Z"
      },
      {
        "duration": 26,
        "start_time": "2023-01-12T20:49:26.857Z"
      },
      {
        "duration": 12,
        "start_time": "2023-01-12T20:49:26.885Z"
      },
      {
        "duration": 10,
        "start_time": "2023-01-12T20:49:26.899Z"
      },
      {
        "duration": 71,
        "start_time": "2023-01-12T20:49:26.911Z"
      },
      {
        "duration": 9,
        "start_time": "2023-01-12T20:49:26.984Z"
      },
      {
        "duration": 9,
        "start_time": "2023-01-12T20:49:26.995Z"
      },
      {
        "duration": 4,
        "start_time": "2023-01-12T20:49:27.006Z"
      },
      {
        "duration": 41,
        "start_time": "2023-01-12T20:49:27.012Z"
      },
      {
        "duration": 14,
        "start_time": "2023-01-12T20:49:27.055Z"
      },
      {
        "duration": 6,
        "start_time": "2023-01-12T20:49:27.071Z"
      },
      {
        "duration": 15,
        "start_time": "2023-01-12T20:49:27.080Z"
      },
      {
        "duration": 7,
        "start_time": "2023-01-12T20:49:27.097Z"
      },
      {
        "duration": 106,
        "start_time": "2023-01-12T20:49:27.107Z"
      },
      {
        "duration": 985,
        "start_time": "2023-01-12T20:49:27.214Z"
      },
      {
        "duration": 292,
        "start_time": "2023-01-12T20:49:28.201Z"
      },
      {
        "duration": 356,
        "start_time": "2023-01-12T20:49:28.495Z"
      },
      {
        "duration": 348,
        "start_time": "2023-01-12T20:49:28.853Z"
      },
      {
        "duration": 306,
        "start_time": "2023-01-12T20:49:29.204Z"
      },
      {
        "duration": 324,
        "start_time": "2023-01-12T20:49:29.511Z"
      },
      {
        "duration": 452,
        "start_time": "2023-01-12T20:49:29.837Z"
      },
      {
        "duration": 299,
        "start_time": "2023-01-12T20:49:30.291Z"
      },
      {
        "duration": 4,
        "start_time": "2023-01-12T20:49:30.593Z"
      },
      {
        "duration": 305,
        "start_time": "2023-01-12T20:49:30.600Z"
      },
      {
        "duration": 0,
        "start_time": "2023-01-12T20:49:30.907Z"
      },
      {
        "duration": 5,
        "start_time": "2023-01-12T20:50:56.115Z"
      },
      {
        "duration": 10,
        "start_time": "2023-01-12T20:57:22.748Z"
      },
      {
        "duration": 12,
        "start_time": "2023-01-12T20:57:58.425Z"
      },
      {
        "duration": 10,
        "start_time": "2023-01-12T20:58:26.102Z"
      },
      {
        "duration": 7,
        "start_time": "2023-01-12T20:59:19.098Z"
      },
      {
        "duration": 10,
        "start_time": "2023-01-12T20:59:55.256Z"
      },
      {
        "duration": 19,
        "start_time": "2023-01-12T21:00:24.923Z"
      },
      {
        "duration": 7,
        "start_time": "2023-01-12T21:05:31.585Z"
      },
      {
        "duration": 7,
        "start_time": "2023-01-12T21:06:00.066Z"
      },
      {
        "duration": 6,
        "start_time": "2023-01-12T21:06:18.908Z"
      },
      {
        "duration": 9,
        "start_time": "2023-01-12T21:10:25.313Z"
      },
      {
        "duration": 10,
        "start_time": "2023-01-12T21:10:38.599Z"
      },
      {
        "duration": 37,
        "start_time": "2023-01-12T21:10:47.663Z"
      },
      {
        "duration": 23,
        "start_time": "2023-01-12T21:11:09.995Z"
      },
      {
        "duration": 78,
        "start_time": "2023-01-12T21:13:45.547Z"
      },
      {
        "duration": 5,
        "start_time": "2023-01-12T21:14:18.938Z"
      },
      {
        "duration": 8,
        "start_time": "2023-01-12T21:14:30.833Z"
      },
      {
        "duration": 18,
        "start_time": "2023-01-12T21:14:39.397Z"
      },
      {
        "duration": 24,
        "start_time": "2023-01-12T21:14:44.719Z"
      },
      {
        "duration": 24,
        "start_time": "2023-01-12T21:14:50.311Z"
      },
      {
        "duration": 458,
        "start_time": "2023-01-12T21:15:23.543Z"
      },
      {
        "duration": 230,
        "start_time": "2023-01-12T21:15:24.003Z"
      },
      {
        "duration": 24,
        "start_time": "2023-01-12T21:15:24.235Z"
      },
      {
        "duration": 33,
        "start_time": "2023-01-12T21:15:24.261Z"
      },
      {
        "duration": 585,
        "start_time": "2023-01-12T21:15:24.296Z"
      },
      {
        "duration": 178,
        "start_time": "2023-01-12T21:15:24.883Z"
      },
      {
        "duration": 10,
        "start_time": "2023-01-12T21:15:25.064Z"
      },
      {
        "duration": 31,
        "start_time": "2023-01-12T21:15:25.076Z"
      },
      {
        "duration": 200,
        "start_time": "2023-01-12T21:15:25.109Z"
      },
      {
        "duration": 114,
        "start_time": "2023-01-12T21:15:25.311Z"
      },
      {
        "duration": 8,
        "start_time": "2023-01-12T21:15:25.426Z"
      },
      {
        "duration": 28,
        "start_time": "2023-01-12T21:15:25.436Z"
      },
      {
        "duration": 18,
        "start_time": "2023-01-12T21:15:25.466Z"
      },
      {
        "duration": 13,
        "start_time": "2023-01-12T21:15:25.486Z"
      },
      {
        "duration": 28,
        "start_time": "2023-01-12T21:15:25.501Z"
      },
      {
        "duration": 35,
        "start_time": "2023-01-12T21:15:25.531Z"
      },
      {
        "duration": 10,
        "start_time": "2023-01-12T21:15:25.568Z"
      },
      {
        "duration": 23,
        "start_time": "2023-01-12T21:15:25.580Z"
      },
      {
        "duration": 90,
        "start_time": "2023-01-12T21:15:25.605Z"
      },
      {
        "duration": 8,
        "start_time": "2023-01-12T21:15:25.697Z"
      },
      {
        "duration": 18,
        "start_time": "2023-01-12T21:15:25.708Z"
      },
      {
        "duration": 37,
        "start_time": "2023-01-12T21:15:25.728Z"
      },
      {
        "duration": 15,
        "start_time": "2023-01-12T21:15:25.767Z"
      },
      {
        "duration": 21,
        "start_time": "2023-01-12T21:15:25.783Z"
      },
      {
        "duration": 54,
        "start_time": "2023-01-12T21:15:25.806Z"
      },
      {
        "duration": 20,
        "start_time": "2023-01-12T21:15:25.862Z"
      },
      {
        "duration": 50,
        "start_time": "2023-01-12T21:15:25.884Z"
      },
      {
        "duration": 8,
        "start_time": "2023-01-12T21:15:25.940Z"
      },
      {
        "duration": 40,
        "start_time": "2023-01-12T21:15:25.950Z"
      },
      {
        "duration": 9,
        "start_time": "2023-01-12T21:15:25.993Z"
      },
      {
        "duration": 25,
        "start_time": "2023-01-12T21:15:26.004Z"
      },
      {
        "duration": 11,
        "start_time": "2023-01-12T21:15:26.030Z"
      },
      {
        "duration": 17,
        "start_time": "2023-01-12T21:15:26.042Z"
      },
      {
        "duration": 61,
        "start_time": "2023-01-12T21:15:26.062Z"
      },
      {
        "duration": 10,
        "start_time": "2023-01-12T21:15:26.126Z"
      },
      {
        "duration": 6,
        "start_time": "2023-01-12T21:15:26.138Z"
      },
      {
        "duration": 9,
        "start_time": "2023-01-12T21:15:26.146Z"
      },
      {
        "duration": 35,
        "start_time": "2023-01-12T21:15:26.159Z"
      },
      {
        "duration": 10,
        "start_time": "2023-01-12T21:15:26.197Z"
      },
      {
        "duration": 9,
        "start_time": "2023-01-12T21:15:26.209Z"
      },
      {
        "duration": 12,
        "start_time": "2023-01-12T21:15:26.219Z"
      },
      {
        "duration": 8,
        "start_time": "2023-01-12T21:15:26.232Z"
      },
      {
        "duration": 59,
        "start_time": "2023-01-12T21:15:26.241Z"
      },
      {
        "duration": 917,
        "start_time": "2023-01-12T21:15:26.302Z"
      },
      {
        "duration": 356,
        "start_time": "2023-01-12T21:15:27.221Z"
      },
      {
        "duration": 358,
        "start_time": "2023-01-12T21:15:27.579Z"
      },
      {
        "duration": 359,
        "start_time": "2023-01-12T21:15:27.939Z"
      },
      {
        "duration": 299,
        "start_time": "2023-01-12T21:15:28.300Z"
      },
      {
        "duration": 236,
        "start_time": "2023-01-12T21:15:28.601Z"
      },
      {
        "duration": 372,
        "start_time": "2023-01-12T21:15:28.839Z"
      },
      {
        "duration": 272,
        "start_time": "2023-01-12T21:15:29.214Z"
      },
      {
        "duration": 3,
        "start_time": "2023-01-12T21:15:29.488Z"
      },
      {
        "duration": 74,
        "start_time": "2023-01-12T21:15:29.493Z"
      },
      {
        "duration": 152,
        "start_time": "2023-01-12T21:15:29.575Z"
      },
      {
        "duration": 0,
        "start_time": "2023-01-12T21:15:29.730Z"
      },
      {
        "duration": 49,
        "start_time": "2023-01-12T21:15:55.616Z"
      },
      {
        "duration": 450,
        "start_time": "2023-01-12T21:16:58.077Z"
      },
      {
        "duration": 211,
        "start_time": "2023-01-12T21:16:58.529Z"
      },
      {
        "duration": 19,
        "start_time": "2023-01-12T21:16:58.755Z"
      },
      {
        "duration": 28,
        "start_time": "2023-01-12T21:16:58.776Z"
      },
      {
        "duration": 518,
        "start_time": "2023-01-12T21:16:58.806Z"
      },
      {
        "duration": 166,
        "start_time": "2023-01-12T21:16:59.326Z"
      },
      {
        "duration": 12,
        "start_time": "2023-01-12T21:16:59.493Z"
      },
      {
        "duration": 37,
        "start_time": "2023-01-12T21:16:59.507Z"
      },
      {
        "duration": 229,
        "start_time": "2023-01-12T21:16:59.551Z"
      },
      {
        "duration": 137,
        "start_time": "2023-01-12T21:16:59.784Z"
      },
      {
        "duration": 19,
        "start_time": "2023-01-12T21:16:59.923Z"
      },
      {
        "duration": 66,
        "start_time": "2023-01-12T21:16:59.944Z"
      },
      {
        "duration": 23,
        "start_time": "2023-01-12T21:17:00.013Z"
      },
      {
        "duration": 59,
        "start_time": "2023-01-12T21:17:00.039Z"
      },
      {
        "duration": 45,
        "start_time": "2023-01-12T21:17:00.100Z"
      },
      {
        "duration": 116,
        "start_time": "2023-01-12T21:17:00.147Z"
      },
      {
        "duration": 19,
        "start_time": "2023-01-12T21:17:00.265Z"
      },
      {
        "duration": 26,
        "start_time": "2023-01-12T21:17:00.287Z"
      },
      {
        "duration": 130,
        "start_time": "2023-01-12T21:17:00.319Z"
      },
      {
        "duration": 9,
        "start_time": "2023-01-12T21:17:00.451Z"
      },
      {
        "duration": 48,
        "start_time": "2023-01-12T21:17:00.461Z"
      },
      {
        "duration": 121,
        "start_time": "2023-01-12T21:17:00.511Z"
      },
      {
        "duration": 50,
        "start_time": "2023-01-12T21:17:00.634Z"
      },
      {
        "duration": 60,
        "start_time": "2023-01-12T21:17:00.686Z"
      },
      {
        "duration": 67,
        "start_time": "2023-01-12T21:17:00.748Z"
      },
      {
        "duration": 42,
        "start_time": "2023-01-12T21:17:00.816Z"
      },
      {
        "duration": 64,
        "start_time": "2023-01-12T21:17:00.863Z"
      },
      {
        "duration": 13,
        "start_time": "2023-01-12T21:17:00.929Z"
      },
      {
        "duration": 47,
        "start_time": "2023-01-12T21:17:00.945Z"
      },
      {
        "duration": 11,
        "start_time": "2023-01-12T21:17:00.994Z"
      },
      {
        "duration": 50,
        "start_time": "2023-01-12T21:17:01.008Z"
      },
      {
        "duration": 58,
        "start_time": "2023-01-12T21:17:01.059Z"
      },
      {
        "duration": 26,
        "start_time": "2023-01-12T21:17:01.120Z"
      },
      {
        "duration": 90,
        "start_time": "2023-01-12T21:17:01.148Z"
      },
      {
        "duration": 12,
        "start_time": "2023-01-12T21:17:01.240Z"
      },
      {
        "duration": 36,
        "start_time": "2023-01-12T21:17:01.259Z"
      },
      {
        "duration": 53,
        "start_time": "2023-01-12T21:17:01.297Z"
      },
      {
        "duration": 54,
        "start_time": "2023-01-12T21:17:01.356Z"
      },
      {
        "duration": 25,
        "start_time": "2023-01-12T21:17:01.413Z"
      },
      {
        "duration": 42,
        "start_time": "2023-01-12T21:17:01.440Z"
      },
      {
        "duration": 48,
        "start_time": "2023-01-12T21:17:01.489Z"
      },
      {
        "duration": 62,
        "start_time": "2023-01-12T21:17:01.539Z"
      },
      {
        "duration": 86,
        "start_time": "2023-01-12T21:17:01.603Z"
      },
      {
        "duration": 1049,
        "start_time": "2023-01-12T21:17:01.691Z"
      },
      {
        "duration": 343,
        "start_time": "2023-01-12T21:17:02.742Z"
      },
      {
        "duration": 416,
        "start_time": "2023-01-12T21:17:03.087Z"
      },
      {
        "duration": 375,
        "start_time": "2023-01-12T21:17:03.505Z"
      },
      {
        "duration": 355,
        "start_time": "2023-01-12T21:17:03.882Z"
      },
      {
        "duration": 351,
        "start_time": "2023-01-12T21:17:04.239Z"
      },
      {
        "duration": 454,
        "start_time": "2023-01-12T21:17:04.592Z"
      },
      {
        "duration": 291,
        "start_time": "2023-01-12T21:17:05.048Z"
      },
      {
        "duration": 14,
        "start_time": "2023-01-12T21:17:05.351Z"
      },
      {
        "duration": 36,
        "start_time": "2023-01-12T21:17:05.371Z"
      },
      {
        "duration": 11,
        "start_time": "2023-01-12T21:17:05.410Z"
      },
      {
        "duration": 13,
        "start_time": "2023-01-12T21:21:03.531Z"
      },
      {
        "duration": 9,
        "start_time": "2023-01-12T21:23:16.923Z"
      },
      {
        "duration": 480,
        "start_time": "2023-01-12T21:28:35.875Z"
      },
      {
        "duration": 212,
        "start_time": "2023-01-12T21:28:36.357Z"
      },
      {
        "duration": 23,
        "start_time": "2023-01-12T21:28:36.576Z"
      },
      {
        "duration": 66,
        "start_time": "2023-01-12T21:28:36.601Z"
      },
      {
        "duration": 518,
        "start_time": "2023-01-12T21:28:36.678Z"
      },
      {
        "duration": 163,
        "start_time": "2023-01-12T21:28:37.198Z"
      },
      {
        "duration": 13,
        "start_time": "2023-01-12T21:28:37.369Z"
      },
      {
        "duration": 34,
        "start_time": "2023-01-12T21:28:37.385Z"
      },
      {
        "duration": 188,
        "start_time": "2023-01-12T21:28:37.422Z"
      },
      {
        "duration": 148,
        "start_time": "2023-01-12T21:28:37.612Z"
      },
      {
        "duration": 11,
        "start_time": "2023-01-12T21:28:37.761Z"
      },
      {
        "duration": 32,
        "start_time": "2023-01-12T21:28:37.776Z"
      },
      {
        "duration": 17,
        "start_time": "2023-01-12T21:28:37.811Z"
      },
      {
        "duration": 11,
        "start_time": "2023-01-12T21:28:37.832Z"
      },
      {
        "duration": 26,
        "start_time": "2023-01-12T21:28:37.845Z"
      },
      {
        "duration": 40,
        "start_time": "2023-01-12T21:28:37.876Z"
      },
      {
        "duration": 20,
        "start_time": "2023-01-12T21:28:37.919Z"
      },
      {
        "duration": 20,
        "start_time": "2023-01-12T21:28:37.941Z"
      },
      {
        "duration": 122,
        "start_time": "2023-01-12T21:28:37.963Z"
      },
      {
        "duration": 8,
        "start_time": "2023-01-12T21:28:38.087Z"
      },
      {
        "duration": 15,
        "start_time": "2023-01-12T21:28:38.097Z"
      },
      {
        "duration": 60,
        "start_time": "2023-01-12T21:28:38.115Z"
      },
      {
        "duration": 22,
        "start_time": "2023-01-12T21:28:38.181Z"
      },
      {
        "duration": 23,
        "start_time": "2023-01-12T21:28:38.206Z"
      },
      {
        "duration": 40,
        "start_time": "2023-01-12T21:28:38.232Z"
      },
      {
        "duration": 12,
        "start_time": "2023-01-12T21:28:38.274Z"
      },
      {
        "duration": 34,
        "start_time": "2023-01-12T21:28:38.288Z"
      },
      {
        "duration": 9,
        "start_time": "2023-01-12T21:28:38.324Z"
      },
      {
        "duration": 33,
        "start_time": "2023-01-12T21:28:38.358Z"
      },
      {
        "duration": 11,
        "start_time": "2023-01-12T21:28:38.393Z"
      },
      {
        "duration": 23,
        "start_time": "2023-01-12T21:28:38.406Z"
      },
      {
        "duration": 12,
        "start_time": "2023-01-12T21:28:38.431Z"
      },
      {
        "duration": 10,
        "start_time": "2023-01-12T21:28:38.451Z"
      },
      {
        "duration": 82,
        "start_time": "2023-01-12T21:28:38.463Z"
      },
      {
        "duration": 20,
        "start_time": "2023-01-12T21:28:38.547Z"
      },
      {
        "duration": 21,
        "start_time": "2023-01-12T21:28:38.569Z"
      },
      {
        "duration": 12,
        "start_time": "2023-01-12T21:28:38.592Z"
      },
      {
        "duration": 25,
        "start_time": "2023-01-12T21:28:38.606Z"
      },
      {
        "duration": 12,
        "start_time": "2023-01-12T21:28:38.633Z"
      },
      {
        "duration": 8,
        "start_time": "2023-01-12T21:28:38.647Z"
      },
      {
        "duration": 22,
        "start_time": "2023-01-12T21:28:38.665Z"
      },
      {
        "duration": 10,
        "start_time": "2023-01-12T21:28:38.689Z"
      },
      {
        "duration": 79,
        "start_time": "2023-01-12T21:28:38.701Z"
      },
      {
        "duration": 1020,
        "start_time": "2023-01-12T21:28:38.782Z"
      },
      {
        "duration": 377,
        "start_time": "2023-01-12T21:28:39.804Z"
      },
      {
        "duration": 423,
        "start_time": "2023-01-12T21:28:40.184Z"
      },
      {
        "duration": 366,
        "start_time": "2023-01-12T21:28:40.610Z"
      },
      {
        "duration": 348,
        "start_time": "2023-01-12T21:28:40.978Z"
      },
      {
        "duration": 298,
        "start_time": "2023-01-12T21:28:41.328Z"
      },
      {
        "duration": 393,
        "start_time": "2023-01-12T21:28:41.628Z"
      },
      {
        "duration": 299,
        "start_time": "2023-01-12T21:28:42.024Z"
      },
      {
        "duration": 3,
        "start_time": "2023-01-12T21:28:42.325Z"
      },
      {
        "duration": 36,
        "start_time": "2023-01-12T21:28:42.331Z"
      },
      {
        "duration": 31,
        "start_time": "2023-01-12T21:28:42.373Z"
      }
    ],
    "colab": {
      "provenance": [],
      "toc_visible": true
    },
    "kernelspec": {
      "display_name": "Python 3 (ipykernel)",
      "language": "python",
      "name": "python3"
    },
    "language_info": {
      "codemirror_mode": {
        "name": "ipython",
        "version": 3
      },
      "file_extension": ".py",
      "mimetype": "text/x-python",
      "name": "python",
      "nbconvert_exporter": "python",
      "pygments_lexer": "ipython3",
      "version": "3.9.5"
    },
    "toc": {
      "base_numbering": 1,
      "nav_menu": {},
      "number_sections": true,
      "sideBar": true,
      "skip_h1_title": true,
      "title_cell": "Table of Contents",
      "title_sidebar": "Contents",
      "toc_cell": false,
      "toc_position": {},
      "toc_section_display": true,
      "toc_window_display": false
    }
  },
  "nbformat": 4,
  "nbformat_minor": 0
}