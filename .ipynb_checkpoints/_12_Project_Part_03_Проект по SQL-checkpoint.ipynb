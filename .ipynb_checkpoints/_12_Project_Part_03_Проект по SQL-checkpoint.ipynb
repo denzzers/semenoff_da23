{
 "cells": [
  {
   "cell_type": "markdown",
   "id": "d78419e1",
   "metadata": {},
   "source": [
    "# Выпускной проект. SQL"
   ]
  },
  {
   "cell_type": "markdown",
   "id": "69bdec4e",
   "metadata": {},
   "source": [
    "## Введение"
   ]
  },
  {
   "cell_type": "markdown",
   "id": "494ecf8a",
   "metadata": {},
   "source": [
    "Коронавирус застал мир врасплох, изменив привычный порядок вещей. В свободное время жители городов больше не выходят на улицу, не посещают кафе и торговые центры. Зато стало больше времени для книг. Это заметили стартаперы — и бросились создавать приложения для тех, кто любит читать.\n",
    "\n",
    "Наша компания решила быть на волне и купила крупный сервис для чтения книг по подписке. Моя первая задача как аналитика — проанализировать базу данных.\n",
    "\n",
    "В ней — информация о книгах, издательствах, авторах, а также пользовательские обзоры книг. Эти данные помогут сформулировать ценностное предложение для нового продукта."
   ]
  },
  {
   "cell_type": "markdown",
   "id": "673ce561",
   "metadata": {},
   "source": [
    "### Цель"
   ]
  },
  {
   "cell_type": "markdown",
   "id": "bb0bcf18",
   "metadata": {},
   "source": [
    "- Посчитать, сколько книг вышло после 1 января 2000 года;\n",
    "- Для каждой книги посчитать количество обзоров и среднюю оценку;\n",
    "- Определить издательство, которое выпустило наибольшее число книг толще 50 страниц — так мы исключим из анализа брошюры;\n",
    "- Определить автора с самой высокой средней оценкой книг — учитываем только книги с 50 и более оценками;\n",
    "- Посчитаем среднее количество обзоров от пользователей, которые поставили больше 48 оценок."
   ]
  },
  {
   "cell_type": "markdown",
   "id": "11a38f4a",
   "metadata": {},
   "source": [
    "### Исходные данные"
   ]
  },
  {
   "cell_type": "markdown",
   "id": "6a0918ce",
   "metadata": {},
   "source": [
    "В нашем распоряжении несколько датасетов:\n",
    "\n",
    "**Таблица `books`** - Содержит данные о книгах:\n",
    "\n",
    "- `book_id` — идентификатор книги;\n",
    "- `author_id` — идентификатор автора;\n",
    "- `title` — название книги;\n",
    "- `num_pages` — количество страниц;\n",
    "- `publication_date` — дата публикации книги;\n",
    "- `publisher_id` — идентификатор издателя.\n",
    "\n",
    "**Таблица `authors`** - Содержит данные об авторах:\n",
    "\n",
    "- `author_id` — идентификатор автора;\n",
    "- `author` — имя автора.\n",
    "\n",
    "**Таблица `publishers`** - Содержит данные об издательствах:\n",
    "\n",
    "- `publisher_id` — идентификатор издательства;\n",
    "- `publisher` — название издательства;\n",
    "\n",
    "**Таблица `ratings`** - Содержит данные о пользовательских оценках книг:\n",
    "\n",
    "- `rating_id` — идентификатор оценки;\n",
    "- `book_id` — идентификатор книги;\n",
    "- `username` — имя пользователя, оставившего оценку;\n",
    "- `rating` — оценка книги.\n",
    "\n",
    "**Таблица `reviews`** - Содержит данные о пользовательских обзорах на книги:\n",
    "\n",
    "- `review_id` — идентификатор обзора;\n",
    "- `book_id` — идентификатор книги;\n",
    "- `username` — имя пользователя, написавшего обзор;\n",
    "- `text` — текст обзора."
   ]
  },
  {
   "cell_type": "markdown",
   "id": "c25aee5f",
   "metadata": {},
   "source": [
    "## Шаг 1. Подключение к БД"
   ]
  },
  {
   "cell_type": "code",
   "execution_count": 1,
   "id": "9d8f3323",
   "metadata": {},
   "outputs": [],
   "source": [
    "# импортируем библиотеки\n",
    "import pandas as pd\n",
    "from sqlalchemy import text, create_engine\n",
    "\n",
    "# устанавливаем параметры\n",
    "db_config = {'user': 'praktikum_student', # имя пользователя\n",
    "'pwd': 'Sdf4$2;d-d30pp', # пароль\n",
    "'host': 'rc1b-wcoijxj3yxfsf3fs.mdb.yandexcloud.net',\n",
    "'port': 6432, # порт подключения\n",
    "'db': 'data-analyst-final-project-db'} # название базы данных\n",
    "connection_string = 'postgresql://{user}:{pwd}@{host}:{port}/{db}'.format(**db_config)\n",
    "\n",
    "# сохраняем коннектор\n",
    "engine = create_engine(connection_string, connect_args={'sslmode':'require'})"
   ]
  },
  {
   "cell_type": "markdown",
   "id": "959ae846",
   "metadata": {},
   "source": [
    "## Шаг 2. Изучение и подготовка данных"
   ]
  },
  {
   "cell_type": "code",
   "execution_count": 2,
   "id": "a97eff4f",
   "metadata": {},
   "outputs": [],
   "source": [
    "datasets = ['books', 'authors', 'publishers', 'ratings', 'reviews']\n",
    "datasets_name = ['books', 'authors', 'publishers', 'ratings', 'reviews']"
   ]
  },
  {
   "cell_type": "code",
   "execution_count": 3,
   "id": "8d2b9a1c",
   "metadata": {},
   "outputs": [
    {
     "name": "stdout",
     "output_type": "stream",
     "text": [
      "Таблица - \"books\"\n"
     ]
    },
    {
     "data": {
      "text/html": [
       "<div>\n",
       "<style scoped>\n",
       "    .dataframe tbody tr th:only-of-type {\n",
       "        vertical-align: middle;\n",
       "    }\n",
       "\n",
       "    .dataframe tbody tr th {\n",
       "        vertical-align: top;\n",
       "    }\n",
       "\n",
       "    .dataframe thead th {\n",
       "        text-align: right;\n",
       "    }\n",
       "</style>\n",
       "<table border=\"1\" class=\"dataframe\">\n",
       "  <thead>\n",
       "    <tr style=\"text-align: right;\">\n",
       "      <th></th>\n",
       "      <th>book_id</th>\n",
       "      <th>author_id</th>\n",
       "      <th>title</th>\n",
       "      <th>num_pages</th>\n",
       "      <th>publication_date</th>\n",
       "      <th>publisher_id</th>\n",
       "    </tr>\n",
       "  </thead>\n",
       "  <tbody>\n",
       "    <tr>\n",
       "      <th>0</th>\n",
       "      <td>1</td>\n",
       "      <td>546</td>\n",
       "      <td>'Salem's Lot</td>\n",
       "      <td>594</td>\n",
       "      <td>2005-11-01</td>\n",
       "      <td>93</td>\n",
       "    </tr>\n",
       "    <tr>\n",
       "      <th>1</th>\n",
       "      <td>2</td>\n",
       "      <td>465</td>\n",
       "      <td>1 000 Places to See Before You Die</td>\n",
       "      <td>992</td>\n",
       "      <td>2003-05-22</td>\n",
       "      <td>336</td>\n",
       "    </tr>\n",
       "    <tr>\n",
       "      <th>2</th>\n",
       "      <td>3</td>\n",
       "      <td>407</td>\n",
       "      <td>13 Little Blue Envelopes (Little Blue Envelope...</td>\n",
       "      <td>322</td>\n",
       "      <td>2010-12-21</td>\n",
       "      <td>135</td>\n",
       "    </tr>\n",
       "    <tr>\n",
       "      <th>3</th>\n",
       "      <td>4</td>\n",
       "      <td>82</td>\n",
       "      <td>1491: New Revelations of the Americas Before C...</td>\n",
       "      <td>541</td>\n",
       "      <td>2006-10-10</td>\n",
       "      <td>309</td>\n",
       "    </tr>\n",
       "    <tr>\n",
       "      <th>4</th>\n",
       "      <td>5</td>\n",
       "      <td>125</td>\n",
       "      <td>1776</td>\n",
       "      <td>386</td>\n",
       "      <td>2006-07-04</td>\n",
       "      <td>268</td>\n",
       "    </tr>\n",
       "  </tbody>\n",
       "</table>\n",
       "</div>"
      ],
      "text/plain": [
       "   book_id  author_id                                              title  \\\n",
       "0        1        546                                       'Salem's Lot   \n",
       "1        2        465                 1 000 Places to See Before You Die   \n",
       "2        3        407  13 Little Blue Envelopes (Little Blue Envelope...   \n",
       "3        4         82  1491: New Revelations of the Americas Before C...   \n",
       "4        5        125                                               1776   \n",
       "\n",
       "   num_pages publication_date  publisher_id  \n",
       "0        594       2005-11-01            93  \n",
       "1        992       2003-05-22           336  \n",
       "2        322       2010-12-21           135  \n",
       "3        541       2006-10-10           309  \n",
       "4        386       2006-07-04           268  "
      ]
     },
     "metadata": {},
     "output_type": "display_data"
    },
    {
     "name": "stdout",
     "output_type": "stream",
     "text": [
      "<class 'pandas.core.frame.DataFrame'>\n",
      "RangeIndex: 1000 entries, 0 to 999\n",
      "Data columns (total 6 columns):\n",
      " #   Column            Non-Null Count  Dtype \n",
      "---  ------            --------------  ----- \n",
      " 0   book_id           1000 non-null   int64 \n",
      " 1   author_id         1000 non-null   int64 \n",
      " 2   title             1000 non-null   object\n",
      " 3   num_pages         1000 non-null   int64 \n",
      " 4   publication_date  1000 non-null   object\n",
      " 5   publisher_id      1000 non-null   int64 \n",
      "dtypes: int64(4), object(2)\n",
      "memory usage: 47.0+ KB\n",
      "None\n",
      "\n",
      "-/-/-/-/-/-/-/-/-/-/-/-/-/-/-/-/-/-/-/-/-/-/-/-/-/-/-/-/-/-/-/-/-/-/-/-/-/-/-/-/-/-/-/-/-/-/-/-/-/-/-/-/-/-/\n",
      "\n",
      "Таблица - \"authors\"\n"
     ]
    },
    {
     "data": {
      "text/html": [
       "<div>\n",
       "<style scoped>\n",
       "    .dataframe tbody tr th:only-of-type {\n",
       "        vertical-align: middle;\n",
       "    }\n",
       "\n",
       "    .dataframe tbody tr th {\n",
       "        vertical-align: top;\n",
       "    }\n",
       "\n",
       "    .dataframe thead th {\n",
       "        text-align: right;\n",
       "    }\n",
       "</style>\n",
       "<table border=\"1\" class=\"dataframe\">\n",
       "  <thead>\n",
       "    <tr style=\"text-align: right;\">\n",
       "      <th></th>\n",
       "      <th>author_id</th>\n",
       "      <th>author</th>\n",
       "    </tr>\n",
       "  </thead>\n",
       "  <tbody>\n",
       "    <tr>\n",
       "      <th>0</th>\n",
       "      <td>1</td>\n",
       "      <td>A.S. Byatt</td>\n",
       "    </tr>\n",
       "    <tr>\n",
       "      <th>1</th>\n",
       "      <td>2</td>\n",
       "      <td>Aesop/Laura Harris/Laura Gibbs</td>\n",
       "    </tr>\n",
       "    <tr>\n",
       "      <th>2</th>\n",
       "      <td>3</td>\n",
       "      <td>Agatha Christie</td>\n",
       "    </tr>\n",
       "    <tr>\n",
       "      <th>3</th>\n",
       "      <td>4</td>\n",
       "      <td>Alan Brennert</td>\n",
       "    </tr>\n",
       "    <tr>\n",
       "      <th>4</th>\n",
       "      <td>5</td>\n",
       "      <td>Alan Moore/David   Lloyd</td>\n",
       "    </tr>\n",
       "  </tbody>\n",
       "</table>\n",
       "</div>"
      ],
      "text/plain": [
       "   author_id                          author\n",
       "0          1                      A.S. Byatt\n",
       "1          2  Aesop/Laura Harris/Laura Gibbs\n",
       "2          3                 Agatha Christie\n",
       "3          4                   Alan Brennert\n",
       "4          5        Alan Moore/David   Lloyd"
      ]
     },
     "metadata": {},
     "output_type": "display_data"
    },
    {
     "name": "stdout",
     "output_type": "stream",
     "text": [
      "<class 'pandas.core.frame.DataFrame'>\n",
      "RangeIndex: 636 entries, 0 to 635\n",
      "Data columns (total 2 columns):\n",
      " #   Column     Non-Null Count  Dtype \n",
      "---  ------     --------------  ----- \n",
      " 0   author_id  636 non-null    int64 \n",
      " 1   author     636 non-null    object\n",
      "dtypes: int64(1), object(1)\n",
      "memory usage: 10.1+ KB\n",
      "None\n",
      "\n",
      "-/-/-/-/-/-/-/-/-/-/-/-/-/-/-/-/-/-/-/-/-/-/-/-/-/-/-/-/-/-/-/-/-/-/-/-/-/-/-/-/-/-/-/-/-/-/-/-/-/-/-/-/-/-/\n",
      "\n",
      "Таблица - \"publishers\"\n"
     ]
    },
    {
     "data": {
      "text/html": [
       "<div>\n",
       "<style scoped>\n",
       "    .dataframe tbody tr th:only-of-type {\n",
       "        vertical-align: middle;\n",
       "    }\n",
       "\n",
       "    .dataframe tbody tr th {\n",
       "        vertical-align: top;\n",
       "    }\n",
       "\n",
       "    .dataframe thead th {\n",
       "        text-align: right;\n",
       "    }\n",
       "</style>\n",
       "<table border=\"1\" class=\"dataframe\">\n",
       "  <thead>\n",
       "    <tr style=\"text-align: right;\">\n",
       "      <th></th>\n",
       "      <th>publisher_id</th>\n",
       "      <th>publisher</th>\n",
       "    </tr>\n",
       "  </thead>\n",
       "  <tbody>\n",
       "    <tr>\n",
       "      <th>0</th>\n",
       "      <td>1</td>\n",
       "      <td>Ace</td>\n",
       "    </tr>\n",
       "    <tr>\n",
       "      <th>1</th>\n",
       "      <td>2</td>\n",
       "      <td>Ace Book</td>\n",
       "    </tr>\n",
       "    <tr>\n",
       "      <th>2</th>\n",
       "      <td>3</td>\n",
       "      <td>Ace Books</td>\n",
       "    </tr>\n",
       "    <tr>\n",
       "      <th>3</th>\n",
       "      <td>4</td>\n",
       "      <td>Ace Hardcover</td>\n",
       "    </tr>\n",
       "    <tr>\n",
       "      <th>4</th>\n",
       "      <td>5</td>\n",
       "      <td>Addison Wesley Publishing Company</td>\n",
       "    </tr>\n",
       "  </tbody>\n",
       "</table>\n",
       "</div>"
      ],
      "text/plain": [
       "   publisher_id                          publisher\n",
       "0             1                                Ace\n",
       "1             2                           Ace Book\n",
       "2             3                          Ace Books\n",
       "3             4                      Ace Hardcover\n",
       "4             5  Addison Wesley Publishing Company"
      ]
     },
     "metadata": {},
     "output_type": "display_data"
    },
    {
     "name": "stdout",
     "output_type": "stream",
     "text": [
      "<class 'pandas.core.frame.DataFrame'>\n",
      "RangeIndex: 340 entries, 0 to 339\n",
      "Data columns (total 2 columns):\n",
      " #   Column        Non-Null Count  Dtype \n",
      "---  ------        --------------  ----- \n",
      " 0   publisher_id  340 non-null    int64 \n",
      " 1   publisher     340 non-null    object\n",
      "dtypes: int64(1), object(1)\n",
      "memory usage: 5.4+ KB\n",
      "None\n",
      "\n",
      "-/-/-/-/-/-/-/-/-/-/-/-/-/-/-/-/-/-/-/-/-/-/-/-/-/-/-/-/-/-/-/-/-/-/-/-/-/-/-/-/-/-/-/-/-/-/-/-/-/-/-/-/-/-/\n",
      "\n",
      "Таблица - \"ratings\"\n"
     ]
    },
    {
     "data": {
      "text/html": [
       "<div>\n",
       "<style scoped>\n",
       "    .dataframe tbody tr th:only-of-type {\n",
       "        vertical-align: middle;\n",
       "    }\n",
       "\n",
       "    .dataframe tbody tr th {\n",
       "        vertical-align: top;\n",
       "    }\n",
       "\n",
       "    .dataframe thead th {\n",
       "        text-align: right;\n",
       "    }\n",
       "</style>\n",
       "<table border=\"1\" class=\"dataframe\">\n",
       "  <thead>\n",
       "    <tr style=\"text-align: right;\">\n",
       "      <th></th>\n",
       "      <th>rating_id</th>\n",
       "      <th>book_id</th>\n",
       "      <th>username</th>\n",
       "      <th>rating</th>\n",
       "    </tr>\n",
       "  </thead>\n",
       "  <tbody>\n",
       "    <tr>\n",
       "      <th>0</th>\n",
       "      <td>1</td>\n",
       "      <td>1</td>\n",
       "      <td>ryanfranco</td>\n",
       "      <td>4</td>\n",
       "    </tr>\n",
       "    <tr>\n",
       "      <th>1</th>\n",
       "      <td>2</td>\n",
       "      <td>1</td>\n",
       "      <td>grantpatricia</td>\n",
       "      <td>2</td>\n",
       "    </tr>\n",
       "    <tr>\n",
       "      <th>2</th>\n",
       "      <td>3</td>\n",
       "      <td>1</td>\n",
       "      <td>brandtandrea</td>\n",
       "      <td>5</td>\n",
       "    </tr>\n",
       "    <tr>\n",
       "      <th>3</th>\n",
       "      <td>4</td>\n",
       "      <td>2</td>\n",
       "      <td>lorichen</td>\n",
       "      <td>3</td>\n",
       "    </tr>\n",
       "    <tr>\n",
       "      <th>4</th>\n",
       "      <td>5</td>\n",
       "      <td>2</td>\n",
       "      <td>mariokeller</td>\n",
       "      <td>2</td>\n",
       "    </tr>\n",
       "  </tbody>\n",
       "</table>\n",
       "</div>"
      ],
      "text/plain": [
       "   rating_id  book_id       username  rating\n",
       "0          1        1     ryanfranco       4\n",
       "1          2        1  grantpatricia       2\n",
       "2          3        1   brandtandrea       5\n",
       "3          4        2       lorichen       3\n",
       "4          5        2    mariokeller       2"
      ]
     },
     "metadata": {},
     "output_type": "display_data"
    },
    {
     "name": "stdout",
     "output_type": "stream",
     "text": [
      "<class 'pandas.core.frame.DataFrame'>\n",
      "RangeIndex: 6456 entries, 0 to 6455\n",
      "Data columns (total 4 columns):\n",
      " #   Column     Non-Null Count  Dtype \n",
      "---  ------     --------------  ----- \n",
      " 0   rating_id  6456 non-null   int64 \n",
      " 1   book_id    6456 non-null   int64 \n",
      " 2   username   6456 non-null   object\n",
      " 3   rating     6456 non-null   int64 \n",
      "dtypes: int64(3), object(1)\n",
      "memory usage: 201.9+ KB\n",
      "None\n",
      "\n",
      "-/-/-/-/-/-/-/-/-/-/-/-/-/-/-/-/-/-/-/-/-/-/-/-/-/-/-/-/-/-/-/-/-/-/-/-/-/-/-/-/-/-/-/-/-/-/-/-/-/-/-/-/-/-/\n",
      "\n",
      "Таблица - \"reviews\"\n"
     ]
    },
    {
     "data": {
      "text/html": [
       "<div>\n",
       "<style scoped>\n",
       "    .dataframe tbody tr th:only-of-type {\n",
       "        vertical-align: middle;\n",
       "    }\n",
       "\n",
       "    .dataframe tbody tr th {\n",
       "        vertical-align: top;\n",
       "    }\n",
       "\n",
       "    .dataframe thead th {\n",
       "        text-align: right;\n",
       "    }\n",
       "</style>\n",
       "<table border=\"1\" class=\"dataframe\">\n",
       "  <thead>\n",
       "    <tr style=\"text-align: right;\">\n",
       "      <th></th>\n",
       "      <th>review_id</th>\n",
       "      <th>book_id</th>\n",
       "      <th>username</th>\n",
       "      <th>text</th>\n",
       "    </tr>\n",
       "  </thead>\n",
       "  <tbody>\n",
       "    <tr>\n",
       "      <th>0</th>\n",
       "      <td>1</td>\n",
       "      <td>1</td>\n",
       "      <td>brandtandrea</td>\n",
       "      <td>Mention society tell send professor analysis. ...</td>\n",
       "    </tr>\n",
       "    <tr>\n",
       "      <th>1</th>\n",
       "      <td>2</td>\n",
       "      <td>1</td>\n",
       "      <td>ryanfranco</td>\n",
       "      <td>Foot glass pretty audience hit themselves. Amo...</td>\n",
       "    </tr>\n",
       "    <tr>\n",
       "      <th>2</th>\n",
       "      <td>3</td>\n",
       "      <td>2</td>\n",
       "      <td>lorichen</td>\n",
       "      <td>Listen treat keep worry. Miss husband tax but ...</td>\n",
       "    </tr>\n",
       "    <tr>\n",
       "      <th>3</th>\n",
       "      <td>4</td>\n",
       "      <td>3</td>\n",
       "      <td>johnsonamanda</td>\n",
       "      <td>Finally month interesting blue could nature cu...</td>\n",
       "    </tr>\n",
       "    <tr>\n",
       "      <th>4</th>\n",
       "      <td>5</td>\n",
       "      <td>3</td>\n",
       "      <td>scotttamara</td>\n",
       "      <td>Nation purpose heavy give wait song will. List...</td>\n",
       "    </tr>\n",
       "  </tbody>\n",
       "</table>\n",
       "</div>"
      ],
      "text/plain": [
       "   review_id  book_id       username  \\\n",
       "0          1        1   brandtandrea   \n",
       "1          2        1     ryanfranco   \n",
       "2          3        2       lorichen   \n",
       "3          4        3  johnsonamanda   \n",
       "4          5        3    scotttamara   \n",
       "\n",
       "                                                text  \n",
       "0  Mention society tell send professor analysis. ...  \n",
       "1  Foot glass pretty audience hit themselves. Amo...  \n",
       "2  Listen treat keep worry. Miss husband tax but ...  \n",
       "3  Finally month interesting blue could nature cu...  \n",
       "4  Nation purpose heavy give wait song will. List...  "
      ]
     },
     "metadata": {},
     "output_type": "display_data"
    },
    {
     "name": "stdout",
     "output_type": "stream",
     "text": [
      "<class 'pandas.core.frame.DataFrame'>\n",
      "RangeIndex: 2793 entries, 0 to 2792\n",
      "Data columns (total 4 columns):\n",
      " #   Column     Non-Null Count  Dtype \n",
      "---  ------     --------------  ----- \n",
      " 0   review_id  2793 non-null   int64 \n",
      " 1   book_id    2793 non-null   int64 \n",
      " 2   username   2793 non-null   object\n",
      " 3   text       2793 non-null   object\n",
      "dtypes: int64(2), object(2)\n",
      "memory usage: 87.4+ KB\n",
      "None\n",
      "\n",
      "-/-/-/-/-/-/-/-/-/-/-/-/-/-/-/-/-/-/-/-/-/-/-/-/-/-/-/-/-/-/-/-/-/-/-/-/-/-/-/-/-/-/-/-/-/-/-/-/-/-/-/-/-/-/\n",
      "\n"
     ]
    }
   ],
   "source": [
    "for i, df_name in enumerate(datasets):\n",
    "    query = f\"SELECT * FROM {df_name}\"\n",
    "    request = pd.io.sql.read_sql(query, con=engine)\n",
    "    \n",
    "    print(f'Таблица - \"{datasets_name[i]}\"')\n",
    "    display(request.head())\n",
    "    print(request.info())\n",
    "    \n",
    "    print('\\n-/-/-/-/-/-/-/-/-/-/-/-/-/-/-/-/-/-/-/-/-/-/-/-/-/-/-/-/-/-/-/-/-/-/-/-/-/-/-/-/-/-/-/-/-/-/-/-/-/-/-/-/-/-/\\n')"
   ]
  },
  {
   "cell_type": "markdown",
   "id": "72b1d724",
   "metadata": {},
   "source": [
    "## Задача 1. Cколько книг вышло после 1 января 2000 года;"
   ]
  },
  {
   "cell_type": "code",
   "execution_count": 4,
   "id": "4ebf267b",
   "metadata": {},
   "outputs": [
    {
     "name": "stdout",
     "output_type": "stream",
     "text": [
      "После 1 января 2020 года вышло 819 книг\n"
     ]
    }
   ],
   "source": [
    "query = '''\n",
    "    SELECT COUNT(*)\n",
    "    FROM books\n",
    "    WHERE CAST(publication_date AS TIMESTAMP) > CAST('2000-01-01' AS TIMESTAMP)\n",
    "    '''\n",
    "\n",
    "request = pd.io.sql.read_sql(query, con = engine)\n",
    "\n",
    "print('После 1 января 2020 года вышло', request.loc[0, 'count'], 'книг')"
   ]
  },
  {
   "cell_type": "markdown",
   "id": "e7549a1a",
   "metadata": {},
   "source": [
    "## Задача 2. Количество обзоров и средняя оценка"
   ]
  },
  {
   "cell_type": "code",
   "execution_count": 5,
   "id": "67311964",
   "metadata": {},
   "outputs": [
    {
     "data": {
      "text/html": [
       "<div>\n",
       "<style scoped>\n",
       "    .dataframe tbody tr th:only-of-type {\n",
       "        vertical-align: middle;\n",
       "    }\n",
       "\n",
       "    .dataframe tbody tr th {\n",
       "        vertical-align: top;\n",
       "    }\n",
       "\n",
       "    .dataframe thead th {\n",
       "        text-align: right;\n",
       "    }\n",
       "</style>\n",
       "<table border=\"1\" class=\"dataframe\">\n",
       "  <thead>\n",
       "    <tr style=\"text-align: right;\">\n",
       "      <th></th>\n",
       "      <th>Уникальный идентификатор</th>\n",
       "      <th>Название книги</th>\n",
       "      <th>Автор книги</th>\n",
       "      <th>Кол-во обзоров</th>\n",
       "      <th>Средний рейтинг</th>\n",
       "    </tr>\n",
       "  </thead>\n",
       "  <tbody>\n",
       "    <tr>\n",
       "      <th>0</th>\n",
       "      <td>948</td>\n",
       "      <td>Twilight (Twilight  #1)</td>\n",
       "      <td>Stephenie Meyer</td>\n",
       "      <td>7</td>\n",
       "      <td>3.66</td>\n",
       "    </tr>\n",
       "    <tr>\n",
       "      <th>1</th>\n",
       "      <td>963</td>\n",
       "      <td>Water for Elephants</td>\n",
       "      <td>Sara Gruen</td>\n",
       "      <td>6</td>\n",
       "      <td>3.98</td>\n",
       "    </tr>\n",
       "    <tr>\n",
       "      <th>2</th>\n",
       "      <td>734</td>\n",
       "      <td>The Glass Castle</td>\n",
       "      <td>Jeannette Walls</td>\n",
       "      <td>6</td>\n",
       "      <td>4.21</td>\n",
       "    </tr>\n",
       "    <tr>\n",
       "      <th>3</th>\n",
       "      <td>302</td>\n",
       "      <td>Harry Potter and the Prisoner of Azkaban (Harr...</td>\n",
       "      <td>J.K. Rowling/Mary GrandPré</td>\n",
       "      <td>6</td>\n",
       "      <td>4.41</td>\n",
       "    </tr>\n",
       "    <tr>\n",
       "      <th>4</th>\n",
       "      <td>695</td>\n",
       "      <td>The Curious Incident of the Dog in the Night-Time</td>\n",
       "      <td>Mark Haddon</td>\n",
       "      <td>6</td>\n",
       "      <td>4.08</td>\n",
       "    </tr>\n",
       "    <tr>\n",
       "      <th>...</th>\n",
       "      <td>...</td>\n",
       "      <td>...</td>\n",
       "      <td>...</td>\n",
       "      <td>...</td>\n",
       "      <td>...</td>\n",
       "    </tr>\n",
       "    <tr>\n",
       "      <th>995</th>\n",
       "      <td>83</td>\n",
       "      <td>Anne Rice's The Vampire Lestat: A Graphic Novel</td>\n",
       "      <td>Faye Perozich/Anne Rice/John Bolton/Daerick Gröss</td>\n",
       "      <td>0</td>\n",
       "      <td>3.67</td>\n",
       "    </tr>\n",
       "    <tr>\n",
       "      <th>996</th>\n",
       "      <td>808</td>\n",
       "      <td>The Natural Way to Draw</td>\n",
       "      <td>Kimon Nicolaides/Mamie Harmon</td>\n",
       "      <td>0</td>\n",
       "      <td>3.00</td>\n",
       "    </tr>\n",
       "    <tr>\n",
       "      <th>997</th>\n",
       "      <td>672</td>\n",
       "      <td>The Cat in the Hat and Other Dr. Seuss Favorites</td>\n",
       "      <td>Dr. Seuss/Various</td>\n",
       "      <td>0</td>\n",
       "      <td>5.00</td>\n",
       "    </tr>\n",
       "    <tr>\n",
       "      <th>998</th>\n",
       "      <td>221</td>\n",
       "      <td>Essential Tales and Poems</td>\n",
       "      <td>Edgar Allan Poe/Benjamin F. Fisher</td>\n",
       "      <td>0</td>\n",
       "      <td>4.00</td>\n",
       "    </tr>\n",
       "    <tr>\n",
       "      <th>999</th>\n",
       "      <td>191</td>\n",
       "      <td>Disney's Beauty and the Beast (A Little Golden...</td>\n",
       "      <td>Teddy Slater/Ron Dias/Ric González</td>\n",
       "      <td>0</td>\n",
       "      <td>4.00</td>\n",
       "    </tr>\n",
       "  </tbody>\n",
       "</table>\n",
       "<p>1000 rows × 5 columns</p>\n",
       "</div>"
      ],
      "text/plain": [
       "     Уникальный идентификатор  \\\n",
       "0                         948   \n",
       "1                         963   \n",
       "2                         734   \n",
       "3                         302   \n",
       "4                         695   \n",
       "..                        ...   \n",
       "995                        83   \n",
       "996                       808   \n",
       "997                       672   \n",
       "998                       221   \n",
       "999                       191   \n",
       "\n",
       "                                        Название книги  \\\n",
       "0                              Twilight (Twilight  #1)   \n",
       "1                                  Water for Elephants   \n",
       "2                                     The Glass Castle   \n",
       "3    Harry Potter and the Prisoner of Azkaban (Harr...   \n",
       "4    The Curious Incident of the Dog in the Night-Time   \n",
       "..                                                 ...   \n",
       "995    Anne Rice's The Vampire Lestat: A Graphic Novel   \n",
       "996                            The Natural Way to Draw   \n",
       "997   The Cat in the Hat and Other Dr. Seuss Favorites   \n",
       "998                          Essential Tales and Poems   \n",
       "999  Disney's Beauty and the Beast (A Little Golden...   \n",
       "\n",
       "                                           Автор книги  Кол-во обзоров  \\\n",
       "0                                      Stephenie Meyer               7   \n",
       "1                                           Sara Gruen               6   \n",
       "2                                      Jeannette Walls               6   \n",
       "3                           J.K. Rowling/Mary GrandPré               6   \n",
       "4                                          Mark Haddon               6   \n",
       "..                                                 ...             ...   \n",
       "995  Faye Perozich/Anne Rice/John Bolton/Daerick Gröss               0   \n",
       "996                      Kimon Nicolaides/Mamie Harmon               0   \n",
       "997                                  Dr. Seuss/Various               0   \n",
       "998                 Edgar Allan Poe/Benjamin F. Fisher               0   \n",
       "999                 Teddy Slater/Ron Dias/Ric González               0   \n",
       "\n",
       "     Средний рейтинг  \n",
       "0               3.66  \n",
       "1               3.98  \n",
       "2               4.21  \n",
       "3               4.41  \n",
       "4               4.08  \n",
       "..               ...  \n",
       "995             3.67  \n",
       "996             3.00  \n",
       "997             5.00  \n",
       "998             4.00  \n",
       "999             4.00  \n",
       "\n",
       "[1000 rows x 5 columns]"
      ]
     },
     "execution_count": 5,
     "metadata": {},
     "output_type": "execute_result"
    }
   ],
   "source": [
    "query = '''\n",
    "    SELECT b.book_id,\n",
    "           b.title,\n",
    "           a.author AS author,\n",
    "           COUNT(DISTINCT r.review_id) AS count_review,\n",
    "           ROUND(AVG(rat.rating), 2) AS avg_rating\n",
    "    FROM books AS b\n",
    "    LEFT JOIN reviews AS r ON r.book_id = b.book_id\n",
    "    LEFT JOIN ratings AS rat ON rat.book_id = b.book_id\n",
    "    LEFT JOIN authors AS a ON a.author_id = b.author_id\n",
    "    GROUP BY b.book_id, b.title, a.author\n",
    "    ORDER BY count_review DESC\n",
    "    '''\n",
    "\n",
    "request = pd.io.sql.read_sql(query, con = engine)\n",
    "request.columns = ['Уникальный идентификатор', 'Название книги', 'Автор книги', 'Кол-во обзоров', 'Средний рейтинг']\n",
    "request"
   ]
  },
  {
   "cell_type": "markdown",
   "id": "3bb192d8",
   "metadata": {},
   "source": [
    "<b>Вывод:</b>\n",
    "В Топ-3 по кол-ву обзоров и средней оценке попадают следующие книги:\n",
    "- \"Twilight (Twilight #1)\" - кол-во обзоров `7`, средняя оценка `3.66`;\n",
    "- \"Water for Elephants\" - кол-во обзоров `6`, средняя оценка `3.98`;\n",
    "- \"The Glass Castle\t\" - кол-во обзоров `6`, средняя оценка `4.21`."
   ]
  },
  {
   "cell_type": "markdown",
   "id": "040c9180",
   "metadata": {},
   "source": [
    "## Задача 3. Издательство"
   ]
  },
  {
   "cell_type": "markdown",
   "id": "4c8a4ec2",
   "metadata": {},
   "source": [
    "- Определим издательство, которое выпустило наибольшее число книг толще 50 страниц — так мы исключим из анализа брошюры;"
   ]
  },
  {
   "cell_type": "code",
   "execution_count": 6,
   "id": "c70e4c9e",
   "metadata": {},
   "outputs": [
    {
     "data": {
      "text/html": [
       "<div>\n",
       "<style scoped>\n",
       "    .dataframe tbody tr th:only-of-type {\n",
       "        vertical-align: middle;\n",
       "    }\n",
       "\n",
       "    .dataframe tbody tr th {\n",
       "        vertical-align: top;\n",
       "    }\n",
       "\n",
       "    .dataframe thead th {\n",
       "        text-align: right;\n",
       "    }\n",
       "</style>\n",
       "<table border=\"1\" class=\"dataframe\">\n",
       "  <thead>\n",
       "    <tr style=\"text-align: right;\">\n",
       "      <th></th>\n",
       "      <th>Издательство</th>\n",
       "      <th>Кол-во книг</th>\n",
       "    </tr>\n",
       "  </thead>\n",
       "  <tbody>\n",
       "    <tr>\n",
       "      <th>0</th>\n",
       "      <td>Penguin Books</td>\n",
       "      <td>42</td>\n",
       "    </tr>\n",
       "  </tbody>\n",
       "</table>\n",
       "</div>"
      ],
      "text/plain": [
       "    Издательство  Кол-во книг\n",
       "0  Penguin Books           42"
      ]
     },
     "execution_count": 6,
     "metadata": {},
     "output_type": "execute_result"
    }
   ],
   "source": [
    "query = '''\n",
    "    SELECT p.publisher,\n",
    "                 COUNT(DISTINCT b.book_id) AS count_books\n",
    "    FROM publishers AS p\n",
    "    INNER JOIN books AS b ON b.publisher_id = p.publisher_id\n",
    "    WHERE num_pages > 50\n",
    "    GROUP BY p.publisher\n",
    "    ORDER BY count_books DESC\n",
    "    LIMIT 1\n",
    "    '''\n",
    "\n",
    "request = pd.io.sql.read_sql(query, con = engine)\n",
    "request.columns = ['Издательство', 'Кол-во книг']\n",
    "request"
   ]
  },
  {
   "cell_type": "markdown",
   "id": "9a8f0752",
   "metadata": {},
   "source": [
    "## Задача 4. Автор"
   ]
  },
  {
   "cell_type": "markdown",
   "id": "c1eb6f11",
   "metadata": {},
   "source": [
    "- Определим автора с самой высокой средней оценкой книг — учитываем только книги с 50 и более оценками;"
   ]
  },
  {
   "cell_type": "code",
   "execution_count": 7,
   "id": "7a132cc9",
   "metadata": {},
   "outputs": [
    {
     "data": {
      "text/html": [
       "<div>\n",
       "<style scoped>\n",
       "    .dataframe tbody tr th:only-of-type {\n",
       "        vertical-align: middle;\n",
       "    }\n",
       "\n",
       "    .dataframe tbody tr th {\n",
       "        vertical-align: top;\n",
       "    }\n",
       "\n",
       "    .dataframe thead th {\n",
       "        text-align: right;\n",
       "    }\n",
       "</style>\n",
       "<table border=\"1\" class=\"dataframe\">\n",
       "  <thead>\n",
       "    <tr style=\"text-align: right;\">\n",
       "      <th></th>\n",
       "      <th>Автор</th>\n",
       "      <th>Средний рейтинг</th>\n",
       "    </tr>\n",
       "  </thead>\n",
       "  <tbody>\n",
       "    <tr>\n",
       "      <th>0</th>\n",
       "      <td>J.K. Rowling/Mary GrandPré</td>\n",
       "      <td>4.29</td>\n",
       "    </tr>\n",
       "  </tbody>\n",
       "</table>\n",
       "</div>"
      ],
      "text/plain": [
       "                        Автор  Средний рейтинг\n",
       "0  J.K. Rowling/Mary GrandPré             4.29"
      ]
     },
     "execution_count": 7,
     "metadata": {},
     "output_type": "execute_result"
    }
   ],
   "source": [
    "query = '''\n",
    "        SELECT a.author,\n",
    "                    ROUND(AVG(r.rating), 2) avg_rating\n",
    "        FROM authors AS a\n",
    "        \n",
    "        JOIN books AS b ON a.author_id=b.author_id\n",
    "        JOIN ratings AS r ON b.book_id=r.book_id\n",
    "        \n",
    "        WHERE b.book_id IN(SELECT b.book_id\n",
    "                                          FROM books AS b\n",
    "                                          JOIN ratings AS r ON b.book_id=r.book_id\n",
    "                                          GROUP BY b.book_id\n",
    "                                          HAVING count(r.rating_id)>=50)\n",
    "        GROUP BY a.author\n",
    "        ORDER BY avg_rating desc\n",
    "\n",
    "        LIMIT 1\n",
    "        '''\n",
    "\n",
    "request = pd.io.sql.read_sql(query, con = engine)\n",
    "request.columns = ['Автор', 'Средний рейтинг']\n",
    "request"
   ]
  },
  {
   "cell_type": "markdown",
   "id": "3729588e",
   "metadata": {},
   "source": [
    "## Задача 5. Среднее кол-во обзоров от пользователей"
   ]
  },
  {
   "cell_type": "markdown",
   "id": "ef6786c4",
   "metadata": {},
   "source": [
    "Посчитаем среднее количество обзоров от пользователей, которые поставили больше 48 оценок."
   ]
  },
  {
   "cell_type": "code",
   "execution_count": 8,
   "id": "b223cc42",
   "metadata": {
    "scrolled": true
   },
   "outputs": [
    {
     "name": "stdout",
     "output_type": "stream",
     "text": [
      "Среднее кол-во обзоров от пользователей 24.0\n"
     ]
    }
   ],
   "source": [
    "query = '''\n",
    "        SELECT SUM (COUNT) / COUNT(COUNT) AS avg\n",
    "        FROM (SELECT username,\n",
    "                                count(review_id)\n",
    "                    FROM reviews\n",
    "                    WHERE username IN (SELECT username\n",
    "                                                       FROM ratings\n",
    "                                                       GROUP BY username\n",
    "                                                       HAVING count(rating_id)>48)\n",
    "                    GROUP BY username) AS new_data\n",
    "        '''\n",
    "\n",
    "request = pd.io.sql.read_sql(query, con = engine)\n",
    "print ('Среднее кол-во обзоров от пользователей', request.loc[0, 'avg'])"
   ]
  },
  {
   "cell_type": "markdown",
   "id": "8664d336",
   "metadata": {},
   "source": [
    "# Выводы"
   ]
  },
  {
   "cell_type": "markdown",
   "id": "f7528eb1",
   "metadata": {},
   "source": [
    "По полученным данным нам удалось получить следующие решения и итоговые цифры:\n",
    "- После 1 января 2020 года вышло 819 книг;\n",
    "- В Топ-3 по кол-ву обзоров и средней оценке попадают следующие книги:\n",
    "    - \"Twilight (Twilight #1)\" - кол-во обзоров `7`, средняя оценка `3.66`;\n",
    "    - \"Water for Elephants\" - кол-во обзоров `6`, средняя оценка `3.98`;\n",
    "    - \"The Glass Castle\t\" - кол-во обзоров `6`, средняя оценка `4.21`.\n",
    "- среди всех издательств самым продуктивным является `Penguin Books`, оно выпустило\t`42` книги;\n",
    "- среди всех авторов книг с 50 и более оценками на первое место попадает `J.K. Rowling/Mary GrandPré` со средней оценкой `4.29`;\n",
    "- среднее кол-во обзоров от пользователей 24.0."
   ]
  }
 ],
 "metadata": {
  "ExecuteTimeLog": [
   {
    "duration": 12591,
    "start_time": "2023-06-02T14:05:28.907Z"
   },
   {
    "duration": 3,
    "start_time": "2023-06-02T14:05:41.500Z"
   },
   {
    "duration": 181,
    "start_time": "2023-06-02T14:05:41.505Z"
   },
   {
    "duration": 8,
    "start_time": "2023-06-02T14:05:41.688Z"
   },
   {
    "duration": 35,
    "start_time": "2023-06-02T14:05:41.698Z"
   },
   {
    "duration": 12,
    "start_time": "2023-06-02T14:05:41.734Z"
   },
   {
    "duration": 14,
    "start_time": "2023-06-02T14:05:41.748Z"
   },
   {
    "duration": 9,
    "start_time": "2023-06-02T14:05:41.764Z"
   },
   {
    "duration": 213,
    "start_time": "2023-06-02T14:07:29.255Z"
   },
   {
    "duration": 12634,
    "start_time": "2023-06-02T14:07:35.973Z"
   },
   {
    "duration": 3,
    "start_time": "2023-06-02T14:07:48.609Z"
   },
   {
    "duration": 146,
    "start_time": "2023-06-02T14:07:48.614Z"
   },
   {
    "duration": 9,
    "start_time": "2023-06-02T14:07:48.762Z"
   },
   {
    "duration": 193,
    "start_time": "2023-06-02T14:07:48.772Z"
   },
   {
    "duration": 0,
    "start_time": "2023-06-02T14:07:48.967Z"
   },
   {
    "duration": 0,
    "start_time": "2023-06-02T14:07:48.968Z"
   },
   {
    "duration": 0,
    "start_time": "2023-06-02T14:07:48.969Z"
   },
   {
    "duration": 459,
    "start_time": "2023-06-02T14:09:47.342Z"
   },
   {
    "duration": 42,
    "start_time": "2023-06-02T14:11:06.252Z"
   },
   {
    "duration": 13118,
    "start_time": "2023-06-02T14:14:54.179Z"
   },
   {
    "duration": 3,
    "start_time": "2023-06-02T14:15:07.299Z"
   },
   {
    "duration": 172,
    "start_time": "2023-06-02T14:15:07.303Z"
   },
   {
    "duration": 10,
    "start_time": "2023-06-02T14:15:07.478Z"
   },
   {
    "duration": 51,
    "start_time": "2023-06-02T14:15:07.489Z"
   },
   {
    "duration": 15,
    "start_time": "2023-06-02T14:15:07.542Z"
   },
   {
    "duration": 39,
    "start_time": "2023-06-02T14:15:07.559Z"
   },
   {
    "duration": 16,
    "start_time": "2023-06-02T14:15:07.600Z"
   },
   {
    "duration": 19034,
    "start_time": "2023-06-02T15:59:13.642Z"
   },
   {
    "duration": 6,
    "start_time": "2023-06-02T15:59:32.679Z"
   },
   {
    "duration": 307,
    "start_time": "2023-06-02T15:59:32.686Z"
   },
   {
    "duration": 58,
    "start_time": "2023-06-02T15:59:32.994Z"
   },
   {
    "duration": 82,
    "start_time": "2023-06-02T15:59:33.055Z"
   },
   {
    "duration": 12,
    "start_time": "2023-06-02T15:59:33.139Z"
   },
   {
    "duration": 15,
    "start_time": "2023-06-02T15:59:33.153Z"
   },
   {
    "duration": 32,
    "start_time": "2023-06-02T15:59:33.169Z"
   }
  ],
  "kernelspec": {
   "display_name": "Python 3 (ipykernel)",
   "language": "python",
   "name": "python3"
  },
  "language_info": {
   "codemirror_mode": {
    "name": "ipython",
    "version": 3
   },
   "file_extension": ".py",
   "mimetype": "text/x-python",
   "name": "python",
   "nbconvert_exporter": "python",
   "pygments_lexer": "ipython3",
   "version": "3.9.18"
  },
  "toc": {
   "base_numbering": 1,
   "nav_menu": {},
   "number_sections": true,
   "sideBar": true,
   "skip_h1_title": true,
   "title_cell": "Table of Contents",
   "title_sidebar": "Contents",
   "toc_cell": true,
   "toc_position": {},
   "toc_section_display": true,
   "toc_window_display": false
  }
 },
 "nbformat": 4,
 "nbformat_minor": 5
}
