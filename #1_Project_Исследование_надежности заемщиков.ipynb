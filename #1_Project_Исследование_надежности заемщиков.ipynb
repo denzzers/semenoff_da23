{
  "cells": [
    {
      "cell_type": "markdown",
      "id": "6d38ea79",
      "metadata": {
        "id": "6d38ea79"
      },
      "source": [
        "<div style=\"border:solid purple 2px; padding: 20px\">\n",
        "\n",
        "**Привет, Денис!**\n",
        "\n",
        "Меня зовут Мария Новожилова и я буду делать ревью твоего проекта по предобработке данных. Давай будем общаться на **«ты»**. Если это неприемлемо, обязательно напиши мне в комментариях — мы перейдем на **«вы»**.\n",
        "\n",
        "<div class=\"alert alert-danger\">\n",
        "<b>Комментарий ревьюера ❌:</b> Так я выделяю те комментарии, на которые нужно обратить внимание в первую очередь. После их доработки проект будет принят. </div>\n",
        "\n",
        "<div class=\"alert alert-success\">\n",
        "<b>Комментарий ревьюера ✔️:</b> Зеленым цветом отмечены удачные и элегантные решения, на которые можно опираться в будущих проектах.</div>\n",
        "\n",
        "<div class=\"alert alert-warning\">\n",
        "<b>Комментарий ревьюера ⚠️:</b> Оранжевым цветом выделено то, что в следующий раз можно сделать по-другому. Ты можешь учесть эти комментарии при выполнении будущих заданий или доработать проект сейчас (однако это не обязательно).</div>\n",
        "    \n",
        "Давай работать над проектом в диалоге: если ты **что-то меняешь** в проекте по моим рекомендациям — **пиши об этом**. Выбери для своих комментариев какой-то заметный цвет.\n",
        "\n",
        "<div class=\"alert alert-info\">\n",
        "<b>Комментарий студента:</b> Например, такой.</div>   \n",
        "    \n",
        "Так мне будет легче отследить изменения. Пожалуйста, **не перемещай, не изменяй и не удаляй мои комментарии**. Всё это поможет выполнить повторную проверку твоего проекта оперативнее."
      ]
    },
    {
      "cell_type": "markdown",
      "id": "0b3b709f",
      "metadata": {
        "id": "0b3b709f"
      },
      "source": [
        "<div class=\"alert alert-info\">\n",
        "<b>Комментарий ревьера:</b> Проверка начинается с <a href=#link>шага 3</a></div>   "
      ]
    },
    {
      "cell_type": "markdown",
      "id": "a9d60992",
      "metadata": {
        "id": "a9d60992"
      },
      "source": [
        "<div class=\"alert alert-success\">\n",
        "<b>Комментарий ревьюера 2V ✔️✔️:</b> Привет, новые комментарии отмечены 2V."
      ]
    },
    {
      "cell_type": "markdown",
      "id": "90987168",
      "metadata": {
        "deletable": false,
        "editable": false,
        "id": "90987168"
      },
      "source": [
        "# Исследование надежности заемщиков\n"
      ]
    },
    {
      "cell_type": "markdown",
      "source": [
        "## Оглавление\n",
        "[Описание проекта](#Описание-проекта)\n",
        "- [Шаг 1. Общая информация о данных](#Шаг-1.-Общая-информация-о-данных)\n",
        "- [Шаг 2. Предобработка данных](#Шаг-2.-Предобработка-данных)\n",
        "  - [Удаление пропусков](#Удаление-пропусков)\n",
        "  - [Обработка аномальных значений](#Обработка-аномальных-значений)\n",
        "  - [Удаление пропусков (продолжение)](#Удаление-пропусков-(продолжение))\n",
        "  - [Изменение типов данных](#Изменение-типов-данных)\n",
        "  - [Обработка дубликатов](#Обработка-дубликатов)\n",
        "  - [Категоризация данных](#Категоризация-данных)\n",
        "- [Шаг 3. Исследование данных](#Шаг-3.-Исследование-данных)\n",
        "- [Шаг 4. Выводы по проекту](#Шаг-4.-Выводы-по-проекту)"
      ],
      "metadata": {
        "id": "eDwYbC25-qef"
      },
      "id": "eDwYbC25-qef"
    },
    {
      "cell_type": "markdown",
      "source": [
        "## Описание проекта"
      ],
      "metadata": {
        "id": "KzSXVjBOBAQ5"
      },
      "id": "KzSXVjBOBAQ5"
    },
    {
      "cell_type": "markdown",
      "source": [
        "***\n",
        "**Заказчик** - кредитный отдел банка. Необходимо разобраться, влияет ли семейное положение и количество детей клиента на факт погашения кредита в срок.\n",
        "\n",
        "**Входные данные от банка** — статистика о платёжеспособности клиентов.\n",
        "\n",
        "**Результаты исследования** будут учтены при построении модели кредитного скоринга — специальной системы, которая оценивает способность потенциального заёмщика вернуть кредит банку.\n",
        "***\n",
        "**Последовательность действий**\n",
        "- Шаг 1. Необходимо открыть полученный датасет и изучить основную информацию. Путь к файлу: `/datasets/data.csv`.\n",
        "\n",
        "- Шаг 2. Предобработка данных\n",
        "  - Удаление пропусков;\n",
        "  - Обработка аномальных значений;\n",
        "  - Изменение типов данных;\n",
        "  - Обработка дубликатов;\n",
        "  - Категоризация данных.\n",
        "- Шаг 3. Ответы на вопросы\n",
        "  - Есть ли зависимость между количеством детей и возвратом кредита в срок?\n",
        "  - Есть ли зависимость между семейным положением и возвратом кредита в срок?\n",
        "  - Есть ли зависимость между уровнем дохода и возвратом кредита в срок?\n",
        "  - Как разные цели кредита влияют на его возврат в срок?\n",
        "  - Приведем возможные причины появления пропусков в исходных данных.\n",
        "  - Объясним, почему заполнить пропуски медианным значением — лучшее решение для количественных переменных.\n",
        "- Шаг 4. Общий вывод.\n",
        "***\n",
        "**Описание данных**\n",
        "\n",
        "- **`children`** — количество детей в семье;\n",
        "- **`days_employed`** — общий трудовой стаж в днях;\n",
        "- **`dob_years`** — возраст клиента в годах;\n",
        "- **`education`** — уровень образования клиента;\n",
        "- **`education_id`** — идентификатор уровня образования;\n",
        "- **`family_status`** — семейное положение;\n",
        "- **`family_status_id`** — идентификатор семейного положения;\n",
        "- **`gender`** — пол клиента;\n",
        "- **`income_type`** — тип занятости;\n",
        "- **`debt`** — имел ли задолженность по возврату кредитов;\n",
        "- **`total_income`** — ежемесячный доход;\n",
        "- **`purpose`** — цель получения кредита.\n",
        "***\n"
      ],
      "metadata": {
        "id": "-BXit7nXyPP2"
      },
      "id": "-BXit7nXyPP2"
    },
    {
      "cell_type": "markdown",
      "id": "3a053e5c",
      "metadata": {
        "deletable": false,
        "editable": false,
        "id": "3a053e5c"
      },
      "source": [
        "## Откройте таблицу и изучите общую информацию о данных"
      ]
    },
    {
      "cell_type": "markdown",
      "id": "93a8bcf6",
      "metadata": {
        "deletable": false,
        "editable": false,
        "id": "93a8bcf6"
      },
      "source": [
        "**Задание 1. Импортируйте библиотеку pandas. Считайте данные из csv-файла в датафрейм и сохраните в переменную `data`. Путь к файлу:**\n",
        "\n",
        "`/datasets/data.csv`"
      ]
    },
    {
      "cell_type": "markdown",
      "id": "6042af37",
      "metadata": {
        "id": "6042af37"
      },
      "source": [
        "<div id='link2'></div>"
      ]
    },
    {
      "cell_type": "code",
      "execution_count": null,
      "id": "ab8abe05",
      "metadata": {
        "deletable": false,
        "id": "ab8abe05"
      },
      "outputs": [],
      "source": [
        "import pandas as pd\n",
        "\n",
        "try:\n",
        "    data = pd.read_csv('/datasets/data.csv')\n",
        "except:\n",
        "    data = pd.read_csv('https://code.s3.yandex.net/datasets/data.csv')"
      ]
    },
    {
      "cell_type": "markdown",
      "id": "cf80d8bb",
      "metadata": {
        "deletable": false,
        "editable": false,
        "id": "cf80d8bb"
      },
      "source": [
        "**Задание 2. Выведите первые 20 строчек датафрейма `data` на экран.**"
      ]
    },
    {
      "cell_type": "code",
      "execution_count": null,
      "id": "edd3f753",
      "metadata": {
        "deletable": false,
        "id": "edd3f753",
        "outputId": "fccf69e9-75f8-49b9-8927-ec712930c856",
        "colab": {
          "base_uri": "https://localhost:8080/",
          "height": 1000
        }
      },
      "outputs": [
        {
          "output_type": "execute_result",
          "data": {
            "text/plain": [
              "    children  days_employed  dob_years            education  education_id  \\\n",
              "0          1   -8437.673028         42               высшее             0   \n",
              "1          1   -4024.803754         36              среднее             1   \n",
              "2          0   -5623.422610         33              Среднее             1   \n",
              "3          3   -4124.747207         32              среднее             1   \n",
              "4          0  340266.072047         53              среднее             1   \n",
              "5          0    -926.185831         27               высшее             0   \n",
              "6          0   -2879.202052         43               высшее             0   \n",
              "7          0    -152.779569         50              СРЕДНЕЕ             1   \n",
              "8          2   -6929.865299         35               ВЫСШЕЕ             0   \n",
              "9          0   -2188.756445         41              среднее             1   \n",
              "10         2   -4171.483647         36               высшее             0   \n",
              "11         0    -792.701887         40              среднее             1   \n",
              "12         0            NaN         65              среднее             1   \n",
              "13         0   -1846.641941         54  неоконченное высшее             2   \n",
              "14         0   -1844.956182         56               высшее             0   \n",
              "15         1    -972.364419         26              среднее             1   \n",
              "16         0   -1719.934226         35              среднее             1   \n",
              "17         0   -2369.999720         33               высшее             0   \n",
              "18         0  400281.136913         53              среднее             1   \n",
              "19         0  -10038.818549         48              СРЕДНЕЕ             1   \n",
              "\n",
              "       family_status  family_status_id gender income_type  debt  \\\n",
              "0    женат / замужем                 0      F   сотрудник     0   \n",
              "1    женат / замужем                 0      F   сотрудник     0   \n",
              "2    женат / замужем                 0      M   сотрудник     0   \n",
              "3    женат / замужем                 0      M   сотрудник     0   \n",
              "4   гражданский брак                 1      F   пенсионер     0   \n",
              "5   гражданский брак                 1      M   компаньон     0   \n",
              "6    женат / замужем                 0      F   компаньон     0   \n",
              "7    женат / замужем                 0      M   сотрудник     0   \n",
              "8   гражданский брак                 1      F   сотрудник     0   \n",
              "9    женат / замужем                 0      M   сотрудник     0   \n",
              "10   женат / замужем                 0      M   компаньон     0   \n",
              "11   женат / замужем                 0      F   сотрудник     0   \n",
              "12  гражданский брак                 1      M   пенсионер     0   \n",
              "13   женат / замужем                 0      F   сотрудник     0   \n",
              "14  гражданский брак                 1      F   компаньон     1   \n",
              "15   женат / замужем                 0      F   сотрудник     0   \n",
              "16   женат / замужем                 0      F   сотрудник     0   \n",
              "17  гражданский брак                 1      M   сотрудник     0   \n",
              "18    вдовец / вдова                 2      F   пенсионер     0   \n",
              "19         в разводе                 3      F   сотрудник     0   \n",
              "\n",
              "     total_income                                 purpose  \n",
              "0   253875.639453                           покупка жилья  \n",
              "1   112080.014102                 приобретение автомобиля  \n",
              "2   145885.952297                           покупка жилья  \n",
              "3   267628.550329              дополнительное образование  \n",
              "4   158616.077870                         сыграть свадьбу  \n",
              "5   255763.565419                           покупка жилья  \n",
              "6   240525.971920                       операции с жильем  \n",
              "7   135823.934197                             образование  \n",
              "8    95856.832424                   на проведение свадьбы  \n",
              "9   144425.938277                 покупка жилья для семьи  \n",
              "10  113943.491460                    покупка недвижимости  \n",
              "11   77069.234271       покупка коммерческой недвижимости  \n",
              "12            NaN                         сыграть свадьбу  \n",
              "13  130458.228857                 приобретение автомобиля  \n",
              "14  165127.911772              покупка жилой недвижимости  \n",
              "15  116820.904450  строительство собственной недвижимости  \n",
              "16  289202.704229                            недвижимость  \n",
              "17   90410.586745              строительство недвижимости  \n",
              "18   56823.777243      на покупку подержанного автомобиля  \n",
              "19  242831.107982            на покупку своего автомобиля  "
            ],
            "text/html": [
              "\n",
              "  <div id=\"df-a78905c3-cd47-4a9e-8172-9539b12f35a6\" class=\"colab-df-container\">\n",
              "    <div>\n",
              "<style scoped>\n",
              "    .dataframe tbody tr th:only-of-type {\n",
              "        vertical-align: middle;\n",
              "    }\n",
              "\n",
              "    .dataframe tbody tr th {\n",
              "        vertical-align: top;\n",
              "    }\n",
              "\n",
              "    .dataframe thead th {\n",
              "        text-align: right;\n",
              "    }\n",
              "</style>\n",
              "<table border=\"1\" class=\"dataframe\">\n",
              "  <thead>\n",
              "    <tr style=\"text-align: right;\">\n",
              "      <th></th>\n",
              "      <th>children</th>\n",
              "      <th>days_employed</th>\n",
              "      <th>dob_years</th>\n",
              "      <th>education</th>\n",
              "      <th>education_id</th>\n",
              "      <th>family_status</th>\n",
              "      <th>family_status_id</th>\n",
              "      <th>gender</th>\n",
              "      <th>income_type</th>\n",
              "      <th>debt</th>\n",
              "      <th>total_income</th>\n",
              "      <th>purpose</th>\n",
              "    </tr>\n",
              "  </thead>\n",
              "  <tbody>\n",
              "    <tr>\n",
              "      <th>0</th>\n",
              "      <td>1</td>\n",
              "      <td>-8437.673028</td>\n",
              "      <td>42</td>\n",
              "      <td>высшее</td>\n",
              "      <td>0</td>\n",
              "      <td>женат / замужем</td>\n",
              "      <td>0</td>\n",
              "      <td>F</td>\n",
              "      <td>сотрудник</td>\n",
              "      <td>0</td>\n",
              "      <td>253875.639453</td>\n",
              "      <td>покупка жилья</td>\n",
              "    </tr>\n",
              "    <tr>\n",
              "      <th>1</th>\n",
              "      <td>1</td>\n",
              "      <td>-4024.803754</td>\n",
              "      <td>36</td>\n",
              "      <td>среднее</td>\n",
              "      <td>1</td>\n",
              "      <td>женат / замужем</td>\n",
              "      <td>0</td>\n",
              "      <td>F</td>\n",
              "      <td>сотрудник</td>\n",
              "      <td>0</td>\n",
              "      <td>112080.014102</td>\n",
              "      <td>приобретение автомобиля</td>\n",
              "    </tr>\n",
              "    <tr>\n",
              "      <th>2</th>\n",
              "      <td>0</td>\n",
              "      <td>-5623.422610</td>\n",
              "      <td>33</td>\n",
              "      <td>Среднее</td>\n",
              "      <td>1</td>\n",
              "      <td>женат / замужем</td>\n",
              "      <td>0</td>\n",
              "      <td>M</td>\n",
              "      <td>сотрудник</td>\n",
              "      <td>0</td>\n",
              "      <td>145885.952297</td>\n",
              "      <td>покупка жилья</td>\n",
              "    </tr>\n",
              "    <tr>\n",
              "      <th>3</th>\n",
              "      <td>3</td>\n",
              "      <td>-4124.747207</td>\n",
              "      <td>32</td>\n",
              "      <td>среднее</td>\n",
              "      <td>1</td>\n",
              "      <td>женат / замужем</td>\n",
              "      <td>0</td>\n",
              "      <td>M</td>\n",
              "      <td>сотрудник</td>\n",
              "      <td>0</td>\n",
              "      <td>267628.550329</td>\n",
              "      <td>дополнительное образование</td>\n",
              "    </tr>\n",
              "    <tr>\n",
              "      <th>4</th>\n",
              "      <td>0</td>\n",
              "      <td>340266.072047</td>\n",
              "      <td>53</td>\n",
              "      <td>среднее</td>\n",
              "      <td>1</td>\n",
              "      <td>гражданский брак</td>\n",
              "      <td>1</td>\n",
              "      <td>F</td>\n",
              "      <td>пенсионер</td>\n",
              "      <td>0</td>\n",
              "      <td>158616.077870</td>\n",
              "      <td>сыграть свадьбу</td>\n",
              "    </tr>\n",
              "    <tr>\n",
              "      <th>5</th>\n",
              "      <td>0</td>\n",
              "      <td>-926.185831</td>\n",
              "      <td>27</td>\n",
              "      <td>высшее</td>\n",
              "      <td>0</td>\n",
              "      <td>гражданский брак</td>\n",
              "      <td>1</td>\n",
              "      <td>M</td>\n",
              "      <td>компаньон</td>\n",
              "      <td>0</td>\n",
              "      <td>255763.565419</td>\n",
              "      <td>покупка жилья</td>\n",
              "    </tr>\n",
              "    <tr>\n",
              "      <th>6</th>\n",
              "      <td>0</td>\n",
              "      <td>-2879.202052</td>\n",
              "      <td>43</td>\n",
              "      <td>высшее</td>\n",
              "      <td>0</td>\n",
              "      <td>женат / замужем</td>\n",
              "      <td>0</td>\n",
              "      <td>F</td>\n",
              "      <td>компаньон</td>\n",
              "      <td>0</td>\n",
              "      <td>240525.971920</td>\n",
              "      <td>операции с жильем</td>\n",
              "    </tr>\n",
              "    <tr>\n",
              "      <th>7</th>\n",
              "      <td>0</td>\n",
              "      <td>-152.779569</td>\n",
              "      <td>50</td>\n",
              "      <td>СРЕДНЕЕ</td>\n",
              "      <td>1</td>\n",
              "      <td>женат / замужем</td>\n",
              "      <td>0</td>\n",
              "      <td>M</td>\n",
              "      <td>сотрудник</td>\n",
              "      <td>0</td>\n",
              "      <td>135823.934197</td>\n",
              "      <td>образование</td>\n",
              "    </tr>\n",
              "    <tr>\n",
              "      <th>8</th>\n",
              "      <td>2</td>\n",
              "      <td>-6929.865299</td>\n",
              "      <td>35</td>\n",
              "      <td>ВЫСШЕЕ</td>\n",
              "      <td>0</td>\n",
              "      <td>гражданский брак</td>\n",
              "      <td>1</td>\n",
              "      <td>F</td>\n",
              "      <td>сотрудник</td>\n",
              "      <td>0</td>\n",
              "      <td>95856.832424</td>\n",
              "      <td>на проведение свадьбы</td>\n",
              "    </tr>\n",
              "    <tr>\n",
              "      <th>9</th>\n",
              "      <td>0</td>\n",
              "      <td>-2188.756445</td>\n",
              "      <td>41</td>\n",
              "      <td>среднее</td>\n",
              "      <td>1</td>\n",
              "      <td>женат / замужем</td>\n",
              "      <td>0</td>\n",
              "      <td>M</td>\n",
              "      <td>сотрудник</td>\n",
              "      <td>0</td>\n",
              "      <td>144425.938277</td>\n",
              "      <td>покупка жилья для семьи</td>\n",
              "    </tr>\n",
              "    <tr>\n",
              "      <th>10</th>\n",
              "      <td>2</td>\n",
              "      <td>-4171.483647</td>\n",
              "      <td>36</td>\n",
              "      <td>высшее</td>\n",
              "      <td>0</td>\n",
              "      <td>женат / замужем</td>\n",
              "      <td>0</td>\n",
              "      <td>M</td>\n",
              "      <td>компаньон</td>\n",
              "      <td>0</td>\n",
              "      <td>113943.491460</td>\n",
              "      <td>покупка недвижимости</td>\n",
              "    </tr>\n",
              "    <tr>\n",
              "      <th>11</th>\n",
              "      <td>0</td>\n",
              "      <td>-792.701887</td>\n",
              "      <td>40</td>\n",
              "      <td>среднее</td>\n",
              "      <td>1</td>\n",
              "      <td>женат / замужем</td>\n",
              "      <td>0</td>\n",
              "      <td>F</td>\n",
              "      <td>сотрудник</td>\n",
              "      <td>0</td>\n",
              "      <td>77069.234271</td>\n",
              "      <td>покупка коммерческой недвижимости</td>\n",
              "    </tr>\n",
              "    <tr>\n",
              "      <th>12</th>\n",
              "      <td>0</td>\n",
              "      <td>NaN</td>\n",
              "      <td>65</td>\n",
              "      <td>среднее</td>\n",
              "      <td>1</td>\n",
              "      <td>гражданский брак</td>\n",
              "      <td>1</td>\n",
              "      <td>M</td>\n",
              "      <td>пенсионер</td>\n",
              "      <td>0</td>\n",
              "      <td>NaN</td>\n",
              "      <td>сыграть свадьбу</td>\n",
              "    </tr>\n",
              "    <tr>\n",
              "      <th>13</th>\n",
              "      <td>0</td>\n",
              "      <td>-1846.641941</td>\n",
              "      <td>54</td>\n",
              "      <td>неоконченное высшее</td>\n",
              "      <td>2</td>\n",
              "      <td>женат / замужем</td>\n",
              "      <td>0</td>\n",
              "      <td>F</td>\n",
              "      <td>сотрудник</td>\n",
              "      <td>0</td>\n",
              "      <td>130458.228857</td>\n",
              "      <td>приобретение автомобиля</td>\n",
              "    </tr>\n",
              "    <tr>\n",
              "      <th>14</th>\n",
              "      <td>0</td>\n",
              "      <td>-1844.956182</td>\n",
              "      <td>56</td>\n",
              "      <td>высшее</td>\n",
              "      <td>0</td>\n",
              "      <td>гражданский брак</td>\n",
              "      <td>1</td>\n",
              "      <td>F</td>\n",
              "      <td>компаньон</td>\n",
              "      <td>1</td>\n",
              "      <td>165127.911772</td>\n",
              "      <td>покупка жилой недвижимости</td>\n",
              "    </tr>\n",
              "    <tr>\n",
              "      <th>15</th>\n",
              "      <td>1</td>\n",
              "      <td>-972.364419</td>\n",
              "      <td>26</td>\n",
              "      <td>среднее</td>\n",
              "      <td>1</td>\n",
              "      <td>женат / замужем</td>\n",
              "      <td>0</td>\n",
              "      <td>F</td>\n",
              "      <td>сотрудник</td>\n",
              "      <td>0</td>\n",
              "      <td>116820.904450</td>\n",
              "      <td>строительство собственной недвижимости</td>\n",
              "    </tr>\n",
              "    <tr>\n",
              "      <th>16</th>\n",
              "      <td>0</td>\n",
              "      <td>-1719.934226</td>\n",
              "      <td>35</td>\n",
              "      <td>среднее</td>\n",
              "      <td>1</td>\n",
              "      <td>женат / замужем</td>\n",
              "      <td>0</td>\n",
              "      <td>F</td>\n",
              "      <td>сотрудник</td>\n",
              "      <td>0</td>\n",
              "      <td>289202.704229</td>\n",
              "      <td>недвижимость</td>\n",
              "    </tr>\n",
              "    <tr>\n",
              "      <th>17</th>\n",
              "      <td>0</td>\n",
              "      <td>-2369.999720</td>\n",
              "      <td>33</td>\n",
              "      <td>высшее</td>\n",
              "      <td>0</td>\n",
              "      <td>гражданский брак</td>\n",
              "      <td>1</td>\n",
              "      <td>M</td>\n",
              "      <td>сотрудник</td>\n",
              "      <td>0</td>\n",
              "      <td>90410.586745</td>\n",
              "      <td>строительство недвижимости</td>\n",
              "    </tr>\n",
              "    <tr>\n",
              "      <th>18</th>\n",
              "      <td>0</td>\n",
              "      <td>400281.136913</td>\n",
              "      <td>53</td>\n",
              "      <td>среднее</td>\n",
              "      <td>1</td>\n",
              "      <td>вдовец / вдова</td>\n",
              "      <td>2</td>\n",
              "      <td>F</td>\n",
              "      <td>пенсионер</td>\n",
              "      <td>0</td>\n",
              "      <td>56823.777243</td>\n",
              "      <td>на покупку подержанного автомобиля</td>\n",
              "    </tr>\n",
              "    <tr>\n",
              "      <th>19</th>\n",
              "      <td>0</td>\n",
              "      <td>-10038.818549</td>\n",
              "      <td>48</td>\n",
              "      <td>СРЕДНЕЕ</td>\n",
              "      <td>1</td>\n",
              "      <td>в разводе</td>\n",
              "      <td>3</td>\n",
              "      <td>F</td>\n",
              "      <td>сотрудник</td>\n",
              "      <td>0</td>\n",
              "      <td>242831.107982</td>\n",
              "      <td>на покупку своего автомобиля</td>\n",
              "    </tr>\n",
              "  </tbody>\n",
              "</table>\n",
              "</div>\n",
              "    <div class=\"colab-df-buttons\">\n",
              "\n",
              "  <div class=\"colab-df-container\">\n",
              "    <button class=\"colab-df-convert\" onclick=\"convertToInteractive('df-a78905c3-cd47-4a9e-8172-9539b12f35a6')\"\n",
              "            title=\"Convert this dataframe to an interactive table.\"\n",
              "            style=\"display:none;\">\n",
              "\n",
              "  <svg xmlns=\"http://www.w3.org/2000/svg\" height=\"24px\" viewBox=\"0 -960 960 960\">\n",
              "    <path d=\"M120-120v-720h720v720H120Zm60-500h600v-160H180v160Zm220 220h160v-160H400v160Zm0 220h160v-160H400v160ZM180-400h160v-160H180v160Zm440 0h160v-160H620v160ZM180-180h160v-160H180v160Zm440 0h160v-160H620v160Z\"/>\n",
              "  </svg>\n",
              "    </button>\n",
              "\n",
              "  <style>\n",
              "    .colab-df-container {\n",
              "      display:flex;\n",
              "      gap: 12px;\n",
              "    }\n",
              "\n",
              "    .colab-df-convert {\n",
              "      background-color: #E8F0FE;\n",
              "      border: none;\n",
              "      border-radius: 50%;\n",
              "      cursor: pointer;\n",
              "      display: none;\n",
              "      fill: #1967D2;\n",
              "      height: 32px;\n",
              "      padding: 0 0 0 0;\n",
              "      width: 32px;\n",
              "    }\n",
              "\n",
              "    .colab-df-convert:hover {\n",
              "      background-color: #E2EBFA;\n",
              "      box-shadow: 0px 1px 2px rgba(60, 64, 67, 0.3), 0px 1px 3px 1px rgba(60, 64, 67, 0.15);\n",
              "      fill: #174EA6;\n",
              "    }\n",
              "\n",
              "    .colab-df-buttons div {\n",
              "      margin-bottom: 4px;\n",
              "    }\n",
              "\n",
              "    [theme=dark] .colab-df-convert {\n",
              "      background-color: #3B4455;\n",
              "      fill: #D2E3FC;\n",
              "    }\n",
              "\n",
              "    [theme=dark] .colab-df-convert:hover {\n",
              "      background-color: #434B5C;\n",
              "      box-shadow: 0px 1px 3px 1px rgba(0, 0, 0, 0.15);\n",
              "      filter: drop-shadow(0px 1px 2px rgba(0, 0, 0, 0.3));\n",
              "      fill: #FFFFFF;\n",
              "    }\n",
              "  </style>\n",
              "\n",
              "    <script>\n",
              "      const buttonEl =\n",
              "        document.querySelector('#df-a78905c3-cd47-4a9e-8172-9539b12f35a6 button.colab-df-convert');\n",
              "      buttonEl.style.display =\n",
              "        google.colab.kernel.accessAllowed ? 'block' : 'none';\n",
              "\n",
              "      async function convertToInteractive(key) {\n",
              "        const element = document.querySelector('#df-a78905c3-cd47-4a9e-8172-9539b12f35a6');\n",
              "        const dataTable =\n",
              "          await google.colab.kernel.invokeFunction('convertToInteractive',\n",
              "                                                    [key], {});\n",
              "        if (!dataTable) return;\n",
              "\n",
              "        const docLinkHtml = 'Like what you see? Visit the ' +\n",
              "          '<a target=\"_blank\" href=https://colab.research.google.com/notebooks/data_table.ipynb>data table notebook</a>'\n",
              "          + ' to learn more about interactive tables.';\n",
              "        element.innerHTML = '';\n",
              "        dataTable['output_type'] = 'display_data';\n",
              "        await google.colab.output.renderOutput(dataTable, element);\n",
              "        const docLink = document.createElement('div');\n",
              "        docLink.innerHTML = docLinkHtml;\n",
              "        element.appendChild(docLink);\n",
              "      }\n",
              "    </script>\n",
              "  </div>\n",
              "\n",
              "\n",
              "<div id=\"df-5d473d8c-824e-48dd-90e2-e1de600662fb\">\n",
              "  <button class=\"colab-df-quickchart\" onclick=\"quickchart('df-5d473d8c-824e-48dd-90e2-e1de600662fb')\"\n",
              "            title=\"Suggest charts.\"\n",
              "            style=\"display:none;\">\n",
              "\n",
              "<svg xmlns=\"http://www.w3.org/2000/svg\" height=\"24px\"viewBox=\"0 0 24 24\"\n",
              "     width=\"24px\">\n",
              "    <g>\n",
              "        <path d=\"M19 3H5c-1.1 0-2 .9-2 2v14c0 1.1.9 2 2 2h14c1.1 0 2-.9 2-2V5c0-1.1-.9-2-2-2zM9 17H7v-7h2v7zm4 0h-2V7h2v10zm4 0h-2v-4h2v4z\"/>\n",
              "    </g>\n",
              "</svg>\n",
              "  </button>\n",
              "\n",
              "<style>\n",
              "  .colab-df-quickchart {\n",
              "      --bg-color: #E8F0FE;\n",
              "      --fill-color: #1967D2;\n",
              "      --hover-bg-color: #E2EBFA;\n",
              "      --hover-fill-color: #174EA6;\n",
              "      --disabled-fill-color: #AAA;\n",
              "      --disabled-bg-color: #DDD;\n",
              "  }\n",
              "\n",
              "  [theme=dark] .colab-df-quickchart {\n",
              "      --bg-color: #3B4455;\n",
              "      --fill-color: #D2E3FC;\n",
              "      --hover-bg-color: #434B5C;\n",
              "      --hover-fill-color: #FFFFFF;\n",
              "      --disabled-bg-color: #3B4455;\n",
              "      --disabled-fill-color: #666;\n",
              "  }\n",
              "\n",
              "  .colab-df-quickchart {\n",
              "    background-color: var(--bg-color);\n",
              "    border: none;\n",
              "    border-radius: 50%;\n",
              "    cursor: pointer;\n",
              "    display: none;\n",
              "    fill: var(--fill-color);\n",
              "    height: 32px;\n",
              "    padding: 0;\n",
              "    width: 32px;\n",
              "  }\n",
              "\n",
              "  .colab-df-quickchart:hover {\n",
              "    background-color: var(--hover-bg-color);\n",
              "    box-shadow: 0 1px 2px rgba(60, 64, 67, 0.3), 0 1px 3px 1px rgba(60, 64, 67, 0.15);\n",
              "    fill: var(--button-hover-fill-color);\n",
              "  }\n",
              "\n",
              "  .colab-df-quickchart-complete:disabled,\n",
              "  .colab-df-quickchart-complete:disabled:hover {\n",
              "    background-color: var(--disabled-bg-color);\n",
              "    fill: var(--disabled-fill-color);\n",
              "    box-shadow: none;\n",
              "  }\n",
              "\n",
              "  .colab-df-spinner {\n",
              "    border: 2px solid var(--fill-color);\n",
              "    border-color: transparent;\n",
              "    border-bottom-color: var(--fill-color);\n",
              "    animation:\n",
              "      spin 1s steps(1) infinite;\n",
              "  }\n",
              "\n",
              "  @keyframes spin {\n",
              "    0% {\n",
              "      border-color: transparent;\n",
              "      border-bottom-color: var(--fill-color);\n",
              "      border-left-color: var(--fill-color);\n",
              "    }\n",
              "    20% {\n",
              "      border-color: transparent;\n",
              "      border-left-color: var(--fill-color);\n",
              "      border-top-color: var(--fill-color);\n",
              "    }\n",
              "    30% {\n",
              "      border-color: transparent;\n",
              "      border-left-color: var(--fill-color);\n",
              "      border-top-color: var(--fill-color);\n",
              "      border-right-color: var(--fill-color);\n",
              "    }\n",
              "    40% {\n",
              "      border-color: transparent;\n",
              "      border-right-color: var(--fill-color);\n",
              "      border-top-color: var(--fill-color);\n",
              "    }\n",
              "    60% {\n",
              "      border-color: transparent;\n",
              "      border-right-color: var(--fill-color);\n",
              "    }\n",
              "    80% {\n",
              "      border-color: transparent;\n",
              "      border-right-color: var(--fill-color);\n",
              "      border-bottom-color: var(--fill-color);\n",
              "    }\n",
              "    90% {\n",
              "      border-color: transparent;\n",
              "      border-bottom-color: var(--fill-color);\n",
              "    }\n",
              "  }\n",
              "</style>\n",
              "\n",
              "  <script>\n",
              "    async function quickchart(key) {\n",
              "      const quickchartButtonEl =\n",
              "        document.querySelector('#' + key + ' button');\n",
              "      quickchartButtonEl.disabled = true;  // To prevent multiple clicks.\n",
              "      quickchartButtonEl.classList.add('colab-df-spinner');\n",
              "      try {\n",
              "        const charts = await google.colab.kernel.invokeFunction(\n",
              "            'suggestCharts', [key], {});\n",
              "      } catch (error) {\n",
              "        console.error('Error during call to suggestCharts:', error);\n",
              "      }\n",
              "      quickchartButtonEl.classList.remove('colab-df-spinner');\n",
              "      quickchartButtonEl.classList.add('colab-df-quickchart-complete');\n",
              "    }\n",
              "    (() => {\n",
              "      let quickchartButtonEl =\n",
              "        document.querySelector('#df-5d473d8c-824e-48dd-90e2-e1de600662fb button');\n",
              "      quickchartButtonEl.style.display =\n",
              "        google.colab.kernel.accessAllowed ? 'block' : 'none';\n",
              "    })();\n",
              "  </script>\n",
              "</div>\n",
              "    </div>\n",
              "  </div>\n"
            ]
          },
          "metadata": {},
          "execution_count": 38
        }
      ],
      "source": [
        "data.head(20)"
      ]
    },
    {
      "cell_type": "markdown",
      "id": "76df0662",
      "metadata": {
        "deletable": false,
        "editable": false,
        "id": "76df0662"
      },
      "source": [
        "**Задание 3. Выведите основную информацию о датафрейме с помощью метода `info()`.**"
      ]
    },
    {
      "cell_type": "code",
      "execution_count": null,
      "id": "d30cd833",
      "metadata": {
        "deletable": false,
        "id": "d30cd833",
        "outputId": "b70eb192-6d19-4c11-b0db-eb163d444bc6",
        "colab": {
          "base_uri": "https://localhost:8080/"
        }
      },
      "outputs": [
        {
          "output_type": "stream",
          "name": "stdout",
          "text": [
            "<class 'pandas.core.frame.DataFrame'>\n",
            "RangeIndex: 21525 entries, 0 to 21524\n",
            "Data columns (total 12 columns):\n",
            " #   Column            Non-Null Count  Dtype  \n",
            "---  ------            --------------  -----  \n",
            " 0   children          21525 non-null  int64  \n",
            " 1   days_employed     19351 non-null  float64\n",
            " 2   dob_years         21525 non-null  int64  \n",
            " 3   education         21525 non-null  object \n",
            " 4   education_id      21525 non-null  int64  \n",
            " 5   family_status     21525 non-null  object \n",
            " 6   family_status_id  21525 non-null  int64  \n",
            " 7   gender            21525 non-null  object \n",
            " 8   income_type       21525 non-null  object \n",
            " 9   debt              21525 non-null  int64  \n",
            " 10  total_income      19351 non-null  float64\n",
            " 11  purpose           21525 non-null  object \n",
            "dtypes: float64(2), int64(5), object(5)\n",
            "memory usage: 2.0+ MB\n"
          ]
        }
      ],
      "source": [
        "data.info()"
      ]
    },
    {
      "cell_type": "markdown",
      "id": "d1de8877",
      "metadata": {
        "deletable": false,
        "editable": false,
        "id": "d1de8877"
      },
      "source": [
        "## Предобработка данных"
      ]
    },
    {
      "cell_type": "markdown",
      "id": "3f420696",
      "metadata": {
        "deletable": false,
        "editable": false,
        "id": "3f420696"
      },
      "source": [
        "### Удаление пропусков"
      ]
    },
    {
      "cell_type": "markdown",
      "id": "e51c996c",
      "metadata": {
        "deletable": false,
        "editable": false,
        "id": "e51c996c"
      },
      "source": [
        "**Задание 4. Выведите количество пропущенных значений для каждого столбца. Используйте комбинацию двух методов.**"
      ]
    },
    {
      "cell_type": "code",
      "execution_count": null,
      "id": "175225b7",
      "metadata": {
        "deletable": false,
        "id": "175225b7",
        "outputId": "52fb4df5-7c03-4e8d-d3a6-c645345f06f8",
        "colab": {
          "base_uri": "https://localhost:8080/"
        }
      },
      "outputs": [
        {
          "output_type": "execute_result",
          "data": {
            "text/plain": [
              "children               0\n",
              "days_employed       2174\n",
              "dob_years              0\n",
              "education              0\n",
              "education_id           0\n",
              "family_status          0\n",
              "family_status_id       0\n",
              "gender                 0\n",
              "income_type            0\n",
              "debt                   0\n",
              "total_income        2174\n",
              "purpose                0\n",
              "dtype: int64"
            ]
          },
          "metadata": {},
          "execution_count": 40
        }
      ],
      "source": [
        "data.isna().sum()"
      ]
    },
    {
      "cell_type": "markdown",
      "id": "1f412b03",
      "metadata": {
        "deletable": false,
        "editable": false,
        "id": "1f412b03"
      },
      "source": [
        "**Задание 5. В двух столбцах есть пропущенные значения. Один из них — `days_employed`. Пропуски в этом столбце вы обработаете на следующем этапе. Другой столбец с пропущенными значениями — `total_income` — хранит данные о доходах. На сумму дохода сильнее всего влияет тип занятости, поэтому заполнить пропуски в этом столбце нужно медианным значением по каждому типу из столбца `income_type`. Например, у человека с типом занятости `сотрудник` пропуск в столбце `total_income` должен быть заполнен медианным доходом среди всех записей с тем же типом.**"
      ]
    },
    {
      "cell_type": "code",
      "execution_count": null,
      "id": "81eeb4d2",
      "metadata": {
        "deletable": false,
        "id": "81eeb4d2"
      },
      "outputs": [],
      "source": [
        "for t in data['income_type'].unique():\n",
        "    data.loc[(data['income_type'] == t) & (data['total_income'].isna()), 'total_income'] = \\\n",
        "    data.loc[(data['income_type'] == t), 'total_income'].median()"
      ]
    },
    {
      "cell_type": "markdown",
      "id": "d30b1354",
      "metadata": {
        "deletable": false,
        "editable": false,
        "id": "d30b1354"
      },
      "source": [
        "### Обработка аномальных значений"
      ]
    },
    {
      "cell_type": "markdown",
      "id": "b6761d44",
      "metadata": {
        "deletable": false,
        "editable": false,
        "id": "b6761d44"
      },
      "source": [
        "**Задание 6. В данных могут встречаться артефакты (аномалии) — значения, которые не отражают действительность и появились по какой-то ошибке. таким артефактом будет отрицательное количество дней трудового стажа в столбце `days_employed`. Для реальных данных это нормально. Обработайте значения в этом столбце: замените все отрицательные значения положительными с помощью метода `abs()`.**"
      ]
    },
    {
      "cell_type": "code",
      "execution_count": null,
      "id": "0dbe7c04",
      "metadata": {
        "deletable": false,
        "id": "0dbe7c04"
      },
      "outputs": [],
      "source": [
        "data['days_employed'] = data['days_employed'].abs()"
      ]
    },
    {
      "cell_type": "markdown",
      "id": "8d8db446",
      "metadata": {
        "deletable": false,
        "editable": false,
        "id": "8d8db446"
      },
      "source": [
        "**Задание 7. Для каждого типа занятости выведите медианное значение трудового стажа `days_employed` в днях.**"
      ]
    },
    {
      "cell_type": "code",
      "execution_count": null,
      "id": "15fff016",
      "metadata": {
        "deletable": false,
        "id": "15fff016",
        "outputId": "b224352f-07e1-4a1e-a85f-acfda4805fdc",
        "colab": {
          "base_uri": "https://localhost:8080/"
        }
      },
      "outputs": [
        {
          "output_type": "execute_result",
          "data": {
            "text/plain": [
              "income_type\n",
              "безработный        366413.652744\n",
              "в декрете            3296.759962\n",
              "госслужащий          2689.368353\n",
              "компаньон            1547.382223\n",
              "пенсионер          365213.306266\n",
              "предприниматель       520.848083\n",
              "сотрудник            1574.202821\n",
              "студент               578.751554\n",
              "Name: days_employed, dtype: float64"
            ]
          },
          "metadata": {},
          "execution_count": 43
        }
      ],
      "source": [
        "data.groupby('income_type')['days_employed'].agg('median')"
      ]
    },
    {
      "cell_type": "markdown",
      "id": "17c3f181",
      "metadata": {
        "deletable": false,
        "editable": false,
        "id": "17c3f181"
      },
      "source": [
        "У двух типов (безработные и пенсионеры) получатся аномально большие значения. Исправить такие значения сложно, поэтому оставьте их как есть. Тем более этот столбец не понадобится вам для исследования."
      ]
    },
    {
      "cell_type": "markdown",
      "id": "4e983b20",
      "metadata": {
        "deletable": false,
        "editable": false,
        "id": "4e983b20"
      },
      "source": [
        "**Задание 8. Выведите перечень уникальных значений столбца `children`.**"
      ]
    },
    {
      "cell_type": "code",
      "execution_count": null,
      "id": "e68192d0",
      "metadata": {
        "deletable": false,
        "id": "e68192d0",
        "outputId": "b1889c9d-8eee-4858-b4a6-c26ed029a8d1",
        "colab": {
          "base_uri": "https://localhost:8080/"
        }
      },
      "outputs": [
        {
          "output_type": "execute_result",
          "data": {
            "text/plain": [
              "array([ 1,  0,  3,  2, -1,  4, 20,  5])"
            ]
          },
          "metadata": {},
          "execution_count": 44
        }
      ],
      "source": [
        "data['children'].unique()"
      ]
    },
    {
      "cell_type": "markdown",
      "id": "deb2685d",
      "metadata": {
        "deletable": false,
        "editable": false,
        "id": "deb2685d"
      },
      "source": [
        "**Задание 9. В столбце `children` есть два аномальных значения. Удалите строки, в которых встречаются такие аномальные значения из датафрейма `data`.**"
      ]
    },
    {
      "cell_type": "code",
      "execution_count": null,
      "id": "da338c1d",
      "metadata": {
        "deletable": false,
        "id": "da338c1d"
      },
      "outputs": [],
      "source": [
        "data = data[(data['children'] != -1) & (data['children'] != 20)]"
      ]
    },
    {
      "cell_type": "markdown",
      "id": "d417bf30",
      "metadata": {
        "deletable": false,
        "editable": false,
        "id": "d417bf30"
      },
      "source": [
        "**Задание 10. Ещё раз выведите перечень уникальных значений столбца `children`, чтобы убедиться, что артефакты удалены.**"
      ]
    },
    {
      "cell_type": "code",
      "execution_count": null,
      "id": "c9417e34",
      "metadata": {
        "deletable": false,
        "id": "c9417e34",
        "outputId": "44dc0769-b1e7-43e5-9080-7910d7171fd0",
        "colab": {
          "base_uri": "https://localhost:8080/"
        }
      },
      "outputs": [
        {
          "output_type": "execute_result",
          "data": {
            "text/plain": [
              "array([1, 0, 3, 2, 4, 5])"
            ]
          },
          "metadata": {},
          "execution_count": 46
        }
      ],
      "source": [
        "data['children'].unique()"
      ]
    },
    {
      "cell_type": "markdown",
      "id": "b83c0e91",
      "metadata": {
        "deletable": false,
        "editable": false,
        "id": "b83c0e91"
      },
      "source": [
        "### Удаление пропусков (продолжение)"
      ]
    },
    {
      "cell_type": "markdown",
      "id": "dcbbb352",
      "metadata": {
        "deletable": false,
        "editable": false,
        "id": "dcbbb352"
      },
      "source": [
        "**Задание 11. Заполните пропуски в столбце `days_employed` медианными значениями по каждого типа занятости `income_type`.**"
      ]
    },
    {
      "cell_type": "code",
      "execution_count": null,
      "id": "949c63ab",
      "metadata": {
        "deletable": false,
        "id": "949c63ab"
      },
      "outputs": [],
      "source": [
        "for t in data['income_type'].unique():\n",
        "    data.loc[(data['income_type'] == t) & (data['days_employed'].isna()), 'days_employed'] = \\\n",
        "    data.loc[(data['income_type'] == t), 'days_employed'].median()"
      ]
    },
    {
      "cell_type": "markdown",
      "id": "3890f92a",
      "metadata": {
        "deletable": false,
        "editable": false,
        "id": "3890f92a"
      },
      "source": [
        "**Задание 12. Убедитесь, что все пропуски заполнены. Проверьте себя и ещё раз выведите количество пропущенных значений для каждого столбца с помощью двух методов.**"
      ]
    },
    {
      "cell_type": "code",
      "execution_count": null,
      "id": "3947206e",
      "metadata": {
        "deletable": false,
        "id": "3947206e",
        "outputId": "0a93d879-f6db-4ac2-fc2d-d4f5245f7831",
        "colab": {
          "base_uri": "https://localhost:8080/"
        }
      },
      "outputs": [
        {
          "output_type": "execute_result",
          "data": {
            "text/plain": [
              "children            0\n",
              "days_employed       0\n",
              "dob_years           0\n",
              "education           0\n",
              "education_id        0\n",
              "family_status       0\n",
              "family_status_id    0\n",
              "gender              0\n",
              "income_type         0\n",
              "debt                0\n",
              "total_income        0\n",
              "purpose             0\n",
              "dtype: int64"
            ]
          },
          "metadata": {},
          "execution_count": 48
        }
      ],
      "source": [
        "data.isna().sum()"
      ]
    },
    {
      "cell_type": "markdown",
      "id": "e3951f2d",
      "metadata": {
        "deletable": false,
        "editable": false,
        "id": "e3951f2d"
      },
      "source": [
        "### Изменение типов данных"
      ]
    },
    {
      "cell_type": "markdown",
      "id": "6e8631bc",
      "metadata": {
        "deletable": false,
        "editable": false,
        "id": "6e8631bc"
      },
      "source": [
        "**Задание 13. Замените вещественный тип данных в столбце `total_income` на целочисленный с помощью метода `astype()`.**"
      ]
    },
    {
      "cell_type": "code",
      "execution_count": null,
      "id": "3f19afc2",
      "metadata": {
        "deletable": false,
        "id": "3f19afc2"
      },
      "outputs": [],
      "source": [
        "data['total_income'] = data['total_income'].astype(int)"
      ]
    },
    {
      "cell_type": "markdown",
      "id": "c81fdd01",
      "metadata": {
        "deletable": false,
        "editable": false,
        "id": "c81fdd01"
      },
      "source": [
        "### Обработка дубликатов"
      ]
    },
    {
      "cell_type": "markdown",
      "id": "e9bd674f",
      "metadata": {
        "deletable": false,
        "editable": false,
        "id": "e9bd674f"
      },
      "source": [
        "**Задание 14. Обработайте неявные дубликаты в столбце `education`. В этом столбце есть одни и те же значения, но записанные по-разному: с использованием заглавных и строчных букв. Приведите их к нижнему регистру. Проверьте остальные столбцы.**"
      ]
    },
    {
      "cell_type": "code",
      "execution_count": null,
      "id": "5872b013",
      "metadata": {
        "deletable": false,
        "id": "5872b013"
      },
      "outputs": [],
      "source": [
        "data['education'] = data['education'].str.lower()"
      ]
    },
    {
      "cell_type": "markdown",
      "id": "b61f2b79",
      "metadata": {
        "deletable": false,
        "editable": false,
        "id": "b61f2b79"
      },
      "source": [
        "**Задание 15. Выведите на экран количество строк-дубликатов в данных. Если такие строки присутствуют, удалите их.**"
      ]
    },
    {
      "cell_type": "code",
      "execution_count": null,
      "id": "77189cc0",
      "metadata": {
        "deletable": false,
        "id": "77189cc0",
        "outputId": "a458fb40-9902-40ee-e22b-7e17fc54e688",
        "colab": {
          "base_uri": "https://localhost:8080/"
        }
      },
      "outputs": [
        {
          "output_type": "execute_result",
          "data": {
            "text/plain": [
              "71"
            ]
          },
          "metadata": {},
          "execution_count": 51
        }
      ],
      "source": [
        "data.duplicated().sum()"
      ]
    },
    {
      "cell_type": "code",
      "execution_count": null,
      "id": "c7930f09",
      "metadata": {
        "deletable": false,
        "id": "c7930f09"
      },
      "outputs": [],
      "source": [
        "data = data.drop_duplicates()"
      ]
    },
    {
      "cell_type": "markdown",
      "id": "6c4ba133",
      "metadata": {
        "deletable": false,
        "editable": false,
        "id": "6c4ba133"
      },
      "source": [
        "### Категоризация данных"
      ]
    },
    {
      "cell_type": "markdown",
      "id": "13083104",
      "metadata": {
        "deletable": false,
        "editable": false,
        "id": "13083104"
      },
      "source": [
        "**Задание 16. На основании диапазонов, указанных ниже, создайте в датафрейме `data` столбец `total_income_category` с категориями:**\n",
        "\n",
        "- 0–30000 — `'E'`;\n",
        "- 30001–50000 — `'D'`;\n",
        "- 50001–200000 — `'C'`;\n",
        "- 200001–1000000 — `'B'`;\n",
        "- 1000001 и выше — `'A'`.\n",
        "\n",
        "\n",
        "**Например, кредитополучателю с доходом 25000 нужно назначить категорию `'E'`, а клиенту, получающему 235000, — `'B'`. Используйте собственную функцию с именем `categorize_income()` и метод `apply()`.**"
      ]
    },
    {
      "cell_type": "code",
      "execution_count": null,
      "id": "5edf4e80",
      "metadata": {
        "deletable": false,
        "id": "5edf4e80"
      },
      "outputs": [],
      "source": [
        "def categorize_income(income):\n",
        "    try:\n",
        "        if 0 <= income <= 30000:\n",
        "            return 'E'\n",
        "        elif 30001 <= income <= 50000:\n",
        "            return 'D'\n",
        "        elif 50001 <= income <= 200000:\n",
        "            return 'C'\n",
        "        elif 200001 <= income <= 1000000:\n",
        "            return 'B'\n",
        "        elif income >= 1000001:\n",
        "            return 'A'\n",
        "    except:\n",
        "        pass"
      ]
    },
    {
      "cell_type": "code",
      "execution_count": null,
      "id": "f9281940",
      "metadata": {
        "deletable": false,
        "id": "f9281940",
        "colab": {
          "base_uri": "https://localhost:8080/"
        },
        "outputId": "a0b7be09-90a1-4b6d-e847-ef7184bbd77f"
      },
      "outputs": [
        {
          "output_type": "stream",
          "name": "stderr",
          "text": [
            "<ipython-input-54-0bc713f3049f>:1: SettingWithCopyWarning: \n",
            "A value is trying to be set on a copy of a slice from a DataFrame.\n",
            "Try using .loc[row_indexer,col_indexer] = value instead\n",
            "\n",
            "See the caveats in the documentation: https://pandas.pydata.org/pandas-docs/stable/user_guide/indexing.html#returning-a-view-versus-a-copy\n",
            "  data['total_income_category'] = data['total_income'].apply(categorize_income)\n"
          ]
        }
      ],
      "source": [
        "data['total_income_category'] = data['total_income'].apply(categorize_income)"
      ]
    },
    {
      "cell_type": "markdown",
      "id": "2bbd6072",
      "metadata": {
        "deletable": false,
        "editable": false,
        "id": "2bbd6072"
      },
      "source": [
        "**Задание 17. Выведите на экран перечень уникальных целей взятия кредита из столбца `purpose`.**"
      ]
    },
    {
      "cell_type": "code",
      "execution_count": null,
      "id": "7ee03ab3",
      "metadata": {
        "deletable": false,
        "id": "7ee03ab3",
        "outputId": "408b740b-1fc2-4f61-ae3f-dd267e8fe3fb",
        "colab": {
          "base_uri": "https://localhost:8080/"
        }
      },
      "outputs": [
        {
          "output_type": "execute_result",
          "data": {
            "text/plain": [
              "array(['покупка жилья', 'приобретение автомобиля',\n",
              "       'дополнительное образование', 'сыграть свадьбу',\n",
              "       'операции с жильем', 'образование', 'на проведение свадьбы',\n",
              "       'покупка жилья для семьи', 'покупка недвижимости',\n",
              "       'покупка коммерческой недвижимости', 'покупка жилой недвижимости',\n",
              "       'строительство собственной недвижимости', 'недвижимость',\n",
              "       'строительство недвижимости', 'на покупку подержанного автомобиля',\n",
              "       'на покупку своего автомобиля',\n",
              "       'операции с коммерческой недвижимостью',\n",
              "       'строительство жилой недвижимости', 'жилье',\n",
              "       'операции со своей недвижимостью', 'автомобили',\n",
              "       'заняться образованием', 'сделка с подержанным автомобилем',\n",
              "       'получение образования', 'автомобиль', 'свадьба',\n",
              "       'получение дополнительного образования', 'покупка своего жилья',\n",
              "       'операции с недвижимостью', 'получение высшего образования',\n",
              "       'свой автомобиль', 'сделка с автомобилем',\n",
              "       'профильное образование', 'высшее образование',\n",
              "       'покупка жилья для сдачи', 'на покупку автомобиля', 'ремонт жилью',\n",
              "       'заняться высшим образованием'], dtype=object)"
            ]
          },
          "metadata": {},
          "execution_count": 55
        }
      ],
      "source": [
        "data['purpose'].unique()"
      ]
    },
    {
      "cell_type": "markdown",
      "id": "0ef5df6e",
      "metadata": {
        "deletable": false,
        "editable": false,
        "id": "0ef5df6e"
      },
      "source": [
        "**Задание 18. Создайте функцию, которая на основании данных из столбца `purpose` сформирует новый столбец `purpose_category`, в который войдут следующие категории:**\n",
        "\n",
        "- `'операции с автомобилем'`,\n",
        "- `'операции с недвижимостью'`,\n",
        "- `'проведение свадьбы'`,\n",
        "- `'получение образования'`.\n",
        "\n",
        "**Например, если в столбце `purpose` находится подстрока `'на покупку автомобиля'`, то в столбце `purpose_category` должна появиться строка `'операции с автомобилем'`.**\n",
        "\n",
        "**Используйте собственную функцию с именем `categorize_purpose()` и метод `apply()`. Изучите данные в столбце `purpose` и определите, какие подстроки помогут вам правильно определить категорию.**"
      ]
    },
    {
      "cell_type": "code",
      "execution_count": null,
      "id": "04ec98f3",
      "metadata": {
        "deletable": false,
        "id": "04ec98f3"
      },
      "outputs": [],
      "source": [
        "def categorize_purpose(row):\n",
        "    try:\n",
        "        if 'автом' in row:\n",
        "            return 'операции с автомобилем'\n",
        "        elif 'жил' in row or 'недвиж' in row:\n",
        "            return 'операции с недвижимостью'\n",
        "        elif 'свад' in row:\n",
        "            return 'проведение свадьбы'\n",
        "        elif 'образов' in row:\n",
        "            return 'получение образования'\n",
        "    except:\n",
        "        return 'нет категории'"
      ]
    },
    {
      "cell_type": "code",
      "execution_count": null,
      "id": "1e3c7583",
      "metadata": {
        "deletable": false,
        "id": "1e3c7583"
      },
      "outputs": [],
      "source": [
        "data['purpose_category'] = data['purpose'].apply(categorize_purpose)"
      ]
    },
    {
      "cell_type": "markdown",
      "id": "3d5952e5",
      "metadata": {
        "id": "3d5952e5"
      },
      "source": [
        "<div id='link'></div>"
      ]
    },
    {
      "cell_type": "markdown",
      "id": "5b4d5966",
      "metadata": {
        "id": "5b4d5966"
      },
      "source": [
        "<div class=\"alert alert-warning\">\n",
        "<b>Комментарий ревьюера ⚠️:</b> Предыдущий раздел заполнен автоматически и безупречен с точки зрения структуры и кода, но надо отметить, что в нём не хватает промежуточных выводов. В следующем задании и в будущих проектах промежуточные и итоговые выводы будут обязательны."
      ]
    },
    {
      "cell_type": "markdown",
      "id": "4dccbe1f",
      "metadata": {
        "id": "4dccbe1f"
      },
      "source": [
        "<div class=\"alert alert-info\">\n",
        "<b>Комментарий студента:</b> Правильно ли я понял, что просто достаточно добавлять новую ячейку с выводом для автоматической части проекта? Или имеется в виду добавлять закомментированные строки по тому что делаю и что получается?</div>"
      ]
    },
    {
      "cell_type": "markdown",
      "id": "8c9075d7",
      "metadata": {
        "id": "8c9075d7"
      },
      "source": [
        "<div class=\"alert alert-success\">\n",
        "<b>Комментарий ревьюера 2V ✔️✔️:</b> Не уверена, что я верно поняла твой вопрос. В любом случае для выводов и комментариев по данным - да - нужно добавлять новые ячейки типа Markdown. И если ты решишь разместить этот проект в портфолио в будущем, то первую часть проекта нужно дополнить выводами и рассуждениями.\n",
        "    \n",
        "Закомментированные строки внутри ячеек используются только для комментариев именно по коду. Их полезно добавлять для себя, чтобы быстрее сориентироваться в собственном коде спустя некоторое время."
      ]
    },
    {
      "cell_type": "markdown",
      "id": "9353957b",
      "metadata": {
        "deletable": false,
        "editable": false,
        "id": "9353957b"
      },
      "source": [
        "### Шаг 3. Исследуйте данные и ответьте на вопросы"
      ]
    },
    {
      "cell_type": "markdown",
      "id": "375b796a",
      "metadata": {
        "deletable": false,
        "editable": false,
        "id": "375b796a"
      },
      "source": [
        "#### 3.1 Есть ли зависимость между количеством детей и возвратом кредита в срок?"
      ]
    },
    {
      "cell_type": "code",
      "execution_count": null,
      "id": "a5732c78",
      "metadata": {
        "deletable": false,
        "id": "a5732c78",
        "colab": {
          "base_uri": "https://localhost:8080/",
          "height": 237
        },
        "outputId": "0f5bd51c-a6ec-4897-da3c-25cb65517835"
      },
      "outputs": [
        {
          "output_type": "execute_result",
          "data": {
            "text/plain": [
              "   children  count_debt  mean_debt\n",
              "0         0       14091   0.075438\n",
              "1         1        4808   0.092346\n",
              "2         2        2052   0.094542\n",
              "3         3         330   0.081818\n",
              "4         4          41   0.097561\n",
              "5         5           9   0.000000"
            ],
            "text/html": [
              "\n",
              "  <div id=\"df-1f0aac50-7efa-41fb-a5f9-5f86887ab2c5\" class=\"colab-df-container\">\n",
              "    <div>\n",
              "<style scoped>\n",
              "    .dataframe tbody tr th:only-of-type {\n",
              "        vertical-align: middle;\n",
              "    }\n",
              "\n",
              "    .dataframe tbody tr th {\n",
              "        vertical-align: top;\n",
              "    }\n",
              "\n",
              "    .dataframe thead th {\n",
              "        text-align: right;\n",
              "    }\n",
              "</style>\n",
              "<table border=\"1\" class=\"dataframe\">\n",
              "  <thead>\n",
              "    <tr style=\"text-align: right;\">\n",
              "      <th></th>\n",
              "      <th>children</th>\n",
              "      <th>count_debt</th>\n",
              "      <th>mean_debt</th>\n",
              "    </tr>\n",
              "  </thead>\n",
              "  <tbody>\n",
              "    <tr>\n",
              "      <th>0</th>\n",
              "      <td>0</td>\n",
              "      <td>14091</td>\n",
              "      <td>0.075438</td>\n",
              "    </tr>\n",
              "    <tr>\n",
              "      <th>1</th>\n",
              "      <td>1</td>\n",
              "      <td>4808</td>\n",
              "      <td>0.092346</td>\n",
              "    </tr>\n",
              "    <tr>\n",
              "      <th>2</th>\n",
              "      <td>2</td>\n",
              "      <td>2052</td>\n",
              "      <td>0.094542</td>\n",
              "    </tr>\n",
              "    <tr>\n",
              "      <th>3</th>\n",
              "      <td>3</td>\n",
              "      <td>330</td>\n",
              "      <td>0.081818</td>\n",
              "    </tr>\n",
              "    <tr>\n",
              "      <th>4</th>\n",
              "      <td>4</td>\n",
              "      <td>41</td>\n",
              "      <td>0.097561</td>\n",
              "    </tr>\n",
              "    <tr>\n",
              "      <th>5</th>\n",
              "      <td>5</td>\n",
              "      <td>9</td>\n",
              "      <td>0.000000</td>\n",
              "    </tr>\n",
              "  </tbody>\n",
              "</table>\n",
              "</div>\n",
              "    <div class=\"colab-df-buttons\">\n",
              "\n",
              "  <div class=\"colab-df-container\">\n",
              "    <button class=\"colab-df-convert\" onclick=\"convertToInteractive('df-1f0aac50-7efa-41fb-a5f9-5f86887ab2c5')\"\n",
              "            title=\"Convert this dataframe to an interactive table.\"\n",
              "            style=\"display:none;\">\n",
              "\n",
              "  <svg xmlns=\"http://www.w3.org/2000/svg\" height=\"24px\" viewBox=\"0 -960 960 960\">\n",
              "    <path d=\"M120-120v-720h720v720H120Zm60-500h600v-160H180v160Zm220 220h160v-160H400v160Zm0 220h160v-160H400v160ZM180-400h160v-160H180v160Zm440 0h160v-160H620v160ZM180-180h160v-160H180v160Zm440 0h160v-160H620v160Z\"/>\n",
              "  </svg>\n",
              "    </button>\n",
              "\n",
              "  <style>\n",
              "    .colab-df-container {\n",
              "      display:flex;\n",
              "      gap: 12px;\n",
              "    }\n",
              "\n",
              "    .colab-df-convert {\n",
              "      background-color: #E8F0FE;\n",
              "      border: none;\n",
              "      border-radius: 50%;\n",
              "      cursor: pointer;\n",
              "      display: none;\n",
              "      fill: #1967D2;\n",
              "      height: 32px;\n",
              "      padding: 0 0 0 0;\n",
              "      width: 32px;\n",
              "    }\n",
              "\n",
              "    .colab-df-convert:hover {\n",
              "      background-color: #E2EBFA;\n",
              "      box-shadow: 0px 1px 2px rgba(60, 64, 67, 0.3), 0px 1px 3px 1px rgba(60, 64, 67, 0.15);\n",
              "      fill: #174EA6;\n",
              "    }\n",
              "\n",
              "    .colab-df-buttons div {\n",
              "      margin-bottom: 4px;\n",
              "    }\n",
              "\n",
              "    [theme=dark] .colab-df-convert {\n",
              "      background-color: #3B4455;\n",
              "      fill: #D2E3FC;\n",
              "    }\n",
              "\n",
              "    [theme=dark] .colab-df-convert:hover {\n",
              "      background-color: #434B5C;\n",
              "      box-shadow: 0px 1px 3px 1px rgba(0, 0, 0, 0.15);\n",
              "      filter: drop-shadow(0px 1px 2px rgba(0, 0, 0, 0.3));\n",
              "      fill: #FFFFFF;\n",
              "    }\n",
              "  </style>\n",
              "\n",
              "    <script>\n",
              "      const buttonEl =\n",
              "        document.querySelector('#df-1f0aac50-7efa-41fb-a5f9-5f86887ab2c5 button.colab-df-convert');\n",
              "      buttonEl.style.display =\n",
              "        google.colab.kernel.accessAllowed ? 'block' : 'none';\n",
              "\n",
              "      async function convertToInteractive(key) {\n",
              "        const element = document.querySelector('#df-1f0aac50-7efa-41fb-a5f9-5f86887ab2c5');\n",
              "        const dataTable =\n",
              "          await google.colab.kernel.invokeFunction('convertToInteractive',\n",
              "                                                    [key], {});\n",
              "        if (!dataTable) return;\n",
              "\n",
              "        const docLinkHtml = 'Like what you see? Visit the ' +\n",
              "          '<a target=\"_blank\" href=https://colab.research.google.com/notebooks/data_table.ipynb>data table notebook</a>'\n",
              "          + ' to learn more about interactive tables.';\n",
              "        element.innerHTML = '';\n",
              "        dataTable['output_type'] = 'display_data';\n",
              "        await google.colab.output.renderOutput(dataTable, element);\n",
              "        const docLink = document.createElement('div');\n",
              "        docLink.innerHTML = docLinkHtml;\n",
              "        element.appendChild(docLink);\n",
              "      }\n",
              "    </script>\n",
              "  </div>\n",
              "\n",
              "\n",
              "<div id=\"df-736221bf-b21d-4a2c-8bc6-1495c63b2b44\">\n",
              "  <button class=\"colab-df-quickchart\" onclick=\"quickchart('df-736221bf-b21d-4a2c-8bc6-1495c63b2b44')\"\n",
              "            title=\"Suggest charts.\"\n",
              "            style=\"display:none;\">\n",
              "\n",
              "<svg xmlns=\"http://www.w3.org/2000/svg\" height=\"24px\"viewBox=\"0 0 24 24\"\n",
              "     width=\"24px\">\n",
              "    <g>\n",
              "        <path d=\"M19 3H5c-1.1 0-2 .9-2 2v14c0 1.1.9 2 2 2h14c1.1 0 2-.9 2-2V5c0-1.1-.9-2-2-2zM9 17H7v-7h2v7zm4 0h-2V7h2v10zm4 0h-2v-4h2v4z\"/>\n",
              "    </g>\n",
              "</svg>\n",
              "  </button>\n",
              "\n",
              "<style>\n",
              "  .colab-df-quickchart {\n",
              "      --bg-color: #E8F0FE;\n",
              "      --fill-color: #1967D2;\n",
              "      --hover-bg-color: #E2EBFA;\n",
              "      --hover-fill-color: #174EA6;\n",
              "      --disabled-fill-color: #AAA;\n",
              "      --disabled-bg-color: #DDD;\n",
              "  }\n",
              "\n",
              "  [theme=dark] .colab-df-quickchart {\n",
              "      --bg-color: #3B4455;\n",
              "      --fill-color: #D2E3FC;\n",
              "      --hover-bg-color: #434B5C;\n",
              "      --hover-fill-color: #FFFFFF;\n",
              "      --disabled-bg-color: #3B4455;\n",
              "      --disabled-fill-color: #666;\n",
              "  }\n",
              "\n",
              "  .colab-df-quickchart {\n",
              "    background-color: var(--bg-color);\n",
              "    border: none;\n",
              "    border-radius: 50%;\n",
              "    cursor: pointer;\n",
              "    display: none;\n",
              "    fill: var(--fill-color);\n",
              "    height: 32px;\n",
              "    padding: 0;\n",
              "    width: 32px;\n",
              "  }\n",
              "\n",
              "  .colab-df-quickchart:hover {\n",
              "    background-color: var(--hover-bg-color);\n",
              "    box-shadow: 0 1px 2px rgba(60, 64, 67, 0.3), 0 1px 3px 1px rgba(60, 64, 67, 0.15);\n",
              "    fill: var(--button-hover-fill-color);\n",
              "  }\n",
              "\n",
              "  .colab-df-quickchart-complete:disabled,\n",
              "  .colab-df-quickchart-complete:disabled:hover {\n",
              "    background-color: var(--disabled-bg-color);\n",
              "    fill: var(--disabled-fill-color);\n",
              "    box-shadow: none;\n",
              "  }\n",
              "\n",
              "  .colab-df-spinner {\n",
              "    border: 2px solid var(--fill-color);\n",
              "    border-color: transparent;\n",
              "    border-bottom-color: var(--fill-color);\n",
              "    animation:\n",
              "      spin 1s steps(1) infinite;\n",
              "  }\n",
              "\n",
              "  @keyframes spin {\n",
              "    0% {\n",
              "      border-color: transparent;\n",
              "      border-bottom-color: var(--fill-color);\n",
              "      border-left-color: var(--fill-color);\n",
              "    }\n",
              "    20% {\n",
              "      border-color: transparent;\n",
              "      border-left-color: var(--fill-color);\n",
              "      border-top-color: var(--fill-color);\n",
              "    }\n",
              "    30% {\n",
              "      border-color: transparent;\n",
              "      border-left-color: var(--fill-color);\n",
              "      border-top-color: var(--fill-color);\n",
              "      border-right-color: var(--fill-color);\n",
              "    }\n",
              "    40% {\n",
              "      border-color: transparent;\n",
              "      border-right-color: var(--fill-color);\n",
              "      border-top-color: var(--fill-color);\n",
              "    }\n",
              "    60% {\n",
              "      border-color: transparent;\n",
              "      border-right-color: var(--fill-color);\n",
              "    }\n",
              "    80% {\n",
              "      border-color: transparent;\n",
              "      border-right-color: var(--fill-color);\n",
              "      border-bottom-color: var(--fill-color);\n",
              "    }\n",
              "    90% {\n",
              "      border-color: transparent;\n",
              "      border-bottom-color: var(--fill-color);\n",
              "    }\n",
              "  }\n",
              "</style>\n",
              "\n",
              "  <script>\n",
              "    async function quickchart(key) {\n",
              "      const quickchartButtonEl =\n",
              "        document.querySelector('#' + key + ' button');\n",
              "      quickchartButtonEl.disabled = true;  // To prevent multiple clicks.\n",
              "      quickchartButtonEl.classList.add('colab-df-spinner');\n",
              "      try {\n",
              "        const charts = await google.colab.kernel.invokeFunction(\n",
              "            'suggestCharts', [key], {});\n",
              "      } catch (error) {\n",
              "        console.error('Error during call to suggestCharts:', error);\n",
              "      }\n",
              "      quickchartButtonEl.classList.remove('colab-df-spinner');\n",
              "      quickchartButtonEl.classList.add('colab-df-quickchart-complete');\n",
              "    }\n",
              "    (() => {\n",
              "      let quickchartButtonEl =\n",
              "        document.querySelector('#df-736221bf-b21d-4a2c-8bc6-1495c63b2b44 button');\n",
              "      quickchartButtonEl.style.display =\n",
              "        google.colab.kernel.accessAllowed ? 'block' : 'none';\n",
              "    })();\n",
              "  </script>\n",
              "</div>\n",
              "    </div>\n",
              "  </div>\n"
            ]
          },
          "metadata": {},
          "execution_count": 58
        }
      ],
      "source": [
        "pivot_children = data.pivot_table(index='children', values='debt', aggfunc=['count', 'mean'])\n",
        "pivot_children.reset_index()\n",
        "pivot_children.columns = ['_'.join(col).strip() for col in pivot_children.columns.values]\n",
        "pivot_children = pivot_children.reset_index()\n",
        "pivot_children# Ваш код будет здесь. Вы можете создавать новые ячейкиd"
      ]
    },
    {
      "cell_type": "markdown",
      "id": "23548dda",
      "metadata": {
        "deletable": false,
        "id": "23548dda"
      },
      "source": [
        "**Вывод:** Среди представленных категорий людей по количеству детей для формирования общей картины не принимается категория, имеющая 5 детей, так как для подсчетов она малочислена, что может привести к неточным выводам.\n",
        "Среди оставшихся категорий (без детей, 1 ребенок, 2 ребенка, 3 ребенка и 4 ребенка) наблюдается следующее:\n",
        "- наибольшее количество выданных кредитов у категории людей без детей;\n",
        "- по среднему значению наличия долгов по категориям наименьший показатель у категории людей без детей;\n",
        "- по среднему значению наличия долгов по категориям наибольший показатель у категории людей с 4 детьми.\n",
        "В следствии чего можно увидеть зависимость, что у людей категории с детьми больше риск не вернуть долг вовремя."
      ]
    },
    {
      "cell_type": "markdown",
      "id": "4556262c",
      "metadata": {
        "id": "4556262c"
      },
      "source": [
        "<div class=\"alert alert-danger\">\n",
        "<s><b>Комментарий ревьюера ❌:</b> Сводная таблица сделана верна и расчеты верны, но в выводах есть существенные недочеты:\n",
        "    \n",
        "    - первое предложение не дописано;\n",
        "    - категорию с 5-ю детьми стоит упомянуть только в том контексте, что она слишком малочисленная, чтобы делать какие-то выводы по ней;\n",
        "    - всё-таки доля должников среди заемщиков с детьми стабильно выше, чем у заемщиков без детей, поэтому можно говорить о наличии зависимости."
      ]
    },
    {
      "cell_type": "markdown",
      "id": "4ecf41c4",
      "metadata": {
        "id": "4ecf41c4"
      },
      "source": [
        "<div class=\"alert alert-success\">\n",
        "<b>Комментарий ревьюера 2V ✔️✔️:</b> Отлично, вывод на 5+."
      ]
    },
    {
      "cell_type": "markdown",
      "id": "2067676b",
      "metadata": {
        "deletable": false,
        "editable": false,
        "id": "2067676b"
      },
      "source": [
        "#### 3.2 Есть ли зависимость между семейным положением и возвратом кредита в срок?"
      ]
    },
    {
      "cell_type": "code",
      "execution_count": null,
      "id": "2b736227",
      "metadata": {
        "deletable": false,
        "id": "2b736227",
        "scrolled": true,
        "colab": {
          "base_uri": "https://localhost:8080/",
          "height": 206
        },
        "outputId": "2b0f4197-351f-49f6-9a7e-53920eb187e5"
      },
      "outputs": [
        {
          "output_type": "execute_result",
          "data": {
            "text/plain": [
              "           family_status  count_debt  mean_debt\n",
              "4        женат / замужем       12261   0.075606\n",
              "3       гражданский брак        4134   0.093130\n",
              "0  Не женат / не замужем        2796   0.097639\n",
              "1              в разводе        1189   0.070648\n",
              "2         вдовец / вдова         951   0.066246"
            ],
            "text/html": [
              "\n",
              "  <div id=\"df-d3a80e19-c20e-462a-9a31-355fdc80fe38\" class=\"colab-df-container\">\n",
              "    <div>\n",
              "<style scoped>\n",
              "    .dataframe tbody tr th:only-of-type {\n",
              "        vertical-align: middle;\n",
              "    }\n",
              "\n",
              "    .dataframe tbody tr th {\n",
              "        vertical-align: top;\n",
              "    }\n",
              "\n",
              "    .dataframe thead th {\n",
              "        text-align: right;\n",
              "    }\n",
              "</style>\n",
              "<table border=\"1\" class=\"dataframe\">\n",
              "  <thead>\n",
              "    <tr style=\"text-align: right;\">\n",
              "      <th></th>\n",
              "      <th>family_status</th>\n",
              "      <th>count_debt</th>\n",
              "      <th>mean_debt</th>\n",
              "    </tr>\n",
              "  </thead>\n",
              "  <tbody>\n",
              "    <tr>\n",
              "      <th>4</th>\n",
              "      <td>женат / замужем</td>\n",
              "      <td>12261</td>\n",
              "      <td>0.075606</td>\n",
              "    </tr>\n",
              "    <tr>\n",
              "      <th>3</th>\n",
              "      <td>гражданский брак</td>\n",
              "      <td>4134</td>\n",
              "      <td>0.093130</td>\n",
              "    </tr>\n",
              "    <tr>\n",
              "      <th>0</th>\n",
              "      <td>Не женат / не замужем</td>\n",
              "      <td>2796</td>\n",
              "      <td>0.097639</td>\n",
              "    </tr>\n",
              "    <tr>\n",
              "      <th>1</th>\n",
              "      <td>в разводе</td>\n",
              "      <td>1189</td>\n",
              "      <td>0.070648</td>\n",
              "    </tr>\n",
              "    <tr>\n",
              "      <th>2</th>\n",
              "      <td>вдовец / вдова</td>\n",
              "      <td>951</td>\n",
              "      <td>0.066246</td>\n",
              "    </tr>\n",
              "  </tbody>\n",
              "</table>\n",
              "</div>\n",
              "    <div class=\"colab-df-buttons\">\n",
              "\n",
              "  <div class=\"colab-df-container\">\n",
              "    <button class=\"colab-df-convert\" onclick=\"convertToInteractive('df-d3a80e19-c20e-462a-9a31-355fdc80fe38')\"\n",
              "            title=\"Convert this dataframe to an interactive table.\"\n",
              "            style=\"display:none;\">\n",
              "\n",
              "  <svg xmlns=\"http://www.w3.org/2000/svg\" height=\"24px\" viewBox=\"0 -960 960 960\">\n",
              "    <path d=\"M120-120v-720h720v720H120Zm60-500h600v-160H180v160Zm220 220h160v-160H400v160Zm0 220h160v-160H400v160ZM180-400h160v-160H180v160Zm440 0h160v-160H620v160ZM180-180h160v-160H180v160Zm440 0h160v-160H620v160Z\"/>\n",
              "  </svg>\n",
              "    </button>\n",
              "\n",
              "  <style>\n",
              "    .colab-df-container {\n",
              "      display:flex;\n",
              "      gap: 12px;\n",
              "    }\n",
              "\n",
              "    .colab-df-convert {\n",
              "      background-color: #E8F0FE;\n",
              "      border: none;\n",
              "      border-radius: 50%;\n",
              "      cursor: pointer;\n",
              "      display: none;\n",
              "      fill: #1967D2;\n",
              "      height: 32px;\n",
              "      padding: 0 0 0 0;\n",
              "      width: 32px;\n",
              "    }\n",
              "\n",
              "    .colab-df-convert:hover {\n",
              "      background-color: #E2EBFA;\n",
              "      box-shadow: 0px 1px 2px rgba(60, 64, 67, 0.3), 0px 1px 3px 1px rgba(60, 64, 67, 0.15);\n",
              "      fill: #174EA6;\n",
              "    }\n",
              "\n",
              "    .colab-df-buttons div {\n",
              "      margin-bottom: 4px;\n",
              "    }\n",
              "\n",
              "    [theme=dark] .colab-df-convert {\n",
              "      background-color: #3B4455;\n",
              "      fill: #D2E3FC;\n",
              "    }\n",
              "\n",
              "    [theme=dark] .colab-df-convert:hover {\n",
              "      background-color: #434B5C;\n",
              "      box-shadow: 0px 1px 3px 1px rgba(0, 0, 0, 0.15);\n",
              "      filter: drop-shadow(0px 1px 2px rgba(0, 0, 0, 0.3));\n",
              "      fill: #FFFFFF;\n",
              "    }\n",
              "  </style>\n",
              "\n",
              "    <script>\n",
              "      const buttonEl =\n",
              "        document.querySelector('#df-d3a80e19-c20e-462a-9a31-355fdc80fe38 button.colab-df-convert');\n",
              "      buttonEl.style.display =\n",
              "        google.colab.kernel.accessAllowed ? 'block' : 'none';\n",
              "\n",
              "      async function convertToInteractive(key) {\n",
              "        const element = document.querySelector('#df-d3a80e19-c20e-462a-9a31-355fdc80fe38');\n",
              "        const dataTable =\n",
              "          await google.colab.kernel.invokeFunction('convertToInteractive',\n",
              "                                                    [key], {});\n",
              "        if (!dataTable) return;\n",
              "\n",
              "        const docLinkHtml = 'Like what you see? Visit the ' +\n",
              "          '<a target=\"_blank\" href=https://colab.research.google.com/notebooks/data_table.ipynb>data table notebook</a>'\n",
              "          + ' to learn more about interactive tables.';\n",
              "        element.innerHTML = '';\n",
              "        dataTable['output_type'] = 'display_data';\n",
              "        await google.colab.output.renderOutput(dataTable, element);\n",
              "        const docLink = document.createElement('div');\n",
              "        docLink.innerHTML = docLinkHtml;\n",
              "        element.appendChild(docLink);\n",
              "      }\n",
              "    </script>\n",
              "  </div>\n",
              "\n",
              "\n",
              "<div id=\"df-daece7aa-35b6-4b85-b7e2-30cf986b87e1\">\n",
              "  <button class=\"colab-df-quickchart\" onclick=\"quickchart('df-daece7aa-35b6-4b85-b7e2-30cf986b87e1')\"\n",
              "            title=\"Suggest charts.\"\n",
              "            style=\"display:none;\">\n",
              "\n",
              "<svg xmlns=\"http://www.w3.org/2000/svg\" height=\"24px\"viewBox=\"0 0 24 24\"\n",
              "     width=\"24px\">\n",
              "    <g>\n",
              "        <path d=\"M19 3H5c-1.1 0-2 .9-2 2v14c0 1.1.9 2 2 2h14c1.1 0 2-.9 2-2V5c0-1.1-.9-2-2-2zM9 17H7v-7h2v7zm4 0h-2V7h2v10zm4 0h-2v-4h2v4z\"/>\n",
              "    </g>\n",
              "</svg>\n",
              "  </button>\n",
              "\n",
              "<style>\n",
              "  .colab-df-quickchart {\n",
              "      --bg-color: #E8F0FE;\n",
              "      --fill-color: #1967D2;\n",
              "      --hover-bg-color: #E2EBFA;\n",
              "      --hover-fill-color: #174EA6;\n",
              "      --disabled-fill-color: #AAA;\n",
              "      --disabled-bg-color: #DDD;\n",
              "  }\n",
              "\n",
              "  [theme=dark] .colab-df-quickchart {\n",
              "      --bg-color: #3B4455;\n",
              "      --fill-color: #D2E3FC;\n",
              "      --hover-bg-color: #434B5C;\n",
              "      --hover-fill-color: #FFFFFF;\n",
              "      --disabled-bg-color: #3B4455;\n",
              "      --disabled-fill-color: #666;\n",
              "  }\n",
              "\n",
              "  .colab-df-quickchart {\n",
              "    background-color: var(--bg-color);\n",
              "    border: none;\n",
              "    border-radius: 50%;\n",
              "    cursor: pointer;\n",
              "    display: none;\n",
              "    fill: var(--fill-color);\n",
              "    height: 32px;\n",
              "    padding: 0;\n",
              "    width: 32px;\n",
              "  }\n",
              "\n",
              "  .colab-df-quickchart:hover {\n",
              "    background-color: var(--hover-bg-color);\n",
              "    box-shadow: 0 1px 2px rgba(60, 64, 67, 0.3), 0 1px 3px 1px rgba(60, 64, 67, 0.15);\n",
              "    fill: var(--button-hover-fill-color);\n",
              "  }\n",
              "\n",
              "  .colab-df-quickchart-complete:disabled,\n",
              "  .colab-df-quickchart-complete:disabled:hover {\n",
              "    background-color: var(--disabled-bg-color);\n",
              "    fill: var(--disabled-fill-color);\n",
              "    box-shadow: none;\n",
              "  }\n",
              "\n",
              "  .colab-df-spinner {\n",
              "    border: 2px solid var(--fill-color);\n",
              "    border-color: transparent;\n",
              "    border-bottom-color: var(--fill-color);\n",
              "    animation:\n",
              "      spin 1s steps(1) infinite;\n",
              "  }\n",
              "\n",
              "  @keyframes spin {\n",
              "    0% {\n",
              "      border-color: transparent;\n",
              "      border-bottom-color: var(--fill-color);\n",
              "      border-left-color: var(--fill-color);\n",
              "    }\n",
              "    20% {\n",
              "      border-color: transparent;\n",
              "      border-left-color: var(--fill-color);\n",
              "      border-top-color: var(--fill-color);\n",
              "    }\n",
              "    30% {\n",
              "      border-color: transparent;\n",
              "      border-left-color: var(--fill-color);\n",
              "      border-top-color: var(--fill-color);\n",
              "      border-right-color: var(--fill-color);\n",
              "    }\n",
              "    40% {\n",
              "      border-color: transparent;\n",
              "      border-right-color: var(--fill-color);\n",
              "      border-top-color: var(--fill-color);\n",
              "    }\n",
              "    60% {\n",
              "      border-color: transparent;\n",
              "      border-right-color: var(--fill-color);\n",
              "    }\n",
              "    80% {\n",
              "      border-color: transparent;\n",
              "      border-right-color: var(--fill-color);\n",
              "      border-bottom-color: var(--fill-color);\n",
              "    }\n",
              "    90% {\n",
              "      border-color: transparent;\n",
              "      border-bottom-color: var(--fill-color);\n",
              "    }\n",
              "  }\n",
              "</style>\n",
              "\n",
              "  <script>\n",
              "    async function quickchart(key) {\n",
              "      const quickchartButtonEl =\n",
              "        document.querySelector('#' + key + ' button');\n",
              "      quickchartButtonEl.disabled = true;  // To prevent multiple clicks.\n",
              "      quickchartButtonEl.classList.add('colab-df-spinner');\n",
              "      try {\n",
              "        const charts = await google.colab.kernel.invokeFunction(\n",
              "            'suggestCharts', [key], {});\n",
              "      } catch (error) {\n",
              "        console.error('Error during call to suggestCharts:', error);\n",
              "      }\n",
              "      quickchartButtonEl.classList.remove('colab-df-spinner');\n",
              "      quickchartButtonEl.classList.add('colab-df-quickchart-complete');\n",
              "    }\n",
              "    (() => {\n",
              "      let quickchartButtonEl =\n",
              "        document.querySelector('#df-daece7aa-35b6-4b85-b7e2-30cf986b87e1 button');\n",
              "      quickchartButtonEl.style.display =\n",
              "        google.colab.kernel.accessAllowed ? 'block' : 'none';\n",
              "    })();\n",
              "  </script>\n",
              "</div>\n",
              "    </div>\n",
              "  </div>\n"
            ]
          },
          "metadata": {},
          "execution_count": 59
        }
      ],
      "source": [
        "pivot_family_status = data.pivot_table(index='family_status', values='debt', aggfunc=['count', 'mean'])\n",
        "pivot_family_status.reset_index()\n",
        "pivot_family_status.columns = ['_'.join(col).strip() for col in pivot_family_status.columns.values]\n",
        "pivot_family_status = pivot_family_status.reset_index()\n",
        "pivot_family_status.sort_values(by='count_debt', ascending=False)# Ваш код будет здесь. Вы можете создавать новые ячейки."
      ]
    },
    {
      "cell_type": "markdown",
      "id": "44afab2a",
      "metadata": {
        "deletable": false,
        "id": "44afab2a"
      },
      "source": [
        "**Вывод:**\n",
        "- Наибольшее количество выданных кредитов у людей со статусом \"женат/замужем\".\n",
        "- Наименьшее количество выданных кредитов у людей со статусом \"вдовец/вдова\".\n",
        "- Наибольшее количество должников в категории людей со статусом \"не женат/не замужем\".\n",
        "- Наименьше количество должников в категории людей со статусом \"вдовец/вдова\".\n",
        "\n",
        "Для корректного формирования вывода возьмем категории \"женат/замужем\" (наибольшее количество кредитов) и \"не женат/не замужем\" (наибольшее количество должников). Разница в выданных кредитах составляет практически в 5,5 раз, при этом на наименьшее количество кредитов в категории \"не женат/не замужем\" должников в процентном соотношении на 20% больше чем в категории \"не женат/не замужем\" и практически достигает 100%.\n",
        "\n",
        "В следствии чего можно сделать вывод о зависимости семейного положения на вовзрат долга вовремя, категория \"не женат/не замужем\" более подвержена риску."
      ]
    },
    {
      "cell_type": "markdown",
      "id": "204066d8",
      "metadata": {
        "id": "204066d8"
      },
      "source": [
        "<div class=\"alert alert-danger\">\n",
        "<s><b>Комментарий ревьюера ❌:</b> Сводная таблица сделана правильно и расчеты верны. Но подход к сравнению долей не верный.Разница в 1-2 сотых не должна вводить в заблуждение своим малым размером.  Если взять долю холостых должников (0.0976) за 100% и сравнить с долей должников в браке (0.0765), то разница между ними более 20%. Это существенная разница. А для нашего заказчика - банка, на миллиардном кредитном портфеле, разница даже в 1 - 2% просрочки между категориями будет существенна."
      ]
    },
    {
      "cell_type": "markdown",
      "id": "0a94a74a",
      "metadata": {
        "id": "0a94a74a"
      },
      "source": [
        "<div class=\"alert alert-success\">\n",
        "<b>Комментарий ревьюера 2V ✔️✔️:</b> и здесь вывод радикально улучшился, спасибо :)"
      ]
    },
    {
      "cell_type": "markdown",
      "id": "3831e228",
      "metadata": {
        "deletable": false,
        "editable": false,
        "id": "3831e228"
      },
      "source": [
        "#### 3.3 Есть ли зависимость между уровнем дохода и возвратом кредита в срок?"
      ]
    },
    {
      "cell_type": "code",
      "execution_count": null,
      "id": "9def9939",
      "metadata": {
        "deletable": false,
        "id": "9def9939",
        "scrolled": true,
        "colab": {
          "base_uri": "https://localhost:8080/",
          "height": 206
        },
        "outputId": "341b1a80-503d-4a4a-8d7d-1facf06887df"
      },
      "outputs": [
        {
          "output_type": "execute_result",
          "data": {
            "text/plain": [
              "  total_income_category  sum_total_income  count_total_income  \\\n",
              "0                     A          33477949                  25   \n",
              "1                     B        1437226770                5014   \n",
              "2                     C        2040674672               15921   \n",
              "3                     D          14979233                 349   \n",
              "4                     E            567486                  22   \n",
              "\n",
              "   median_total_income  \n",
              "0              1223042  \n",
              "1               257558  \n",
              "2               130355  \n",
              "3                43929  \n",
              "4                26431  "
            ],
            "text/html": [
              "\n",
              "  <div id=\"df-83d02edd-2059-471f-9907-78551a44d1be\" class=\"colab-df-container\">\n",
              "    <div>\n",
              "<style scoped>\n",
              "    .dataframe tbody tr th:only-of-type {\n",
              "        vertical-align: middle;\n",
              "    }\n",
              "\n",
              "    .dataframe tbody tr th {\n",
              "        vertical-align: top;\n",
              "    }\n",
              "\n",
              "    .dataframe thead th {\n",
              "        text-align: right;\n",
              "    }\n",
              "</style>\n",
              "<table border=\"1\" class=\"dataframe\">\n",
              "  <thead>\n",
              "    <tr style=\"text-align: right;\">\n",
              "      <th></th>\n",
              "      <th>total_income_category</th>\n",
              "      <th>sum_total_income</th>\n",
              "      <th>count_total_income</th>\n",
              "      <th>median_total_income</th>\n",
              "    </tr>\n",
              "  </thead>\n",
              "  <tbody>\n",
              "    <tr>\n",
              "      <th>0</th>\n",
              "      <td>A</td>\n",
              "      <td>33477949</td>\n",
              "      <td>25</td>\n",
              "      <td>1223042</td>\n",
              "    </tr>\n",
              "    <tr>\n",
              "      <th>1</th>\n",
              "      <td>B</td>\n",
              "      <td>1437226770</td>\n",
              "      <td>5014</td>\n",
              "      <td>257558</td>\n",
              "    </tr>\n",
              "    <tr>\n",
              "      <th>2</th>\n",
              "      <td>C</td>\n",
              "      <td>2040674672</td>\n",
              "      <td>15921</td>\n",
              "      <td>130355</td>\n",
              "    </tr>\n",
              "    <tr>\n",
              "      <th>3</th>\n",
              "      <td>D</td>\n",
              "      <td>14979233</td>\n",
              "      <td>349</td>\n",
              "      <td>43929</td>\n",
              "    </tr>\n",
              "    <tr>\n",
              "      <th>4</th>\n",
              "      <td>E</td>\n",
              "      <td>567486</td>\n",
              "      <td>22</td>\n",
              "      <td>26431</td>\n",
              "    </tr>\n",
              "  </tbody>\n",
              "</table>\n",
              "</div>\n",
              "    <div class=\"colab-df-buttons\">\n",
              "\n",
              "  <div class=\"colab-df-container\">\n",
              "    <button class=\"colab-df-convert\" onclick=\"convertToInteractive('df-83d02edd-2059-471f-9907-78551a44d1be')\"\n",
              "            title=\"Convert this dataframe to an interactive table.\"\n",
              "            style=\"display:none;\">\n",
              "\n",
              "  <svg xmlns=\"http://www.w3.org/2000/svg\" height=\"24px\" viewBox=\"0 -960 960 960\">\n",
              "    <path d=\"M120-120v-720h720v720H120Zm60-500h600v-160H180v160Zm220 220h160v-160H400v160Zm0 220h160v-160H400v160ZM180-400h160v-160H180v160Zm440 0h160v-160H620v160ZM180-180h160v-160H180v160Zm440 0h160v-160H620v160Z\"/>\n",
              "  </svg>\n",
              "    </button>\n",
              "\n",
              "  <style>\n",
              "    .colab-df-container {\n",
              "      display:flex;\n",
              "      gap: 12px;\n",
              "    }\n",
              "\n",
              "    .colab-df-convert {\n",
              "      background-color: #E8F0FE;\n",
              "      border: none;\n",
              "      border-radius: 50%;\n",
              "      cursor: pointer;\n",
              "      display: none;\n",
              "      fill: #1967D2;\n",
              "      height: 32px;\n",
              "      padding: 0 0 0 0;\n",
              "      width: 32px;\n",
              "    }\n",
              "\n",
              "    .colab-df-convert:hover {\n",
              "      background-color: #E2EBFA;\n",
              "      box-shadow: 0px 1px 2px rgba(60, 64, 67, 0.3), 0px 1px 3px 1px rgba(60, 64, 67, 0.15);\n",
              "      fill: #174EA6;\n",
              "    }\n",
              "\n",
              "    .colab-df-buttons div {\n",
              "      margin-bottom: 4px;\n",
              "    }\n",
              "\n",
              "    [theme=dark] .colab-df-convert {\n",
              "      background-color: #3B4455;\n",
              "      fill: #D2E3FC;\n",
              "    }\n",
              "\n",
              "    [theme=dark] .colab-df-convert:hover {\n",
              "      background-color: #434B5C;\n",
              "      box-shadow: 0px 1px 3px 1px rgba(0, 0, 0, 0.15);\n",
              "      filter: drop-shadow(0px 1px 2px rgba(0, 0, 0, 0.3));\n",
              "      fill: #FFFFFF;\n",
              "    }\n",
              "  </style>\n",
              "\n",
              "    <script>\n",
              "      const buttonEl =\n",
              "        document.querySelector('#df-83d02edd-2059-471f-9907-78551a44d1be button.colab-df-convert');\n",
              "      buttonEl.style.display =\n",
              "        google.colab.kernel.accessAllowed ? 'block' : 'none';\n",
              "\n",
              "      async function convertToInteractive(key) {\n",
              "        const element = document.querySelector('#df-83d02edd-2059-471f-9907-78551a44d1be');\n",
              "        const dataTable =\n",
              "          await google.colab.kernel.invokeFunction('convertToInteractive',\n",
              "                                                    [key], {});\n",
              "        if (!dataTable) return;\n",
              "\n",
              "        const docLinkHtml = 'Like what you see? Visit the ' +\n",
              "          '<a target=\"_blank\" href=https://colab.research.google.com/notebooks/data_table.ipynb>data table notebook</a>'\n",
              "          + ' to learn more about interactive tables.';\n",
              "        element.innerHTML = '';\n",
              "        dataTable['output_type'] = 'display_data';\n",
              "        await google.colab.output.renderOutput(dataTable, element);\n",
              "        const docLink = document.createElement('div');\n",
              "        docLink.innerHTML = docLinkHtml;\n",
              "        element.appendChild(docLink);\n",
              "      }\n",
              "    </script>\n",
              "  </div>\n",
              "\n",
              "\n",
              "<div id=\"df-168751b5-b201-428a-8f75-6b6d7a08c83b\">\n",
              "  <button class=\"colab-df-quickchart\" onclick=\"quickchart('df-168751b5-b201-428a-8f75-6b6d7a08c83b')\"\n",
              "            title=\"Suggest charts.\"\n",
              "            style=\"display:none;\">\n",
              "\n",
              "<svg xmlns=\"http://www.w3.org/2000/svg\" height=\"24px\"viewBox=\"0 0 24 24\"\n",
              "     width=\"24px\">\n",
              "    <g>\n",
              "        <path d=\"M19 3H5c-1.1 0-2 .9-2 2v14c0 1.1.9 2 2 2h14c1.1 0 2-.9 2-2V5c0-1.1-.9-2-2-2zM9 17H7v-7h2v7zm4 0h-2V7h2v10zm4 0h-2v-4h2v4z\"/>\n",
              "    </g>\n",
              "</svg>\n",
              "  </button>\n",
              "\n",
              "<style>\n",
              "  .colab-df-quickchart {\n",
              "      --bg-color: #E8F0FE;\n",
              "      --fill-color: #1967D2;\n",
              "      --hover-bg-color: #E2EBFA;\n",
              "      --hover-fill-color: #174EA6;\n",
              "      --disabled-fill-color: #AAA;\n",
              "      --disabled-bg-color: #DDD;\n",
              "  }\n",
              "\n",
              "  [theme=dark] .colab-df-quickchart {\n",
              "      --bg-color: #3B4455;\n",
              "      --fill-color: #D2E3FC;\n",
              "      --hover-bg-color: #434B5C;\n",
              "      --hover-fill-color: #FFFFFF;\n",
              "      --disabled-bg-color: #3B4455;\n",
              "      --disabled-fill-color: #666;\n",
              "  }\n",
              "\n",
              "  .colab-df-quickchart {\n",
              "    background-color: var(--bg-color);\n",
              "    border: none;\n",
              "    border-radius: 50%;\n",
              "    cursor: pointer;\n",
              "    display: none;\n",
              "    fill: var(--fill-color);\n",
              "    height: 32px;\n",
              "    padding: 0;\n",
              "    width: 32px;\n",
              "  }\n",
              "\n",
              "  .colab-df-quickchart:hover {\n",
              "    background-color: var(--hover-bg-color);\n",
              "    box-shadow: 0 1px 2px rgba(60, 64, 67, 0.3), 0 1px 3px 1px rgba(60, 64, 67, 0.15);\n",
              "    fill: var(--button-hover-fill-color);\n",
              "  }\n",
              "\n",
              "  .colab-df-quickchart-complete:disabled,\n",
              "  .colab-df-quickchart-complete:disabled:hover {\n",
              "    background-color: var(--disabled-bg-color);\n",
              "    fill: var(--disabled-fill-color);\n",
              "    box-shadow: none;\n",
              "  }\n",
              "\n",
              "  .colab-df-spinner {\n",
              "    border: 2px solid var(--fill-color);\n",
              "    border-color: transparent;\n",
              "    border-bottom-color: var(--fill-color);\n",
              "    animation:\n",
              "      spin 1s steps(1) infinite;\n",
              "  }\n",
              "\n",
              "  @keyframes spin {\n",
              "    0% {\n",
              "      border-color: transparent;\n",
              "      border-bottom-color: var(--fill-color);\n",
              "      border-left-color: var(--fill-color);\n",
              "    }\n",
              "    20% {\n",
              "      border-color: transparent;\n",
              "      border-left-color: var(--fill-color);\n",
              "      border-top-color: var(--fill-color);\n",
              "    }\n",
              "    30% {\n",
              "      border-color: transparent;\n",
              "      border-left-color: var(--fill-color);\n",
              "      border-top-color: var(--fill-color);\n",
              "      border-right-color: var(--fill-color);\n",
              "    }\n",
              "    40% {\n",
              "      border-color: transparent;\n",
              "      border-right-color: var(--fill-color);\n",
              "      border-top-color: var(--fill-color);\n",
              "    }\n",
              "    60% {\n",
              "      border-color: transparent;\n",
              "      border-right-color: var(--fill-color);\n",
              "    }\n",
              "    80% {\n",
              "      border-color: transparent;\n",
              "      border-right-color: var(--fill-color);\n",
              "      border-bottom-color: var(--fill-color);\n",
              "    }\n",
              "    90% {\n",
              "      border-color: transparent;\n",
              "      border-bottom-color: var(--fill-color);\n",
              "    }\n",
              "  }\n",
              "</style>\n",
              "\n",
              "  <script>\n",
              "    async function quickchart(key) {\n",
              "      const quickchartButtonEl =\n",
              "        document.querySelector('#' + key + ' button');\n",
              "      quickchartButtonEl.disabled = true;  // To prevent multiple clicks.\n",
              "      quickchartButtonEl.classList.add('colab-df-spinner');\n",
              "      try {\n",
              "        const charts = await google.colab.kernel.invokeFunction(\n",
              "            'suggestCharts', [key], {});\n",
              "      } catch (error) {\n",
              "        console.error('Error during call to suggestCharts:', error);\n",
              "      }\n",
              "      quickchartButtonEl.classList.remove('colab-df-spinner');\n",
              "      quickchartButtonEl.classList.add('colab-df-quickchart-complete');\n",
              "    }\n",
              "    (() => {\n",
              "      let quickchartButtonEl =\n",
              "        document.querySelector('#df-168751b5-b201-428a-8f75-6b6d7a08c83b button');\n",
              "      quickchartButtonEl.style.display =\n",
              "        google.colab.kernel.accessAllowed ? 'block' : 'none';\n",
              "    })();\n",
              "  </script>\n",
              "</div>\n",
              "    </div>\n",
              "  </div>\n"
            ]
          },
          "metadata": {},
          "execution_count": 60
        }
      ],
      "source": [
        "# формируем сводную таблицу по каждой категории уровня дохода с суммарными показателями дохода, количеством людей по каждой\n",
        "# категории и с медианным значением по уровню дохода на кажду категорию\n",
        "pivot_income_category = data.pivot_table(index='total_income_category', values='total_income', aggfunc=['sum', 'count', 'median'])\n",
        "pivot_income_category.reset_index()\n",
        "pivot_income_category.columns = ['_'.join(col).strip() for col in pivot_income_category.columns.values]\n",
        "pivot_income_category = pivot_income_category.reset_index()\n",
        "pivot_income_category# Ваш код будет здесь. Вы можете создавать новые ячейки."
      ]
    },
    {
      "cell_type": "code",
      "execution_count": null,
      "id": "0fd9bd2b",
      "metadata": {
        "colab": {
          "base_uri": "https://localhost:8080/",
          "height": 206
        },
        "id": "0fd9bd2b",
        "outputId": "eb9152e9-e492-402c-ee7d-aa41e91eef4d"
      },
      "outputs": [
        {
          "output_type": "execute_result",
          "data": {
            "text/plain": [
              "  total_income_category  mean_debt\n",
              "0                     A   0.080000\n",
              "1                     B   0.070602\n",
              "2                     C   0.084982\n",
              "3                     D   0.060172\n",
              "4                     E   0.090909"
            ],
            "text/html": [
              "\n",
              "  <div id=\"df-7f0da44a-2c64-4641-9743-50225db1e46b\" class=\"colab-df-container\">\n",
              "    <div>\n",
              "<style scoped>\n",
              "    .dataframe tbody tr th:only-of-type {\n",
              "        vertical-align: middle;\n",
              "    }\n",
              "\n",
              "    .dataframe tbody tr th {\n",
              "        vertical-align: top;\n",
              "    }\n",
              "\n",
              "    .dataframe thead th {\n",
              "        text-align: right;\n",
              "    }\n",
              "</style>\n",
              "<table border=\"1\" class=\"dataframe\">\n",
              "  <thead>\n",
              "    <tr style=\"text-align: right;\">\n",
              "      <th></th>\n",
              "      <th>total_income_category</th>\n",
              "      <th>mean_debt</th>\n",
              "    </tr>\n",
              "  </thead>\n",
              "  <tbody>\n",
              "    <tr>\n",
              "      <th>0</th>\n",
              "      <td>A</td>\n",
              "      <td>0.080000</td>\n",
              "    </tr>\n",
              "    <tr>\n",
              "      <th>1</th>\n",
              "      <td>B</td>\n",
              "      <td>0.070602</td>\n",
              "    </tr>\n",
              "    <tr>\n",
              "      <th>2</th>\n",
              "      <td>C</td>\n",
              "      <td>0.084982</td>\n",
              "    </tr>\n",
              "    <tr>\n",
              "      <th>3</th>\n",
              "      <td>D</td>\n",
              "      <td>0.060172</td>\n",
              "    </tr>\n",
              "    <tr>\n",
              "      <th>4</th>\n",
              "      <td>E</td>\n",
              "      <td>0.090909</td>\n",
              "    </tr>\n",
              "  </tbody>\n",
              "</table>\n",
              "</div>\n",
              "    <div class=\"colab-df-buttons\">\n",
              "\n",
              "  <div class=\"colab-df-container\">\n",
              "    <button class=\"colab-df-convert\" onclick=\"convertToInteractive('df-7f0da44a-2c64-4641-9743-50225db1e46b')\"\n",
              "            title=\"Convert this dataframe to an interactive table.\"\n",
              "            style=\"display:none;\">\n",
              "\n",
              "  <svg xmlns=\"http://www.w3.org/2000/svg\" height=\"24px\" viewBox=\"0 -960 960 960\">\n",
              "    <path d=\"M120-120v-720h720v720H120Zm60-500h600v-160H180v160Zm220 220h160v-160H400v160Zm0 220h160v-160H400v160ZM180-400h160v-160H180v160Zm440 0h160v-160H620v160ZM180-180h160v-160H180v160Zm440 0h160v-160H620v160Z\"/>\n",
              "  </svg>\n",
              "    </button>\n",
              "\n",
              "  <style>\n",
              "    .colab-df-container {\n",
              "      display:flex;\n",
              "      gap: 12px;\n",
              "    }\n",
              "\n",
              "    .colab-df-convert {\n",
              "      background-color: #E8F0FE;\n",
              "      border: none;\n",
              "      border-radius: 50%;\n",
              "      cursor: pointer;\n",
              "      display: none;\n",
              "      fill: #1967D2;\n",
              "      height: 32px;\n",
              "      padding: 0 0 0 0;\n",
              "      width: 32px;\n",
              "    }\n",
              "\n",
              "    .colab-df-convert:hover {\n",
              "      background-color: #E2EBFA;\n",
              "      box-shadow: 0px 1px 2px rgba(60, 64, 67, 0.3), 0px 1px 3px 1px rgba(60, 64, 67, 0.15);\n",
              "      fill: #174EA6;\n",
              "    }\n",
              "\n",
              "    .colab-df-buttons div {\n",
              "      margin-bottom: 4px;\n",
              "    }\n",
              "\n",
              "    [theme=dark] .colab-df-convert {\n",
              "      background-color: #3B4455;\n",
              "      fill: #D2E3FC;\n",
              "    }\n",
              "\n",
              "    [theme=dark] .colab-df-convert:hover {\n",
              "      background-color: #434B5C;\n",
              "      box-shadow: 0px 1px 3px 1px rgba(0, 0, 0, 0.15);\n",
              "      filter: drop-shadow(0px 1px 2px rgba(0, 0, 0, 0.3));\n",
              "      fill: #FFFFFF;\n",
              "    }\n",
              "  </style>\n",
              "\n",
              "    <script>\n",
              "      const buttonEl =\n",
              "        document.querySelector('#df-7f0da44a-2c64-4641-9743-50225db1e46b button.colab-df-convert');\n",
              "      buttonEl.style.display =\n",
              "        google.colab.kernel.accessAllowed ? 'block' : 'none';\n",
              "\n",
              "      async function convertToInteractive(key) {\n",
              "        const element = document.querySelector('#df-7f0da44a-2c64-4641-9743-50225db1e46b');\n",
              "        const dataTable =\n",
              "          await google.colab.kernel.invokeFunction('convertToInteractive',\n",
              "                                                    [key], {});\n",
              "        if (!dataTable) return;\n",
              "\n",
              "        const docLinkHtml = 'Like what you see? Visit the ' +\n",
              "          '<a target=\"_blank\" href=https://colab.research.google.com/notebooks/data_table.ipynb>data table notebook</a>'\n",
              "          + ' to learn more about interactive tables.';\n",
              "        element.innerHTML = '';\n",
              "        dataTable['output_type'] = 'display_data';\n",
              "        await google.colab.output.renderOutput(dataTable, element);\n",
              "        const docLink = document.createElement('div');\n",
              "        docLink.innerHTML = docLinkHtml;\n",
              "        element.appendChild(docLink);\n",
              "      }\n",
              "    </script>\n",
              "  </div>\n",
              "\n",
              "\n",
              "<div id=\"df-3e1100c3-b46e-46a8-a291-cd4f8cacf554\">\n",
              "  <button class=\"colab-df-quickchart\" onclick=\"quickchart('df-3e1100c3-b46e-46a8-a291-cd4f8cacf554')\"\n",
              "            title=\"Suggest charts.\"\n",
              "            style=\"display:none;\">\n",
              "\n",
              "<svg xmlns=\"http://www.w3.org/2000/svg\" height=\"24px\"viewBox=\"0 0 24 24\"\n",
              "     width=\"24px\">\n",
              "    <g>\n",
              "        <path d=\"M19 3H5c-1.1 0-2 .9-2 2v14c0 1.1.9 2 2 2h14c1.1 0 2-.9 2-2V5c0-1.1-.9-2-2-2zM9 17H7v-7h2v7zm4 0h-2V7h2v10zm4 0h-2v-4h2v4z\"/>\n",
              "    </g>\n",
              "</svg>\n",
              "  </button>\n",
              "\n",
              "<style>\n",
              "  .colab-df-quickchart {\n",
              "      --bg-color: #E8F0FE;\n",
              "      --fill-color: #1967D2;\n",
              "      --hover-bg-color: #E2EBFA;\n",
              "      --hover-fill-color: #174EA6;\n",
              "      --disabled-fill-color: #AAA;\n",
              "      --disabled-bg-color: #DDD;\n",
              "  }\n",
              "\n",
              "  [theme=dark] .colab-df-quickchart {\n",
              "      --bg-color: #3B4455;\n",
              "      --fill-color: #D2E3FC;\n",
              "      --hover-bg-color: #434B5C;\n",
              "      --hover-fill-color: #FFFFFF;\n",
              "      --disabled-bg-color: #3B4455;\n",
              "      --disabled-fill-color: #666;\n",
              "  }\n",
              "\n",
              "  .colab-df-quickchart {\n",
              "    background-color: var(--bg-color);\n",
              "    border: none;\n",
              "    border-radius: 50%;\n",
              "    cursor: pointer;\n",
              "    display: none;\n",
              "    fill: var(--fill-color);\n",
              "    height: 32px;\n",
              "    padding: 0;\n",
              "    width: 32px;\n",
              "  }\n",
              "\n",
              "  .colab-df-quickchart:hover {\n",
              "    background-color: var(--hover-bg-color);\n",
              "    box-shadow: 0 1px 2px rgba(60, 64, 67, 0.3), 0 1px 3px 1px rgba(60, 64, 67, 0.15);\n",
              "    fill: var(--button-hover-fill-color);\n",
              "  }\n",
              "\n",
              "  .colab-df-quickchart-complete:disabled,\n",
              "  .colab-df-quickchart-complete:disabled:hover {\n",
              "    background-color: var(--disabled-bg-color);\n",
              "    fill: var(--disabled-fill-color);\n",
              "    box-shadow: none;\n",
              "  }\n",
              "\n",
              "  .colab-df-spinner {\n",
              "    border: 2px solid var(--fill-color);\n",
              "    border-color: transparent;\n",
              "    border-bottom-color: var(--fill-color);\n",
              "    animation:\n",
              "      spin 1s steps(1) infinite;\n",
              "  }\n",
              "\n",
              "  @keyframes spin {\n",
              "    0% {\n",
              "      border-color: transparent;\n",
              "      border-bottom-color: var(--fill-color);\n",
              "      border-left-color: var(--fill-color);\n",
              "    }\n",
              "    20% {\n",
              "      border-color: transparent;\n",
              "      border-left-color: var(--fill-color);\n",
              "      border-top-color: var(--fill-color);\n",
              "    }\n",
              "    30% {\n",
              "      border-color: transparent;\n",
              "      border-left-color: var(--fill-color);\n",
              "      border-top-color: var(--fill-color);\n",
              "      border-right-color: var(--fill-color);\n",
              "    }\n",
              "    40% {\n",
              "      border-color: transparent;\n",
              "      border-right-color: var(--fill-color);\n",
              "      border-top-color: var(--fill-color);\n",
              "    }\n",
              "    60% {\n",
              "      border-color: transparent;\n",
              "      border-right-color: var(--fill-color);\n",
              "    }\n",
              "    80% {\n",
              "      border-color: transparent;\n",
              "      border-right-color: var(--fill-color);\n",
              "      border-bottom-color: var(--fill-color);\n",
              "    }\n",
              "    90% {\n",
              "      border-color: transparent;\n",
              "      border-bottom-color: var(--fill-color);\n",
              "    }\n",
              "  }\n",
              "</style>\n",
              "\n",
              "  <script>\n",
              "    async function quickchart(key) {\n",
              "      const quickchartButtonEl =\n",
              "        document.querySelector('#' + key + ' button');\n",
              "      quickchartButtonEl.disabled = true;  // To prevent multiple clicks.\n",
              "      quickchartButtonEl.classList.add('colab-df-spinner');\n",
              "      try {\n",
              "        const charts = await google.colab.kernel.invokeFunction(\n",
              "            'suggestCharts', [key], {});\n",
              "      } catch (error) {\n",
              "        console.error('Error during call to suggestCharts:', error);\n",
              "      }\n",
              "      quickchartButtonEl.classList.remove('colab-df-spinner');\n",
              "      quickchartButtonEl.classList.add('colab-df-quickchart-complete');\n",
              "    }\n",
              "    (() => {\n",
              "      let quickchartButtonEl =\n",
              "        document.querySelector('#df-3e1100c3-b46e-46a8-a291-cd4f8cacf554 button');\n",
              "      quickchartButtonEl.style.display =\n",
              "        google.colab.kernel.accessAllowed ? 'block' : 'none';\n",
              "    })();\n",
              "  </script>\n",
              "</div>\n",
              "    </div>\n",
              "  </div>\n"
            ]
          },
          "metadata": {},
          "execution_count": 61
        }
      ],
      "source": [
        "# формируем сводную таблицу по каждой категории уровня дохода со средним показателем наличия долга\n",
        "pivot_income_category_debt = data.pivot_table(index='total_income_category', values='debt', aggfunc=['mean'])\n",
        "pivot_income_category_debt.reset_index()\n",
        "pivot_income_category_debt.columns = ['_'.join(col).strip() for col in pivot_income_category_debt.columns.values]\n",
        "pivot_income_category_debt = pivot_income_category_debt.reset_index()\n",
        "pivot_income_category_debt"
      ]
    },
    {
      "cell_type": "code",
      "execution_count": null,
      "id": "f9236c84",
      "metadata": {
        "colab": {
          "base_uri": "https://localhost:8080/",
          "height": 206
        },
        "id": "f9236c84",
        "outputId": "d6e9dabe-32fc-43af-f536-d0297fbed1aa"
      },
      "outputs": [
        {
          "output_type": "execute_result",
          "data": {
            "text/plain": [
              "  total_income_category  sum_total_income  count_total_income  \\\n",
              "0                     A          33477949                  25   \n",
              "1                     B        1437226770                5014   \n",
              "2                     C        2040674672               15921   \n",
              "3                     D          14979233                 349   \n",
              "4                     E            567486                  22   \n",
              "\n",
              "   median_total_income  mean_debt  \n",
              "0              1223042   0.080000  \n",
              "1               257558   0.070602  \n",
              "2               130355   0.084982  \n",
              "3                43929   0.060172  \n",
              "4                26431   0.090909  "
            ],
            "text/html": [
              "\n",
              "  <div id=\"df-3c4b805f-a248-431c-ad9a-453ac6f80757\" class=\"colab-df-container\">\n",
              "    <div>\n",
              "<style scoped>\n",
              "    .dataframe tbody tr th:only-of-type {\n",
              "        vertical-align: middle;\n",
              "    }\n",
              "\n",
              "    .dataframe tbody tr th {\n",
              "        vertical-align: top;\n",
              "    }\n",
              "\n",
              "    .dataframe thead th {\n",
              "        text-align: right;\n",
              "    }\n",
              "</style>\n",
              "<table border=\"1\" class=\"dataframe\">\n",
              "  <thead>\n",
              "    <tr style=\"text-align: right;\">\n",
              "      <th></th>\n",
              "      <th>total_income_category</th>\n",
              "      <th>sum_total_income</th>\n",
              "      <th>count_total_income</th>\n",
              "      <th>median_total_income</th>\n",
              "      <th>mean_debt</th>\n",
              "    </tr>\n",
              "  </thead>\n",
              "  <tbody>\n",
              "    <tr>\n",
              "      <th>0</th>\n",
              "      <td>A</td>\n",
              "      <td>33477949</td>\n",
              "      <td>25</td>\n",
              "      <td>1223042</td>\n",
              "      <td>0.080000</td>\n",
              "    </tr>\n",
              "    <tr>\n",
              "      <th>1</th>\n",
              "      <td>B</td>\n",
              "      <td>1437226770</td>\n",
              "      <td>5014</td>\n",
              "      <td>257558</td>\n",
              "      <td>0.070602</td>\n",
              "    </tr>\n",
              "    <tr>\n",
              "      <th>2</th>\n",
              "      <td>C</td>\n",
              "      <td>2040674672</td>\n",
              "      <td>15921</td>\n",
              "      <td>130355</td>\n",
              "      <td>0.084982</td>\n",
              "    </tr>\n",
              "    <tr>\n",
              "      <th>3</th>\n",
              "      <td>D</td>\n",
              "      <td>14979233</td>\n",
              "      <td>349</td>\n",
              "      <td>43929</td>\n",
              "      <td>0.060172</td>\n",
              "    </tr>\n",
              "    <tr>\n",
              "      <th>4</th>\n",
              "      <td>E</td>\n",
              "      <td>567486</td>\n",
              "      <td>22</td>\n",
              "      <td>26431</td>\n",
              "      <td>0.090909</td>\n",
              "    </tr>\n",
              "  </tbody>\n",
              "</table>\n",
              "</div>\n",
              "    <div class=\"colab-df-buttons\">\n",
              "\n",
              "  <div class=\"colab-df-container\">\n",
              "    <button class=\"colab-df-convert\" onclick=\"convertToInteractive('df-3c4b805f-a248-431c-ad9a-453ac6f80757')\"\n",
              "            title=\"Convert this dataframe to an interactive table.\"\n",
              "            style=\"display:none;\">\n",
              "\n",
              "  <svg xmlns=\"http://www.w3.org/2000/svg\" height=\"24px\" viewBox=\"0 -960 960 960\">\n",
              "    <path d=\"M120-120v-720h720v720H120Zm60-500h600v-160H180v160Zm220 220h160v-160H400v160Zm0 220h160v-160H400v160ZM180-400h160v-160H180v160Zm440 0h160v-160H620v160ZM180-180h160v-160H180v160Zm440 0h160v-160H620v160Z\"/>\n",
              "  </svg>\n",
              "    </button>\n",
              "\n",
              "  <style>\n",
              "    .colab-df-container {\n",
              "      display:flex;\n",
              "      gap: 12px;\n",
              "    }\n",
              "\n",
              "    .colab-df-convert {\n",
              "      background-color: #E8F0FE;\n",
              "      border: none;\n",
              "      border-radius: 50%;\n",
              "      cursor: pointer;\n",
              "      display: none;\n",
              "      fill: #1967D2;\n",
              "      height: 32px;\n",
              "      padding: 0 0 0 0;\n",
              "      width: 32px;\n",
              "    }\n",
              "\n",
              "    .colab-df-convert:hover {\n",
              "      background-color: #E2EBFA;\n",
              "      box-shadow: 0px 1px 2px rgba(60, 64, 67, 0.3), 0px 1px 3px 1px rgba(60, 64, 67, 0.15);\n",
              "      fill: #174EA6;\n",
              "    }\n",
              "\n",
              "    .colab-df-buttons div {\n",
              "      margin-bottom: 4px;\n",
              "    }\n",
              "\n",
              "    [theme=dark] .colab-df-convert {\n",
              "      background-color: #3B4455;\n",
              "      fill: #D2E3FC;\n",
              "    }\n",
              "\n",
              "    [theme=dark] .colab-df-convert:hover {\n",
              "      background-color: #434B5C;\n",
              "      box-shadow: 0px 1px 3px 1px rgba(0, 0, 0, 0.15);\n",
              "      filter: drop-shadow(0px 1px 2px rgba(0, 0, 0, 0.3));\n",
              "      fill: #FFFFFF;\n",
              "    }\n",
              "  </style>\n",
              "\n",
              "    <script>\n",
              "      const buttonEl =\n",
              "        document.querySelector('#df-3c4b805f-a248-431c-ad9a-453ac6f80757 button.colab-df-convert');\n",
              "      buttonEl.style.display =\n",
              "        google.colab.kernel.accessAllowed ? 'block' : 'none';\n",
              "\n",
              "      async function convertToInteractive(key) {\n",
              "        const element = document.querySelector('#df-3c4b805f-a248-431c-ad9a-453ac6f80757');\n",
              "        const dataTable =\n",
              "          await google.colab.kernel.invokeFunction('convertToInteractive',\n",
              "                                                    [key], {});\n",
              "        if (!dataTable) return;\n",
              "\n",
              "        const docLinkHtml = 'Like what you see? Visit the ' +\n",
              "          '<a target=\"_blank\" href=https://colab.research.google.com/notebooks/data_table.ipynb>data table notebook</a>'\n",
              "          + ' to learn more about interactive tables.';\n",
              "        element.innerHTML = '';\n",
              "        dataTable['output_type'] = 'display_data';\n",
              "        await google.colab.output.renderOutput(dataTable, element);\n",
              "        const docLink = document.createElement('div');\n",
              "        docLink.innerHTML = docLinkHtml;\n",
              "        element.appendChild(docLink);\n",
              "      }\n",
              "    </script>\n",
              "  </div>\n",
              "\n",
              "\n",
              "<div id=\"df-7cfe3d43-691c-4c5d-8e6e-e0dfc851b204\">\n",
              "  <button class=\"colab-df-quickchart\" onclick=\"quickchart('df-7cfe3d43-691c-4c5d-8e6e-e0dfc851b204')\"\n",
              "            title=\"Suggest charts.\"\n",
              "            style=\"display:none;\">\n",
              "\n",
              "<svg xmlns=\"http://www.w3.org/2000/svg\" height=\"24px\"viewBox=\"0 0 24 24\"\n",
              "     width=\"24px\">\n",
              "    <g>\n",
              "        <path d=\"M19 3H5c-1.1 0-2 .9-2 2v14c0 1.1.9 2 2 2h14c1.1 0 2-.9 2-2V5c0-1.1-.9-2-2-2zM9 17H7v-7h2v7zm4 0h-2V7h2v10zm4 0h-2v-4h2v4z\"/>\n",
              "    </g>\n",
              "</svg>\n",
              "  </button>\n",
              "\n",
              "<style>\n",
              "  .colab-df-quickchart {\n",
              "      --bg-color: #E8F0FE;\n",
              "      --fill-color: #1967D2;\n",
              "      --hover-bg-color: #E2EBFA;\n",
              "      --hover-fill-color: #174EA6;\n",
              "      --disabled-fill-color: #AAA;\n",
              "      --disabled-bg-color: #DDD;\n",
              "  }\n",
              "\n",
              "  [theme=dark] .colab-df-quickchart {\n",
              "      --bg-color: #3B4455;\n",
              "      --fill-color: #D2E3FC;\n",
              "      --hover-bg-color: #434B5C;\n",
              "      --hover-fill-color: #FFFFFF;\n",
              "      --disabled-bg-color: #3B4455;\n",
              "      --disabled-fill-color: #666;\n",
              "  }\n",
              "\n",
              "  .colab-df-quickchart {\n",
              "    background-color: var(--bg-color);\n",
              "    border: none;\n",
              "    border-radius: 50%;\n",
              "    cursor: pointer;\n",
              "    display: none;\n",
              "    fill: var(--fill-color);\n",
              "    height: 32px;\n",
              "    padding: 0;\n",
              "    width: 32px;\n",
              "  }\n",
              "\n",
              "  .colab-df-quickchart:hover {\n",
              "    background-color: var(--hover-bg-color);\n",
              "    box-shadow: 0 1px 2px rgba(60, 64, 67, 0.3), 0 1px 3px 1px rgba(60, 64, 67, 0.15);\n",
              "    fill: var(--button-hover-fill-color);\n",
              "  }\n",
              "\n",
              "  .colab-df-quickchart-complete:disabled,\n",
              "  .colab-df-quickchart-complete:disabled:hover {\n",
              "    background-color: var(--disabled-bg-color);\n",
              "    fill: var(--disabled-fill-color);\n",
              "    box-shadow: none;\n",
              "  }\n",
              "\n",
              "  .colab-df-spinner {\n",
              "    border: 2px solid var(--fill-color);\n",
              "    border-color: transparent;\n",
              "    border-bottom-color: var(--fill-color);\n",
              "    animation:\n",
              "      spin 1s steps(1) infinite;\n",
              "  }\n",
              "\n",
              "  @keyframes spin {\n",
              "    0% {\n",
              "      border-color: transparent;\n",
              "      border-bottom-color: var(--fill-color);\n",
              "      border-left-color: var(--fill-color);\n",
              "    }\n",
              "    20% {\n",
              "      border-color: transparent;\n",
              "      border-left-color: var(--fill-color);\n",
              "      border-top-color: var(--fill-color);\n",
              "    }\n",
              "    30% {\n",
              "      border-color: transparent;\n",
              "      border-left-color: var(--fill-color);\n",
              "      border-top-color: var(--fill-color);\n",
              "      border-right-color: var(--fill-color);\n",
              "    }\n",
              "    40% {\n",
              "      border-color: transparent;\n",
              "      border-right-color: var(--fill-color);\n",
              "      border-top-color: var(--fill-color);\n",
              "    }\n",
              "    60% {\n",
              "      border-color: transparent;\n",
              "      border-right-color: var(--fill-color);\n",
              "    }\n",
              "    80% {\n",
              "      border-color: transparent;\n",
              "      border-right-color: var(--fill-color);\n",
              "      border-bottom-color: var(--fill-color);\n",
              "    }\n",
              "    90% {\n",
              "      border-color: transparent;\n",
              "      border-bottom-color: var(--fill-color);\n",
              "    }\n",
              "  }\n",
              "</style>\n",
              "\n",
              "  <script>\n",
              "    async function quickchart(key) {\n",
              "      const quickchartButtonEl =\n",
              "        document.querySelector('#' + key + ' button');\n",
              "      quickchartButtonEl.disabled = true;  // To prevent multiple clicks.\n",
              "      quickchartButtonEl.classList.add('colab-df-spinner');\n",
              "      try {\n",
              "        const charts = await google.colab.kernel.invokeFunction(\n",
              "            'suggestCharts', [key], {});\n",
              "      } catch (error) {\n",
              "        console.error('Error during call to suggestCharts:', error);\n",
              "      }\n",
              "      quickchartButtonEl.classList.remove('colab-df-spinner');\n",
              "      quickchartButtonEl.classList.add('colab-df-quickchart-complete');\n",
              "    }\n",
              "    (() => {\n",
              "      let quickchartButtonEl =\n",
              "        document.querySelector('#df-7cfe3d43-691c-4c5d-8e6e-e0dfc851b204 button');\n",
              "      quickchartButtonEl.style.display =\n",
              "        google.colab.kernel.accessAllowed ? 'block' : 'none';\n",
              "    })();\n",
              "  </script>\n",
              "</div>\n",
              "    </div>\n",
              "  </div>\n"
            ]
          },
          "metadata": {},
          "execution_count": 62
        }
      ],
      "source": [
        "# выполняем слияение двух сводных таблиц по колонке \"total_income_category\"\n",
        "data_income_total = pivot_income_category.merge(pivot_income_category_debt, on='total_income_category', how='left')\n",
        "data_income_total"
      ]
    },
    {
      "cell_type": "markdown",
      "id": "ad35c639",
      "metadata": {
        "id": "ad35c639"
      },
      "source": [
        "<div class=\"alert alert-success\">\n",
        "<b>Комментарий ревьюера ✔️:</b>  расчеты верны, молодец"
      ]
    },
    {
      "cell_type": "code",
      "execution_count": null,
      "id": "70cccdcf",
      "metadata": {
        "id": "70cccdcf"
      },
      "outputs": [],
      "source": [
        "import seaborn"
      ]
    },
    {
      "cell_type": "code",
      "execution_count": null,
      "id": "0bff35f9",
      "metadata": {
        "colab": {
          "base_uri": "https://localhost:8080/",
          "height": 467
        },
        "id": "0bff35f9",
        "outputId": "d1813d05-a82a-4df8-aa1f-f2b2debe68a6"
      },
      "outputs": [
        {
          "output_type": "execute_result",
          "data": {
            "text/plain": [
              "<Axes: xlabel='total_income_category', ylabel='mean_debt'>"
            ]
          },
          "metadata": {},
          "execution_count": 64
        },
        {
          "output_type": "display_data",
          "data": {
            "text/plain": [
              "<Figure size 640x480 with 1 Axes>"
            ],
            "image/png": "[encoded data removed]"
          },
          "metadata": {}
        }
      ],
      "source": [
        "# вывод столбчатой диаграммы по категориям и средним значением долга - \"Диаграмма 1\"\n",
        "seaborn.barplot(x=data_income_total['total_income_category'], y=data_income_total['mean_debt'])"
      ]
    },
    {
      "cell_type": "code",
      "execution_count": null,
      "id": "2d027ef4",
      "metadata": {
        "colab": {
          "base_uri": "https://localhost:8080/",
          "height": 482
        },
        "id": "2d027ef4",
        "outputId": "f9f83b2a-662b-485d-f462-9b11fad3402b"
      },
      "outputs": [
        {
          "output_type": "execute_result",
          "data": {
            "text/plain": [
              "<Axes: xlabel='total_income_category', ylabel='sum_total_income'>"
            ]
          },
          "metadata": {},
          "execution_count": 65
        },
        {
          "output_type": "display_data",
          "data": {
            "text/plain": [
              "<Figure size 640x480 with 1 Axes>"
            ],
            "image/png": "[encoded data removed]"
          },
          "metadata": {}
        }
      ],
      "source": [
        "# вывод столбчатой диаграммы по категориям и суммарным значением дохода - \"Диаграмма 2\"\n",
        "seaborn.barplot(x=data_income_total['total_income_category'], y=data_income_total['sum_total_income'])"
      ]
    },
    {
      "cell_type": "code",
      "execution_count": null,
      "id": "18fe9229",
      "metadata": {
        "colab": {
          "base_uri": "https://localhost:8080/",
          "height": 482
        },
        "id": "18fe9229",
        "outputId": "69f5e1e8-8d5d-4d5c-e8fb-68bfa9c0ae1d"
      },
      "outputs": [
        {
          "output_type": "execute_result",
          "data": {
            "text/plain": [
              "<Axes: xlabel='total_income_category', ylabel='median_total_income'>"
            ]
          },
          "metadata": {},
          "execution_count": 66
        },
        {
          "output_type": "display_data",
          "data": {
            "text/plain": [
              "<Figure size 640x480 with 1 Axes>"
            ],
            "image/png": "[encoded data removed]"
          },
          "metadata": {}
        }
      ],
      "source": [
        "# вывод столбчатой диаграммы по категориям и медианным значением дохода - \"Диаграмма 3\"\n",
        "seaborn.barplot(x=data_income_total['total_income_category'], y=data_income_total['median_total_income'])"
      ]
    },
    {
      "cell_type": "markdown",
      "id": "f98645b8",
      "metadata": {
        "id": "f98645b8"
      },
      "source": [
        "<div class=\"alert alert-success\">\n",
        "<b>Комментарий ревьюера ✔️:</b> 👍 здорово, что используешь визуализацию"
      ]
    },
    {
      "cell_type": "markdown",
      "id": "f54cf013",
      "metadata": {
        "id": "f54cf013"
      },
      "source": [
        "<div class=\"alert alert-info\">\n",
        "<b>Комментарий студента:</b> Как еще можно визуализировать данную категорию? Как можно вывести легенду? Копался так и не понял как можно вывести третий параметр на диаграмму? Например: вывести на диаграмму отсортированную по количеству кредитов на каждую категорию и через все столбцы протащить линию показателя количества должников, чтобы понять как и что меняется?\n",
        "\n",
        "И сюда же вопрос, по другим заданиям уместна визуализация в виде диаграмм? И какую вообще еще можно визуализацию применять?</div>"
      ]
    },
    {
      "cell_type": "markdown",
      "id": "b2b6e45a",
      "metadata": {
        "id": "b2b6e45a"
      },
      "source": [
        "<div class=\"alert alert-success\">\n",
        "<b>Комментарий ревьюера 2V ✔️✔️:</b> Дальше в курсе будет много информации по визуализации и целый спринт на эту тему. В рамках ревью много не расскажешь,  скоро всё узнаешь из курса! 😀"
      ]
    },
    {
      "cell_type": "markdown",
      "id": "41f83ed3",
      "metadata": {
        "deletable": false,
        "id": "41f83ed3"
      },
      "source": [
        "**Вывод:**\n",
        "В данном выводе не принимаются показатели по категориям А, D, E, так как по сравнению с категориями B и C они слишком малочислены, что может привести к недостоверности выводов.\n",
        "\n",
        "Наибольшее количество людей на кредитование в категори С (доход от 50001 до 200000), на \"Диаграмме 2\" представлено, что по данной группе наибольший суммарный доход.\n",
        "\n",
        "Наибольшее количество должников также в категории С и по сравнению с категорией B разница в процентном соотношении составляет почти 15%.\n",
        "\n",
        "Зависимость между уровнем дохода и количеством должников явная, категория С больше подвержена не возврату долга в срока. Одним из факторов - средний доход на категорию, который составляют разницу с категорией В в 2 раза (см. Диаграмму 3)."
      ]
    },
    {
      "cell_type": "markdown",
      "id": "40e9866b",
      "metadata": {
        "id": "40e9866b"
      },
      "source": [
        "<div class=\"alert alert-danger\">\n",
        "<s><b>Комментарий ревьюера ❌:</b> Выводы не верны. Первое, на что мы должны обратить внимание, - несбалансированность групп. Малочисленные группы не дают достоверной статистики и их нужно просто игнорировать в исследовании. Мы можем опираться только на данные групп В и С, как самых многочисленных. И между этими группами есть заметная разница в доле должников."
      ]
    },
    {
      "cell_type": "markdown",
      "id": "1d6d3c81",
      "metadata": {
        "id": "1d6d3c81"
      },
      "source": [
        "<div class=\"alert alert-success\">\n",
        "<b>Комментарий ревьюера 2V ✔️✔️:</b> Выводы стали намного лучше!\n",
        "    \n",
        "Я бы не стала писать про разницу в 2 раза на основании диаграммы, это инструмент приблизительно оценки. Лучше в числовых выводах опираться только на расчеты."
      ]
    },
    {
      "cell_type": "markdown",
      "id": "0ee14060",
      "metadata": {
        "deletable": false,
        "editable": false,
        "id": "0ee14060"
      },
      "source": [
        "#### 3.4 Как разные цели кредита влияют на его возврат в срок?"
      ]
    },
    {
      "cell_type": "code",
      "execution_count": null,
      "id": "34471f8d",
      "metadata": {
        "deletable": false,
        "id": "34471f8d",
        "colab": {
          "base_uri": "https://localhost:8080/",
          "height": 175
        },
        "outputId": "ed7acf95-8b38-4189-d4aa-40e3f07402a6"
      },
      "outputs": [
        {
          "output_type": "execute_result",
          "data": {
            "text/plain": [
              "           purpose_category  count_debt  mean_debt\n",
              "0    операции с автомобилем        4279   0.093480\n",
              "1  операции с недвижимостью       10751   0.072551\n",
              "2     получение образования        3988   0.092528\n",
              "3        проведение свадьбы        2313   0.079118"
            ],
            "text/html": [
              "\n",
              "  <div id=\"df-314ece35-2537-4f15-832a-a08fbc2173ba\" class=\"colab-df-container\">\n",
              "    <div>\n",
              "<style scoped>\n",
              "    .dataframe tbody tr th:only-of-type {\n",
              "        vertical-align: middle;\n",
              "    }\n",
              "\n",
              "    .dataframe tbody tr th {\n",
              "        vertical-align: top;\n",
              "    }\n",
              "\n",
              "    .dataframe thead th {\n",
              "        text-align: right;\n",
              "    }\n",
              "</style>\n",
              "<table border=\"1\" class=\"dataframe\">\n",
              "  <thead>\n",
              "    <tr style=\"text-align: right;\">\n",
              "      <th></th>\n",
              "      <th>purpose_category</th>\n",
              "      <th>count_debt</th>\n",
              "      <th>mean_debt</th>\n",
              "    </tr>\n",
              "  </thead>\n",
              "  <tbody>\n",
              "    <tr>\n",
              "      <th>0</th>\n",
              "      <td>операции с автомобилем</td>\n",
              "      <td>4279</td>\n",
              "      <td>0.093480</td>\n",
              "    </tr>\n",
              "    <tr>\n",
              "      <th>1</th>\n",
              "      <td>операции с недвижимостью</td>\n",
              "      <td>10751</td>\n",
              "      <td>0.072551</td>\n",
              "    </tr>\n",
              "    <tr>\n",
              "      <th>2</th>\n",
              "      <td>получение образования</td>\n",
              "      <td>3988</td>\n",
              "      <td>0.092528</td>\n",
              "    </tr>\n",
              "    <tr>\n",
              "      <th>3</th>\n",
              "      <td>проведение свадьбы</td>\n",
              "      <td>2313</td>\n",
              "      <td>0.079118</td>\n",
              "    </tr>\n",
              "  </tbody>\n",
              "</table>\n",
              "</div>\n",
              "    <div class=\"colab-df-buttons\">\n",
              "\n",
              "  <div class=\"colab-df-container\">\n",
              "    <button class=\"colab-df-convert\" onclick=\"convertToInteractive('df-314ece35-2537-4f15-832a-a08fbc2173ba')\"\n",
              "            title=\"Convert this dataframe to an interactive table.\"\n",
              "            style=\"display:none;\">\n",
              "\n",
              "  <svg xmlns=\"http://www.w3.org/2000/svg\" height=\"24px\" viewBox=\"0 -960 960 960\">\n",
              "    <path d=\"M120-120v-720h720v720H120Zm60-500h600v-160H180v160Zm220 220h160v-160H400v160Zm0 220h160v-160H400v160ZM180-400h160v-160H180v160Zm440 0h160v-160H620v160ZM180-180h160v-160H180v160Zm440 0h160v-160H620v160Z\"/>\n",
              "  </svg>\n",
              "    </button>\n",
              "\n",
              "  <style>\n",
              "    .colab-df-container {\n",
              "      display:flex;\n",
              "      gap: 12px;\n",
              "    }\n",
              "\n",
              "    .colab-df-convert {\n",
              "      background-color: #E8F0FE;\n",
              "      border: none;\n",
              "      border-radius: 50%;\n",
              "      cursor: pointer;\n",
              "      display: none;\n",
              "      fill: #1967D2;\n",
              "      height: 32px;\n",
              "      padding: 0 0 0 0;\n",
              "      width: 32px;\n",
              "    }\n",
              "\n",
              "    .colab-df-convert:hover {\n",
              "      background-color: #E2EBFA;\n",
              "      box-shadow: 0px 1px 2px rgba(60, 64, 67, 0.3), 0px 1px 3px 1px rgba(60, 64, 67, 0.15);\n",
              "      fill: #174EA6;\n",
              "    }\n",
              "\n",
              "    .colab-df-buttons div {\n",
              "      margin-bottom: 4px;\n",
              "    }\n",
              "\n",
              "    [theme=dark] .colab-df-convert {\n",
              "      background-color: #3B4455;\n",
              "      fill: #D2E3FC;\n",
              "    }\n",
              "\n",
              "    [theme=dark] .colab-df-convert:hover {\n",
              "      background-color: #434B5C;\n",
              "      box-shadow: 0px 1px 3px 1px rgba(0, 0, 0, 0.15);\n",
              "      filter: drop-shadow(0px 1px 2px rgba(0, 0, 0, 0.3));\n",
              "      fill: #FFFFFF;\n",
              "    }\n",
              "  </style>\n",
              "\n",
              "    <script>\n",
              "      const buttonEl =\n",
              "        document.querySelector('#df-314ece35-2537-4f15-832a-a08fbc2173ba button.colab-df-convert');\n",
              "      buttonEl.style.display =\n",
              "        google.colab.kernel.accessAllowed ? 'block' : 'none';\n",
              "\n",
              "      async function convertToInteractive(key) {\n",
              "        const element = document.querySelector('#df-314ece35-2537-4f15-832a-a08fbc2173ba');\n",
              "        const dataTable =\n",
              "          await google.colab.kernel.invokeFunction('convertToInteractive',\n",
              "                                                    [key], {});\n",
              "        if (!dataTable) return;\n",
              "\n",
              "        const docLinkHtml = 'Like what you see? Visit the ' +\n",
              "          '<a target=\"_blank\" href=https://colab.research.google.com/notebooks/data_table.ipynb>data table notebook</a>'\n",
              "          + ' to learn more about interactive tables.';\n",
              "        element.innerHTML = '';\n",
              "        dataTable['output_type'] = 'display_data';\n",
              "        await google.colab.output.renderOutput(dataTable, element);\n",
              "        const docLink = document.createElement('div');\n",
              "        docLink.innerHTML = docLinkHtml;\n",
              "        element.appendChild(docLink);\n",
              "      }\n",
              "    </script>\n",
              "  </div>\n",
              "\n",
              "\n",
              "<div id=\"df-d0c625d4-0a57-45dd-934a-ef42f7123ff5\">\n",
              "  <button class=\"colab-df-quickchart\" onclick=\"quickchart('df-d0c625d4-0a57-45dd-934a-ef42f7123ff5')\"\n",
              "            title=\"Suggest charts.\"\n",
              "            style=\"display:none;\">\n",
              "\n",
              "<svg xmlns=\"http://www.w3.org/2000/svg\" height=\"24px\"viewBox=\"0 0 24 24\"\n",
              "     width=\"24px\">\n",
              "    <g>\n",
              "        <path d=\"M19 3H5c-1.1 0-2 .9-2 2v14c0 1.1.9 2 2 2h14c1.1 0 2-.9 2-2V5c0-1.1-.9-2-2-2zM9 17H7v-7h2v7zm4 0h-2V7h2v10zm4 0h-2v-4h2v4z\"/>\n",
              "    </g>\n",
              "</svg>\n",
              "  </button>\n",
              "\n",
              "<style>\n",
              "  .colab-df-quickchart {\n",
              "      --bg-color: #E8F0FE;\n",
              "      --fill-color: #1967D2;\n",
              "      --hover-bg-color: #E2EBFA;\n",
              "      --hover-fill-color: #174EA6;\n",
              "      --disabled-fill-color: #AAA;\n",
              "      --disabled-bg-color: #DDD;\n",
              "  }\n",
              "\n",
              "  [theme=dark] .colab-df-quickchart {\n",
              "      --bg-color: #3B4455;\n",
              "      --fill-color: #D2E3FC;\n",
              "      --hover-bg-color: #434B5C;\n",
              "      --hover-fill-color: #FFFFFF;\n",
              "      --disabled-bg-color: #3B4455;\n",
              "      --disabled-fill-color: #666;\n",
              "  }\n",
              "\n",
              "  .colab-df-quickchart {\n",
              "    background-color: var(--bg-color);\n",
              "    border: none;\n",
              "    border-radius: 50%;\n",
              "    cursor: pointer;\n",
              "    display: none;\n",
              "    fill: var(--fill-color);\n",
              "    height: 32px;\n",
              "    padding: 0;\n",
              "    width: 32px;\n",
              "  }\n",
              "\n",
              "  .colab-df-quickchart:hover {\n",
              "    background-color: var(--hover-bg-color);\n",
              "    box-shadow: 0 1px 2px rgba(60, 64, 67, 0.3), 0 1px 3px 1px rgba(60, 64, 67, 0.15);\n",
              "    fill: var(--button-hover-fill-color);\n",
              "  }\n",
              "\n",
              "  .colab-df-quickchart-complete:disabled,\n",
              "  .colab-df-quickchart-complete:disabled:hover {\n",
              "    background-color: var(--disabled-bg-color);\n",
              "    fill: var(--disabled-fill-color);\n",
              "    box-shadow: none;\n",
              "  }\n",
              "\n",
              "  .colab-df-spinner {\n",
              "    border: 2px solid var(--fill-color);\n",
              "    border-color: transparent;\n",
              "    border-bottom-color: var(--fill-color);\n",
              "    animation:\n",
              "      spin 1s steps(1) infinite;\n",
              "  }\n",
              "\n",
              "  @keyframes spin {\n",
              "    0% {\n",
              "      border-color: transparent;\n",
              "      border-bottom-color: var(--fill-color);\n",
              "      border-left-color: var(--fill-color);\n",
              "    }\n",
              "    20% {\n",
              "      border-color: transparent;\n",
              "      border-left-color: var(--fill-color);\n",
              "      border-top-color: var(--fill-color);\n",
              "    }\n",
              "    30% {\n",
              "      border-color: transparent;\n",
              "      border-left-color: var(--fill-color);\n",
              "      border-top-color: var(--fill-color);\n",
              "      border-right-color: var(--fill-color);\n",
              "    }\n",
              "    40% {\n",
              "      border-color: transparent;\n",
              "      border-right-color: var(--fill-color);\n",
              "      border-top-color: var(--fill-color);\n",
              "    }\n",
              "    60% {\n",
              "      border-color: transparent;\n",
              "      border-right-color: var(--fill-color);\n",
              "    }\n",
              "    80% {\n",
              "      border-color: transparent;\n",
              "      border-right-color: var(--fill-color);\n",
              "      border-bottom-color: var(--fill-color);\n",
              "    }\n",
              "    90% {\n",
              "      border-color: transparent;\n",
              "      border-bottom-color: var(--fill-color);\n",
              "    }\n",
              "  }\n",
              "</style>\n",
              "\n",
              "  <script>\n",
              "    async function quickchart(key) {\n",
              "      const quickchartButtonEl =\n",
              "        document.querySelector('#' + key + ' button');\n",
              "      quickchartButtonEl.disabled = true;  // To prevent multiple clicks.\n",
              "      quickchartButtonEl.classList.add('colab-df-spinner');\n",
              "      try {\n",
              "        const charts = await google.colab.kernel.invokeFunction(\n",
              "            'suggestCharts', [key], {});\n",
              "      } catch (error) {\n",
              "        console.error('Error during call to suggestCharts:', error);\n",
              "      }\n",
              "      quickchartButtonEl.classList.remove('colab-df-spinner');\n",
              "      quickchartButtonEl.classList.add('colab-df-quickchart-complete');\n",
              "    }\n",
              "    (() => {\n",
              "      let quickchartButtonEl =\n",
              "        document.querySelector('#df-d0c625d4-0a57-45dd-934a-ef42f7123ff5 button');\n",
              "      quickchartButtonEl.style.display =\n",
              "        google.colab.kernel.accessAllowed ? 'block' : 'none';\n",
              "    })();\n",
              "  </script>\n",
              "</div>\n",
              "    </div>\n",
              "  </div>\n"
            ]
          },
          "metadata": {},
          "execution_count": 67
        }
      ],
      "source": [
        "pivot_purpose_category = data.pivot_table(index='purpose_category', values='debt', aggfunc=['count', 'mean'])\n",
        "pivot_purpose_category.reset_index()\n",
        "pivot_purpose_category.columns = ['_'.join(col).strip() for col in pivot_purpose_category.columns.values]\n",
        "pivot_purpose_category = pivot_purpose_category.reset_index()\n",
        "pivot_purpose_category# Ваш код будет здесь. Вы можете создавать новые ячейки."
      ]
    },
    {
      "cell_type": "markdown",
      "id": "eda2be86",
      "metadata": {
        "deletable": false,
        "id": "eda2be86"
      },
      "source": [
        "**Вывод:** Категория \"Операция с недвижимостью\" и \"Проведение свадьбы\" меньше подвержены не оплаты долга в срок, чем категории \"Получения образования\" и \"Операция с автомобилем\". Категория \"Операции с недвжимостью\" более долгосрочный и связаны с жестким графиком и риском. Категория \"Проведение свадьбы\" менее долгосрочная и закрывается быстро."
      ]
    },
    {
      "cell_type": "markdown",
      "id": "1ea20825",
      "metadata": {
        "id": "1ea20825"
      },
      "source": [
        "<div class=\"alert alert-success\">\n",
        "<b>Комментарий ревьюера ✔️:</b> 👍 корректно"
      ]
    },
    {
      "cell_type": "markdown",
      "id": "bdb12e7f",
      "metadata": {
        "deletable": false,
        "editable": false,
        "id": "bdb12e7f"
      },
      "source": [
        "#### 3.5 Приведите возможные причины появления пропусков в исходных данных."
      ]
    },
    {
      "cell_type": "markdown",
      "id": "0d820c4b",
      "metadata": {
        "deletable": false,
        "id": "0d820c4b"
      },
      "source": [
        "*Ответ:* В исходных данных имелись пропуски по колонка 'days_emloyed' и 'total_income'. Данные колонки относятся к количественным переменным. Возможные причины пропуска в данных колонках:\n",
        "- человек заполнявший анкету не предоставил информацию по \"количеству отработатнных дней\" и \"суммарный доход\".\n",
        "- данной информации у человека в приницпе нет, так как он может быть безработным или пенсионером."
      ]
    },
    {
      "cell_type": "markdown",
      "id": "b8378db4",
      "metadata": {
        "id": "b8378db4"
      },
      "source": [
        "<div class=\"alert alert-success\">\n",
        "<b>Комментарий ревьюера ✔️:</b> 👍 верно, молодец. Также есть риск технической ошибки."
      ]
    },
    {
      "cell_type": "markdown",
      "id": "c01e8b8e",
      "metadata": {
        "deletable": false,
        "editable": false,
        "id": "c01e8b8e"
      },
      "source": [
        "#### 3.6 Объясните, почему заполнить пропуски медианным значением — лучшее решение для количественных переменных."
      ]
    },
    {
      "cell_type": "markdown",
      "id": "9e8a9d49",
      "metadata": {
        "deletable": false,
        "id": "9e8a9d49"
      },
      "source": [
        "*Ответ:* в количественных переменных может быть сильное различие значений, что сильно повредит аналитик при выявлении средних значений. Медиана покажет наиболее корректный показатель, так как медиана менее чувствительна к выбросам. Например, количество посетителей магазина за  3 дня до акции[50, 50, 50] и за 4 дня со значением после объявления акции [50, 50, 50, 200]. Если выполнить расчет среднего значения, то мы увидим, что проходимость выросла на 40%. Если мы применим медиану, то на выброс увеличения проходимости в 150 человек, она практически не среагирует и покажет, что проходимость как была 50 человек в день, так и осталось 50."
      ]
    },
    {
      "cell_type": "markdown",
      "id": "196fea9c",
      "metadata": {
        "id": "196fea9c"
      },
      "source": [
        "<div class=\"alert alert-warning\">\n",
        "<b>Комментарий ревьюера ⚠️:</b> Более корректное обоснование в том, что медиана менее чувствительна к выбросам. Возможно, ты это и имел в виду, но формулировки увели в сторону )))"
      ]
    },
    {
      "cell_type": "markdown",
      "id": "2fb92753",
      "metadata": {
        "id": "2fb92753"
      },
      "source": [
        "<div class=\"alert alert-info\">\n",
        "<b>Комментарий студента:</b> Честно даже не знаю еще как более корректно описать, кроме как не скопировать твою наводку :) Более исчерпывающего ответа не нашел. Для полноты добавил пример, надеюсь корректный. :)</div>"
      ]
    },
    {
      "cell_type": "markdown",
      "id": "618fef12",
      "metadata": {
        "id": "618fef12"
      },
      "source": [
        "<div class=\"alert alert-success\">\n",
        "<b>Комментарий ревьюера 2V ✔️✔️:</b> Пример корректный :)"
      ]
    },
    {
      "cell_type": "markdown",
      "id": "ecb013fe",
      "metadata": {
        "deletable": false,
        "editable": false,
        "id": "ecb013fe"
      },
      "source": [
        "### Шаг 4: общий вывод."
      ]
    },
    {
      "cell_type": "markdown",
      "id": "b2c3ef11",
      "metadata": {
        "deletable": false,
        "id": "b2c3ef11"
      },
      "source": [
        "Основной задачей от Заказчика - необходимо разобраться влияет ли семеное положение и количество детей клиента на факт погашения кредита в срок.\n",
        "\n",
        "Для проведения по предоставленным входным данным от Заказчика - статистика о платежеспособности клиентов, были проведены следующие действия:\n",
        "\n",
        "- сформирована сводная таблица клиентов по категории \"Дети\";\n",
        "- сформирована сводная таблица клиентов по категории \"Семеное положение\";\n",
        "- сформирована сводная таблица клиентов по категории \"Цель кредита\";\n",
        "- сформирована сводная таблица клиентов по категории \"Уровень дохода\"."
      ]
    },
    {
      "cell_type": "markdown",
      "id": "2d5f3f83",
      "metadata": {
        "id": "2d5f3f83"
      },
      "source": [
        "**Таблица 1 - Категория \"Дети\"**"
      ]
    },
    {
      "cell_type": "code",
      "execution_count": null,
      "id": "5b6b3262",
      "metadata": {
        "colab": {
          "base_uri": "https://localhost:8080/",
          "height": 237
        },
        "id": "5b6b3262",
        "outputId": "906cb982-ddb2-4e98-ad9a-d658b3c618e9"
      },
      "outputs": [
        {
          "output_type": "execute_result",
          "data": {
            "text/plain": [
              "   children  count_debt  mean_debt\n",
              "0         0       14091   0.075438\n",
              "1         1        4808   0.092346\n",
              "2         2        2052   0.094542\n",
              "3         3         330   0.081818\n",
              "4         4          41   0.097561\n",
              "5         5           9   0.000000"
            ],
            "text/html": [
              "\n",
              "  <div id=\"df-c75b3b2d-de7b-4719-8e25-45a53d9da218\" class=\"colab-df-container\">\n",
              "    <div>\n",
              "<style scoped>\n",
              "    .dataframe tbody tr th:only-of-type {\n",
              "        vertical-align: middle;\n",
              "    }\n",
              "\n",
              "    .dataframe tbody tr th {\n",
              "        vertical-align: top;\n",
              "    }\n",
              "\n",
              "    .dataframe thead th {\n",
              "        text-align: right;\n",
              "    }\n",
              "</style>\n",
              "<table border=\"1\" class=\"dataframe\">\n",
              "  <thead>\n",
              "    <tr style=\"text-align: right;\">\n",
              "      <th></th>\n",
              "      <th>children</th>\n",
              "      <th>count_debt</th>\n",
              "      <th>mean_debt</th>\n",
              "    </tr>\n",
              "  </thead>\n",
              "  <tbody>\n",
              "    <tr>\n",
              "      <th>0</th>\n",
              "      <td>0</td>\n",
              "      <td>14091</td>\n",
              "      <td>0.075438</td>\n",
              "    </tr>\n",
              "    <tr>\n",
              "      <th>1</th>\n",
              "      <td>1</td>\n",
              "      <td>4808</td>\n",
              "      <td>0.092346</td>\n",
              "    </tr>\n",
              "    <tr>\n",
              "      <th>2</th>\n",
              "      <td>2</td>\n",
              "      <td>2052</td>\n",
              "      <td>0.094542</td>\n",
              "    </tr>\n",
              "    <tr>\n",
              "      <th>3</th>\n",
              "      <td>3</td>\n",
              "      <td>330</td>\n",
              "      <td>0.081818</td>\n",
              "    </tr>\n",
              "    <tr>\n",
              "      <th>4</th>\n",
              "      <td>4</td>\n",
              "      <td>41</td>\n",
              "      <td>0.097561</td>\n",
              "    </tr>\n",
              "    <tr>\n",
              "      <th>5</th>\n",
              "      <td>5</td>\n",
              "      <td>9</td>\n",
              "      <td>0.000000</td>\n",
              "    </tr>\n",
              "  </tbody>\n",
              "</table>\n",
              "</div>\n",
              "    <div class=\"colab-df-buttons\">\n",
              "\n",
              "  <div class=\"colab-df-container\">\n",
              "    <button class=\"colab-df-convert\" onclick=\"convertToInteractive('df-c75b3b2d-de7b-4719-8e25-45a53d9da218')\"\n",
              "            title=\"Convert this dataframe to an interactive table.\"\n",
              "            style=\"display:none;\">\n",
              "\n",
              "  <svg xmlns=\"http://www.w3.org/2000/svg\" height=\"24px\" viewBox=\"0 -960 960 960\">\n",
              "    <path d=\"M120-120v-720h720v720H120Zm60-500h600v-160H180v160Zm220 220h160v-160H400v160Zm0 220h160v-160H400v160ZM180-400h160v-160H180v160Zm440 0h160v-160H620v160ZM180-180h160v-160H180v160Zm440 0h160v-160H620v160Z\"/>\n",
              "  </svg>\n",
              "    </button>\n",
              "\n",
              "  <style>\n",
              "    .colab-df-container {\n",
              "      display:flex;\n",
              "      gap: 12px;\n",
              "    }\n",
              "\n",
              "    .colab-df-convert {\n",
              "      background-color: #E8F0FE;\n",
              "      border: none;\n",
              "      border-radius: 50%;\n",
              "      cursor: pointer;\n",
              "      display: none;\n",
              "      fill: #1967D2;\n",
              "      height: 32px;\n",
              "      padding: 0 0 0 0;\n",
              "      width: 32px;\n",
              "    }\n",
              "\n",
              "    .colab-df-convert:hover {\n",
              "      background-color: #E2EBFA;\n",
              "      box-shadow: 0px 1px 2px rgba(60, 64, 67, 0.3), 0px 1px 3px 1px rgba(60, 64, 67, 0.15);\n",
              "      fill: #174EA6;\n",
              "    }\n",
              "\n",
              "    .colab-df-buttons div {\n",
              "      margin-bottom: 4px;\n",
              "    }\n",
              "\n",
              "    [theme=dark] .colab-df-convert {\n",
              "      background-color: #3B4455;\n",
              "      fill: #D2E3FC;\n",
              "    }\n",
              "\n",
              "    [theme=dark] .colab-df-convert:hover {\n",
              "      background-color: #434B5C;\n",
              "      box-shadow: 0px 1px 3px 1px rgba(0, 0, 0, 0.15);\n",
              "      filter: drop-shadow(0px 1px 2px rgba(0, 0, 0, 0.3));\n",
              "      fill: #FFFFFF;\n",
              "    }\n",
              "  </style>\n",
              "\n",
              "    <script>\n",
              "      const buttonEl =\n",
              "        document.querySelector('#df-c75b3b2d-de7b-4719-8e25-45a53d9da218 button.colab-df-convert');\n",
              "      buttonEl.style.display =\n",
              "        google.colab.kernel.accessAllowed ? 'block' : 'none';\n",
              "\n",
              "      async function convertToInteractive(key) {\n",
              "        const element = document.querySelector('#df-c75b3b2d-de7b-4719-8e25-45a53d9da218');\n",
              "        const dataTable =\n",
              "          await google.colab.kernel.invokeFunction('convertToInteractive',\n",
              "                                                    [key], {});\n",
              "        if (!dataTable) return;\n",
              "\n",
              "        const docLinkHtml = 'Like what you see? Visit the ' +\n",
              "          '<a target=\"_blank\" href=https://colab.research.google.com/notebooks/data_table.ipynb>data table notebook</a>'\n",
              "          + ' to learn more about interactive tables.';\n",
              "        element.innerHTML = '';\n",
              "        dataTable['output_type'] = 'display_data';\n",
              "        await google.colab.output.renderOutput(dataTable, element);\n",
              "        const docLink = document.createElement('div');\n",
              "        docLink.innerHTML = docLinkHtml;\n",
              "        element.appendChild(docLink);\n",
              "      }\n",
              "    </script>\n",
              "  </div>\n",
              "\n",
              "\n",
              "<div id=\"df-93ab44b9-6fed-44db-a468-0212d1e42c56\">\n",
              "  <button class=\"colab-df-quickchart\" onclick=\"quickchart('df-93ab44b9-6fed-44db-a468-0212d1e42c56')\"\n",
              "            title=\"Suggest charts.\"\n",
              "            style=\"display:none;\">\n",
              "\n",
              "<svg xmlns=\"http://www.w3.org/2000/svg\" height=\"24px\"viewBox=\"0 0 24 24\"\n",
              "     width=\"24px\">\n",
              "    <g>\n",
              "        <path d=\"M19 3H5c-1.1 0-2 .9-2 2v14c0 1.1.9 2 2 2h14c1.1 0 2-.9 2-2V5c0-1.1-.9-2-2-2zM9 17H7v-7h2v7zm4 0h-2V7h2v10zm4 0h-2v-4h2v4z\"/>\n",
              "    </g>\n",
              "</svg>\n",
              "  </button>\n",
              "\n",
              "<style>\n",
              "  .colab-df-quickchart {\n",
              "      --bg-color: #E8F0FE;\n",
              "      --fill-color: #1967D2;\n",
              "      --hover-bg-color: #E2EBFA;\n",
              "      --hover-fill-color: #174EA6;\n",
              "      --disabled-fill-color: #AAA;\n",
              "      --disabled-bg-color: #DDD;\n",
              "  }\n",
              "\n",
              "  [theme=dark] .colab-df-quickchart {\n",
              "      --bg-color: #3B4455;\n",
              "      --fill-color: #D2E3FC;\n",
              "      --hover-bg-color: #434B5C;\n",
              "      --hover-fill-color: #FFFFFF;\n",
              "      --disabled-bg-color: #3B4455;\n",
              "      --disabled-fill-color: #666;\n",
              "  }\n",
              "\n",
              "  .colab-df-quickchart {\n",
              "    background-color: var(--bg-color);\n",
              "    border: none;\n",
              "    border-radius: 50%;\n",
              "    cursor: pointer;\n",
              "    display: none;\n",
              "    fill: var(--fill-color);\n",
              "    height: 32px;\n",
              "    padding: 0;\n",
              "    width: 32px;\n",
              "  }\n",
              "\n",
              "  .colab-df-quickchart:hover {\n",
              "    background-color: var(--hover-bg-color);\n",
              "    box-shadow: 0 1px 2px rgba(60, 64, 67, 0.3), 0 1px 3px 1px rgba(60, 64, 67, 0.15);\n",
              "    fill: var(--button-hover-fill-color);\n",
              "  }\n",
              "\n",
              "  .colab-df-quickchart-complete:disabled,\n",
              "  .colab-df-quickchart-complete:disabled:hover {\n",
              "    background-color: var(--disabled-bg-color);\n",
              "    fill: var(--disabled-fill-color);\n",
              "    box-shadow: none;\n",
              "  }\n",
              "\n",
              "  .colab-df-spinner {\n",
              "    border: 2px solid var(--fill-color);\n",
              "    border-color: transparent;\n",
              "    border-bottom-color: var(--fill-color);\n",
              "    animation:\n",
              "      spin 1s steps(1) infinite;\n",
              "  }\n",
              "\n",
              "  @keyframes spin {\n",
              "    0% {\n",
              "      border-color: transparent;\n",
              "      border-bottom-color: var(--fill-color);\n",
              "      border-left-color: var(--fill-color);\n",
              "    }\n",
              "    20% {\n",
              "      border-color: transparent;\n",
              "      border-left-color: var(--fill-color);\n",
              "      border-top-color: var(--fill-color);\n",
              "    }\n",
              "    30% {\n",
              "      border-color: transparent;\n",
              "      border-left-color: var(--fill-color);\n",
              "      border-top-color: var(--fill-color);\n",
              "      border-right-color: var(--fill-color);\n",
              "    }\n",
              "    40% {\n",
              "      border-color: transparent;\n",
              "      border-right-color: var(--fill-color);\n",
              "      border-top-color: var(--fill-color);\n",
              "    }\n",
              "    60% {\n",
              "      border-color: transparent;\n",
              "      border-right-color: var(--fill-color);\n",
              "    }\n",
              "    80% {\n",
              "      border-color: transparent;\n",
              "      border-right-color: var(--fill-color);\n",
              "      border-bottom-color: var(--fill-color);\n",
              "    }\n",
              "    90% {\n",
              "      border-color: transparent;\n",
              "      border-bottom-color: var(--fill-color);\n",
              "    }\n",
              "  }\n",
              "</style>\n",
              "\n",
              "  <script>\n",
              "    async function quickchart(key) {\n",
              "      const quickchartButtonEl =\n",
              "        document.querySelector('#' + key + ' button');\n",
              "      quickchartButtonEl.disabled = true;  // To prevent multiple clicks.\n",
              "      quickchartButtonEl.classList.add('colab-df-spinner');\n",
              "      try {\n",
              "        const charts = await google.colab.kernel.invokeFunction(\n",
              "            'suggestCharts', [key], {});\n",
              "      } catch (error) {\n",
              "        console.error('Error during call to suggestCharts:', error);\n",
              "      }\n",
              "      quickchartButtonEl.classList.remove('colab-df-spinner');\n",
              "      quickchartButtonEl.classList.add('colab-df-quickchart-complete');\n",
              "    }\n",
              "    (() => {\n",
              "      let quickchartButtonEl =\n",
              "        document.querySelector('#df-93ab44b9-6fed-44db-a468-0212d1e42c56 button');\n",
              "      quickchartButtonEl.style.display =\n",
              "        google.colab.kernel.accessAllowed ? 'block' : 'none';\n",
              "    })();\n",
              "  </script>\n",
              "</div>\n",
              "    </div>\n",
              "  </div>\n"
            ]
          },
          "metadata": {},
          "execution_count": 68
        }
      ],
      "source": [
        "pivot_children"
      ]
    },
    {
      "cell_type": "markdown",
      "id": "cda33be3",
      "metadata": {
        "id": "cda33be3"
      },
      "source": [
        "**Таблица 2 - Категория \"Семейное положение\"**"
      ]
    },
    {
      "cell_type": "code",
      "execution_count": null,
      "id": "7949d0f5",
      "metadata": {
        "colab": {
          "base_uri": "https://localhost:8080/",
          "height": 206
        },
        "id": "7949d0f5",
        "outputId": "ae0991a5-166b-4e1c-a6da-19f79dece0e2"
      },
      "outputs": [
        {
          "output_type": "execute_result",
          "data": {
            "text/plain": [
              "           family_status  count_debt  mean_debt\n",
              "4        женат / замужем       12261   0.075606\n",
              "3       гражданский брак        4134   0.093130\n",
              "0  Не женат / не замужем        2796   0.097639\n",
              "1              в разводе        1189   0.070648\n",
              "2         вдовец / вдова         951   0.066246"
            ],
            "text/html": [
              "\n",
              "  <div id=\"df-72b2f8d0-e9b7-463f-9d53-c0aa2fff3cde\" class=\"colab-df-container\">\n",
              "    <div>\n",
              "<style scoped>\n",
              "    .dataframe tbody tr th:only-of-type {\n",
              "        vertical-align: middle;\n",
              "    }\n",
              "\n",
              "    .dataframe tbody tr th {\n",
              "        vertical-align: top;\n",
              "    }\n",
              "\n",
              "    .dataframe thead th {\n",
              "        text-align: right;\n",
              "    }\n",
              "</style>\n",
              "<table border=\"1\" class=\"dataframe\">\n",
              "  <thead>\n",
              "    <tr style=\"text-align: right;\">\n",
              "      <th></th>\n",
              "      <th>family_status</th>\n",
              "      <th>count_debt</th>\n",
              "      <th>mean_debt</th>\n",
              "    </tr>\n",
              "  </thead>\n",
              "  <tbody>\n",
              "    <tr>\n",
              "      <th>4</th>\n",
              "      <td>женат / замужем</td>\n",
              "      <td>12261</td>\n",
              "      <td>0.075606</td>\n",
              "    </tr>\n",
              "    <tr>\n",
              "      <th>3</th>\n",
              "      <td>гражданский брак</td>\n",
              "      <td>4134</td>\n",
              "      <td>0.093130</td>\n",
              "    </tr>\n",
              "    <tr>\n",
              "      <th>0</th>\n",
              "      <td>Не женат / не замужем</td>\n",
              "      <td>2796</td>\n",
              "      <td>0.097639</td>\n",
              "    </tr>\n",
              "    <tr>\n",
              "      <th>1</th>\n",
              "      <td>в разводе</td>\n",
              "      <td>1189</td>\n",
              "      <td>0.070648</td>\n",
              "    </tr>\n",
              "    <tr>\n",
              "      <th>2</th>\n",
              "      <td>вдовец / вдова</td>\n",
              "      <td>951</td>\n",
              "      <td>0.066246</td>\n",
              "    </tr>\n",
              "  </tbody>\n",
              "</table>\n",
              "</div>\n",
              "    <div class=\"colab-df-buttons\">\n",
              "\n",
              "  <div class=\"colab-df-container\">\n",
              "    <button class=\"colab-df-convert\" onclick=\"convertToInteractive('df-72b2f8d0-e9b7-463f-9d53-c0aa2fff3cde')\"\n",
              "            title=\"Convert this dataframe to an interactive table.\"\n",
              "            style=\"display:none;\">\n",
              "\n",
              "  <svg xmlns=\"http://www.w3.org/2000/svg\" height=\"24px\" viewBox=\"0 -960 960 960\">\n",
              "    <path d=\"M120-120v-720h720v720H120Zm60-500h600v-160H180v160Zm220 220h160v-160H400v160Zm0 220h160v-160H400v160ZM180-400h160v-160H180v160Zm440 0h160v-160H620v160ZM180-180h160v-160H180v160Zm440 0h160v-160H620v160Z\"/>\n",
              "  </svg>\n",
              "    </button>\n",
              "\n",
              "  <style>\n",
              "    .colab-df-container {\n",
              "      display:flex;\n",
              "      gap: 12px;\n",
              "    }\n",
              "\n",
              "    .colab-df-convert {\n",
              "      background-color: #E8F0FE;\n",
              "      border: none;\n",
              "      border-radius: 50%;\n",
              "      cursor: pointer;\n",
              "      display: none;\n",
              "      fill: #1967D2;\n",
              "      height: 32px;\n",
              "      padding: 0 0 0 0;\n",
              "      width: 32px;\n",
              "    }\n",
              "\n",
              "    .colab-df-convert:hover {\n",
              "      background-color: #E2EBFA;\n",
              "      box-shadow: 0px 1px 2px rgba(60, 64, 67, 0.3), 0px 1px 3px 1px rgba(60, 64, 67, 0.15);\n",
              "      fill: #174EA6;\n",
              "    }\n",
              "\n",
              "    .colab-df-buttons div {\n",
              "      margin-bottom: 4px;\n",
              "    }\n",
              "\n",
              "    [theme=dark] .colab-df-convert {\n",
              "      background-color: #3B4455;\n",
              "      fill: #D2E3FC;\n",
              "    }\n",
              "\n",
              "    [theme=dark] .colab-df-convert:hover {\n",
              "      background-color: #434B5C;\n",
              "      box-shadow: 0px 1px 3px 1px rgba(0, 0, 0, 0.15);\n",
              "      filter: drop-shadow(0px 1px 2px rgba(0, 0, 0, 0.3));\n",
              "      fill: #FFFFFF;\n",
              "    }\n",
              "  </style>\n",
              "\n",
              "    <script>\n",
              "      const buttonEl =\n",
              "        document.querySelector('#df-72b2f8d0-e9b7-463f-9d53-c0aa2fff3cde button.colab-df-convert');\n",
              "      buttonEl.style.display =\n",
              "        google.colab.kernel.accessAllowed ? 'block' : 'none';\n",
              "\n",
              "      async function convertToInteractive(key) {\n",
              "        const element = document.querySelector('#df-72b2f8d0-e9b7-463f-9d53-c0aa2fff3cde');\n",
              "        const dataTable =\n",
              "          await google.colab.kernel.invokeFunction('convertToInteractive',\n",
              "                                                    [key], {});\n",
              "        if (!dataTable) return;\n",
              "\n",
              "        const docLinkHtml = 'Like what you see? Visit the ' +\n",
              "          '<a target=\"_blank\" href=https://colab.research.google.com/notebooks/data_table.ipynb>data table notebook</a>'\n",
              "          + ' to learn more about interactive tables.';\n",
              "        element.innerHTML = '';\n",
              "        dataTable['output_type'] = 'display_data';\n",
              "        await google.colab.output.renderOutput(dataTable, element);\n",
              "        const docLink = document.createElement('div');\n",
              "        docLink.innerHTML = docLinkHtml;\n",
              "        element.appendChild(docLink);\n",
              "      }\n",
              "    </script>\n",
              "  </div>\n",
              "\n",
              "\n",
              "<div id=\"df-7f50b011-be05-44b3-bc64-085e1b030655\">\n",
              "  <button class=\"colab-df-quickchart\" onclick=\"quickchart('df-7f50b011-be05-44b3-bc64-085e1b030655')\"\n",
              "            title=\"Suggest charts.\"\n",
              "            style=\"display:none;\">\n",
              "\n",
              "<svg xmlns=\"http://www.w3.org/2000/svg\" height=\"24px\"viewBox=\"0 0 24 24\"\n",
              "     width=\"24px\">\n",
              "    <g>\n",
              "        <path d=\"M19 3H5c-1.1 0-2 .9-2 2v14c0 1.1.9 2 2 2h14c1.1 0 2-.9 2-2V5c0-1.1-.9-2-2-2zM9 17H7v-7h2v7zm4 0h-2V7h2v10zm4 0h-2v-4h2v4z\"/>\n",
              "    </g>\n",
              "</svg>\n",
              "  </button>\n",
              "\n",
              "<style>\n",
              "  .colab-df-quickchart {\n",
              "      --bg-color: #E8F0FE;\n",
              "      --fill-color: #1967D2;\n",
              "      --hover-bg-color: #E2EBFA;\n",
              "      --hover-fill-color: #174EA6;\n",
              "      --disabled-fill-color: #AAA;\n",
              "      --disabled-bg-color: #DDD;\n",
              "  }\n",
              "\n",
              "  [theme=dark] .colab-df-quickchart {\n",
              "      --bg-color: #3B4455;\n",
              "      --fill-color: #D2E3FC;\n",
              "      --hover-bg-color: #434B5C;\n",
              "      --hover-fill-color: #FFFFFF;\n",
              "      --disabled-bg-color: #3B4455;\n",
              "      --disabled-fill-color: #666;\n",
              "  }\n",
              "\n",
              "  .colab-df-quickchart {\n",
              "    background-color: var(--bg-color);\n",
              "    border: none;\n",
              "    border-radius: 50%;\n",
              "    cursor: pointer;\n",
              "    display: none;\n",
              "    fill: var(--fill-color);\n",
              "    height: 32px;\n",
              "    padding: 0;\n",
              "    width: 32px;\n",
              "  }\n",
              "\n",
              "  .colab-df-quickchart:hover {\n",
              "    background-color: var(--hover-bg-color);\n",
              "    box-shadow: 0 1px 2px rgba(60, 64, 67, 0.3), 0 1px 3px 1px rgba(60, 64, 67, 0.15);\n",
              "    fill: var(--button-hover-fill-color);\n",
              "  }\n",
              "\n",
              "  .colab-df-quickchart-complete:disabled,\n",
              "  .colab-df-quickchart-complete:disabled:hover {\n",
              "    background-color: var(--disabled-bg-color);\n",
              "    fill: var(--disabled-fill-color);\n",
              "    box-shadow: none;\n",
              "  }\n",
              "\n",
              "  .colab-df-spinner {\n",
              "    border: 2px solid var(--fill-color);\n",
              "    border-color: transparent;\n",
              "    border-bottom-color: var(--fill-color);\n",
              "    animation:\n",
              "      spin 1s steps(1) infinite;\n",
              "  }\n",
              "\n",
              "  @keyframes spin {\n",
              "    0% {\n",
              "      border-color: transparent;\n",
              "      border-bottom-color: var(--fill-color);\n",
              "      border-left-color: var(--fill-color);\n",
              "    }\n",
              "    20% {\n",
              "      border-color: transparent;\n",
              "      border-left-color: var(--fill-color);\n",
              "      border-top-color: var(--fill-color);\n",
              "    }\n",
              "    30% {\n",
              "      border-color: transparent;\n",
              "      border-left-color: var(--fill-color);\n",
              "      border-top-color: var(--fill-color);\n",
              "      border-right-color: var(--fill-color);\n",
              "    }\n",
              "    40% {\n",
              "      border-color: transparent;\n",
              "      border-right-color: var(--fill-color);\n",
              "      border-top-color: var(--fill-color);\n",
              "    }\n",
              "    60% {\n",
              "      border-color: transparent;\n",
              "      border-right-color: var(--fill-color);\n",
              "    }\n",
              "    80% {\n",
              "      border-color: transparent;\n",
              "      border-right-color: var(--fill-color);\n",
              "      border-bottom-color: var(--fill-color);\n",
              "    }\n",
              "    90% {\n",
              "      border-color: transparent;\n",
              "      border-bottom-color: var(--fill-color);\n",
              "    }\n",
              "  }\n",
              "</style>\n",
              "\n",
              "  <script>\n",
              "    async function quickchart(key) {\n",
              "      const quickchartButtonEl =\n",
              "        document.querySelector('#' + key + ' button');\n",
              "      quickchartButtonEl.disabled = true;  // To prevent multiple clicks.\n",
              "      quickchartButtonEl.classList.add('colab-df-spinner');\n",
              "      try {\n",
              "        const charts = await google.colab.kernel.invokeFunction(\n",
              "            'suggestCharts', [key], {});\n",
              "      } catch (error) {\n",
              "        console.error('Error during call to suggestCharts:', error);\n",
              "      }\n",
              "      quickchartButtonEl.classList.remove('colab-df-spinner');\n",
              "      quickchartButtonEl.classList.add('colab-df-quickchart-complete');\n",
              "    }\n",
              "    (() => {\n",
              "      let quickchartButtonEl =\n",
              "        document.querySelector('#df-7f50b011-be05-44b3-bc64-085e1b030655 button');\n",
              "      quickchartButtonEl.style.display =\n",
              "        google.colab.kernel.accessAllowed ? 'block' : 'none';\n",
              "    })();\n",
              "  </script>\n",
              "</div>\n",
              "    </div>\n",
              "  </div>\n"
            ]
          },
          "metadata": {},
          "execution_count": 69
        }
      ],
      "source": [
        "pivot_family_status.sort_values(by='count_debt', ascending=False)"
      ]
    },
    {
      "cell_type": "markdown",
      "id": "7ea5566b",
      "metadata": {
        "id": "7ea5566b"
      },
      "source": [
        "**Таблица 3 - Категория \"Цель кредита\"**"
      ]
    },
    {
      "cell_type": "code",
      "execution_count": null,
      "id": "a2bcf264",
      "metadata": {
        "colab": {
          "base_uri": "https://localhost:8080/",
          "height": 175
        },
        "id": "a2bcf264",
        "outputId": "26246c17-64bc-4d72-cd8d-255f33187877"
      },
      "outputs": [
        {
          "output_type": "execute_result",
          "data": {
            "text/plain": [
              "           purpose_category  count_debt  mean_debt\n",
              "0    операции с автомобилем        4279   0.093480\n",
              "1  операции с недвижимостью       10751   0.072551\n",
              "2     получение образования        3988   0.092528\n",
              "3        проведение свадьбы        2313   0.079118"
            ],
            "text/html": [
              "\n",
              "  <div id=\"df-a4540093-a0a8-48af-b4ea-992fc86953d8\" class=\"colab-df-container\">\n",
              "    <div>\n",
              "<style scoped>\n",
              "    .dataframe tbody tr th:only-of-type {\n",
              "        vertical-align: middle;\n",
              "    }\n",
              "\n",
              "    .dataframe tbody tr th {\n",
              "        vertical-align: top;\n",
              "    }\n",
              "\n",
              "    .dataframe thead th {\n",
              "        text-align: right;\n",
              "    }\n",
              "</style>\n",
              "<table border=\"1\" class=\"dataframe\">\n",
              "  <thead>\n",
              "    <tr style=\"text-align: right;\">\n",
              "      <th></th>\n",
              "      <th>purpose_category</th>\n",
              "      <th>count_debt</th>\n",
              "      <th>mean_debt</th>\n",
              "    </tr>\n",
              "  </thead>\n",
              "  <tbody>\n",
              "    <tr>\n",
              "      <th>0</th>\n",
              "      <td>операции с автомобилем</td>\n",
              "      <td>4279</td>\n",
              "      <td>0.093480</td>\n",
              "    </tr>\n",
              "    <tr>\n",
              "      <th>1</th>\n",
              "      <td>операции с недвижимостью</td>\n",
              "      <td>10751</td>\n",
              "      <td>0.072551</td>\n",
              "    </tr>\n",
              "    <tr>\n",
              "      <th>2</th>\n",
              "      <td>получение образования</td>\n",
              "      <td>3988</td>\n",
              "      <td>0.092528</td>\n",
              "    </tr>\n",
              "    <tr>\n",
              "      <th>3</th>\n",
              "      <td>проведение свадьбы</td>\n",
              "      <td>2313</td>\n",
              "      <td>0.079118</td>\n",
              "    </tr>\n",
              "  </tbody>\n",
              "</table>\n",
              "</div>\n",
              "    <div class=\"colab-df-buttons\">\n",
              "\n",
              "  <div class=\"colab-df-container\">\n",
              "    <button class=\"colab-df-convert\" onclick=\"convertToInteractive('df-a4540093-a0a8-48af-b4ea-992fc86953d8')\"\n",
              "            title=\"Convert this dataframe to an interactive table.\"\n",
              "            style=\"display:none;\">\n",
              "\n",
              "  <svg xmlns=\"http://www.w3.org/2000/svg\" height=\"24px\" viewBox=\"0 -960 960 960\">\n",
              "    <path d=\"M120-120v-720h720v720H120Zm60-500h600v-160H180v160Zm220 220h160v-160H400v160Zm0 220h160v-160H400v160ZM180-400h160v-160H180v160Zm440 0h160v-160H620v160ZM180-180h160v-160H180v160Zm440 0h160v-160H620v160Z\"/>\n",
              "  </svg>\n",
              "    </button>\n",
              "\n",
              "  <style>\n",
              "    .colab-df-container {\n",
              "      display:flex;\n",
              "      gap: 12px;\n",
              "    }\n",
              "\n",
              "    .colab-df-convert {\n",
              "      background-color: #E8F0FE;\n",
              "      border: none;\n",
              "      border-radius: 50%;\n",
              "      cursor: pointer;\n",
              "      display: none;\n",
              "      fill: #1967D2;\n",
              "      height: 32px;\n",
              "      padding: 0 0 0 0;\n",
              "      width: 32px;\n",
              "    }\n",
              "\n",
              "    .colab-df-convert:hover {\n",
              "      background-color: #E2EBFA;\n",
              "      box-shadow: 0px 1px 2px rgba(60, 64, 67, 0.3), 0px 1px 3px 1px rgba(60, 64, 67, 0.15);\n",
              "      fill: #174EA6;\n",
              "    }\n",
              "\n",
              "    .colab-df-buttons div {\n",
              "      margin-bottom: 4px;\n",
              "    }\n",
              "\n",
              "    [theme=dark] .colab-df-convert {\n",
              "      background-color: #3B4455;\n",
              "      fill: #D2E3FC;\n",
              "    }\n",
              "\n",
              "    [theme=dark] .colab-df-convert:hover {\n",
              "      background-color: #434B5C;\n",
              "      box-shadow: 0px 1px 3px 1px rgba(0, 0, 0, 0.15);\n",
              "      filter: drop-shadow(0px 1px 2px rgba(0, 0, 0, 0.3));\n",
              "      fill: #FFFFFF;\n",
              "    }\n",
              "  </style>\n",
              "\n",
              "    <script>\n",
              "      const buttonEl =\n",
              "        document.querySelector('#df-a4540093-a0a8-48af-b4ea-992fc86953d8 button.colab-df-convert');\n",
              "      buttonEl.style.display =\n",
              "        google.colab.kernel.accessAllowed ? 'block' : 'none';\n",
              "\n",
              "      async function convertToInteractive(key) {\n",
              "        const element = document.querySelector('#df-a4540093-a0a8-48af-b4ea-992fc86953d8');\n",
              "        const dataTable =\n",
              "          await google.colab.kernel.invokeFunction('convertToInteractive',\n",
              "                                                    [key], {});\n",
              "        if (!dataTable) return;\n",
              "\n",
              "        const docLinkHtml = 'Like what you see? Visit the ' +\n",
              "          '<a target=\"_blank\" href=https://colab.research.google.com/notebooks/data_table.ipynb>data table notebook</a>'\n",
              "          + ' to learn more about interactive tables.';\n",
              "        element.innerHTML = '';\n",
              "        dataTable['output_type'] = 'display_data';\n",
              "        await google.colab.output.renderOutput(dataTable, element);\n",
              "        const docLink = document.createElement('div');\n",
              "        docLink.innerHTML = docLinkHtml;\n",
              "        element.appendChild(docLink);\n",
              "      }\n",
              "    </script>\n",
              "  </div>\n",
              "\n",
              "\n",
              "<div id=\"df-035d72ee-d837-475d-942a-7ff1194afed6\">\n",
              "  <button class=\"colab-df-quickchart\" onclick=\"quickchart('df-035d72ee-d837-475d-942a-7ff1194afed6')\"\n",
              "            title=\"Suggest charts.\"\n",
              "            style=\"display:none;\">\n",
              "\n",
              "<svg xmlns=\"http://www.w3.org/2000/svg\" height=\"24px\"viewBox=\"0 0 24 24\"\n",
              "     width=\"24px\">\n",
              "    <g>\n",
              "        <path d=\"M19 3H5c-1.1 0-2 .9-2 2v14c0 1.1.9 2 2 2h14c1.1 0 2-.9 2-2V5c0-1.1-.9-2-2-2zM9 17H7v-7h2v7zm4 0h-2V7h2v10zm4 0h-2v-4h2v4z\"/>\n",
              "    </g>\n",
              "</svg>\n",
              "  </button>\n",
              "\n",
              "<style>\n",
              "  .colab-df-quickchart {\n",
              "      --bg-color: #E8F0FE;\n",
              "      --fill-color: #1967D2;\n",
              "      --hover-bg-color: #E2EBFA;\n",
              "      --hover-fill-color: #174EA6;\n",
              "      --disabled-fill-color: #AAA;\n",
              "      --disabled-bg-color: #DDD;\n",
              "  }\n",
              "\n",
              "  [theme=dark] .colab-df-quickchart {\n",
              "      --bg-color: #3B4455;\n",
              "      --fill-color: #D2E3FC;\n",
              "      --hover-bg-color: #434B5C;\n",
              "      --hover-fill-color: #FFFFFF;\n",
              "      --disabled-bg-color: #3B4455;\n",
              "      --disabled-fill-color: #666;\n",
              "  }\n",
              "\n",
              "  .colab-df-quickchart {\n",
              "    background-color: var(--bg-color);\n",
              "    border: none;\n",
              "    border-radius: 50%;\n",
              "    cursor: pointer;\n",
              "    display: none;\n",
              "    fill: var(--fill-color);\n",
              "    height: 32px;\n",
              "    padding: 0;\n",
              "    width: 32px;\n",
              "  }\n",
              "\n",
              "  .colab-df-quickchart:hover {\n",
              "    background-color: var(--hover-bg-color);\n",
              "    box-shadow: 0 1px 2px rgba(60, 64, 67, 0.3), 0 1px 3px 1px rgba(60, 64, 67, 0.15);\n",
              "    fill: var(--button-hover-fill-color);\n",
              "  }\n",
              "\n",
              "  .colab-df-quickchart-complete:disabled,\n",
              "  .colab-df-quickchart-complete:disabled:hover {\n",
              "    background-color: var(--disabled-bg-color);\n",
              "    fill: var(--disabled-fill-color);\n",
              "    box-shadow: none;\n",
              "  }\n",
              "\n",
              "  .colab-df-spinner {\n",
              "    border: 2px solid var(--fill-color);\n",
              "    border-color: transparent;\n",
              "    border-bottom-color: var(--fill-color);\n",
              "    animation:\n",
              "      spin 1s steps(1) infinite;\n",
              "  }\n",
              "\n",
              "  @keyframes spin {\n",
              "    0% {\n",
              "      border-color: transparent;\n",
              "      border-bottom-color: var(--fill-color);\n",
              "      border-left-color: var(--fill-color);\n",
              "    }\n",
              "    20% {\n",
              "      border-color: transparent;\n",
              "      border-left-color: var(--fill-color);\n",
              "      border-top-color: var(--fill-color);\n",
              "    }\n",
              "    30% {\n",
              "      border-color: transparent;\n",
              "      border-left-color: var(--fill-color);\n",
              "      border-top-color: var(--fill-color);\n",
              "      border-right-color: var(--fill-color);\n",
              "    }\n",
              "    40% {\n",
              "      border-color: transparent;\n",
              "      border-right-color: var(--fill-color);\n",
              "      border-top-color: var(--fill-color);\n",
              "    }\n",
              "    60% {\n",
              "      border-color: transparent;\n",
              "      border-right-color: var(--fill-color);\n",
              "    }\n",
              "    80% {\n",
              "      border-color: transparent;\n",
              "      border-right-color: var(--fill-color);\n",
              "      border-bottom-color: var(--fill-color);\n",
              "    }\n",
              "    90% {\n",
              "      border-color: transparent;\n",
              "      border-bottom-color: var(--fill-color);\n",
              "    }\n",
              "  }\n",
              "</style>\n",
              "\n",
              "  <script>\n",
              "    async function quickchart(key) {\n",
              "      const quickchartButtonEl =\n",
              "        document.querySelector('#' + key + ' button');\n",
              "      quickchartButtonEl.disabled = true;  // To prevent multiple clicks.\n",
              "      quickchartButtonEl.classList.add('colab-df-spinner');\n",
              "      try {\n",
              "        const charts = await google.colab.kernel.invokeFunction(\n",
              "            'suggestCharts', [key], {});\n",
              "      } catch (error) {\n",
              "        console.error('Error during call to suggestCharts:', error);\n",
              "      }\n",
              "      quickchartButtonEl.classList.remove('colab-df-spinner');\n",
              "      quickchartButtonEl.classList.add('colab-df-quickchart-complete');\n",
              "    }\n",
              "    (() => {\n",
              "      let quickchartButtonEl =\n",
              "        document.querySelector('#df-035d72ee-d837-475d-942a-7ff1194afed6 button');\n",
              "      quickchartButtonEl.style.display =\n",
              "        google.colab.kernel.accessAllowed ? 'block' : 'none';\n",
              "    })();\n",
              "  </script>\n",
              "</div>\n",
              "    </div>\n",
              "  </div>\n"
            ]
          },
          "metadata": {},
          "execution_count": 70
        }
      ],
      "source": [
        "pivot_purpose_category"
      ]
    },
    {
      "cell_type": "markdown",
      "id": "ab58ca94",
      "metadata": {
        "id": "ab58ca94"
      },
      "source": [
        "**Таблица 4 - Категория \"Уровень дохода\"**"
      ]
    },
    {
      "cell_type": "code",
      "execution_count": null,
      "id": "81d573ba",
      "metadata": {
        "colab": {
          "base_uri": "https://localhost:8080/",
          "height": 206
        },
        "id": "81d573ba",
        "outputId": "3d9ef305-45a1-4b2f-8af4-f332ddc3c130"
      },
      "outputs": [
        {
          "output_type": "execute_result",
          "data": {
            "text/plain": [
              "  total_income_category  sum_total_income  count_total_income  \\\n",
              "0                     A          33477949                  25   \n",
              "1                     B        1437226770                5014   \n",
              "2                     C        2040674672               15921   \n",
              "3                     D          14979233                 349   \n",
              "4                     E            567486                  22   \n",
              "\n",
              "   median_total_income  mean_debt  \n",
              "0              1223042   0.080000  \n",
              "1               257558   0.070602  \n",
              "2               130355   0.084982  \n",
              "3                43929   0.060172  \n",
              "4                26431   0.090909  "
            ],
            "text/html": [
              "\n",
              "  <div id=\"df-df5cd2a1-0b75-4d94-afa5-c9c25e9b5cbf\" class=\"colab-df-container\">\n",
              "    <div>\n",
              "<style scoped>\n",
              "    .dataframe tbody tr th:only-of-type {\n",
              "        vertical-align: middle;\n",
              "    }\n",
              "\n",
              "    .dataframe tbody tr th {\n",
              "        vertical-align: top;\n",
              "    }\n",
              "\n",
              "    .dataframe thead th {\n",
              "        text-align: right;\n",
              "    }\n",
              "</style>\n",
              "<table border=\"1\" class=\"dataframe\">\n",
              "  <thead>\n",
              "    <tr style=\"text-align: right;\">\n",
              "      <th></th>\n",
              "      <th>total_income_category</th>\n",
              "      <th>sum_total_income</th>\n",
              "      <th>count_total_income</th>\n",
              "      <th>median_total_income</th>\n",
              "      <th>mean_debt</th>\n",
              "    </tr>\n",
              "  </thead>\n",
              "  <tbody>\n",
              "    <tr>\n",
              "      <th>0</th>\n",
              "      <td>A</td>\n",
              "      <td>33477949</td>\n",
              "      <td>25</td>\n",
              "      <td>1223042</td>\n",
              "      <td>0.080000</td>\n",
              "    </tr>\n",
              "    <tr>\n",
              "      <th>1</th>\n",
              "      <td>B</td>\n",
              "      <td>1437226770</td>\n",
              "      <td>5014</td>\n",
              "      <td>257558</td>\n",
              "      <td>0.070602</td>\n",
              "    </tr>\n",
              "    <tr>\n",
              "      <th>2</th>\n",
              "      <td>C</td>\n",
              "      <td>2040674672</td>\n",
              "      <td>15921</td>\n",
              "      <td>130355</td>\n",
              "      <td>0.084982</td>\n",
              "    </tr>\n",
              "    <tr>\n",
              "      <th>3</th>\n",
              "      <td>D</td>\n",
              "      <td>14979233</td>\n",
              "      <td>349</td>\n",
              "      <td>43929</td>\n",
              "      <td>0.060172</td>\n",
              "    </tr>\n",
              "    <tr>\n",
              "      <th>4</th>\n",
              "      <td>E</td>\n",
              "      <td>567486</td>\n",
              "      <td>22</td>\n",
              "      <td>26431</td>\n",
              "      <td>0.090909</td>\n",
              "    </tr>\n",
              "  </tbody>\n",
              "</table>\n",
              "</div>\n",
              "    <div class=\"colab-df-buttons\">\n",
              "\n",
              "  <div class=\"colab-df-container\">\n",
              "    <button class=\"colab-df-convert\" onclick=\"convertToInteractive('df-df5cd2a1-0b75-4d94-afa5-c9c25e9b5cbf')\"\n",
              "            title=\"Convert this dataframe to an interactive table.\"\n",
              "            style=\"display:none;\">\n",
              "\n",
              "  <svg xmlns=\"http://www.w3.org/2000/svg\" height=\"24px\" viewBox=\"0 -960 960 960\">\n",
              "    <path d=\"M120-120v-720h720v720H120Zm60-500h600v-160H180v160Zm220 220h160v-160H400v160Zm0 220h160v-160H400v160ZM180-400h160v-160H180v160Zm440 0h160v-160H620v160ZM180-180h160v-160H180v160Zm440 0h160v-160H620v160Z\"/>\n",
              "  </svg>\n",
              "    </button>\n",
              "\n",
              "  <style>\n",
              "    .colab-df-container {\n",
              "      display:flex;\n",
              "      gap: 12px;\n",
              "    }\n",
              "\n",
              "    .colab-df-convert {\n",
              "      background-color: #E8F0FE;\n",
              "      border: none;\n",
              "      border-radius: 50%;\n",
              "      cursor: pointer;\n",
              "      display: none;\n",
              "      fill: #1967D2;\n",
              "      height: 32px;\n",
              "      padding: 0 0 0 0;\n",
              "      width: 32px;\n",
              "    }\n",
              "\n",
              "    .colab-df-convert:hover {\n",
              "      background-color: #E2EBFA;\n",
              "      box-shadow: 0px 1px 2px rgba(60, 64, 67, 0.3), 0px 1px 3px 1px rgba(60, 64, 67, 0.15);\n",
              "      fill: #174EA6;\n",
              "    }\n",
              "\n",
              "    .colab-df-buttons div {\n",
              "      margin-bottom: 4px;\n",
              "    }\n",
              "\n",
              "    [theme=dark] .colab-df-convert {\n",
              "      background-color: #3B4455;\n",
              "      fill: #D2E3FC;\n",
              "    }\n",
              "\n",
              "    [theme=dark] .colab-df-convert:hover {\n",
              "      background-color: #434B5C;\n",
              "      box-shadow: 0px 1px 3px 1px rgba(0, 0, 0, 0.15);\n",
              "      filter: drop-shadow(0px 1px 2px rgba(0, 0, 0, 0.3));\n",
              "      fill: #FFFFFF;\n",
              "    }\n",
              "  </style>\n",
              "\n",
              "    <script>\n",
              "      const buttonEl =\n",
              "        document.querySelector('#df-df5cd2a1-0b75-4d94-afa5-c9c25e9b5cbf button.colab-df-convert');\n",
              "      buttonEl.style.display =\n",
              "        google.colab.kernel.accessAllowed ? 'block' : 'none';\n",
              "\n",
              "      async function convertToInteractive(key) {\n",
              "        const element = document.querySelector('#df-df5cd2a1-0b75-4d94-afa5-c9c25e9b5cbf');\n",
              "        const dataTable =\n",
              "          await google.colab.kernel.invokeFunction('convertToInteractive',\n",
              "                                                    [key], {});\n",
              "        if (!dataTable) return;\n",
              "\n",
              "        const docLinkHtml = 'Like what you see? Visit the ' +\n",
              "          '<a target=\"_blank\" href=https://colab.research.google.com/notebooks/data_table.ipynb>data table notebook</a>'\n",
              "          + ' to learn more about interactive tables.';\n",
              "        element.innerHTML = '';\n",
              "        dataTable['output_type'] = 'display_data';\n",
              "        await google.colab.output.renderOutput(dataTable, element);\n",
              "        const docLink = document.createElement('div');\n",
              "        docLink.innerHTML = docLinkHtml;\n",
              "        element.appendChild(docLink);\n",
              "      }\n",
              "    </script>\n",
              "  </div>\n",
              "\n",
              "\n",
              "<div id=\"df-210aad4d-28a1-4091-8128-b50c61842344\">\n",
              "  <button class=\"colab-df-quickchart\" onclick=\"quickchart('df-210aad4d-28a1-4091-8128-b50c61842344')\"\n",
              "            title=\"Suggest charts.\"\n",
              "            style=\"display:none;\">\n",
              "\n",
              "<svg xmlns=\"http://www.w3.org/2000/svg\" height=\"24px\"viewBox=\"0 0 24 24\"\n",
              "     width=\"24px\">\n",
              "    <g>\n",
              "        <path d=\"M19 3H5c-1.1 0-2 .9-2 2v14c0 1.1.9 2 2 2h14c1.1 0 2-.9 2-2V5c0-1.1-.9-2-2-2zM9 17H7v-7h2v7zm4 0h-2V7h2v10zm4 0h-2v-4h2v4z\"/>\n",
              "    </g>\n",
              "</svg>\n",
              "  </button>\n",
              "\n",
              "<style>\n",
              "  .colab-df-quickchart {\n",
              "      --bg-color: #E8F0FE;\n",
              "      --fill-color: #1967D2;\n",
              "      --hover-bg-color: #E2EBFA;\n",
              "      --hover-fill-color: #174EA6;\n",
              "      --disabled-fill-color: #AAA;\n",
              "      --disabled-bg-color: #DDD;\n",
              "  }\n",
              "\n",
              "  [theme=dark] .colab-df-quickchart {\n",
              "      --bg-color: #3B4455;\n",
              "      --fill-color: #D2E3FC;\n",
              "      --hover-bg-color: #434B5C;\n",
              "      --hover-fill-color: #FFFFFF;\n",
              "      --disabled-bg-color: #3B4455;\n",
              "      --disabled-fill-color: #666;\n",
              "  }\n",
              "\n",
              "  .colab-df-quickchart {\n",
              "    background-color: var(--bg-color);\n",
              "    border: none;\n",
              "    border-radius: 50%;\n",
              "    cursor: pointer;\n",
              "    display: none;\n",
              "    fill: var(--fill-color);\n",
              "    height: 32px;\n",
              "    padding: 0;\n",
              "    width: 32px;\n",
              "  }\n",
              "\n",
              "  .colab-df-quickchart:hover {\n",
              "    background-color: var(--hover-bg-color);\n",
              "    box-shadow: 0 1px 2px rgba(60, 64, 67, 0.3), 0 1px 3px 1px rgba(60, 64, 67, 0.15);\n",
              "    fill: var(--button-hover-fill-color);\n",
              "  }\n",
              "\n",
              "  .colab-df-quickchart-complete:disabled,\n",
              "  .colab-df-quickchart-complete:disabled:hover {\n",
              "    background-color: var(--disabled-bg-color);\n",
              "    fill: var(--disabled-fill-color);\n",
              "    box-shadow: none;\n",
              "  }\n",
              "\n",
              "  .colab-df-spinner {\n",
              "    border: 2px solid var(--fill-color);\n",
              "    border-color: transparent;\n",
              "    border-bottom-color: var(--fill-color);\n",
              "    animation:\n",
              "      spin 1s steps(1) infinite;\n",
              "  }\n",
              "\n",
              "  @keyframes spin {\n",
              "    0% {\n",
              "      border-color: transparent;\n",
              "      border-bottom-color: var(--fill-color);\n",
              "      border-left-color: var(--fill-color);\n",
              "    }\n",
              "    20% {\n",
              "      border-color: transparent;\n",
              "      border-left-color: var(--fill-color);\n",
              "      border-top-color: var(--fill-color);\n",
              "    }\n",
              "    30% {\n",
              "      border-color: transparent;\n",
              "      border-left-color: var(--fill-color);\n",
              "      border-top-color: var(--fill-color);\n",
              "      border-right-color: var(--fill-color);\n",
              "    }\n",
              "    40% {\n",
              "      border-color: transparent;\n",
              "      border-right-color: var(--fill-color);\n",
              "      border-top-color: var(--fill-color);\n",
              "    }\n",
              "    60% {\n",
              "      border-color: transparent;\n",
              "      border-right-color: var(--fill-color);\n",
              "    }\n",
              "    80% {\n",
              "      border-color: transparent;\n",
              "      border-right-color: var(--fill-color);\n",
              "      border-bottom-color: var(--fill-color);\n",
              "    }\n",
              "    90% {\n",
              "      border-color: transparent;\n",
              "      border-bottom-color: var(--fill-color);\n",
              "    }\n",
              "  }\n",
              "</style>\n",
              "\n",
              "  <script>\n",
              "    async function quickchart(key) {\n",
              "      const quickchartButtonEl =\n",
              "        document.querySelector('#' + key + ' button');\n",
              "      quickchartButtonEl.disabled = true;  // To prevent multiple clicks.\n",
              "      quickchartButtonEl.classList.add('colab-df-spinner');\n",
              "      try {\n",
              "        const charts = await google.colab.kernel.invokeFunction(\n",
              "            'suggestCharts', [key], {});\n",
              "      } catch (error) {\n",
              "        console.error('Error during call to suggestCharts:', error);\n",
              "      }\n",
              "      quickchartButtonEl.classList.remove('colab-df-spinner');\n",
              "      quickchartButtonEl.classList.add('colab-df-quickchart-complete');\n",
              "    }\n",
              "    (() => {\n",
              "      let quickchartButtonEl =\n",
              "        document.querySelector('#df-210aad4d-28a1-4091-8128-b50c61842344 button');\n",
              "      quickchartButtonEl.style.display =\n",
              "        google.colab.kernel.accessAllowed ? 'block' : 'none';\n",
              "    })();\n",
              "  </script>\n",
              "</div>\n",
              "    </div>\n",
              "  </div>\n"
            ]
          },
          "metadata": {},
          "execution_count": 71
        }
      ],
      "source": [
        "data_income_total"
      ]
    },
    {
      "cell_type": "markdown",
      "id": "b72af8b3",
      "metadata": {
        "id": "b72af8b3"
      },
      "source": [
        "Подробный анализ сформированных таблиц показал следующие выводы:\n",
        "\n",
        "- наиболее благоприятной **категорией по семейному положению** является категория \"Женат/замужем\", так как на эту категорию приходится наименьшее количество должников. В то время как самой неблагоприятной является категория \"Не женат/не замужем\". Данная зависимость может быть связана с тем, что у категории людей \"Женат/замужем\" доход выше, так как присутсвует два основных дохода, которые могут друг друга подстраховывать.\n",
        "\n",
        "- наиболее благоприятной **категорией по количеству детей заемщика** является категория \"Без детей\". Наибольшее количества выданных кредитов приходится на данную группу, а также процентное соотношение должников по данной категории почти на 20% меньше, чем у самой неблагоприятной категории \"4 ребенка\". Данная зависимость может быть обусловлена отсутствием дополнительных расходов у категории \"Без детей\".\n",
        "\n",
        "- наиболее благоприятной **категорией по цели кредита** являются категории \"Операция с недвижимостью\" и \"Проведение свадьбы\", на данные категории приходится наименьшее количество должников. По категории \"Операция с недвижимостью\" зависимость может быть обусловлена тем, что данные операции являются долгосрочными и для заемщика рискованными, в виду не уплаты долго имеется риск потери недвижимость. По категории \"Проведение сввадьбы\" зависимость может быть обусловлена тем, что размера кредитования может быть невелик, также закрыт в кратчайшие сроки.\n",
        "\n",
        "- наиболее благоприятной **категорией по уровню дохода** является категория \"В\" с заработком от 200 001 до 1 000 000. На категорию \"С\" с заработком от 50 001 до 200 000 приходится наибольшее количество выданных кредитов, при этом количество должников почти на 15% больше, чем по категории \"В\". Данная зависимость обусловлена одним из факторов -  средний суммарный доход на категорию \"С\" в 2 раза меньше чем у категории \"С\".  "
      ]
    },
    {
      "cell_type": "markdown",
      "id": "93e06223",
      "metadata": {
        "id": "93e06223"
      },
      "source": [
        "**Диаграмма \"Средний суммурный доход\"**"
      ]
    },
    {
      "cell_type": "code",
      "execution_count": null,
      "id": "3f0ae0b4",
      "metadata": {
        "colab": {
          "base_uri": "https://localhost:8080/",
          "height": 482
        },
        "id": "3f0ae0b4",
        "outputId": "ac244fbc-412a-4209-ba28-d952742a27b3"
      },
      "outputs": [
        {
          "output_type": "execute_result",
          "data": {
            "text/plain": [
              "<Axes: xlabel='total_income_category', ylabel='median_total_income'>"
            ]
          },
          "metadata": {},
          "execution_count": 72
        },
        {
          "output_type": "display_data",
          "data": {
            "text/plain": [
              "<Figure size 640x480 with 1 Axes>"
            ],
            "image/png": "[encoded data removed]"
          },
          "metadata": {}
        }
      ],
      "source": [
        "seaborn.barplot(x=data_income_total['total_income_category'], y=data_income_total['median_total_income'])"
      ]
    },
    {
      "cell_type": "markdown",
      "id": "ff927720",
      "metadata": {
        "id": "ff927720"
      },
      "source": [
        "<div class=\"alert alert-warning\">\n",
        "<s><b>Комментарий ревьюера ⚠️:</b> Итоговый вывод - это главный продукт аналитика. Можно представить, что заказчик работы будет читать только выводы, поэтому он должен найти здесь всю информацию - какие перед тобой стояли цели и задачи, какой был план работы и коротко промежуточные результаты, и затем итоговые ответы на поставленные вопросы. Эта та часть работы, где не нужно скупиться на слова :)"
      ]
    },
    {
      "cell_type": "markdown",
      "id": "bc09fa38",
      "metadata": {
        "id": "bc09fa38"
      },
      "source": [
        "<div class=\"alert alert-success\">\n",
        "<b>Комментарий ревьюера 2V ✔️✔️:</b> Вот это да, вот это выводы! Молодец! Можно сразу готовую презентацию делать :)\n",
        "    \n",
        "Для будущих проектов рекомендую писать максимально полные выводы, но не дублировать в них таблицы и графики (и вообще не дублировать ячейки с кодом). Идея в том, что в реальной рабочей ситуации аналитик пишет выводы (вместе с графиками) в pdf/ppt-презентации, которую потом отправляет заказчику или руководителю (внутреннему заказчику), а Notebook с расчетами оставляет для себя. В рамках курса у нас ситуация не рабочая, а учебная, поэтому мы презентации не делаем каждый раз и просим оформлять тетрадку получше (чтобы ревьер что-то понял при проверке), и выводы писать полные прямо в тетрадке, но графики и таблицы дублировать не нужно, ревьюер их сам посмотрит выше.\n",
        "\n",
        "В будущем в рамках курса будет и проект с презентацией."
      ]
    },
    {
      "cell_type": "markdown",
      "id": "c5b8982d",
      "metadata": {
        "id": "c5b8982d"
      },
      "source": [
        "<div style=\"border:solid purple 2px; padding: 20px\">\n",
        "    \n",
        "**Комментарий ревьюера**\n",
        "\n",
        "Денис, спасибо за проект. В расчетной части всё безупречно, ты используешь верные инструменты и хорошо оформляешь код и расчеты.  \n",
        "    \n",
        "Нужно пересмотреть подход к выводам. Во-первых, разница в сотых долях не такая маленькая как может показаться, во вторых в итоговых выводах хочется больше результатов и их интерпретаций.\n",
        "    \n",
        "Исправь, пожалуйста, все задания, отмеченные красными комментариями, чтобы я могла принять твою работу.\n",
        "    \n",
        "Если будет время, то желтые комментарии тоже можно применить прямо в этой работе или учесть их на будущее.\n",
        "    \n",
        "\n",
        "Если у тебя есть какие-то вопросы по комментариям или по проекту, напиши их также в своих комментариях, я постараюсь ответить."
      ]
    },
    {
      "cell_type": "markdown",
      "id": "d0bec767",
      "metadata": {
        "id": "d0bec767"
      },
      "source": [
        "<div class=\"alert alert-info\">\n",
        "<b>Комментарий студента:</b> Спасибо большое за конструктивную критику, после прочтения комментариев появилось больше уверености и понимания, что необходимо. При первой попытке оформления выводов поймал непонятное состояние отчания, будто все напрасно и со своими выводами далеко не уеду. Но твои комментарии дали больше красок для понимания всей картины в целом. :</div>"
      ]
    },
    {
      "cell_type": "markdown",
      "id": "1338e88d",
      "metadata": {
        "id": "1338e88d"
      },
      "source": [
        "<div class=\"alert alert-success\">\n",
        "<b>Комментарий ревьюера 2V ✔️✔️:</b> Спасибо за обратную связь, рада, что мои комментарии полезны :)"
      ]
    },
    {
      "cell_type": "markdown",
      "id": "8616b1b6",
      "metadata": {
        "id": "8616b1b6"
      },
      "source": [
        "<div class=\"alert alert-info\">\n",
        "<b>Комментарий студента:</b> Также вопрос по проекту. В начале прохождения скрипта была рекомандация в проекте использовать метод try: ... except: ... Я если честно капаясь с заданиями, так и не понял где его можно было применить. Подскажи, пожалуйста, имеются ли тут задания где уместен этот метод, почему и как его применить в части логики?</div>"
      ]
    },
    {
      "cell_type": "markdown",
      "id": "e721fae8",
      "metadata": {
        "id": "e721fae8"
      },
      "source": [
        "<div class=\"alert alert-success\">\n",
        "<b>Комментарий ревьюера 2V ✔️✔️:</b> Эта конструкция очень полезна в самом начале проекта при загрузке данных. <a href=#link2>Она уже есть в проекте тут.</a>\n",
        "    \n",
        "Часть студентов делает проекты локально и потом загружает готовую тетрадку на проверку. В этом случае путь к данным будет отличаться у студента и у ревьера, нужно не забыть этот путь переписать перед отправкой. А можно сразу написать функцию, которая будет пробовать первый, локальный, путь и, если данные не загрузились, пробовать второй путь."
      ]
    },
    {
      "cell_type": "markdown",
      "id": "55a797f8",
      "metadata": {
        "id": "55a797f8"
      },
      "source": [
        "<div style=\"border:solid purple 2px; padding: 20px\">\n",
        "    \n",
        "**Комментарий ревьюера**\n",
        "\n",
        "Денис, спасибо за отличную работу, все доработки проекта и обратную связь. С радостью принимаю проект и желаю успехов в дальнейшем обучении."
      ]
    },
    {
      "cell_type": "code",
      "execution_count": null,
      "id": "5c6cfa61",
      "metadata": {
        "id": "5c6cfa61"
      },
      "outputs": [],
      "source": []
    }
  ],
  "metadata": {
    "ExecuteTimeLog": [
      {
        "duration": 44,
        "start_time": "2022-12-05T20:45:35.483Z"
      },
      {
        "duration": 6,
        "start_time": "2022-12-05T20:45:41.762Z"
      },
      {
        "duration": 494,
        "start_time": "2022-12-05T20:45:49.224Z"
      },
      {
        "duration": 23,
        "start_time": "2022-12-05T20:45:49.720Z"
      },
      {
        "duration": 14,
        "start_time": "2022-12-05T20:45:49.745Z"
      },
      {
        "duration": 10,
        "start_time": "2022-12-05T20:45:49.761Z"
      },
      {
        "duration": 43,
        "start_time": "2022-12-05T20:45:49.773Z"
      },
      {
        "duration": 3,
        "start_time": "2022-12-05T20:45:49.818Z"
      },
      {
        "duration": 12,
        "start_time": "2022-12-05T20:45:49.822Z"
      },
      {
        "duration": 20,
        "start_time": "2022-12-05T20:45:49.835Z"
      },
      {
        "duration": 8,
        "start_time": "2022-12-05T20:45:49.856Z"
      },
      {
        "duration": 6,
        "start_time": "2022-12-05T20:45:49.866Z"
      },
      {
        "duration": 34,
        "start_time": "2022-12-05T20:45:49.874Z"
      },
      {
        "duration": 10,
        "start_time": "2022-12-05T20:45:49.909Z"
      },
      {
        "duration": 32,
        "start_time": "2022-12-05T20:45:49.920Z"
      },
      {
        "duration": 10,
        "start_time": "2022-12-05T20:45:49.955Z"
      },
      {
        "duration": 22,
        "start_time": "2022-12-05T20:45:49.967Z"
      },
      {
        "duration": 16,
        "start_time": "2022-12-05T20:45:49.991Z"
      },
      {
        "duration": 3,
        "start_time": "2022-12-05T20:45:50.008Z"
      },
      {
        "duration": 39,
        "start_time": "2022-12-05T20:45:50.013Z"
      },
      {
        "duration": 5,
        "start_time": "2022-12-05T20:45:50.054Z"
      },
      {
        "duration": 4,
        "start_time": "2022-12-05T20:45:50.061Z"
      },
      {
        "duration": 22,
        "start_time": "2022-12-05T20:45:50.067Z"
      },
      {
        "duration": 7,
        "start_time": "2022-12-05T20:45:50.091Z"
      },
      {
        "duration": 7,
        "start_time": "2022-12-05T20:45:50.099Z"
      },
      {
        "duration": 5,
        "start_time": "2022-12-05T20:45:50.107Z"
      },
      {
        "duration": 6,
        "start_time": "2022-12-05T20:45:50.113Z"
      },
      {
        "duration": 13,
        "start_time": "2022-12-05T20:45:53.603Z"
      },
      {
        "duration": 4,
        "start_time": "2022-12-05T20:55:09.486Z"
      },
      {
        "duration": 45,
        "start_time": "2022-12-06T07:09:19.477Z"
      },
      {
        "duration": 523,
        "start_time": "2022-12-06T07:09:29.112Z"
      },
      {
        "duration": 22,
        "start_time": "2022-12-06T07:09:29.636Z"
      },
      {
        "duration": 14,
        "start_time": "2022-12-06T07:09:29.659Z"
      },
      {
        "duration": 9,
        "start_time": "2022-12-06T07:09:29.675Z"
      },
      {
        "duration": 39,
        "start_time": "2022-12-06T07:09:29.685Z"
      },
      {
        "duration": 4,
        "start_time": "2022-12-06T07:09:29.726Z"
      },
      {
        "duration": 20,
        "start_time": "2022-12-06T07:09:29.731Z"
      },
      {
        "duration": 5,
        "start_time": "2022-12-06T07:09:29.754Z"
      },
      {
        "duration": 7,
        "start_time": "2022-12-06T07:09:29.761Z"
      },
      {
        "duration": 8,
        "start_time": "2022-12-06T07:09:29.772Z"
      },
      {
        "duration": 49,
        "start_time": "2022-12-06T07:09:29.782Z"
      },
      {
        "duration": 10,
        "start_time": "2022-12-06T07:09:29.832Z"
      },
      {
        "duration": 5,
        "start_time": "2022-12-06T07:09:29.843Z"
      },
      {
        "duration": 11,
        "start_time": "2022-12-06T07:09:29.850Z"
      },
      {
        "duration": 19,
        "start_time": "2022-12-06T07:09:29.862Z"
      },
      {
        "duration": 36,
        "start_time": "2022-12-06T07:09:29.883Z"
      },
      {
        "duration": 4,
        "start_time": "2022-12-06T07:09:29.921Z"
      },
      {
        "duration": 20,
        "start_time": "2022-12-06T07:09:29.926Z"
      },
      {
        "duration": 19,
        "start_time": "2022-12-06T07:09:29.947Z"
      },
      {
        "duration": 4,
        "start_time": "2022-12-06T07:09:29.967Z"
      },
      {
        "duration": 19,
        "start_time": "2022-12-06T07:09:29.972Z"
      },
      {
        "duration": 44,
        "start_time": "2022-12-06T07:09:29.992Z"
      },
      {
        "duration": 14,
        "start_time": "2022-12-06T07:09:30.038Z"
      },
      {
        "duration": 6,
        "start_time": "2022-12-06T07:09:30.053Z"
      },
      {
        "duration": 11,
        "start_time": "2022-12-06T07:09:30.061Z"
      },
      {
        "duration": 469,
        "start_time": "2022-12-06T07:11:13.304Z"
      },
      {
        "duration": 22,
        "start_time": "2022-12-06T07:11:13.774Z"
      },
      {
        "duration": 15,
        "start_time": "2022-12-06T07:11:13.797Z"
      },
      {
        "duration": 11,
        "start_time": "2022-12-06T07:11:13.815Z"
      },
      {
        "duration": 36,
        "start_time": "2022-12-06T07:11:13.828Z"
      },
      {
        "duration": 3,
        "start_time": "2022-12-06T07:11:13.866Z"
      },
      {
        "duration": 39,
        "start_time": "2022-12-06T07:11:13.871Z"
      },
      {
        "duration": 3,
        "start_time": "2022-12-06T07:11:13.912Z"
      },
      {
        "duration": 8,
        "start_time": "2022-12-06T07:11:13.917Z"
      },
      {
        "duration": 4,
        "start_time": "2022-12-06T07:11:13.927Z"
      },
      {
        "duration": 36,
        "start_time": "2022-12-06T07:11:13.933Z"
      },
      {
        "duration": 39,
        "start_time": "2022-12-06T07:11:13.970Z"
      },
      {
        "duration": 7,
        "start_time": "2022-12-06T07:11:14.010Z"
      },
      {
        "duration": 13,
        "start_time": "2022-12-06T07:11:14.018Z"
      },
      {
        "duration": 25,
        "start_time": "2022-12-06T07:11:14.032Z"
      },
      {
        "duration": 17,
        "start_time": "2022-12-06T07:11:14.058Z"
      },
      {
        "duration": 4,
        "start_time": "2022-12-06T07:11:14.077Z"
      },
      {
        "duration": 30,
        "start_time": "2022-12-06T07:11:14.083Z"
      },
      {
        "duration": 9,
        "start_time": "2022-12-06T07:11:14.115Z"
      },
      {
        "duration": 5,
        "start_time": "2022-12-06T07:11:14.126Z"
      },
      {
        "duration": 16,
        "start_time": "2022-12-06T07:11:14.132Z"
      },
      {
        "duration": 72,
        "start_time": "2022-12-06T07:11:14.149Z"
      },
      {
        "duration": 0,
        "start_time": "2022-12-06T07:11:14.223Z"
      },
      {
        "duration": 0,
        "start_time": "2022-12-06T07:11:14.226Z"
      },
      {
        "duration": 0,
        "start_time": "2022-12-06T07:11:14.227Z"
      },
      {
        "duration": 0,
        "start_time": "2022-12-06T07:11:14.229Z"
      },
      {
        "duration": 74,
        "start_time": "2022-12-06T07:30:03.992Z"
      },
      {
        "duration": 12,
        "start_time": "2022-12-06T07:30:15.415Z"
      },
      {
        "duration": 11,
        "start_time": "2022-12-06T07:31:04.785Z"
      },
      {
        "duration": 12,
        "start_time": "2022-12-06T07:31:12.253Z"
      },
      {
        "duration": 4,
        "start_time": "2022-12-06T19:02:23.981Z"
      },
      {
        "duration": 54,
        "start_time": "2022-12-06T19:21:01.785Z"
      },
      {
        "duration": 578,
        "start_time": "2022-12-06T19:21:22.294Z"
      },
      {
        "duration": 25,
        "start_time": "2022-12-06T19:21:22.874Z"
      },
      {
        "duration": 17,
        "start_time": "2022-12-06T19:21:22.901Z"
      },
      {
        "duration": 23,
        "start_time": "2022-12-06T19:21:22.920Z"
      },
      {
        "duration": 33,
        "start_time": "2022-12-06T19:21:22.945Z"
      },
      {
        "duration": 3,
        "start_time": "2022-12-06T19:21:22.980Z"
      },
      {
        "duration": 12,
        "start_time": "2022-12-06T19:21:22.985Z"
      },
      {
        "duration": 4,
        "start_time": "2022-12-06T19:21:22.999Z"
      },
      {
        "duration": 8,
        "start_time": "2022-12-06T19:21:23.014Z"
      },
      {
        "duration": 14,
        "start_time": "2022-12-06T19:21:23.025Z"
      },
      {
        "duration": 35,
        "start_time": "2022-12-06T19:21:23.040Z"
      },
      {
        "duration": 9,
        "start_time": "2022-12-06T19:21:23.077Z"
      },
      {
        "duration": 25,
        "start_time": "2022-12-06T19:21:23.088Z"
      },
      {
        "duration": 26,
        "start_time": "2022-12-06T19:21:23.115Z"
      },
      {
        "duration": 22,
        "start_time": "2022-12-06T19:21:23.142Z"
      },
      {
        "duration": 17,
        "start_time": "2022-12-06T19:21:23.165Z"
      },
      {
        "duration": 3,
        "start_time": "2022-12-06T19:21:23.184Z"
      },
      {
        "duration": 12,
        "start_time": "2022-12-06T19:21:23.189Z"
      },
      {
        "duration": 31,
        "start_time": "2022-12-06T19:21:23.203Z"
      },
      {
        "duration": 4,
        "start_time": "2022-12-06T19:21:23.236Z"
      },
      {
        "duration": 13,
        "start_time": "2022-12-06T19:21:23.242Z"
      },
      {
        "duration": 81,
        "start_time": "2022-12-06T19:21:23.256Z"
      },
      {
        "duration": 0,
        "start_time": "2022-12-06T19:21:23.339Z"
      },
      {
        "duration": 0,
        "start_time": "2022-12-06T19:21:23.340Z"
      },
      {
        "duration": 0,
        "start_time": "2022-12-06T19:21:23.341Z"
      },
      {
        "duration": 16,
        "start_time": "2022-12-06T19:22:35.182Z"
      },
      {
        "duration": 27,
        "start_time": "2022-12-06T19:22:49.385Z"
      },
      {
        "duration": 20,
        "start_time": "2022-12-06T19:49:19.238Z"
      },
      {
        "duration": 21,
        "start_time": "2022-12-06T19:49:46.899Z"
      },
      {
        "duration": 16,
        "start_time": "2022-12-06T19:51:14.181Z"
      },
      {
        "duration": 6,
        "start_time": "2022-12-06T20:11:09.008Z"
      },
      {
        "duration": 468,
        "start_time": "2022-12-06T20:12:16.309Z"
      },
      {
        "duration": 22,
        "start_time": "2022-12-06T20:12:16.779Z"
      },
      {
        "duration": 16,
        "start_time": "2022-12-06T20:12:16.803Z"
      },
      {
        "duration": 9,
        "start_time": "2022-12-06T20:12:16.822Z"
      },
      {
        "duration": 36,
        "start_time": "2022-12-06T20:12:16.833Z"
      },
      {
        "duration": 4,
        "start_time": "2022-12-06T20:12:16.870Z"
      },
      {
        "duration": 11,
        "start_time": "2022-12-06T20:12:16.875Z"
      },
      {
        "duration": 5,
        "start_time": "2022-12-06T20:12:16.888Z"
      },
      {
        "duration": 9,
        "start_time": "2022-12-06T20:12:16.914Z"
      },
      {
        "duration": 5,
        "start_time": "2022-12-06T20:12:16.926Z"
      },
      {
        "duration": 37,
        "start_time": "2022-12-06T20:12:16.933Z"
      },
      {
        "duration": 9,
        "start_time": "2022-12-06T20:12:16.972Z"
      },
      {
        "duration": 30,
        "start_time": "2022-12-06T20:12:16.983Z"
      },
      {
        "duration": 16,
        "start_time": "2022-12-06T20:12:17.015Z"
      },
      {
        "duration": 22,
        "start_time": "2022-12-06T20:12:17.033Z"
      },
      {
        "duration": 18,
        "start_time": "2022-12-06T20:12:17.057Z"
      },
      {
        "duration": 3,
        "start_time": "2022-12-06T20:12:17.077Z"
      },
      {
        "duration": 33,
        "start_time": "2022-12-06T20:12:17.082Z"
      },
      {
        "duration": 7,
        "start_time": "2022-12-06T20:12:17.116Z"
      },
      {
        "duration": 3,
        "start_time": "2022-12-06T20:12:17.125Z"
      },
      {
        "duration": 10,
        "start_time": "2022-12-06T20:12:17.130Z"
      },
      {
        "duration": 23,
        "start_time": "2022-12-06T20:12:17.142Z"
      },
      {
        "duration": 3,
        "start_time": "2022-12-06T20:12:17.166Z"
      },
      {
        "duration": 6,
        "start_time": "2022-12-06T20:12:17.170Z"
      },
      {
        "duration": 458,
        "start_time": "2022-12-06T20:13:24.916Z"
      },
      {
        "duration": 23,
        "start_time": "2022-12-06T20:13:25.376Z"
      },
      {
        "duration": 20,
        "start_time": "2022-12-06T20:13:25.401Z"
      },
      {
        "duration": 9,
        "start_time": "2022-12-06T20:13:25.423Z"
      },
      {
        "duration": 32,
        "start_time": "2022-12-06T20:13:25.433Z"
      },
      {
        "duration": 3,
        "start_time": "2022-12-06T20:13:25.467Z"
      },
      {
        "duration": 12,
        "start_time": "2022-12-06T20:13:25.471Z"
      },
      {
        "duration": 4,
        "start_time": "2022-12-06T20:13:25.484Z"
      },
      {
        "duration": 8,
        "start_time": "2022-12-06T20:13:25.512Z"
      },
      {
        "duration": 4,
        "start_time": "2022-12-06T20:13:25.523Z"
      },
      {
        "duration": 32,
        "start_time": "2022-12-06T20:13:25.529Z"
      },
      {
        "duration": 9,
        "start_time": "2022-12-06T20:13:25.563Z"
      },
      {
        "duration": 4,
        "start_time": "2022-12-06T20:13:25.574Z"
      },
      {
        "duration": 40,
        "start_time": "2022-12-06T20:13:25.580Z"
      },
      {
        "duration": 19,
        "start_time": "2022-12-06T20:13:25.622Z"
      },
      {
        "duration": 17,
        "start_time": "2022-12-06T20:13:25.643Z"
      },
      {
        "duration": 4,
        "start_time": "2022-12-06T20:13:25.662Z"
      },
      {
        "duration": 15,
        "start_time": "2022-12-06T20:13:25.668Z"
      },
      {
        "duration": 31,
        "start_time": "2022-12-06T20:13:25.685Z"
      },
      {
        "duration": 3,
        "start_time": "2022-12-06T20:13:25.719Z"
      },
      {
        "duration": 10,
        "start_time": "2022-12-06T20:13:25.724Z"
      },
      {
        "duration": 24,
        "start_time": "2022-12-06T20:13:25.736Z"
      },
      {
        "duration": 3,
        "start_time": "2022-12-06T20:13:25.762Z"
      },
      {
        "duration": 6,
        "start_time": "2022-12-06T20:13:25.766Z"
      },
      {
        "duration": 7,
        "start_time": "2022-12-06T20:16:10.572Z"
      },
      {
        "duration": 5,
        "start_time": "2022-12-06T20:18:14.652Z"
      },
      {
        "duration": 8,
        "start_time": "2022-12-06T20:18:44.439Z"
      },
      {
        "duration": 3,
        "start_time": "2022-12-06T20:18:54.796Z"
      },
      {
        "duration": 8,
        "start_time": "2022-12-06T20:20:18.104Z"
      },
      {
        "duration": 357,
        "start_time": "2022-12-06T20:24:25.357Z"
      },
      {
        "duration": 454,
        "start_time": "2022-12-06T20:24:43.035Z"
      },
      {
        "duration": 21,
        "start_time": "2022-12-06T20:24:43.491Z"
      },
      {
        "duration": 15,
        "start_time": "2022-12-06T20:24:43.513Z"
      },
      {
        "duration": 9,
        "start_time": "2022-12-06T20:24:43.529Z"
      },
      {
        "duration": 31,
        "start_time": "2022-12-06T20:24:43.541Z"
      },
      {
        "duration": 3,
        "start_time": "2022-12-06T20:24:43.574Z"
      },
      {
        "duration": 10,
        "start_time": "2022-12-06T20:24:43.579Z"
      },
      {
        "duration": 5,
        "start_time": "2022-12-06T20:24:43.613Z"
      },
      {
        "duration": 11,
        "start_time": "2022-12-06T20:24:43.619Z"
      },
      {
        "duration": 12,
        "start_time": "2022-12-06T20:24:43.631Z"
      },
      {
        "duration": 34,
        "start_time": "2022-12-06T20:24:43.645Z"
      },
      {
        "duration": 9,
        "start_time": "2022-12-06T20:24:43.680Z"
      },
      {
        "duration": 4,
        "start_time": "2022-12-06T20:24:43.690Z"
      },
      {
        "duration": 11,
        "start_time": "2022-12-06T20:24:43.712Z"
      },
      {
        "duration": 22,
        "start_time": "2022-12-06T20:24:43.725Z"
      },
      {
        "duration": 16,
        "start_time": "2022-12-06T20:24:43.748Z"
      },
      {
        "duration": 4,
        "start_time": "2022-12-06T20:24:43.765Z"
      },
      {
        "duration": 15,
        "start_time": "2022-12-06T20:24:43.770Z"
      },
      {
        "duration": 11,
        "start_time": "2022-12-06T20:24:43.786Z"
      },
      {
        "duration": 5,
        "start_time": "2022-12-06T20:24:43.812Z"
      },
      {
        "duration": 10,
        "start_time": "2022-12-06T20:24:43.818Z"
      },
      {
        "duration": 24,
        "start_time": "2022-12-06T20:24:43.830Z"
      },
      {
        "duration": 385,
        "start_time": "2022-12-06T20:24:43.855Z"
      },
      {
        "duration": 0,
        "start_time": "2022-12-06T20:24:44.242Z"
      },
      {
        "duration": 0,
        "start_time": "2022-12-06T20:24:44.243Z"
      },
      {
        "duration": 3,
        "start_time": "2022-12-06T20:25:00.913Z"
      },
      {
        "duration": 473,
        "start_time": "2022-12-06T20:25:06.380Z"
      },
      {
        "duration": 23,
        "start_time": "2022-12-06T20:25:06.855Z"
      },
      {
        "duration": 17,
        "start_time": "2022-12-06T20:25:06.880Z"
      },
      {
        "duration": 12,
        "start_time": "2022-12-06T20:25:06.914Z"
      },
      {
        "duration": 40,
        "start_time": "2022-12-06T20:25:06.928Z"
      },
      {
        "duration": 4,
        "start_time": "2022-12-06T20:25:06.970Z"
      },
      {
        "duration": 14,
        "start_time": "2022-12-06T20:25:06.976Z"
      },
      {
        "duration": 24,
        "start_time": "2022-12-06T20:25:06.992Z"
      },
      {
        "duration": 12,
        "start_time": "2022-12-06T20:25:07.017Z"
      },
      {
        "duration": 4,
        "start_time": "2022-12-06T20:25:07.031Z"
      },
      {
        "duration": 32,
        "start_time": "2022-12-06T20:25:07.037Z"
      },
      {
        "duration": 8,
        "start_time": "2022-12-06T20:25:07.071Z"
      },
      {
        "duration": 5,
        "start_time": "2022-12-06T20:25:07.081Z"
      },
      {
        "duration": 12,
        "start_time": "2022-12-06T20:25:07.112Z"
      },
      {
        "duration": 21,
        "start_time": "2022-12-06T20:25:07.126Z"
      },
      {
        "duration": 16,
        "start_time": "2022-12-06T20:25:07.149Z"
      },
      {
        "duration": 4,
        "start_time": "2022-12-06T20:25:07.166Z"
      },
      {
        "duration": 11,
        "start_time": "2022-12-06T20:25:07.171Z"
      },
      {
        "duration": 31,
        "start_time": "2022-12-06T20:25:07.183Z"
      },
      {
        "duration": 3,
        "start_time": "2022-12-06T20:25:07.216Z"
      },
      {
        "duration": 13,
        "start_time": "2022-12-06T20:25:07.220Z"
      },
      {
        "duration": 24,
        "start_time": "2022-12-06T20:25:07.235Z"
      },
      {
        "duration": 2,
        "start_time": "2022-12-06T20:25:07.260Z"
      },
      {
        "duration": 7,
        "start_time": "2022-12-06T20:25:07.264Z"
      },
      {
        "duration": 3,
        "start_time": "2022-12-06T20:25:07.273Z"
      },
      {
        "duration": 346,
        "start_time": "2022-12-06T20:25:13.346Z"
      },
      {
        "duration": 293,
        "start_time": "2022-12-06T20:25:43.221Z"
      },
      {
        "duration": 24,
        "start_time": "2022-12-06T20:26:18.394Z"
      },
      {
        "duration": 25,
        "start_time": "2022-12-06T20:28:33.233Z"
      },
      {
        "duration": 25,
        "start_time": "2022-12-06T20:28:45.273Z"
      },
      {
        "duration": 24,
        "start_time": "2022-12-06T20:36:46.679Z"
      },
      {
        "duration": 25,
        "start_time": "2022-12-06T20:36:51.651Z"
      },
      {
        "duration": 9,
        "start_time": "2022-12-06T20:47:10.555Z"
      },
      {
        "duration": 8,
        "start_time": "2022-12-06T20:47:14.344Z"
      },
      {
        "duration": 27,
        "start_time": "2022-12-06T20:50:53.210Z"
      },
      {
        "duration": 29,
        "start_time": "2022-12-06T20:51:12.374Z"
      },
      {
        "duration": 21,
        "start_time": "2022-12-06T20:54:15.739Z"
      },
      {
        "duration": 22,
        "start_time": "2022-12-06T20:54:34.254Z"
      },
      {
        "duration": 7,
        "start_time": "2022-12-06T20:58:25.708Z"
      },
      {
        "duration": 11,
        "start_time": "2022-12-06T20:58:35.680Z"
      },
      {
        "duration": 18,
        "start_time": "2022-12-06T20:58:47.053Z"
      },
      {
        "duration": 11,
        "start_time": "2022-12-06T20:58:49.373Z"
      },
      {
        "duration": 1280,
        "start_time": "2022-12-07T11:26:56.371Z"
      },
      {
        "duration": 95,
        "start_time": "2022-12-07T11:28:32.239Z"
      },
      {
        "duration": 531,
        "start_time": "2022-12-07T11:28:43.803Z"
      },
      {
        "duration": 20,
        "start_time": "2022-12-07T11:28:44.336Z"
      },
      {
        "duration": 33,
        "start_time": "2022-12-07T11:28:44.357Z"
      },
      {
        "duration": 23,
        "start_time": "2022-12-07T11:28:44.392Z"
      },
      {
        "duration": 54,
        "start_time": "2022-12-07T11:28:44.416Z"
      },
      {
        "duration": 3,
        "start_time": "2022-12-07T11:28:44.471Z"
      },
      {
        "duration": 48,
        "start_time": "2022-12-07T11:28:44.476Z"
      },
      {
        "duration": 22,
        "start_time": "2022-12-07T11:28:44.526Z"
      },
      {
        "duration": 30,
        "start_time": "2022-12-07T11:28:44.550Z"
      },
      {
        "duration": 30,
        "start_time": "2022-12-07T11:28:44.584Z"
      },
      {
        "duration": 58,
        "start_time": "2022-12-07T11:28:44.616Z"
      },
      {
        "duration": 9,
        "start_time": "2022-12-07T11:28:44.676Z"
      },
      {
        "duration": 29,
        "start_time": "2022-12-07T11:28:44.687Z"
      },
      {
        "duration": 42,
        "start_time": "2022-12-07T11:28:44.718Z"
      },
      {
        "duration": 39,
        "start_time": "2022-12-07T11:28:44.762Z"
      },
      {
        "duration": 28,
        "start_time": "2022-12-07T11:28:44.803Z"
      },
      {
        "duration": 25,
        "start_time": "2022-12-07T11:28:44.832Z"
      },
      {
        "duration": 17,
        "start_time": "2022-12-07T11:28:44.859Z"
      },
      {
        "duration": 23,
        "start_time": "2022-12-07T11:28:44.878Z"
      },
      {
        "duration": 19,
        "start_time": "2022-12-07T11:28:44.903Z"
      },
      {
        "duration": 19,
        "start_time": "2022-12-07T11:28:44.924Z"
      },
      {
        "duration": 42,
        "start_time": "2022-12-07T11:28:44.945Z"
      },
      {
        "duration": 24,
        "start_time": "2022-12-07T11:28:44.988Z"
      },
      {
        "duration": 43,
        "start_time": "2022-12-07T11:28:45.014Z"
      },
      {
        "duration": 20,
        "start_time": "2022-12-07T11:28:45.059Z"
      },
      {
        "duration": 58,
        "start_time": "2022-12-07T11:28:45.080Z"
      },
      {
        "duration": 785,
        "start_time": "2022-12-07T11:28:45.140Z"
      },
      {
        "duration": 125,
        "start_time": "2022-12-07T11:28:45.927Z"
      },
      {
        "duration": 2,
        "start_time": "2022-12-07T11:28:46.054Z"
      },
      {
        "duration": 132,
        "start_time": "2022-12-07T11:32:35.769Z"
      },
      {
        "duration": 154,
        "start_time": "2022-12-07T11:33:18.374Z"
      },
      {
        "duration": 29,
        "start_time": "2022-12-07T12:36:37.196Z"
      },
      {
        "duration": 25,
        "start_time": "2022-12-07T12:36:49.946Z"
      },
      {
        "duration": 25,
        "start_time": "2022-12-07T14:26:06.045Z"
      },
      {
        "duration": 26,
        "start_time": "2022-12-07T14:26:17.113Z"
      },
      {
        "duration": 23,
        "start_time": "2022-12-07T14:26:36.623Z"
      },
      {
        "duration": 23,
        "start_time": "2022-12-07T14:26:47.673Z"
      },
      {
        "duration": 28,
        "start_time": "2022-12-07T14:27:52.463Z"
      },
      {
        "duration": 3,
        "start_time": "2022-12-07T14:28:29.738Z"
      },
      {
        "duration": 86,
        "start_time": "2022-12-07T14:28:39.846Z"
      },
      {
        "duration": 18,
        "start_time": "2022-12-07T14:29:06.278Z"
      },
      {
        "duration": 502,
        "start_time": "2022-12-07T14:57:28.892Z"
      },
      {
        "duration": 25,
        "start_time": "2022-12-07T14:57:29.396Z"
      },
      {
        "duration": 34,
        "start_time": "2022-12-07T14:57:29.424Z"
      },
      {
        "duration": 12,
        "start_time": "2022-12-07T14:57:29.460Z"
      },
      {
        "duration": 52,
        "start_time": "2022-12-07T14:57:29.474Z"
      },
      {
        "duration": 25,
        "start_time": "2022-12-07T14:57:29.528Z"
      },
      {
        "duration": 23,
        "start_time": "2022-12-07T14:57:29.556Z"
      },
      {
        "duration": 17,
        "start_time": "2022-12-07T14:57:29.581Z"
      },
      {
        "duration": 45,
        "start_time": "2022-12-07T14:57:29.600Z"
      },
      {
        "duration": 13,
        "start_time": "2022-12-07T14:57:29.651Z"
      },
      {
        "duration": 63,
        "start_time": "2022-12-07T14:57:29.666Z"
      },
      {
        "duration": 25,
        "start_time": "2022-12-07T14:57:29.732Z"
      },
      {
        "duration": 16,
        "start_time": "2022-12-07T14:57:29.760Z"
      },
      {
        "duration": 45,
        "start_time": "2022-12-07T14:57:29.781Z"
      },
      {
        "duration": 86,
        "start_time": "2022-12-07T14:57:29.829Z"
      },
      {
        "duration": 29,
        "start_time": "2022-12-07T14:57:29.917Z"
      },
      {
        "duration": 11,
        "start_time": "2022-12-07T14:57:29.948Z"
      },
      {
        "duration": 63,
        "start_time": "2022-12-07T14:57:29.964Z"
      },
      {
        "duration": 47,
        "start_time": "2022-12-07T14:57:30.030Z"
      },
      {
        "duration": 23,
        "start_time": "2022-12-07T14:57:30.079Z"
      },
      {
        "duration": 38,
        "start_time": "2022-12-07T14:57:30.104Z"
      },
      {
        "duration": 51,
        "start_time": "2022-12-07T14:57:30.145Z"
      },
      {
        "duration": 58,
        "start_time": "2022-12-07T14:57:30.198Z"
      },
      {
        "duration": 47,
        "start_time": "2022-12-07T14:57:30.259Z"
      },
      {
        "duration": 26,
        "start_time": "2022-12-07T14:57:30.308Z"
      },
      {
        "duration": 16,
        "start_time": "2022-12-07T14:57:30.352Z"
      },
      {
        "duration": 1343,
        "start_time": "2022-12-07T14:57:30.370Z"
      },
      {
        "duration": 210,
        "start_time": "2022-12-07T14:57:31.718Z"
      },
      {
        "duration": 230,
        "start_time": "2022-12-07T14:57:31.930Z"
      },
      {
        "duration": 213,
        "start_time": "2022-12-07T14:57:32.162Z"
      },
      {
        "duration": 44,
        "start_time": "2022-12-07T14:57:32.378Z"
      },
      {
        "duration": 114,
        "start_time": "2022-12-07T19:21:55.953Z"
      },
      {
        "duration": 106,
        "start_time": "2022-12-07T19:24:00.815Z"
      },
      {
        "duration": 119,
        "start_time": "2022-12-07T19:30:02.702Z"
      },
      {
        "duration": 103,
        "start_time": "2022-12-07T19:30:22.114Z"
      },
      {
        "duration": 42,
        "start_time": "2022-12-07T20:45:51.874Z"
      },
      {
        "duration": 544,
        "start_time": "2022-12-07T20:46:01.876Z"
      },
      {
        "duration": 22,
        "start_time": "2022-12-07T20:46:02.422Z"
      },
      {
        "duration": 19,
        "start_time": "2022-12-07T20:46:02.446Z"
      },
      {
        "duration": 24,
        "start_time": "2022-12-07T20:46:02.467Z"
      },
      {
        "duration": 41,
        "start_time": "2022-12-07T20:46:02.493Z"
      },
      {
        "duration": 3,
        "start_time": "2022-12-07T20:46:02.536Z"
      },
      {
        "duration": 39,
        "start_time": "2022-12-07T20:46:02.540Z"
      },
      {
        "duration": 20,
        "start_time": "2022-12-07T20:46:02.580Z"
      },
      {
        "duration": 38,
        "start_time": "2022-12-07T20:46:02.601Z"
      },
      {
        "duration": 20,
        "start_time": "2022-12-07T20:46:02.641Z"
      },
      {
        "duration": 33,
        "start_time": "2022-12-07T20:46:02.663Z"
      },
      {
        "duration": 12,
        "start_time": "2022-12-07T20:46:02.697Z"
      },
      {
        "duration": 4,
        "start_time": "2022-12-07T20:46:02.711Z"
      },
      {
        "duration": 13,
        "start_time": "2022-12-07T20:46:02.717Z"
      },
      {
        "duration": 24,
        "start_time": "2022-12-07T20:46:02.732Z"
      },
      {
        "duration": 17,
        "start_time": "2022-12-07T20:46:02.757Z"
      },
      {
        "duration": 3,
        "start_time": "2022-12-07T20:46:02.776Z"
      },
      {
        "duration": 15,
        "start_time": "2022-12-07T20:46:02.781Z"
      },
      {
        "duration": 6,
        "start_time": "2022-12-07T20:46:02.813Z"
      },
      {
        "duration": 4,
        "start_time": "2022-12-07T20:46:02.820Z"
      },
      {
        "duration": 14,
        "start_time": "2022-12-07T20:46:02.825Z"
      },
      {
        "duration": 26,
        "start_time": "2022-12-07T20:46:02.840Z"
      },
      {
        "duration": 46,
        "start_time": "2022-12-07T20:46:02.868Z"
      },
      {
        "duration": 38,
        "start_time": "2022-12-07T20:46:02.916Z"
      },
      {
        "duration": 19,
        "start_time": "2022-12-07T20:46:02.956Z"
      },
      {
        "duration": 38,
        "start_time": "2022-12-07T20:46:02.977Z"
      },
      {
        "duration": 918,
        "start_time": "2022-12-07T20:46:03.017Z"
      },
      {
        "duration": 135,
        "start_time": "2022-12-07T20:46:03.937Z"
      },
      {
        "duration": 148,
        "start_time": "2022-12-07T20:46:04.073Z"
      },
      {
        "duration": 142,
        "start_time": "2022-12-07T20:46:04.223Z"
      },
      {
        "duration": 27,
        "start_time": "2022-12-07T20:46:04.367Z"
      },
      {
        "duration": 20,
        "start_time": "2022-12-07T20:46:04.395Z"
      },
      {
        "duration": 8,
        "start_time": "2022-12-07T20:47:08.794Z"
      },
      {
        "duration": 8,
        "start_time": "2022-12-07T20:49:00.966Z"
      },
      {
        "duration": 8,
        "start_time": "2022-12-07T20:49:37.960Z"
      },
      {
        "duration": 129,
        "start_time": "2022-12-07T21:11:15.252Z"
      },
      {
        "duration": 443,
        "start_time": "2022-12-08T07:51:31.036Z"
      },
      {
        "duration": 23,
        "start_time": "2022-12-08T07:51:31.480Z"
      },
      {
        "duration": 27,
        "start_time": "2022-12-08T07:51:31.505Z"
      },
      {
        "duration": 26,
        "start_time": "2022-12-08T07:51:31.534Z"
      },
      {
        "duration": 48,
        "start_time": "2022-12-08T07:51:31.561Z"
      },
      {
        "duration": 3,
        "start_time": "2022-12-08T07:51:31.611Z"
      },
      {
        "duration": 33,
        "start_time": "2022-12-08T07:51:31.615Z"
      },
      {
        "duration": 4,
        "start_time": "2022-12-08T07:51:31.650Z"
      },
      {
        "duration": 8,
        "start_time": "2022-12-08T07:51:31.655Z"
      },
      {
        "duration": 5,
        "start_time": "2022-12-08T07:51:31.665Z"
      },
      {
        "duration": 37,
        "start_time": "2022-12-08T07:51:31.671Z"
      },
      {
        "duration": 9,
        "start_time": "2022-12-08T07:51:31.709Z"
      },
      {
        "duration": 3,
        "start_time": "2022-12-08T07:51:31.719Z"
      },
      {
        "duration": 11,
        "start_time": "2022-12-08T07:51:31.724Z"
      },
      {
        "duration": 19,
        "start_time": "2022-12-08T07:51:31.737Z"
      },
      {
        "duration": 16,
        "start_time": "2022-12-08T07:51:31.758Z"
      },
      {
        "duration": 5,
        "start_time": "2022-12-08T07:51:31.795Z"
      },
      {
        "duration": 20,
        "start_time": "2022-12-08T07:51:31.801Z"
      },
      {
        "duration": 8,
        "start_time": "2022-12-08T07:51:31.822Z"
      },
      {
        "duration": 5,
        "start_time": "2022-12-08T07:51:31.831Z"
      },
      {
        "duration": 17,
        "start_time": "2022-12-08T07:51:31.837Z"
      },
      {
        "duration": 34,
        "start_time": "2022-12-08T07:51:31.856Z"
      },
      {
        "duration": 33,
        "start_time": "2022-12-08T07:51:31.892Z"
      },
      {
        "duration": 31,
        "start_time": "2022-12-08T07:51:31.927Z"
      },
      {
        "duration": 15,
        "start_time": "2022-12-08T07:51:31.960Z"
      },
      {
        "duration": 14,
        "start_time": "2022-12-08T07:51:31.996Z"
      },
      {
        "duration": 867,
        "start_time": "2022-12-08T07:51:32.012Z"
      },
      {
        "duration": 140,
        "start_time": "2022-12-08T07:51:32.882Z"
      },
      {
        "duration": 139,
        "start_time": "2022-12-08T07:51:33.024Z"
      },
      {
        "duration": 132,
        "start_time": "2022-12-08T07:51:33.165Z"
      },
      {
        "duration": 28,
        "start_time": "2022-12-08T07:51:33.299Z"
      },
      {
        "duration": 6,
        "start_time": "2022-12-08T07:51:33.329Z"
      },
      {
        "duration": 9,
        "start_time": "2022-12-08T07:51:33.336Z"
      },
      {
        "duration": 7,
        "start_time": "2022-12-08T07:51:33.347Z"
      },
      {
        "duration": 9,
        "start_time": "2022-12-08T07:51:33.355Z"
      },
      {
        "duration": 152,
        "start_time": "2022-12-08T07:51:33.365Z"
      },
      {
        "duration": 463,
        "start_time": "2022-12-08T08:19:59.310Z"
      },
      {
        "duration": 20,
        "start_time": "2022-12-08T08:19:59.774Z"
      },
      {
        "duration": 17,
        "start_time": "2022-12-08T08:19:59.796Z"
      },
      {
        "duration": 10,
        "start_time": "2022-12-08T08:19:59.815Z"
      },
      {
        "duration": 30,
        "start_time": "2022-12-08T08:19:59.826Z"
      },
      {
        "duration": 3,
        "start_time": "2022-12-08T08:19:59.857Z"
      },
      {
        "duration": 23,
        "start_time": "2022-12-08T08:19:59.862Z"
      },
      {
        "duration": 26,
        "start_time": "2022-12-08T08:19:59.887Z"
      },
      {
        "duration": 16,
        "start_time": "2022-12-08T08:19:59.915Z"
      },
      {
        "duration": 5,
        "start_time": "2022-12-08T08:19:59.934Z"
      },
      {
        "duration": 38,
        "start_time": "2022-12-08T08:19:59.940Z"
      },
      {
        "duration": 9,
        "start_time": "2022-12-08T08:19:59.980Z"
      },
      {
        "duration": 20,
        "start_time": "2022-12-08T08:19:59.990Z"
      },
      {
        "duration": 31,
        "start_time": "2022-12-08T08:20:00.012Z"
      },
      {
        "duration": 41,
        "start_time": "2022-12-08T08:20:00.045Z"
      },
      {
        "duration": 38,
        "start_time": "2022-12-08T08:20:00.088Z"
      },
      {
        "duration": 7,
        "start_time": "2022-12-08T08:20:00.128Z"
      },
      {
        "duration": 51,
        "start_time": "2022-12-08T08:20:00.136Z"
      },
      {
        "duration": 104,
        "start_time": "2022-12-08T08:20:00.189Z"
      },
      {
        "duration": 59,
        "start_time": "2022-12-08T08:20:00.295Z"
      },
      {
        "duration": 42,
        "start_time": "2022-12-08T08:20:00.356Z"
      },
      {
        "duration": 64,
        "start_time": "2022-12-08T08:20:00.400Z"
      },
      {
        "duration": 56,
        "start_time": "2022-12-08T08:20:00.465Z"
      },
      {
        "duration": 58,
        "start_time": "2022-12-08T08:20:00.523Z"
      },
      {
        "duration": 42,
        "start_time": "2022-12-08T08:20:00.583Z"
      },
      {
        "duration": 59,
        "start_time": "2022-12-08T08:20:00.627Z"
      },
      {
        "duration": 1236,
        "start_time": "2022-12-08T08:20:00.688Z"
      },
      {
        "duration": 293,
        "start_time": "2022-12-08T08:20:01.927Z"
      },
      {
        "duration": 296,
        "start_time": "2022-12-08T08:20:02.222Z"
      },
      {
        "duration": 287,
        "start_time": "2022-12-08T08:20:02.519Z"
      },
      {
        "duration": 28,
        "start_time": "2022-12-08T08:20:02.807Z"
      },
      {
        "duration": 6,
        "start_time": "2022-12-08T08:20:02.837Z"
      },
      {
        "duration": 16,
        "start_time": "2022-12-08T08:20:02.897Z"
      },
      {
        "duration": 23,
        "start_time": "2022-12-08T08:20:02.915Z"
      },
      {
        "duration": 11,
        "start_time": "2022-12-08T08:20:02.940Z"
      },
      {
        "duration": 196,
        "start_time": "2022-12-08T08:20:02.953Z"
      }
    ],
    "colab": {
      "name": "dpp_template_part2.ipynb",
      "provenance": [],
      "toc_visible": true
    },
    "kernelspec": {
      "display_name": "Python 3 (ipykernel)",
      "language": "python",
      "name": "python3"
    },
    "language_info": {
      "codemirror_mode": {
        "name": "ipython",
        "version": 3
      },
      "file_extension": ".py",
      "mimetype": "text/x-python",
      "name": "python",
      "nbconvert_exporter": "python",
      "pygments_lexer": "ipython3",
      "version": "3.9.5"
    },
    "toc": {
      "base_numbering": 1,
      "nav_menu": {},
      "number_sections": true,
      "sideBar": true,
      "skip_h1_title": true,
      "title_cell": "Table of Contents",
      "title_sidebar": "Contents",
      "toc_cell": false,
      "toc_position": {
        "height": "calc(100% - 180px)",
        "left": "10px",
        "top": "150px",
        "width": "165px"
      },
      "toc_section_display": true,
      "toc_window_display": true
    }
  },
  "nbformat": 4,
  "nbformat_minor": 5
}