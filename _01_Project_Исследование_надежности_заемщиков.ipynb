{
 "cells": [
  {
   "cell_type": "markdown",
   "id": "90987168",
   "metadata": {
    "deletable": false,
    "editable": false,
    "id": "90987168"
   },
   "source": [
    "# Исследование надежности заемщиков\n"
   ]
  },
  {
   "cell_type": "markdown",
   "id": "KzSXVjBOBAQ5",
   "metadata": {
    "id": "KzSXVjBOBAQ5"
   },
   "source": [
    "## Описание проекта"
   ]
  },
  {
   "cell_type": "markdown",
   "id": "-BXit7nXyPP2",
   "metadata": {
    "id": "-BXit7nXyPP2"
   },
   "source": [
    "***\n",
    "**Заказчик** - кредитный отдел банка. Необходимо разобраться, влияет ли семейное положение и количество детей клиента на факт погашения кредита в срок.\n",
    "\n",
    "**Входные данные от банка** — статистика о платёжеспособности клиентов.\n",
    "\n",
    "**Результаты исследования** будут учтены при построении модели кредитного скоринга — специальной системы, которая оценивает способность потенциального заёмщика вернуть кредит банку.\n",
    "***\n",
    "**Последовательность действий**\n",
    "- Шаг 1. Изучение полученных данных.\n",
    "  - Откроем полученный датасет. Путь к файлу: `/datasets/data.csv`.\n",
    "  - Изучим основную информацию по датасету\n",
    "\n",
    "- Шаг 2. Предобработка данных:\n",
    "  - Удаление пропусков;\n",
    "  - Обработка аномальных значений;\n",
    "  - Изменение типов данных;\n",
    "  - Обработка дубликатов;\n",
    "  - Категоризация данных.\n",
    "- Шаг 3. Ответы на вопросы\n",
    "  - Есть ли зависимость между количеством детей и возвратом кредита в срок?\n",
    "  - Есть ли зависимость между семейным положением и возвратом кредита в срок?\n",
    "  - Есть ли зависимость между уровнем дохода и возвратом кредита в срок?\n",
    "  - Как разные цели кредита влияют на его возврат в срок?\n",
    "  - Приведем возможные причины появления пропусков в исходных данных.\n",
    "  - Объясним, почему заполнить пропуски медианным значением — лучшее решение для количественных переменных.\n",
    "- Шаг 4. Общий вывод.\n",
    "***\n",
    "**Описание данных**\n",
    "\n",
    "- **`children`** — количество детей в семье;\n",
    "- **`days_employed`** — общий трудовой стаж в днях;\n",
    "- **`dob_years`** — возраст клиента в годах;\n",
    "- **`education`** — уровень образования клиента;\n",
    "- **`education_id`** — идентификатор уровня образования;\n",
    "- **`family_status`** — семейное положение;\n",
    "- **`family_status_id`** — идентификатор семейного положения;\n",
    "- **`gender`** — пол клиента;\n",
    "- **`income_type`** — тип занятости;\n",
    "- **`debt`** — имел ли задолженность по возврату кредитов;\n",
    "- **`total_income`** — ежемесячный доход;\n",
    "- **`purpose`** — цель получения кредита.\n",
    "***\n"
   ]
  },
  {
   "cell_type": "markdown",
   "id": "3a053e5c",
   "metadata": {
    "deletable": false,
    "editable": false,
    "id": "3a053e5c"
   },
   "source": [
    "## Шаг 1. Изучение полученных данных."
   ]
  },
  {
   "cell_type": "code",
   "execution_count": 1,
   "id": "ab8abe05",
   "metadata": {
    "deletable": false,
    "id": "ab8abe05"
   },
   "outputs": [],
   "source": [
    "#импортируем необходимые библиотеки\n",
    "import pandas as pd\n",
    "import seaborn\n",
    "\n",
    "import warnings\n",
    "warnings.filterwarnings(\"ignore\")"
   ]
  },
  {
   "cell_type": "code",
   "execution_count": 2,
   "id": "XPsQqvDvOB8b",
   "metadata": {
    "id": "XPsQqvDvOB8b"
   },
   "outputs": [],
   "source": [
    "# откроем полученный датасет\n",
    "try:\n",
    "    data = pd.read_csv('/datasets/data.csv')\n",
    "except:\n",
    "    data = pd.read_csv('https://code.s3.yandex.net/datasets/data.csv')"
   ]
  },
  {
   "cell_type": "code",
   "execution_count": 3,
   "id": "edd3f753",
   "metadata": {
    "colab": {
     "base_uri": "https://localhost:8080/",
     "height": 1000
    },
    "deletable": false,
    "id": "edd3f753",
    "outputId": "d4a34455-af59-4e97-c873-aed5bc07813f"
   },
   "outputs": [
    {
     "data": {
      "text/html": [
       "\n",
       "  <div id=\"df-89d1d736-d489-453c-a0ca-a7063abdd365\" class=\"colab-df-container\">\n",
       "    <div>\n",
       "<style scoped>\n",
       "    .dataframe tbody tr th:only-of-type {\n",
       "        vertical-align: middle;\n",
       "    }\n",
       "\n",
       "    .dataframe tbody tr th {\n",
       "        vertical-align: top;\n",
       "    }\n",
       "\n",
       "    .dataframe thead th {\n",
       "        text-align: right;\n",
       "    }\n",
       "</style>\n",
       "<table border=\"1\" class=\"dataframe\">\n",
       "  <thead>\n",
       "    <tr style=\"text-align: right;\">\n",
       "      <th></th>\n",
       "      <th>children</th>\n",
       "      <th>days_employed</th>\n",
       "      <th>dob_years</th>\n",
       "      <th>education</th>\n",
       "      <th>education_id</th>\n",
       "      <th>family_status</th>\n",
       "      <th>family_status_id</th>\n",
       "      <th>gender</th>\n",
       "      <th>income_type</th>\n",
       "      <th>debt</th>\n",
       "      <th>total_income</th>\n",
       "      <th>purpose</th>\n",
       "    </tr>\n",
       "  </thead>\n",
       "  <tbody>\n",
       "    <tr>\n",
       "      <th>0</th>\n",
       "      <td>1</td>\n",
       "      <td>-8437.673028</td>\n",
       "      <td>42</td>\n",
       "      <td>высшее</td>\n",
       "      <td>0</td>\n",
       "      <td>женат / замужем</td>\n",
       "      <td>0</td>\n",
       "      <td>F</td>\n",
       "      <td>сотрудник</td>\n",
       "      <td>0</td>\n",
       "      <td>253875.639453</td>\n",
       "      <td>покупка жилья</td>\n",
       "    </tr>\n",
       "    <tr>\n",
       "      <th>1</th>\n",
       "      <td>1</td>\n",
       "      <td>-4024.803754</td>\n",
       "      <td>36</td>\n",
       "      <td>среднее</td>\n",
       "      <td>1</td>\n",
       "      <td>женат / замужем</td>\n",
       "      <td>0</td>\n",
       "      <td>F</td>\n",
       "      <td>сотрудник</td>\n",
       "      <td>0</td>\n",
       "      <td>112080.014102</td>\n",
       "      <td>приобретение автомобиля</td>\n",
       "    </tr>\n",
       "    <tr>\n",
       "      <th>2</th>\n",
       "      <td>0</td>\n",
       "      <td>-5623.422610</td>\n",
       "      <td>33</td>\n",
       "      <td>Среднее</td>\n",
       "      <td>1</td>\n",
       "      <td>женат / замужем</td>\n",
       "      <td>0</td>\n",
       "      <td>M</td>\n",
       "      <td>сотрудник</td>\n",
       "      <td>0</td>\n",
       "      <td>145885.952297</td>\n",
       "      <td>покупка жилья</td>\n",
       "    </tr>\n",
       "    <tr>\n",
       "      <th>3</th>\n",
       "      <td>3</td>\n",
       "      <td>-4124.747207</td>\n",
       "      <td>32</td>\n",
       "      <td>среднее</td>\n",
       "      <td>1</td>\n",
       "      <td>женат / замужем</td>\n",
       "      <td>0</td>\n",
       "      <td>M</td>\n",
       "      <td>сотрудник</td>\n",
       "      <td>0</td>\n",
       "      <td>267628.550329</td>\n",
       "      <td>дополнительное образование</td>\n",
       "    </tr>\n",
       "    <tr>\n",
       "      <th>4</th>\n",
       "      <td>0</td>\n",
       "      <td>340266.072047</td>\n",
       "      <td>53</td>\n",
       "      <td>среднее</td>\n",
       "      <td>1</td>\n",
       "      <td>гражданский брак</td>\n",
       "      <td>1</td>\n",
       "      <td>F</td>\n",
       "      <td>пенсионер</td>\n",
       "      <td>0</td>\n",
       "      <td>158616.077870</td>\n",
       "      <td>сыграть свадьбу</td>\n",
       "    </tr>\n",
       "    <tr>\n",
       "      <th>5</th>\n",
       "      <td>0</td>\n",
       "      <td>-926.185831</td>\n",
       "      <td>27</td>\n",
       "      <td>высшее</td>\n",
       "      <td>0</td>\n",
       "      <td>гражданский брак</td>\n",
       "      <td>1</td>\n",
       "      <td>M</td>\n",
       "      <td>компаньон</td>\n",
       "      <td>0</td>\n",
       "      <td>255763.565419</td>\n",
       "      <td>покупка жилья</td>\n",
       "    </tr>\n",
       "    <tr>\n",
       "      <th>6</th>\n",
       "      <td>0</td>\n",
       "      <td>-2879.202052</td>\n",
       "      <td>43</td>\n",
       "      <td>высшее</td>\n",
       "      <td>0</td>\n",
       "      <td>женат / замужем</td>\n",
       "      <td>0</td>\n",
       "      <td>F</td>\n",
       "      <td>компаньон</td>\n",
       "      <td>0</td>\n",
       "      <td>240525.971920</td>\n",
       "      <td>операции с жильем</td>\n",
       "    </tr>\n",
       "    <tr>\n",
       "      <th>7</th>\n",
       "      <td>0</td>\n",
       "      <td>-152.779569</td>\n",
       "      <td>50</td>\n",
       "      <td>СРЕДНЕЕ</td>\n",
       "      <td>1</td>\n",
       "      <td>женат / замужем</td>\n",
       "      <td>0</td>\n",
       "      <td>M</td>\n",
       "      <td>сотрудник</td>\n",
       "      <td>0</td>\n",
       "      <td>135823.934197</td>\n",
       "      <td>образование</td>\n",
       "    </tr>\n",
       "    <tr>\n",
       "      <th>8</th>\n",
       "      <td>2</td>\n",
       "      <td>-6929.865299</td>\n",
       "      <td>35</td>\n",
       "      <td>ВЫСШЕЕ</td>\n",
       "      <td>0</td>\n",
       "      <td>гражданский брак</td>\n",
       "      <td>1</td>\n",
       "      <td>F</td>\n",
       "      <td>сотрудник</td>\n",
       "      <td>0</td>\n",
       "      <td>95856.832424</td>\n",
       "      <td>на проведение свадьбы</td>\n",
       "    </tr>\n",
       "    <tr>\n",
       "      <th>9</th>\n",
       "      <td>0</td>\n",
       "      <td>-2188.756445</td>\n",
       "      <td>41</td>\n",
       "      <td>среднее</td>\n",
       "      <td>1</td>\n",
       "      <td>женат / замужем</td>\n",
       "      <td>0</td>\n",
       "      <td>M</td>\n",
       "      <td>сотрудник</td>\n",
       "      <td>0</td>\n",
       "      <td>144425.938277</td>\n",
       "      <td>покупка жилья для семьи</td>\n",
       "    </tr>\n",
       "    <tr>\n",
       "      <th>10</th>\n",
       "      <td>2</td>\n",
       "      <td>-4171.483647</td>\n",
       "      <td>36</td>\n",
       "      <td>высшее</td>\n",
       "      <td>0</td>\n",
       "      <td>женат / замужем</td>\n",
       "      <td>0</td>\n",
       "      <td>M</td>\n",
       "      <td>компаньон</td>\n",
       "      <td>0</td>\n",
       "      <td>113943.491460</td>\n",
       "      <td>покупка недвижимости</td>\n",
       "    </tr>\n",
       "    <tr>\n",
       "      <th>11</th>\n",
       "      <td>0</td>\n",
       "      <td>-792.701887</td>\n",
       "      <td>40</td>\n",
       "      <td>среднее</td>\n",
       "      <td>1</td>\n",
       "      <td>женат / замужем</td>\n",
       "      <td>0</td>\n",
       "      <td>F</td>\n",
       "      <td>сотрудник</td>\n",
       "      <td>0</td>\n",
       "      <td>77069.234271</td>\n",
       "      <td>покупка коммерческой недвижимости</td>\n",
       "    </tr>\n",
       "    <tr>\n",
       "      <th>12</th>\n",
       "      <td>0</td>\n",
       "      <td>NaN</td>\n",
       "      <td>65</td>\n",
       "      <td>среднее</td>\n",
       "      <td>1</td>\n",
       "      <td>гражданский брак</td>\n",
       "      <td>1</td>\n",
       "      <td>M</td>\n",
       "      <td>пенсионер</td>\n",
       "      <td>0</td>\n",
       "      <td>NaN</td>\n",
       "      <td>сыграть свадьбу</td>\n",
       "    </tr>\n",
       "    <tr>\n",
       "      <th>13</th>\n",
       "      <td>0</td>\n",
       "      <td>-1846.641941</td>\n",
       "      <td>54</td>\n",
       "      <td>неоконченное высшее</td>\n",
       "      <td>2</td>\n",
       "      <td>женат / замужем</td>\n",
       "      <td>0</td>\n",
       "      <td>F</td>\n",
       "      <td>сотрудник</td>\n",
       "      <td>0</td>\n",
       "      <td>130458.228857</td>\n",
       "      <td>приобретение автомобиля</td>\n",
       "    </tr>\n",
       "    <tr>\n",
       "      <th>14</th>\n",
       "      <td>0</td>\n",
       "      <td>-1844.956182</td>\n",
       "      <td>56</td>\n",
       "      <td>высшее</td>\n",
       "      <td>0</td>\n",
       "      <td>гражданский брак</td>\n",
       "      <td>1</td>\n",
       "      <td>F</td>\n",
       "      <td>компаньон</td>\n",
       "      <td>1</td>\n",
       "      <td>165127.911772</td>\n",
       "      <td>покупка жилой недвижимости</td>\n",
       "    </tr>\n",
       "    <tr>\n",
       "      <th>15</th>\n",
       "      <td>1</td>\n",
       "      <td>-972.364419</td>\n",
       "      <td>26</td>\n",
       "      <td>среднее</td>\n",
       "      <td>1</td>\n",
       "      <td>женат / замужем</td>\n",
       "      <td>0</td>\n",
       "      <td>F</td>\n",
       "      <td>сотрудник</td>\n",
       "      <td>0</td>\n",
       "      <td>116820.904450</td>\n",
       "      <td>строительство собственной недвижимости</td>\n",
       "    </tr>\n",
       "    <tr>\n",
       "      <th>16</th>\n",
       "      <td>0</td>\n",
       "      <td>-1719.934226</td>\n",
       "      <td>35</td>\n",
       "      <td>среднее</td>\n",
       "      <td>1</td>\n",
       "      <td>женат / замужем</td>\n",
       "      <td>0</td>\n",
       "      <td>F</td>\n",
       "      <td>сотрудник</td>\n",
       "      <td>0</td>\n",
       "      <td>289202.704229</td>\n",
       "      <td>недвижимость</td>\n",
       "    </tr>\n",
       "    <tr>\n",
       "      <th>17</th>\n",
       "      <td>0</td>\n",
       "      <td>-2369.999720</td>\n",
       "      <td>33</td>\n",
       "      <td>высшее</td>\n",
       "      <td>0</td>\n",
       "      <td>гражданский брак</td>\n",
       "      <td>1</td>\n",
       "      <td>M</td>\n",
       "      <td>сотрудник</td>\n",
       "      <td>0</td>\n",
       "      <td>90410.586745</td>\n",
       "      <td>строительство недвижимости</td>\n",
       "    </tr>\n",
       "    <tr>\n",
       "      <th>18</th>\n",
       "      <td>0</td>\n",
       "      <td>400281.136913</td>\n",
       "      <td>53</td>\n",
       "      <td>среднее</td>\n",
       "      <td>1</td>\n",
       "      <td>вдовец / вдова</td>\n",
       "      <td>2</td>\n",
       "      <td>F</td>\n",
       "      <td>пенсионер</td>\n",
       "      <td>0</td>\n",
       "      <td>56823.777243</td>\n",
       "      <td>на покупку подержанного автомобиля</td>\n",
       "    </tr>\n",
       "    <tr>\n",
       "      <th>19</th>\n",
       "      <td>0</td>\n",
       "      <td>-10038.818549</td>\n",
       "      <td>48</td>\n",
       "      <td>СРЕДНЕЕ</td>\n",
       "      <td>1</td>\n",
       "      <td>в разводе</td>\n",
       "      <td>3</td>\n",
       "      <td>F</td>\n",
       "      <td>сотрудник</td>\n",
       "      <td>0</td>\n",
       "      <td>242831.107982</td>\n",
       "      <td>на покупку своего автомобиля</td>\n",
       "    </tr>\n",
       "  </tbody>\n",
       "</table>\n",
       "</div>\n",
       "    <div class=\"colab-df-buttons\">\n",
       "\n",
       "  <div class=\"colab-df-container\">\n",
       "    <button class=\"colab-df-convert\" onclick=\"convertToInteractive('df-89d1d736-d489-453c-a0ca-a7063abdd365')\"\n",
       "            title=\"Convert this dataframe to an interactive table.\"\n",
       "            style=\"display:none;\">\n",
       "\n",
       "  <svg xmlns=\"http://www.w3.org/2000/svg\" height=\"24px\" viewBox=\"0 -960 960 960\">\n",
       "    <path d=\"M120-120v-720h720v720H120Zm60-500h600v-160H180v160Zm220 220h160v-160H400v160Zm0 220h160v-160H400v160ZM180-400h160v-160H180v160Zm440 0h160v-160H620v160ZM180-180h160v-160H180v160Zm440 0h160v-160H620v160Z\"/>\n",
       "  </svg>\n",
       "    </button>\n",
       "\n",
       "  <style>\n",
       "    .colab-df-container {\n",
       "      display:flex;\n",
       "      gap: 12px;\n",
       "    }\n",
       "\n",
       "    .colab-df-convert {\n",
       "      background-color: #E8F0FE;\n",
       "      border: none;\n",
       "      border-radius: 50%;\n",
       "      cursor: pointer;\n",
       "      display: none;\n",
       "      fill: #1967D2;\n",
       "      height: 32px;\n",
       "      padding: 0 0 0 0;\n",
       "      width: 32px;\n",
       "    }\n",
       "\n",
       "    .colab-df-convert:hover {\n",
       "      background-color: #E2EBFA;\n",
       "      box-shadow: 0px 1px 2px rgba(60, 64, 67, 0.3), 0px 1px 3px 1px rgba(60, 64, 67, 0.15);\n",
       "      fill: #174EA6;\n",
       "    }\n",
       "\n",
       "    .colab-df-buttons div {\n",
       "      margin-bottom: 4px;\n",
       "    }\n",
       "\n",
       "    [theme=dark] .colab-df-convert {\n",
       "      background-color: #3B4455;\n",
       "      fill: #D2E3FC;\n",
       "    }\n",
       "\n",
       "    [theme=dark] .colab-df-convert:hover {\n",
       "      background-color: #434B5C;\n",
       "      box-shadow: 0px 1px 3px 1px rgba(0, 0, 0, 0.15);\n",
       "      filter: drop-shadow(0px 1px 2px rgba(0, 0, 0, 0.3));\n",
       "      fill: #FFFFFF;\n",
       "    }\n",
       "  </style>\n",
       "\n",
       "    <script>\n",
       "      const buttonEl =\n",
       "        document.querySelector('#df-89d1d736-d489-453c-a0ca-a7063abdd365 button.colab-df-convert');\n",
       "      buttonEl.style.display =\n",
       "        google.colab.kernel.accessAllowed ? 'block' : 'none';\n",
       "\n",
       "      async function convertToInteractive(key) {\n",
       "        const element = document.querySelector('#df-89d1d736-d489-453c-a0ca-a7063abdd365');\n",
       "        const dataTable =\n",
       "          await google.colab.kernel.invokeFunction('convertToInteractive',\n",
       "                                                    [key], {});\n",
       "        if (!dataTable) return;\n",
       "\n",
       "        const docLinkHtml = 'Like what you see? Visit the ' +\n",
       "          '<a target=\"_blank\" href=https://colab.research.google.com/notebooks/data_table.ipynb>data table notebook</a>'\n",
       "          + ' to learn more about interactive tables.';\n",
       "        element.innerHTML = '';\n",
       "        dataTable['output_type'] = 'display_data';\n",
       "        await google.colab.output.renderOutput(dataTable, element);\n",
       "        const docLink = document.createElement('div');\n",
       "        docLink.innerHTML = docLinkHtml;\n",
       "        element.appendChild(docLink);\n",
       "      }\n",
       "    </script>\n",
       "  </div>\n",
       "\n",
       "\n",
       "<div id=\"df-cc753bd5-39d2-4e51-95a9-9e7bf2577153\">\n",
       "  <button class=\"colab-df-quickchart\" onclick=\"quickchart('df-cc753bd5-39d2-4e51-95a9-9e7bf2577153')\"\n",
       "            title=\"Suggest charts\"\n",
       "            style=\"display:none;\">\n",
       "\n",
       "<svg xmlns=\"http://www.w3.org/2000/svg\" height=\"24px\"viewBox=\"0 0 24 24\"\n",
       "     width=\"24px\">\n",
       "    <g>\n",
       "        <path d=\"M19 3H5c-1.1 0-2 .9-2 2v14c0 1.1.9 2 2 2h14c1.1 0 2-.9 2-2V5c0-1.1-.9-2-2-2zM9 17H7v-7h2v7zm4 0h-2V7h2v10zm4 0h-2v-4h2v4z\"/>\n",
       "    </g>\n",
       "</svg>\n",
       "  </button>\n",
       "\n",
       "<style>\n",
       "  .colab-df-quickchart {\n",
       "      --bg-color: #E8F0FE;\n",
       "      --fill-color: #1967D2;\n",
       "      --hover-bg-color: #E2EBFA;\n",
       "      --hover-fill-color: #174EA6;\n",
       "      --disabled-fill-color: #AAA;\n",
       "      --disabled-bg-color: #DDD;\n",
       "  }\n",
       "\n",
       "  [theme=dark] .colab-df-quickchart {\n",
       "      --bg-color: #3B4455;\n",
       "      --fill-color: #D2E3FC;\n",
       "      --hover-bg-color: #434B5C;\n",
       "      --hover-fill-color: #FFFFFF;\n",
       "      --disabled-bg-color: #3B4455;\n",
       "      --disabled-fill-color: #666;\n",
       "  }\n",
       "\n",
       "  .colab-df-quickchart {\n",
       "    background-color: var(--bg-color);\n",
       "    border: none;\n",
       "    border-radius: 50%;\n",
       "    cursor: pointer;\n",
       "    display: none;\n",
       "    fill: var(--fill-color);\n",
       "    height: 32px;\n",
       "    padding: 0;\n",
       "    width: 32px;\n",
       "  }\n",
       "\n",
       "  .colab-df-quickchart:hover {\n",
       "    background-color: var(--hover-bg-color);\n",
       "    box-shadow: 0 1px 2px rgba(60, 64, 67, 0.3), 0 1px 3px 1px rgba(60, 64, 67, 0.15);\n",
       "    fill: var(--button-hover-fill-color);\n",
       "  }\n",
       "\n",
       "  .colab-df-quickchart-complete:disabled,\n",
       "  .colab-df-quickchart-complete:disabled:hover {\n",
       "    background-color: var(--disabled-bg-color);\n",
       "    fill: var(--disabled-fill-color);\n",
       "    box-shadow: none;\n",
       "  }\n",
       "\n",
       "  .colab-df-spinner {\n",
       "    border: 2px solid var(--fill-color);\n",
       "    border-color: transparent;\n",
       "    border-bottom-color: var(--fill-color);\n",
       "    animation:\n",
       "      spin 1s steps(1) infinite;\n",
       "  }\n",
       "\n",
       "  @keyframes spin {\n",
       "    0% {\n",
       "      border-color: transparent;\n",
       "      border-bottom-color: var(--fill-color);\n",
       "      border-left-color: var(--fill-color);\n",
       "    }\n",
       "    20% {\n",
       "      border-color: transparent;\n",
       "      border-left-color: var(--fill-color);\n",
       "      border-top-color: var(--fill-color);\n",
       "    }\n",
       "    30% {\n",
       "      border-color: transparent;\n",
       "      border-left-color: var(--fill-color);\n",
       "      border-top-color: var(--fill-color);\n",
       "      border-right-color: var(--fill-color);\n",
       "    }\n",
       "    40% {\n",
       "      border-color: transparent;\n",
       "      border-right-color: var(--fill-color);\n",
       "      border-top-color: var(--fill-color);\n",
       "    }\n",
       "    60% {\n",
       "      border-color: transparent;\n",
       "      border-right-color: var(--fill-color);\n",
       "    }\n",
       "    80% {\n",
       "      border-color: transparent;\n",
       "      border-right-color: var(--fill-color);\n",
       "      border-bottom-color: var(--fill-color);\n",
       "    }\n",
       "    90% {\n",
       "      border-color: transparent;\n",
       "      border-bottom-color: var(--fill-color);\n",
       "    }\n",
       "  }\n",
       "</style>\n",
       "\n",
       "  <script>\n",
       "    async function quickchart(key) {\n",
       "      const quickchartButtonEl =\n",
       "        document.querySelector('#' + key + ' button');\n",
       "      quickchartButtonEl.disabled = true;  // To prevent multiple clicks.\n",
       "      quickchartButtonEl.classList.add('colab-df-spinner');\n",
       "      try {\n",
       "        const charts = await google.colab.kernel.invokeFunction(\n",
       "            'suggestCharts', [key], {});\n",
       "      } catch (error) {\n",
       "        console.error('Error during call to suggestCharts:', error);\n",
       "      }\n",
       "      quickchartButtonEl.classList.remove('colab-df-spinner');\n",
       "      quickchartButtonEl.classList.add('colab-df-quickchart-complete');\n",
       "    }\n",
       "    (() => {\n",
       "      let quickchartButtonEl =\n",
       "        document.querySelector('#df-cc753bd5-39d2-4e51-95a9-9e7bf2577153 button');\n",
       "      quickchartButtonEl.style.display =\n",
       "        google.colab.kernel.accessAllowed ? 'block' : 'none';\n",
       "    })();\n",
       "  </script>\n",
       "</div>\n",
       "    </div>\n",
       "  </div>\n"
      ],
      "text/plain": [
       "    children  days_employed  dob_years            education  education_id  \\\n",
       "0          1   -8437.673028         42               высшее             0   \n",
       "1          1   -4024.803754         36              среднее             1   \n",
       "2          0   -5623.422610         33              Среднее             1   \n",
       "3          3   -4124.747207         32              среднее             1   \n",
       "4          0  340266.072047         53              среднее             1   \n",
       "5          0    -926.185831         27               высшее             0   \n",
       "6          0   -2879.202052         43               высшее             0   \n",
       "7          0    -152.779569         50              СРЕДНЕЕ             1   \n",
       "8          2   -6929.865299         35               ВЫСШЕЕ             0   \n",
       "9          0   -2188.756445         41              среднее             1   \n",
       "10         2   -4171.483647         36               высшее             0   \n",
       "11         0    -792.701887         40              среднее             1   \n",
       "12         0            NaN         65              среднее             1   \n",
       "13         0   -1846.641941         54  неоконченное высшее             2   \n",
       "14         0   -1844.956182         56               высшее             0   \n",
       "15         1    -972.364419         26              среднее             1   \n",
       "16         0   -1719.934226         35              среднее             1   \n",
       "17         0   -2369.999720         33               высшее             0   \n",
       "18         0  400281.136913         53              среднее             1   \n",
       "19         0  -10038.818549         48              СРЕДНЕЕ             1   \n",
       "\n",
       "       family_status  family_status_id gender income_type  debt  \\\n",
       "0    женат / замужем                 0      F   сотрудник     0   \n",
       "1    женат / замужем                 0      F   сотрудник     0   \n",
       "2    женат / замужем                 0      M   сотрудник     0   \n",
       "3    женат / замужем                 0      M   сотрудник     0   \n",
       "4   гражданский брак                 1      F   пенсионер     0   \n",
       "5   гражданский брак                 1      M   компаньон     0   \n",
       "6    женат / замужем                 0      F   компаньон     0   \n",
       "7    женат / замужем                 0      M   сотрудник     0   \n",
       "8   гражданский брак                 1      F   сотрудник     0   \n",
       "9    женат / замужем                 0      M   сотрудник     0   \n",
       "10   женат / замужем                 0      M   компаньон     0   \n",
       "11   женат / замужем                 0      F   сотрудник     0   \n",
       "12  гражданский брак                 1      M   пенсионер     0   \n",
       "13   женат / замужем                 0      F   сотрудник     0   \n",
       "14  гражданский брак                 1      F   компаньон     1   \n",
       "15   женат / замужем                 0      F   сотрудник     0   \n",
       "16   женат / замужем                 0      F   сотрудник     0   \n",
       "17  гражданский брак                 1      M   сотрудник     0   \n",
       "18    вдовец / вдова                 2      F   пенсионер     0   \n",
       "19         в разводе                 3      F   сотрудник     0   \n",
       "\n",
       "     total_income                                 purpose  \n",
       "0   253875.639453                           покупка жилья  \n",
       "1   112080.014102                 приобретение автомобиля  \n",
       "2   145885.952297                           покупка жилья  \n",
       "3   267628.550329              дополнительное образование  \n",
       "4   158616.077870                         сыграть свадьбу  \n",
       "5   255763.565419                           покупка жилья  \n",
       "6   240525.971920                       операции с жильем  \n",
       "7   135823.934197                             образование  \n",
       "8    95856.832424                   на проведение свадьбы  \n",
       "9   144425.938277                 покупка жилья для семьи  \n",
       "10  113943.491460                    покупка недвижимости  \n",
       "11   77069.234271       покупка коммерческой недвижимости  \n",
       "12            NaN                         сыграть свадьбу  \n",
       "13  130458.228857                 приобретение автомобиля  \n",
       "14  165127.911772              покупка жилой недвижимости  \n",
       "15  116820.904450  строительство собственной недвижимости  \n",
       "16  289202.704229                            недвижимость  \n",
       "17   90410.586745              строительство недвижимости  \n",
       "18   56823.777243      на покупку подержанного автомобиля  \n",
       "19  242831.107982            на покупку своего автомобиля  "
      ]
     },
     "execution_count": 3,
     "metadata": {},
     "output_type": "execute_result"
    }
   ],
   "source": [
    "# выведим первые 20 строк датасета data\n",
    "data.head(20)"
   ]
  },
  {
   "cell_type": "code",
   "execution_count": 4,
   "id": "d30cd833",
   "metadata": {
    "colab": {
     "base_uri": "https://localhost:8080/"
    },
    "deletable": false,
    "id": "d30cd833",
    "outputId": "d5dd44b8-954f-433c-9223-89e5cba62d80"
   },
   "outputs": [
    {
     "name": "stdout",
     "output_type": "stream",
     "text": [
      "<class 'pandas.core.frame.DataFrame'>\n",
      "RangeIndex: 21525 entries, 0 to 21524\n",
      "Data columns (total 12 columns):\n",
      " #   Column            Non-Null Count  Dtype  \n",
      "---  ------            --------------  -----  \n",
      " 0   children          21525 non-null  int64  \n",
      " 1   days_employed     19351 non-null  float64\n",
      " 2   dob_years         21525 non-null  int64  \n",
      " 3   education         21525 non-null  object \n",
      " 4   education_id      21525 non-null  int64  \n",
      " 5   family_status     21525 non-null  object \n",
      " 6   family_status_id  21525 non-null  int64  \n",
      " 7   gender            21525 non-null  object \n",
      " 8   income_type       21525 non-null  object \n",
      " 9   debt              21525 non-null  int64  \n",
      " 10  total_income      19351 non-null  float64\n",
      " 11  purpose           21525 non-null  object \n",
      "dtypes: float64(2), int64(5), object(5)\n",
      "memory usage: 2.0+ MB\n"
     ]
    }
   ],
   "source": [
    "# выведим основную информацию о датасете с помощью метода info()\n",
    "data.info()"
   ]
  },
  {
   "cell_type": "markdown",
   "id": "4zpYAdfxPA9F",
   "metadata": {
    "id": "4zpYAdfxPA9F"
   },
   "source": [
    "**Итог.** По полученной информации о датасете можем зафиксировать следующее:\n",
    "- в датасете представлено 21525 записи;\n",
    "- в датасете имеются следющие типы данных:\n",
    "  - `int64` — целочисленными колонками являются:\n",
    "    - `children` — количество детей в семье;\n",
    "    - `dob_years` — возраст клиента в годах;\n",
    "    - `education_id` — идентификатор уровня образования;\n",
    "    - `family_status_id` — идентификатор семейного положения;\n",
    "    - `debt` — имел ли задолженность по возврату кредитов.\n",
    "  - `float64` — колонки со значениями действительных чисел являются:\n",
    "    - `days_employed` — общий трудовой стаж в днях;\n",
    "    - `total_income` — ежемесячный доход.\n",
    "  - `object` - текстовыми колонками являются:\n",
    "    - `education` — уровень образования клиента;\n",
    "    - `family_status` — семейное положение;\n",
    "    - `gender` — пол клиента;\n",
    "    - `income_type` — тип занятости;\n",
    "    - `purpose` — цель получения кредита.\n",
    "- в колонках `days_employed` и `total_income` присутствуют пропуски, необходимо их проверить и принять решение об их удалении из датасет."
   ]
  },
  {
   "cell_type": "markdown",
   "id": "d1de8877",
   "metadata": {
    "deletable": false,
    "editable": false,
    "id": "d1de8877"
   },
   "source": [
    "## Шаг 2. Предобработка данных"
   ]
  },
  {
   "cell_type": "markdown",
   "id": "3f420696",
   "metadata": {
    "deletable": false,
    "editable": false,
    "id": "3f420696"
   },
   "source": [
    "### Удаление пропусков"
   ]
  },
  {
   "cell_type": "markdown",
   "id": "A9VNroxuYGMz",
   "metadata": {
    "id": "A9VNroxuYGMz"
   },
   "source": [
    "На первом шаге мы обнаружили в колонках `days_employed` (общий трудовой стаж) и `total_income` (ежемясчный доход) имеются пропуски. Изучим количество пропущенных значений для каждого столбца."
   ]
  },
  {
   "cell_type": "code",
   "execution_count": 5,
   "id": "175225b7",
   "metadata": {
    "colab": {
     "base_uri": "https://localhost:8080/"
    },
    "deletable": false,
    "id": "175225b7",
    "outputId": "2b459ea5-2e28-4e99-e5d6-557604aedd7c"
   },
   "outputs": [
    {
     "data": {
      "text/plain": [
       "children               0\n",
       "days_employed       2174\n",
       "dob_years              0\n",
       "education              0\n",
       "education_id           0\n",
       "family_status          0\n",
       "family_status_id       0\n",
       "gender                 0\n",
       "income_type            0\n",
       "debt                   0\n",
       "total_income        2174\n",
       "purpose                0\n",
       "dtype: int64"
      ]
     },
     "execution_count": 5,
     "metadata": {},
     "output_type": "execute_result"
    }
   ],
   "source": [
    "# посчитаем сумму пропусков для каждого столбца датасета\n",
    "data.isna().sum()"
   ]
  },
  {
   "cell_type": "markdown",
   "id": "xx85bJPHZGQ7",
   "metadata": {
    "id": "xx85bJPHZGQ7"
   },
   "source": [
    "**Итог:** в колонках `days_employed` (общий трудовой стаж) и `total_income` (ежемясчный доход) по 2174 пропуска.\n",
    "\n",
    "Предлагаю пропуки в колонке `total_income` заполнить медианным значениями, так как на ежемесячный доход сильнее всего влияет тип занятости (столбец `income_type`).\n",
    "\n",
    "Колонку `days_employed` заполним на следующем этапе."
   ]
  },
  {
   "cell_type": "code",
   "execution_count": 6,
   "id": "81eeb4d2",
   "metadata": {
    "deletable": false,
    "id": "81eeb4d2"
   },
   "outputs": [],
   "source": [
    "# пропуски в колонке 'total_income' заполним медианным значением\n",
    "# по каждому типу занятости, указанному в колонке 'income_type'\n",
    "\n",
    "for t in data['income_type'].unique():\n",
    "    data.loc[(data['income_type'] == t) & (data['total_income'].isna()), 'total_income'] = \\\n",
    "    data.loc[(data['income_type'] == t), 'total_income'].median()"
   ]
  },
  {
   "cell_type": "code",
   "execution_count": 7,
   "id": "NbiqmLSBa3ny",
   "metadata": {
    "colab": {
     "base_uri": "https://localhost:8080/"
    },
    "id": "NbiqmLSBa3ny",
    "outputId": "7f563e52-eaba-4f0a-81e0-1ea1d4437d84"
   },
   "outputs": [
    {
     "name": "stdout",
     "output_type": "stream",
     "text": [
      "Количество пропусков в колонке 'total_income': 0\n"
     ]
    }
   ],
   "source": [
    "# выполним проверку на пропуски\n",
    "print('Количество пропусков в колонке \\'total_income\\':', data['total_income'].isna().sum())"
   ]
  },
  {
   "cell_type": "markdown",
   "id": "d30b1354",
   "metadata": {
    "deletable": false,
    "editable": false,
    "id": "d30b1354"
   },
   "source": [
    "### Обработка аномальных значений"
   ]
  },
  {
   "cell_type": "markdown",
   "id": "b6761d44",
   "metadata": {
    "deletable": false,
    "editable": false,
    "id": "b6761d44"
   },
   "source": [
    "В представленных данных могут встречаться аномальные значения — значения, которые не отражают действительность и появились по какой-то ошибке. Таким артефактом будет отрицательное количество дней трудового стажа в столбце `days_employed`. Для реальных данных это нормально. Обработаем значения в этом столбце: заменим все отрицательные значения положительными."
   ]
  },
  {
   "cell_type": "code",
   "execution_count": 8,
   "id": "0dbe7c04",
   "metadata": {
    "deletable": false,
    "id": "0dbe7c04"
   },
   "outputs": [],
   "source": [
    "#выполним замену отрицательных значений на положительные в колонке 'days_employed'\n",
    "data['days_employed'] = data['days_employed'].abs()"
   ]
  },
  {
   "cell_type": "code",
   "execution_count": 9,
   "id": "15fff016",
   "metadata": {
    "colab": {
     "base_uri": "https://localhost:8080/"
    },
    "deletable": false,
    "id": "15fff016",
    "outputId": "1740127c-ec0d-4677-ab3c-be25d0e35b02"
   },
   "outputs": [
    {
     "data": {
      "text/plain": [
       "income_type\n",
       "безработный        366413.652744\n",
       "в декрете            3296.759962\n",
       "госслужащий          2689.368353\n",
       "компаньон            1547.382223\n",
       "пенсионер          365213.306266\n",
       "предприниматель       520.848083\n",
       "сотрудник            1574.202821\n",
       "студент               578.751554\n",
       "Name: days_employed, dtype: float64"
      ]
     },
     "execution_count": 9,
     "metadata": {},
     "output_type": "execute_result"
    }
   ],
   "source": [
    "# выведим для каждого типа занятости медианное значение трудового стажа\n",
    "data.groupby('income_type')['days_employed'].agg('median')"
   ]
  },
  {
   "cell_type": "markdown",
   "id": "17c3f181",
   "metadata": {
    "deletable": false,
    "editable": false,
    "id": "17c3f181"
   },
   "source": [
    "**Итог:** У двух типов занятости - `безработные` и `пенсионеры`, наблюдаем аномально большие значения. Исправить такие значения сложно, поэтому оставим их как есть. Тем более этот столбец не понадобится нам для исследования.\n",
    "\n",
    "Предлагаю выполнить проверку аномальных значений также в колонке `children` (количество детей)."
   ]
  },
  {
   "cell_type": "code",
   "execution_count": 10,
   "id": "e68192d0",
   "metadata": {
    "colab": {
     "base_uri": "https://localhost:8080/"
    },
    "deletable": false,
    "id": "e68192d0",
    "outputId": "13768ed0-f8f9-4057-f759-e5867c1544f7"
   },
   "outputs": [
    {
     "data": {
      "text/plain": [
       "array([ 1,  0,  3,  2, -1,  4, 20,  5])"
      ]
     },
     "execution_count": 10,
     "metadata": {},
     "output_type": "execute_result"
    }
   ],
   "source": [
    "# выведим уникальные значения в колонке 'children'\n",
    "data['children'].unique()"
   ]
  },
  {
   "cell_type": "markdown",
   "id": "_F4rILWxfYk2",
   "metadata": {
    "id": "_F4rILWxfYk2"
   },
   "source": [
    "**Итог:** в колонке `children` наблюдаем два аномальных значения `-1` и `20`. Данные аномалии могли возникнуть по ошибке пользователя, который заполнял данные о себе. Предлагаю строки, в которых встречаются данные значения удалить из нашего датасета."
   ]
  },
  {
   "cell_type": "code",
   "execution_count": 11,
   "id": "da338c1d",
   "metadata": {
    "deletable": false,
    "id": "da338c1d"
   },
   "outputs": [],
   "source": [
    "# фильтруем датасет и оставляем строки, в которых в колонке 'children' не встречаются значения -1 и 20\n",
    "data = data[(data['children'] != -1) & (data['children'] != 20)]"
   ]
  },
  {
   "cell_type": "code",
   "execution_count": 12,
   "id": "c9417e34",
   "metadata": {
    "colab": {
     "base_uri": "https://localhost:8080/"
    },
    "deletable": false,
    "id": "c9417e34",
    "outputId": "a1095928-b5e6-414c-ddac-b33cdcbc9914"
   },
   "outputs": [
    {
     "data": {
      "text/plain": [
       "array([1, 0, 3, 2, 4, 5])"
      ]
     },
     "execution_count": 12,
     "metadata": {},
     "output_type": "execute_result"
    }
   ],
   "source": [
    "# выполним проверку удаления аномальных значений и выведим уникальные значения колонки 'children'\n",
    "data['children'].unique()"
   ]
  },
  {
   "cell_type": "markdown",
   "id": "b83c0e91",
   "metadata": {
    "deletable": false,
    "editable": false,
    "id": "b83c0e91"
   },
   "source": [
    "### Удаление пропусков (продолжение)"
   ]
  },
  {
   "cell_type": "markdown",
   "id": "dcbbb352",
   "metadata": {
    "deletable": false,
    "editable": false,
    "id": "dcbbb352"
   },
   "source": [
    "Вернемся к заполнению пропусков. Как ранее было определено в столбце `days_employed` имеются пропуски в количестве 2174. Зполним медианными значениями по каждому типу занятости `income_type`."
   ]
  },
  {
   "cell_type": "code",
   "execution_count": 13,
   "id": "949c63ab",
   "metadata": {
    "deletable": false,
    "id": "949c63ab"
   },
   "outputs": [],
   "source": [
    "# пропуски в колонке 'days_employed' заполним медианным значением\n",
    "# по каждому типу занятости, указанному в колонке 'income_type'\n",
    "\n",
    "for t in data['income_type'].unique():\n",
    "    data.loc[(data['income_type'] == t) & (data['days_employed'].isna()), 'days_employed'] = \\\n",
    "    data.loc[(data['income_type'] == t), 'days_employed'].median()"
   ]
  },
  {
   "cell_type": "code",
   "execution_count": 14,
   "id": "epqGr23dkp-6",
   "metadata": {
    "colab": {
     "base_uri": "https://localhost:8080/"
    },
    "id": "epqGr23dkp-6",
    "outputId": "f0302708-6c23-4e94-c3ca-7e34bb75f726"
   },
   "outputs": [
    {
     "name": "stdout",
     "output_type": "stream",
     "text": [
      "Количество пропусков в колонке 'days_employed': 0\n"
     ]
    }
   ],
   "source": [
    "# выполним проверку на пропуски\n",
    "print('Количество пропусков в колонке \\'days_employed\\':', data['days_employed'].isna().sum())"
   ]
  },
  {
   "cell_type": "code",
   "execution_count": 15,
   "id": "3947206e",
   "metadata": {
    "colab": {
     "base_uri": "https://localhost:8080/"
    },
    "deletable": false,
    "id": "3947206e",
    "outputId": "0f6ff27b-0ef9-411e-d1df-d3662aa60708"
   },
   "outputs": [
    {
     "data": {
      "text/plain": [
       "children            0\n",
       "days_employed       0\n",
       "dob_years           0\n",
       "education           0\n",
       "education_id        0\n",
       "family_status       0\n",
       "family_status_id    0\n",
       "gender              0\n",
       "income_type         0\n",
       "debt                0\n",
       "total_income        0\n",
       "purpose             0\n",
       "dtype: int64"
      ]
     },
     "execution_count": 15,
     "metadata": {},
     "output_type": "execute_result"
    }
   ],
   "source": [
    "# проверим наличие пропусков по всему датасету\n",
    "data.isna().sum()"
   ]
  },
  {
   "cell_type": "markdown",
   "id": "e3951f2d",
   "metadata": {
    "deletable": false,
    "editable": false,
    "id": "e3951f2d"
   },
   "source": [
    "### Изменение типов данных"
   ]
  },
  {
   "cell_type": "markdown",
   "id": "S3D0lgOopQva",
   "metadata": {
    "id": "S3D0lgOopQva"
   },
   "source": [
    "В колонке `total_income` представлены значения об ежемесячном доходе клиента. На данный момент значения в колонке представлены как вещественный тип. Для последующего анализа предлагаю значения данной колонки перевести в целочисленный тип."
   ]
  },
  {
   "cell_type": "code",
   "execution_count": 16,
   "id": "3f19afc2",
   "metadata": {
    "deletable": false,
    "id": "3f19afc2"
   },
   "outputs": [],
   "source": [
    "# выполним преобразование значений из float64 в int64 в колонке 'total_income'\n",
    "data['total_income'] = data['total_income'].astype(int)"
   ]
  },
  {
   "cell_type": "markdown",
   "id": "c81fdd01",
   "metadata": {
    "deletable": false,
    "editable": false,
    "id": "c81fdd01"
   },
   "source": [
    "### Обработка дубликатов"
   ]
  },
  {
   "cell_type": "markdown",
   "id": "CqaXGABSlI6o",
   "metadata": {
    "id": "CqaXGABSlI6o"
   },
   "source": [
    "В колонке `education` (уровень образования клиента) мы могли наблюдать, что одни и те же значения записаны по разному: с использованием заглавных и строчных букв. Предлагаю их изучить и привести к нижнему регистру."
   ]
  },
  {
   "cell_type": "code",
   "execution_count": 17,
   "id": "7tlAIa71lfXb",
   "metadata": {
    "colab": {
     "base_uri": "https://localhost:8080/"
    },
    "id": "7tlAIa71lfXb",
    "outputId": "c7befd53-97b9-45c6-9deb-146f9a5d4675"
   },
   "outputs": [
    {
     "data": {
      "text/plain": [
       "array(['высшее', 'среднее', 'Среднее', 'СРЕДНЕЕ', 'ВЫСШЕЕ',\n",
       "       'неоконченное высшее', 'начальное', 'Высшее',\n",
       "       'НЕОКОНЧЕННОЕ ВЫСШЕЕ', 'Неоконченное высшее', 'НАЧАЛЬНОЕ',\n",
       "       'Начальное', 'Ученая степень', 'УЧЕНАЯ СТЕПЕНЬ', 'ученая степень'],\n",
       "      dtype=object)"
      ]
     },
     "execution_count": 17,
     "metadata": {},
     "output_type": "execute_result"
    }
   ],
   "source": [
    "# выведим уникальные значения по колонке 'education'\n",
    "data['education'].unique()"
   ]
  },
  {
   "cell_type": "code",
   "execution_count": 18,
   "id": "5872b013",
   "metadata": {
    "deletable": false,
    "id": "5872b013"
   },
   "outputs": [],
   "source": [
    "# приведем все значения колонки к нижнем регистру\n",
    "data['education'] = data['education'].str.lower()"
   ]
  },
  {
   "cell_type": "code",
   "execution_count": 19,
   "id": "0W4mqdPMl9RY",
   "metadata": {
    "colab": {
     "base_uri": "https://localhost:8080/"
    },
    "id": "0W4mqdPMl9RY",
    "outputId": "ed80c938-3e78-4a96-f147-ff15745c3ff0"
   },
   "outputs": [
    {
     "data": {
      "text/plain": [
       "array(['высшее', 'среднее', 'неоконченное высшее', 'начальное',\n",
       "       'ученая степень'], dtype=object)"
      ]
     },
     "execution_count": 19,
     "metadata": {},
     "output_type": "execute_result"
    }
   ],
   "source": [
    "# проверим результат преобразования и выведим уникальные значения\n",
    "data['education'].unique()"
   ]
  },
  {
   "cell_type": "markdown",
   "id": "ZcpSNGp5nNjp",
   "metadata": {
    "id": "ZcpSNGp5nNjp"
   },
   "source": [
    "Далее предлагаю проверить количество строк-дубликатов в датасете. Если такие у нас имеются и количество таких строк находится в диапазоне от 0 до 5 % на весь датасет, то их можно удалить."
   ]
  },
  {
   "cell_type": "code",
   "execution_count": 20,
   "id": "77189cc0",
   "metadata": {
    "colab": {
     "base_uri": "https://localhost:8080/"
    },
    "deletable": false,
    "id": "77189cc0",
    "outputId": "24ece670-c763-4d98-e88a-130467569ece"
   },
   "outputs": [
    {
     "name": "stdout",
     "output_type": "stream",
     "text": [
      "Количество строк-дубликатов в датасете: 71\n"
     ]
    }
   ],
   "source": [
    "print('Количество строк-дубликатов в датасете:', data.duplicated().sum())"
   ]
  },
  {
   "cell_type": "code",
   "execution_count": 21,
   "id": "bn90uFW4n7vc",
   "metadata": {
    "colab": {
     "base_uri": "https://localhost:8080/"
    },
    "id": "bn90uFW4n7vc",
    "outputId": "893cd6fc-6222-4e16-97bb-580a70440699"
   },
   "outputs": [
    {
     "name": "stdout",
     "output_type": "stream",
     "text": [
      "Процент строк-дубликатов от общего кол-ва строк в датасете: 0.33\n"
     ]
    }
   ],
   "source": [
    "print ('Процент строк-дубликатов от общего кол-ва строк в датасете:', round(data.duplicated().sum() / data.shape[0] * 100, 2))"
   ]
  },
  {
   "cell_type": "code",
   "execution_count": 22,
   "id": "c7930f09",
   "metadata": {
    "deletable": false,
    "id": "c7930f09"
   },
   "outputs": [],
   "source": [
    "# удаляем строки-дубликаты из датасета\n",
    "data = data.drop_duplicates()"
   ]
  },
  {
   "cell_type": "markdown",
   "id": "6c4ba133",
   "metadata": {
    "deletable": false,
    "editable": false,
    "id": "6c4ba133"
   },
   "source": [
    "### Категоризация данных"
   ]
  },
  {
   "cell_type": "markdown",
   "id": "shjcGafzqOFU",
   "metadata": {
    "id": "shjcGafzqOFU"
   },
   "source": [
    "Для исследования и корректного выполнения **Шага 3. Ответы на вопросы** предлагаю в предоставленный датасет ввести новые колонки с категоризацией.\n",
    "\n",
    "У нас имеются данные о доходах клиентов, для удобного и корректного исследования данных предлагаю ввести следующие категории:\n",
    "- доход от 0 до 30000 — `'E'`;\n",
    "- доход от 30001 до 50000 — `'D'`;\n",
    "- доход от 50001 до 200000 — `'C'`;\n",
    "- доход от 200001 до 1000000 — `'B'`;\n",
    "- доход от 1000001 и выше — `'A'`."
   ]
  },
  {
   "cell_type": "code",
   "execution_count": 23,
   "id": "5edf4e80",
   "metadata": {
    "deletable": false,
    "id": "5edf4e80"
   },
   "outputs": [],
   "source": [
    "# напишем функцию для определения категории клиентов по их доходу\n",
    "def categorize_income(income):\n",
    "    try:\n",
    "        if 0 <= income <= 30000:\n",
    "            return 'E'\n",
    "        elif 30001 <= income <= 50000:\n",
    "            return 'D'\n",
    "        elif 50001 <= income <= 200000:\n",
    "            return 'C'\n",
    "        elif 200001 <= income <= 1000000:\n",
    "            return 'B'\n",
    "        elif income >= 1000001:\n",
    "            return 'A'\n",
    "    except:\n",
    "        pass"
   ]
  },
  {
   "cell_type": "code",
   "execution_count": 24,
   "id": "f9281940",
   "metadata": {
    "deletable": false,
    "id": "f9281940"
   },
   "outputs": [],
   "source": [
    "# добавим в датасет новую колонку total_income_category' со значениями категорий\n",
    "data['total_income_category'] = data['total_income'].apply(categorize_income)"
   ]
  },
  {
   "cell_type": "code",
   "execution_count": 25,
   "id": "strX9y6GspJt",
   "metadata": {
    "colab": {
     "base_uri": "https://localhost:8080/",
     "height": 313
    },
    "id": "strX9y6GspJt",
    "outputId": "c1a41de5-5364-43c0-a19f-2cd38a5ebbb7"
   },
   "outputs": [
    {
     "data": {
      "text/html": [
       "\n",
       "  <div id=\"df-c944ee7d-26e7-44ce-bda7-eb793a56eb3f\" class=\"colab-df-container\">\n",
       "    <div>\n",
       "<style scoped>\n",
       "    .dataframe tbody tr th:only-of-type {\n",
       "        vertical-align: middle;\n",
       "    }\n",
       "\n",
       "    .dataframe tbody tr th {\n",
       "        vertical-align: top;\n",
       "    }\n",
       "\n",
       "    .dataframe thead th {\n",
       "        text-align: right;\n",
       "    }\n",
       "</style>\n",
       "<table border=\"1\" class=\"dataframe\">\n",
       "  <thead>\n",
       "    <tr style=\"text-align: right;\">\n",
       "      <th></th>\n",
       "      <th>children</th>\n",
       "      <th>days_employed</th>\n",
       "      <th>dob_years</th>\n",
       "      <th>education</th>\n",
       "      <th>education_id</th>\n",
       "      <th>family_status</th>\n",
       "      <th>family_status_id</th>\n",
       "      <th>gender</th>\n",
       "      <th>income_type</th>\n",
       "      <th>debt</th>\n",
       "      <th>total_income</th>\n",
       "      <th>purpose</th>\n",
       "      <th>total_income_category</th>\n",
       "    </tr>\n",
       "  </thead>\n",
       "  <tbody>\n",
       "    <tr>\n",
       "      <th>0</th>\n",
       "      <td>1</td>\n",
       "      <td>8437.673028</td>\n",
       "      <td>42</td>\n",
       "      <td>высшее</td>\n",
       "      <td>0</td>\n",
       "      <td>женат / замужем</td>\n",
       "      <td>0</td>\n",
       "      <td>F</td>\n",
       "      <td>сотрудник</td>\n",
       "      <td>0</td>\n",
       "      <td>253875</td>\n",
       "      <td>покупка жилья</td>\n",
       "      <td>B</td>\n",
       "    </tr>\n",
       "    <tr>\n",
       "      <th>1</th>\n",
       "      <td>1</td>\n",
       "      <td>4024.803754</td>\n",
       "      <td>36</td>\n",
       "      <td>среднее</td>\n",
       "      <td>1</td>\n",
       "      <td>женат / замужем</td>\n",
       "      <td>0</td>\n",
       "      <td>F</td>\n",
       "      <td>сотрудник</td>\n",
       "      <td>0</td>\n",
       "      <td>112080</td>\n",
       "      <td>приобретение автомобиля</td>\n",
       "      <td>C</td>\n",
       "    </tr>\n",
       "    <tr>\n",
       "      <th>2</th>\n",
       "      <td>0</td>\n",
       "      <td>5623.422610</td>\n",
       "      <td>33</td>\n",
       "      <td>среднее</td>\n",
       "      <td>1</td>\n",
       "      <td>женат / замужем</td>\n",
       "      <td>0</td>\n",
       "      <td>M</td>\n",
       "      <td>сотрудник</td>\n",
       "      <td>0</td>\n",
       "      <td>145885</td>\n",
       "      <td>покупка жилья</td>\n",
       "      <td>C</td>\n",
       "    </tr>\n",
       "    <tr>\n",
       "      <th>3</th>\n",
       "      <td>3</td>\n",
       "      <td>4124.747207</td>\n",
       "      <td>32</td>\n",
       "      <td>среднее</td>\n",
       "      <td>1</td>\n",
       "      <td>женат / замужем</td>\n",
       "      <td>0</td>\n",
       "      <td>M</td>\n",
       "      <td>сотрудник</td>\n",
       "      <td>0</td>\n",
       "      <td>267628</td>\n",
       "      <td>дополнительное образование</td>\n",
       "      <td>B</td>\n",
       "    </tr>\n",
       "    <tr>\n",
       "      <th>4</th>\n",
       "      <td>0</td>\n",
       "      <td>340266.072047</td>\n",
       "      <td>53</td>\n",
       "      <td>среднее</td>\n",
       "      <td>1</td>\n",
       "      <td>гражданский брак</td>\n",
       "      <td>1</td>\n",
       "      <td>F</td>\n",
       "      <td>пенсионер</td>\n",
       "      <td>0</td>\n",
       "      <td>158616</td>\n",
       "      <td>сыграть свадьбу</td>\n",
       "      <td>C</td>\n",
       "    </tr>\n",
       "  </tbody>\n",
       "</table>\n",
       "</div>\n",
       "    <div class=\"colab-df-buttons\">\n",
       "\n",
       "  <div class=\"colab-df-container\">\n",
       "    <button class=\"colab-df-convert\" onclick=\"convertToInteractive('df-c944ee7d-26e7-44ce-bda7-eb793a56eb3f')\"\n",
       "            title=\"Convert this dataframe to an interactive table.\"\n",
       "            style=\"display:none;\">\n",
       "\n",
       "  <svg xmlns=\"http://www.w3.org/2000/svg\" height=\"24px\" viewBox=\"0 -960 960 960\">\n",
       "    <path d=\"M120-120v-720h720v720H120Zm60-500h600v-160H180v160Zm220 220h160v-160H400v160Zm0 220h160v-160H400v160ZM180-400h160v-160H180v160Zm440 0h160v-160H620v160ZM180-180h160v-160H180v160Zm440 0h160v-160H620v160Z\"/>\n",
       "  </svg>\n",
       "    </button>\n",
       "\n",
       "  <style>\n",
       "    .colab-df-container {\n",
       "      display:flex;\n",
       "      gap: 12px;\n",
       "    }\n",
       "\n",
       "    .colab-df-convert {\n",
       "      background-color: #E8F0FE;\n",
       "      border: none;\n",
       "      border-radius: 50%;\n",
       "      cursor: pointer;\n",
       "      display: none;\n",
       "      fill: #1967D2;\n",
       "      height: 32px;\n",
       "      padding: 0 0 0 0;\n",
       "      width: 32px;\n",
       "    }\n",
       "\n",
       "    .colab-df-convert:hover {\n",
       "      background-color: #E2EBFA;\n",
       "      box-shadow: 0px 1px 2px rgba(60, 64, 67, 0.3), 0px 1px 3px 1px rgba(60, 64, 67, 0.15);\n",
       "      fill: #174EA6;\n",
       "    }\n",
       "\n",
       "    .colab-df-buttons div {\n",
       "      margin-bottom: 4px;\n",
       "    }\n",
       "\n",
       "    [theme=dark] .colab-df-convert {\n",
       "      background-color: #3B4455;\n",
       "      fill: #D2E3FC;\n",
       "    }\n",
       "\n",
       "    [theme=dark] .colab-df-convert:hover {\n",
       "      background-color: #434B5C;\n",
       "      box-shadow: 0px 1px 3px 1px rgba(0, 0, 0, 0.15);\n",
       "      filter: drop-shadow(0px 1px 2px rgba(0, 0, 0, 0.3));\n",
       "      fill: #FFFFFF;\n",
       "    }\n",
       "  </style>\n",
       "\n",
       "    <script>\n",
       "      const buttonEl =\n",
       "        document.querySelector('#df-c944ee7d-26e7-44ce-bda7-eb793a56eb3f button.colab-df-convert');\n",
       "      buttonEl.style.display =\n",
       "        google.colab.kernel.accessAllowed ? 'block' : 'none';\n",
       "\n",
       "      async function convertToInteractive(key) {\n",
       "        const element = document.querySelector('#df-c944ee7d-26e7-44ce-bda7-eb793a56eb3f');\n",
       "        const dataTable =\n",
       "          await google.colab.kernel.invokeFunction('convertToInteractive',\n",
       "                                                    [key], {});\n",
       "        if (!dataTable) return;\n",
       "\n",
       "        const docLinkHtml = 'Like what you see? Visit the ' +\n",
       "          '<a target=\"_blank\" href=https://colab.research.google.com/notebooks/data_table.ipynb>data table notebook</a>'\n",
       "          + ' to learn more about interactive tables.';\n",
       "        element.innerHTML = '';\n",
       "        dataTable['output_type'] = 'display_data';\n",
       "        await google.colab.output.renderOutput(dataTable, element);\n",
       "        const docLink = document.createElement('div');\n",
       "        docLink.innerHTML = docLinkHtml;\n",
       "        element.appendChild(docLink);\n",
       "      }\n",
       "    </script>\n",
       "  </div>\n",
       "\n",
       "\n",
       "<div id=\"df-ef524227-56ad-4fa8-a887-2fedd015573e\">\n",
       "  <button class=\"colab-df-quickchart\" onclick=\"quickchart('df-ef524227-56ad-4fa8-a887-2fedd015573e')\"\n",
       "            title=\"Suggest charts\"\n",
       "            style=\"display:none;\">\n",
       "\n",
       "<svg xmlns=\"http://www.w3.org/2000/svg\" height=\"24px\"viewBox=\"0 0 24 24\"\n",
       "     width=\"24px\">\n",
       "    <g>\n",
       "        <path d=\"M19 3H5c-1.1 0-2 .9-2 2v14c0 1.1.9 2 2 2h14c1.1 0 2-.9 2-2V5c0-1.1-.9-2-2-2zM9 17H7v-7h2v7zm4 0h-2V7h2v10zm4 0h-2v-4h2v4z\"/>\n",
       "    </g>\n",
       "</svg>\n",
       "  </button>\n",
       "\n",
       "<style>\n",
       "  .colab-df-quickchart {\n",
       "      --bg-color: #E8F0FE;\n",
       "      --fill-color: #1967D2;\n",
       "      --hover-bg-color: #E2EBFA;\n",
       "      --hover-fill-color: #174EA6;\n",
       "      --disabled-fill-color: #AAA;\n",
       "      --disabled-bg-color: #DDD;\n",
       "  }\n",
       "\n",
       "  [theme=dark] .colab-df-quickchart {\n",
       "      --bg-color: #3B4455;\n",
       "      --fill-color: #D2E3FC;\n",
       "      --hover-bg-color: #434B5C;\n",
       "      --hover-fill-color: #FFFFFF;\n",
       "      --disabled-bg-color: #3B4455;\n",
       "      --disabled-fill-color: #666;\n",
       "  }\n",
       "\n",
       "  .colab-df-quickchart {\n",
       "    background-color: var(--bg-color);\n",
       "    border: none;\n",
       "    border-radius: 50%;\n",
       "    cursor: pointer;\n",
       "    display: none;\n",
       "    fill: var(--fill-color);\n",
       "    height: 32px;\n",
       "    padding: 0;\n",
       "    width: 32px;\n",
       "  }\n",
       "\n",
       "  .colab-df-quickchart:hover {\n",
       "    background-color: var(--hover-bg-color);\n",
       "    box-shadow: 0 1px 2px rgba(60, 64, 67, 0.3), 0 1px 3px 1px rgba(60, 64, 67, 0.15);\n",
       "    fill: var(--button-hover-fill-color);\n",
       "  }\n",
       "\n",
       "  .colab-df-quickchart-complete:disabled,\n",
       "  .colab-df-quickchart-complete:disabled:hover {\n",
       "    background-color: var(--disabled-bg-color);\n",
       "    fill: var(--disabled-fill-color);\n",
       "    box-shadow: none;\n",
       "  }\n",
       "\n",
       "  .colab-df-spinner {\n",
       "    border: 2px solid var(--fill-color);\n",
       "    border-color: transparent;\n",
       "    border-bottom-color: var(--fill-color);\n",
       "    animation:\n",
       "      spin 1s steps(1) infinite;\n",
       "  }\n",
       "\n",
       "  @keyframes spin {\n",
       "    0% {\n",
       "      border-color: transparent;\n",
       "      border-bottom-color: var(--fill-color);\n",
       "      border-left-color: var(--fill-color);\n",
       "    }\n",
       "    20% {\n",
       "      border-color: transparent;\n",
       "      border-left-color: var(--fill-color);\n",
       "      border-top-color: var(--fill-color);\n",
       "    }\n",
       "    30% {\n",
       "      border-color: transparent;\n",
       "      border-left-color: var(--fill-color);\n",
       "      border-top-color: var(--fill-color);\n",
       "      border-right-color: var(--fill-color);\n",
       "    }\n",
       "    40% {\n",
       "      border-color: transparent;\n",
       "      border-right-color: var(--fill-color);\n",
       "      border-top-color: var(--fill-color);\n",
       "    }\n",
       "    60% {\n",
       "      border-color: transparent;\n",
       "      border-right-color: var(--fill-color);\n",
       "    }\n",
       "    80% {\n",
       "      border-color: transparent;\n",
       "      border-right-color: var(--fill-color);\n",
       "      border-bottom-color: var(--fill-color);\n",
       "    }\n",
       "    90% {\n",
       "      border-color: transparent;\n",
       "      border-bottom-color: var(--fill-color);\n",
       "    }\n",
       "  }\n",
       "</style>\n",
       "\n",
       "  <script>\n",
       "    async function quickchart(key) {\n",
       "      const quickchartButtonEl =\n",
       "        document.querySelector('#' + key + ' button');\n",
       "      quickchartButtonEl.disabled = true;  // To prevent multiple clicks.\n",
       "      quickchartButtonEl.classList.add('colab-df-spinner');\n",
       "      try {\n",
       "        const charts = await google.colab.kernel.invokeFunction(\n",
       "            'suggestCharts', [key], {});\n",
       "      } catch (error) {\n",
       "        console.error('Error during call to suggestCharts:', error);\n",
       "      }\n",
       "      quickchartButtonEl.classList.remove('colab-df-spinner');\n",
       "      quickchartButtonEl.classList.add('colab-df-quickchart-complete');\n",
       "    }\n",
       "    (() => {\n",
       "      let quickchartButtonEl =\n",
       "        document.querySelector('#df-ef524227-56ad-4fa8-a887-2fedd015573e button');\n",
       "      quickchartButtonEl.style.display =\n",
       "        google.colab.kernel.accessAllowed ? 'block' : 'none';\n",
       "    })();\n",
       "  </script>\n",
       "</div>\n",
       "    </div>\n",
       "  </div>\n"
      ],
      "text/plain": [
       "   children  days_employed  dob_years education  education_id  \\\n",
       "0         1    8437.673028         42    высшее             0   \n",
       "1         1    4024.803754         36   среднее             1   \n",
       "2         0    5623.422610         33   среднее             1   \n",
       "3         3    4124.747207         32   среднее             1   \n",
       "4         0  340266.072047         53   среднее             1   \n",
       "\n",
       "      family_status  family_status_id gender income_type  debt  total_income  \\\n",
       "0   женат / замужем                 0      F   сотрудник     0        253875   \n",
       "1   женат / замужем                 0      F   сотрудник     0        112080   \n",
       "2   женат / замужем                 0      M   сотрудник     0        145885   \n",
       "3   женат / замужем                 0      M   сотрудник     0        267628   \n",
       "4  гражданский брак                 1      F   пенсионер     0        158616   \n",
       "\n",
       "                      purpose total_income_category  \n",
       "0               покупка жилья                     B  \n",
       "1     приобретение автомобиля                     C  \n",
       "2               покупка жилья                     C  \n",
       "3  дополнительное образование                     B  \n",
       "4             сыграть свадьбу                     C  "
      ]
     },
     "execution_count": 25,
     "metadata": {},
     "output_type": "execute_result"
    }
   ],
   "source": [
    "# выведим таблицу и проверим новую колонку\n",
    "data.head()"
   ]
  },
  {
   "cell_type": "markdown",
   "id": "3ehPPP-VsykQ",
   "metadata": {
    "id": "3ehPPP-VsykQ"
   },
   "source": [
    "Теперь проработаем колонку `purpose`, в которой у нас хранятся значения о целях взятия кредита клиенктом. Сперва изучим уникальные значения в колонке."
   ]
  },
  {
   "cell_type": "code",
   "execution_count": 26,
   "id": "7ee03ab3",
   "metadata": {
    "colab": {
     "base_uri": "https://localhost:8080/"
    },
    "deletable": false,
    "id": "7ee03ab3",
    "outputId": "0e0ae5b2-c242-41ff-f044-f128e0b79b67"
   },
   "outputs": [
    {
     "data": {
      "text/plain": [
       "array(['покупка жилья', 'приобретение автомобиля',\n",
       "       'дополнительное образование', 'сыграть свадьбу',\n",
       "       'операции с жильем', 'образование', 'на проведение свадьбы',\n",
       "       'покупка жилья для семьи', 'покупка недвижимости',\n",
       "       'покупка коммерческой недвижимости', 'покупка жилой недвижимости',\n",
       "       'строительство собственной недвижимости', 'недвижимость',\n",
       "       'строительство недвижимости', 'на покупку подержанного автомобиля',\n",
       "       'на покупку своего автомобиля',\n",
       "       'операции с коммерческой недвижимостью',\n",
       "       'строительство жилой недвижимости', 'жилье',\n",
       "       'операции со своей недвижимостью', 'автомобили',\n",
       "       'заняться образованием', 'сделка с подержанным автомобилем',\n",
       "       'получение образования', 'автомобиль', 'свадьба',\n",
       "       'получение дополнительного образования', 'покупка своего жилья',\n",
       "       'операции с недвижимостью', 'получение высшего образования',\n",
       "       'свой автомобиль', 'сделка с автомобилем',\n",
       "       'профильное образование', 'высшее образование',\n",
       "       'покупка жилья для сдачи', 'на покупку автомобиля', 'ремонт жилью',\n",
       "       'заняться высшим образованием'], dtype=object)"
      ]
     },
     "execution_count": 26,
     "metadata": {},
     "output_type": "execute_result"
    }
   ],
   "source": [
    "# выведим уникальные значения по колонке 'purpose'\n",
    "data['purpose'].unique()"
   ]
  },
  {
   "cell_type": "markdown",
   "id": "QOS8BISFt92P",
   "metadata": {
    "id": "QOS8BISFt92P"
   },
   "source": [
    "По полученной информации мы можем сделать вывод, что в основном клиенты берут кредит на закрытие следующих целей: операции с автомобилем или с недвижимостью, проведение свадьбы и получение образование.\n",
    "\n",
    "По этому предлагаю для последующего исследования данных ввести следующие категории:\n",
    "- `'операции с автомобилем'`,\n",
    "- `'операции с недвижимостью'`,\n",
    "- `'проведение свадьбы'`,\n",
    "- `'получение образования'`.\n"
   ]
  },
  {
   "cell_type": "code",
   "execution_count": 27,
   "id": "04ec98f3",
   "metadata": {
    "deletable": false,
    "id": "04ec98f3"
   },
   "outputs": [],
   "source": [
    "# напишем функцию для определения категории клиентов по цели оформления кредита\n",
    "def categorize_purpose(row):\n",
    "    try:\n",
    "        if 'автом' in row:\n",
    "            return 'операции с автомобилем'\n",
    "        elif 'жил' in row or 'недвиж' in row:\n",
    "            return 'операции с недвижимостью'\n",
    "        elif 'свад' in row:\n",
    "            return 'проведение свадьбы'\n",
    "        elif 'образов' in row:\n",
    "            return 'получение образования'\n",
    "    except:\n",
    "        return 'нет категории'"
   ]
  },
  {
   "cell_type": "code",
   "execution_count": 28,
   "id": "1e3c7583",
   "metadata": {
    "deletable": false,
    "id": "1e3c7583"
   },
   "outputs": [],
   "source": [
    "# добавим в датасет новую колонку 'purpose_category' со значениями категорий\n",
    "data['purpose_category'] = data['purpose'].apply(categorize_purpose)"
   ]
  },
  {
   "cell_type": "code",
   "execution_count": 29,
   "id": "INPOMOEsvE0I",
   "metadata": {
    "colab": {
     "base_uri": "https://localhost:8080/",
     "height": 313
    },
    "id": "INPOMOEsvE0I",
    "outputId": "c3fe7b1c-c4fd-4f23-bc94-da59f9e465c8"
   },
   "outputs": [
    {
     "data": {
      "text/html": [
       "\n",
       "  <div id=\"df-61283a9b-69be-47a8-ba11-5d3e9269b2e5\" class=\"colab-df-container\">\n",
       "    <div>\n",
       "<style scoped>\n",
       "    .dataframe tbody tr th:only-of-type {\n",
       "        vertical-align: middle;\n",
       "    }\n",
       "\n",
       "    .dataframe tbody tr th {\n",
       "        vertical-align: top;\n",
       "    }\n",
       "\n",
       "    .dataframe thead th {\n",
       "        text-align: right;\n",
       "    }\n",
       "</style>\n",
       "<table border=\"1\" class=\"dataframe\">\n",
       "  <thead>\n",
       "    <tr style=\"text-align: right;\">\n",
       "      <th></th>\n",
       "      <th>children</th>\n",
       "      <th>days_employed</th>\n",
       "      <th>dob_years</th>\n",
       "      <th>education</th>\n",
       "      <th>education_id</th>\n",
       "      <th>family_status</th>\n",
       "      <th>family_status_id</th>\n",
       "      <th>gender</th>\n",
       "      <th>income_type</th>\n",
       "      <th>debt</th>\n",
       "      <th>total_income</th>\n",
       "      <th>purpose</th>\n",
       "      <th>total_income_category</th>\n",
       "      <th>purpose_category</th>\n",
       "    </tr>\n",
       "  </thead>\n",
       "  <tbody>\n",
       "    <tr>\n",
       "      <th>0</th>\n",
       "      <td>1</td>\n",
       "      <td>8437.673028</td>\n",
       "      <td>42</td>\n",
       "      <td>высшее</td>\n",
       "      <td>0</td>\n",
       "      <td>женат / замужем</td>\n",
       "      <td>0</td>\n",
       "      <td>F</td>\n",
       "      <td>сотрудник</td>\n",
       "      <td>0</td>\n",
       "      <td>253875</td>\n",
       "      <td>покупка жилья</td>\n",
       "      <td>B</td>\n",
       "      <td>операции с недвижимостью</td>\n",
       "    </tr>\n",
       "    <tr>\n",
       "      <th>1</th>\n",
       "      <td>1</td>\n",
       "      <td>4024.803754</td>\n",
       "      <td>36</td>\n",
       "      <td>среднее</td>\n",
       "      <td>1</td>\n",
       "      <td>женат / замужем</td>\n",
       "      <td>0</td>\n",
       "      <td>F</td>\n",
       "      <td>сотрудник</td>\n",
       "      <td>0</td>\n",
       "      <td>112080</td>\n",
       "      <td>приобретение автомобиля</td>\n",
       "      <td>C</td>\n",
       "      <td>операции с автомобилем</td>\n",
       "    </tr>\n",
       "    <tr>\n",
       "      <th>2</th>\n",
       "      <td>0</td>\n",
       "      <td>5623.422610</td>\n",
       "      <td>33</td>\n",
       "      <td>среднее</td>\n",
       "      <td>1</td>\n",
       "      <td>женат / замужем</td>\n",
       "      <td>0</td>\n",
       "      <td>M</td>\n",
       "      <td>сотрудник</td>\n",
       "      <td>0</td>\n",
       "      <td>145885</td>\n",
       "      <td>покупка жилья</td>\n",
       "      <td>C</td>\n",
       "      <td>операции с недвижимостью</td>\n",
       "    </tr>\n",
       "    <tr>\n",
       "      <th>3</th>\n",
       "      <td>3</td>\n",
       "      <td>4124.747207</td>\n",
       "      <td>32</td>\n",
       "      <td>среднее</td>\n",
       "      <td>1</td>\n",
       "      <td>женат / замужем</td>\n",
       "      <td>0</td>\n",
       "      <td>M</td>\n",
       "      <td>сотрудник</td>\n",
       "      <td>0</td>\n",
       "      <td>267628</td>\n",
       "      <td>дополнительное образование</td>\n",
       "      <td>B</td>\n",
       "      <td>получение образования</td>\n",
       "    </tr>\n",
       "    <tr>\n",
       "      <th>4</th>\n",
       "      <td>0</td>\n",
       "      <td>340266.072047</td>\n",
       "      <td>53</td>\n",
       "      <td>среднее</td>\n",
       "      <td>1</td>\n",
       "      <td>гражданский брак</td>\n",
       "      <td>1</td>\n",
       "      <td>F</td>\n",
       "      <td>пенсионер</td>\n",
       "      <td>0</td>\n",
       "      <td>158616</td>\n",
       "      <td>сыграть свадьбу</td>\n",
       "      <td>C</td>\n",
       "      <td>проведение свадьбы</td>\n",
       "    </tr>\n",
       "  </tbody>\n",
       "</table>\n",
       "</div>\n",
       "    <div class=\"colab-df-buttons\">\n",
       "\n",
       "  <div class=\"colab-df-container\">\n",
       "    <button class=\"colab-df-convert\" onclick=\"convertToInteractive('df-61283a9b-69be-47a8-ba11-5d3e9269b2e5')\"\n",
       "            title=\"Convert this dataframe to an interactive table.\"\n",
       "            style=\"display:none;\">\n",
       "\n",
       "  <svg xmlns=\"http://www.w3.org/2000/svg\" height=\"24px\" viewBox=\"0 -960 960 960\">\n",
       "    <path d=\"M120-120v-720h720v720H120Zm60-500h600v-160H180v160Zm220 220h160v-160H400v160Zm0 220h160v-160H400v160ZM180-400h160v-160H180v160Zm440 0h160v-160H620v160ZM180-180h160v-160H180v160Zm440 0h160v-160H620v160Z\"/>\n",
       "  </svg>\n",
       "    </button>\n",
       "\n",
       "  <style>\n",
       "    .colab-df-container {\n",
       "      display:flex;\n",
       "      gap: 12px;\n",
       "    }\n",
       "\n",
       "    .colab-df-convert {\n",
       "      background-color: #E8F0FE;\n",
       "      border: none;\n",
       "      border-radius: 50%;\n",
       "      cursor: pointer;\n",
       "      display: none;\n",
       "      fill: #1967D2;\n",
       "      height: 32px;\n",
       "      padding: 0 0 0 0;\n",
       "      width: 32px;\n",
       "    }\n",
       "\n",
       "    .colab-df-convert:hover {\n",
       "      background-color: #E2EBFA;\n",
       "      box-shadow: 0px 1px 2px rgba(60, 64, 67, 0.3), 0px 1px 3px 1px rgba(60, 64, 67, 0.15);\n",
       "      fill: #174EA6;\n",
       "    }\n",
       "\n",
       "    .colab-df-buttons div {\n",
       "      margin-bottom: 4px;\n",
       "    }\n",
       "\n",
       "    [theme=dark] .colab-df-convert {\n",
       "      background-color: #3B4455;\n",
       "      fill: #D2E3FC;\n",
       "    }\n",
       "\n",
       "    [theme=dark] .colab-df-convert:hover {\n",
       "      background-color: #434B5C;\n",
       "      box-shadow: 0px 1px 3px 1px rgba(0, 0, 0, 0.15);\n",
       "      filter: drop-shadow(0px 1px 2px rgba(0, 0, 0, 0.3));\n",
       "      fill: #FFFFFF;\n",
       "    }\n",
       "  </style>\n",
       "\n",
       "    <script>\n",
       "      const buttonEl =\n",
       "        document.querySelector('#df-61283a9b-69be-47a8-ba11-5d3e9269b2e5 button.colab-df-convert');\n",
       "      buttonEl.style.display =\n",
       "        google.colab.kernel.accessAllowed ? 'block' : 'none';\n",
       "\n",
       "      async function convertToInteractive(key) {\n",
       "        const element = document.querySelector('#df-61283a9b-69be-47a8-ba11-5d3e9269b2e5');\n",
       "        const dataTable =\n",
       "          await google.colab.kernel.invokeFunction('convertToInteractive',\n",
       "                                                    [key], {});\n",
       "        if (!dataTable) return;\n",
       "\n",
       "        const docLinkHtml = 'Like what you see? Visit the ' +\n",
       "          '<a target=\"_blank\" href=https://colab.research.google.com/notebooks/data_table.ipynb>data table notebook</a>'\n",
       "          + ' to learn more about interactive tables.';\n",
       "        element.innerHTML = '';\n",
       "        dataTable['output_type'] = 'display_data';\n",
       "        await google.colab.output.renderOutput(dataTable, element);\n",
       "        const docLink = document.createElement('div');\n",
       "        docLink.innerHTML = docLinkHtml;\n",
       "        element.appendChild(docLink);\n",
       "      }\n",
       "    </script>\n",
       "  </div>\n",
       "\n",
       "\n",
       "<div id=\"df-1b35fdbb-0fcb-4c33-b71a-b8ec304d2303\">\n",
       "  <button class=\"colab-df-quickchart\" onclick=\"quickchart('df-1b35fdbb-0fcb-4c33-b71a-b8ec304d2303')\"\n",
       "            title=\"Suggest charts\"\n",
       "            style=\"display:none;\">\n",
       "\n",
       "<svg xmlns=\"http://www.w3.org/2000/svg\" height=\"24px\"viewBox=\"0 0 24 24\"\n",
       "     width=\"24px\">\n",
       "    <g>\n",
       "        <path d=\"M19 3H5c-1.1 0-2 .9-2 2v14c0 1.1.9 2 2 2h14c1.1 0 2-.9 2-2V5c0-1.1-.9-2-2-2zM9 17H7v-7h2v7zm4 0h-2V7h2v10zm4 0h-2v-4h2v4z\"/>\n",
       "    </g>\n",
       "</svg>\n",
       "  </button>\n",
       "\n",
       "<style>\n",
       "  .colab-df-quickchart {\n",
       "      --bg-color: #E8F0FE;\n",
       "      --fill-color: #1967D2;\n",
       "      --hover-bg-color: #E2EBFA;\n",
       "      --hover-fill-color: #174EA6;\n",
       "      --disabled-fill-color: #AAA;\n",
       "      --disabled-bg-color: #DDD;\n",
       "  }\n",
       "\n",
       "  [theme=dark] .colab-df-quickchart {\n",
       "      --bg-color: #3B4455;\n",
       "      --fill-color: #D2E3FC;\n",
       "      --hover-bg-color: #434B5C;\n",
       "      --hover-fill-color: #FFFFFF;\n",
       "      --disabled-bg-color: #3B4455;\n",
       "      --disabled-fill-color: #666;\n",
       "  }\n",
       "\n",
       "  .colab-df-quickchart {\n",
       "    background-color: var(--bg-color);\n",
       "    border: none;\n",
       "    border-radius: 50%;\n",
       "    cursor: pointer;\n",
       "    display: none;\n",
       "    fill: var(--fill-color);\n",
       "    height: 32px;\n",
       "    padding: 0;\n",
       "    width: 32px;\n",
       "  }\n",
       "\n",
       "  .colab-df-quickchart:hover {\n",
       "    background-color: var(--hover-bg-color);\n",
       "    box-shadow: 0 1px 2px rgba(60, 64, 67, 0.3), 0 1px 3px 1px rgba(60, 64, 67, 0.15);\n",
       "    fill: var(--button-hover-fill-color);\n",
       "  }\n",
       "\n",
       "  .colab-df-quickchart-complete:disabled,\n",
       "  .colab-df-quickchart-complete:disabled:hover {\n",
       "    background-color: var(--disabled-bg-color);\n",
       "    fill: var(--disabled-fill-color);\n",
       "    box-shadow: none;\n",
       "  }\n",
       "\n",
       "  .colab-df-spinner {\n",
       "    border: 2px solid var(--fill-color);\n",
       "    border-color: transparent;\n",
       "    border-bottom-color: var(--fill-color);\n",
       "    animation:\n",
       "      spin 1s steps(1) infinite;\n",
       "  }\n",
       "\n",
       "  @keyframes spin {\n",
       "    0% {\n",
       "      border-color: transparent;\n",
       "      border-bottom-color: var(--fill-color);\n",
       "      border-left-color: var(--fill-color);\n",
       "    }\n",
       "    20% {\n",
       "      border-color: transparent;\n",
       "      border-left-color: var(--fill-color);\n",
       "      border-top-color: var(--fill-color);\n",
       "    }\n",
       "    30% {\n",
       "      border-color: transparent;\n",
       "      border-left-color: var(--fill-color);\n",
       "      border-top-color: var(--fill-color);\n",
       "      border-right-color: var(--fill-color);\n",
       "    }\n",
       "    40% {\n",
       "      border-color: transparent;\n",
       "      border-right-color: var(--fill-color);\n",
       "      border-top-color: var(--fill-color);\n",
       "    }\n",
       "    60% {\n",
       "      border-color: transparent;\n",
       "      border-right-color: var(--fill-color);\n",
       "    }\n",
       "    80% {\n",
       "      border-color: transparent;\n",
       "      border-right-color: var(--fill-color);\n",
       "      border-bottom-color: var(--fill-color);\n",
       "    }\n",
       "    90% {\n",
       "      border-color: transparent;\n",
       "      border-bottom-color: var(--fill-color);\n",
       "    }\n",
       "  }\n",
       "</style>\n",
       "\n",
       "  <script>\n",
       "    async function quickchart(key) {\n",
       "      const quickchartButtonEl =\n",
       "        document.querySelector('#' + key + ' button');\n",
       "      quickchartButtonEl.disabled = true;  // To prevent multiple clicks.\n",
       "      quickchartButtonEl.classList.add('colab-df-spinner');\n",
       "      try {\n",
       "        const charts = await google.colab.kernel.invokeFunction(\n",
       "            'suggestCharts', [key], {});\n",
       "      } catch (error) {\n",
       "        console.error('Error during call to suggestCharts:', error);\n",
       "      }\n",
       "      quickchartButtonEl.classList.remove('colab-df-spinner');\n",
       "      quickchartButtonEl.classList.add('colab-df-quickchart-complete');\n",
       "    }\n",
       "    (() => {\n",
       "      let quickchartButtonEl =\n",
       "        document.querySelector('#df-1b35fdbb-0fcb-4c33-b71a-b8ec304d2303 button');\n",
       "      quickchartButtonEl.style.display =\n",
       "        google.colab.kernel.accessAllowed ? 'block' : 'none';\n",
       "    })();\n",
       "  </script>\n",
       "</div>\n",
       "    </div>\n",
       "  </div>\n"
      ],
      "text/plain": [
       "   children  days_employed  dob_years education  education_id  \\\n",
       "0         1    8437.673028         42    высшее             0   \n",
       "1         1    4024.803754         36   среднее             1   \n",
       "2         0    5623.422610         33   среднее             1   \n",
       "3         3    4124.747207         32   среднее             1   \n",
       "4         0  340266.072047         53   среднее             1   \n",
       "\n",
       "      family_status  family_status_id gender income_type  debt  total_income  \\\n",
       "0   женат / замужем                 0      F   сотрудник     0        253875   \n",
       "1   женат / замужем                 0      F   сотрудник     0        112080   \n",
       "2   женат / замужем                 0      M   сотрудник     0        145885   \n",
       "3   женат / замужем                 0      M   сотрудник     0        267628   \n",
       "4  гражданский брак                 1      F   пенсионер     0        158616   \n",
       "\n",
       "                      purpose total_income_category          purpose_category  \n",
       "0               покупка жилья                     B  операции с недвижимостью  \n",
       "1     приобретение автомобиля                     C    операции с автомобилем  \n",
       "2               покупка жилья                     C  операции с недвижимостью  \n",
       "3  дополнительное образование                     B     получение образования  \n",
       "4             сыграть свадьбу                     C        проведение свадьбы  "
      ]
     },
     "execution_count": 29,
     "metadata": {},
     "output_type": "execute_result"
    }
   ],
   "source": [
    "# выведим таблицу и проверим новую колонку\n",
    "data.head()"
   ]
  },
  {
   "cell_type": "markdown",
   "id": "NOKri2u0vRqM",
   "metadata": {
    "id": "NOKri2u0vRqM"
   },
   "source": [
    "**Итог:** На данном шаге мы выполнили предобработку для последюущего корректного исследования данных и получения исчерпывающих ответов на поставленные перед нами вопросы.\n",
    "\n",
    "- Выполнено удаление пропусков в полученном датасете в колонка `days_employed` и `total_income` посредством заполнения пропусков медианными значениями в соответствии с типом занятости клиента.\n",
    "- Обработали аномальные значения в колонках `days_employed` и `сhildren`. Было принято решение удалить строки с аномальными значениями.\n",
    "- Колонку `total_income` для корректного исследования данных привели к целочисленному типу.\n",
    "- Обработали дубликаты. В колонке `education` все значения привели к нижнему регистру, тем самым опредлили 5 уникальных уровней образования клиентов. Также в датасете определили 0.33% строк-дубликатов, которые были удалены, так как на последующий анализ их удаление никак не повлияет.\n",
    "- Ввели новые категории клиентов:\n",
    "  - Определены категории по уровню дохода клиента:\n",
    "    - доход от 0 до 30000 — `'E'`;\n",
    "    - доход от 30001 до 50000 — `'D'`;\n",
    "    - доход от 50001 до 200000 — `'C'`;\n",
    "    - доход от 200001 до 1000000 — `'B'`;\n",
    "    - доход от 1000001 и выше — `'A'`.\n",
    "  - Определены категории на цели получения кредита:\n",
    "    - `'операции с автомобилем'`,\n",
    "    - `'операции с недвижимостью'`,\n",
    "    - `'проведение свадьбы'`,\n",
    "    - `'получение образования'`."
   ]
  },
  {
   "cell_type": "markdown",
   "id": "9353957b",
   "metadata": {
    "deletable": false,
    "editable": false,
    "id": "9353957b"
   },
   "source": [
    "## Шаг 3. Ответы на вопросы"
   ]
  },
  {
   "cell_type": "markdown",
   "id": "375b796a",
   "metadata": {
    "deletable": false,
    "editable": false,
    "id": "375b796a"
   },
   "source": [
    "#### 3.1 Есть ли зависимость между количеством детей и возвратом кредита в срок?"
   ]
  },
  {
   "cell_type": "code",
   "execution_count": 30,
   "id": "a5732c78",
   "metadata": {
    "colab": {
     "base_uri": "https://localhost:8080/",
     "height": 237
    },
    "deletable": false,
    "id": "a5732c78",
    "outputId": "39cf7216-0d1b-4cde-a593-a536412a2464"
   },
   "outputs": [
    {
     "data": {
      "text/html": [
       "\n",
       "  <div id=\"df-06f0c0e7-8d10-4bbf-bad6-f0fa9e441eef\" class=\"colab-df-container\">\n",
       "    <div>\n",
       "<style scoped>\n",
       "    .dataframe tbody tr th:only-of-type {\n",
       "        vertical-align: middle;\n",
       "    }\n",
       "\n",
       "    .dataframe tbody tr th {\n",
       "        vertical-align: top;\n",
       "    }\n",
       "\n",
       "    .dataframe thead th {\n",
       "        text-align: right;\n",
       "    }\n",
       "</style>\n",
       "<table border=\"1\" class=\"dataframe\">\n",
       "  <thead>\n",
       "    <tr style=\"text-align: right;\">\n",
       "      <th></th>\n",
       "      <th>children</th>\n",
       "      <th>count_debt</th>\n",
       "      <th>mean_debt</th>\n",
       "    </tr>\n",
       "  </thead>\n",
       "  <tbody>\n",
       "    <tr>\n",
       "      <th>0</th>\n",
       "      <td>0</td>\n",
       "      <td>14091</td>\n",
       "      <td>0.075438</td>\n",
       "    </tr>\n",
       "    <tr>\n",
       "      <th>1</th>\n",
       "      <td>1</td>\n",
       "      <td>4808</td>\n",
       "      <td>0.092346</td>\n",
       "    </tr>\n",
       "    <tr>\n",
       "      <th>2</th>\n",
       "      <td>2</td>\n",
       "      <td>2052</td>\n",
       "      <td>0.094542</td>\n",
       "    </tr>\n",
       "    <tr>\n",
       "      <th>3</th>\n",
       "      <td>3</td>\n",
       "      <td>330</td>\n",
       "      <td>0.081818</td>\n",
       "    </tr>\n",
       "    <tr>\n",
       "      <th>4</th>\n",
       "      <td>4</td>\n",
       "      <td>41</td>\n",
       "      <td>0.097561</td>\n",
       "    </tr>\n",
       "    <tr>\n",
       "      <th>5</th>\n",
       "      <td>5</td>\n",
       "      <td>9</td>\n",
       "      <td>0.000000</td>\n",
       "    </tr>\n",
       "  </tbody>\n",
       "</table>\n",
       "</div>\n",
       "    <div class=\"colab-df-buttons\">\n",
       "\n",
       "  <div class=\"colab-df-container\">\n",
       "    <button class=\"colab-df-convert\" onclick=\"convertToInteractive('df-06f0c0e7-8d10-4bbf-bad6-f0fa9e441eef')\"\n",
       "            title=\"Convert this dataframe to an interactive table.\"\n",
       "            style=\"display:none;\">\n",
       "\n",
       "  <svg xmlns=\"http://www.w3.org/2000/svg\" height=\"24px\" viewBox=\"0 -960 960 960\">\n",
       "    <path d=\"M120-120v-720h720v720H120Zm60-500h600v-160H180v160Zm220 220h160v-160H400v160Zm0 220h160v-160H400v160ZM180-400h160v-160H180v160Zm440 0h160v-160H620v160ZM180-180h160v-160H180v160Zm440 0h160v-160H620v160Z\"/>\n",
       "  </svg>\n",
       "    </button>\n",
       "\n",
       "  <style>\n",
       "    .colab-df-container {\n",
       "      display:flex;\n",
       "      gap: 12px;\n",
       "    }\n",
       "\n",
       "    .colab-df-convert {\n",
       "      background-color: #E8F0FE;\n",
       "      border: none;\n",
       "      border-radius: 50%;\n",
       "      cursor: pointer;\n",
       "      display: none;\n",
       "      fill: #1967D2;\n",
       "      height: 32px;\n",
       "      padding: 0 0 0 0;\n",
       "      width: 32px;\n",
       "    }\n",
       "\n",
       "    .colab-df-convert:hover {\n",
       "      background-color: #E2EBFA;\n",
       "      box-shadow: 0px 1px 2px rgba(60, 64, 67, 0.3), 0px 1px 3px 1px rgba(60, 64, 67, 0.15);\n",
       "      fill: #174EA6;\n",
       "    }\n",
       "\n",
       "    .colab-df-buttons div {\n",
       "      margin-bottom: 4px;\n",
       "    }\n",
       "\n",
       "    [theme=dark] .colab-df-convert {\n",
       "      background-color: #3B4455;\n",
       "      fill: #D2E3FC;\n",
       "    }\n",
       "\n",
       "    [theme=dark] .colab-df-convert:hover {\n",
       "      background-color: #434B5C;\n",
       "      box-shadow: 0px 1px 3px 1px rgba(0, 0, 0, 0.15);\n",
       "      filter: drop-shadow(0px 1px 2px rgba(0, 0, 0, 0.3));\n",
       "      fill: #FFFFFF;\n",
       "    }\n",
       "  </style>\n",
       "\n",
       "    <script>\n",
       "      const buttonEl =\n",
       "        document.querySelector('#df-06f0c0e7-8d10-4bbf-bad6-f0fa9e441eef button.colab-df-convert');\n",
       "      buttonEl.style.display =\n",
       "        google.colab.kernel.accessAllowed ? 'block' : 'none';\n",
       "\n",
       "      async function convertToInteractive(key) {\n",
       "        const element = document.querySelector('#df-06f0c0e7-8d10-4bbf-bad6-f0fa9e441eef');\n",
       "        const dataTable =\n",
       "          await google.colab.kernel.invokeFunction('convertToInteractive',\n",
       "                                                    [key], {});\n",
       "        if (!dataTable) return;\n",
       "\n",
       "        const docLinkHtml = 'Like what you see? Visit the ' +\n",
       "          '<a target=\"_blank\" href=https://colab.research.google.com/notebooks/data_table.ipynb>data table notebook</a>'\n",
       "          + ' to learn more about interactive tables.';\n",
       "        element.innerHTML = '';\n",
       "        dataTable['output_type'] = 'display_data';\n",
       "        await google.colab.output.renderOutput(dataTable, element);\n",
       "        const docLink = document.createElement('div');\n",
       "        docLink.innerHTML = docLinkHtml;\n",
       "        element.appendChild(docLink);\n",
       "      }\n",
       "    </script>\n",
       "  </div>\n",
       "\n",
       "\n",
       "<div id=\"df-487b27c4-2f49-4646-9963-3230f395c5aa\">\n",
       "  <button class=\"colab-df-quickchart\" onclick=\"quickchart('df-487b27c4-2f49-4646-9963-3230f395c5aa')\"\n",
       "            title=\"Suggest charts\"\n",
       "            style=\"display:none;\">\n",
       "\n",
       "<svg xmlns=\"http://www.w3.org/2000/svg\" height=\"24px\"viewBox=\"0 0 24 24\"\n",
       "     width=\"24px\">\n",
       "    <g>\n",
       "        <path d=\"M19 3H5c-1.1 0-2 .9-2 2v14c0 1.1.9 2 2 2h14c1.1 0 2-.9 2-2V5c0-1.1-.9-2-2-2zM9 17H7v-7h2v7zm4 0h-2V7h2v10zm4 0h-2v-4h2v4z\"/>\n",
       "    </g>\n",
       "</svg>\n",
       "  </button>\n",
       "\n",
       "<style>\n",
       "  .colab-df-quickchart {\n",
       "      --bg-color: #E8F0FE;\n",
       "      --fill-color: #1967D2;\n",
       "      --hover-bg-color: #E2EBFA;\n",
       "      --hover-fill-color: #174EA6;\n",
       "      --disabled-fill-color: #AAA;\n",
       "      --disabled-bg-color: #DDD;\n",
       "  }\n",
       "\n",
       "  [theme=dark] .colab-df-quickchart {\n",
       "      --bg-color: #3B4455;\n",
       "      --fill-color: #D2E3FC;\n",
       "      --hover-bg-color: #434B5C;\n",
       "      --hover-fill-color: #FFFFFF;\n",
       "      --disabled-bg-color: #3B4455;\n",
       "      --disabled-fill-color: #666;\n",
       "  }\n",
       "\n",
       "  .colab-df-quickchart {\n",
       "    background-color: var(--bg-color);\n",
       "    border: none;\n",
       "    border-radius: 50%;\n",
       "    cursor: pointer;\n",
       "    display: none;\n",
       "    fill: var(--fill-color);\n",
       "    height: 32px;\n",
       "    padding: 0;\n",
       "    width: 32px;\n",
       "  }\n",
       "\n",
       "  .colab-df-quickchart:hover {\n",
       "    background-color: var(--hover-bg-color);\n",
       "    box-shadow: 0 1px 2px rgba(60, 64, 67, 0.3), 0 1px 3px 1px rgba(60, 64, 67, 0.15);\n",
       "    fill: var(--button-hover-fill-color);\n",
       "  }\n",
       "\n",
       "  .colab-df-quickchart-complete:disabled,\n",
       "  .colab-df-quickchart-complete:disabled:hover {\n",
       "    background-color: var(--disabled-bg-color);\n",
       "    fill: var(--disabled-fill-color);\n",
       "    box-shadow: none;\n",
       "  }\n",
       "\n",
       "  .colab-df-spinner {\n",
       "    border: 2px solid var(--fill-color);\n",
       "    border-color: transparent;\n",
       "    border-bottom-color: var(--fill-color);\n",
       "    animation:\n",
       "      spin 1s steps(1) infinite;\n",
       "  }\n",
       "\n",
       "  @keyframes spin {\n",
       "    0% {\n",
       "      border-color: transparent;\n",
       "      border-bottom-color: var(--fill-color);\n",
       "      border-left-color: var(--fill-color);\n",
       "    }\n",
       "    20% {\n",
       "      border-color: transparent;\n",
       "      border-left-color: var(--fill-color);\n",
       "      border-top-color: var(--fill-color);\n",
       "    }\n",
       "    30% {\n",
       "      border-color: transparent;\n",
       "      border-left-color: var(--fill-color);\n",
       "      border-top-color: var(--fill-color);\n",
       "      border-right-color: var(--fill-color);\n",
       "    }\n",
       "    40% {\n",
       "      border-color: transparent;\n",
       "      border-right-color: var(--fill-color);\n",
       "      border-top-color: var(--fill-color);\n",
       "    }\n",
       "    60% {\n",
       "      border-color: transparent;\n",
       "      border-right-color: var(--fill-color);\n",
       "    }\n",
       "    80% {\n",
       "      border-color: transparent;\n",
       "      border-right-color: var(--fill-color);\n",
       "      border-bottom-color: var(--fill-color);\n",
       "    }\n",
       "    90% {\n",
       "      border-color: transparent;\n",
       "      border-bottom-color: var(--fill-color);\n",
       "    }\n",
       "  }\n",
       "</style>\n",
       "\n",
       "  <script>\n",
       "    async function quickchart(key) {\n",
       "      const quickchartButtonEl =\n",
       "        document.querySelector('#' + key + ' button');\n",
       "      quickchartButtonEl.disabled = true;  // To prevent multiple clicks.\n",
       "      quickchartButtonEl.classList.add('colab-df-spinner');\n",
       "      try {\n",
       "        const charts = await google.colab.kernel.invokeFunction(\n",
       "            'suggestCharts', [key], {});\n",
       "      } catch (error) {\n",
       "        console.error('Error during call to suggestCharts:', error);\n",
       "      }\n",
       "      quickchartButtonEl.classList.remove('colab-df-spinner');\n",
       "      quickchartButtonEl.classList.add('colab-df-quickchart-complete');\n",
       "    }\n",
       "    (() => {\n",
       "      let quickchartButtonEl =\n",
       "        document.querySelector('#df-487b27c4-2f49-4646-9963-3230f395c5aa button');\n",
       "      quickchartButtonEl.style.display =\n",
       "        google.colab.kernel.accessAllowed ? 'block' : 'none';\n",
       "    })();\n",
       "  </script>\n",
       "</div>\n",
       "    </div>\n",
       "  </div>\n"
      ],
      "text/plain": [
       "   children  count_debt  mean_debt\n",
       "0         0       14091   0.075438\n",
       "1         1        4808   0.092346\n",
       "2         2        2052   0.094542\n",
       "3         3         330   0.081818\n",
       "4         4          41   0.097561\n",
       "5         5           9   0.000000"
      ]
     },
     "execution_count": 30,
     "metadata": {},
     "output_type": "execute_result"
    }
   ],
   "source": [
    "# создадим сводную таблицу\n",
    "pivot_children = data.pivot_table(index='children', values='debt', aggfunc=['count', 'mean'])\n",
    "pivot_children.reset_index()\n",
    "pivot_children.columns = ['_'.join(col).strip() for col in pivot_children.columns.values]\n",
    "pivot_children = pivot_children.reset_index()\n",
    "pivot_children"
   ]
  },
  {
   "cell_type": "markdown",
   "id": "23548dda",
   "metadata": {
    "deletable": false,
    "id": "23548dda"
   },
   "source": [
    "**Вывод:** Среди представленных категорий людей по количеству детей для формирования общей картины не принимается категория, имеющая 5 детей, так как для подсчетов она малочислена, что может привести к неточным выводам.\n",
    "Среди оставшихся категорий (без детей, 1 ребенок, 2 ребенка, 3 ребенка и 4 ребенка) наблюдается следующее:\n",
    "- наибольшее количество выданных кредитов у категории людей без детей;\n",
    "- по среднему значению наличия долгов по категориям наименьший показатель у категории людей без детей;\n",
    "- по среднему значению наличия долгов по категориям наибольший показатель у категории людей с 4 детьми.\n",
    "В следствии чего можно увидеть зависимость, что у людей категории с детьми больше риск не вернуть долг вовремя."
   ]
  },
  {
   "cell_type": "markdown",
   "id": "2067676b",
   "metadata": {
    "deletable": false,
    "editable": false,
    "id": "2067676b"
   },
   "source": [
    "#### 3.2 Есть ли зависимость между семейным положением и возвратом кредита в срок?"
   ]
  },
  {
   "cell_type": "code",
   "execution_count": 31,
   "id": "2b736227",
   "metadata": {
    "colab": {
     "base_uri": "https://localhost:8080/",
     "height": 206
    },
    "deletable": false,
    "id": "2b736227",
    "outputId": "b9fd6171-e8ce-4e79-db4c-9a477213ece1",
    "scrolled": true
   },
   "outputs": [
    {
     "data": {
      "text/html": [
       "\n",
       "  <div id=\"df-9ffde33a-42f3-42fa-ae14-07bc0655fd4c\" class=\"colab-df-container\">\n",
       "    <div>\n",
       "<style scoped>\n",
       "    .dataframe tbody tr th:only-of-type {\n",
       "        vertical-align: middle;\n",
       "    }\n",
       "\n",
       "    .dataframe tbody tr th {\n",
       "        vertical-align: top;\n",
       "    }\n",
       "\n",
       "    .dataframe thead th {\n",
       "        text-align: right;\n",
       "    }\n",
       "</style>\n",
       "<table border=\"1\" class=\"dataframe\">\n",
       "  <thead>\n",
       "    <tr style=\"text-align: right;\">\n",
       "      <th></th>\n",
       "      <th>family_status</th>\n",
       "      <th>count_debt</th>\n",
       "      <th>mean_debt</th>\n",
       "    </tr>\n",
       "  </thead>\n",
       "  <tbody>\n",
       "    <tr>\n",
       "      <th>4</th>\n",
       "      <td>женат / замужем</td>\n",
       "      <td>12261</td>\n",
       "      <td>0.075606</td>\n",
       "    </tr>\n",
       "    <tr>\n",
       "      <th>3</th>\n",
       "      <td>гражданский брак</td>\n",
       "      <td>4134</td>\n",
       "      <td>0.093130</td>\n",
       "    </tr>\n",
       "    <tr>\n",
       "      <th>0</th>\n",
       "      <td>Не женат / не замужем</td>\n",
       "      <td>2796</td>\n",
       "      <td>0.097639</td>\n",
       "    </tr>\n",
       "    <tr>\n",
       "      <th>1</th>\n",
       "      <td>в разводе</td>\n",
       "      <td>1189</td>\n",
       "      <td>0.070648</td>\n",
       "    </tr>\n",
       "    <tr>\n",
       "      <th>2</th>\n",
       "      <td>вдовец / вдова</td>\n",
       "      <td>951</td>\n",
       "      <td>0.066246</td>\n",
       "    </tr>\n",
       "  </tbody>\n",
       "</table>\n",
       "</div>\n",
       "    <div class=\"colab-df-buttons\">\n",
       "\n",
       "  <div class=\"colab-df-container\">\n",
       "    <button class=\"colab-df-convert\" onclick=\"convertToInteractive('df-9ffde33a-42f3-42fa-ae14-07bc0655fd4c')\"\n",
       "            title=\"Convert this dataframe to an interactive table.\"\n",
       "            style=\"display:none;\">\n",
       "\n",
       "  <svg xmlns=\"http://www.w3.org/2000/svg\" height=\"24px\" viewBox=\"0 -960 960 960\">\n",
       "    <path d=\"M120-120v-720h720v720H120Zm60-500h600v-160H180v160Zm220 220h160v-160H400v160Zm0 220h160v-160H400v160ZM180-400h160v-160H180v160Zm440 0h160v-160H620v160ZM180-180h160v-160H180v160Zm440 0h160v-160H620v160Z\"/>\n",
       "  </svg>\n",
       "    </button>\n",
       "\n",
       "  <style>\n",
       "    .colab-df-container {\n",
       "      display:flex;\n",
       "      gap: 12px;\n",
       "    }\n",
       "\n",
       "    .colab-df-convert {\n",
       "      background-color: #E8F0FE;\n",
       "      border: none;\n",
       "      border-radius: 50%;\n",
       "      cursor: pointer;\n",
       "      display: none;\n",
       "      fill: #1967D2;\n",
       "      height: 32px;\n",
       "      padding: 0 0 0 0;\n",
       "      width: 32px;\n",
       "    }\n",
       "\n",
       "    .colab-df-convert:hover {\n",
       "      background-color: #E2EBFA;\n",
       "      box-shadow: 0px 1px 2px rgba(60, 64, 67, 0.3), 0px 1px 3px 1px rgba(60, 64, 67, 0.15);\n",
       "      fill: #174EA6;\n",
       "    }\n",
       "\n",
       "    .colab-df-buttons div {\n",
       "      margin-bottom: 4px;\n",
       "    }\n",
       "\n",
       "    [theme=dark] .colab-df-convert {\n",
       "      background-color: #3B4455;\n",
       "      fill: #D2E3FC;\n",
       "    }\n",
       "\n",
       "    [theme=dark] .colab-df-convert:hover {\n",
       "      background-color: #434B5C;\n",
       "      box-shadow: 0px 1px 3px 1px rgba(0, 0, 0, 0.15);\n",
       "      filter: drop-shadow(0px 1px 2px rgba(0, 0, 0, 0.3));\n",
       "      fill: #FFFFFF;\n",
       "    }\n",
       "  </style>\n",
       "\n",
       "    <script>\n",
       "      const buttonEl =\n",
       "        document.querySelector('#df-9ffde33a-42f3-42fa-ae14-07bc0655fd4c button.colab-df-convert');\n",
       "      buttonEl.style.display =\n",
       "        google.colab.kernel.accessAllowed ? 'block' : 'none';\n",
       "\n",
       "      async function convertToInteractive(key) {\n",
       "        const element = document.querySelector('#df-9ffde33a-42f3-42fa-ae14-07bc0655fd4c');\n",
       "        const dataTable =\n",
       "          await google.colab.kernel.invokeFunction('convertToInteractive',\n",
       "                                                    [key], {});\n",
       "        if (!dataTable) return;\n",
       "\n",
       "        const docLinkHtml = 'Like what you see? Visit the ' +\n",
       "          '<a target=\"_blank\" href=https://colab.research.google.com/notebooks/data_table.ipynb>data table notebook</a>'\n",
       "          + ' to learn more about interactive tables.';\n",
       "        element.innerHTML = '';\n",
       "        dataTable['output_type'] = 'display_data';\n",
       "        await google.colab.output.renderOutput(dataTable, element);\n",
       "        const docLink = document.createElement('div');\n",
       "        docLink.innerHTML = docLinkHtml;\n",
       "        element.appendChild(docLink);\n",
       "      }\n",
       "    </script>\n",
       "  </div>\n",
       "\n",
       "\n",
       "<div id=\"df-26c56e62-b10e-4c66-9e74-181d3119bff5\">\n",
       "  <button class=\"colab-df-quickchart\" onclick=\"quickchart('df-26c56e62-b10e-4c66-9e74-181d3119bff5')\"\n",
       "            title=\"Suggest charts\"\n",
       "            style=\"display:none;\">\n",
       "\n",
       "<svg xmlns=\"http://www.w3.org/2000/svg\" height=\"24px\"viewBox=\"0 0 24 24\"\n",
       "     width=\"24px\">\n",
       "    <g>\n",
       "        <path d=\"M19 3H5c-1.1 0-2 .9-2 2v14c0 1.1.9 2 2 2h14c1.1 0 2-.9 2-2V5c0-1.1-.9-2-2-2zM9 17H7v-7h2v7zm4 0h-2V7h2v10zm4 0h-2v-4h2v4z\"/>\n",
       "    </g>\n",
       "</svg>\n",
       "  </button>\n",
       "\n",
       "<style>\n",
       "  .colab-df-quickchart {\n",
       "      --bg-color: #E8F0FE;\n",
       "      --fill-color: #1967D2;\n",
       "      --hover-bg-color: #E2EBFA;\n",
       "      --hover-fill-color: #174EA6;\n",
       "      --disabled-fill-color: #AAA;\n",
       "      --disabled-bg-color: #DDD;\n",
       "  }\n",
       "\n",
       "  [theme=dark] .colab-df-quickchart {\n",
       "      --bg-color: #3B4455;\n",
       "      --fill-color: #D2E3FC;\n",
       "      --hover-bg-color: #434B5C;\n",
       "      --hover-fill-color: #FFFFFF;\n",
       "      --disabled-bg-color: #3B4455;\n",
       "      --disabled-fill-color: #666;\n",
       "  }\n",
       "\n",
       "  .colab-df-quickchart {\n",
       "    background-color: var(--bg-color);\n",
       "    border: none;\n",
       "    border-radius: 50%;\n",
       "    cursor: pointer;\n",
       "    display: none;\n",
       "    fill: var(--fill-color);\n",
       "    height: 32px;\n",
       "    padding: 0;\n",
       "    width: 32px;\n",
       "  }\n",
       "\n",
       "  .colab-df-quickchart:hover {\n",
       "    background-color: var(--hover-bg-color);\n",
       "    box-shadow: 0 1px 2px rgba(60, 64, 67, 0.3), 0 1px 3px 1px rgba(60, 64, 67, 0.15);\n",
       "    fill: var(--button-hover-fill-color);\n",
       "  }\n",
       "\n",
       "  .colab-df-quickchart-complete:disabled,\n",
       "  .colab-df-quickchart-complete:disabled:hover {\n",
       "    background-color: var(--disabled-bg-color);\n",
       "    fill: var(--disabled-fill-color);\n",
       "    box-shadow: none;\n",
       "  }\n",
       "\n",
       "  .colab-df-spinner {\n",
       "    border: 2px solid var(--fill-color);\n",
       "    border-color: transparent;\n",
       "    border-bottom-color: var(--fill-color);\n",
       "    animation:\n",
       "      spin 1s steps(1) infinite;\n",
       "  }\n",
       "\n",
       "  @keyframes spin {\n",
       "    0% {\n",
       "      border-color: transparent;\n",
       "      border-bottom-color: var(--fill-color);\n",
       "      border-left-color: var(--fill-color);\n",
       "    }\n",
       "    20% {\n",
       "      border-color: transparent;\n",
       "      border-left-color: var(--fill-color);\n",
       "      border-top-color: var(--fill-color);\n",
       "    }\n",
       "    30% {\n",
       "      border-color: transparent;\n",
       "      border-left-color: var(--fill-color);\n",
       "      border-top-color: var(--fill-color);\n",
       "      border-right-color: var(--fill-color);\n",
       "    }\n",
       "    40% {\n",
       "      border-color: transparent;\n",
       "      border-right-color: var(--fill-color);\n",
       "      border-top-color: var(--fill-color);\n",
       "    }\n",
       "    60% {\n",
       "      border-color: transparent;\n",
       "      border-right-color: var(--fill-color);\n",
       "    }\n",
       "    80% {\n",
       "      border-color: transparent;\n",
       "      border-right-color: var(--fill-color);\n",
       "      border-bottom-color: var(--fill-color);\n",
       "    }\n",
       "    90% {\n",
       "      border-color: transparent;\n",
       "      border-bottom-color: var(--fill-color);\n",
       "    }\n",
       "  }\n",
       "</style>\n",
       "\n",
       "  <script>\n",
       "    async function quickchart(key) {\n",
       "      const quickchartButtonEl =\n",
       "        document.querySelector('#' + key + ' button');\n",
       "      quickchartButtonEl.disabled = true;  // To prevent multiple clicks.\n",
       "      quickchartButtonEl.classList.add('colab-df-spinner');\n",
       "      try {\n",
       "        const charts = await google.colab.kernel.invokeFunction(\n",
       "            'suggestCharts', [key], {});\n",
       "      } catch (error) {\n",
       "        console.error('Error during call to suggestCharts:', error);\n",
       "      }\n",
       "      quickchartButtonEl.classList.remove('colab-df-spinner');\n",
       "      quickchartButtonEl.classList.add('colab-df-quickchart-complete');\n",
       "    }\n",
       "    (() => {\n",
       "      let quickchartButtonEl =\n",
       "        document.querySelector('#df-26c56e62-b10e-4c66-9e74-181d3119bff5 button');\n",
       "      quickchartButtonEl.style.display =\n",
       "        google.colab.kernel.accessAllowed ? 'block' : 'none';\n",
       "    })();\n",
       "  </script>\n",
       "</div>\n",
       "    </div>\n",
       "  </div>\n"
      ],
      "text/plain": [
       "           family_status  count_debt  mean_debt\n",
       "4        женат / замужем       12261   0.075606\n",
       "3       гражданский брак        4134   0.093130\n",
       "0  Не женат / не замужем        2796   0.097639\n",
       "1              в разводе        1189   0.070648\n",
       "2         вдовец / вдова         951   0.066246"
      ]
     },
     "execution_count": 31,
     "metadata": {},
     "output_type": "execute_result"
    }
   ],
   "source": [
    "# создадим сводную таблицу\n",
    "pivot_family_status = data.pivot_table(index='family_status', values='debt', aggfunc=['count', 'mean'])\n",
    "pivot_family_status.reset_index()\n",
    "pivot_family_status.columns = ['_'.join(col).strip() for col in pivot_family_status.columns.values]\n",
    "pivot_family_status = pivot_family_status.reset_index()\n",
    "pivot_family_status.sort_values(by='count_debt', ascending=False)"
   ]
  },
  {
   "cell_type": "markdown",
   "id": "44afab2a",
   "metadata": {
    "deletable": false,
    "id": "44afab2a"
   },
   "source": [
    "**Вывод:**\n",
    "- Наибольшее количество выданных кредитов у людей со статусом \"женат/замужем\".\n",
    "- Наименьшее количество выданных кредитов у людей со статусом \"вдовец/вдова\".\n",
    "- Наибольшее количество должников в категории людей со статусом \"не женат/не замужем\".\n",
    "- Наименьше количество должников в категории людей со статусом \"вдовец/вдова\".\n",
    "\n",
    "Для корректного формирования вывода возьмем категории \"женат/замужем\" (наибольшее количество кредитов) и \"не женат/не замужем\" (наибольшее количество должников). Разница в выданных кредитах составляет практически в 5,5 раз, при этом на наименьшее количество кредитов в категории \"не женат/не замужем\" должников в процентном соотношении на 20% больше чем в категории \"не женат/не замужем\" и практически достигает 100%.\n",
    "\n",
    "В следствии чего можно сделать вывод о зависимости семейного положения на вовзрат долга вовремя, категория \"не женат/не замужем\" более подвержена риску."
   ]
  },
  {
   "cell_type": "markdown",
   "id": "3831e228",
   "metadata": {
    "deletable": false,
    "editable": false,
    "id": "3831e228"
   },
   "source": [
    "#### 3.3 Есть ли зависимость между уровнем дохода и возвратом кредита в срок?"
   ]
  },
  {
   "cell_type": "code",
   "execution_count": 32,
   "id": "9def9939",
   "metadata": {
    "colab": {
     "base_uri": "https://localhost:8080/",
     "height": 206
    },
    "deletable": false,
    "id": "9def9939",
    "outputId": "ff452184-fa43-4044-e95f-ddc251b36aad",
    "scrolled": true
   },
   "outputs": [
    {
     "data": {
      "text/html": [
       "\n",
       "  <div id=\"df-aa2db22d-124f-4d6e-bbaa-58027f943d07\" class=\"colab-df-container\">\n",
       "    <div>\n",
       "<style scoped>\n",
       "    .dataframe tbody tr th:only-of-type {\n",
       "        vertical-align: middle;\n",
       "    }\n",
       "\n",
       "    .dataframe tbody tr th {\n",
       "        vertical-align: top;\n",
       "    }\n",
       "\n",
       "    .dataframe thead th {\n",
       "        text-align: right;\n",
       "    }\n",
       "</style>\n",
       "<table border=\"1\" class=\"dataframe\">\n",
       "  <thead>\n",
       "    <tr style=\"text-align: right;\">\n",
       "      <th></th>\n",
       "      <th>total_income_category</th>\n",
       "      <th>sum_total_income</th>\n",
       "      <th>count_total_income</th>\n",
       "      <th>median_total_income</th>\n",
       "    </tr>\n",
       "  </thead>\n",
       "  <tbody>\n",
       "    <tr>\n",
       "      <th>0</th>\n",
       "      <td>A</td>\n",
       "      <td>33477949</td>\n",
       "      <td>25</td>\n",
       "      <td>1223042</td>\n",
       "    </tr>\n",
       "    <tr>\n",
       "      <th>1</th>\n",
       "      <td>B</td>\n",
       "      <td>1437226770</td>\n",
       "      <td>5014</td>\n",
       "      <td>257558</td>\n",
       "    </tr>\n",
       "    <tr>\n",
       "      <th>2</th>\n",
       "      <td>C</td>\n",
       "      <td>2040674672</td>\n",
       "      <td>15921</td>\n",
       "      <td>130355</td>\n",
       "    </tr>\n",
       "    <tr>\n",
       "      <th>3</th>\n",
       "      <td>D</td>\n",
       "      <td>14979233</td>\n",
       "      <td>349</td>\n",
       "      <td>43929</td>\n",
       "    </tr>\n",
       "    <tr>\n",
       "      <th>4</th>\n",
       "      <td>E</td>\n",
       "      <td>567486</td>\n",
       "      <td>22</td>\n",
       "      <td>26431</td>\n",
       "    </tr>\n",
       "  </tbody>\n",
       "</table>\n",
       "</div>\n",
       "    <div class=\"colab-df-buttons\">\n",
       "\n",
       "  <div class=\"colab-df-container\">\n",
       "    <button class=\"colab-df-convert\" onclick=\"convertToInteractive('df-aa2db22d-124f-4d6e-bbaa-58027f943d07')\"\n",
       "            title=\"Convert this dataframe to an interactive table.\"\n",
       "            style=\"display:none;\">\n",
       "\n",
       "  <svg xmlns=\"http://www.w3.org/2000/svg\" height=\"24px\" viewBox=\"0 -960 960 960\">\n",
       "    <path d=\"M120-120v-720h720v720H120Zm60-500h600v-160H180v160Zm220 220h160v-160H400v160Zm0 220h160v-160H400v160ZM180-400h160v-160H180v160Zm440 0h160v-160H620v160ZM180-180h160v-160H180v160Zm440 0h160v-160H620v160Z\"/>\n",
       "  </svg>\n",
       "    </button>\n",
       "\n",
       "  <style>\n",
       "    .colab-df-container {\n",
       "      display:flex;\n",
       "      gap: 12px;\n",
       "    }\n",
       "\n",
       "    .colab-df-convert {\n",
       "      background-color: #E8F0FE;\n",
       "      border: none;\n",
       "      border-radius: 50%;\n",
       "      cursor: pointer;\n",
       "      display: none;\n",
       "      fill: #1967D2;\n",
       "      height: 32px;\n",
       "      padding: 0 0 0 0;\n",
       "      width: 32px;\n",
       "    }\n",
       "\n",
       "    .colab-df-convert:hover {\n",
       "      background-color: #E2EBFA;\n",
       "      box-shadow: 0px 1px 2px rgba(60, 64, 67, 0.3), 0px 1px 3px 1px rgba(60, 64, 67, 0.15);\n",
       "      fill: #174EA6;\n",
       "    }\n",
       "\n",
       "    .colab-df-buttons div {\n",
       "      margin-bottom: 4px;\n",
       "    }\n",
       "\n",
       "    [theme=dark] .colab-df-convert {\n",
       "      background-color: #3B4455;\n",
       "      fill: #D2E3FC;\n",
       "    }\n",
       "\n",
       "    [theme=dark] .colab-df-convert:hover {\n",
       "      background-color: #434B5C;\n",
       "      box-shadow: 0px 1px 3px 1px rgba(0, 0, 0, 0.15);\n",
       "      filter: drop-shadow(0px 1px 2px rgba(0, 0, 0, 0.3));\n",
       "      fill: #FFFFFF;\n",
       "    }\n",
       "  </style>\n",
       "\n",
       "    <script>\n",
       "      const buttonEl =\n",
       "        document.querySelector('#df-aa2db22d-124f-4d6e-bbaa-58027f943d07 button.colab-df-convert');\n",
       "      buttonEl.style.display =\n",
       "        google.colab.kernel.accessAllowed ? 'block' : 'none';\n",
       "\n",
       "      async function convertToInteractive(key) {\n",
       "        const element = document.querySelector('#df-aa2db22d-124f-4d6e-bbaa-58027f943d07');\n",
       "        const dataTable =\n",
       "          await google.colab.kernel.invokeFunction('convertToInteractive',\n",
       "                                                    [key], {});\n",
       "        if (!dataTable) return;\n",
       "\n",
       "        const docLinkHtml = 'Like what you see? Visit the ' +\n",
       "          '<a target=\"_blank\" href=https://colab.research.google.com/notebooks/data_table.ipynb>data table notebook</a>'\n",
       "          + ' to learn more about interactive tables.';\n",
       "        element.innerHTML = '';\n",
       "        dataTable['output_type'] = 'display_data';\n",
       "        await google.colab.output.renderOutput(dataTable, element);\n",
       "        const docLink = document.createElement('div');\n",
       "        docLink.innerHTML = docLinkHtml;\n",
       "        element.appendChild(docLink);\n",
       "      }\n",
       "    </script>\n",
       "  </div>\n",
       "\n",
       "\n",
       "<div id=\"df-d8accc61-5d21-41d3-8676-f7ff5fc203cb\">\n",
       "  <button class=\"colab-df-quickchart\" onclick=\"quickchart('df-d8accc61-5d21-41d3-8676-f7ff5fc203cb')\"\n",
       "            title=\"Suggest charts\"\n",
       "            style=\"display:none;\">\n",
       "\n",
       "<svg xmlns=\"http://www.w3.org/2000/svg\" height=\"24px\"viewBox=\"0 0 24 24\"\n",
       "     width=\"24px\">\n",
       "    <g>\n",
       "        <path d=\"M19 3H5c-1.1 0-2 .9-2 2v14c0 1.1.9 2 2 2h14c1.1 0 2-.9 2-2V5c0-1.1-.9-2-2-2zM9 17H7v-7h2v7zm4 0h-2V7h2v10zm4 0h-2v-4h2v4z\"/>\n",
       "    </g>\n",
       "</svg>\n",
       "  </button>\n",
       "\n",
       "<style>\n",
       "  .colab-df-quickchart {\n",
       "      --bg-color: #E8F0FE;\n",
       "      --fill-color: #1967D2;\n",
       "      --hover-bg-color: #E2EBFA;\n",
       "      --hover-fill-color: #174EA6;\n",
       "      --disabled-fill-color: #AAA;\n",
       "      --disabled-bg-color: #DDD;\n",
       "  }\n",
       "\n",
       "  [theme=dark] .colab-df-quickchart {\n",
       "      --bg-color: #3B4455;\n",
       "      --fill-color: #D2E3FC;\n",
       "      --hover-bg-color: #434B5C;\n",
       "      --hover-fill-color: #FFFFFF;\n",
       "      --disabled-bg-color: #3B4455;\n",
       "      --disabled-fill-color: #666;\n",
       "  }\n",
       "\n",
       "  .colab-df-quickchart {\n",
       "    background-color: var(--bg-color);\n",
       "    border: none;\n",
       "    border-radius: 50%;\n",
       "    cursor: pointer;\n",
       "    display: none;\n",
       "    fill: var(--fill-color);\n",
       "    height: 32px;\n",
       "    padding: 0;\n",
       "    width: 32px;\n",
       "  }\n",
       "\n",
       "  .colab-df-quickchart:hover {\n",
       "    background-color: var(--hover-bg-color);\n",
       "    box-shadow: 0 1px 2px rgba(60, 64, 67, 0.3), 0 1px 3px 1px rgba(60, 64, 67, 0.15);\n",
       "    fill: var(--button-hover-fill-color);\n",
       "  }\n",
       "\n",
       "  .colab-df-quickchart-complete:disabled,\n",
       "  .colab-df-quickchart-complete:disabled:hover {\n",
       "    background-color: var(--disabled-bg-color);\n",
       "    fill: var(--disabled-fill-color);\n",
       "    box-shadow: none;\n",
       "  }\n",
       "\n",
       "  .colab-df-spinner {\n",
       "    border: 2px solid var(--fill-color);\n",
       "    border-color: transparent;\n",
       "    border-bottom-color: var(--fill-color);\n",
       "    animation:\n",
       "      spin 1s steps(1) infinite;\n",
       "  }\n",
       "\n",
       "  @keyframes spin {\n",
       "    0% {\n",
       "      border-color: transparent;\n",
       "      border-bottom-color: var(--fill-color);\n",
       "      border-left-color: var(--fill-color);\n",
       "    }\n",
       "    20% {\n",
       "      border-color: transparent;\n",
       "      border-left-color: var(--fill-color);\n",
       "      border-top-color: var(--fill-color);\n",
       "    }\n",
       "    30% {\n",
       "      border-color: transparent;\n",
       "      border-left-color: var(--fill-color);\n",
       "      border-top-color: var(--fill-color);\n",
       "      border-right-color: var(--fill-color);\n",
       "    }\n",
       "    40% {\n",
       "      border-color: transparent;\n",
       "      border-right-color: var(--fill-color);\n",
       "      border-top-color: var(--fill-color);\n",
       "    }\n",
       "    60% {\n",
       "      border-color: transparent;\n",
       "      border-right-color: var(--fill-color);\n",
       "    }\n",
       "    80% {\n",
       "      border-color: transparent;\n",
       "      border-right-color: var(--fill-color);\n",
       "      border-bottom-color: var(--fill-color);\n",
       "    }\n",
       "    90% {\n",
       "      border-color: transparent;\n",
       "      border-bottom-color: var(--fill-color);\n",
       "    }\n",
       "  }\n",
       "</style>\n",
       "\n",
       "  <script>\n",
       "    async function quickchart(key) {\n",
       "      const quickchartButtonEl =\n",
       "        document.querySelector('#' + key + ' button');\n",
       "      quickchartButtonEl.disabled = true;  // To prevent multiple clicks.\n",
       "      quickchartButtonEl.classList.add('colab-df-spinner');\n",
       "      try {\n",
       "        const charts = await google.colab.kernel.invokeFunction(\n",
       "            'suggestCharts', [key], {});\n",
       "      } catch (error) {\n",
       "        console.error('Error during call to suggestCharts:', error);\n",
       "      }\n",
       "      quickchartButtonEl.classList.remove('colab-df-spinner');\n",
       "      quickchartButtonEl.classList.add('colab-df-quickchart-complete');\n",
       "    }\n",
       "    (() => {\n",
       "      let quickchartButtonEl =\n",
       "        document.querySelector('#df-d8accc61-5d21-41d3-8676-f7ff5fc203cb button');\n",
       "      quickchartButtonEl.style.display =\n",
       "        google.colab.kernel.accessAllowed ? 'block' : 'none';\n",
       "    })();\n",
       "  </script>\n",
       "</div>\n",
       "    </div>\n",
       "  </div>\n"
      ],
      "text/plain": [
       "  total_income_category  sum_total_income  count_total_income  \\\n",
       "0                     A          33477949                  25   \n",
       "1                     B        1437226770                5014   \n",
       "2                     C        2040674672               15921   \n",
       "3                     D          14979233                 349   \n",
       "4                     E            567486                  22   \n",
       "\n",
       "   median_total_income  \n",
       "0              1223042  \n",
       "1               257558  \n",
       "2               130355  \n",
       "3                43929  \n",
       "4                26431  "
      ]
     },
     "execution_count": 32,
     "metadata": {},
     "output_type": "execute_result"
    }
   ],
   "source": [
    "# формируем сводную таблицу по каждой категории уровня дохода с суммарными показателями дохода, количеством людей по каждой\n",
    "# категории и с медианным значением по уровню дохода на кажду категорию\n",
    "pivot_income_category = data.pivot_table(index='total_income_category', values='total_income', aggfunc=['sum', 'count', 'median'])\n",
    "pivot_income_category.reset_index()\n",
    "pivot_income_category.columns = ['_'.join(col).strip() for col in pivot_income_category.columns.values]\n",
    "pivot_income_category = pivot_income_category.reset_index()\n",
    "pivot_income_category"
   ]
  },
  {
   "cell_type": "code",
   "execution_count": 33,
   "id": "0fd9bd2b",
   "metadata": {
    "colab": {
     "base_uri": "https://localhost:8080/",
     "height": 206
    },
    "id": "0fd9bd2b",
    "outputId": "08611dcd-3403-4e22-deca-5f22ff6cc55c"
   },
   "outputs": [
    {
     "data": {
      "text/html": [
       "\n",
       "  <div id=\"df-bff45d19-cf28-4ee0-9015-28bdff276910\" class=\"colab-df-container\">\n",
       "    <div>\n",
       "<style scoped>\n",
       "    .dataframe tbody tr th:only-of-type {\n",
       "        vertical-align: middle;\n",
       "    }\n",
       "\n",
       "    .dataframe tbody tr th {\n",
       "        vertical-align: top;\n",
       "    }\n",
       "\n",
       "    .dataframe thead th {\n",
       "        text-align: right;\n",
       "    }\n",
       "</style>\n",
       "<table border=\"1\" class=\"dataframe\">\n",
       "  <thead>\n",
       "    <tr style=\"text-align: right;\">\n",
       "      <th></th>\n",
       "      <th>total_income_category</th>\n",
       "      <th>mean_debt</th>\n",
       "    </tr>\n",
       "  </thead>\n",
       "  <tbody>\n",
       "    <tr>\n",
       "      <th>0</th>\n",
       "      <td>A</td>\n",
       "      <td>0.080000</td>\n",
       "    </tr>\n",
       "    <tr>\n",
       "      <th>1</th>\n",
       "      <td>B</td>\n",
       "      <td>0.070602</td>\n",
       "    </tr>\n",
       "    <tr>\n",
       "      <th>2</th>\n",
       "      <td>C</td>\n",
       "      <td>0.084982</td>\n",
       "    </tr>\n",
       "    <tr>\n",
       "      <th>3</th>\n",
       "      <td>D</td>\n",
       "      <td>0.060172</td>\n",
       "    </tr>\n",
       "    <tr>\n",
       "      <th>4</th>\n",
       "      <td>E</td>\n",
       "      <td>0.090909</td>\n",
       "    </tr>\n",
       "  </tbody>\n",
       "</table>\n",
       "</div>\n",
       "    <div class=\"colab-df-buttons\">\n",
       "\n",
       "  <div class=\"colab-df-container\">\n",
       "    <button class=\"colab-df-convert\" onclick=\"convertToInteractive('df-bff45d19-cf28-4ee0-9015-28bdff276910')\"\n",
       "            title=\"Convert this dataframe to an interactive table.\"\n",
       "            style=\"display:none;\">\n",
       "\n",
       "  <svg xmlns=\"http://www.w3.org/2000/svg\" height=\"24px\" viewBox=\"0 -960 960 960\">\n",
       "    <path d=\"M120-120v-720h720v720H120Zm60-500h600v-160H180v160Zm220 220h160v-160H400v160Zm0 220h160v-160H400v160ZM180-400h160v-160H180v160Zm440 0h160v-160H620v160ZM180-180h160v-160H180v160Zm440 0h160v-160H620v160Z\"/>\n",
       "  </svg>\n",
       "    </button>\n",
       "\n",
       "  <style>\n",
       "    .colab-df-container {\n",
       "      display:flex;\n",
       "      gap: 12px;\n",
       "    }\n",
       "\n",
       "    .colab-df-convert {\n",
       "      background-color: #E8F0FE;\n",
       "      border: none;\n",
       "      border-radius: 50%;\n",
       "      cursor: pointer;\n",
       "      display: none;\n",
       "      fill: #1967D2;\n",
       "      height: 32px;\n",
       "      padding: 0 0 0 0;\n",
       "      width: 32px;\n",
       "    }\n",
       "\n",
       "    .colab-df-convert:hover {\n",
       "      background-color: #E2EBFA;\n",
       "      box-shadow: 0px 1px 2px rgba(60, 64, 67, 0.3), 0px 1px 3px 1px rgba(60, 64, 67, 0.15);\n",
       "      fill: #174EA6;\n",
       "    }\n",
       "\n",
       "    .colab-df-buttons div {\n",
       "      margin-bottom: 4px;\n",
       "    }\n",
       "\n",
       "    [theme=dark] .colab-df-convert {\n",
       "      background-color: #3B4455;\n",
       "      fill: #D2E3FC;\n",
       "    }\n",
       "\n",
       "    [theme=dark] .colab-df-convert:hover {\n",
       "      background-color: #434B5C;\n",
       "      box-shadow: 0px 1px 3px 1px rgba(0, 0, 0, 0.15);\n",
       "      filter: drop-shadow(0px 1px 2px rgba(0, 0, 0, 0.3));\n",
       "      fill: #FFFFFF;\n",
       "    }\n",
       "  </style>\n",
       "\n",
       "    <script>\n",
       "      const buttonEl =\n",
       "        document.querySelector('#df-bff45d19-cf28-4ee0-9015-28bdff276910 button.colab-df-convert');\n",
       "      buttonEl.style.display =\n",
       "        google.colab.kernel.accessAllowed ? 'block' : 'none';\n",
       "\n",
       "      async function convertToInteractive(key) {\n",
       "        const element = document.querySelector('#df-bff45d19-cf28-4ee0-9015-28bdff276910');\n",
       "        const dataTable =\n",
       "          await google.colab.kernel.invokeFunction('convertToInteractive',\n",
       "                                                    [key], {});\n",
       "        if (!dataTable) return;\n",
       "\n",
       "        const docLinkHtml = 'Like what you see? Visit the ' +\n",
       "          '<a target=\"_blank\" href=https://colab.research.google.com/notebooks/data_table.ipynb>data table notebook</a>'\n",
       "          + ' to learn more about interactive tables.';\n",
       "        element.innerHTML = '';\n",
       "        dataTable['output_type'] = 'display_data';\n",
       "        await google.colab.output.renderOutput(dataTable, element);\n",
       "        const docLink = document.createElement('div');\n",
       "        docLink.innerHTML = docLinkHtml;\n",
       "        element.appendChild(docLink);\n",
       "      }\n",
       "    </script>\n",
       "  </div>\n",
       "\n",
       "\n",
       "<div id=\"df-c36cd3bd-8ebe-4918-ae73-eb3c4bc3b39d\">\n",
       "  <button class=\"colab-df-quickchart\" onclick=\"quickchart('df-c36cd3bd-8ebe-4918-ae73-eb3c4bc3b39d')\"\n",
       "            title=\"Suggest charts\"\n",
       "            style=\"display:none;\">\n",
       "\n",
       "<svg xmlns=\"http://www.w3.org/2000/svg\" height=\"24px\"viewBox=\"0 0 24 24\"\n",
       "     width=\"24px\">\n",
       "    <g>\n",
       "        <path d=\"M19 3H5c-1.1 0-2 .9-2 2v14c0 1.1.9 2 2 2h14c1.1 0 2-.9 2-2V5c0-1.1-.9-2-2-2zM9 17H7v-7h2v7zm4 0h-2V7h2v10zm4 0h-2v-4h2v4z\"/>\n",
       "    </g>\n",
       "</svg>\n",
       "  </button>\n",
       "\n",
       "<style>\n",
       "  .colab-df-quickchart {\n",
       "      --bg-color: #E8F0FE;\n",
       "      --fill-color: #1967D2;\n",
       "      --hover-bg-color: #E2EBFA;\n",
       "      --hover-fill-color: #174EA6;\n",
       "      --disabled-fill-color: #AAA;\n",
       "      --disabled-bg-color: #DDD;\n",
       "  }\n",
       "\n",
       "  [theme=dark] .colab-df-quickchart {\n",
       "      --bg-color: #3B4455;\n",
       "      --fill-color: #D2E3FC;\n",
       "      --hover-bg-color: #434B5C;\n",
       "      --hover-fill-color: #FFFFFF;\n",
       "      --disabled-bg-color: #3B4455;\n",
       "      --disabled-fill-color: #666;\n",
       "  }\n",
       "\n",
       "  .colab-df-quickchart {\n",
       "    background-color: var(--bg-color);\n",
       "    border: none;\n",
       "    border-radius: 50%;\n",
       "    cursor: pointer;\n",
       "    display: none;\n",
       "    fill: var(--fill-color);\n",
       "    height: 32px;\n",
       "    padding: 0;\n",
       "    width: 32px;\n",
       "  }\n",
       "\n",
       "  .colab-df-quickchart:hover {\n",
       "    background-color: var(--hover-bg-color);\n",
       "    box-shadow: 0 1px 2px rgba(60, 64, 67, 0.3), 0 1px 3px 1px rgba(60, 64, 67, 0.15);\n",
       "    fill: var(--button-hover-fill-color);\n",
       "  }\n",
       "\n",
       "  .colab-df-quickchart-complete:disabled,\n",
       "  .colab-df-quickchart-complete:disabled:hover {\n",
       "    background-color: var(--disabled-bg-color);\n",
       "    fill: var(--disabled-fill-color);\n",
       "    box-shadow: none;\n",
       "  }\n",
       "\n",
       "  .colab-df-spinner {\n",
       "    border: 2px solid var(--fill-color);\n",
       "    border-color: transparent;\n",
       "    border-bottom-color: var(--fill-color);\n",
       "    animation:\n",
       "      spin 1s steps(1) infinite;\n",
       "  }\n",
       "\n",
       "  @keyframes spin {\n",
       "    0% {\n",
       "      border-color: transparent;\n",
       "      border-bottom-color: var(--fill-color);\n",
       "      border-left-color: var(--fill-color);\n",
       "    }\n",
       "    20% {\n",
       "      border-color: transparent;\n",
       "      border-left-color: var(--fill-color);\n",
       "      border-top-color: var(--fill-color);\n",
       "    }\n",
       "    30% {\n",
       "      border-color: transparent;\n",
       "      border-left-color: var(--fill-color);\n",
       "      border-top-color: var(--fill-color);\n",
       "      border-right-color: var(--fill-color);\n",
       "    }\n",
       "    40% {\n",
       "      border-color: transparent;\n",
       "      border-right-color: var(--fill-color);\n",
       "      border-top-color: var(--fill-color);\n",
       "    }\n",
       "    60% {\n",
       "      border-color: transparent;\n",
       "      border-right-color: var(--fill-color);\n",
       "    }\n",
       "    80% {\n",
       "      border-color: transparent;\n",
       "      border-right-color: var(--fill-color);\n",
       "      border-bottom-color: var(--fill-color);\n",
       "    }\n",
       "    90% {\n",
       "      border-color: transparent;\n",
       "      border-bottom-color: var(--fill-color);\n",
       "    }\n",
       "  }\n",
       "</style>\n",
       "\n",
       "  <script>\n",
       "    async function quickchart(key) {\n",
       "      const quickchartButtonEl =\n",
       "        document.querySelector('#' + key + ' button');\n",
       "      quickchartButtonEl.disabled = true;  // To prevent multiple clicks.\n",
       "      quickchartButtonEl.classList.add('colab-df-spinner');\n",
       "      try {\n",
       "        const charts = await google.colab.kernel.invokeFunction(\n",
       "            'suggestCharts', [key], {});\n",
       "      } catch (error) {\n",
       "        console.error('Error during call to suggestCharts:', error);\n",
       "      }\n",
       "      quickchartButtonEl.classList.remove('colab-df-spinner');\n",
       "      quickchartButtonEl.classList.add('colab-df-quickchart-complete');\n",
       "    }\n",
       "    (() => {\n",
       "      let quickchartButtonEl =\n",
       "        document.querySelector('#df-c36cd3bd-8ebe-4918-ae73-eb3c4bc3b39d button');\n",
       "      quickchartButtonEl.style.display =\n",
       "        google.colab.kernel.accessAllowed ? 'block' : 'none';\n",
       "    })();\n",
       "  </script>\n",
       "</div>\n",
       "    </div>\n",
       "  </div>\n"
      ],
      "text/plain": [
       "  total_income_category  mean_debt\n",
       "0                     A   0.080000\n",
       "1                     B   0.070602\n",
       "2                     C   0.084982\n",
       "3                     D   0.060172\n",
       "4                     E   0.090909"
      ]
     },
     "execution_count": 33,
     "metadata": {},
     "output_type": "execute_result"
    }
   ],
   "source": [
    "# формируем сводную таблицу по каждой категории уровня дохода со средним показателем наличия долга\n",
    "pivot_income_category_debt = data.pivot_table(index='total_income_category', values='debt', aggfunc=['mean'])\n",
    "pivot_income_category_debt.reset_index()\n",
    "pivot_income_category_debt.columns = ['_'.join(col).strip() for col in pivot_income_category_debt.columns.values]\n",
    "pivot_income_category_debt = pivot_income_category_debt.reset_index()\n",
    "pivot_income_category_debt"
   ]
  },
  {
   "cell_type": "code",
   "execution_count": 34,
   "id": "f9236c84",
   "metadata": {
    "colab": {
     "base_uri": "https://localhost:8080/",
     "height": 206
    },
    "id": "f9236c84",
    "outputId": "8c2bcfef-385e-4cba-f7a6-c93b00118d64"
   },
   "outputs": [
    {
     "data": {
      "text/html": [
       "\n",
       "  <div id=\"df-93e020fb-9249-4987-8326-1b807133e502\" class=\"colab-df-container\">\n",
       "    <div>\n",
       "<style scoped>\n",
       "    .dataframe tbody tr th:only-of-type {\n",
       "        vertical-align: middle;\n",
       "    }\n",
       "\n",
       "    .dataframe tbody tr th {\n",
       "        vertical-align: top;\n",
       "    }\n",
       "\n",
       "    .dataframe thead th {\n",
       "        text-align: right;\n",
       "    }\n",
       "</style>\n",
       "<table border=\"1\" class=\"dataframe\">\n",
       "  <thead>\n",
       "    <tr style=\"text-align: right;\">\n",
       "      <th></th>\n",
       "      <th>total_income_category</th>\n",
       "      <th>sum_total_income</th>\n",
       "      <th>count_total_income</th>\n",
       "      <th>median_total_income</th>\n",
       "      <th>mean_debt</th>\n",
       "    </tr>\n",
       "  </thead>\n",
       "  <tbody>\n",
       "    <tr>\n",
       "      <th>0</th>\n",
       "      <td>A</td>\n",
       "      <td>33477949</td>\n",
       "      <td>25</td>\n",
       "      <td>1223042</td>\n",
       "      <td>0.080000</td>\n",
       "    </tr>\n",
       "    <tr>\n",
       "      <th>1</th>\n",
       "      <td>B</td>\n",
       "      <td>1437226770</td>\n",
       "      <td>5014</td>\n",
       "      <td>257558</td>\n",
       "      <td>0.070602</td>\n",
       "    </tr>\n",
       "    <tr>\n",
       "      <th>2</th>\n",
       "      <td>C</td>\n",
       "      <td>2040674672</td>\n",
       "      <td>15921</td>\n",
       "      <td>130355</td>\n",
       "      <td>0.084982</td>\n",
       "    </tr>\n",
       "    <tr>\n",
       "      <th>3</th>\n",
       "      <td>D</td>\n",
       "      <td>14979233</td>\n",
       "      <td>349</td>\n",
       "      <td>43929</td>\n",
       "      <td>0.060172</td>\n",
       "    </tr>\n",
       "    <tr>\n",
       "      <th>4</th>\n",
       "      <td>E</td>\n",
       "      <td>567486</td>\n",
       "      <td>22</td>\n",
       "      <td>26431</td>\n",
       "      <td>0.090909</td>\n",
       "    </tr>\n",
       "  </tbody>\n",
       "</table>\n",
       "</div>\n",
       "    <div class=\"colab-df-buttons\">\n",
       "\n",
       "  <div class=\"colab-df-container\">\n",
       "    <button class=\"colab-df-convert\" onclick=\"convertToInteractive('df-93e020fb-9249-4987-8326-1b807133e502')\"\n",
       "            title=\"Convert this dataframe to an interactive table.\"\n",
       "            style=\"display:none;\">\n",
       "\n",
       "  <svg xmlns=\"http://www.w3.org/2000/svg\" height=\"24px\" viewBox=\"0 -960 960 960\">\n",
       "    <path d=\"M120-120v-720h720v720H120Zm60-500h600v-160H180v160Zm220 220h160v-160H400v160Zm0 220h160v-160H400v160ZM180-400h160v-160H180v160Zm440 0h160v-160H620v160ZM180-180h160v-160H180v160Zm440 0h160v-160H620v160Z\"/>\n",
       "  </svg>\n",
       "    </button>\n",
       "\n",
       "  <style>\n",
       "    .colab-df-container {\n",
       "      display:flex;\n",
       "      gap: 12px;\n",
       "    }\n",
       "\n",
       "    .colab-df-convert {\n",
       "      background-color: #E8F0FE;\n",
       "      border: none;\n",
       "      border-radius: 50%;\n",
       "      cursor: pointer;\n",
       "      display: none;\n",
       "      fill: #1967D2;\n",
       "      height: 32px;\n",
       "      padding: 0 0 0 0;\n",
       "      width: 32px;\n",
       "    }\n",
       "\n",
       "    .colab-df-convert:hover {\n",
       "      background-color: #E2EBFA;\n",
       "      box-shadow: 0px 1px 2px rgba(60, 64, 67, 0.3), 0px 1px 3px 1px rgba(60, 64, 67, 0.15);\n",
       "      fill: #174EA6;\n",
       "    }\n",
       "\n",
       "    .colab-df-buttons div {\n",
       "      margin-bottom: 4px;\n",
       "    }\n",
       "\n",
       "    [theme=dark] .colab-df-convert {\n",
       "      background-color: #3B4455;\n",
       "      fill: #D2E3FC;\n",
       "    }\n",
       "\n",
       "    [theme=dark] .colab-df-convert:hover {\n",
       "      background-color: #434B5C;\n",
       "      box-shadow: 0px 1px 3px 1px rgba(0, 0, 0, 0.15);\n",
       "      filter: drop-shadow(0px 1px 2px rgba(0, 0, 0, 0.3));\n",
       "      fill: #FFFFFF;\n",
       "    }\n",
       "  </style>\n",
       "\n",
       "    <script>\n",
       "      const buttonEl =\n",
       "        document.querySelector('#df-93e020fb-9249-4987-8326-1b807133e502 button.colab-df-convert');\n",
       "      buttonEl.style.display =\n",
       "        google.colab.kernel.accessAllowed ? 'block' : 'none';\n",
       "\n",
       "      async function convertToInteractive(key) {\n",
       "        const element = document.querySelector('#df-93e020fb-9249-4987-8326-1b807133e502');\n",
       "        const dataTable =\n",
       "          await google.colab.kernel.invokeFunction('convertToInteractive',\n",
       "                                                    [key], {});\n",
       "        if (!dataTable) return;\n",
       "\n",
       "        const docLinkHtml = 'Like what you see? Visit the ' +\n",
       "          '<a target=\"_blank\" href=https://colab.research.google.com/notebooks/data_table.ipynb>data table notebook</a>'\n",
       "          + ' to learn more about interactive tables.';\n",
       "        element.innerHTML = '';\n",
       "        dataTable['output_type'] = 'display_data';\n",
       "        await google.colab.output.renderOutput(dataTable, element);\n",
       "        const docLink = document.createElement('div');\n",
       "        docLink.innerHTML = docLinkHtml;\n",
       "        element.appendChild(docLink);\n",
       "      }\n",
       "    </script>\n",
       "  </div>\n",
       "\n",
       "\n",
       "<div id=\"df-93180055-8ce3-468e-88fa-f88a74f0f0cf\">\n",
       "  <button class=\"colab-df-quickchart\" onclick=\"quickchart('df-93180055-8ce3-468e-88fa-f88a74f0f0cf')\"\n",
       "            title=\"Suggest charts\"\n",
       "            style=\"display:none;\">\n",
       "\n",
       "<svg xmlns=\"http://www.w3.org/2000/svg\" height=\"24px\"viewBox=\"0 0 24 24\"\n",
       "     width=\"24px\">\n",
       "    <g>\n",
       "        <path d=\"M19 3H5c-1.1 0-2 .9-2 2v14c0 1.1.9 2 2 2h14c1.1 0 2-.9 2-2V5c0-1.1-.9-2-2-2zM9 17H7v-7h2v7zm4 0h-2V7h2v10zm4 0h-2v-4h2v4z\"/>\n",
       "    </g>\n",
       "</svg>\n",
       "  </button>\n",
       "\n",
       "<style>\n",
       "  .colab-df-quickchart {\n",
       "      --bg-color: #E8F0FE;\n",
       "      --fill-color: #1967D2;\n",
       "      --hover-bg-color: #E2EBFA;\n",
       "      --hover-fill-color: #174EA6;\n",
       "      --disabled-fill-color: #AAA;\n",
       "      --disabled-bg-color: #DDD;\n",
       "  }\n",
       "\n",
       "  [theme=dark] .colab-df-quickchart {\n",
       "      --bg-color: #3B4455;\n",
       "      --fill-color: #D2E3FC;\n",
       "      --hover-bg-color: #434B5C;\n",
       "      --hover-fill-color: #FFFFFF;\n",
       "      --disabled-bg-color: #3B4455;\n",
       "      --disabled-fill-color: #666;\n",
       "  }\n",
       "\n",
       "  .colab-df-quickchart {\n",
       "    background-color: var(--bg-color);\n",
       "    border: none;\n",
       "    border-radius: 50%;\n",
       "    cursor: pointer;\n",
       "    display: none;\n",
       "    fill: var(--fill-color);\n",
       "    height: 32px;\n",
       "    padding: 0;\n",
       "    width: 32px;\n",
       "  }\n",
       "\n",
       "  .colab-df-quickchart:hover {\n",
       "    background-color: var(--hover-bg-color);\n",
       "    box-shadow: 0 1px 2px rgba(60, 64, 67, 0.3), 0 1px 3px 1px rgba(60, 64, 67, 0.15);\n",
       "    fill: var(--button-hover-fill-color);\n",
       "  }\n",
       "\n",
       "  .colab-df-quickchart-complete:disabled,\n",
       "  .colab-df-quickchart-complete:disabled:hover {\n",
       "    background-color: var(--disabled-bg-color);\n",
       "    fill: var(--disabled-fill-color);\n",
       "    box-shadow: none;\n",
       "  }\n",
       "\n",
       "  .colab-df-spinner {\n",
       "    border: 2px solid var(--fill-color);\n",
       "    border-color: transparent;\n",
       "    border-bottom-color: var(--fill-color);\n",
       "    animation:\n",
       "      spin 1s steps(1) infinite;\n",
       "  }\n",
       "\n",
       "  @keyframes spin {\n",
       "    0% {\n",
       "      border-color: transparent;\n",
       "      border-bottom-color: var(--fill-color);\n",
       "      border-left-color: var(--fill-color);\n",
       "    }\n",
       "    20% {\n",
       "      border-color: transparent;\n",
       "      border-left-color: var(--fill-color);\n",
       "      border-top-color: var(--fill-color);\n",
       "    }\n",
       "    30% {\n",
       "      border-color: transparent;\n",
       "      border-left-color: var(--fill-color);\n",
       "      border-top-color: var(--fill-color);\n",
       "      border-right-color: var(--fill-color);\n",
       "    }\n",
       "    40% {\n",
       "      border-color: transparent;\n",
       "      border-right-color: var(--fill-color);\n",
       "      border-top-color: var(--fill-color);\n",
       "    }\n",
       "    60% {\n",
       "      border-color: transparent;\n",
       "      border-right-color: var(--fill-color);\n",
       "    }\n",
       "    80% {\n",
       "      border-color: transparent;\n",
       "      border-right-color: var(--fill-color);\n",
       "      border-bottom-color: var(--fill-color);\n",
       "    }\n",
       "    90% {\n",
       "      border-color: transparent;\n",
       "      border-bottom-color: var(--fill-color);\n",
       "    }\n",
       "  }\n",
       "</style>\n",
       "\n",
       "  <script>\n",
       "    async function quickchart(key) {\n",
       "      const quickchartButtonEl =\n",
       "        document.querySelector('#' + key + ' button');\n",
       "      quickchartButtonEl.disabled = true;  // To prevent multiple clicks.\n",
       "      quickchartButtonEl.classList.add('colab-df-spinner');\n",
       "      try {\n",
       "        const charts = await google.colab.kernel.invokeFunction(\n",
       "            'suggestCharts', [key], {});\n",
       "      } catch (error) {\n",
       "        console.error('Error during call to suggestCharts:', error);\n",
       "      }\n",
       "      quickchartButtonEl.classList.remove('colab-df-spinner');\n",
       "      quickchartButtonEl.classList.add('colab-df-quickchart-complete');\n",
       "    }\n",
       "    (() => {\n",
       "      let quickchartButtonEl =\n",
       "        document.querySelector('#df-93180055-8ce3-468e-88fa-f88a74f0f0cf button');\n",
       "      quickchartButtonEl.style.display =\n",
       "        google.colab.kernel.accessAllowed ? 'block' : 'none';\n",
       "    })();\n",
       "  </script>\n",
       "</div>\n",
       "    </div>\n",
       "  </div>\n"
      ],
      "text/plain": [
       "  total_income_category  sum_total_income  count_total_income  \\\n",
       "0                     A          33477949                  25   \n",
       "1                     B        1437226770                5014   \n",
       "2                     C        2040674672               15921   \n",
       "3                     D          14979233                 349   \n",
       "4                     E            567486                  22   \n",
       "\n",
       "   median_total_income  mean_debt  \n",
       "0              1223042   0.080000  \n",
       "1               257558   0.070602  \n",
       "2               130355   0.084982  \n",
       "3                43929   0.060172  \n",
       "4                26431   0.090909  "
      ]
     },
     "execution_count": 34,
     "metadata": {},
     "output_type": "execute_result"
    }
   ],
   "source": [
    "# выполняем слияение двух сводных таблиц по колонке \"total_income_category\"\n",
    "data_income_total = pivot_income_category.merge(pivot_income_category_debt, on='total_income_category', how='left')\n",
    "data_income_total"
   ]
  },
  {
   "cell_type": "code",
   "execution_count": 35,
   "id": "0bff35f9",
   "metadata": {
    "colab": {
     "base_uri": "https://localhost:8080/",
     "height": 468
    },
    "id": "0bff35f9",
    "outputId": "4fa4232f-3fe8-456f-a45b-dd9f37ef10c8"
   },
   "outputs": [
    {
     "data": {
      "text/plain": [
       "<Axes: xlabel='total_income_category', ylabel='mean_debt'>"
      ]
     },
     "execution_count": 35,
     "metadata": {},
     "output_type": "execute_result"
    },
    {
     "data": {
      "image/png": "[encoded data removed]",
      "text/plain": [
       "<Figure size 640x480 with 1 Axes>"
      ]
     },
     "metadata": {},
     "output_type": "display_data"
    }
   ],
   "source": [
    "# вывод столбчатой диаграммы по категориям и средним значением долга - \"Диаграмма 1\"\n",
    "seaborn.barplot(x=data_income_total['total_income_category'], y=data_income_total['mean_debt'])"
   ]
  },
  {
   "cell_type": "code",
   "execution_count": 36,
   "id": "2d027ef4",
   "metadata": {
    "colab": {
     "base_uri": "https://localhost:8080/",
     "height": 483
    },
    "id": "2d027ef4",
    "outputId": "1192a839-c326-4cf4-b692-26783f1ab165"
   },
   "outputs": [
    {
     "data": {
      "text/plain": [
       "<Axes: xlabel='total_income_category', ylabel='sum_total_income'>"
      ]
     },
     "execution_count": 36,
     "metadata": {},
     "output_type": "execute_result"
    },
    {
     "data": {
      "image/png": "[encoded data removed]",
      "text/plain": [
       "<Figure size 640x480 with 1 Axes>"
      ]
     },
     "metadata": {},
     "output_type": "display_data"
    }
   ],
   "source": [
    "# вывод столбчатой диаграммы по категориям и суммарным значением дохода - \"Диаграмма 2\"\n",
    "seaborn.barplot(x=data_income_total['total_income_category'], y=data_income_total['sum_total_income'])"
   ]
  },
  {
   "cell_type": "code",
   "execution_count": 37,
   "id": "18fe9229",
   "metadata": {
    "colab": {
     "base_uri": "https://localhost:8080/",
     "height": 483
    },
    "id": "18fe9229",
    "outputId": "8b77b3de-f04e-44bd-f976-cd60b4e45a36"
   },
   "outputs": [
    {
     "data": {
      "text/plain": [
       "<Axes: xlabel='total_income_category', ylabel='median_total_income'>"
      ]
     },
     "execution_count": 37,
     "metadata": {},
     "output_type": "execute_result"
    },
    {
     "data": {
      "image/png": "[encoded data removed]",
      "text/plain": [
       "<Figure size 640x480 with 1 Axes>"
      ]
     },
     "metadata": {},
     "output_type": "display_data"
    }
   ],
   "source": [
    "# вывод столбчатой диаграммы по категориям и медианным значением дохода - \"Диаграмма 3\"\n",
    "seaborn.barplot(x=data_income_total['total_income_category'], y=data_income_total['median_total_income'])"
   ]
  },
  {
   "cell_type": "markdown",
   "id": "41f83ed3",
   "metadata": {
    "deletable": false,
    "id": "41f83ed3"
   },
   "source": [
    "**Вывод:**\n",
    "В данном выводе не принимаются показатели по категориям А, D, E, так как по сравнению с категориями B и C они слишком малочислены, что может привести к недостоверности выводов.\n",
    "\n",
    "Наибольшее количество людей на кредитование в категори С (доход от 50001 до 200000), на \"Диаграмме 2\" представлено, что по данной группе наибольший суммарный доход.\n",
    "\n",
    "Наибольшее количество должников также в категории С и по сравнению с категорией B разница в процентном соотношении составляет почти 15%.\n",
    "\n",
    "Зависимость между уровнем дохода и количеством должников явная, категория С больше подвержена не возврату долга в срока. Одним из факторов - средний доход на категорию, который составляют разницу с категорией В в 2 раза (см. Диаграмму 3)."
   ]
  },
  {
   "cell_type": "markdown",
   "id": "0ee14060",
   "metadata": {
    "deletable": false,
    "editable": false,
    "id": "0ee14060"
   },
   "source": [
    "#### 3.4 Как разные цели кредита влияют на его возврат в срок?"
   ]
  },
  {
   "cell_type": "code",
   "execution_count": 38,
   "id": "34471f8d",
   "metadata": {
    "colab": {
     "base_uri": "https://localhost:8080/",
     "height": 175
    },
    "deletable": false,
    "id": "34471f8d",
    "outputId": "9b75e123-07ef-46b0-dfd1-bc6178a47fb3"
   },
   "outputs": [
    {
     "data": {
      "text/html": [
       "\n",
       "  <div id=\"df-66f7ca63-c755-4f46-9360-e048e35e29d1\" class=\"colab-df-container\">\n",
       "    <div>\n",
       "<style scoped>\n",
       "    .dataframe tbody tr th:only-of-type {\n",
       "        vertical-align: middle;\n",
       "    }\n",
       "\n",
       "    .dataframe tbody tr th {\n",
       "        vertical-align: top;\n",
       "    }\n",
       "\n",
       "    .dataframe thead th {\n",
       "        text-align: right;\n",
       "    }\n",
       "</style>\n",
       "<table border=\"1\" class=\"dataframe\">\n",
       "  <thead>\n",
       "    <tr style=\"text-align: right;\">\n",
       "      <th></th>\n",
       "      <th>purpose_category</th>\n",
       "      <th>count_debt</th>\n",
       "      <th>mean_debt</th>\n",
       "    </tr>\n",
       "  </thead>\n",
       "  <tbody>\n",
       "    <tr>\n",
       "      <th>0</th>\n",
       "      <td>операции с автомобилем</td>\n",
       "      <td>4279</td>\n",
       "      <td>0.093480</td>\n",
       "    </tr>\n",
       "    <tr>\n",
       "      <th>1</th>\n",
       "      <td>операции с недвижимостью</td>\n",
       "      <td>10751</td>\n",
       "      <td>0.072551</td>\n",
       "    </tr>\n",
       "    <tr>\n",
       "      <th>2</th>\n",
       "      <td>получение образования</td>\n",
       "      <td>3988</td>\n",
       "      <td>0.092528</td>\n",
       "    </tr>\n",
       "    <tr>\n",
       "      <th>3</th>\n",
       "      <td>проведение свадьбы</td>\n",
       "      <td>2313</td>\n",
       "      <td>0.079118</td>\n",
       "    </tr>\n",
       "  </tbody>\n",
       "</table>\n",
       "</div>\n",
       "    <div class=\"colab-df-buttons\">\n",
       "\n",
       "  <div class=\"colab-df-container\">\n",
       "    <button class=\"colab-df-convert\" onclick=\"convertToInteractive('df-66f7ca63-c755-4f46-9360-e048e35e29d1')\"\n",
       "            title=\"Convert this dataframe to an interactive table.\"\n",
       "            style=\"display:none;\">\n",
       "\n",
       "  <svg xmlns=\"http://www.w3.org/2000/svg\" height=\"24px\" viewBox=\"0 -960 960 960\">\n",
       "    <path d=\"M120-120v-720h720v720H120Zm60-500h600v-160H180v160Zm220 220h160v-160H400v160Zm0 220h160v-160H400v160ZM180-400h160v-160H180v160Zm440 0h160v-160H620v160ZM180-180h160v-160H180v160Zm440 0h160v-160H620v160Z\"/>\n",
       "  </svg>\n",
       "    </button>\n",
       "\n",
       "  <style>\n",
       "    .colab-df-container {\n",
       "      display:flex;\n",
       "      gap: 12px;\n",
       "    }\n",
       "\n",
       "    .colab-df-convert {\n",
       "      background-color: #E8F0FE;\n",
       "      border: none;\n",
       "      border-radius: 50%;\n",
       "      cursor: pointer;\n",
       "      display: none;\n",
       "      fill: #1967D2;\n",
       "      height: 32px;\n",
       "      padding: 0 0 0 0;\n",
       "      width: 32px;\n",
       "    }\n",
       "\n",
       "    .colab-df-convert:hover {\n",
       "      background-color: #E2EBFA;\n",
       "      box-shadow: 0px 1px 2px rgba(60, 64, 67, 0.3), 0px 1px 3px 1px rgba(60, 64, 67, 0.15);\n",
       "      fill: #174EA6;\n",
       "    }\n",
       "\n",
       "    .colab-df-buttons div {\n",
       "      margin-bottom: 4px;\n",
       "    }\n",
       "\n",
       "    [theme=dark] .colab-df-convert {\n",
       "      background-color: #3B4455;\n",
       "      fill: #D2E3FC;\n",
       "    }\n",
       "\n",
       "    [theme=dark] .colab-df-convert:hover {\n",
       "      background-color: #434B5C;\n",
       "      box-shadow: 0px 1px 3px 1px rgba(0, 0, 0, 0.15);\n",
       "      filter: drop-shadow(0px 1px 2px rgba(0, 0, 0, 0.3));\n",
       "      fill: #FFFFFF;\n",
       "    }\n",
       "  </style>\n",
       "\n",
       "    <script>\n",
       "      const buttonEl =\n",
       "        document.querySelector('#df-66f7ca63-c755-4f46-9360-e048e35e29d1 button.colab-df-convert');\n",
       "      buttonEl.style.display =\n",
       "        google.colab.kernel.accessAllowed ? 'block' : 'none';\n",
       "\n",
       "      async function convertToInteractive(key) {\n",
       "        const element = document.querySelector('#df-66f7ca63-c755-4f46-9360-e048e35e29d1');\n",
       "        const dataTable =\n",
       "          await google.colab.kernel.invokeFunction('convertToInteractive',\n",
       "                                                    [key], {});\n",
       "        if (!dataTable) return;\n",
       "\n",
       "        const docLinkHtml = 'Like what you see? Visit the ' +\n",
       "          '<a target=\"_blank\" href=https://colab.research.google.com/notebooks/data_table.ipynb>data table notebook</a>'\n",
       "          + ' to learn more about interactive tables.';\n",
       "        element.innerHTML = '';\n",
       "        dataTable['output_type'] = 'display_data';\n",
       "        await google.colab.output.renderOutput(dataTable, element);\n",
       "        const docLink = document.createElement('div');\n",
       "        docLink.innerHTML = docLinkHtml;\n",
       "        element.appendChild(docLink);\n",
       "      }\n",
       "    </script>\n",
       "  </div>\n",
       "\n",
       "\n",
       "<div id=\"df-38960186-d787-443e-b81a-f2c3d65f6eed\">\n",
       "  <button class=\"colab-df-quickchart\" onclick=\"quickchart('df-38960186-d787-443e-b81a-f2c3d65f6eed')\"\n",
       "            title=\"Suggest charts\"\n",
       "            style=\"display:none;\">\n",
       "\n",
       "<svg xmlns=\"http://www.w3.org/2000/svg\" height=\"24px\"viewBox=\"0 0 24 24\"\n",
       "     width=\"24px\">\n",
       "    <g>\n",
       "        <path d=\"M19 3H5c-1.1 0-2 .9-2 2v14c0 1.1.9 2 2 2h14c1.1 0 2-.9 2-2V5c0-1.1-.9-2-2-2zM9 17H7v-7h2v7zm4 0h-2V7h2v10zm4 0h-2v-4h2v4z\"/>\n",
       "    </g>\n",
       "</svg>\n",
       "  </button>\n",
       "\n",
       "<style>\n",
       "  .colab-df-quickchart {\n",
       "      --bg-color: #E8F0FE;\n",
       "      --fill-color: #1967D2;\n",
       "      --hover-bg-color: #E2EBFA;\n",
       "      --hover-fill-color: #174EA6;\n",
       "      --disabled-fill-color: #AAA;\n",
       "      --disabled-bg-color: #DDD;\n",
       "  }\n",
       "\n",
       "  [theme=dark] .colab-df-quickchart {\n",
       "      --bg-color: #3B4455;\n",
       "      --fill-color: #D2E3FC;\n",
       "      --hover-bg-color: #434B5C;\n",
       "      --hover-fill-color: #FFFFFF;\n",
       "      --disabled-bg-color: #3B4455;\n",
       "      --disabled-fill-color: #666;\n",
       "  }\n",
       "\n",
       "  .colab-df-quickchart {\n",
       "    background-color: var(--bg-color);\n",
       "    border: none;\n",
       "    border-radius: 50%;\n",
       "    cursor: pointer;\n",
       "    display: none;\n",
       "    fill: var(--fill-color);\n",
       "    height: 32px;\n",
       "    padding: 0;\n",
       "    width: 32px;\n",
       "  }\n",
       "\n",
       "  .colab-df-quickchart:hover {\n",
       "    background-color: var(--hover-bg-color);\n",
       "    box-shadow: 0 1px 2px rgba(60, 64, 67, 0.3), 0 1px 3px 1px rgba(60, 64, 67, 0.15);\n",
       "    fill: var(--button-hover-fill-color);\n",
       "  }\n",
       "\n",
       "  .colab-df-quickchart-complete:disabled,\n",
       "  .colab-df-quickchart-complete:disabled:hover {\n",
       "    background-color: var(--disabled-bg-color);\n",
       "    fill: var(--disabled-fill-color);\n",
       "    box-shadow: none;\n",
       "  }\n",
       "\n",
       "  .colab-df-spinner {\n",
       "    border: 2px solid var(--fill-color);\n",
       "    border-color: transparent;\n",
       "    border-bottom-color: var(--fill-color);\n",
       "    animation:\n",
       "      spin 1s steps(1) infinite;\n",
       "  }\n",
       "\n",
       "  @keyframes spin {\n",
       "    0% {\n",
       "      border-color: transparent;\n",
       "      border-bottom-color: var(--fill-color);\n",
       "      border-left-color: var(--fill-color);\n",
       "    }\n",
       "    20% {\n",
       "      border-color: transparent;\n",
       "      border-left-color: var(--fill-color);\n",
       "      border-top-color: var(--fill-color);\n",
       "    }\n",
       "    30% {\n",
       "      border-color: transparent;\n",
       "      border-left-color: var(--fill-color);\n",
       "      border-top-color: var(--fill-color);\n",
       "      border-right-color: var(--fill-color);\n",
       "    }\n",
       "    40% {\n",
       "      border-color: transparent;\n",
       "      border-right-color: var(--fill-color);\n",
       "      border-top-color: var(--fill-color);\n",
       "    }\n",
       "    60% {\n",
       "      border-color: transparent;\n",
       "      border-right-color: var(--fill-color);\n",
       "    }\n",
       "    80% {\n",
       "      border-color: transparent;\n",
       "      border-right-color: var(--fill-color);\n",
       "      border-bottom-color: var(--fill-color);\n",
       "    }\n",
       "    90% {\n",
       "      border-color: transparent;\n",
       "      border-bottom-color: var(--fill-color);\n",
       "    }\n",
       "  }\n",
       "</style>\n",
       "\n",
       "  <script>\n",
       "    async function quickchart(key) {\n",
       "      const quickchartButtonEl =\n",
       "        document.querySelector('#' + key + ' button');\n",
       "      quickchartButtonEl.disabled = true;  // To prevent multiple clicks.\n",
       "      quickchartButtonEl.classList.add('colab-df-spinner');\n",
       "      try {\n",
       "        const charts = await google.colab.kernel.invokeFunction(\n",
       "            'suggestCharts', [key], {});\n",
       "      } catch (error) {\n",
       "        console.error('Error during call to suggestCharts:', error);\n",
       "      }\n",
       "      quickchartButtonEl.classList.remove('colab-df-spinner');\n",
       "      quickchartButtonEl.classList.add('colab-df-quickchart-complete');\n",
       "    }\n",
       "    (() => {\n",
       "      let quickchartButtonEl =\n",
       "        document.querySelector('#df-38960186-d787-443e-b81a-f2c3d65f6eed button');\n",
       "      quickchartButtonEl.style.display =\n",
       "        google.colab.kernel.accessAllowed ? 'block' : 'none';\n",
       "    })();\n",
       "  </script>\n",
       "</div>\n",
       "    </div>\n",
       "  </div>\n"
      ],
      "text/plain": [
       "           purpose_category  count_debt  mean_debt\n",
       "0    операции с автомобилем        4279   0.093480\n",
       "1  операции с недвижимостью       10751   0.072551\n",
       "2     получение образования        3988   0.092528\n",
       "3        проведение свадьбы        2313   0.079118"
      ]
     },
     "execution_count": 38,
     "metadata": {},
     "output_type": "execute_result"
    }
   ],
   "source": [
    "# создадис сводную таблицу\n",
    "pivot_purpose_category = data.pivot_table(index='purpose_category', values='debt', aggfunc=['count', 'mean'])\n",
    "pivot_purpose_category.reset_index()\n",
    "pivot_purpose_category.columns = ['_'.join(col).strip() for col in pivot_purpose_category.columns.values]\n",
    "pivot_purpose_category = pivot_purpose_category.reset_index()\n",
    "pivot_purpose_category"
   ]
  },
  {
   "cell_type": "markdown",
   "id": "eda2be86",
   "metadata": {
    "deletable": false,
    "id": "eda2be86"
   },
   "source": [
    "**Вывод:** Категория \"Операция с недвижимостью\" и \"Проведение свадьбы\" меньше подвержены не оплаты долга в срок, чем категории \"Получения образования\" и \"Операция с автомобилем\". Категория \"Операции с недвжимостью\" более долгосрочный и связаны с жестким графиком и риском. Категория \"Проведение свадьбы\" менее долгосрочная и закрывается быстро."
   ]
  },
  {
   "cell_type": "markdown",
   "id": "bdb12e7f",
   "metadata": {
    "deletable": false,
    "editable": false,
    "id": "bdb12e7f"
   },
   "source": [
    "#### 3.5 Приведите возможные причины появления пропусков в исходных данных."
   ]
  },
  {
   "cell_type": "markdown",
   "id": "0d820c4b",
   "metadata": {
    "deletable": false,
    "id": "0d820c4b"
   },
   "source": [
    "*Ответ:* В исходных данных имелись пропуски по колонка 'days_emloyed' и 'total_income'. Данные колонки относятся к количественным переменным. Возможные причины пропуска в данных колонках:\n",
    "- человек заполнявший анкету не предоставил информацию по \"количеству отработатнных дней\" и \"суммарный доход\".\n",
    "- данной информации у человека в приницпе нет, так как он может быть безработным или пенсионером."
   ]
  },
  {
   "cell_type": "markdown",
   "id": "c01e8b8e",
   "metadata": {
    "deletable": false,
    "editable": false,
    "id": "c01e8b8e"
   },
   "source": [
    "#### 3.6 Объясните, почему заполнить пропуски медианным значением — лучшее решение для количественных переменных."
   ]
  },
  {
   "cell_type": "markdown",
   "id": "9e8a9d49",
   "metadata": {
    "deletable": false,
    "id": "9e8a9d49"
   },
   "source": [
    "*Ответ:* в количественных переменных может быть сильное различие значений, что сильно повредит аналитик при выявлении средних значений. Медиана покажет наиболее корректный показатель, так как медиана менее чувствительна к выбросам. Например, количество посетителей магазина за  3 дня до акции[50, 50, 50] и за 4 дня со значением после объявления акции [50, 50, 50, 200]. Если выполнить расчет среднего значения, то мы увидим, что проходимость выросла на 40%. Если мы применим медиану, то на выброс увеличения проходимости в 150 человек, она практически не среагирует и покажет, что проходимость как была 50 человек в день, так и осталось 50."
   ]
  },
  {
   "cell_type": "markdown",
   "id": "ecb013fe",
   "metadata": {
    "deletable": false,
    "editable": false,
    "id": "ecb013fe"
   },
   "source": [
    "## Шаг 4. Общий вывод."
   ]
  },
  {
   "cell_type": "markdown",
   "id": "b2c3ef11",
   "metadata": {
    "deletable": false,
    "id": "b2c3ef11"
   },
   "source": [
    "Основной задачей от Заказчика - необходимо разобраться влияет ли семеное положение и количество детей клиента на факт погашения кредита в срок.\n",
    "\n",
    "Для проведения по предоставленным входным данным от Заказчика - статистика о платежеспособности клиентов, были проведены следующие действия:\n",
    "\n",
    "- сформирована сводная таблица клиентов по категории \"Дети\";\n",
    "- сформирована сводная таблица клиентов по категории \"Семеное положение\";\n",
    "- сформирована сводная таблица клиентов по категории \"Цель кредита\";\n",
    "- сформирована сводная таблица клиентов по категории \"Уровень дохода\"."
   ]
  },
  {
   "cell_type": "markdown",
   "id": "b72af8b3",
   "metadata": {
    "id": "b72af8b3"
   },
   "source": [
    "Подробный анализ сформированных таблиц показал следующие выводы:\n",
    "\n",
    "- наиболее благоприятной **категорией по семейному положению** является категория \"Женат/замужем\", так как на эту категорию приходится наименьшее количество должников. В то время как самой неблагоприятной является категория \"Не женат/не замужем\". Данная зависимость может быть связана с тем, что у категории людей \"Женат/замужем\" доход выше, так как присутсвует два основных дохода, которые могут друг друга подстраховывать.\n",
    "\n",
    "- наиболее благоприятной **категорией по количеству детей заемщика** является категория \"Без детей\". Наибольшее количества выданных кредитов приходится на данную группу, а также процентное соотношение должников по данной категории почти на 20% меньше, чем у самой неблагоприятной категории \"4 ребенка\". Данная зависимость может быть обусловлена отсутствием дополнительных расходов у категории \"Без детей\".\n",
    "\n",
    "- наиболее благоприятной **категорией по цели кредита** являются категории \"Операция с недвижимостью\" и \"Проведение свадьбы\", на данные категории приходится наименьшее количество должников. По категории \"Операция с недвижимостью\" зависимость может быть обусловлена тем, что данные операции являются долгосрочными и для заемщика рискованными, в виду не уплаты долго имеется риск потери недвижимость. По категории \"Проведение сввадьбы\" зависимость может быть обусловлена тем, что размера кредитования может быть невелик, также закрыт в кратчайшие сроки.\n",
    "\n",
    "- наиболее благоприятной **категорией по уровню дохода** является категория \"В\" с заработком от 200 001 до 1 000 000. На категорию \"С\" с заработком от 50 001 до 200 000 приходится наибольшее количество выданных кредитов, при этом количество должников почти на 15% больше, чем по категории \"В\". Данная зависимость обусловлена одним из факторов -  средний суммарный доход на категорию \"С\" в 2 раза меньше чем у категории \"С\".  "
   ]
  }
 ],
 "metadata": {
  "ExecuteTimeLog": [
   {
    "duration": 44,
    "start_time": "2022-12-05T20:45:35.483Z"
   },
   {
    "duration": 6,
    "start_time": "2022-12-05T20:45:41.762Z"
   },
   {
    "duration": 494,
    "start_time": "2022-12-05T20:45:49.224Z"
   },
   {
    "duration": 23,
    "start_time": "2022-12-05T20:45:49.720Z"
   },
   {
    "duration": 14,
    "start_time": "2022-12-05T20:45:49.745Z"
   },
   {
    "duration": 10,
    "start_time": "2022-12-05T20:45:49.761Z"
   },
   {
    "duration": 43,
    "start_time": "2022-12-05T20:45:49.773Z"
   },
   {
    "duration": 3,
    "start_time": "2022-12-05T20:45:49.818Z"
   },
   {
    "duration": 12,
    "start_time": "2022-12-05T20:45:49.822Z"
   },
   {
    "duration": 20,
    "start_time": "2022-12-05T20:45:49.835Z"
   },
   {
    "duration": 8,
    "start_time": "2022-12-05T20:45:49.856Z"
   },
   {
    "duration": 6,
    "start_time": "2022-12-05T20:45:49.866Z"
   },
   {
    "duration": 34,
    "start_time": "2022-12-05T20:45:49.874Z"
   },
   {
    "duration": 10,
    "start_time": "2022-12-05T20:45:49.909Z"
   },
   {
    "duration": 32,
    "start_time": "2022-12-05T20:45:49.920Z"
   },
   {
    "duration": 10,
    "start_time": "2022-12-05T20:45:49.955Z"
   },
   {
    "duration": 22,
    "start_time": "2022-12-05T20:45:49.967Z"
   },
   {
    "duration": 16,
    "start_time": "2022-12-05T20:45:49.991Z"
   },
   {
    "duration": 3,
    "start_time": "2022-12-05T20:45:50.008Z"
   },
   {
    "duration": 39,
    "start_time": "2022-12-05T20:45:50.013Z"
   },
   {
    "duration": 5,
    "start_time": "2022-12-05T20:45:50.054Z"
   },
   {
    "duration": 4,
    "start_time": "2022-12-05T20:45:50.061Z"
   },
   {
    "duration": 22,
    "start_time": "2022-12-05T20:45:50.067Z"
   },
   {
    "duration": 7,
    "start_time": "2022-12-05T20:45:50.091Z"
   },
   {
    "duration": 7,
    "start_time": "2022-12-05T20:45:50.099Z"
   },
   {
    "duration": 5,
    "start_time": "2022-12-05T20:45:50.107Z"
   },
   {
    "duration": 6,
    "start_time": "2022-12-05T20:45:50.113Z"
   },
   {
    "duration": 13,
    "start_time": "2022-12-05T20:45:53.603Z"
   },
   {
    "duration": 4,
    "start_time": "2022-12-05T20:55:09.486Z"
   },
   {
    "duration": 45,
    "start_time": "2022-12-06T07:09:19.477Z"
   },
   {
    "duration": 523,
    "start_time": "2022-12-06T07:09:29.112Z"
   },
   {
    "duration": 22,
    "start_time": "2022-12-06T07:09:29.636Z"
   },
   {
    "duration": 14,
    "start_time": "2022-12-06T07:09:29.659Z"
   },
   {
    "duration": 9,
    "start_time": "2022-12-06T07:09:29.675Z"
   },
   {
    "duration": 39,
    "start_time": "2022-12-06T07:09:29.685Z"
   },
   {
    "duration": 4,
    "start_time": "2022-12-06T07:09:29.726Z"
   },
   {
    "duration": 20,
    "start_time": "2022-12-06T07:09:29.731Z"
   },
   {
    "duration": 5,
    "start_time": "2022-12-06T07:09:29.754Z"
   },
   {
    "duration": 7,
    "start_time": "2022-12-06T07:09:29.761Z"
   },
   {
    "duration": 8,
    "start_time": "2022-12-06T07:09:29.772Z"
   },
   {
    "duration": 49,
    "start_time": "2022-12-06T07:09:29.782Z"
   },
   {
    "duration": 10,
    "start_time": "2022-12-06T07:09:29.832Z"
   },
   {
    "duration": 5,
    "start_time": "2022-12-06T07:09:29.843Z"
   },
   {
    "duration": 11,
    "start_time": "2022-12-06T07:09:29.850Z"
   },
   {
    "duration": 19,
    "start_time": "2022-12-06T07:09:29.862Z"
   },
   {
    "duration": 36,
    "start_time": "2022-12-06T07:09:29.883Z"
   },
   {
    "duration": 4,
    "start_time": "2022-12-06T07:09:29.921Z"
   },
   {
    "duration": 20,
    "start_time": "2022-12-06T07:09:29.926Z"
   },
   {
    "duration": 19,
    "start_time": "2022-12-06T07:09:29.947Z"
   },
   {
    "duration": 4,
    "start_time": "2022-12-06T07:09:29.967Z"
   },
   {
    "duration": 19,
    "start_time": "2022-12-06T07:09:29.972Z"
   },
   {
    "duration": 44,
    "start_time": "2022-12-06T07:09:29.992Z"
   },
   {
    "duration": 14,
    "start_time": "2022-12-06T07:09:30.038Z"
   },
   {
    "duration": 6,
    "start_time": "2022-12-06T07:09:30.053Z"
   },
   {
    "duration": 11,
    "start_time": "2022-12-06T07:09:30.061Z"
   },
   {
    "duration": 469,
    "start_time": "2022-12-06T07:11:13.304Z"
   },
   {
    "duration": 22,
    "start_time": "2022-12-06T07:11:13.774Z"
   },
   {
    "duration": 15,
    "start_time": "2022-12-06T07:11:13.797Z"
   },
   {
    "duration": 11,
    "start_time": "2022-12-06T07:11:13.815Z"
   },
   {
    "duration": 36,
    "start_time": "2022-12-06T07:11:13.828Z"
   },
   {
    "duration": 3,
    "start_time": "2022-12-06T07:11:13.866Z"
   },
   {
    "duration": 39,
    "start_time": "2022-12-06T07:11:13.871Z"
   },
   {
    "duration": 3,
    "start_time": "2022-12-06T07:11:13.912Z"
   },
   {
    "duration": 8,
    "start_time": "2022-12-06T07:11:13.917Z"
   },
   {
    "duration": 4,
    "start_time": "2022-12-06T07:11:13.927Z"
   },
   {
    "duration": 36,
    "start_time": "2022-12-06T07:11:13.933Z"
   },
   {
    "duration": 39,
    "start_time": "2022-12-06T07:11:13.970Z"
   },
   {
    "duration": 7,
    "start_time": "2022-12-06T07:11:14.010Z"
   },
   {
    "duration": 13,
    "start_time": "2022-12-06T07:11:14.018Z"
   },
   {
    "duration": 25,
    "start_time": "2022-12-06T07:11:14.032Z"
   },
   {
    "duration": 17,
    "start_time": "2022-12-06T07:11:14.058Z"
   },
   {
    "duration": 4,
    "start_time": "2022-12-06T07:11:14.077Z"
   },
   {
    "duration": 30,
    "start_time": "2022-12-06T07:11:14.083Z"
   },
   {
    "duration": 9,
    "start_time": "2022-12-06T07:11:14.115Z"
   },
   {
    "duration": 5,
    "start_time": "2022-12-06T07:11:14.126Z"
   },
   {
    "duration": 16,
    "start_time": "2022-12-06T07:11:14.132Z"
   },
   {
    "duration": 72,
    "start_time": "2022-12-06T07:11:14.149Z"
   },
   {
    "duration": 0,
    "start_time": "2022-12-06T07:11:14.223Z"
   },
   {
    "duration": 0,
    "start_time": "2022-12-06T07:11:14.226Z"
   },
   {
    "duration": 0,
    "start_time": "2022-12-06T07:11:14.227Z"
   },
   {
    "duration": 0,
    "start_time": "2022-12-06T07:11:14.229Z"
   },
   {
    "duration": 74,
    "start_time": "2022-12-06T07:30:03.992Z"
   },
   {
    "duration": 12,
    "start_time": "2022-12-06T07:30:15.415Z"
   },
   {
    "duration": 11,
    "start_time": "2022-12-06T07:31:04.785Z"
   },
   {
    "duration": 12,
    "start_time": "2022-12-06T07:31:12.253Z"
   },
   {
    "duration": 4,
    "start_time": "2022-12-06T19:02:23.981Z"
   },
   {
    "duration": 54,
    "start_time": "2022-12-06T19:21:01.785Z"
   },
   {
    "duration": 578,
    "start_time": "2022-12-06T19:21:22.294Z"
   },
   {
    "duration": 25,
    "start_time": "2022-12-06T19:21:22.874Z"
   },
   {
    "duration": 17,
    "start_time": "2022-12-06T19:21:22.901Z"
   },
   {
    "duration": 23,
    "start_time": "2022-12-06T19:21:22.920Z"
   },
   {
    "duration": 33,
    "start_time": "2022-12-06T19:21:22.945Z"
   },
   {
    "duration": 3,
    "start_time": "2022-12-06T19:21:22.980Z"
   },
   {
    "duration": 12,
    "start_time": "2022-12-06T19:21:22.985Z"
   },
   {
    "duration": 4,
    "start_time": "2022-12-06T19:21:22.999Z"
   },
   {
    "duration": 8,
    "start_time": "2022-12-06T19:21:23.014Z"
   },
   {
    "duration": 14,
    "start_time": "2022-12-06T19:21:23.025Z"
   },
   {
    "duration": 35,
    "start_time": "2022-12-06T19:21:23.040Z"
   },
   {
    "duration": 9,
    "start_time": "2022-12-06T19:21:23.077Z"
   },
   {
    "duration": 25,
    "start_time": "2022-12-06T19:21:23.088Z"
   },
   {
    "duration": 26,
    "start_time": "2022-12-06T19:21:23.115Z"
   },
   {
    "duration": 22,
    "start_time": "2022-12-06T19:21:23.142Z"
   },
   {
    "duration": 17,
    "start_time": "2022-12-06T19:21:23.165Z"
   },
   {
    "duration": 3,
    "start_time": "2022-12-06T19:21:23.184Z"
   },
   {
    "duration": 12,
    "start_time": "2022-12-06T19:21:23.189Z"
   },
   {
    "duration": 31,
    "start_time": "2022-12-06T19:21:23.203Z"
   },
   {
    "duration": 4,
    "start_time": "2022-12-06T19:21:23.236Z"
   },
   {
    "duration": 13,
    "start_time": "2022-12-06T19:21:23.242Z"
   },
   {
    "duration": 81,
    "start_time": "2022-12-06T19:21:23.256Z"
   },
   {
    "duration": 0,
    "start_time": "2022-12-06T19:21:23.339Z"
   },
   {
    "duration": 0,
    "start_time": "2022-12-06T19:21:23.340Z"
   },
   {
    "duration": 0,
    "start_time": "2022-12-06T19:21:23.341Z"
   },
   {
    "duration": 16,
    "start_time": "2022-12-06T19:22:35.182Z"
   },
   {
    "duration": 27,
    "start_time": "2022-12-06T19:22:49.385Z"
   },
   {
    "duration": 20,
    "start_time": "2022-12-06T19:49:19.238Z"
   },
   {
    "duration": 21,
    "start_time": "2022-12-06T19:49:46.899Z"
   },
   {
    "duration": 16,
    "start_time": "2022-12-06T19:51:14.181Z"
   },
   {
    "duration": 6,
    "start_time": "2022-12-06T20:11:09.008Z"
   },
   {
    "duration": 468,
    "start_time": "2022-12-06T20:12:16.309Z"
   },
   {
    "duration": 22,
    "start_time": "2022-12-06T20:12:16.779Z"
   },
   {
    "duration": 16,
    "start_time": "2022-12-06T20:12:16.803Z"
   },
   {
    "duration": 9,
    "start_time": "2022-12-06T20:12:16.822Z"
   },
   {
    "duration": 36,
    "start_time": "2022-12-06T20:12:16.833Z"
   },
   {
    "duration": 4,
    "start_time": "2022-12-06T20:12:16.870Z"
   },
   {
    "duration": 11,
    "start_time": "2022-12-06T20:12:16.875Z"
   },
   {
    "duration": 5,
    "start_time": "2022-12-06T20:12:16.888Z"
   },
   {
    "duration": 9,
    "start_time": "2022-12-06T20:12:16.914Z"
   },
   {
    "duration": 5,
    "start_time": "2022-12-06T20:12:16.926Z"
   },
   {
    "duration": 37,
    "start_time": "2022-12-06T20:12:16.933Z"
   },
   {
    "duration": 9,
    "start_time": "2022-12-06T20:12:16.972Z"
   },
   {
    "duration": 30,
    "start_time": "2022-12-06T20:12:16.983Z"
   },
   {
    "duration": 16,
    "start_time": "2022-12-06T20:12:17.015Z"
   },
   {
    "duration": 22,
    "start_time": "2022-12-06T20:12:17.033Z"
   },
   {
    "duration": 18,
    "start_time": "2022-12-06T20:12:17.057Z"
   },
   {
    "duration": 3,
    "start_time": "2022-12-06T20:12:17.077Z"
   },
   {
    "duration": 33,
    "start_time": "2022-12-06T20:12:17.082Z"
   },
   {
    "duration": 7,
    "start_time": "2022-12-06T20:12:17.116Z"
   },
   {
    "duration": 3,
    "start_time": "2022-12-06T20:12:17.125Z"
   },
   {
    "duration": 10,
    "start_time": "2022-12-06T20:12:17.130Z"
   },
   {
    "duration": 23,
    "start_time": "2022-12-06T20:12:17.142Z"
   },
   {
    "duration": 3,
    "start_time": "2022-12-06T20:12:17.166Z"
   },
   {
    "duration": 6,
    "start_time": "2022-12-06T20:12:17.170Z"
   },
   {
    "duration": 458,
    "start_time": "2022-12-06T20:13:24.916Z"
   },
   {
    "duration": 23,
    "start_time": "2022-12-06T20:13:25.376Z"
   },
   {
    "duration": 20,
    "start_time": "2022-12-06T20:13:25.401Z"
   },
   {
    "duration": 9,
    "start_time": "2022-12-06T20:13:25.423Z"
   },
   {
    "duration": 32,
    "start_time": "2022-12-06T20:13:25.433Z"
   },
   {
    "duration": 3,
    "start_time": "2022-12-06T20:13:25.467Z"
   },
   {
    "duration": 12,
    "start_time": "2022-12-06T20:13:25.471Z"
   },
   {
    "duration": 4,
    "start_time": "2022-12-06T20:13:25.484Z"
   },
   {
    "duration": 8,
    "start_time": "2022-12-06T20:13:25.512Z"
   },
   {
    "duration": 4,
    "start_time": "2022-12-06T20:13:25.523Z"
   },
   {
    "duration": 32,
    "start_time": "2022-12-06T20:13:25.529Z"
   },
   {
    "duration": 9,
    "start_time": "2022-12-06T20:13:25.563Z"
   },
   {
    "duration": 4,
    "start_time": "2022-12-06T20:13:25.574Z"
   },
   {
    "duration": 40,
    "start_time": "2022-12-06T20:13:25.580Z"
   },
   {
    "duration": 19,
    "start_time": "2022-12-06T20:13:25.622Z"
   },
   {
    "duration": 17,
    "start_time": "2022-12-06T20:13:25.643Z"
   },
   {
    "duration": 4,
    "start_time": "2022-12-06T20:13:25.662Z"
   },
   {
    "duration": 15,
    "start_time": "2022-12-06T20:13:25.668Z"
   },
   {
    "duration": 31,
    "start_time": "2022-12-06T20:13:25.685Z"
   },
   {
    "duration": 3,
    "start_time": "2022-12-06T20:13:25.719Z"
   },
   {
    "duration": 10,
    "start_time": "2022-12-06T20:13:25.724Z"
   },
   {
    "duration": 24,
    "start_time": "2022-12-06T20:13:25.736Z"
   },
   {
    "duration": 3,
    "start_time": "2022-12-06T20:13:25.762Z"
   },
   {
    "duration": 6,
    "start_time": "2022-12-06T20:13:25.766Z"
   },
   {
    "duration": 7,
    "start_time": "2022-12-06T20:16:10.572Z"
   },
   {
    "duration": 5,
    "start_time": "2022-12-06T20:18:14.652Z"
   },
   {
    "duration": 8,
    "start_time": "2022-12-06T20:18:44.439Z"
   },
   {
    "duration": 3,
    "start_time": "2022-12-06T20:18:54.796Z"
   },
   {
    "duration": 8,
    "start_time": "2022-12-06T20:20:18.104Z"
   },
   {
    "duration": 357,
    "start_time": "2022-12-06T20:24:25.357Z"
   },
   {
    "duration": 454,
    "start_time": "2022-12-06T20:24:43.035Z"
   },
   {
    "duration": 21,
    "start_time": "2022-12-06T20:24:43.491Z"
   },
   {
    "duration": 15,
    "start_time": "2022-12-06T20:24:43.513Z"
   },
   {
    "duration": 9,
    "start_time": "2022-12-06T20:24:43.529Z"
   },
   {
    "duration": 31,
    "start_time": "2022-12-06T20:24:43.541Z"
   },
   {
    "duration": 3,
    "start_time": "2022-12-06T20:24:43.574Z"
   },
   {
    "duration": 10,
    "start_time": "2022-12-06T20:24:43.579Z"
   },
   {
    "duration": 5,
    "start_time": "2022-12-06T20:24:43.613Z"
   },
   {
    "duration": 11,
    "start_time": "2022-12-06T20:24:43.619Z"
   },
   {
    "duration": 12,
    "start_time": "2022-12-06T20:24:43.631Z"
   },
   {
    "duration": 34,
    "start_time": "2022-12-06T20:24:43.645Z"
   },
   {
    "duration": 9,
    "start_time": "2022-12-06T20:24:43.680Z"
   },
   {
    "duration": 4,
    "start_time": "2022-12-06T20:24:43.690Z"
   },
   {
    "duration": 11,
    "start_time": "2022-12-06T20:24:43.712Z"
   },
   {
    "duration": 22,
    "start_time": "2022-12-06T20:24:43.725Z"
   },
   {
    "duration": 16,
    "start_time": "2022-12-06T20:24:43.748Z"
   },
   {
    "duration": 4,
    "start_time": "2022-12-06T20:24:43.765Z"
   },
   {
    "duration": 15,
    "start_time": "2022-12-06T20:24:43.770Z"
   },
   {
    "duration": 11,
    "start_time": "2022-12-06T20:24:43.786Z"
   },
   {
    "duration": 5,
    "start_time": "2022-12-06T20:24:43.812Z"
   },
   {
    "duration": 10,
    "start_time": "2022-12-06T20:24:43.818Z"
   },
   {
    "duration": 24,
    "start_time": "2022-12-06T20:24:43.830Z"
   },
   {
    "duration": 385,
    "start_time": "2022-12-06T20:24:43.855Z"
   },
   {
    "duration": 0,
    "start_time": "2022-12-06T20:24:44.242Z"
   },
   {
    "duration": 0,
    "start_time": "2022-12-06T20:24:44.243Z"
   },
   {
    "duration": 3,
    "start_time": "2022-12-06T20:25:00.913Z"
   },
   {
    "duration": 473,
    "start_time": "2022-12-06T20:25:06.380Z"
   },
   {
    "duration": 23,
    "start_time": "2022-12-06T20:25:06.855Z"
   },
   {
    "duration": 17,
    "start_time": "2022-12-06T20:25:06.880Z"
   },
   {
    "duration": 12,
    "start_time": "2022-12-06T20:25:06.914Z"
   },
   {
    "duration": 40,
    "start_time": "2022-12-06T20:25:06.928Z"
   },
   {
    "duration": 4,
    "start_time": "2022-12-06T20:25:06.970Z"
   },
   {
    "duration": 14,
    "start_time": "2022-12-06T20:25:06.976Z"
   },
   {
    "duration": 24,
    "start_time": "2022-12-06T20:25:06.992Z"
   },
   {
    "duration": 12,
    "start_time": "2022-12-06T20:25:07.017Z"
   },
   {
    "duration": 4,
    "start_time": "2022-12-06T20:25:07.031Z"
   },
   {
    "duration": 32,
    "start_time": "2022-12-06T20:25:07.037Z"
   },
   {
    "duration": 8,
    "start_time": "2022-12-06T20:25:07.071Z"
   },
   {
    "duration": 5,
    "start_time": "2022-12-06T20:25:07.081Z"
   },
   {
    "duration": 12,
    "start_time": "2022-12-06T20:25:07.112Z"
   },
   {
    "duration": 21,
    "start_time": "2022-12-06T20:25:07.126Z"
   },
   {
    "duration": 16,
    "start_time": "2022-12-06T20:25:07.149Z"
   },
   {
    "duration": 4,
    "start_time": "2022-12-06T20:25:07.166Z"
   },
   {
    "duration": 11,
    "start_time": "2022-12-06T20:25:07.171Z"
   },
   {
    "duration": 31,
    "start_time": "2022-12-06T20:25:07.183Z"
   },
   {
    "duration": 3,
    "start_time": "2022-12-06T20:25:07.216Z"
   },
   {
    "duration": 13,
    "start_time": "2022-12-06T20:25:07.220Z"
   },
   {
    "duration": 24,
    "start_time": "2022-12-06T20:25:07.235Z"
   },
   {
    "duration": 2,
    "start_time": "2022-12-06T20:25:07.260Z"
   },
   {
    "duration": 7,
    "start_time": "2022-12-06T20:25:07.264Z"
   },
   {
    "duration": 3,
    "start_time": "2022-12-06T20:25:07.273Z"
   },
   {
    "duration": 346,
    "start_time": "2022-12-06T20:25:13.346Z"
   },
   {
    "duration": 293,
    "start_time": "2022-12-06T20:25:43.221Z"
   },
   {
    "duration": 24,
    "start_time": "2022-12-06T20:26:18.394Z"
   },
   {
    "duration": 25,
    "start_time": "2022-12-06T20:28:33.233Z"
   },
   {
    "duration": 25,
    "start_time": "2022-12-06T20:28:45.273Z"
   },
   {
    "duration": 24,
    "start_time": "2022-12-06T20:36:46.679Z"
   },
   {
    "duration": 25,
    "start_time": "2022-12-06T20:36:51.651Z"
   },
   {
    "duration": 9,
    "start_time": "2022-12-06T20:47:10.555Z"
   },
   {
    "duration": 8,
    "start_time": "2022-12-06T20:47:14.344Z"
   },
   {
    "duration": 27,
    "start_time": "2022-12-06T20:50:53.210Z"
   },
   {
    "duration": 29,
    "start_time": "2022-12-06T20:51:12.374Z"
   },
   {
    "duration": 21,
    "start_time": "2022-12-06T20:54:15.739Z"
   },
   {
    "duration": 22,
    "start_time": "2022-12-06T20:54:34.254Z"
   },
   {
    "duration": 7,
    "start_time": "2022-12-06T20:58:25.708Z"
   },
   {
    "duration": 11,
    "start_time": "2022-12-06T20:58:35.680Z"
   },
   {
    "duration": 18,
    "start_time": "2022-12-06T20:58:47.053Z"
   },
   {
    "duration": 11,
    "start_time": "2022-12-06T20:58:49.373Z"
   },
   {
    "duration": 1280,
    "start_time": "2022-12-07T11:26:56.371Z"
   },
   {
    "duration": 95,
    "start_time": "2022-12-07T11:28:32.239Z"
   },
   {
    "duration": 531,
    "start_time": "2022-12-07T11:28:43.803Z"
   },
   {
    "duration": 20,
    "start_time": "2022-12-07T11:28:44.336Z"
   },
   {
    "duration": 33,
    "start_time": "2022-12-07T11:28:44.357Z"
   },
   {
    "duration": 23,
    "start_time": "2022-12-07T11:28:44.392Z"
   },
   {
    "duration": 54,
    "start_time": "2022-12-07T11:28:44.416Z"
   },
   {
    "duration": 3,
    "start_time": "2022-12-07T11:28:44.471Z"
   },
   {
    "duration": 48,
    "start_time": "2022-12-07T11:28:44.476Z"
   },
   {
    "duration": 22,
    "start_time": "2022-12-07T11:28:44.526Z"
   },
   {
    "duration": 30,
    "start_time": "2022-12-07T11:28:44.550Z"
   },
   {
    "duration": 30,
    "start_time": "2022-12-07T11:28:44.584Z"
   },
   {
    "duration": 58,
    "start_time": "2022-12-07T11:28:44.616Z"
   },
   {
    "duration": 9,
    "start_time": "2022-12-07T11:28:44.676Z"
   },
   {
    "duration": 29,
    "start_time": "2022-12-07T11:28:44.687Z"
   },
   {
    "duration": 42,
    "start_time": "2022-12-07T11:28:44.718Z"
   },
   {
    "duration": 39,
    "start_time": "2022-12-07T11:28:44.762Z"
   },
   {
    "duration": 28,
    "start_time": "2022-12-07T11:28:44.803Z"
   },
   {
    "duration": 25,
    "start_time": "2022-12-07T11:28:44.832Z"
   },
   {
    "duration": 17,
    "start_time": "2022-12-07T11:28:44.859Z"
   },
   {
    "duration": 23,
    "start_time": "2022-12-07T11:28:44.878Z"
   },
   {
    "duration": 19,
    "start_time": "2022-12-07T11:28:44.903Z"
   },
   {
    "duration": 19,
    "start_time": "2022-12-07T11:28:44.924Z"
   },
   {
    "duration": 42,
    "start_time": "2022-12-07T11:28:44.945Z"
   },
   {
    "duration": 24,
    "start_time": "2022-12-07T11:28:44.988Z"
   },
   {
    "duration": 43,
    "start_time": "2022-12-07T11:28:45.014Z"
   },
   {
    "duration": 20,
    "start_time": "2022-12-07T11:28:45.059Z"
   },
   {
    "duration": 58,
    "start_time": "2022-12-07T11:28:45.080Z"
   },
   {
    "duration": 785,
    "start_time": "2022-12-07T11:28:45.140Z"
   },
   {
    "duration": 125,
    "start_time": "2022-12-07T11:28:45.927Z"
   },
   {
    "duration": 2,
    "start_time": "2022-12-07T11:28:46.054Z"
   },
   {
    "duration": 132,
    "start_time": "2022-12-07T11:32:35.769Z"
   },
   {
    "duration": 154,
    "start_time": "2022-12-07T11:33:18.374Z"
   },
   {
    "duration": 29,
    "start_time": "2022-12-07T12:36:37.196Z"
   },
   {
    "duration": 25,
    "start_time": "2022-12-07T12:36:49.946Z"
   },
   {
    "duration": 25,
    "start_time": "2022-12-07T14:26:06.045Z"
   },
   {
    "duration": 26,
    "start_time": "2022-12-07T14:26:17.113Z"
   },
   {
    "duration": 23,
    "start_time": "2022-12-07T14:26:36.623Z"
   },
   {
    "duration": 23,
    "start_time": "2022-12-07T14:26:47.673Z"
   },
   {
    "duration": 28,
    "start_time": "2022-12-07T14:27:52.463Z"
   },
   {
    "duration": 3,
    "start_time": "2022-12-07T14:28:29.738Z"
   },
   {
    "duration": 86,
    "start_time": "2022-12-07T14:28:39.846Z"
   },
   {
    "duration": 18,
    "start_time": "2022-12-07T14:29:06.278Z"
   },
   {
    "duration": 502,
    "start_time": "2022-12-07T14:57:28.892Z"
   },
   {
    "duration": 25,
    "start_time": "2022-12-07T14:57:29.396Z"
   },
   {
    "duration": 34,
    "start_time": "2022-12-07T14:57:29.424Z"
   },
   {
    "duration": 12,
    "start_time": "2022-12-07T14:57:29.460Z"
   },
   {
    "duration": 52,
    "start_time": "2022-12-07T14:57:29.474Z"
   },
   {
    "duration": 25,
    "start_time": "2022-12-07T14:57:29.528Z"
   },
   {
    "duration": 23,
    "start_time": "2022-12-07T14:57:29.556Z"
   },
   {
    "duration": 17,
    "start_time": "2022-12-07T14:57:29.581Z"
   },
   {
    "duration": 45,
    "start_time": "2022-12-07T14:57:29.600Z"
   },
   {
    "duration": 13,
    "start_time": "2022-12-07T14:57:29.651Z"
   },
   {
    "duration": 63,
    "start_time": "2022-12-07T14:57:29.666Z"
   },
   {
    "duration": 25,
    "start_time": "2022-12-07T14:57:29.732Z"
   },
   {
    "duration": 16,
    "start_time": "2022-12-07T14:57:29.760Z"
   },
   {
    "duration": 45,
    "start_time": "2022-12-07T14:57:29.781Z"
   },
   {
    "duration": 86,
    "start_time": "2022-12-07T14:57:29.829Z"
   },
   {
    "duration": 29,
    "start_time": "2022-12-07T14:57:29.917Z"
   },
   {
    "duration": 11,
    "start_time": "2022-12-07T14:57:29.948Z"
   },
   {
    "duration": 63,
    "start_time": "2022-12-07T14:57:29.964Z"
   },
   {
    "duration": 47,
    "start_time": "2022-12-07T14:57:30.030Z"
   },
   {
    "duration": 23,
    "start_time": "2022-12-07T14:57:30.079Z"
   },
   {
    "duration": 38,
    "start_time": "2022-12-07T14:57:30.104Z"
   },
   {
    "duration": 51,
    "start_time": "2022-12-07T14:57:30.145Z"
   },
   {
    "duration": 58,
    "start_time": "2022-12-07T14:57:30.198Z"
   },
   {
    "duration": 47,
    "start_time": "2022-12-07T14:57:30.259Z"
   },
   {
    "duration": 26,
    "start_time": "2022-12-07T14:57:30.308Z"
   },
   {
    "duration": 16,
    "start_time": "2022-12-07T14:57:30.352Z"
   },
   {
    "duration": 1343,
    "start_time": "2022-12-07T14:57:30.370Z"
   },
   {
    "duration": 210,
    "start_time": "2022-12-07T14:57:31.718Z"
   },
   {
    "duration": 230,
    "start_time": "2022-12-07T14:57:31.930Z"
   },
   {
    "duration": 213,
    "start_time": "2022-12-07T14:57:32.162Z"
   },
   {
    "duration": 44,
    "start_time": "2022-12-07T14:57:32.378Z"
   },
   {
    "duration": 114,
    "start_time": "2022-12-07T19:21:55.953Z"
   },
   {
    "duration": 106,
    "start_time": "2022-12-07T19:24:00.815Z"
   },
   {
    "duration": 119,
    "start_time": "2022-12-07T19:30:02.702Z"
   },
   {
    "duration": 103,
    "start_time": "2022-12-07T19:30:22.114Z"
   },
   {
    "duration": 42,
    "start_time": "2022-12-07T20:45:51.874Z"
   },
   {
    "duration": 544,
    "start_time": "2022-12-07T20:46:01.876Z"
   },
   {
    "duration": 22,
    "start_time": "2022-12-07T20:46:02.422Z"
   },
   {
    "duration": 19,
    "start_time": "2022-12-07T20:46:02.446Z"
   },
   {
    "duration": 24,
    "start_time": "2022-12-07T20:46:02.467Z"
   },
   {
    "duration": 41,
    "start_time": "2022-12-07T20:46:02.493Z"
   },
   {
    "duration": 3,
    "start_time": "2022-12-07T20:46:02.536Z"
   },
   {
    "duration": 39,
    "start_time": "2022-12-07T20:46:02.540Z"
   },
   {
    "duration": 20,
    "start_time": "2022-12-07T20:46:02.580Z"
   },
   {
    "duration": 38,
    "start_time": "2022-12-07T20:46:02.601Z"
   },
   {
    "duration": 20,
    "start_time": "2022-12-07T20:46:02.641Z"
   },
   {
    "duration": 33,
    "start_time": "2022-12-07T20:46:02.663Z"
   },
   {
    "duration": 12,
    "start_time": "2022-12-07T20:46:02.697Z"
   },
   {
    "duration": 4,
    "start_time": "2022-12-07T20:46:02.711Z"
   },
   {
    "duration": 13,
    "start_time": "2022-12-07T20:46:02.717Z"
   },
   {
    "duration": 24,
    "start_time": "2022-12-07T20:46:02.732Z"
   },
   {
    "duration": 17,
    "start_time": "2022-12-07T20:46:02.757Z"
   },
   {
    "duration": 3,
    "start_time": "2022-12-07T20:46:02.776Z"
   },
   {
    "duration": 15,
    "start_time": "2022-12-07T20:46:02.781Z"
   },
   {
    "duration": 6,
    "start_time": "2022-12-07T20:46:02.813Z"
   },
   {
    "duration": 4,
    "start_time": "2022-12-07T20:46:02.820Z"
   },
   {
    "duration": 14,
    "start_time": "2022-12-07T20:46:02.825Z"
   },
   {
    "duration": 26,
    "start_time": "2022-12-07T20:46:02.840Z"
   },
   {
    "duration": 46,
    "start_time": "2022-12-07T20:46:02.868Z"
   },
   {
    "duration": 38,
    "start_time": "2022-12-07T20:46:02.916Z"
   },
   {
    "duration": 19,
    "start_time": "2022-12-07T20:46:02.956Z"
   },
   {
    "duration": 38,
    "start_time": "2022-12-07T20:46:02.977Z"
   },
   {
    "duration": 918,
    "start_time": "2022-12-07T20:46:03.017Z"
   },
   {
    "duration": 135,
    "start_time": "2022-12-07T20:46:03.937Z"
   },
   {
    "duration": 148,
    "start_time": "2022-12-07T20:46:04.073Z"
   },
   {
    "duration": 142,
    "start_time": "2022-12-07T20:46:04.223Z"
   },
   {
    "duration": 27,
    "start_time": "2022-12-07T20:46:04.367Z"
   },
   {
    "duration": 20,
    "start_time": "2022-12-07T20:46:04.395Z"
   },
   {
    "duration": 8,
    "start_time": "2022-12-07T20:47:08.794Z"
   },
   {
    "duration": 8,
    "start_time": "2022-12-07T20:49:00.966Z"
   },
   {
    "duration": 8,
    "start_time": "2022-12-07T20:49:37.960Z"
   },
   {
    "duration": 129,
    "start_time": "2022-12-07T21:11:15.252Z"
   },
   {
    "duration": 443,
    "start_time": "2022-12-08T07:51:31.036Z"
   },
   {
    "duration": 23,
    "start_time": "2022-12-08T07:51:31.480Z"
   },
   {
    "duration": 27,
    "start_time": "2022-12-08T07:51:31.505Z"
   },
   {
    "duration": 26,
    "start_time": "2022-12-08T07:51:31.534Z"
   },
   {
    "duration": 48,
    "start_time": "2022-12-08T07:51:31.561Z"
   },
   {
    "duration": 3,
    "start_time": "2022-12-08T07:51:31.611Z"
   },
   {
    "duration": 33,
    "start_time": "2022-12-08T07:51:31.615Z"
   },
   {
    "duration": 4,
    "start_time": "2022-12-08T07:51:31.650Z"
   },
   {
    "duration": 8,
    "start_time": "2022-12-08T07:51:31.655Z"
   },
   {
    "duration": 5,
    "start_time": "2022-12-08T07:51:31.665Z"
   },
   {
    "duration": 37,
    "start_time": "2022-12-08T07:51:31.671Z"
   },
   {
    "duration": 9,
    "start_time": "2022-12-08T07:51:31.709Z"
   },
   {
    "duration": 3,
    "start_time": "2022-12-08T07:51:31.719Z"
   },
   {
    "duration": 11,
    "start_time": "2022-12-08T07:51:31.724Z"
   },
   {
    "duration": 19,
    "start_time": "2022-12-08T07:51:31.737Z"
   },
   {
    "duration": 16,
    "start_time": "2022-12-08T07:51:31.758Z"
   },
   {
    "duration": 5,
    "start_time": "2022-12-08T07:51:31.795Z"
   },
   {
    "duration": 20,
    "start_time": "2022-12-08T07:51:31.801Z"
   },
   {
    "duration": 8,
    "start_time": "2022-12-08T07:51:31.822Z"
   },
   {
    "duration": 5,
    "start_time": "2022-12-08T07:51:31.831Z"
   },
   {
    "duration": 17,
    "start_time": "2022-12-08T07:51:31.837Z"
   },
   {
    "duration": 34,
    "start_time": "2022-12-08T07:51:31.856Z"
   },
   {
    "duration": 33,
    "start_time": "2022-12-08T07:51:31.892Z"
   },
   {
    "duration": 31,
    "start_time": "2022-12-08T07:51:31.927Z"
   },
   {
    "duration": 15,
    "start_time": "2022-12-08T07:51:31.960Z"
   },
   {
    "duration": 14,
    "start_time": "2022-12-08T07:51:31.996Z"
   },
   {
    "duration": 867,
    "start_time": "2022-12-08T07:51:32.012Z"
   },
   {
    "duration": 140,
    "start_time": "2022-12-08T07:51:32.882Z"
   },
   {
    "duration": 139,
    "start_time": "2022-12-08T07:51:33.024Z"
   },
   {
    "duration": 132,
    "start_time": "2022-12-08T07:51:33.165Z"
   },
   {
    "duration": 28,
    "start_time": "2022-12-08T07:51:33.299Z"
   },
   {
    "duration": 6,
    "start_time": "2022-12-08T07:51:33.329Z"
   },
   {
    "duration": 9,
    "start_time": "2022-12-08T07:51:33.336Z"
   },
   {
    "duration": 7,
    "start_time": "2022-12-08T07:51:33.347Z"
   },
   {
    "duration": 9,
    "start_time": "2022-12-08T07:51:33.355Z"
   },
   {
    "duration": 152,
    "start_time": "2022-12-08T07:51:33.365Z"
   },
   {
    "duration": 463,
    "start_time": "2022-12-08T08:19:59.310Z"
   },
   {
    "duration": 20,
    "start_time": "2022-12-08T08:19:59.774Z"
   },
   {
    "duration": 17,
    "start_time": "2022-12-08T08:19:59.796Z"
   },
   {
    "duration": 10,
    "start_time": "2022-12-08T08:19:59.815Z"
   },
   {
    "duration": 30,
    "start_time": "2022-12-08T08:19:59.826Z"
   },
   {
    "duration": 3,
    "start_time": "2022-12-08T08:19:59.857Z"
   },
   {
    "duration": 23,
    "start_time": "2022-12-08T08:19:59.862Z"
   },
   {
    "duration": 26,
    "start_time": "2022-12-08T08:19:59.887Z"
   },
   {
    "duration": 16,
    "start_time": "2022-12-08T08:19:59.915Z"
   },
   {
    "duration": 5,
    "start_time": "2022-12-08T08:19:59.934Z"
   },
   {
    "duration": 38,
    "start_time": "2022-12-08T08:19:59.940Z"
   },
   {
    "duration": 9,
    "start_time": "2022-12-08T08:19:59.980Z"
   },
   {
    "duration": 20,
    "start_time": "2022-12-08T08:19:59.990Z"
   },
   {
    "duration": 31,
    "start_time": "2022-12-08T08:20:00.012Z"
   },
   {
    "duration": 41,
    "start_time": "2022-12-08T08:20:00.045Z"
   },
   {
    "duration": 38,
    "start_time": "2022-12-08T08:20:00.088Z"
   },
   {
    "duration": 7,
    "start_time": "2022-12-08T08:20:00.128Z"
   },
   {
    "duration": 51,
    "start_time": "2022-12-08T08:20:00.136Z"
   },
   {
    "duration": 104,
    "start_time": "2022-12-08T08:20:00.189Z"
   },
   {
    "duration": 59,
    "start_time": "2022-12-08T08:20:00.295Z"
   },
   {
    "duration": 42,
    "start_time": "2022-12-08T08:20:00.356Z"
   },
   {
    "duration": 64,
    "start_time": "2022-12-08T08:20:00.400Z"
   },
   {
    "duration": 56,
    "start_time": "2022-12-08T08:20:00.465Z"
   },
   {
    "duration": 58,
    "start_time": "2022-12-08T08:20:00.523Z"
   },
   {
    "duration": 42,
    "start_time": "2022-12-08T08:20:00.583Z"
   },
   {
    "duration": 59,
    "start_time": "2022-12-08T08:20:00.627Z"
   },
   {
    "duration": 1236,
    "start_time": "2022-12-08T08:20:00.688Z"
   },
   {
    "duration": 293,
    "start_time": "2022-12-08T08:20:01.927Z"
   },
   {
    "duration": 296,
    "start_time": "2022-12-08T08:20:02.222Z"
   },
   {
    "duration": 287,
    "start_time": "2022-12-08T08:20:02.519Z"
   },
   {
    "duration": 28,
    "start_time": "2022-12-08T08:20:02.807Z"
   },
   {
    "duration": 6,
    "start_time": "2022-12-08T08:20:02.837Z"
   },
   {
    "duration": 16,
    "start_time": "2022-12-08T08:20:02.897Z"
   },
   {
    "duration": 23,
    "start_time": "2022-12-08T08:20:02.915Z"
   },
   {
    "duration": 11,
    "start_time": "2022-12-08T08:20:02.940Z"
   },
   {
    "duration": 196,
    "start_time": "2022-12-08T08:20:02.953Z"
   }
  ],
  "colab": {
   "provenance": [],
   "toc_visible": true
  },
  "kernelspec": {
   "display_name": "Python 3 (ipykernel)",
   "language": "python",
   "name": "python3"
  },
  "language_info": {
   "codemirror_mode": {
    "name": "ipython",
    "version": 3
   },
   "file_extension": ".py",
   "mimetype": "text/x-python",
   "name": "python",
   "nbconvert_exporter": "python",
   "pygments_lexer": "ipython3",
   "version": "3.9.18"
  },
  "toc": {
   "base_numbering": 1,
   "nav_menu": {},
   "number_sections": true,
   "sideBar": true,
   "skip_h1_title": true,
   "title_cell": "Table of Contents",
   "title_sidebar": "Contents",
   "toc_cell": false,
   "toc_position": {
    "height": "calc(100% - 180px)",
    "left": "10px",
    "top": "150px",
    "width": "165px"
   },
   "toc_section_display": true,
   "toc_window_display": true
  }
 },
 "nbformat": 4,
 "nbformat_minor": 5
}
